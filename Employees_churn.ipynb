{
  "nbformat": 4,
  "nbformat_minor": 0,
  "metadata": {
    "colab": {
      "name": "Employees churn.ipynb",
      "provenance": []
    },
    "kernelspec": {
      "name": "python3",
      "display_name": "Python 3"
    },
    "language_info": {
      "name": "python"
    }
  },
  "cells": [
    {
      "cell_type": "code",
      "metadata": {
        "id": "zq-8-C8eed5R"
      },
      "source": [
        "import pandas as pd\n",
        "https://docs.google.com/spreadsheets/d/1OdjccfGlv3lsuiWgIAHbE8id91FpVaU2EsaZo5kknaA/edit?usp=sharing"
      ],
      "execution_count": 2,
      "outputs": []
    },
    {
      "cell_type": "code",
      "metadata": {
        "id": "amQW7dmnkS_d"
      },
      "source": [
        "\n",
        "from io import BytesIO\n",
        "import requests\n",
        "spreadsheet_id = '1OdjccfGlv3lsuiWgIAHbE8id91FpVaU2EsaZo5kknaA'\n",
        "file_name = 'https://docs.google.com/spreadsheets/d/{}/export?format=csv'.format(spreadsheet_id)\n",
        "r = requests.get(file_name)\n",
        "train = pd.read_csv(BytesIO(r.content))\n"
      ],
      "execution_count": 5,
      "outputs": []
    },
    {
      "cell_type": "code",
      "metadata": {
        "colab": {
          "base_uri": "https://localhost:8080/"
        },
        "id": "eQ_ClVDDlgkf",
        "outputId": "28032429-acd4-4c12-f8a7-08820396d85e"
      },
      "source": [
        "train.info()"
      ],
      "execution_count": 6,
      "outputs": [
        {
          "output_type": "stream",
          "text": [
            "<class 'pandas.core.frame.DataFrame'>\n",
            "RangeIndex: 19104 entries, 0 to 19103\n",
            "Data columns (total 13 columns):\n",
            " #   Column                Non-Null Count  Dtype \n",
            "---  ------                --------------  ----- \n",
            " 0   MMM-YY                19104 non-null  object\n",
            " 1   Emp_ID                19104 non-null  int64 \n",
            " 2   Age                   19104 non-null  int64 \n",
            " 3   Gender                19104 non-null  object\n",
            " 4   City                  19104 non-null  object\n",
            " 5   Education_Level       19104 non-null  object\n",
            " 6   Salary                19104 non-null  int64 \n",
            " 7   Dateofjoining         19104 non-null  object\n",
            " 8   LastWorkingDate       1616 non-null   object\n",
            " 9   Joining Designation   19104 non-null  int64 \n",
            " 10  Designation           19104 non-null  int64 \n",
            " 11  Total Business Value  19104 non-null  int64 \n",
            " 12  Quarterly Rating      19104 non-null  int64 \n",
            "dtypes: int64(7), object(6)\n",
            "memory usage: 1.9+ MB\n"
          ],
          "name": "stdout"
        }
      ]
    },
    {
      "cell_type": "code",
      "metadata": {
        "id": "QTNumWUBlxQy"
      },
      "source": [
        "def get_info(df):\n",
        "\n",
        "    print(\"Head:\")\n",
        "    display(df.head())\n",
        "    print()\n",
        "    \n",
        "    print(\"Info:\")\n",
        "    display(df.info())\n",
        "    print()\n",
        "    \n",
        "    print(\"Description of quantitative parameters:\")\n",
        "    display(df.describe())\n",
        "    print()\n",
        "    \n",
        "    print(\"Description of categorical parameters:\")\n",
        "    display(df.describe(include='object'))\n",
        "    print()\n",
        "    \n",
        "    print(\"Columns with NaN values:\")\n",
        "    display(df.isna().sum())\n",
        "    print()\n",
        "    \n",
        "    print(\"Shape:\")\n",
        "    display(df.shape)\n",
        "    print()\n",
        "    \n",
        "    print(\"Number of duplicated rows:\")\n",
        "    display(df.duplicated().sum())  "
      ],
      "execution_count": 8,
      "outputs": []
    },
    {
      "cell_type": "code",
      "metadata": {
        "colab": {
          "base_uri": "https://localhost:8080/",
          "height": 1000
        },
        "id": "c7M2iRSHnBke",
        "outputId": "aa1776d2-6a6c-492f-a47e-382df41fbed3"
      },
      "source": [
        "get_info(train)"
      ],
      "execution_count": 9,
      "outputs": [
        {
          "output_type": "stream",
          "text": [
            "Head:\n"
          ],
          "name": "stdout"
        },
        {
          "output_type": "display_data",
          "data": {
            "text/html": [
              "<div>\n",
              "<style scoped>\n",
              "    .dataframe tbody tr th:only-of-type {\n",
              "        vertical-align: middle;\n",
              "    }\n",
              "\n",
              "    .dataframe tbody tr th {\n",
              "        vertical-align: top;\n",
              "    }\n",
              "\n",
              "    .dataframe thead th {\n",
              "        text-align: right;\n",
              "    }\n",
              "</style>\n",
              "<table border=\"1\" class=\"dataframe\">\n",
              "  <thead>\n",
              "    <tr style=\"text-align: right;\">\n",
              "      <th></th>\n",
              "      <th>MMM-YY</th>\n",
              "      <th>Emp_ID</th>\n",
              "      <th>Age</th>\n",
              "      <th>Gender</th>\n",
              "      <th>City</th>\n",
              "      <th>Education_Level</th>\n",
              "      <th>Salary</th>\n",
              "      <th>Dateofjoining</th>\n",
              "      <th>LastWorkingDate</th>\n",
              "      <th>Joining Designation</th>\n",
              "      <th>Designation</th>\n",
              "      <th>Total Business Value</th>\n",
              "      <th>Quarterly Rating</th>\n",
              "    </tr>\n",
              "  </thead>\n",
              "  <tbody>\n",
              "    <tr>\n",
              "      <th>0</th>\n",
              "      <td>2016-01-01</td>\n",
              "      <td>1</td>\n",
              "      <td>28</td>\n",
              "      <td>Male</td>\n",
              "      <td>C23</td>\n",
              "      <td>Master</td>\n",
              "      <td>57387</td>\n",
              "      <td>2015-12-24</td>\n",
              "      <td>NaN</td>\n",
              "      <td>1</td>\n",
              "      <td>1</td>\n",
              "      <td>2381060</td>\n",
              "      <td>2</td>\n",
              "    </tr>\n",
              "    <tr>\n",
              "      <th>1</th>\n",
              "      <td>2016-02-01</td>\n",
              "      <td>1</td>\n",
              "      <td>28</td>\n",
              "      <td>Male</td>\n",
              "      <td>C23</td>\n",
              "      <td>Master</td>\n",
              "      <td>57387</td>\n",
              "      <td>2015-12-24</td>\n",
              "      <td>NaN</td>\n",
              "      <td>1</td>\n",
              "      <td>1</td>\n",
              "      <td>-665480</td>\n",
              "      <td>2</td>\n",
              "    </tr>\n",
              "    <tr>\n",
              "      <th>2</th>\n",
              "      <td>2016-03-01</td>\n",
              "      <td>1</td>\n",
              "      <td>28</td>\n",
              "      <td>Male</td>\n",
              "      <td>C23</td>\n",
              "      <td>Master</td>\n",
              "      <td>57387</td>\n",
              "      <td>2015-12-24</td>\n",
              "      <td>2016-03-11</td>\n",
              "      <td>1</td>\n",
              "      <td>1</td>\n",
              "      <td>0</td>\n",
              "      <td>2</td>\n",
              "    </tr>\n",
              "    <tr>\n",
              "      <th>3</th>\n",
              "      <td>2017-11-01</td>\n",
              "      <td>2</td>\n",
              "      <td>31</td>\n",
              "      <td>Male</td>\n",
              "      <td>C7</td>\n",
              "      <td>Master</td>\n",
              "      <td>67016</td>\n",
              "      <td>2017-11-06</td>\n",
              "      <td>NaN</td>\n",
              "      <td>2</td>\n",
              "      <td>2</td>\n",
              "      <td>0</td>\n",
              "      <td>1</td>\n",
              "    </tr>\n",
              "    <tr>\n",
              "      <th>4</th>\n",
              "      <td>2017-12-01</td>\n",
              "      <td>2</td>\n",
              "      <td>31</td>\n",
              "      <td>Male</td>\n",
              "      <td>C7</td>\n",
              "      <td>Master</td>\n",
              "      <td>67016</td>\n",
              "      <td>2017-11-06</td>\n",
              "      <td>NaN</td>\n",
              "      <td>2</td>\n",
              "      <td>2</td>\n",
              "      <td>0</td>\n",
              "      <td>1</td>\n",
              "    </tr>\n",
              "  </tbody>\n",
              "</table>\n",
              "</div>"
            ],
            "text/plain": [
              "       MMM-YY  Emp_ID  Age  ... Designation Total Business Value Quarterly Rating\n",
              "0  2016-01-01       1   28  ...           1              2381060                2\n",
              "1  2016-02-01       1   28  ...           1              -665480                2\n",
              "2  2016-03-01       1   28  ...           1                    0                2\n",
              "3  2017-11-01       2   31  ...           2                    0                1\n",
              "4  2017-12-01       2   31  ...           2                    0                1\n",
              "\n",
              "[5 rows x 13 columns]"
            ]
          },
          "metadata": {
            "tags": []
          }
        },
        {
          "output_type": "stream",
          "text": [
            "\n",
            "Info:\n",
            "<class 'pandas.core.frame.DataFrame'>\n",
            "RangeIndex: 19104 entries, 0 to 19103\n",
            "Data columns (total 13 columns):\n",
            " #   Column                Non-Null Count  Dtype \n",
            "---  ------                --------------  ----- \n",
            " 0   MMM-YY                19104 non-null  object\n",
            " 1   Emp_ID                19104 non-null  int64 \n",
            " 2   Age                   19104 non-null  int64 \n",
            " 3   Gender                19104 non-null  object\n",
            " 4   City                  19104 non-null  object\n",
            " 5   Education_Level       19104 non-null  object\n",
            " 6   Salary                19104 non-null  int64 \n",
            " 7   Dateofjoining         19104 non-null  object\n",
            " 8   LastWorkingDate       1616 non-null   object\n",
            " 9   Joining Designation   19104 non-null  int64 \n",
            " 10  Designation           19104 non-null  int64 \n",
            " 11  Total Business Value  19104 non-null  int64 \n",
            " 12  Quarterly Rating      19104 non-null  int64 \n",
            "dtypes: int64(7), object(6)\n",
            "memory usage: 1.9+ MB\n"
          ],
          "name": "stdout"
        },
        {
          "output_type": "display_data",
          "data": {
            "text/plain": [
              "None"
            ]
          },
          "metadata": {
            "tags": []
          }
        },
        {
          "output_type": "stream",
          "text": [
            "\n",
            "Description of quantitative parameters:\n"
          ],
          "name": "stdout"
        },
        {
          "output_type": "display_data",
          "data": {
            "text/html": [
              "<div>\n",
              "<style scoped>\n",
              "    .dataframe tbody tr th:only-of-type {\n",
              "        vertical-align: middle;\n",
              "    }\n",
              "\n",
              "    .dataframe tbody tr th {\n",
              "        vertical-align: top;\n",
              "    }\n",
              "\n",
              "    .dataframe thead th {\n",
              "        text-align: right;\n",
              "    }\n",
              "</style>\n",
              "<table border=\"1\" class=\"dataframe\">\n",
              "  <thead>\n",
              "    <tr style=\"text-align: right;\">\n",
              "      <th></th>\n",
              "      <th>Emp_ID</th>\n",
              "      <th>Age</th>\n",
              "      <th>Salary</th>\n",
              "      <th>Joining Designation</th>\n",
              "      <th>Designation</th>\n",
              "      <th>Total Business Value</th>\n",
              "      <th>Quarterly Rating</th>\n",
              "    </tr>\n",
              "  </thead>\n",
              "  <tbody>\n",
              "    <tr>\n",
              "      <th>count</th>\n",
              "      <td>19104.000000</td>\n",
              "      <td>19104.000000</td>\n",
              "      <td>19104.000000</td>\n",
              "      <td>19104.000000</td>\n",
              "      <td>19104.000000</td>\n",
              "      <td>1.910400e+04</td>\n",
              "      <td>19104.000000</td>\n",
              "    </tr>\n",
              "    <tr>\n",
              "      <th>mean</th>\n",
              "      <td>1415.591133</td>\n",
              "      <td>34.650283</td>\n",
              "      <td>65652.025126</td>\n",
              "      <td>1.690536</td>\n",
              "      <td>2.252670</td>\n",
              "      <td>5.716621e+05</td>\n",
              "      <td>2.008899</td>\n",
              "    </tr>\n",
              "    <tr>\n",
              "      <th>std</th>\n",
              "      <td>810.705321</td>\n",
              "      <td>6.264471</td>\n",
              "      <td>30914.515344</td>\n",
              "      <td>0.836984</td>\n",
              "      <td>1.026512</td>\n",
              "      <td>1.128312e+06</td>\n",
              "      <td>1.009832</td>\n",
              "    </tr>\n",
              "    <tr>\n",
              "      <th>min</th>\n",
              "      <td>1.000000</td>\n",
              "      <td>21.000000</td>\n",
              "      <td>10747.000000</td>\n",
              "      <td>1.000000</td>\n",
              "      <td>1.000000</td>\n",
              "      <td>-6.000000e+06</td>\n",
              "      <td>1.000000</td>\n",
              "    </tr>\n",
              "    <tr>\n",
              "      <th>25%</th>\n",
              "      <td>710.000000</td>\n",
              "      <td>30.000000</td>\n",
              "      <td>42383.000000</td>\n",
              "      <td>1.000000</td>\n",
              "      <td>1.000000</td>\n",
              "      <td>0.000000e+00</td>\n",
              "      <td>1.000000</td>\n",
              "    </tr>\n",
              "    <tr>\n",
              "      <th>50%</th>\n",
              "      <td>1417.000000</td>\n",
              "      <td>34.000000</td>\n",
              "      <td>60087.000000</td>\n",
              "      <td>1.000000</td>\n",
              "      <td>2.000000</td>\n",
              "      <td>2.500000e+05</td>\n",
              "      <td>2.000000</td>\n",
              "    </tr>\n",
              "    <tr>\n",
              "      <th>75%</th>\n",
              "      <td>2137.000000</td>\n",
              "      <td>39.000000</td>\n",
              "      <td>83969.000000</td>\n",
              "      <td>2.000000</td>\n",
              "      <td>3.000000</td>\n",
              "      <td>6.997000e+05</td>\n",
              "      <td>3.000000</td>\n",
              "    </tr>\n",
              "    <tr>\n",
              "      <th>max</th>\n",
              "      <td>2788.000000</td>\n",
              "      <td>58.000000</td>\n",
              "      <td>188418.000000</td>\n",
              "      <td>5.000000</td>\n",
              "      <td>5.000000</td>\n",
              "      <td>3.374772e+07</td>\n",
              "      <td>4.000000</td>\n",
              "    </tr>\n",
              "  </tbody>\n",
              "</table>\n",
              "</div>"
            ],
            "text/plain": [
              "             Emp_ID           Age  ...  Total Business Value  Quarterly Rating\n",
              "count  19104.000000  19104.000000  ...          1.910400e+04      19104.000000\n",
              "mean    1415.591133     34.650283  ...          5.716621e+05          2.008899\n",
              "std      810.705321      6.264471  ...          1.128312e+06          1.009832\n",
              "min        1.000000     21.000000  ...         -6.000000e+06          1.000000\n",
              "25%      710.000000     30.000000  ...          0.000000e+00          1.000000\n",
              "50%     1417.000000     34.000000  ...          2.500000e+05          2.000000\n",
              "75%     2137.000000     39.000000  ...          6.997000e+05          3.000000\n",
              "max     2788.000000     58.000000  ...          3.374772e+07          4.000000\n",
              "\n",
              "[8 rows x 7 columns]"
            ]
          },
          "metadata": {
            "tags": []
          }
        },
        {
          "output_type": "stream",
          "text": [
            "\n",
            "Description of categorical parameters:\n"
          ],
          "name": "stdout"
        },
        {
          "output_type": "display_data",
          "data": {
            "text/html": [
              "<div>\n",
              "<style scoped>\n",
              "    .dataframe tbody tr th:only-of-type {\n",
              "        vertical-align: middle;\n",
              "    }\n",
              "\n",
              "    .dataframe tbody tr th {\n",
              "        vertical-align: top;\n",
              "    }\n",
              "\n",
              "    .dataframe thead th {\n",
              "        text-align: right;\n",
              "    }\n",
              "</style>\n",
              "<table border=\"1\" class=\"dataframe\">\n",
              "  <thead>\n",
              "    <tr style=\"text-align: right;\">\n",
              "      <th></th>\n",
              "      <th>MMM-YY</th>\n",
              "      <th>Gender</th>\n",
              "      <th>City</th>\n",
              "      <th>Education_Level</th>\n",
              "      <th>Dateofjoining</th>\n",
              "      <th>LastWorkingDate</th>\n",
              "    </tr>\n",
              "  </thead>\n",
              "  <tbody>\n",
              "    <tr>\n",
              "      <th>count</th>\n",
              "      <td>19104</td>\n",
              "      <td>19104</td>\n",
              "      <td>19104</td>\n",
              "      <td>19104</td>\n",
              "      <td>19104</td>\n",
              "      <td>1616</td>\n",
              "    </tr>\n",
              "    <tr>\n",
              "      <th>unique</th>\n",
              "      <td>24</td>\n",
              "      <td>2</td>\n",
              "      <td>29</td>\n",
              "      <td>3</td>\n",
              "      <td>869</td>\n",
              "      <td>493</td>\n",
              "    </tr>\n",
              "    <tr>\n",
              "      <th>top</th>\n",
              "      <td>2016-01-01</td>\n",
              "      <td>Male</td>\n",
              "      <td>C20</td>\n",
              "      <td>Bachelor</td>\n",
              "      <td>2012-07-23</td>\n",
              "      <td>2017-07-29</td>\n",
              "    </tr>\n",
              "    <tr>\n",
              "      <th>freq</th>\n",
              "      <td>1022</td>\n",
              "      <td>11103</td>\n",
              "      <td>1008</td>\n",
              "      <td>6864</td>\n",
              "      <td>192</td>\n",
              "      <td>70</td>\n",
              "    </tr>\n",
              "  </tbody>\n",
              "</table>\n",
              "</div>"
            ],
            "text/plain": [
              "            MMM-YY Gender   City Education_Level Dateofjoining LastWorkingDate\n",
              "count        19104  19104  19104           19104         19104            1616\n",
              "unique          24      2     29               3           869             493\n",
              "top     2016-01-01   Male    C20        Bachelor    2012-07-23      2017-07-29\n",
              "freq          1022  11103   1008            6864           192              70"
            ]
          },
          "metadata": {
            "tags": []
          }
        },
        {
          "output_type": "stream",
          "text": [
            "\n",
            "Columns with NaN values:\n"
          ],
          "name": "stdout"
        },
        {
          "output_type": "display_data",
          "data": {
            "text/plain": [
              "MMM-YY                      0\n",
              "Emp_ID                      0\n",
              "Age                         0\n",
              "Gender                      0\n",
              "City                        0\n",
              "Education_Level             0\n",
              "Salary                      0\n",
              "Dateofjoining               0\n",
              "LastWorkingDate         17488\n",
              "Joining Designation         0\n",
              "Designation                 0\n",
              "Total Business Value        0\n",
              "Quarterly Rating            0\n",
              "dtype: int64"
            ]
          },
          "metadata": {
            "tags": []
          }
        },
        {
          "output_type": "stream",
          "text": [
            "\n",
            "Shape:\n"
          ],
          "name": "stdout"
        },
        {
          "output_type": "display_data",
          "data": {
            "text/plain": [
              "(19104, 13)"
            ]
          },
          "metadata": {
            "tags": []
          }
        },
        {
          "output_type": "stream",
          "text": [
            "\n",
            "Number of duplicated rows:\n"
          ],
          "name": "stdout"
        },
        {
          "output_type": "display_data",
          "data": {
            "text/plain": [
              "0"
            ]
          },
          "metadata": {
            "tags": []
          }
        }
      ]
    },
    {
      "cell_type": "code",
      "metadata": {
        "id": "FRAUNyrInGPR"
      },
      "source": [
        ""
      ],
      "execution_count": null,
      "outputs": []
    }
  ]
}