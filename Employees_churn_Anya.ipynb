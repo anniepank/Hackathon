{
 "cells": [
  {
   "cell_type": "code",
   "execution_count": 27,
   "metadata": {},
   "outputs": [],
   "source": [
    "import numpy as np\n",
    "import pandas as pd\n",
    "import math"
   ]
  },
  {
   "cell_type": "code",
   "execution_count": 5,
   "metadata": {},
   "outputs": [],
   "source": [
    "from io import BytesIO\n",
    "import requests\n",
    "spreadsheet_id = '1OdjccfGlv3lsuiWgIAHbE8id91FpVaU2EsaZo5kknaA'\n",
    "file_name = 'https://docs.google.com/spreadsheets/d/{}/export?format=csv'.format(spreadsheet_id)\n",
    "r = requests.get(file_name)\n",
    "train = pd.read_csv(BytesIO(r.content))"
   ]
  },
  {
   "cell_type": "code",
   "execution_count": 6,
   "metadata": {},
   "outputs": [
    {
     "name": "stdout",
     "output_type": "stream",
     "text": [
      "<class 'pandas.core.frame.DataFrame'>\n",
      "RangeIndex: 19104 entries, 0 to 19103\n",
      "Data columns (total 13 columns):\n",
      " #   Column                Non-Null Count  Dtype \n",
      "---  ------                --------------  ----- \n",
      " 0   MMM-YY                19104 non-null  object\n",
      " 1   Emp_ID                19104 non-null  int64 \n",
      " 2   Age                   19104 non-null  int64 \n",
      " 3   Gender                19104 non-null  object\n",
      " 4   City                  19104 non-null  object\n",
      " 5   Education_Level       19104 non-null  object\n",
      " 6   Salary                19104 non-null  int64 \n",
      " 7   Dateofjoining         19104 non-null  object\n",
      " 8   LastWorkingDate       1616 non-null   object\n",
      " 9   Joining Designation   19104 non-null  int64 \n",
      " 10  Designation           19104 non-null  int64 \n",
      " 11  Total Business Value  19104 non-null  int64 \n",
      " 12  Quarterly Rating      19104 non-null  int64 \n",
      "dtypes: int64(7), object(6)\n",
      "memory usage: 1.9+ MB\n"
     ]
    }
   ],
   "source": [
    "train.info()"
   ]
  },
  {
   "cell_type": "code",
   "execution_count": 7,
   "metadata": {},
   "outputs": [],
   "source": [
    "def get_info(df):\n",
    "\n",
    "    print(\"Head:\")\n",
    "    display(df.head())\n",
    "    print()\n",
    "    \n",
    "    print(\"Info:\")\n",
    "    display(df.info())\n",
    "    print()\n",
    "    \n",
    "    print(\"Description of quantitative parameters:\")\n",
    "    display(df.describe())\n",
    "    print()\n",
    "    \n",
    "    print(\"Description of categorical parameters:\")\n",
    "    display(df.describe(include='object'))\n",
    "    print()\n",
    "    \n",
    "    print(\"Columns with NaN values:\")\n",
    "    display(df.isna().sum())\n",
    "    print()\n",
    "    \n",
    "    print(\"Shape:\")\n",
    "    display(df.shape)\n",
    "    print()\n",
    "    \n",
    "    print(\"Number of duplicated rows:\")\n",
    "    display(df.duplicated().sum())  "
   ]
  },
  {
   "cell_type": "code",
   "execution_count": 8,
   "metadata": {},
   "outputs": [
    {
     "name": "stdout",
     "output_type": "stream",
     "text": [
      "Head:\n"
     ]
    },
    {
     "data": {
      "text/html": [
       "<div>\n",
       "<style scoped>\n",
       "    .dataframe tbody tr th:only-of-type {\n",
       "        vertical-align: middle;\n",
       "    }\n",
       "\n",
       "    .dataframe tbody tr th {\n",
       "        vertical-align: top;\n",
       "    }\n",
       "\n",
       "    .dataframe thead th {\n",
       "        text-align: right;\n",
       "    }\n",
       "</style>\n",
       "<table border=\"1\" class=\"dataframe\">\n",
       "  <thead>\n",
       "    <tr style=\"text-align: right;\">\n",
       "      <th></th>\n",
       "      <th>MMM-YY</th>\n",
       "      <th>Emp_ID</th>\n",
       "      <th>Age</th>\n",
       "      <th>Gender</th>\n",
       "      <th>City</th>\n",
       "      <th>Education_Level</th>\n",
       "      <th>Salary</th>\n",
       "      <th>Dateofjoining</th>\n",
       "      <th>LastWorkingDate</th>\n",
       "      <th>Joining Designation</th>\n",
       "      <th>Designation</th>\n",
       "      <th>Total Business Value</th>\n",
       "      <th>Quarterly Rating</th>\n",
       "    </tr>\n",
       "  </thead>\n",
       "  <tbody>\n",
       "    <tr>\n",
       "      <th>0</th>\n",
       "      <td>2016-01-01</td>\n",
       "      <td>1</td>\n",
       "      <td>28</td>\n",
       "      <td>Male</td>\n",
       "      <td>C23</td>\n",
       "      <td>Master</td>\n",
       "      <td>57387</td>\n",
       "      <td>2015-12-24</td>\n",
       "      <td>NaN</td>\n",
       "      <td>1</td>\n",
       "      <td>1</td>\n",
       "      <td>2381060</td>\n",
       "      <td>2</td>\n",
       "    </tr>\n",
       "    <tr>\n",
       "      <th>1</th>\n",
       "      <td>2016-02-01</td>\n",
       "      <td>1</td>\n",
       "      <td>28</td>\n",
       "      <td>Male</td>\n",
       "      <td>C23</td>\n",
       "      <td>Master</td>\n",
       "      <td>57387</td>\n",
       "      <td>2015-12-24</td>\n",
       "      <td>NaN</td>\n",
       "      <td>1</td>\n",
       "      <td>1</td>\n",
       "      <td>-665480</td>\n",
       "      <td>2</td>\n",
       "    </tr>\n",
       "    <tr>\n",
       "      <th>2</th>\n",
       "      <td>2016-03-01</td>\n",
       "      <td>1</td>\n",
       "      <td>28</td>\n",
       "      <td>Male</td>\n",
       "      <td>C23</td>\n",
       "      <td>Master</td>\n",
       "      <td>57387</td>\n",
       "      <td>2015-12-24</td>\n",
       "      <td>2016-03-11</td>\n",
       "      <td>1</td>\n",
       "      <td>1</td>\n",
       "      <td>0</td>\n",
       "      <td>2</td>\n",
       "    </tr>\n",
       "    <tr>\n",
       "      <th>3</th>\n",
       "      <td>2017-11-01</td>\n",
       "      <td>2</td>\n",
       "      <td>31</td>\n",
       "      <td>Male</td>\n",
       "      <td>C7</td>\n",
       "      <td>Master</td>\n",
       "      <td>67016</td>\n",
       "      <td>2017-11-06</td>\n",
       "      <td>NaN</td>\n",
       "      <td>2</td>\n",
       "      <td>2</td>\n",
       "      <td>0</td>\n",
       "      <td>1</td>\n",
       "    </tr>\n",
       "    <tr>\n",
       "      <th>4</th>\n",
       "      <td>2017-12-01</td>\n",
       "      <td>2</td>\n",
       "      <td>31</td>\n",
       "      <td>Male</td>\n",
       "      <td>C7</td>\n",
       "      <td>Master</td>\n",
       "      <td>67016</td>\n",
       "      <td>2017-11-06</td>\n",
       "      <td>NaN</td>\n",
       "      <td>2</td>\n",
       "      <td>2</td>\n",
       "      <td>0</td>\n",
       "      <td>1</td>\n",
       "    </tr>\n",
       "  </tbody>\n",
       "</table>\n",
       "</div>"
      ],
      "text/plain": [
       "       MMM-YY  Emp_ID  Age Gender City Education_Level  Salary Dateofjoining  \\\n",
       "0  2016-01-01       1   28   Male  C23          Master   57387    2015-12-24   \n",
       "1  2016-02-01       1   28   Male  C23          Master   57387    2015-12-24   \n",
       "2  2016-03-01       1   28   Male  C23          Master   57387    2015-12-24   \n",
       "3  2017-11-01       2   31   Male   C7          Master   67016    2017-11-06   \n",
       "4  2017-12-01       2   31   Male   C7          Master   67016    2017-11-06   \n",
       "\n",
       "  LastWorkingDate  Joining Designation  Designation  Total Business Value  \\\n",
       "0             NaN                    1            1               2381060   \n",
       "1             NaN                    1            1               -665480   \n",
       "2      2016-03-11                    1            1                     0   \n",
       "3             NaN                    2            2                     0   \n",
       "4             NaN                    2            2                     0   \n",
       "\n",
       "   Quarterly Rating  \n",
       "0                 2  \n",
       "1                 2  \n",
       "2                 2  \n",
       "3                 1  \n",
       "4                 1  "
      ]
     },
     "metadata": {},
     "output_type": "display_data"
    },
    {
     "name": "stdout",
     "output_type": "stream",
     "text": [
      "\n",
      "Info:\n",
      "<class 'pandas.core.frame.DataFrame'>\n",
      "RangeIndex: 19104 entries, 0 to 19103\n",
      "Data columns (total 13 columns):\n",
      " #   Column                Non-Null Count  Dtype \n",
      "---  ------                --------------  ----- \n",
      " 0   MMM-YY                19104 non-null  object\n",
      " 1   Emp_ID                19104 non-null  int64 \n",
      " 2   Age                   19104 non-null  int64 \n",
      " 3   Gender                19104 non-null  object\n",
      " 4   City                  19104 non-null  object\n",
      " 5   Education_Level       19104 non-null  object\n",
      " 6   Salary                19104 non-null  int64 \n",
      " 7   Dateofjoining         19104 non-null  object\n",
      " 8   LastWorkingDate       1616 non-null   object\n",
      " 9   Joining Designation   19104 non-null  int64 \n",
      " 10  Designation           19104 non-null  int64 \n",
      " 11  Total Business Value  19104 non-null  int64 \n",
      " 12  Quarterly Rating      19104 non-null  int64 \n",
      "dtypes: int64(7), object(6)\n",
      "memory usage: 1.9+ MB\n"
     ]
    },
    {
     "data": {
      "text/plain": [
       "None"
      ]
     },
     "metadata": {},
     "output_type": "display_data"
    },
    {
     "name": "stdout",
     "output_type": "stream",
     "text": [
      "\n",
      "Description of quantitative parameters:\n"
     ]
    },
    {
     "data": {
      "text/html": [
       "<div>\n",
       "<style scoped>\n",
       "    .dataframe tbody tr th:only-of-type {\n",
       "        vertical-align: middle;\n",
       "    }\n",
       "\n",
       "    .dataframe tbody tr th {\n",
       "        vertical-align: top;\n",
       "    }\n",
       "\n",
       "    .dataframe thead th {\n",
       "        text-align: right;\n",
       "    }\n",
       "</style>\n",
       "<table border=\"1\" class=\"dataframe\">\n",
       "  <thead>\n",
       "    <tr style=\"text-align: right;\">\n",
       "      <th></th>\n",
       "      <th>Emp_ID</th>\n",
       "      <th>Age</th>\n",
       "      <th>Salary</th>\n",
       "      <th>Joining Designation</th>\n",
       "      <th>Designation</th>\n",
       "      <th>Total Business Value</th>\n",
       "      <th>Quarterly Rating</th>\n",
       "    </tr>\n",
       "  </thead>\n",
       "  <tbody>\n",
       "    <tr>\n",
       "      <th>count</th>\n",
       "      <td>19104.000000</td>\n",
       "      <td>19104.000000</td>\n",
       "      <td>19104.000000</td>\n",
       "      <td>19104.000000</td>\n",
       "      <td>19104.000000</td>\n",
       "      <td>1.910400e+04</td>\n",
       "      <td>19104.000000</td>\n",
       "    </tr>\n",
       "    <tr>\n",
       "      <th>mean</th>\n",
       "      <td>1415.591133</td>\n",
       "      <td>34.650283</td>\n",
       "      <td>65652.025126</td>\n",
       "      <td>1.690536</td>\n",
       "      <td>2.252670</td>\n",
       "      <td>5.716621e+05</td>\n",
       "      <td>2.008899</td>\n",
       "    </tr>\n",
       "    <tr>\n",
       "      <th>std</th>\n",
       "      <td>810.705321</td>\n",
       "      <td>6.264471</td>\n",
       "      <td>30914.515344</td>\n",
       "      <td>0.836984</td>\n",
       "      <td>1.026512</td>\n",
       "      <td>1.128312e+06</td>\n",
       "      <td>1.009832</td>\n",
       "    </tr>\n",
       "    <tr>\n",
       "      <th>min</th>\n",
       "      <td>1.000000</td>\n",
       "      <td>21.000000</td>\n",
       "      <td>10747.000000</td>\n",
       "      <td>1.000000</td>\n",
       "      <td>1.000000</td>\n",
       "      <td>-6.000000e+06</td>\n",
       "      <td>1.000000</td>\n",
       "    </tr>\n",
       "    <tr>\n",
       "      <th>25%</th>\n",
       "      <td>710.000000</td>\n",
       "      <td>30.000000</td>\n",
       "      <td>42383.000000</td>\n",
       "      <td>1.000000</td>\n",
       "      <td>1.000000</td>\n",
       "      <td>0.000000e+00</td>\n",
       "      <td>1.000000</td>\n",
       "    </tr>\n",
       "    <tr>\n",
       "      <th>50%</th>\n",
       "      <td>1417.000000</td>\n",
       "      <td>34.000000</td>\n",
       "      <td>60087.000000</td>\n",
       "      <td>1.000000</td>\n",
       "      <td>2.000000</td>\n",
       "      <td>2.500000e+05</td>\n",
       "      <td>2.000000</td>\n",
       "    </tr>\n",
       "    <tr>\n",
       "      <th>75%</th>\n",
       "      <td>2137.000000</td>\n",
       "      <td>39.000000</td>\n",
       "      <td>83969.000000</td>\n",
       "      <td>2.000000</td>\n",
       "      <td>3.000000</td>\n",
       "      <td>6.997000e+05</td>\n",
       "      <td>3.000000</td>\n",
       "    </tr>\n",
       "    <tr>\n",
       "      <th>max</th>\n",
       "      <td>2788.000000</td>\n",
       "      <td>58.000000</td>\n",
       "      <td>188418.000000</td>\n",
       "      <td>5.000000</td>\n",
       "      <td>5.000000</td>\n",
       "      <td>3.374772e+07</td>\n",
       "      <td>4.000000</td>\n",
       "    </tr>\n",
       "  </tbody>\n",
       "</table>\n",
       "</div>"
      ],
      "text/plain": [
       "             Emp_ID           Age         Salary  Joining Designation  \\\n",
       "count  19104.000000  19104.000000   19104.000000         19104.000000   \n",
       "mean    1415.591133     34.650283   65652.025126             1.690536   \n",
       "std      810.705321      6.264471   30914.515344             0.836984   \n",
       "min        1.000000     21.000000   10747.000000             1.000000   \n",
       "25%      710.000000     30.000000   42383.000000             1.000000   \n",
       "50%     1417.000000     34.000000   60087.000000             1.000000   \n",
       "75%     2137.000000     39.000000   83969.000000             2.000000   \n",
       "max     2788.000000     58.000000  188418.000000             5.000000   \n",
       "\n",
       "        Designation  Total Business Value  Quarterly Rating  \n",
       "count  19104.000000          1.910400e+04      19104.000000  \n",
       "mean       2.252670          5.716621e+05          2.008899  \n",
       "std        1.026512          1.128312e+06          1.009832  \n",
       "min        1.000000         -6.000000e+06          1.000000  \n",
       "25%        1.000000          0.000000e+00          1.000000  \n",
       "50%        2.000000          2.500000e+05          2.000000  \n",
       "75%        3.000000          6.997000e+05          3.000000  \n",
       "max        5.000000          3.374772e+07          4.000000  "
      ]
     },
     "metadata": {},
     "output_type": "display_data"
    },
    {
     "name": "stdout",
     "output_type": "stream",
     "text": [
      "\n",
      "Description of categorical parameters:\n"
     ]
    },
    {
     "data": {
      "text/html": [
       "<div>\n",
       "<style scoped>\n",
       "    .dataframe tbody tr th:only-of-type {\n",
       "        vertical-align: middle;\n",
       "    }\n",
       "\n",
       "    .dataframe tbody tr th {\n",
       "        vertical-align: top;\n",
       "    }\n",
       "\n",
       "    .dataframe thead th {\n",
       "        text-align: right;\n",
       "    }\n",
       "</style>\n",
       "<table border=\"1\" class=\"dataframe\">\n",
       "  <thead>\n",
       "    <tr style=\"text-align: right;\">\n",
       "      <th></th>\n",
       "      <th>MMM-YY</th>\n",
       "      <th>Gender</th>\n",
       "      <th>City</th>\n",
       "      <th>Education_Level</th>\n",
       "      <th>Dateofjoining</th>\n",
       "      <th>LastWorkingDate</th>\n",
       "    </tr>\n",
       "  </thead>\n",
       "  <tbody>\n",
       "    <tr>\n",
       "      <th>count</th>\n",
       "      <td>19104</td>\n",
       "      <td>19104</td>\n",
       "      <td>19104</td>\n",
       "      <td>19104</td>\n",
       "      <td>19104</td>\n",
       "      <td>1616</td>\n",
       "    </tr>\n",
       "    <tr>\n",
       "      <th>unique</th>\n",
       "      <td>24</td>\n",
       "      <td>2</td>\n",
       "      <td>29</td>\n",
       "      <td>3</td>\n",
       "      <td>869</td>\n",
       "      <td>493</td>\n",
       "    </tr>\n",
       "    <tr>\n",
       "      <th>top</th>\n",
       "      <td>2016-01-01</td>\n",
       "      <td>Male</td>\n",
       "      <td>C20</td>\n",
       "      <td>Bachelor</td>\n",
       "      <td>2012-07-23</td>\n",
       "      <td>2017-07-29</td>\n",
       "    </tr>\n",
       "    <tr>\n",
       "      <th>freq</th>\n",
       "      <td>1022</td>\n",
       "      <td>11103</td>\n",
       "      <td>1008</td>\n",
       "      <td>6864</td>\n",
       "      <td>192</td>\n",
       "      <td>70</td>\n",
       "    </tr>\n",
       "  </tbody>\n",
       "</table>\n",
       "</div>"
      ],
      "text/plain": [
       "            MMM-YY Gender   City Education_Level Dateofjoining LastWorkingDate\n",
       "count        19104  19104  19104           19104         19104            1616\n",
       "unique          24      2     29               3           869             493\n",
       "top     2016-01-01   Male    C20        Bachelor    2012-07-23      2017-07-29\n",
       "freq          1022  11103   1008            6864           192              70"
      ]
     },
     "metadata": {},
     "output_type": "display_data"
    },
    {
     "name": "stdout",
     "output_type": "stream",
     "text": [
      "\n",
      "Columns with NaN values:\n"
     ]
    },
    {
     "data": {
      "text/plain": [
       "MMM-YY                      0\n",
       "Emp_ID                      0\n",
       "Age                         0\n",
       "Gender                      0\n",
       "City                        0\n",
       "Education_Level             0\n",
       "Salary                      0\n",
       "Dateofjoining               0\n",
       "LastWorkingDate         17488\n",
       "Joining Designation         0\n",
       "Designation                 0\n",
       "Total Business Value        0\n",
       "Quarterly Rating            0\n",
       "dtype: int64"
      ]
     },
     "metadata": {},
     "output_type": "display_data"
    },
    {
     "name": "stdout",
     "output_type": "stream",
     "text": [
      "\n",
      "Shape:\n"
     ]
    },
    {
     "data": {
      "text/plain": [
       "(19104, 13)"
      ]
     },
     "metadata": {},
     "output_type": "display_data"
    },
    {
     "name": "stdout",
     "output_type": "stream",
     "text": [
      "\n",
      "Number of duplicated rows:\n"
     ]
    },
    {
     "data": {
      "text/plain": [
       "0"
      ]
     },
     "metadata": {},
     "output_type": "display_data"
    }
   ],
   "source": [
    "get_info(train)"
   ]
  },
  {
   "cell_type": "code",
   "execution_count": 44,
   "metadata": {},
   "outputs": [],
   "source": [
    "ids = set(train['Emp_ID'])\n",
    "eployee_dfs = [train[train['Emp_ID'] == i] for i in ids]\n",
    "\n",
    "salaries_fired = {}\n",
    "salaries_not_fired = {}\n",
    "for employee_df in eployee_dfs:\n",
    "    if not employee_df['LastWorkingDate'].isnull().values.all():\n",
    "        salaries_fired[employee_df.iloc[0]['Emp_ID']] = (employee_df['Salary'].max() - employee_df['Salary'].min()) / employee_df['Salary'].min()\n",
    "    else:\n",
    "        salaries_not_fired[employee_df.iloc[0]['Emp_ID']] = (employee_df['Salary'].max() - employee_df['Salary'].min()) / employee_df['Salary'].min()\n",
    "        \n",
    "    "
   ]
  },
  {
   "cell_type": "code",
   "execution_count": 43,
   "metadata": {},
   "outputs": [
    {
     "name": "stdout",
     "output_type": "stream",
     "text": [
      "Percent of raised salaried for fired people:  0.18564356435643564\n",
      "Percent of raised salaried for not fired people:  5.359477124183006\n"
     ]
    }
   ],
   "source": [
    "print(\"Percent of raised salaries for fired people: \", len([x for x in salaries_fired if salaries_fired[x] != 0.0]) / len(salaries_fired) * 100)\n",
    "print(\"Percent of raised salaries for not fired people: \", len([x for x in salaries_not_fired if salaries_not_fired[x] != 0.0]) / len(salaries_not_fired) * 100)"
   ]
  },
  {
   "cell_type": "code",
   "execution_count": 261,
   "metadata": {},
   "outputs": [],
   "source": [
    "def extract_employee_features(df):\n",
    "    ids = set(df['Emp_ID'])\n",
    "    eployee_dfs = [df[df['Emp_ID'] == i] for i in ids]\n",
    "\n",
    "    employee_features = {}\n",
    "    for employee_df in eployee_dfs:\n",
    "        id = employee_df.iloc[0]['Emp_ID']\n",
    "        employee_features[id] = {}\n",
    "        employee_features[id]['Salary Change'] = (employee_df['Salary'].max() - employee_df['Salary'].min()) / employee_df['Salary'].min()\n",
    "        employee_features[id]['Salary changed'] = employee_features[id]['Salary Change'] != 0\n",
    "        employee_features[id]['Total Business Value All'] = employee_df['Total Business Value'].sum()\n",
    "        employee_features[id]['Overvalue'] = (employee_df['Total Business Value'] / employee_df['Salary']).mean()\n",
    "        employee_features[id]['Fired'] = employee_df.iloc[0]['Fired']\n",
    "        employee_features[id]['Emp_ID'] = employee_df.iloc[0]['Emp_ID']\n",
    "        #not employee_df['LastWorkingDate'].isnull().values.all()\n",
    "\n",
    "        last_day = [x for x in set(employee_df[employee_df['Emp_ID'] == id]['LastWorkingDate']) if not type(x) == type(float('NaN'))]\n",
    "\n",
    "        if len(last_day) == 0:\n",
    "            last_day = float('NaN')\n",
    "        else:\n",
    "            last_day = last_day[0]\n",
    "\n",
    "        # employee_features[id]['LastWorkingDate'] = last_day\n",
    "\n",
    "        join_day = employee_df[employee_df['Emp_ID'] == id]['Dateofjoining'].iloc[0]\n",
    "        employee_features[id]['Dateofjoining'] = join_day\n",
    "    return pd.DataFrame.from_dict(employee_features, orient='index')\n",
    "    \n",
    "    \n",
    "    "
   ]
  },
  {
   "cell_type": "code",
   "execution_count": null,
   "metadata": {},
   "outputs": [],
   "source": [
    "def check_feature_for_fired_not_fired(df, feature):\n",
    "    print('For fired: ', df[df['Fired'] == True][feature].mean())\n",
    "    print('For not fired: ', df[df['Fired'] == False][feature].mean())   "
   ]
  },
  {
   "cell_type": "code",
   "execution_count": 125,
   "metadata": {},
   "outputs": [
    {
     "name": "stdout",
     "output_type": "stream",
     "text": [
      "For fired:  7.998073216273239\n",
      "For not fired:  4.09988720477746\n"
     ]
    }
   ],
   "source": [
    "check_feature_for_fired_not_fired(df, 'Overvalue')"
   ]
  },
  {
   "cell_type": "code",
   "execution_count": 120,
   "metadata": {},
   "outputs": [
    {
     "name": "stdout",
     "output_type": "stream",
     "text": [
      "For fired:  9620626.31372549\n",
      "For not fired:  2203745.761138614\n"
     ]
    }
   ],
   "source": [
    "check_feature_for_fired_not_fired(df, 'Total Business Value All')"
   ]
  },
  {
   "cell_type": "code",
   "execution_count": 121,
   "metadata": {},
   "outputs": [
    {
     "data": {
      "text/plain": [
       "2203745.761138614"
      ]
     },
     "execution_count": 121,
     "metadata": {},
     "output_type": "execute_result"
    }
   ],
   "source": [
    "employee_features[employee_features['Fired'] == True]['Total Business Value All'].mean()"
   ]
  },
  {
   "cell_type": "code",
   "execution_count": 258,
   "metadata": {},
   "outputs": [],
   "source": [
    "def filter_dataset(df, date):\n",
    "    before = df[df['MMM-YY'] < date].copy()\n",
    "    print(type(before))\n",
    "    before['Fired'] = [False] * len(before)\n",
    "    \n",
    "    after = df[df['MMM-YY'] > date]\n",
    "    year, month, *rest = date.split('-')\n",
    "    year = int(year)\n",
    "    month = int(month) + 6 - 1\n",
    "    year += month // 12\n",
    "    month = month % 12 + 1\n",
    "    future_end_date = \"%04i-%02i-00\" % (year, month)\n",
    "    after = after[after['MMM-YY'] < future_end_date].copy()\n",
    "    \n",
    "    ids_before = before['Emp_ID']\n",
    "    ids_after = after['Emp_ID']\n",
    "    intersection_id = list(set(ids_before) & set(ids_after))\n",
    "    filtered = before[before['Emp_ID'].isin(intersection_id)].copy()\n",
    "    for id in intersection_id:\n",
    "        filtered.loc[filtered['Emp_ID'] == id, 'Fired'] = len(after[(after['Emp_ID'] == id) & ~(after['LastWorkingDate'].isnull())])\n",
    "    return filtered\n",
    "\n",
    "def month_year_iter( start_month, start_year, end_month, end_year ):\n",
    "    ym_start= 12*start_year + start_month - 1\n",
    "    ym_end= 12*end_year + end_month - 1\n",
    "    for ym in range( ym_start, ym_end ):\n",
    "        y, m = divmod( ym, 12 )\n",
    "        yield y, m+1\n",
    "\n",
    "def iterate_through_set(df, start_month, start_year, end_month, end_year):\n",
    "    result = []\n",
    "    for year, month in month_year_iter(start_month, start_year, end_month, end_year):\n",
    "        result.append(\n",
    "            extract_employee_features(\n",
    "                filter_dataset(df, \"%04i-%02i-00\" % (year, month))\n",
    "            )\n",
    "        )\n",
    "    return pd.concat(result, ignore_index=True)\n",
    "       "
   ]
  },
  {
   "cell_type": "code",
   "execution_count": 259,
   "metadata": {},
   "outputs": [
    {
     "name": "stdout",
     "output_type": "stream",
     "text": [
      "<class 'pandas.core.frame.DataFrame'>\n",
      "<class 'pandas.core.frame.DataFrame'>\n",
      "<class 'pandas.core.frame.DataFrame'>\n",
      "<class 'pandas.core.frame.DataFrame'>\n"
     ]
    }
   ],
   "source": [
    "filtered = iterate_through_set(train, 2, 2016, 6, 2016)"
   ]
  },
  {
   "cell_type": "code",
   "execution_count": 255,
   "metadata": {},
   "outputs": [
    {
     "data": {
      "text/plain": [
       "1448"
      ]
     },
     "execution_count": 255,
     "metadata": {},
     "output_type": "execute_result"
    }
   ],
   "source": [
    "len(filtered[filtered['Fired'] == True])"
   ]
  },
  {
   "cell_type": "code",
   "execution_count": 239,
   "metadata": {},
   "outputs": [
    {
     "data": {
      "text/plain": [
       "938"
      ]
     },
     "execution_count": 239,
     "metadata": {},
     "output_type": "execute_result"
    }
   ],
   "source": [
    "len(filtered)"
   ]
  },
  {
   "cell_type": "code",
   "execution_count": 260,
   "metadata": {},
   "outputs": [
    {
     "data": {
      "text/html": [
       "<div>\n",
       "<style scoped>\n",
       "    .dataframe tbody tr th:only-of-type {\n",
       "        vertical-align: middle;\n",
       "    }\n",
       "\n",
       "    .dataframe tbody tr th {\n",
       "        vertical-align: top;\n",
       "    }\n",
       "\n",
       "    .dataframe thead th {\n",
       "        text-align: right;\n",
       "    }\n",
       "</style>\n",
       "<table border=\"1\" class=\"dataframe\">\n",
       "  <thead>\n",
       "    <tr style=\"text-align: right;\">\n",
       "      <th></th>\n",
       "      <th>Salary Change</th>\n",
       "      <th>Salary changed</th>\n",
       "      <th>Total Business Value All</th>\n",
       "      <th>Overvalue</th>\n",
       "      <th>Fired</th>\n",
       "      <th>Emp_ID</th>\n",
       "      <th>LastWorkingDate</th>\n",
       "      <th>Dateofjoining</th>\n",
       "    </tr>\n",
       "  </thead>\n",
       "  <tbody>\n",
       "    <tr>\n",
       "      <th>0</th>\n",
       "      <td>0.0</td>\n",
       "      <td>False</td>\n",
       "      <td>2381060</td>\n",
       "      <td>41.491279</td>\n",
       "      <td>1</td>\n",
       "      <td>1</td>\n",
       "      <td>NaN</td>\n",
       "      <td>2015-12-24</td>\n",
       "    </tr>\n",
       "    <tr>\n",
       "      <th>1</th>\n",
       "      <td>0.0</td>\n",
       "      <td>False</td>\n",
       "      <td>2179960</td>\n",
       "      <td>21.607723</td>\n",
       "      <td>0</td>\n",
       "      <td>2049</td>\n",
       "      <td>NaN</td>\n",
       "      <td>2011-10-24</td>\n",
       "    </tr>\n",
       "    <tr>\n",
       "      <th>2</th>\n",
       "      <td>0.0</td>\n",
       "      <td>False</td>\n",
       "      <td>0</td>\n",
       "      <td>0.000000</td>\n",
       "      <td>1</td>\n",
       "      <td>5</td>\n",
       "      <td>NaN</td>\n",
       "      <td>2016-01-09</td>\n",
       "    </tr>\n",
       "    <tr>\n",
       "      <th>3</th>\n",
       "      <td>0.0</td>\n",
       "      <td>False</td>\n",
       "      <td>0</td>\n",
       "      <td>0.000000</td>\n",
       "      <td>0</td>\n",
       "      <td>2055</td>\n",
       "      <td>NaN</td>\n",
       "      <td>2016-01-02</td>\n",
       "    </tr>\n",
       "    <tr>\n",
       "      <th>4</th>\n",
       "      <td>0.0</td>\n",
       "      <td>False</td>\n",
       "      <td>101640</td>\n",
       "      <td>2.528484</td>\n",
       "      <td>1</td>\n",
       "      <td>2057</td>\n",
       "      <td>NaN</td>\n",
       "      <td>2015-10-30</td>\n",
       "    </tr>\n",
       "    <tr>\n",
       "      <th>...</th>\n",
       "      <td>...</td>\n",
       "      <td>...</td>\n",
       "      <td>...</td>\n",
       "      <td>...</td>\n",
       "      <td>...</td>\n",
       "      <td>...</td>\n",
       "      <td>...</td>\n",
       "      <td>...</td>\n",
       "    </tr>\n",
       "    <tr>\n",
       "      <th>3349</th>\n",
       "      <td>0.0</td>\n",
       "      <td>False</td>\n",
       "      <td>2260580</td>\n",
       "      <td>12.214334</td>\n",
       "      <td>0</td>\n",
       "      <td>2028</td>\n",
       "      <td>NaN</td>\n",
       "      <td>2015-12-22</td>\n",
       "    </tr>\n",
       "    <tr>\n",
       "      <th>3350</th>\n",
       "      <td>0.0</td>\n",
       "      <td>False</td>\n",
       "      <td>3239170</td>\n",
       "      <td>15.784506</td>\n",
       "      <td>1</td>\n",
       "      <td>2033</td>\n",
       "      <td>NaN</td>\n",
       "      <td>2015-07-31</td>\n",
       "    </tr>\n",
       "    <tr>\n",
       "      <th>3351</th>\n",
       "      <td>0.0</td>\n",
       "      <td>False</td>\n",
       "      <td>1248600</td>\n",
       "      <td>4.213290</td>\n",
       "      <td>0</td>\n",
       "      <td>2034</td>\n",
       "      <td>NaN</td>\n",
       "      <td>2015-05-14</td>\n",
       "    </tr>\n",
       "    <tr>\n",
       "      <th>3352</th>\n",
       "      <td>0.0</td>\n",
       "      <td>False</td>\n",
       "      <td>1586500</td>\n",
       "      <td>6.006648</td>\n",
       "      <td>1</td>\n",
       "      <td>2035</td>\n",
       "      <td>NaN</td>\n",
       "      <td>2015-05-22</td>\n",
       "    </tr>\n",
       "    <tr>\n",
       "      <th>3353</th>\n",
       "      <td>0.0</td>\n",
       "      <td>False</td>\n",
       "      <td>859840</td>\n",
       "      <td>10.440019</td>\n",
       "      <td>1</td>\n",
       "      <td>2040</td>\n",
       "      <td>NaN</td>\n",
       "      <td>2015-03-03</td>\n",
       "    </tr>\n",
       "  </tbody>\n",
       "</table>\n",
       "<p>3354 rows × 8 columns</p>\n",
       "</div>"
      ],
      "text/plain": [
       "      Salary Change  Salary changed  Total Business Value All  Overvalue  \\\n",
       "0               0.0           False                   2381060  41.491279   \n",
       "1               0.0           False                   2179960  21.607723   \n",
       "2               0.0           False                         0   0.000000   \n",
       "3               0.0           False                         0   0.000000   \n",
       "4               0.0           False                    101640   2.528484   \n",
       "...             ...             ...                       ...        ...   \n",
       "3349            0.0           False                   2260580  12.214334   \n",
       "3350            0.0           False                   3239170  15.784506   \n",
       "3351            0.0           False                   1248600   4.213290   \n",
       "3352            0.0           False                   1586500   6.006648   \n",
       "3353            0.0           False                    859840  10.440019   \n",
       "\n",
       "      Fired  Emp_ID  LastWorkingDate Dateofjoining  \n",
       "0         1       1              NaN    2015-12-24  \n",
       "1         0    2049              NaN    2011-10-24  \n",
       "2         1       5              NaN    2016-01-09  \n",
       "3         0    2055              NaN    2016-01-02  \n",
       "4         1    2057              NaN    2015-10-30  \n",
       "...     ...     ...              ...           ...  \n",
       "3349      0    2028              NaN    2015-12-22  \n",
       "3350      1    2033              NaN    2015-07-31  \n",
       "3351      0    2034              NaN    2015-05-14  \n",
       "3352      1    2035              NaN    2015-05-22  \n",
       "3353      1    2040              NaN    2015-03-03  \n",
       "\n",
       "[3354 rows x 8 columns]"
      ]
     },
     "execution_count": 260,
     "metadata": {},
     "output_type": "execute_result"
    }
   ],
   "source": [
    "filtered\n"
   ]
  },
  {
   "cell_type": "code",
   "execution_count": null,
   "metadata": {},
   "outputs": [],
   "source": []
  }
 ],
 "metadata": {
  "kernelspec": {
   "display_name": "Python 3",
   "language": "python",
   "name": "python3"
  },
  "language_info": {
   "codemirror_mode": {
    "name": "ipython",
    "version": 3
   },
   "file_extension": ".py",
   "mimetype": "text/x-python",
   "name": "python",
   "nbconvert_exporter": "python",
   "pygments_lexer": "ipython3",
   "version": "3.8.3"
  }
 },
 "nbformat": 4,
 "nbformat_minor": 4
}
