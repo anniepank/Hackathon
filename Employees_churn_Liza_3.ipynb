{
  "nbformat": 4,
  "nbformat_minor": 0,
  "metadata": {
    "colab": {
      "name": "Employees churn.ipynb",
      "provenance": []
    },
    "kernelspec": {
      "name": "python3",
      "display_name": "Python 3"
    },
    "language_info": {
      "name": "python"
    }
  },
  "cells": [
    {
      "cell_type": "code",
      "metadata": {
        "id": "zq-8-C8eed5R"
      },
      "source": [
        "import pandas as pd\n",
        "import matplotlib.pyplot as plt\n",
        "import numpy as np\n",
        "import seaborn as sns\n",
        "from scipy import stats as st\n",
        "from datetime import datetime as dt\n",
        "from plotly import graph_objects as go\n",
        "import plotly.express as px\n",
        "\n"
      ],
      "execution_count": 952,
      "outputs": []
    },
    {
      "cell_type": "code",
      "metadata": {
        "id": "amQW7dmnkS_d"
      },
      "source": [
        "\n",
        "from io import BytesIO\n",
        "import requests\n",
        "spreadsheet_id = '1OdjccfGlv3lsuiWgIAHbE8id91FpVaU2EsaZo5kknaA'\n",
        "file_name = 'https://docs.google.com/spreadsheets/d/{}/export?format=csv'.format(spreadsheet_id)\n",
        "r = requests.get(file_name)\n",
        "train = pd.read_csv(BytesIO(r.content))\n"
      ],
      "execution_count": 953,
      "outputs": []
    },
    {
      "cell_type": "code",
      "metadata": {
        "id": "QTNumWUBlxQy"
      },
      "source": [
        "def get_info(df):\n",
        "\n",
        "    print(\"Head:\")\n",
        "    display(df.head())\n",
        "    print()\n",
        "    \n",
        "    print(\"Info:\")\n",
        "    display(df.info())\n",
        "    print()\n",
        "    \n",
        "    print(\"Description of quantitative parameters:\")\n",
        "    display(df.describe())\n",
        "    print()\n",
        "    \n",
        "    print(\"Description of categorical parameters:\")\n",
        "    display(df.describe(include='object'))\n",
        "    print()\n",
        "    \n",
        "    print(\"Columns with NaN values:\")\n",
        "    display(df.isna().sum())\n",
        "    print()\n",
        "    \n",
        "    print(\"Shape:\")\n",
        "    display(df.shape)\n",
        "    print()\n",
        "    \n",
        "    print(\"Number of duplicated rows:\")\n",
        "    display(df.duplicated().sum())  "
      ],
      "execution_count": 954,
      "outputs": []
    },
    {
      "cell_type": "code",
      "metadata": {
        "colab": {
          "base_uri": "https://localhost:8080/",
          "height": 1000
        },
        "id": "c7M2iRSHnBke",
        "outputId": "c64440ef-b3c6-4480-d324-7f3824440264"
      },
      "source": [
        "get_info(train)"
      ],
      "execution_count": 955,
      "outputs": [
        {
          "output_type": "stream",
          "text": [
            "Head:\n"
          ],
          "name": "stdout"
        },
        {
          "output_type": "display_data",
          "data": {
            "text/html": [
              "<div>\n",
              "<style scoped>\n",
              "    .dataframe tbody tr th:only-of-type {\n",
              "        vertical-align: middle;\n",
              "    }\n",
              "\n",
              "    .dataframe tbody tr th {\n",
              "        vertical-align: top;\n",
              "    }\n",
              "\n",
              "    .dataframe thead th {\n",
              "        text-align: right;\n",
              "    }\n",
              "</style>\n",
              "<table border=\"1\" class=\"dataframe\">\n",
              "  <thead>\n",
              "    <tr style=\"text-align: right;\">\n",
              "      <th></th>\n",
              "      <th>MMM-YY</th>\n",
              "      <th>Emp_ID</th>\n",
              "      <th>Age</th>\n",
              "      <th>Gender</th>\n",
              "      <th>City</th>\n",
              "      <th>Education_Level</th>\n",
              "      <th>Salary</th>\n",
              "      <th>Dateofjoining</th>\n",
              "      <th>LastWorkingDate</th>\n",
              "      <th>Joining Designation</th>\n",
              "      <th>Designation</th>\n",
              "      <th>Total Business Value</th>\n",
              "      <th>Quarterly Rating</th>\n",
              "    </tr>\n",
              "  </thead>\n",
              "  <tbody>\n",
              "    <tr>\n",
              "      <th>0</th>\n",
              "      <td>2016-01-01</td>\n",
              "      <td>1</td>\n",
              "      <td>28</td>\n",
              "      <td>Male</td>\n",
              "      <td>C23</td>\n",
              "      <td>Master</td>\n",
              "      <td>57387</td>\n",
              "      <td>2015-12-24</td>\n",
              "      <td>NaN</td>\n",
              "      <td>1</td>\n",
              "      <td>1</td>\n",
              "      <td>2381060</td>\n",
              "      <td>2</td>\n",
              "    </tr>\n",
              "    <tr>\n",
              "      <th>1</th>\n",
              "      <td>2016-02-01</td>\n",
              "      <td>1</td>\n",
              "      <td>28</td>\n",
              "      <td>Male</td>\n",
              "      <td>C23</td>\n",
              "      <td>Master</td>\n",
              "      <td>57387</td>\n",
              "      <td>2015-12-24</td>\n",
              "      <td>NaN</td>\n",
              "      <td>1</td>\n",
              "      <td>1</td>\n",
              "      <td>-665480</td>\n",
              "      <td>2</td>\n",
              "    </tr>\n",
              "    <tr>\n",
              "      <th>2</th>\n",
              "      <td>2016-03-01</td>\n",
              "      <td>1</td>\n",
              "      <td>28</td>\n",
              "      <td>Male</td>\n",
              "      <td>C23</td>\n",
              "      <td>Master</td>\n",
              "      <td>57387</td>\n",
              "      <td>2015-12-24</td>\n",
              "      <td>2016-03-11</td>\n",
              "      <td>1</td>\n",
              "      <td>1</td>\n",
              "      <td>0</td>\n",
              "      <td>2</td>\n",
              "    </tr>\n",
              "    <tr>\n",
              "      <th>3</th>\n",
              "      <td>2017-11-01</td>\n",
              "      <td>2</td>\n",
              "      <td>31</td>\n",
              "      <td>Male</td>\n",
              "      <td>C7</td>\n",
              "      <td>Master</td>\n",
              "      <td>67016</td>\n",
              "      <td>2017-11-06</td>\n",
              "      <td>NaN</td>\n",
              "      <td>2</td>\n",
              "      <td>2</td>\n",
              "      <td>0</td>\n",
              "      <td>1</td>\n",
              "    </tr>\n",
              "    <tr>\n",
              "      <th>4</th>\n",
              "      <td>2017-12-01</td>\n",
              "      <td>2</td>\n",
              "      <td>31</td>\n",
              "      <td>Male</td>\n",
              "      <td>C7</td>\n",
              "      <td>Master</td>\n",
              "      <td>67016</td>\n",
              "      <td>2017-11-06</td>\n",
              "      <td>NaN</td>\n",
              "      <td>2</td>\n",
              "      <td>2</td>\n",
              "      <td>0</td>\n",
              "      <td>1</td>\n",
              "    </tr>\n",
              "  </tbody>\n",
              "</table>\n",
              "</div>"
            ],
            "text/plain": [
              "       MMM-YY  Emp_ID  Age  ... Designation Total Business Value Quarterly Rating\n",
              "0  2016-01-01       1   28  ...           1              2381060                2\n",
              "1  2016-02-01       1   28  ...           1              -665480                2\n",
              "2  2016-03-01       1   28  ...           1                    0                2\n",
              "3  2017-11-01       2   31  ...           2                    0                1\n",
              "4  2017-12-01       2   31  ...           2                    0                1\n",
              "\n",
              "[5 rows x 13 columns]"
            ]
          },
          "metadata": {
            "tags": []
          }
        },
        {
          "output_type": "stream",
          "text": [
            "\n",
            "Info:\n",
            "<class 'pandas.core.frame.DataFrame'>\n",
            "RangeIndex: 19104 entries, 0 to 19103\n",
            "Data columns (total 13 columns):\n",
            " #   Column                Non-Null Count  Dtype \n",
            "---  ------                --------------  ----- \n",
            " 0   MMM-YY                19104 non-null  object\n",
            " 1   Emp_ID                19104 non-null  int64 \n",
            " 2   Age                   19104 non-null  int64 \n",
            " 3   Gender                19104 non-null  object\n",
            " 4   City                  19104 non-null  object\n",
            " 5   Education_Level       19104 non-null  object\n",
            " 6   Salary                19104 non-null  int64 \n",
            " 7   Dateofjoining         19104 non-null  object\n",
            " 8   LastWorkingDate       1616 non-null   object\n",
            " 9   Joining Designation   19104 non-null  int64 \n",
            " 10  Designation           19104 non-null  int64 \n",
            " 11  Total Business Value  19104 non-null  int64 \n",
            " 12  Quarterly Rating      19104 non-null  int64 \n",
            "dtypes: int64(7), object(6)\n",
            "memory usage: 1.9+ MB\n"
          ],
          "name": "stdout"
        },
        {
          "output_type": "display_data",
          "data": {
            "text/plain": [
              "None"
            ]
          },
          "metadata": {
            "tags": []
          }
        },
        {
          "output_type": "stream",
          "text": [
            "\n",
            "Description of quantitative parameters:\n"
          ],
          "name": "stdout"
        },
        {
          "output_type": "display_data",
          "data": {
            "text/html": [
              "<div>\n",
              "<style scoped>\n",
              "    .dataframe tbody tr th:only-of-type {\n",
              "        vertical-align: middle;\n",
              "    }\n",
              "\n",
              "    .dataframe tbody tr th {\n",
              "        vertical-align: top;\n",
              "    }\n",
              "\n",
              "    .dataframe thead th {\n",
              "        text-align: right;\n",
              "    }\n",
              "</style>\n",
              "<table border=\"1\" class=\"dataframe\">\n",
              "  <thead>\n",
              "    <tr style=\"text-align: right;\">\n",
              "      <th></th>\n",
              "      <th>Emp_ID</th>\n",
              "      <th>Age</th>\n",
              "      <th>Salary</th>\n",
              "      <th>Joining Designation</th>\n",
              "      <th>Designation</th>\n",
              "      <th>Total Business Value</th>\n",
              "      <th>Quarterly Rating</th>\n",
              "    </tr>\n",
              "  </thead>\n",
              "  <tbody>\n",
              "    <tr>\n",
              "      <th>count</th>\n",
              "      <td>19104.000000</td>\n",
              "      <td>19104.000000</td>\n",
              "      <td>19104.000000</td>\n",
              "      <td>19104.000000</td>\n",
              "      <td>19104.000000</td>\n",
              "      <td>1.910400e+04</td>\n",
              "      <td>19104.000000</td>\n",
              "    </tr>\n",
              "    <tr>\n",
              "      <th>mean</th>\n",
              "      <td>1415.591133</td>\n",
              "      <td>34.650283</td>\n",
              "      <td>65652.025126</td>\n",
              "      <td>1.690536</td>\n",
              "      <td>2.252670</td>\n",
              "      <td>5.716621e+05</td>\n",
              "      <td>2.008899</td>\n",
              "    </tr>\n",
              "    <tr>\n",
              "      <th>std</th>\n",
              "      <td>810.705321</td>\n",
              "      <td>6.264471</td>\n",
              "      <td>30914.515344</td>\n",
              "      <td>0.836984</td>\n",
              "      <td>1.026512</td>\n",
              "      <td>1.128312e+06</td>\n",
              "      <td>1.009832</td>\n",
              "    </tr>\n",
              "    <tr>\n",
              "      <th>min</th>\n",
              "      <td>1.000000</td>\n",
              "      <td>21.000000</td>\n",
              "      <td>10747.000000</td>\n",
              "      <td>1.000000</td>\n",
              "      <td>1.000000</td>\n",
              "      <td>-6.000000e+06</td>\n",
              "      <td>1.000000</td>\n",
              "    </tr>\n",
              "    <tr>\n",
              "      <th>25%</th>\n",
              "      <td>710.000000</td>\n",
              "      <td>30.000000</td>\n",
              "      <td>42383.000000</td>\n",
              "      <td>1.000000</td>\n",
              "      <td>1.000000</td>\n",
              "      <td>0.000000e+00</td>\n",
              "      <td>1.000000</td>\n",
              "    </tr>\n",
              "    <tr>\n",
              "      <th>50%</th>\n",
              "      <td>1417.000000</td>\n",
              "      <td>34.000000</td>\n",
              "      <td>60087.000000</td>\n",
              "      <td>1.000000</td>\n",
              "      <td>2.000000</td>\n",
              "      <td>2.500000e+05</td>\n",
              "      <td>2.000000</td>\n",
              "    </tr>\n",
              "    <tr>\n",
              "      <th>75%</th>\n",
              "      <td>2137.000000</td>\n",
              "      <td>39.000000</td>\n",
              "      <td>83969.000000</td>\n",
              "      <td>2.000000</td>\n",
              "      <td>3.000000</td>\n",
              "      <td>6.997000e+05</td>\n",
              "      <td>3.000000</td>\n",
              "    </tr>\n",
              "    <tr>\n",
              "      <th>max</th>\n",
              "      <td>2788.000000</td>\n",
              "      <td>58.000000</td>\n",
              "      <td>188418.000000</td>\n",
              "      <td>5.000000</td>\n",
              "      <td>5.000000</td>\n",
              "      <td>3.374772e+07</td>\n",
              "      <td>4.000000</td>\n",
              "    </tr>\n",
              "  </tbody>\n",
              "</table>\n",
              "</div>"
            ],
            "text/plain": [
              "             Emp_ID           Age  ...  Total Business Value  Quarterly Rating\n",
              "count  19104.000000  19104.000000  ...          1.910400e+04      19104.000000\n",
              "mean    1415.591133     34.650283  ...          5.716621e+05          2.008899\n",
              "std      810.705321      6.264471  ...          1.128312e+06          1.009832\n",
              "min        1.000000     21.000000  ...         -6.000000e+06          1.000000\n",
              "25%      710.000000     30.000000  ...          0.000000e+00          1.000000\n",
              "50%     1417.000000     34.000000  ...          2.500000e+05          2.000000\n",
              "75%     2137.000000     39.000000  ...          6.997000e+05          3.000000\n",
              "max     2788.000000     58.000000  ...          3.374772e+07          4.000000\n",
              "\n",
              "[8 rows x 7 columns]"
            ]
          },
          "metadata": {
            "tags": []
          }
        },
        {
          "output_type": "stream",
          "text": [
            "\n",
            "Description of categorical parameters:\n"
          ],
          "name": "stdout"
        },
        {
          "output_type": "display_data",
          "data": {
            "text/html": [
              "<div>\n",
              "<style scoped>\n",
              "    .dataframe tbody tr th:only-of-type {\n",
              "        vertical-align: middle;\n",
              "    }\n",
              "\n",
              "    .dataframe tbody tr th {\n",
              "        vertical-align: top;\n",
              "    }\n",
              "\n",
              "    .dataframe thead th {\n",
              "        text-align: right;\n",
              "    }\n",
              "</style>\n",
              "<table border=\"1\" class=\"dataframe\">\n",
              "  <thead>\n",
              "    <tr style=\"text-align: right;\">\n",
              "      <th></th>\n",
              "      <th>MMM-YY</th>\n",
              "      <th>Gender</th>\n",
              "      <th>City</th>\n",
              "      <th>Education_Level</th>\n",
              "      <th>Dateofjoining</th>\n",
              "      <th>LastWorkingDate</th>\n",
              "    </tr>\n",
              "  </thead>\n",
              "  <tbody>\n",
              "    <tr>\n",
              "      <th>count</th>\n",
              "      <td>19104</td>\n",
              "      <td>19104</td>\n",
              "      <td>19104</td>\n",
              "      <td>19104</td>\n",
              "      <td>19104</td>\n",
              "      <td>1616</td>\n",
              "    </tr>\n",
              "    <tr>\n",
              "      <th>unique</th>\n",
              "      <td>24</td>\n",
              "      <td>2</td>\n",
              "      <td>29</td>\n",
              "      <td>3</td>\n",
              "      <td>869</td>\n",
              "      <td>493</td>\n",
              "    </tr>\n",
              "    <tr>\n",
              "      <th>top</th>\n",
              "      <td>2016-01-01</td>\n",
              "      <td>Male</td>\n",
              "      <td>C20</td>\n",
              "      <td>Bachelor</td>\n",
              "      <td>2012-07-23</td>\n",
              "      <td>2017-07-29</td>\n",
              "    </tr>\n",
              "    <tr>\n",
              "      <th>freq</th>\n",
              "      <td>1022</td>\n",
              "      <td>11103</td>\n",
              "      <td>1008</td>\n",
              "      <td>6864</td>\n",
              "      <td>192</td>\n",
              "      <td>70</td>\n",
              "    </tr>\n",
              "  </tbody>\n",
              "</table>\n",
              "</div>"
            ],
            "text/plain": [
              "            MMM-YY Gender   City Education_Level Dateofjoining LastWorkingDate\n",
              "count        19104  19104  19104           19104         19104            1616\n",
              "unique          24      2     29               3           869             493\n",
              "top     2016-01-01   Male    C20        Bachelor    2012-07-23      2017-07-29\n",
              "freq          1022  11103   1008            6864           192              70"
            ]
          },
          "metadata": {
            "tags": []
          }
        },
        {
          "output_type": "stream",
          "text": [
            "\n",
            "Columns with NaN values:\n"
          ],
          "name": "stdout"
        },
        {
          "output_type": "display_data",
          "data": {
            "text/plain": [
              "MMM-YY                      0\n",
              "Emp_ID                      0\n",
              "Age                         0\n",
              "Gender                      0\n",
              "City                        0\n",
              "Education_Level             0\n",
              "Salary                      0\n",
              "Dateofjoining               0\n",
              "LastWorkingDate         17488\n",
              "Joining Designation         0\n",
              "Designation                 0\n",
              "Total Business Value        0\n",
              "Quarterly Rating            0\n",
              "dtype: int64"
            ]
          },
          "metadata": {
            "tags": []
          }
        },
        {
          "output_type": "stream",
          "text": [
            "\n",
            "Shape:\n"
          ],
          "name": "stdout"
        },
        {
          "output_type": "display_data",
          "data": {
            "text/plain": [
              "(19104, 13)"
            ]
          },
          "metadata": {
            "tags": []
          }
        },
        {
          "output_type": "stream",
          "text": [
            "\n",
            "Number of duplicated rows:\n"
          ],
          "name": "stdout"
        },
        {
          "output_type": "display_data",
          "data": {
            "text/plain": [
              "0"
            ]
          },
          "metadata": {
            "tags": []
          }
        }
      ]
    },
    {
      "cell_type": "markdown",
      "metadata": {
        "id": "j4fRsV5YSlWJ"
      },
      "source": [
        "### Change data types"
      ]
    },
    {
      "cell_type": "code",
      "metadata": {
        "id": "ONFzTK_3SnMY"
      },
      "source": [
        "train['Emp_ID']=train['Emp_ID'].astype('category')\n",
        "train['Gender']=train['Gender'].astype('category')\n",
        "train['City']=train['City'].astype('category')\n",
        "train['Education_Level']=train['Education_Level'].astype('category')\n",
        "train['Dateofjoining'] = train['Dateofjoining'].astype('datetime64')\n",
        "train['LastWorkingDate'] = train['LastWorkingDate'].astype('datetime64')\n",
        "\n",
        "train['date'] = pd.to_datetime(train['MMM-YY'], format='%Y-%m-%d')"
      ],
      "execution_count": 956,
      "outputs": []
    },
    {
      "cell_type": "code",
      "metadata": {
        "id": "FRAUNyrInGPR"
      },
      "source": [
        "# train['LastWorkingDate'].count()/len(train['Emp_ID'].unique())"
      ],
      "execution_count": 957,
      "outputs": []
    },
    {
      "cell_type": "markdown",
      "metadata": {
        "id": "uLlMUtacs0F9"
      },
      "source": [
        "## Add 'left' column: True for those who left the company\n"
      ]
    },
    {
      "cell_type": "code",
      "metadata": {
        "id": "pahPthT1p3J_"
      },
      "source": [
        "# train.pivot_table(index='Emp_ID', values={'Salary'}, columns='')"
      ],
      "execution_count": 958,
      "outputs": []
    },
    {
      "cell_type": "code",
      "metadata": {
        "id": "JoHBWddZtGpj"
      },
      "source": [
        "def mapper(row):\n",
        "  if pd.isna(row['LastWorkingDate']):\n",
        "    return False\n",
        "  return True\n"
      ],
      "execution_count": 959,
      "outputs": []
    },
    {
      "cell_type": "code",
      "metadata": {
        "id": "x3xfYlsZOZ79"
      },
      "source": [
        "train['churn'] = train.apply(mapper, axis=1)\n"
      ],
      "execution_count": 960,
      "outputs": []
    },
    {
      "cell_type": "code",
      "metadata": {
        "id": "P-C0Carmt_kq"
      },
      "source": [
        "train_churn = train.query('churn == True')"
      ],
      "execution_count": 961,
      "outputs": []
    },
    {
      "cell_type": "code",
      "metadata": {
        "id": "NfwUshFFxdIK"
      },
      "source": [
        "emp_churn = train_churn['Emp_ID'].unique()"
      ],
      "execution_count": 962,
      "outputs": []
    },
    {
      "cell_type": "code",
      "metadata": {
        "id": "vkRfxa4lzeNE"
      },
      "source": [
        "def mapper_left(row):\n",
        "  if row['Emp_ID'] in emp_churn:\n",
        "    return True\n",
        "  return False\n",
        "\n",
        "train['left'] = train.apply(mapper_left, axis=1)\n",
        "# emp_churn = train_churn['Emp_ID'].unique()"
      ],
      "execution_count": 963,
      "outputs": []
    },
    {
      "cell_type": "code",
      "metadata": {
        "colab": {
          "base_uri": "https://localhost:8080/",
          "height": 323
        },
        "id": "4MDCpiId12je",
        "outputId": "5c3e8233-2e52-48d3-bac3-776269b34eba"
      },
      "source": [
        "train.head()"
      ],
      "execution_count": 964,
      "outputs": [
        {
          "output_type": "execute_result",
          "data": {
            "text/html": [
              "<div>\n",
              "<style scoped>\n",
              "    .dataframe tbody tr th:only-of-type {\n",
              "        vertical-align: middle;\n",
              "    }\n",
              "\n",
              "    .dataframe tbody tr th {\n",
              "        vertical-align: top;\n",
              "    }\n",
              "\n",
              "    .dataframe thead th {\n",
              "        text-align: right;\n",
              "    }\n",
              "</style>\n",
              "<table border=\"1\" class=\"dataframe\">\n",
              "  <thead>\n",
              "    <tr style=\"text-align: right;\">\n",
              "      <th></th>\n",
              "      <th>MMM-YY</th>\n",
              "      <th>Emp_ID</th>\n",
              "      <th>Age</th>\n",
              "      <th>Gender</th>\n",
              "      <th>City</th>\n",
              "      <th>Education_Level</th>\n",
              "      <th>Salary</th>\n",
              "      <th>Dateofjoining</th>\n",
              "      <th>LastWorkingDate</th>\n",
              "      <th>Joining Designation</th>\n",
              "      <th>Designation</th>\n",
              "      <th>Total Business Value</th>\n",
              "      <th>Quarterly Rating</th>\n",
              "      <th>date</th>\n",
              "      <th>churn</th>\n",
              "      <th>left</th>\n",
              "    </tr>\n",
              "  </thead>\n",
              "  <tbody>\n",
              "    <tr>\n",
              "      <th>0</th>\n",
              "      <td>2016-01-01</td>\n",
              "      <td>1</td>\n",
              "      <td>28</td>\n",
              "      <td>Male</td>\n",
              "      <td>C23</td>\n",
              "      <td>Master</td>\n",
              "      <td>57387</td>\n",
              "      <td>2015-12-24</td>\n",
              "      <td>NaT</td>\n",
              "      <td>1</td>\n",
              "      <td>1</td>\n",
              "      <td>2381060</td>\n",
              "      <td>2</td>\n",
              "      <td>2016-01-01</td>\n",
              "      <td>False</td>\n",
              "      <td>True</td>\n",
              "    </tr>\n",
              "    <tr>\n",
              "      <th>1</th>\n",
              "      <td>2016-02-01</td>\n",
              "      <td>1</td>\n",
              "      <td>28</td>\n",
              "      <td>Male</td>\n",
              "      <td>C23</td>\n",
              "      <td>Master</td>\n",
              "      <td>57387</td>\n",
              "      <td>2015-12-24</td>\n",
              "      <td>NaT</td>\n",
              "      <td>1</td>\n",
              "      <td>1</td>\n",
              "      <td>-665480</td>\n",
              "      <td>2</td>\n",
              "      <td>2016-02-01</td>\n",
              "      <td>False</td>\n",
              "      <td>True</td>\n",
              "    </tr>\n",
              "    <tr>\n",
              "      <th>2</th>\n",
              "      <td>2016-03-01</td>\n",
              "      <td>1</td>\n",
              "      <td>28</td>\n",
              "      <td>Male</td>\n",
              "      <td>C23</td>\n",
              "      <td>Master</td>\n",
              "      <td>57387</td>\n",
              "      <td>2015-12-24</td>\n",
              "      <td>2016-03-11</td>\n",
              "      <td>1</td>\n",
              "      <td>1</td>\n",
              "      <td>0</td>\n",
              "      <td>2</td>\n",
              "      <td>2016-03-01</td>\n",
              "      <td>True</td>\n",
              "      <td>True</td>\n",
              "    </tr>\n",
              "    <tr>\n",
              "      <th>3</th>\n",
              "      <td>2017-11-01</td>\n",
              "      <td>2</td>\n",
              "      <td>31</td>\n",
              "      <td>Male</td>\n",
              "      <td>C7</td>\n",
              "      <td>Master</td>\n",
              "      <td>67016</td>\n",
              "      <td>2017-11-06</td>\n",
              "      <td>NaT</td>\n",
              "      <td>2</td>\n",
              "      <td>2</td>\n",
              "      <td>0</td>\n",
              "      <td>1</td>\n",
              "      <td>2017-11-01</td>\n",
              "      <td>False</td>\n",
              "      <td>False</td>\n",
              "    </tr>\n",
              "    <tr>\n",
              "      <th>4</th>\n",
              "      <td>2017-12-01</td>\n",
              "      <td>2</td>\n",
              "      <td>31</td>\n",
              "      <td>Male</td>\n",
              "      <td>C7</td>\n",
              "      <td>Master</td>\n",
              "      <td>67016</td>\n",
              "      <td>2017-11-06</td>\n",
              "      <td>NaT</td>\n",
              "      <td>2</td>\n",
              "      <td>2</td>\n",
              "      <td>0</td>\n",
              "      <td>1</td>\n",
              "      <td>2017-12-01</td>\n",
              "      <td>False</td>\n",
              "      <td>False</td>\n",
              "    </tr>\n",
              "  </tbody>\n",
              "</table>\n",
              "</div>"
            ],
            "text/plain": [
              "       MMM-YY Emp_ID  Age Gender  ... Quarterly Rating       date  churn   left\n",
              "0  2016-01-01      1   28   Male  ...                2 2016-01-01  False   True\n",
              "1  2016-02-01      1   28   Male  ...                2 2016-02-01  False   True\n",
              "2  2016-03-01      1   28   Male  ...                2 2016-03-01   True   True\n",
              "3  2017-11-01      2   31   Male  ...                1 2017-11-01  False  False\n",
              "4  2017-12-01      2   31   Male  ...                1 2017-12-01  False  False\n",
              "\n",
              "[5 rows x 16 columns]"
            ]
          },
          "metadata": {
            "tags": []
          },
          "execution_count": 964
        }
      ]
    },
    {
      "cell_type": "code",
      "metadata": {
        "id": "TZnGvo9FVGMm"
      },
      "source": [
        "train=train.drop(labels='churn', axis=1)\n"
      ],
      "execution_count": 965,
      "outputs": []
    },
    {
      "cell_type": "markdown",
      "metadata": {
        "id": "ukNLlHuYwcbw"
      },
      "source": [
        "### Add numerical categories to analyze gender, education level "
      ]
    },
    {
      "cell_type": "code",
      "metadata": {
        "colab": {
          "base_uri": "https://localhost:8080/"
        },
        "id": "qTn5orq6vncD",
        "outputId": "f66a2398-cfa7-4a7a-fda1-f08d7ae0dfc2"
      },
      "source": [
        "train['Education_Level'].value_counts()"
      ],
      "execution_count": 966,
      "outputs": [
        {
          "output_type": "execute_result",
          "data": {
            "text/plain": [
              "Bachelor    6864\n",
              "Master      6327\n",
              "College     5913\n",
              "Name: Education_Level, dtype: int64"
            ]
          },
          "metadata": {
            "tags": []
          },
          "execution_count": 966
        }
      ]
    },
    {
      "cell_type": "code",
      "metadata": {
        "colab": {
          "base_uri": "https://localhost:8080/",
          "height": 0
        },
        "id": "roWbBh2zw2TR",
        "outputId": "4cb3e4c9-2f46-467c-cc0d-1b4d50d6999f"
      },
      "source": [
        "# education_dict={1: 'College', 2: 'Bachelor', 3: 'Master'}\n",
        "education_dict={'College': 1,'Bachelor':2, 'Master':3}\n",
        "\n",
        "def education_mapper(row):\n",
        "  return education_dict.get(row['Education_Level'])\n",
        "\n",
        "train['Education_category']=train.apply(education_mapper, axis=1)\n",
        "\n",
        "train.head()"
      ],
      "execution_count": 967,
      "outputs": [
        {
          "output_type": "execute_result",
          "data": {
            "text/html": [
              "<div>\n",
              "<style scoped>\n",
              "    .dataframe tbody tr th:only-of-type {\n",
              "        vertical-align: middle;\n",
              "    }\n",
              "\n",
              "    .dataframe tbody tr th {\n",
              "        vertical-align: top;\n",
              "    }\n",
              "\n",
              "    .dataframe thead th {\n",
              "        text-align: right;\n",
              "    }\n",
              "</style>\n",
              "<table border=\"1\" class=\"dataframe\">\n",
              "  <thead>\n",
              "    <tr style=\"text-align: right;\">\n",
              "      <th></th>\n",
              "      <th>MMM-YY</th>\n",
              "      <th>Emp_ID</th>\n",
              "      <th>Age</th>\n",
              "      <th>Gender</th>\n",
              "      <th>City</th>\n",
              "      <th>Education_Level</th>\n",
              "      <th>Salary</th>\n",
              "      <th>Dateofjoining</th>\n",
              "      <th>LastWorkingDate</th>\n",
              "      <th>Joining Designation</th>\n",
              "      <th>Designation</th>\n",
              "      <th>Total Business Value</th>\n",
              "      <th>Quarterly Rating</th>\n",
              "      <th>date</th>\n",
              "      <th>left</th>\n",
              "      <th>Education_category</th>\n",
              "    </tr>\n",
              "  </thead>\n",
              "  <tbody>\n",
              "    <tr>\n",
              "      <th>0</th>\n",
              "      <td>2016-01-01</td>\n",
              "      <td>1</td>\n",
              "      <td>28</td>\n",
              "      <td>Male</td>\n",
              "      <td>C23</td>\n",
              "      <td>Master</td>\n",
              "      <td>57387</td>\n",
              "      <td>2015-12-24</td>\n",
              "      <td>NaT</td>\n",
              "      <td>1</td>\n",
              "      <td>1</td>\n",
              "      <td>2381060</td>\n",
              "      <td>2</td>\n",
              "      <td>2016-01-01</td>\n",
              "      <td>True</td>\n",
              "      <td>3</td>\n",
              "    </tr>\n",
              "    <tr>\n",
              "      <th>1</th>\n",
              "      <td>2016-02-01</td>\n",
              "      <td>1</td>\n",
              "      <td>28</td>\n",
              "      <td>Male</td>\n",
              "      <td>C23</td>\n",
              "      <td>Master</td>\n",
              "      <td>57387</td>\n",
              "      <td>2015-12-24</td>\n",
              "      <td>NaT</td>\n",
              "      <td>1</td>\n",
              "      <td>1</td>\n",
              "      <td>-665480</td>\n",
              "      <td>2</td>\n",
              "      <td>2016-02-01</td>\n",
              "      <td>True</td>\n",
              "      <td>3</td>\n",
              "    </tr>\n",
              "    <tr>\n",
              "      <th>2</th>\n",
              "      <td>2016-03-01</td>\n",
              "      <td>1</td>\n",
              "      <td>28</td>\n",
              "      <td>Male</td>\n",
              "      <td>C23</td>\n",
              "      <td>Master</td>\n",
              "      <td>57387</td>\n",
              "      <td>2015-12-24</td>\n",
              "      <td>2016-03-11</td>\n",
              "      <td>1</td>\n",
              "      <td>1</td>\n",
              "      <td>0</td>\n",
              "      <td>2</td>\n",
              "      <td>2016-03-01</td>\n",
              "      <td>True</td>\n",
              "      <td>3</td>\n",
              "    </tr>\n",
              "    <tr>\n",
              "      <th>3</th>\n",
              "      <td>2017-11-01</td>\n",
              "      <td>2</td>\n",
              "      <td>31</td>\n",
              "      <td>Male</td>\n",
              "      <td>C7</td>\n",
              "      <td>Master</td>\n",
              "      <td>67016</td>\n",
              "      <td>2017-11-06</td>\n",
              "      <td>NaT</td>\n",
              "      <td>2</td>\n",
              "      <td>2</td>\n",
              "      <td>0</td>\n",
              "      <td>1</td>\n",
              "      <td>2017-11-01</td>\n",
              "      <td>False</td>\n",
              "      <td>3</td>\n",
              "    </tr>\n",
              "    <tr>\n",
              "      <th>4</th>\n",
              "      <td>2017-12-01</td>\n",
              "      <td>2</td>\n",
              "      <td>31</td>\n",
              "      <td>Male</td>\n",
              "      <td>C7</td>\n",
              "      <td>Master</td>\n",
              "      <td>67016</td>\n",
              "      <td>2017-11-06</td>\n",
              "      <td>NaT</td>\n",
              "      <td>2</td>\n",
              "      <td>2</td>\n",
              "      <td>0</td>\n",
              "      <td>1</td>\n",
              "      <td>2017-12-01</td>\n",
              "      <td>False</td>\n",
              "      <td>3</td>\n",
              "    </tr>\n",
              "  </tbody>\n",
              "</table>\n",
              "</div>"
            ],
            "text/plain": [
              "       MMM-YY Emp_ID  Age  ...       date   left Education_category\n",
              "0  2016-01-01      1   28  ... 2016-01-01   True                  3\n",
              "1  2016-02-01      1   28  ... 2016-02-01   True                  3\n",
              "2  2016-03-01      1   28  ... 2016-03-01   True                  3\n",
              "3  2017-11-01      2   31  ... 2017-11-01  False                  3\n",
              "4  2017-12-01      2   31  ... 2017-12-01  False                  3\n",
              "\n",
              "[5 rows x 16 columns]"
            ]
          },
          "metadata": {
            "tags": []
          },
          "execution_count": 967
        }
      ]
    },
    {
      "cell_type": "code",
      "metadata": {
        "colab": {
          "base_uri": "https://localhost:8080/",
          "height": 0
        },
        "id": "k9ICQQ5QynVo",
        "outputId": "fb0b63ec-6ab0-4268-f98c-6bfbdb703aed"
      },
      "source": [
        "gender_dict={'Male': 0,'Female':1}\n",
        "\n",
        "def gender_mapper(row):\n",
        "  return gender_dict.get(row['Gender'])\n",
        "\n",
        "train['Gender_category']=train.apply(gender_mapper, axis=1)\n",
        "\n",
        "train.head()"
      ],
      "execution_count": 968,
      "outputs": [
        {
          "output_type": "execute_result",
          "data": {
            "text/html": [
              "<div>\n",
              "<style scoped>\n",
              "    .dataframe tbody tr th:only-of-type {\n",
              "        vertical-align: middle;\n",
              "    }\n",
              "\n",
              "    .dataframe tbody tr th {\n",
              "        vertical-align: top;\n",
              "    }\n",
              "\n",
              "    .dataframe thead th {\n",
              "        text-align: right;\n",
              "    }\n",
              "</style>\n",
              "<table border=\"1\" class=\"dataframe\">\n",
              "  <thead>\n",
              "    <tr style=\"text-align: right;\">\n",
              "      <th></th>\n",
              "      <th>MMM-YY</th>\n",
              "      <th>Emp_ID</th>\n",
              "      <th>Age</th>\n",
              "      <th>Gender</th>\n",
              "      <th>City</th>\n",
              "      <th>Education_Level</th>\n",
              "      <th>Salary</th>\n",
              "      <th>Dateofjoining</th>\n",
              "      <th>LastWorkingDate</th>\n",
              "      <th>Joining Designation</th>\n",
              "      <th>Designation</th>\n",
              "      <th>Total Business Value</th>\n",
              "      <th>Quarterly Rating</th>\n",
              "      <th>date</th>\n",
              "      <th>left</th>\n",
              "      <th>Education_category</th>\n",
              "      <th>Gender_category</th>\n",
              "    </tr>\n",
              "  </thead>\n",
              "  <tbody>\n",
              "    <tr>\n",
              "      <th>0</th>\n",
              "      <td>2016-01-01</td>\n",
              "      <td>1</td>\n",
              "      <td>28</td>\n",
              "      <td>Male</td>\n",
              "      <td>C23</td>\n",
              "      <td>Master</td>\n",
              "      <td>57387</td>\n",
              "      <td>2015-12-24</td>\n",
              "      <td>NaT</td>\n",
              "      <td>1</td>\n",
              "      <td>1</td>\n",
              "      <td>2381060</td>\n",
              "      <td>2</td>\n",
              "      <td>2016-01-01</td>\n",
              "      <td>True</td>\n",
              "      <td>3</td>\n",
              "      <td>0</td>\n",
              "    </tr>\n",
              "    <tr>\n",
              "      <th>1</th>\n",
              "      <td>2016-02-01</td>\n",
              "      <td>1</td>\n",
              "      <td>28</td>\n",
              "      <td>Male</td>\n",
              "      <td>C23</td>\n",
              "      <td>Master</td>\n",
              "      <td>57387</td>\n",
              "      <td>2015-12-24</td>\n",
              "      <td>NaT</td>\n",
              "      <td>1</td>\n",
              "      <td>1</td>\n",
              "      <td>-665480</td>\n",
              "      <td>2</td>\n",
              "      <td>2016-02-01</td>\n",
              "      <td>True</td>\n",
              "      <td>3</td>\n",
              "      <td>0</td>\n",
              "    </tr>\n",
              "    <tr>\n",
              "      <th>2</th>\n",
              "      <td>2016-03-01</td>\n",
              "      <td>1</td>\n",
              "      <td>28</td>\n",
              "      <td>Male</td>\n",
              "      <td>C23</td>\n",
              "      <td>Master</td>\n",
              "      <td>57387</td>\n",
              "      <td>2015-12-24</td>\n",
              "      <td>2016-03-11</td>\n",
              "      <td>1</td>\n",
              "      <td>1</td>\n",
              "      <td>0</td>\n",
              "      <td>2</td>\n",
              "      <td>2016-03-01</td>\n",
              "      <td>True</td>\n",
              "      <td>3</td>\n",
              "      <td>0</td>\n",
              "    </tr>\n",
              "    <tr>\n",
              "      <th>3</th>\n",
              "      <td>2017-11-01</td>\n",
              "      <td>2</td>\n",
              "      <td>31</td>\n",
              "      <td>Male</td>\n",
              "      <td>C7</td>\n",
              "      <td>Master</td>\n",
              "      <td>67016</td>\n",
              "      <td>2017-11-06</td>\n",
              "      <td>NaT</td>\n",
              "      <td>2</td>\n",
              "      <td>2</td>\n",
              "      <td>0</td>\n",
              "      <td>1</td>\n",
              "      <td>2017-11-01</td>\n",
              "      <td>False</td>\n",
              "      <td>3</td>\n",
              "      <td>0</td>\n",
              "    </tr>\n",
              "    <tr>\n",
              "      <th>4</th>\n",
              "      <td>2017-12-01</td>\n",
              "      <td>2</td>\n",
              "      <td>31</td>\n",
              "      <td>Male</td>\n",
              "      <td>C7</td>\n",
              "      <td>Master</td>\n",
              "      <td>67016</td>\n",
              "      <td>2017-11-06</td>\n",
              "      <td>NaT</td>\n",
              "      <td>2</td>\n",
              "      <td>2</td>\n",
              "      <td>0</td>\n",
              "      <td>1</td>\n",
              "      <td>2017-12-01</td>\n",
              "      <td>False</td>\n",
              "      <td>3</td>\n",
              "      <td>0</td>\n",
              "    </tr>\n",
              "  </tbody>\n",
              "</table>\n",
              "</div>"
            ],
            "text/plain": [
              "       MMM-YY Emp_ID  Age  ...   left Education_category Gender_category\n",
              "0  2016-01-01      1   28  ...   True                  3               0\n",
              "1  2016-02-01      1   28  ...   True                  3               0\n",
              "2  2016-03-01      1   28  ...   True                  3               0\n",
              "3  2017-11-01      2   31  ...  False                  3               0\n",
              "4  2017-12-01      2   31  ...  False                  3               0\n",
              "\n",
              "[5 rows x 17 columns]"
            ]
          },
          "metadata": {
            "tags": []
          },
          "execution_count": 968
        }
      ]
    },
    {
      "cell_type": "markdown",
      "metadata": {
        "id": "6aeG8Ox1v1Xn"
      },
      "source": [
        "### How many entries are there for each employee?"
      ]
    },
    {
      "cell_type": "code",
      "metadata": {
        "colab": {
          "base_uri": "https://localhost:8080/",
          "height": 0
        },
        "id": "qzMiweI1u9R2",
        "outputId": "f46fd219-c29a-4329-8a2f-6383cf627ed0"
      },
      "source": [
        "train.groupby('Emp_ID')['left'].count().hist(figsize=(10,5))"
      ],
      "execution_count": 969,
      "outputs": [
        {
          "output_type": "execute_result",
          "data": {
            "text/plain": [
              "<matplotlib.axes._subplots.AxesSubplot at 0x7fa049f7bb50>"
            ]
          },
          "metadata": {
            "tags": []
          },
          "execution_count": 969
        },
        {
          "output_type": "display_data",
          "data": {
            "image/png": "[encoded data removed]",
            "text/plain": [
              "<Figure size 720x360 with 1 Axes>"
            ]
          },
          "metadata": {
            "tags": [],
            "needs_background": "light"
          }
        }
      ]
    },
    {
      "cell_type": "markdown",
      "metadata": {
        "id": "TzHx9V3_w1el"
      },
      "source": [
        "There are around 200 employees with more than 20 entries"
      ]
    },
    {
      "cell_type": "markdown",
      "metadata": {
        "id": "Xhaqw3-JycKv"
      },
      "source": [
        "### Let's add work experience"
      ]
    },
    {
      "cell_type": "code",
      "metadata": {
        "id": "NyG2HAegLYXQ"
      },
      "source": [
        "#remove strange employees\n",
        "\n",
        "emp_strange=[66, 383, 612, 743, 755, 770, 920, 1173, 1224, 1339, 1437, 1449, 1454, 1561, 1629, 1663, 1706, 1758, 1893, 1894, 2132, 2268, 2547, 2685,264, 1207, 1581, 2397]\n",
        "train=train.query('Emp_ID not in @emp_strange')"
      ],
      "execution_count": 970,
      "outputs": []
    },
    {
      "cell_type": "code",
      "metadata": {
        "id": "Jt9N73IpH840"
      },
      "source": [
        "max_date=pd.to_datetime(train['date'].max())\n",
        "\n",
        "def mapper_exp(row):\n",
        "  \n",
        "  if pd.isna(row['LastWorkingDate']):\n",
        "    return (max_date - row['Dateofjoining'])\n",
        "  return (row['LastWorkingDate'] - row['Dateofjoining'])\n",
        "\n",
        "train['expierience'] = train.apply(mapper_exp, axis=1)"
      ],
      "execution_count": 971,
      "outputs": []
    },
    {
      "cell_type": "code",
      "metadata": {
        "colab": {
          "base_uri": "https://localhost:8080/",
          "height": 343
        },
        "id": "504NrqgGOOfQ",
        "outputId": "a0d0f7a3-cdf6-4a3e-e9ae-524704970029"
      },
      "source": [
        "train['expierience']=train['expierience'].dt.days\n",
        "train.head()\n",
        "\n",
        " "
      ],
      "execution_count": 972,
      "outputs": [
        {
          "output_type": "execute_result",
          "data": {
            "text/html": [
              "<div>\n",
              "<style scoped>\n",
              "    .dataframe tbody tr th:only-of-type {\n",
              "        vertical-align: middle;\n",
              "    }\n",
              "\n",
              "    .dataframe tbody tr th {\n",
              "        vertical-align: top;\n",
              "    }\n",
              "\n",
              "    .dataframe thead th {\n",
              "        text-align: right;\n",
              "    }\n",
              "</style>\n",
              "<table border=\"1\" class=\"dataframe\">\n",
              "  <thead>\n",
              "    <tr style=\"text-align: right;\">\n",
              "      <th></th>\n",
              "      <th>MMM-YY</th>\n",
              "      <th>Emp_ID</th>\n",
              "      <th>Age</th>\n",
              "      <th>Gender</th>\n",
              "      <th>City</th>\n",
              "      <th>Education_Level</th>\n",
              "      <th>Salary</th>\n",
              "      <th>Dateofjoining</th>\n",
              "      <th>LastWorkingDate</th>\n",
              "      <th>Joining Designation</th>\n",
              "      <th>Designation</th>\n",
              "      <th>Total Business Value</th>\n",
              "      <th>Quarterly Rating</th>\n",
              "      <th>date</th>\n",
              "      <th>left</th>\n",
              "      <th>Education_category</th>\n",
              "      <th>Gender_category</th>\n",
              "      <th>expierience</th>\n",
              "    </tr>\n",
              "  </thead>\n",
              "  <tbody>\n",
              "    <tr>\n",
              "      <th>0</th>\n",
              "      <td>2016-01-01</td>\n",
              "      <td>1</td>\n",
              "      <td>28</td>\n",
              "      <td>Male</td>\n",
              "      <td>C23</td>\n",
              "      <td>Master</td>\n",
              "      <td>57387</td>\n",
              "      <td>2015-12-24</td>\n",
              "      <td>NaT</td>\n",
              "      <td>1</td>\n",
              "      <td>1</td>\n",
              "      <td>2381060</td>\n",
              "      <td>2</td>\n",
              "      <td>2016-01-01</td>\n",
              "      <td>True</td>\n",
              "      <td>3</td>\n",
              "      <td>0</td>\n",
              "      <td>708</td>\n",
              "    </tr>\n",
              "    <tr>\n",
              "      <th>1</th>\n",
              "      <td>2016-02-01</td>\n",
              "      <td>1</td>\n",
              "      <td>28</td>\n",
              "      <td>Male</td>\n",
              "      <td>C23</td>\n",
              "      <td>Master</td>\n",
              "      <td>57387</td>\n",
              "      <td>2015-12-24</td>\n",
              "      <td>NaT</td>\n",
              "      <td>1</td>\n",
              "      <td>1</td>\n",
              "      <td>-665480</td>\n",
              "      <td>2</td>\n",
              "      <td>2016-02-01</td>\n",
              "      <td>True</td>\n",
              "      <td>3</td>\n",
              "      <td>0</td>\n",
              "      <td>708</td>\n",
              "    </tr>\n",
              "    <tr>\n",
              "      <th>2</th>\n",
              "      <td>2016-03-01</td>\n",
              "      <td>1</td>\n",
              "      <td>28</td>\n",
              "      <td>Male</td>\n",
              "      <td>C23</td>\n",
              "      <td>Master</td>\n",
              "      <td>57387</td>\n",
              "      <td>2015-12-24</td>\n",
              "      <td>2016-03-11</td>\n",
              "      <td>1</td>\n",
              "      <td>1</td>\n",
              "      <td>0</td>\n",
              "      <td>2</td>\n",
              "      <td>2016-03-01</td>\n",
              "      <td>True</td>\n",
              "      <td>3</td>\n",
              "      <td>0</td>\n",
              "      <td>78</td>\n",
              "    </tr>\n",
              "    <tr>\n",
              "      <th>3</th>\n",
              "      <td>2017-11-01</td>\n",
              "      <td>2</td>\n",
              "      <td>31</td>\n",
              "      <td>Male</td>\n",
              "      <td>C7</td>\n",
              "      <td>Master</td>\n",
              "      <td>67016</td>\n",
              "      <td>2017-11-06</td>\n",
              "      <td>NaT</td>\n",
              "      <td>2</td>\n",
              "      <td>2</td>\n",
              "      <td>0</td>\n",
              "      <td>1</td>\n",
              "      <td>2017-11-01</td>\n",
              "      <td>False</td>\n",
              "      <td>3</td>\n",
              "      <td>0</td>\n",
              "      <td>25</td>\n",
              "    </tr>\n",
              "    <tr>\n",
              "      <th>4</th>\n",
              "      <td>2017-12-01</td>\n",
              "      <td>2</td>\n",
              "      <td>31</td>\n",
              "      <td>Male</td>\n",
              "      <td>C7</td>\n",
              "      <td>Master</td>\n",
              "      <td>67016</td>\n",
              "      <td>2017-11-06</td>\n",
              "      <td>NaT</td>\n",
              "      <td>2</td>\n",
              "      <td>2</td>\n",
              "      <td>0</td>\n",
              "      <td>1</td>\n",
              "      <td>2017-12-01</td>\n",
              "      <td>False</td>\n",
              "      <td>3</td>\n",
              "      <td>0</td>\n",
              "      <td>25</td>\n",
              "    </tr>\n",
              "  </tbody>\n",
              "</table>\n",
              "</div>"
            ],
            "text/plain": [
              "       MMM-YY Emp_ID  Age  ... Education_category Gender_category expierience\n",
              "0  2016-01-01      1   28  ...                  3               0         708\n",
              "1  2016-02-01      1   28  ...                  3               0         708\n",
              "2  2016-03-01      1   28  ...                  3               0          78\n",
              "3  2017-11-01      2   31  ...                  3               0          25\n",
              "4  2017-12-01      2   31  ...                  3               0          25\n",
              "\n",
              "[5 rows x 18 columns]"
            ]
          },
          "metadata": {
            "tags": []
          },
          "execution_count": 972
        }
      ]
    },
    {
      "cell_type": "code",
      "metadata": {
        "id": "sFcOQqiUsjM3"
      },
      "source": [
        "\n",
        "exp_max = train.groupby('Emp_ID')['expierience'].max()\n",
        "exp_max=exp_max.reset_index()\n",
        "train=train.drop(labels='expierience', axis=1)\n"
      ],
      "execution_count": 973,
      "outputs": []
    },
    {
      "cell_type": "code",
      "metadata": {
        "id": "wvLVC2VLqyMj"
      },
      "source": [
        "train=train.merge(right=exp_max, on='Emp_ID', how='right')"
      ],
      "execution_count": 974,
      "outputs": []
    },
    {
      "cell_type": "code",
      "metadata": {
        "colab": {
          "base_uri": "https://localhost:8080/",
          "height": 343
        },
        "id": "YM5FHk_APFbO",
        "outputId": "dc072ea8-b006-4398-a049-62074512f018"
      },
      "source": [
        "train.head()"
      ],
      "execution_count": 975,
      "outputs": [
        {
          "output_type": "execute_result",
          "data": {
            "text/html": [
              "<div>\n",
              "<style scoped>\n",
              "    .dataframe tbody tr th:only-of-type {\n",
              "        vertical-align: middle;\n",
              "    }\n",
              "\n",
              "    .dataframe tbody tr th {\n",
              "        vertical-align: top;\n",
              "    }\n",
              "\n",
              "    .dataframe thead th {\n",
              "        text-align: right;\n",
              "    }\n",
              "</style>\n",
              "<table border=\"1\" class=\"dataframe\">\n",
              "  <thead>\n",
              "    <tr style=\"text-align: right;\">\n",
              "      <th></th>\n",
              "      <th>MMM-YY</th>\n",
              "      <th>Emp_ID</th>\n",
              "      <th>Age</th>\n",
              "      <th>Gender</th>\n",
              "      <th>City</th>\n",
              "      <th>Education_Level</th>\n",
              "      <th>Salary</th>\n",
              "      <th>Dateofjoining</th>\n",
              "      <th>LastWorkingDate</th>\n",
              "      <th>Joining Designation</th>\n",
              "      <th>Designation</th>\n",
              "      <th>Total Business Value</th>\n",
              "      <th>Quarterly Rating</th>\n",
              "      <th>date</th>\n",
              "      <th>left</th>\n",
              "      <th>Education_category</th>\n",
              "      <th>Gender_category</th>\n",
              "      <th>expierience</th>\n",
              "    </tr>\n",
              "  </thead>\n",
              "  <tbody>\n",
              "    <tr>\n",
              "      <th>0</th>\n",
              "      <td>2016-01-01</td>\n",
              "      <td>1</td>\n",
              "      <td>28.0</td>\n",
              "      <td>Male</td>\n",
              "      <td>C23</td>\n",
              "      <td>Master</td>\n",
              "      <td>57387.0</td>\n",
              "      <td>2015-12-24</td>\n",
              "      <td>NaT</td>\n",
              "      <td>1.0</td>\n",
              "      <td>1.0</td>\n",
              "      <td>2381060.0</td>\n",
              "      <td>2.0</td>\n",
              "      <td>2016-01-01</td>\n",
              "      <td>True</td>\n",
              "      <td>3.0</td>\n",
              "      <td>0.0</td>\n",
              "      <td>708.0</td>\n",
              "    </tr>\n",
              "    <tr>\n",
              "      <th>1</th>\n",
              "      <td>2016-02-01</td>\n",
              "      <td>1</td>\n",
              "      <td>28.0</td>\n",
              "      <td>Male</td>\n",
              "      <td>C23</td>\n",
              "      <td>Master</td>\n",
              "      <td>57387.0</td>\n",
              "      <td>2015-12-24</td>\n",
              "      <td>NaT</td>\n",
              "      <td>1.0</td>\n",
              "      <td>1.0</td>\n",
              "      <td>-665480.0</td>\n",
              "      <td>2.0</td>\n",
              "      <td>2016-02-01</td>\n",
              "      <td>True</td>\n",
              "      <td>3.0</td>\n",
              "      <td>0.0</td>\n",
              "      <td>708.0</td>\n",
              "    </tr>\n",
              "    <tr>\n",
              "      <th>2</th>\n",
              "      <td>2016-03-01</td>\n",
              "      <td>1</td>\n",
              "      <td>28.0</td>\n",
              "      <td>Male</td>\n",
              "      <td>C23</td>\n",
              "      <td>Master</td>\n",
              "      <td>57387.0</td>\n",
              "      <td>2015-12-24</td>\n",
              "      <td>2016-03-11</td>\n",
              "      <td>1.0</td>\n",
              "      <td>1.0</td>\n",
              "      <td>0.0</td>\n",
              "      <td>2.0</td>\n",
              "      <td>2016-03-01</td>\n",
              "      <td>True</td>\n",
              "      <td>3.0</td>\n",
              "      <td>0.0</td>\n",
              "      <td>708.0</td>\n",
              "    </tr>\n",
              "    <tr>\n",
              "      <th>3</th>\n",
              "      <td>2017-11-01</td>\n",
              "      <td>2</td>\n",
              "      <td>31.0</td>\n",
              "      <td>Male</td>\n",
              "      <td>C7</td>\n",
              "      <td>Master</td>\n",
              "      <td>67016.0</td>\n",
              "      <td>2017-11-06</td>\n",
              "      <td>NaT</td>\n",
              "      <td>2.0</td>\n",
              "      <td>2.0</td>\n",
              "      <td>0.0</td>\n",
              "      <td>1.0</td>\n",
              "      <td>2017-11-01</td>\n",
              "      <td>False</td>\n",
              "      <td>3.0</td>\n",
              "      <td>0.0</td>\n",
              "      <td>25.0</td>\n",
              "    </tr>\n",
              "    <tr>\n",
              "      <th>4</th>\n",
              "      <td>2017-12-01</td>\n",
              "      <td>2</td>\n",
              "      <td>31.0</td>\n",
              "      <td>Male</td>\n",
              "      <td>C7</td>\n",
              "      <td>Master</td>\n",
              "      <td>67016.0</td>\n",
              "      <td>2017-11-06</td>\n",
              "      <td>NaT</td>\n",
              "      <td>2.0</td>\n",
              "      <td>2.0</td>\n",
              "      <td>0.0</td>\n",
              "      <td>1.0</td>\n",
              "      <td>2017-12-01</td>\n",
              "      <td>False</td>\n",
              "      <td>3.0</td>\n",
              "      <td>0.0</td>\n",
              "      <td>25.0</td>\n",
              "    </tr>\n",
              "  </tbody>\n",
              "</table>\n",
              "</div>"
            ],
            "text/plain": [
              "       MMM-YY Emp_ID   Age  ... Education_category Gender_category expierience\n",
              "0  2016-01-01      1  28.0  ...                3.0             0.0       708.0\n",
              "1  2016-02-01      1  28.0  ...                3.0             0.0       708.0\n",
              "2  2016-03-01      1  28.0  ...                3.0             0.0       708.0\n",
              "3  2017-11-01      2  31.0  ...                3.0             0.0        25.0\n",
              "4  2017-12-01      2  31.0  ...                3.0             0.0        25.0\n",
              "\n",
              "[5 rows x 18 columns]"
            ]
          },
          "metadata": {
            "tags": []
          },
          "execution_count": 975
        }
      ]
    },
    {
      "cell_type": "code",
      "metadata": {
        "id": "BZvEJqcSRsza"
      },
      "source": [
        "#train=train.query('expierience > 0')"
      ],
      "execution_count": 976,
      "outputs": []
    },
    {
      "cell_type": "markdown",
      "metadata": {
        "id": "L3beD-SNx3Ba"
      },
      "source": [
        "## Let's check different features for employees who left and stayed"
      ]
    },
    {
      "cell_type": "markdown",
      "metadata": {
        "id": "JySW5nRFCEVi"
      },
      "source": [
        "### Let's create a table with one entry per employee and check quantitative features"
      ]
    },
    {
      "cell_type": "code",
      "metadata": {
        "id": "zAhRvHN2B-bA"
      },
      "source": [
        "train_pivot=train.pivot_table(index={'Emp_ID', 'left'},values={'expierience','Age', 'Salary', 'Joining Designation', 'Designation', 'Total Business Value',\t'Quarterly Rating', 'Education_category', 'Gender_category'}, aggfunc='mean')"
      ],
      "execution_count": 977,
      "outputs": []
    },
    {
      "cell_type": "code",
      "metadata": {
        "colab": {
          "base_uri": "https://localhost:8080/",
          "height": 235
        },
        "id": "K20e5oBGIIzc",
        "outputId": "376da3a4-f9ff-4f74-9481-674359173745"
      },
      "source": [
        "train_pivot.head()"
      ],
      "execution_count": 978,
      "outputs": [
        {
          "output_type": "execute_result",
          "data": {
            "text/html": [
              "<div>\n",
              "<style scoped>\n",
              "    .dataframe tbody tr th:only-of-type {\n",
              "        vertical-align: middle;\n",
              "    }\n",
              "\n",
              "    .dataframe tbody tr th {\n",
              "        vertical-align: top;\n",
              "    }\n",
              "\n",
              "    .dataframe thead th {\n",
              "        text-align: right;\n",
              "    }\n",
              "</style>\n",
              "<table border=\"1\" class=\"dataframe\">\n",
              "  <thead>\n",
              "    <tr style=\"text-align: right;\">\n",
              "      <th></th>\n",
              "      <th></th>\n",
              "      <th>Age</th>\n",
              "      <th>Designation</th>\n",
              "      <th>Education_category</th>\n",
              "      <th>Gender_category</th>\n",
              "      <th>Joining Designation</th>\n",
              "      <th>Quarterly Rating</th>\n",
              "      <th>Salary</th>\n",
              "      <th>Total Business Value</th>\n",
              "      <th>expierience</th>\n",
              "    </tr>\n",
              "    <tr>\n",
              "      <th>left</th>\n",
              "      <th>Emp_ID</th>\n",
              "      <th></th>\n",
              "      <th></th>\n",
              "      <th></th>\n",
              "      <th></th>\n",
              "      <th></th>\n",
              "      <th></th>\n",
              "      <th></th>\n",
              "      <th></th>\n",
              "      <th></th>\n",
              "    </tr>\n",
              "  </thead>\n",
              "  <tbody>\n",
              "    <tr>\n",
              "      <th rowspan=\"5\" valign=\"top\">False</th>\n",
              "      <th>2</th>\n",
              "      <td>31.000000</td>\n",
              "      <td>2.0</td>\n",
              "      <td>3.0</td>\n",
              "      <td>0.0</td>\n",
              "      <td>2.0</td>\n",
              "      <td>1.00</td>\n",
              "      <td>67016.0</td>\n",
              "      <td>0.000000e+00</td>\n",
              "      <td>25.0</td>\n",
              "    </tr>\n",
              "    <tr>\n",
              "      <th>6</th>\n",
              "      <td>31.000000</td>\n",
              "      <td>3.0</td>\n",
              "      <td>2.0</td>\n",
              "      <td>1.0</td>\n",
              "      <td>3.0</td>\n",
              "      <td>1.60</td>\n",
              "      <td>78728.0</td>\n",
              "      <td>2.530000e+05</td>\n",
              "      <td>123.0</td>\n",
              "    </tr>\n",
              "    <tr>\n",
              "      <th>11</th>\n",
              "      <td>28.000000</td>\n",
              "      <td>1.0</td>\n",
              "      <td>3.0</td>\n",
              "      <td>1.0</td>\n",
              "      <td>1.0</td>\n",
              "      <td>1.00</td>\n",
              "      <td>42172.0</td>\n",
              "      <td>0.000000e+00</td>\n",
              "      <td>-6.0</td>\n",
              "    </tr>\n",
              "    <tr>\n",
              "      <th>14</th>\n",
              "      <td>39.000000</td>\n",
              "      <td>3.0</td>\n",
              "      <td>1.0</td>\n",
              "      <td>1.0</td>\n",
              "      <td>3.0</td>\n",
              "      <td>1.00</td>\n",
              "      <td>19734.0</td>\n",
              "      <td>0.000000e+00</td>\n",
              "      <td>46.0</td>\n",
              "    </tr>\n",
              "    <tr>\n",
              "      <th>25</th>\n",
              "      <td>29.666667</td>\n",
              "      <td>3.0</td>\n",
              "      <td>2.0</td>\n",
              "      <td>0.0</td>\n",
              "      <td>1.0</td>\n",
              "      <td>3.75</td>\n",
              "      <td>102077.0</td>\n",
              "      <td>1.514630e+06</td>\n",
              "      <td>1128.0</td>\n",
              "    </tr>\n",
              "  </tbody>\n",
              "</table>\n",
              "</div>"
            ],
            "text/plain": [
              "                    Age  Designation  ...  Total Business Value  expierience\n",
              "left  Emp_ID                          ...                                   \n",
              "False 2       31.000000          2.0  ...          0.000000e+00         25.0\n",
              "      6       31.000000          3.0  ...          2.530000e+05        123.0\n",
              "      11      28.000000          1.0  ...          0.000000e+00         -6.0\n",
              "      14      39.000000          3.0  ...          0.000000e+00         46.0\n",
              "      25      29.666667          3.0  ...          1.514630e+06       1128.0\n",
              "\n",
              "[5 rows x 9 columns]"
            ]
          },
          "metadata": {
            "tags": []
          },
          "execution_count": 978
        }
      ]
    },
    {
      "cell_type": "code",
      "metadata": {
        "id": "WK1swETNJKcQ"
      },
      "source": [
        "train_pivot = train_pivot.reset_index()"
      ],
      "execution_count": 979,
      "outputs": []
    },
    {
      "cell_type": "code",
      "metadata": {
        "id": "VIaLKcI3L-7i"
      },
      "source": [
        "def plot_graphs(df, feature):\n",
        "  fig = px.histogram(df, x=feature, color='left', title=' ', color_discrete_sequence=px.colors.qualitative.Pastel)\n",
        "  fig.show()\n",
        "\n",
        "  fig = px.box(df, y=feature, color_discrete_sequence=px.colors.qualitative.Pastel)\n",
        "  fig.show()"
      ],
      "execution_count": 980,
      "outputs": []
    },
    {
      "cell_type": "code",
      "metadata": {
        "id": "Zdo0XJAAQvfu"
      },
      "source": [
        ""
      ],
      "execution_count": 980,
      "outputs": []
    },
    {
      "cell_type": "markdown",
      "metadata": {
        "id": "4AjCKxB-Qxkh"
      },
      "source": [
        "### Experience\n"
      ]
    },
    {
      "cell_type": "code",
      "metadata": {
        "colab": {
          "base_uri": "https://localhost:8080/",
          "height": 1000
        },
        "id": "AWBqLhRpQz2Q",
        "outputId": "a8bdaebb-f792-4948-a39c-fea8f584a2d4"
      },
      "source": [
        "plot_graphs(train_pivot, 'expierience')"
      ],
      "execution_count": 981,
      "outputs": [
        {
          "output_type": "display_data",
          "data": {
            "text/html": [
              "<html>\n",
              "<head><meta charset=\"utf-8\" /></head>\n",
              "<body>\n",
              "    <div>\n",
              "            <script src=\"https://cdnjs.cloudflare.com/ajax/libs/mathjax/2.7.5/MathJax.js?config=TeX-AMS-MML_SVG\"></script><script type=\"text/javascript\">if (window.MathJax) {MathJax.Hub.Config({SVG: {font: \"STIX-Web\"}});}</script>\n",
              "                <script type=\"text/javascript\">window.PlotlyConfig = {MathJaxConfig: 'local'};</script>\n",
              "        <script src=\"https://cdn.plot.ly/plotly-latest.min.js\"></script>    \n",
              "            <div id=\"0a6990a2-b670-45cd-9b09-d4a60ac70741\" class=\"plotly-graph-div\" style=\"height:525px; width:100%;\"></div>\n",
              "            <script type=\"text/javascript\">\n",
              "                \n",
              "                    window.PLOTLYENV=window.PLOTLYENV || {};\n",
              "                    \n",
              "                if (document.getElementById(\"0a6990a2-b670-45cd-9b09-d4a60ac70741\")) {\n",
              "                    Plotly.newPlot(\n",
              "                        '0a6990a2-b670-45cd-9b09-d4a60ac70741',\n",
              "                        [{\"alignmentgroup\": \"True\", \"bingroup\": \"x\", \"hoverlabel\": {\"namelength\": 0}, \"hovertemplate\": \"left=False<br>expierience=%{x}<br>count=%{y}\", \"legendgroup\": \"left=False\", \"marker\": {\"color\": \"rgb(102, 197, 204)\"}, \"name\": \"left=False\", \"offsetgroup\": \"left=False\", \"orientation\": \"v\", \"showlegend\": true, \"type\": \"histogram\", \"x\": [25.0, 123.0, -6.0, 46.0, 1128.0, 939.0, 150.0, 115.0, 515.0, 186.0, 53.0, 156.0, 508.0, 865.0, 1536.0, 3.0, 1676.0, 697.0, 1870.0, 44.0, 928.0, 807.0, 60.0, 64.0, 457.0, 59.0, 107.0, 231.0, 885.0, 64.0, 1957.0, 1768.0, 116.0, 143.0, 50.0, 77.0, 179.0, 1677.0, -10.0, 1684.0, 420.0, 2363.0, 25.0, 381.0, 347.0, 235.0, 1446.0, 32.0, -19.0, 64.0, 212.0, 818.0, 123.0, 141.0, 156.0, 333.0, 88.0, 109.0, 899.0, 212.0, 50.0, 185.0, 186.0, 550.0, 93.0, -19.0, 1674.0, 154.0, 52.0, 21.0, -17.0, 136.0, 52.0, 905.0, -18.0, 2.0, 2300.0, -10.0, -10.0, 872.0, 329.0, 151.0, 1961.0, 65.0, 14.0, 342.0, 123.0, 91.0, 356.0, 268.0, 398.0, 529.0, 211.0, 32.0, 805.0, 865.0, 238.0, 116.0, 1877.0, -12.0, 44.0, 64.0, 361.0, 1782.0, 2370.0, -6.0, 419.0, 1828.0, 49.0, 1659.0, 151.0, 16.0, 71.0, 25.0, 36.0, 1686.0, 1803.0, 58.0, 204.0, 1208.0, 2669.0, 184.0, 368.0, 303.0, 2433.0, 67.0, 1929.0, 504.0, 11.0, 123.0, 32.0, 60.0, 171.0, 197.0, 357.0, 268.0, 25.0, 64.0, 207.0, -13.0, 155.0, 87.0, -14.0, 515.0, 239.0, 121.0, 86.0, 402.0, 8.0, 360.0, 386.0, -4.0, 64.0, 71.0, 88.0, 107.0, 402.0, 378.0, 1884.0, 109.0, 861.0, -20.0, 434.0, 925.0, 1796.0, 329.0, 126.0, -20.0, 858.0, 1056.0, 371.0, 123.0, 188.0, 64.0, 942.0, 71.0, 150.0, 122.0, -13.0, 1649.0, 1873.0, 184.0, 207.0, 84.0, -24.0, 2389.0, 2698.0, 303.0, 123.0, 144.0, 220.0, 50.0, 130.0, 17.0, 232.0, 1506.0, -10.0, 144.0, 100.0, 94.0, 500.0, 1954.0, 505.0, 214.0, 921.0, 298.0, -27.0, 102.0, 1036.0, -18.0, 1117.0, 1680.0, 186.0, 858.0, -13.0, 403.0, 114.0, 172.0, 3.0, 16.0, 212.0, 1142.0, 44.0, 1680.0, 10.0, 1464.0, 490.0, 30.0, 511.0, 170.0, 137.0, 735.0, 1873.0, 32.0, 102.0, -11.0, 182.0, -3.0, 15.0, -11.0, 2587.0, -13.0, -10.0, 333.0, 912.0, -6.0, 354.0, 2335.0, 293.0, 177.0, 64.0, 1957.0, 109.0, 53.0, 899.0, 156.0, 1649.0, 88.0, 910.0, 458.0, -14.0, 1789.0, 389.0, 87.0, 794.0, 2012.0, 1681.0, 3.0, 2286.0, 408.0, 123.0, 172.0, 32.0, 1957.0, 154.0, 123.0, 119.0, 1821.0, 331.0, 499.0, 210.0, 459.0, 64.0, 120.0, 65.0, 14.0, -17.0, 2216.0, 123.0, 1679.0, 1975.0, 2027.0, 1059.0, 1676.0, 114.0, 81.0, 384.0, 77.0, 182.0, 123.0, 919.0, 213.0, 123.0, 2349.0, 1957.0, 136.0, 121.0, 1767.0, 10.0, 1824.0, 2739.0, 122.0, 64.0, 123.0, 123.0, 380.0, 64.0, 751.0, 214.0, 3.0, 1873.0, 247.0, 28.0, -6.0, 116.0, 1392.0, -13.0, 792.0, 123.0, 395.0, 267.0, 1418.0, 1852.0, 2769.0, 58.0, 1257.0, -12.0, -17.0, 109.0, 64.0, 214.0, 11.0, 521.0, 1.0, -18.0, 816.0, 122.0, 506.0, 1681.0, 1.0, 214.0, 123.0, 886.0, 1831.0, 1597.0, 321.0, 939.0, 354.0, 891.0, 396.0, 91.0, 823.0, -6.0, 907.0, 406.0, 489.0, 382.0, 60.0, 473.0, 64.0, 770.0, 64.0, 3.0, 88.0, 529.0, 2.0, 501.0, 1936.0, 123.0, 136.0, 24.0, -4.0, 924.0, 137.0, 906.0, 28.0, 60.0, 514.0, 162.0, 137.0, 86.0, 512.0, 3.0, 1121.0, 64.0, 144.0, 1121.0, 116.0, 780.0, 123.0, 64.0, 64.0, 2122.0, 179.0, 3.0, 46.0, 91.0, 303.0, 2270.0, 1453.0, 105.0, 155.0, 14.0, 1005.0, 151.0, 1236.0, 122.0, 31.0, 91.0, -6.0, 1438.0, 207.0, 24.0, 442.0, 1919.0, 59.0, 528.0, -10.0, 1950.0, 356.0, 72.0, 1898.0, 212.0, 123.0, 423.0, 150.0, 210.0, 2293.0, 28.0, -7.0, 64.0, 1947.0, 9.0, 28.0, -5.0, 367.0, 78.0, 120.0, 818.0, 2409.0, -10.0, 214.0, 1943.0, 1912.0, 375.0, 1898.0, 123.0, 479.0, 1000.0, 121.0, 1098.0, 858.0, 1684.0, 94.0, 81.0, -14.0, 60.0, 88.0, 1768.0, 32.0, 80.0, 64.0, 1681.0, -4.0, 186.0, 2174.0, 228.0, 1961.0, 120.0, 38.0, 1674.0, 32.0, 129.0, 1845.0, 854.0, 14.0, 198.0, 185.0, 25.0, 58.0, 186.0, 73.0, 1250.0, -12.0, 78.0, 1954.0, 86.0, 305.0, 141.0, 193.0, 165.0, 35.0, 1106.0, 2282.0, 900.0, 520.0, 1082.0, 2304.0, 331.0, 123.0, 60.0, 937.0, 1775.0, -10.0, 186.0, 300.0, 1961.0, 191.0, 1205.0, 1023.0, -14.0, 336.0, 819.0, -10.0, 137.0, 1912.0, 366.0, 123.0, 64.0, 872.0, -19.0, 303.0, 440.0, 210.0, 105.0, 391.0, 310.0, 32.0, 1071.0, 326.0, 297.0, 60.0, 1880.0, 710.0, -4.0, 35.0, -14.0, 74.0, 396.0, 232.0, 699.0, 66.0, -17.0, 2132.0, 1569.0, 186.0, 185.0, 1929.0, -26.0, 123.0, 123.0, 212.0, 123.0, 1676.0, 419.0, 1775.0, 1621.0, 2589.0, 109.0, 2209.0, 88.0, 3.0, 490.0, 46.0, 529.0, 876.0, 157.0, 148.0, 1681.0, 114.0, 2596.0, 32.0, 354.0, 2613.0, 692.0, 277.0, 1624.0, 74.0, 224.0, 184.0, 611.0, 210.0, 772.0, 827.0, 864.0, 86.0, -18.0, 3.0, 379.0, 2596.0, 116.0, 2582.0, 1011.0, 368.0, 1390.0, 52.0, -20.0, 654.0, 141.0, 84.0, 24.0, 1117.0, 1054.0, 3.0, -7.0, 1838.0, 25.0, 938.0, 91.0, 2601.0, 354.0, 135.0, 114.0, 367.0, 67.0, 163.0, 114.0, 221.0, 18.0, 457.0, -13.0, 1942.0, 88.0, 1072.0, 378.0, 226.0, 916.0, 51.0, 547.0, 882.0, 773.0, 9.0, 410.0, 66.0, 1950.0, 2289.0, 116.0, 114.0, 64.0, 2.0, 123.0, 85.0, 186.0, 214.0, 384.0, 1793.0, 193.0, 18.0, 536.0, 375.0, 227.0, 2607.0, 921.0, 304.0, 154.0, 127.0, 64.0, 836.0, 162.0, 18.0, 2010.0, -17.0, 2801.0, 451.0, 91.0, 32.0, 1679.0, 905.0, 848.0, 3.0, 934.0, 728.0, 2017.0, 84.0, 105.0, 912.0, 2188.0, 220.0, 1.0, 1929.0, 134.0, 1957.0, 1570.0, 210.0, 268.0, 1894.0, 2146.0, 1940.0, 25.0, -6.0, 366.0, 14.0, 291.0, 64.0, 64.0, 123.0, 77.0, 2634.0, 154.0, 2166.0, 720.0, 121.0, 15.0, 1680.0, 116.0, 868.0, 168.0, 123.0, 398.0, 1884.0, 171.0, 42.0, 2613.0, 2237.0, 265.0, 484.0, 511.0, 1961.0, 119.0, 2703.0, 541.0, 137.0, 241.0, 64.0, 2.0, 1920.0, 60.0, 2.0, 287.0, 1873.0, 176.0], \"xaxis\": \"x\", \"yaxis\": \"y\"}, {\"alignmentgroup\": \"True\", \"bingroup\": \"x\", \"hoverlabel\": {\"namelength\": 0}, \"hovertemplate\": \"left=True<br>expierience=%{x}<br>count=%{y}\", \"legendgroup\": \"left=True\", \"marker\": {\"color\": \"rgb(246, 207, 113)\"}, \"name\": \"left=True\", \"offsetgroup\": \"left=True\", \"orientation\": \"v\", \"showlegend\": true, \"type\": \"histogram\", \"x\": [708.0, 359.0, 692.0, 73.0, 520.0, 2013.0, 732.0, 1001.0, 692.0, 402.0, 934.0, 921.0, 921.0, 926.0, 424.0, 123.0, 269.0, 518.0, 199.0, 360.0, 388.0, 773.0, 872.0, 67.0, 765.0, 921.0, 742.0, 1289.0, 375.0, 1224.0, 102.0, 695.0, 942.0, 304.0, 854.0, 382.0, 113.0, 921.0, 214.0, 145.0, 510.0, 903.0, 234.0, 459.0, 515.0, 244.0, 1060.0, 550.0, 385.0, 485.0, 871.0, 305.0, 137.0, 497.0, 252.0, 1094.0, 696.0, 366.0, 110.0, 1649.0, 354.0, 326.0, 438.0, 1449.0, 526.0, 728.0, 266.0, 380.0, 429.0, 269.0, 786.0, 856.0, 942.0, 318.0, 2598.0, 214.0, 855.0, 95.0, 345.0, 396.0, 144.0, 905.0, 945.0, 469.0, 291.0, 499.0, 228.0, 442.0, 912.0, 779.0, 151.0, 1178.0, 884.0, 151.0, 1229.0, 896.0, 396.0, 207.0, 532.0, 91.0, 1005.0, 945.0, 515.0, 830.0, 1120.0, 858.0, 801.0, 211.0, 718.0, 812.0, 920.0, 889.0, 322.0, 393.0, 233.0, 1462.0, 394.0, 755.0, 939.0, 156.0, 64.0, 211.0, 2603.0, 368.0, 550.0, 515.0, 1092.0, 937.0, 695.0, 179.0, 500.0, 515.0, 1656.0, 935.0, 2568.0, 21.0, 445.0, 830.0, 387.0, 225.0, 1590.0, 485.0, 780.0, 75.0, 202.0, 785.0, 321.0, 55.0, 393.0, 942.0, 95.0, 1449.0, 170.0, 95.0, 352.0, 396.0, 858.0, 685.0, 1141.0, 420.0, 548.0, 211.0, 1502.0, 394.0, 2607.0, 107.0, 332.0, 141.0, 193.0, 491.0, 1023.0, 149.0, 1460.0, 696.0, 445.0, 468.0, 1873.0, 828.0, 788.0, 258.0, 227.0, 80.0, 804.0, 532.0, 409.0, 333.0, 396.0, 534.0, 732.0, 224.0, 917.0, 721.0, 799.0, 667.0, 804.0, 694.0, 1025.0, 808.0, 536.0, 846.0, 876.0, 319.0, 302.0, 364.0, 1061.0, 553.0, 729.0, 646.0, 870.0, 732.0, 899.0, 772.0, 806.0, 358.0, 269.0, 303.0, 83.0, 519.0, 395.0, 924.0, 772.0, 2125.0, 1467.0, 557.0, 764.0, 305.0, 547.0, 776.0, 913.0, 774.0, 543.0, 832.0, 849.0, 1018.0, 1045.0, 513.0, 1950.0, 786.0, 1850.0, 1677.0, 821.0, 871.0, 534.0, 695.0, 541.0, 186.0, 903.0, 1271.0, 779.0, 368.0, 437.0, 93.0, 20.0, 2583.0, 2605.0, 471.0, 147.0, 361.0, 220.0, 722.0, 503.0, 1053.0, 347.0, 379.0, 103.0, 294.0, 207.0, 857.0, 168.0, 872.0, 279.0, 914.0, 452.0, 729.0, 1285.0, 1957.0, 480.0, 1516.0, 23.0, 772.0, 409.0, 214.0, 189.0, 774.0, 173.0, 935.0, 375.0, 895.0, 1943.0, 685.0, 1835.0, 557.0, 902.0, 232.0, 77.0, 815.0, 396.0, 692.0, 2377.0, 230.0, 398.0, 1198.0, 265.0, 732.0, 262.0, 525.0, 1912.0, 498.0, 943.0, 1390.0, 515.0, 1957.0, 76.0, 72.0, 899.0, 447.0, 742.0, 1922.0, 302.0, 1233.0, 686.0, 924.0, 302.0, 212.0, 515.0, 207.0, 212.0, 29.0, 1250.0, 1887.0, 82.0, 214.0, 277.0, 830.0, 715.0, 414.0, 1653.0, 241.0, 405.0, 304.0, 1046.0, 381.0, 774.0, 393.0, 322.0, 837.0, 772.0, 925.0, 1267.0, 353.0, 750.0, 739.0, 365.0, 779.0, 794.0, 814.0, 143.0, 685.0, 151.0, 1157.0, 359.0, 611.0, 487.0, 548.0, 361.0, 757.0, 811.0, 52.0, 696.0, 179.0, 310.0, 150.0, 814.0, 368.0, 395.0, 121.0, 443.0, 2020.0, 2318.0, 787.0, 154.0, 394.0, 423.0, 899.0, 78.0, 722.0, 156.0, 1079.0, 490.0, 123.0, 260.0, 1071.0, 689.0, 519.0, 1681.0, 424.0, 148.0, 925.0, 375.0, 850.0, 388.0, 749.0, 82.0, 123.0, 1422.0, 559.0, 88.0, 801.0, 480.0, 790.0, 210.0, 1261.0, 86.0, 1045.0, 403.0, 1467.0, 554.0, 1239.0, 457.0, 358.0, 172.0, 732.0, 1288.0, 232.0, 143.0, 399.0, 175.0, 368.0, 536.0, 240.0, 345.0, 1817.0, 239.0, 458.0, 751.0, 356.0, 2013.0, 1849.0, 844.0, 133.0, 360.0, 519.0, 231.0, 385.0, 688.0, 68.0, 200.0, 396.0, 788.0, 274.0, 480.0, 923.0, 1933.0, 499.0, 937.0, 353.0, 540.0, 865.0, 498.0, 1036.0, 790.0, 480.0, 114.0, 1954.0, 1015.0, 473.0, 195.0, 431.0, 144.0, 1989.0, 732.0, 241.0, 111.0, 206.0, 1680.0, 198.0, 696.0, 882.0, 464.0, 529.0, 661.0, 725.0, 724.0, 315.0, 77.0, 618.0, 231.0, 878.0, 158.0, 882.0, 911.0, 2607.0, 774.0, 800.0, 391.0, 1242.0, 1178.0, 696.0, 444.0, 833.0, 764.0, 899.0, 755.0, 123.0, 480.0, 772.0, 874.0, 802.0, 352.0, 445.0, 1768.0, 456.0, 550.0, 6.0, 116.0, 382.0, 774.0, 333.0, 938.0, 211.0, 315.0, 170.0, 78.0, 395.0, 771.0, 939.0, 272.0, 1950.0, 214.0, 207.0, 291.0, 1239.0, 233.0, 692.0, 192.0, 396.0, 548.0, 246.0, 179.0, 718.0, 36.0, 508.0, 1663.0, 87.0, 806.0, 64.0, 732.0, 1771.0, 851.0, 435.0, 423.0, 696.0, 498.0, 71.0, 926.0, 1451.0, 1072.0, 1675.0, 928.0, 1137.0, 913.0, 368.0, 1054.0, 704.0, 830.0, 744.0, 844.0, 212.0, 367.0, 459.0, 2622.0, 143.0, 160.0, 1873.0, 1901.0, 507.0, 164.0, 342.0, 206.0, 20.0, 170.0, 109.0, 380.0, 836.0, 225.0, 385.0, 449.0, 165.0, 2608.0, 137.0, 937.0, 920.0, 336.0, 872.0, 470.0, 339.0, 246.0, 383.0, 501.0, 2622.0, 1681.0, 722.0, 1471.0, 858.0, 366.0, 156.0, 771.0, 932.0, 231.0, 399.0, 688.0, 783.0, 109.0, 240.0, 1063.0, 1025.0, 853.0, 937.0, 193.0, 212.0, 814.0, 141.0, 116.0, 194.0, 913.0, 771.0, 358.0, 795.0, 417.0, 849.0, 416.0, 1676.0, 228.0, 911.0, 396.0, 939.0, 293.0, 486.0, 36.0, 106.0, 186.0, 853.0, 808.0, 932.0, 305.0, 263.0, 459.0, 696.0, 738.0, 756.0, 806.0, 483.0, 283.0, 808.0, 1215.0, 116.0, 1194.0, 365.0, 1091.0, 170.0, 176.0, 305.0, 1025.0, 334.0, 490.0, 228.0, 508.0, 381.0, 732.0, 528.0, 900.0, 121.0, 933.0, 864.0, 693.0, 162.0, 930.0, 186.0, 475.0, 487.0, 414.0, 402.0, 381.0, 319.0, 933.0, 449.0, 1080.0, 2010.0, 529.0, 358.0, 1478.0, 997.0, 294.0, 196.0, 151.0, 744.0, 365.0, 494.0, 924.0, 515.0, 185.0, 221.0, 498.0, 704.0, 1467.0, 200.0, 1677.0, 1679.0, 136.0, 124.0, 574.0, 234.0, 767.0, 783.0, 459.0, 766.0, 918.0, 422.0, 916.0, 1677.0, 909.0, 725.0, 515.0, 394.0, 508.0, 401.0, 489.0, 785.0, 924.0, 6.0, 452.0, 606.0, 916.0, 250.0, 585.0, 472.0, 316.0, 333.0, 193.0, 484.0, 413.0, 112.0, 1239.0, 794.0, 84.0, 186.0, 1957.0, 303.0, 744.0, 372.0, 2618.0, 553.0, 526.0, 1200.0, 210.0, 122.0, 906.0, 784.0, 480.0, 322.0, 514.0, 366.0, 741.0, 429.0, 1954.0, 234.0, 555.0, 77.0, 1065.0, 902.0, 543.0, 802.0, 200.0, 170.0, 763.0, 486.0, 1863.0, 218.0, 524.0, 498.0, 708.0, 1464.0, 2668.0, 806.0, 486.0, 923.0, 515.0, 119.0, 274.0, 1017.0, 886.0, 1679.0, 357.0, 512.0, 151.0, 381.0, 925.0, 395.0, 473.0, 731.0, 156.0, 829.0, 844.0, 1038.0, 811.0, 333.0, 744.0, 699.0, 305.0, 688.0, 381.0, 385.0, 790.0, 1124.0, 725.0, 846.0, 345.0, 795.0, 324.0, 364.0, 142.0, 822.0, 813.0, 1894.0, 829.0, 878.0, 729.0, 696.0, 458.0, 1018.0, 1649.0, 2341.0, 868.0, 410.0, 171.0, 513.0, 298.0, 24.0, 695.0, 234.0, 878.0, 247.0, 704.0, 256.0, 227.0, 58.0, 498.0, 243.0, 211.0, 171.0, 429.0, 473.0, 89.0, 2690.0, 499.0, 575.0, 879.0, 512.0, 1898.0, 2589.0, 207.0, 332.0, 799.0, 837.0, 732.0, 129.0, 1410.0, 71.0, 281.0, 500.0, 1677.0, 200.0, 749.0, 212.0, 396.0, 333.0, 774.0, 526.0, 892.0, 176.0, 557.0, 794.0, 890.0, 1936.0, 905.0, 770.0, 156.0, 490.0, 933.0, 396.0, 429.0, 543.0, 521.0, 23.0, 241.0, 440.0, 788.0, 452.0, 823.0, 249.0, 2725.0, 1018.0, 767.0, 179.0, 40.0, 18.0, 850.0, 2010.0, 475.0, 459.0, 811.0, 101.0, 325.0, 367.0, 550.0, 1058.0, 785.0, 310.0, 189.0, 1135.0, 263.0, 1047.0, 730.0, 521.0, 225.0, 354.0, 1053.0, 701.0, 247.0, 599.0, 822.0, 387.0, 813.0, 423.0, 200.0, 820.0, 772.0, 218.0, 487.0, 1659.0, 1785.0, 219.0, 608.0, 449.0, 364.0, 1425.0, 892.0, 409.0, 872.0, 1063.0, 331.0, 834.0, 186.0, 214.0, 850.0, 175.0, 295.0, 466.0, 527.0, 2610.0, 486.0, 326.0, 259.0, 301.0, 156.0, 347.0, 690.0, 491.0, 986.0, 484.0, 689.0, 1659.0, 193.0, 2617.0, 792.0, 356.0, 811.0, 1950.0, 543.0, 197.0, 63.0, 2223.0, 230.0, 1928.0, 225.0, 1053.0, 140.0, 711.0, 234.0, 1689.0, 193.0, 198.0, 843.0, 124.0, 799.0, 1576.0, 458.0, 692.0, 384.0, 1114.0, 265.0, 146.0, 730.0, 1747.0, 366.0, 877.0, 275.0, 928.0, 165.0, 900.0, 150.0, 298.0, 1467.0, 123.0, 800.0, 361.0, 515.0, 868.0, 1044.0, 419.0, 351.0, 419.0, 937.0, 814.0, 534.0, 788.0, 507.0, 1768.0, 774.0, 200.0, 104.0, 47.0, 849.0, 800.0, 916.0, 518.0, 730.0, 910.0, 13.0, 939.0, 809.0, 155.0, 293.0, 711.0, 926.0, 158.0, 934.0, 392.0, 1044.0, 210.0, 744.0, 1940.0, 1961.0, 364.0, 1095.0, 365.0, 266.0, 687.0, 114.0, 732.0, 356.0, 1395.0, 1710.0, 249.0, 944.0, 581.0, 722.0, 1126.0, 378.0, 338.0, 872.0, 1393.0, 303.0, 497.0, 59.0, 160.0, 52.0, 603.0, 457.0, 1101.0, 379.0, 508.0, 116.0, 1642.0, 119.0, 1016.0, 108.0, 393.0, 394.0, 1964.0, 1089.0, 928.0, 897.0, 429.0, 396.0, 1044.0, 1086.0, 367.0, 1464.0, 925.0, 773.0, 29.0, 753.0, 421.0, 305.0, 1113.0, 238.0, 442.0, 995.0, 513.0, 90.0, 398.0, 7.0, 550.0, 1242.0, 420.0, 896.0, 294.0, 137.0, 897.0, 711.0, 732.0, 529.0, 176.0, 41.0, 811.0, 883.0, 389.0, 772.0, 536.0, 942.0, 520.0, 706.0, 265.0, 149.0, 695.0, 923.0, 927.0, 389.0, 464.0, 121.0, 2723.0, 64.0, 379.0, 156.0, 359.0, 336.0, 931.0, 295.0, 1677.0, 1541.0, 539.0, 305.0, 941.0, 455.0, 204.0, 420.0, 378.0, 68.0, 920.0, 854.0, 932.0, 924.0, 57.0, 423.0, 682.0, 1004.0, 172.0, 381.0, 206.0, 479.0, 2243.0, 179.0, 147.0, 186.0, 763.0, 84.0, 543.0, 262.0, 218.0, 792.0, 42.0, 1744.0, 161.0, 204.0, 903.0, 156.0, 701.0, 471.0, 543.0, 50.0, 867.0, 119.0, 812.0, 360.0, 419.0, 715.0, 398.0, 2800.0, 938.0, 438.0, 1950.0, 142.0, 686.0, 767.0, 366.0, 444.0, 770.0, 834.0, 785.0, 521.0, 494.0, 744.0, 769.0, 721.0, 832.0, 791.0, 333.0, 171.0, 833.0, 1950.0, 1852.0, 388.0, 186.0, 159.0, 156.0, 1863.0, 317.0, 1011.0, 321.0, 156.0, 933.0, 809.0, 1793.0, 763.0, 781.0, 917.0, 882.0, 521.0, 1670.0, 429.0, 378.0, 470.0, 1679.0, 1122.0, 771.0, 20.0, 1390.0, 235.0, 928.0, 132.0, 1670.0, 829.0, 372.0, 868.0, 157.0, 1571.0, 534.0, 1681.0, 420.0, 2620.0, 147.0, 1023.0, 772.0, 268.0, 1053.0, 464.0, 695.0, 1061.0, 1047.0, 942.0, 169.0, 925.0, 214.0, 197.0, 1078.0, 316.0, 673.0, 1147.0, 333.0, 300.0, 211.0, 2103.0, 909.0, 907.0, 1940.0, 127.0, 138.0, 696.0, 16.0, 417.0, 942.0, 214.0, 186.0, 395.0, 899.0, 837.0, 786.0, 868.0, 2012.0, 475.0, 650.0, 231.0, 121.0, 857.0, 193.0, 739.0, 858.0, 19.0, 519.0, 2300.0, 877.0, 512.0, 473.0, 717.0, 1007.0, 192.0, 429.0, 388.0, 304.0, 490.0, 207.0, 429.0, 445.0, 892.0, 549.0, 395.0, 3.0, 413.0, 925.0, 323.0, 30.0, 210.0, 109.0, 368.0, 413.0, 294.0, 137.0, 375.0, 234.0, 529.0, 528.0, 172.0, 186.0, 729.0, 897.0, 25.0, 742.0, 408.0, 1388.0, 806.0, 329.0, 920.0, 387.0, 1929.0, 396.0, 686.0, 298.0, 1688.0, 275.0, 270.0, 137.0, 1768.0, 192.0, 728.0, 229.0, 1677.0, 231.0, 1099.0, 834.0, 786.0, 1250.0, 147.0, 445.0, 459.0, 115.0, 811.0, 163.0, 1943.0, 133.0, 942.0, 354.0, 675.0, 653.0, 1675.0, 940.0, 471.0, 538.0, 1845.0, 190.0, 368.0, 942.0, 746.0, 1789.0, 141.0, 16.0, 388.0, 232.0, 91.0, 1863.0, 247.0, 307.0, 163.0, 1065.0, 455.0, 416.0, 1102.0, 889.0, 144.0, 556.0, 200.0, 1063.0, 1262.0, 816.0, 844.0, 359.0, 198.0, 364.0, 549.0, 304.0, 240.0, 1008.0, 239.0, 791.0, 156.0, 392.0, 260.0, 904.0, 1023.0, 232.0, 416.0, 913.0, 361.0, 865.0, 1375.0, 375.0, 336.0, 1109.0, 1651.0, 750.0, 513.0, 484.0, 445.0, 521.0, 186.0, 367.0, 380.0, 928.0, 156.0, 2402.0, 1675.0, 396.0, 519.0, 2597.0, 1922.0, 267.0, 396.0, 714.0, 515.0, 1947.0, 156.0, 387.0, 779.0, 685.0, 343.0, 491.0, 953.0, 361.0, 126.0, 1242.0, 2164.0, 536.0, 942.0, 132.0, 1098.0, 440.0, 1922.0, 9.0, 1607.0, 140.0, 683.0, 513.0, 220.0, 141.0, 686.0, 514.0, 1943.0, 198.0, 763.0, 291.0, 543.0, 212.0, 898.0, 1681.0, 1845.0, 449.0, 437.0, 714.0, 2017.0, 521.0, 695.0, 424.0, 2692.0, 256.0, 914.0, 708.0, 182.0, 333.0, 543.0, 421.0, 895.0, 431.0, 214.0, 693.0, 878.0, 1950.0, 907.0, 1102.0, 228.0, 1957.0, 856.0, 442.0, 1176.0, 182.0, 809.0, 214.0, 1193.0, 20.0, 554.0, 1590.0, 804.0, 522.0, 94.0, 293.0, 232.0, 431.0, 1765.0, 98.0, 77.0, 396.0, 2601.0, 191.0, 1360.0, 170.0, 403.0, 865.0, 147.0, 503.0, 750.0, 1236.0, 889.0, 333.0, 942.0, 276.0, 16.0, 1576.0, 385.0, 259.0, 490.0, 501.0, 232.0, 394.0, 354.0, 420.0, 260.0, 473.0, 109.0, 109.0, 459.0, 519.0, 533.0, 375.0, 549.0, 774.0, 696.0, 263.0, 559.0, 804.0, 939.0, 1624.0, 80.0, 557.0, 730.0, 512.0, 177.0, 815.0, 723.0, 517.0, 870.0, 262.0, 200.0, 27.0, 83.0, 1852.0, 213.0, 331.0, 389.0, 830.0, 424.0, 941.0, 791.0, 2583.0, 1670.0, 1268.0, 528.0, 864.0, 697.0, 309.0, 564.0, 95.0, 854.0, 864.0], \"xaxis\": \"x\", \"yaxis\": \"y\"}],\n",
              "                        {\"barmode\": \"relative\", \"legend\": {\"tracegroupgap\": 0}, \"template\": {\"data\": {\"bar\": [{\"error_x\": {\"color\": \"#2a3f5f\"}, \"error_y\": {\"color\": \"#2a3f5f\"}, \"marker\": {\"line\": {\"color\": \"#E5ECF6\", \"width\": 0.5}}, \"type\": \"bar\"}], \"barpolar\": [{\"marker\": {\"line\": {\"color\": \"#E5ECF6\", \"width\": 0.5}}, \"type\": \"barpolar\"}], \"carpet\": [{\"aaxis\": {\"endlinecolor\": \"#2a3f5f\", \"gridcolor\": \"white\", \"linecolor\": \"white\", \"minorgridcolor\": \"white\", \"startlinecolor\": \"#2a3f5f\"}, \"baxis\": {\"endlinecolor\": \"#2a3f5f\", \"gridcolor\": \"white\", \"linecolor\": \"white\", \"minorgridcolor\": \"white\", \"startlinecolor\": \"#2a3f5f\"}, \"type\": \"carpet\"}], \"choropleth\": [{\"colorbar\": {\"outlinewidth\": 0, \"ticks\": \"\"}, \"type\": \"choropleth\"}], \"contour\": [{\"colorbar\": {\"outlinewidth\": 0, \"ticks\": \"\"}, \"colorscale\": [[0.0, \"#0d0887\"], [0.1111111111111111, \"#46039f\"], [0.2222222222222222, \"#7201a8\"], [0.3333333333333333, \"#9c179e\"], [0.4444444444444444, \"#bd3786\"], [0.5555555555555556, \"#d8576b\"], [0.6666666666666666, \"#ed7953\"], [0.7777777777777778, \"#fb9f3a\"], [0.8888888888888888, \"#fdca26\"], [1.0, \"#f0f921\"]], \"type\": \"contour\"}], \"contourcarpet\": [{\"colorbar\": {\"outlinewidth\": 0, \"ticks\": \"\"}, \"type\": \"contourcarpet\"}], \"heatmap\": [{\"colorbar\": {\"outlinewidth\": 0, \"ticks\": \"\"}, \"colorscale\": [[0.0, \"#0d0887\"], [0.1111111111111111, \"#46039f\"], [0.2222222222222222, \"#7201a8\"], [0.3333333333333333, \"#9c179e\"], [0.4444444444444444, \"#bd3786\"], [0.5555555555555556, \"#d8576b\"], [0.6666666666666666, \"#ed7953\"], [0.7777777777777778, \"#fb9f3a\"], [0.8888888888888888, \"#fdca26\"], [1.0, \"#f0f921\"]], \"type\": \"heatmap\"}], \"heatmapgl\": [{\"colorbar\": {\"outlinewidth\": 0, \"ticks\": \"\"}, \"colorscale\": [[0.0, \"#0d0887\"], [0.1111111111111111, \"#46039f\"], [0.2222222222222222, \"#7201a8\"], [0.3333333333333333, \"#9c179e\"], [0.4444444444444444, \"#bd3786\"], [0.5555555555555556, \"#d8576b\"], [0.6666666666666666, \"#ed7953\"], [0.7777777777777778, \"#fb9f3a\"], [0.8888888888888888, \"#fdca26\"], [1.0, \"#f0f921\"]], \"type\": \"heatmapgl\"}], \"histogram\": [{\"marker\": {\"colorbar\": {\"outlinewidth\": 0, \"ticks\": \"\"}}, \"type\": \"histogram\"}], \"histogram2d\": [{\"colorbar\": {\"outlinewidth\": 0, \"ticks\": \"\"}, \"colorscale\": [[0.0, \"#0d0887\"], [0.1111111111111111, \"#46039f\"], [0.2222222222222222, \"#7201a8\"], [0.3333333333333333, \"#9c179e\"], [0.4444444444444444, \"#bd3786\"], [0.5555555555555556, \"#d8576b\"], [0.6666666666666666, \"#ed7953\"], [0.7777777777777778, \"#fb9f3a\"], [0.8888888888888888, \"#fdca26\"], [1.0, \"#f0f921\"]], \"type\": \"histogram2d\"}], \"histogram2dcontour\": [{\"colorbar\": {\"outlinewidth\": 0, \"ticks\": \"\"}, \"colorscale\": [[0.0, \"#0d0887\"], [0.1111111111111111, \"#46039f\"], [0.2222222222222222, \"#7201a8\"], [0.3333333333333333, \"#9c179e\"], [0.4444444444444444, \"#bd3786\"], [0.5555555555555556, \"#d8576b\"], [0.6666666666666666, \"#ed7953\"], [0.7777777777777778, \"#fb9f3a\"], [0.8888888888888888, \"#fdca26\"], [1.0, \"#f0f921\"]], \"type\": \"histogram2dcontour\"}], \"mesh3d\": [{\"colorbar\": {\"outlinewidth\": 0, \"ticks\": \"\"}, \"type\": \"mesh3d\"}], \"parcoords\": [{\"line\": {\"colorbar\": {\"outlinewidth\": 0, \"ticks\": \"\"}}, \"type\": \"parcoords\"}], \"pie\": [{\"automargin\": true, \"type\": \"pie\"}], \"scatter\": [{\"marker\": {\"colorbar\": {\"outlinewidth\": 0, \"ticks\": \"\"}}, \"type\": \"scatter\"}], \"scatter3d\": [{\"line\": {\"colorbar\": {\"outlinewidth\": 0, \"ticks\": \"\"}}, \"marker\": {\"colorbar\": {\"outlinewidth\": 0, \"ticks\": \"\"}}, \"type\": \"scatter3d\"}], \"scattercarpet\": [{\"marker\": {\"colorbar\": {\"outlinewidth\": 0, \"ticks\": \"\"}}, \"type\": \"scattercarpet\"}], \"scattergeo\": [{\"marker\": {\"colorbar\": {\"outlinewidth\": 0, \"ticks\": \"\"}}, \"type\": \"scattergeo\"}], \"scattergl\": [{\"marker\": {\"colorbar\": {\"outlinewidth\": 0, \"ticks\": \"\"}}, \"type\": \"scattergl\"}], \"scattermapbox\": [{\"marker\": {\"colorbar\": {\"outlinewidth\": 0, \"ticks\": \"\"}}, \"type\": \"scattermapbox\"}], \"scatterpolar\": [{\"marker\": {\"colorbar\": {\"outlinewidth\": 0, \"ticks\": \"\"}}, \"type\": \"scatterpolar\"}], \"scatterpolargl\": [{\"marker\": {\"colorbar\": {\"outlinewidth\": 0, \"ticks\": \"\"}}, \"type\": \"scatterpolargl\"}], \"scatterternary\": [{\"marker\": {\"colorbar\": {\"outlinewidth\": 0, \"ticks\": \"\"}}, \"type\": \"scatterternary\"}], \"surface\": [{\"colorbar\": {\"outlinewidth\": 0, \"ticks\": \"\"}, \"colorscale\": [[0.0, \"#0d0887\"], [0.1111111111111111, \"#46039f\"], [0.2222222222222222, \"#7201a8\"], [0.3333333333333333, \"#9c179e\"], [0.4444444444444444, \"#bd3786\"], [0.5555555555555556, \"#d8576b\"], [0.6666666666666666, \"#ed7953\"], [0.7777777777777778, \"#fb9f3a\"], [0.8888888888888888, \"#fdca26\"], [1.0, \"#f0f921\"]], \"type\": \"surface\"}], \"table\": [{\"cells\": {\"fill\": {\"color\": \"#EBF0F8\"}, \"line\": {\"color\": \"white\"}}, \"header\": {\"fill\": {\"color\": \"#C8D4E3\"}, \"line\": {\"color\": \"white\"}}, \"type\": \"table\"}]}, \"layout\": {\"annotationdefaults\": {\"arrowcolor\": \"#2a3f5f\", \"arrowhead\": 0, \"arrowwidth\": 1}, \"coloraxis\": {\"colorbar\": {\"outlinewidth\": 0, \"ticks\": \"\"}}, \"colorscale\": {\"diverging\": [[0, \"#8e0152\"], [0.1, \"#c51b7d\"], [0.2, \"#de77ae\"], [0.3, \"#f1b6da\"], [0.4, \"#fde0ef\"], [0.5, \"#f7f7f7\"], [0.6, \"#e6f5d0\"], [0.7, \"#b8e186\"], [0.8, \"#7fbc41\"], [0.9, \"#4d9221\"], [1, \"#276419\"]], \"sequential\": [[0.0, \"#0d0887\"], [0.1111111111111111, \"#46039f\"], [0.2222222222222222, \"#7201a8\"], [0.3333333333333333, \"#9c179e\"], [0.4444444444444444, \"#bd3786\"], [0.5555555555555556, \"#d8576b\"], [0.6666666666666666, \"#ed7953\"], [0.7777777777777778, \"#fb9f3a\"], [0.8888888888888888, \"#fdca26\"], [1.0, \"#f0f921\"]], \"sequentialminus\": [[0.0, \"#0d0887\"], [0.1111111111111111, \"#46039f\"], [0.2222222222222222, \"#7201a8\"], [0.3333333333333333, \"#9c179e\"], [0.4444444444444444, \"#bd3786\"], [0.5555555555555556, \"#d8576b\"], [0.6666666666666666, \"#ed7953\"], [0.7777777777777778, \"#fb9f3a\"], [0.8888888888888888, \"#fdca26\"], [1.0, \"#f0f921\"]]}, \"colorway\": [\"#636efa\", \"#EF553B\", \"#00cc96\", \"#ab63fa\", \"#FFA15A\", \"#19d3f3\", \"#FF6692\", \"#B6E880\", \"#FF97FF\", \"#FECB52\"], \"font\": {\"color\": \"#2a3f5f\"}, \"geo\": {\"bgcolor\": \"white\", \"lakecolor\": \"white\", \"landcolor\": \"#E5ECF6\", \"showlakes\": true, \"showland\": true, \"subunitcolor\": \"white\"}, \"hoverlabel\": {\"align\": \"left\"}, \"hovermode\": \"closest\", \"mapbox\": {\"style\": \"light\"}, \"paper_bgcolor\": \"white\", \"plot_bgcolor\": \"#E5ECF6\", \"polar\": {\"angularaxis\": {\"gridcolor\": \"white\", \"linecolor\": \"white\", \"ticks\": \"\"}, \"bgcolor\": \"#E5ECF6\", \"radialaxis\": {\"gridcolor\": \"white\", \"linecolor\": \"white\", \"ticks\": \"\"}}, \"scene\": {\"xaxis\": {\"backgroundcolor\": \"#E5ECF6\", \"gridcolor\": \"white\", \"gridwidth\": 2, \"linecolor\": \"white\", \"showbackground\": true, \"ticks\": \"\", \"zerolinecolor\": \"white\"}, \"yaxis\": {\"backgroundcolor\": \"#E5ECF6\", \"gridcolor\": \"white\", \"gridwidth\": 2, \"linecolor\": \"white\", \"showbackground\": true, \"ticks\": \"\", \"zerolinecolor\": \"white\"}, \"zaxis\": {\"backgroundcolor\": \"#E5ECF6\", \"gridcolor\": \"white\", \"gridwidth\": 2, \"linecolor\": \"white\", \"showbackground\": true, \"ticks\": \"\", \"zerolinecolor\": \"white\"}}, \"shapedefaults\": {\"line\": {\"color\": \"#2a3f5f\"}}, \"ternary\": {\"aaxis\": {\"gridcolor\": \"white\", \"linecolor\": \"white\", \"ticks\": \"\"}, \"baxis\": {\"gridcolor\": \"white\", \"linecolor\": \"white\", \"ticks\": \"\"}, \"bgcolor\": \"#E5ECF6\", \"caxis\": {\"gridcolor\": \"white\", \"linecolor\": \"white\", \"ticks\": \"\"}}, \"title\": {\"x\": 0.05}, \"xaxis\": {\"automargin\": true, \"gridcolor\": \"white\", \"linecolor\": \"white\", \"ticks\": \"\", \"title\": {\"standoff\": 15}, \"zerolinecolor\": \"white\", \"zerolinewidth\": 2}, \"yaxis\": {\"automargin\": true, \"gridcolor\": \"white\", \"linecolor\": \"white\", \"ticks\": \"\", \"title\": {\"standoff\": 15}, \"zerolinecolor\": \"white\", \"zerolinewidth\": 2}}}, \"title\": {\"text\": \" \"}, \"xaxis\": {\"anchor\": \"y\", \"domain\": [0.0, 1.0], \"title\": {\"text\": \"expierience\"}}, \"yaxis\": {\"anchor\": \"x\", \"domain\": [0.0, 1.0], \"title\": {\"text\": \"count\"}}},\n",
              "                        {\"responsive\": true}\n",
              "                    ).then(function(){\n",
              "                            \n",
              "var gd = document.getElementById('0a6990a2-b670-45cd-9b09-d4a60ac70741');\n",
              "var x = new MutationObserver(function (mutations, observer) {{\n",
              "        var display = window.getComputedStyle(gd).display;\n",
              "        if (!display || display === 'none') {{\n",
              "            console.log([gd, 'removed!']);\n",
              "            Plotly.purge(gd);\n",
              "            observer.disconnect();\n",
              "        }}\n",
              "}});\n",
              "\n",
              "// Listen for the removal of the full notebook cells\n",
              "var notebookContainer = gd.closest('#notebook-container');\n",
              "if (notebookContainer) {{\n",
              "    x.observe(notebookContainer, {childList: true});\n",
              "}}\n",
              "\n",
              "// Listen for the clearing of the current output cell\n",
              "var outputEl = gd.closest('.output');\n",
              "if (outputEl) {{\n",
              "    x.observe(outputEl, {childList: true});\n",
              "}}\n",
              "\n",
              "                        })\n",
              "                };\n",
              "                \n",
              "            </script>\n",
              "        </div>\n",
              "</body>\n",
              "</html>"
            ]
          },
          "metadata": {
            "tags": []
          }
        },
        {
          "output_type": "display_data",
          "data": {
            "text/html": [
              "<html>\n",
              "<head><meta charset=\"utf-8\" /></head>\n",
              "<body>\n",
              "    <div>\n",
              "            <script src=\"https://cdnjs.cloudflare.com/ajax/libs/mathjax/2.7.5/MathJax.js?config=TeX-AMS-MML_SVG\"></script><script type=\"text/javascript\">if (window.MathJax) {MathJax.Hub.Config({SVG: {font: \"STIX-Web\"}});}</script>\n",
              "                <script type=\"text/javascript\">window.PlotlyConfig = {MathJaxConfig: 'local'};</script>\n",
              "        <script src=\"https://cdn.plot.ly/plotly-latest.min.js\"></script>    \n",
              "            <div id=\"7a17204e-dc49-4092-b708-13a00c5a9f50\" class=\"plotly-graph-div\" style=\"height:525px; width:100%;\"></div>\n",
              "            <script type=\"text/javascript\">\n",
              "                \n",
              "                    window.PLOTLYENV=window.PLOTLYENV || {};\n",
              "                    \n",
              "                if (document.getElementById(\"7a17204e-dc49-4092-b708-13a00c5a9f50\")) {\n",
              "                    Plotly.newPlot(\n",
              "                        '7a17204e-dc49-4092-b708-13a00c5a9f50',\n",
              "                        [{\"alignmentgroup\": \"True\", \"hoverlabel\": {\"namelength\": 0}, \"hovertemplate\": \"expierience=%{y}\", \"legendgroup\": \"\", \"marker\": {\"color\": \"rgb(102, 197, 204)\"}, \"name\": \"\", \"notched\": false, \"offsetgroup\": \"\", \"orientation\": \"v\", \"showlegend\": false, \"type\": \"box\", \"x0\": \" \", \"xaxis\": \"x\", \"y\": [25.0, 123.0, -6.0, 46.0, 1128.0, 939.0, 150.0, 115.0, 515.0, 186.0, 53.0, 156.0, 508.0, 865.0, 1536.0, 3.0, 1676.0, 697.0, 1870.0, 44.0, 928.0, 807.0, 60.0, 64.0, 457.0, 59.0, 107.0, 231.0, 885.0, 64.0, 1957.0, 1768.0, 116.0, 143.0, 50.0, 77.0, 179.0, 1677.0, -10.0, 1684.0, 420.0, 2363.0, 25.0, 381.0, 347.0, 235.0, 1446.0, 32.0, -19.0, 64.0, 212.0, 818.0, 123.0, 141.0, 156.0, 333.0, 88.0, 109.0, 899.0, 212.0, 50.0, 185.0, 186.0, 550.0, 93.0, -19.0, 1674.0, 154.0, 52.0, 21.0, -17.0, 136.0, 52.0, 905.0, -18.0, 2.0, 2300.0, -10.0, -10.0, 872.0, 329.0, 151.0, 1961.0, 65.0, 14.0, 342.0, 123.0, 91.0, 356.0, 268.0, 398.0, 529.0, 211.0, 32.0, 805.0, 865.0, 238.0, 116.0, 1877.0, -12.0, 44.0, 64.0, 361.0, 1782.0, 2370.0, -6.0, 419.0, 1828.0, 49.0, 1659.0, 151.0, 16.0, 71.0, 25.0, 36.0, 1686.0, 1803.0, 58.0, 204.0, 1208.0, 2669.0, 184.0, 368.0, 303.0, 2433.0, 67.0, 1929.0, 504.0, 11.0, 123.0, 32.0, 60.0, 171.0, 197.0, 357.0, 268.0, 25.0, 64.0, 207.0, -13.0, 155.0, 87.0, -14.0, 515.0, 239.0, 121.0, 86.0, 402.0, 8.0, 360.0, 386.0, -4.0, 64.0, 71.0, 88.0, 107.0, 402.0, 378.0, 1884.0, 109.0, 861.0, -20.0, 434.0, 925.0, 1796.0, 329.0, 126.0, -20.0, 858.0, 1056.0, 371.0, 123.0, 188.0, 64.0, 942.0, 71.0, 150.0, 122.0, -13.0, 1649.0, 1873.0, 184.0, 207.0, 84.0, -24.0, 2389.0, 2698.0, 303.0, 123.0, 144.0, 220.0, 50.0, 130.0, 17.0, 232.0, 1506.0, -10.0, 144.0, 100.0, 94.0, 500.0, 1954.0, 505.0, 214.0, 921.0, 298.0, -27.0, 102.0, 1036.0, -18.0, 1117.0, 1680.0, 186.0, 858.0, -13.0, 403.0, 114.0, 172.0, 3.0, 16.0, 212.0, 1142.0, 44.0, 1680.0, 10.0, 1464.0, 490.0, 30.0, 511.0, 170.0, 137.0, 735.0, 1873.0, 32.0, 102.0, -11.0, 182.0, -3.0, 15.0, -11.0, 2587.0, -13.0, -10.0, 333.0, 912.0, -6.0, 354.0, 2335.0, 293.0, 177.0, 64.0, 1957.0, 109.0, 53.0, 899.0, 156.0, 1649.0, 88.0, 910.0, 458.0, -14.0, 1789.0, 389.0, 87.0, 794.0, 2012.0, 1681.0, 3.0, 2286.0, 408.0, 123.0, 172.0, 32.0, 1957.0, 154.0, 123.0, 119.0, 1821.0, 331.0, 499.0, 210.0, 459.0, 64.0, 120.0, 65.0, 14.0, -17.0, 2216.0, 123.0, 1679.0, 1975.0, 2027.0, 1059.0, 1676.0, 114.0, 81.0, 384.0, 77.0, 182.0, 123.0, 919.0, 213.0, 123.0, 2349.0, 1957.0, 136.0, 121.0, 1767.0, 10.0, 1824.0, 2739.0, 122.0, 64.0, 123.0, 123.0, 380.0, 64.0, 751.0, 214.0, 3.0, 1873.0, 247.0, 28.0, -6.0, 116.0, 1392.0, -13.0, 792.0, 123.0, 395.0, 267.0, 1418.0, 1852.0, 2769.0, 58.0, 1257.0, -12.0, -17.0, 109.0, 64.0, 214.0, 11.0, 521.0, 1.0, -18.0, 816.0, 122.0, 506.0, 1681.0, 1.0, 214.0, 123.0, 886.0, 1831.0, 1597.0, 321.0, 939.0, 354.0, 891.0, 396.0, 91.0, 823.0, -6.0, 907.0, 406.0, 489.0, 382.0, 60.0, 473.0, 64.0, 770.0, 64.0, 3.0, 88.0, 529.0, 2.0, 501.0, 1936.0, 123.0, 136.0, 24.0, -4.0, 924.0, 137.0, 906.0, 28.0, 60.0, 514.0, 162.0, 137.0, 86.0, 512.0, 3.0, 1121.0, 64.0, 144.0, 1121.0, 116.0, 780.0, 123.0, 64.0, 64.0, 2122.0, 179.0, 3.0, 46.0, 91.0, 303.0, 2270.0, 1453.0, 105.0, 155.0, 14.0, 1005.0, 151.0, 1236.0, 122.0, 31.0, 91.0, -6.0, 1438.0, 207.0, 24.0, 442.0, 1919.0, 59.0, 528.0, -10.0, 1950.0, 356.0, 72.0, 1898.0, 212.0, 123.0, 423.0, 150.0, 210.0, 2293.0, 28.0, -7.0, 64.0, 1947.0, 9.0, 28.0, -5.0, 367.0, 78.0, 120.0, 818.0, 2409.0, -10.0, 214.0, 1943.0, 1912.0, 375.0, 1898.0, 123.0, 479.0, 1000.0, 121.0, 1098.0, 858.0, 1684.0, 94.0, 81.0, -14.0, 60.0, 88.0, 1768.0, 32.0, 80.0, 64.0, 1681.0, -4.0, 186.0, 2174.0, 228.0, 1961.0, 120.0, 38.0, 1674.0, 32.0, 129.0, 1845.0, 854.0, 14.0, 198.0, 185.0, 25.0, 58.0, 186.0, 73.0, 1250.0, -12.0, 78.0, 1954.0, 86.0, 305.0, 141.0, 193.0, 165.0, 35.0, 1106.0, 2282.0, 900.0, 520.0, 1082.0, 2304.0, 331.0, 123.0, 60.0, 937.0, 1775.0, -10.0, 186.0, 300.0, 1961.0, 191.0, 1205.0, 1023.0, -14.0, 336.0, 819.0, -10.0, 137.0, 1912.0, 366.0, 123.0, 64.0, 872.0, -19.0, 303.0, 440.0, 210.0, 105.0, 391.0, 310.0, 32.0, 1071.0, 326.0, 297.0, 60.0, 1880.0, 710.0, -4.0, 35.0, -14.0, 74.0, 396.0, 232.0, 699.0, 66.0, -17.0, 2132.0, 1569.0, 186.0, 185.0, 1929.0, -26.0, 123.0, 123.0, 212.0, 123.0, 1676.0, 419.0, 1775.0, 1621.0, 2589.0, 109.0, 2209.0, 88.0, 3.0, 490.0, 46.0, 529.0, 876.0, 157.0, 148.0, 1681.0, 114.0, 2596.0, 32.0, 354.0, 2613.0, 692.0, 277.0, 1624.0, 74.0, 224.0, 184.0, 611.0, 210.0, 772.0, 827.0, 864.0, 86.0, -18.0, 3.0, 379.0, 2596.0, 116.0, 2582.0, 1011.0, 368.0, 1390.0, 52.0, -20.0, 654.0, 141.0, 84.0, 24.0, 1117.0, 1054.0, 3.0, -7.0, 1838.0, 25.0, 938.0, 91.0, 2601.0, 354.0, 135.0, 114.0, 367.0, 67.0, 163.0, 114.0, 221.0, 18.0, 457.0, -13.0, 1942.0, 88.0, 1072.0, 378.0, 226.0, 916.0, 51.0, 547.0, 882.0, 773.0, 9.0, 410.0, 66.0, 1950.0, 2289.0, 116.0, 114.0, 64.0, 2.0, 123.0, 85.0, 186.0, 214.0, 384.0, 1793.0, 193.0, 18.0, 536.0, 375.0, 227.0, 2607.0, 921.0, 304.0, 154.0, 127.0, 64.0, 836.0, 162.0, 18.0, 2010.0, -17.0, 2801.0, 451.0, 91.0, 32.0, 1679.0, 905.0, 848.0, 3.0, 934.0, 728.0, 2017.0, 84.0, 105.0, 912.0, 2188.0, 220.0, 1.0, 1929.0, 134.0, 1957.0, 1570.0, 210.0, 268.0, 1894.0, 2146.0, 1940.0, 25.0, -6.0, 366.0, 14.0, 291.0, 64.0, 64.0, 123.0, 77.0, 2634.0, 154.0, 2166.0, 720.0, 121.0, 15.0, 1680.0, 116.0, 868.0, 168.0, 123.0, 398.0, 1884.0, 171.0, 42.0, 2613.0, 2237.0, 265.0, 484.0, 511.0, 1961.0, 119.0, 2703.0, 541.0, 137.0, 241.0, 64.0, 2.0, 1920.0, 60.0, 2.0, 287.0, 1873.0, 176.0, 708.0, 359.0, 692.0, 73.0, 520.0, 2013.0, 732.0, 1001.0, 692.0, 402.0, 934.0, 921.0, 921.0, 926.0, 424.0, 123.0, 269.0, 518.0, 199.0, 360.0, 388.0, 773.0, 872.0, 67.0, 765.0, 921.0, 742.0, 1289.0, 375.0, 1224.0, 102.0, 695.0, 942.0, 304.0, 854.0, 382.0, 113.0, 921.0, 214.0, 145.0, 510.0, 903.0, 234.0, 459.0, 515.0, 244.0, 1060.0, 550.0, 385.0, 485.0, 871.0, 305.0, 137.0, 497.0, 252.0, 1094.0, 696.0, 366.0, 110.0, 1649.0, 354.0, 326.0, 438.0, 1449.0, 526.0, 728.0, 266.0, 380.0, 429.0, 269.0, 786.0, 856.0, 942.0, 318.0, 2598.0, 214.0, 855.0, 95.0, 345.0, 396.0, 144.0, 905.0, 945.0, 469.0, 291.0, 499.0, 228.0, 442.0, 912.0, 779.0, 151.0, 1178.0, 884.0, 151.0, 1229.0, 896.0, 396.0, 207.0, 532.0, 91.0, 1005.0, 945.0, 515.0, 830.0, 1120.0, 858.0, 801.0, 211.0, 718.0, 812.0, 920.0, 889.0, 322.0, 393.0, 233.0, 1462.0, 394.0, 755.0, 939.0, 156.0, 64.0, 211.0, 2603.0, 368.0, 550.0, 515.0, 1092.0, 937.0, 695.0, 179.0, 500.0, 515.0, 1656.0, 935.0, 2568.0, 21.0, 445.0, 830.0, 387.0, 225.0, 1590.0, 485.0, 780.0, 75.0, 202.0, 785.0, 321.0, 55.0, 393.0, 942.0, 95.0, 1449.0, 170.0, 95.0, 352.0, 396.0, 858.0, 685.0, 1141.0, 420.0, 548.0, 211.0, 1502.0, 394.0, 2607.0, 107.0, 332.0, 141.0, 193.0, 491.0, 1023.0, 149.0, 1460.0, 696.0, 445.0, 468.0, 1873.0, 828.0, 788.0, 258.0, 227.0, 80.0, 804.0, 532.0, 409.0, 333.0, 396.0, 534.0, 732.0, 224.0, 917.0, 721.0, 799.0, 667.0, 804.0, 694.0, 1025.0, 808.0, 536.0, 846.0, 876.0, 319.0, 302.0, 364.0, 1061.0, 553.0, 729.0, 646.0, 870.0, 732.0, 899.0, 772.0, 806.0, 358.0, 269.0, 303.0, 83.0, 519.0, 395.0, 924.0, 772.0, 2125.0, 1467.0, 557.0, 764.0, 305.0, 547.0, 776.0, 913.0, 774.0, 543.0, 832.0, 849.0, 1018.0, 1045.0, 513.0, 1950.0, 786.0, 1850.0, 1677.0, 821.0, 871.0, 534.0, 695.0, 541.0, 186.0, 903.0, 1271.0, 779.0, 368.0, 437.0, 93.0, 20.0, 2583.0, 2605.0, 471.0, 147.0, 361.0, 220.0, 722.0, 503.0, 1053.0, 347.0, 379.0, 103.0, 294.0, 207.0, 857.0, 168.0, 872.0, 279.0, 914.0, 452.0, 729.0, 1285.0, 1957.0, 480.0, 1516.0, 23.0, 772.0, 409.0, 214.0, 189.0, 774.0, 173.0, 935.0, 375.0, 895.0, 1943.0, 685.0, 1835.0, 557.0, 902.0, 232.0, 77.0, 815.0, 396.0, 692.0, 2377.0, 230.0, 398.0, 1198.0, 265.0, 732.0, 262.0, 525.0, 1912.0, 498.0, 943.0, 1390.0, 515.0, 1957.0, 76.0, 72.0, 899.0, 447.0, 742.0, 1922.0, 302.0, 1233.0, 686.0, 924.0, 302.0, 212.0, 515.0, 207.0, 212.0, 29.0, 1250.0, 1887.0, 82.0, 214.0, 277.0, 830.0, 715.0, 414.0, 1653.0, 241.0, 405.0, 304.0, 1046.0, 381.0, 774.0, 393.0, 322.0, 837.0, 772.0, 925.0, 1267.0, 353.0, 750.0, 739.0, 365.0, 779.0, 794.0, 814.0, 143.0, 685.0, 151.0, 1157.0, 359.0, 611.0, 487.0, 548.0, 361.0, 757.0, 811.0, 52.0, 696.0, 179.0, 310.0, 150.0, 814.0, 368.0, 395.0, 121.0, 443.0, 2020.0, 2318.0, 787.0, 154.0, 394.0, 423.0, 899.0, 78.0, 722.0, 156.0, 1079.0, 490.0, 123.0, 260.0, 1071.0, 689.0, 519.0, 1681.0, 424.0, 148.0, 925.0, 375.0, 850.0, 388.0, 749.0, 82.0, 123.0, 1422.0, 559.0, 88.0, 801.0, 480.0, 790.0, 210.0, 1261.0, 86.0, 1045.0, 403.0, 1467.0, 554.0, 1239.0, 457.0, 358.0, 172.0, 732.0, 1288.0, 232.0, 143.0, 399.0, 175.0, 368.0, 536.0, 240.0, 345.0, 1817.0, 239.0, 458.0, 751.0, 356.0, 2013.0, 1849.0, 844.0, 133.0, 360.0, 519.0, 231.0, 385.0, 688.0, 68.0, 200.0, 396.0, 788.0, 274.0, 480.0, 923.0, 1933.0, 499.0, 937.0, 353.0, 540.0, 865.0, 498.0, 1036.0, 790.0, 480.0, 114.0, 1954.0, 1015.0, 473.0, 195.0, 431.0, 144.0, 1989.0, 732.0, 241.0, 111.0, 206.0, 1680.0, 198.0, 696.0, 882.0, 464.0, 529.0, 661.0, 725.0, 724.0, 315.0, 77.0, 618.0, 231.0, 878.0, 158.0, 882.0, 911.0, 2607.0, 774.0, 800.0, 391.0, 1242.0, 1178.0, 696.0, 444.0, 833.0, 764.0, 899.0, 755.0, 123.0, 480.0, 772.0, 874.0, 802.0, 352.0, 445.0, 1768.0, 456.0, 550.0, 6.0, 116.0, 382.0, 774.0, 333.0, 938.0, 211.0, 315.0, 170.0, 78.0, 395.0, 771.0, 939.0, 272.0, 1950.0, 214.0, 207.0, 291.0, 1239.0, 233.0, 692.0, 192.0, 396.0, 548.0, 246.0, 179.0, 718.0, 36.0, 508.0, 1663.0, 87.0, 806.0, 64.0, 732.0, 1771.0, 851.0, 435.0, 423.0, 696.0, 498.0, 71.0, 926.0, 1451.0, 1072.0, 1675.0, 928.0, 1137.0, 913.0, 368.0, 1054.0, 704.0, 830.0, 744.0, 844.0, 212.0, 367.0, 459.0, 2622.0, 143.0, 160.0, 1873.0, 1901.0, 507.0, 164.0, 342.0, 206.0, 20.0, 170.0, 109.0, 380.0, 836.0, 225.0, 385.0, 449.0, 165.0, 2608.0, 137.0, 937.0, 920.0, 336.0, 872.0, 470.0, 339.0, 246.0, 383.0, 501.0, 2622.0, 1681.0, 722.0, 1471.0, 858.0, 366.0, 156.0, 771.0, 932.0, 231.0, 399.0, 688.0, 783.0, 109.0, 240.0, 1063.0, 1025.0, 853.0, 937.0, 193.0, 212.0, 814.0, 141.0, 116.0, 194.0, 913.0, 771.0, 358.0, 795.0, 417.0, 849.0, 416.0, 1676.0, 228.0, 911.0, 396.0, 939.0, 293.0, 486.0, 36.0, 106.0, 186.0, 853.0, 808.0, 932.0, 305.0, 263.0, 459.0, 696.0, 738.0, 756.0, 806.0, 483.0, 283.0, 808.0, 1215.0, 116.0, 1194.0, 365.0, 1091.0, 170.0, 176.0, 305.0, 1025.0, 334.0, 490.0, 228.0, 508.0, 381.0, 732.0, 528.0, 900.0, 121.0, 933.0, 864.0, 693.0, 162.0, 930.0, 186.0, 475.0, 487.0, 414.0, 402.0, 381.0, 319.0, 933.0, 449.0, 1080.0, 2010.0, 529.0, 358.0, 1478.0, 997.0, 294.0, 196.0, 151.0, 744.0, 365.0, 494.0, 924.0, 515.0, 185.0, 221.0, 498.0, 704.0, 1467.0, 200.0, 1677.0, 1679.0, 136.0, 124.0, 574.0, 234.0, 767.0, 783.0, 459.0, 766.0, 918.0, 422.0, 916.0, 1677.0, 909.0, 725.0, 515.0, 394.0, 508.0, 401.0, 489.0, 785.0, 924.0, 6.0, 452.0, 606.0, 916.0, 250.0, 585.0, 472.0, 316.0, 333.0, 193.0, 484.0, 413.0, 112.0, 1239.0, 794.0, 84.0, 186.0, 1957.0, 303.0, 744.0, 372.0, 2618.0, 553.0, 526.0, 1200.0, 210.0, 122.0, 906.0, 784.0, 480.0, 322.0, 514.0, 366.0, 741.0, 429.0, 1954.0, 234.0, 555.0, 77.0, 1065.0, 902.0, 543.0, 802.0, 200.0, 170.0, 763.0, 486.0, 1863.0, 218.0, 524.0, 498.0, 708.0, 1464.0, 2668.0, 806.0, 486.0, 923.0, 515.0, 119.0, 274.0, 1017.0, 886.0, 1679.0, 357.0, 512.0, 151.0, 381.0, 925.0, 395.0, 473.0, 731.0, 156.0, 829.0, 844.0, 1038.0, 811.0, 333.0, 744.0, 699.0, 305.0, 688.0, 381.0, 385.0, 790.0, 1124.0, 725.0, 846.0, 345.0, 795.0, 324.0, 364.0, 142.0, 822.0, 813.0, 1894.0, 829.0, 878.0, 729.0, 696.0, 458.0, 1018.0, 1649.0, 2341.0, 868.0, 410.0, 171.0, 513.0, 298.0, 24.0, 695.0, 234.0, 878.0, 247.0, 704.0, 256.0, 227.0, 58.0, 498.0, 243.0, 211.0, 171.0, 429.0, 473.0, 89.0, 2690.0, 499.0, 575.0, 879.0, 512.0, 1898.0, 2589.0, 207.0, 332.0, 799.0, 837.0, 732.0, 129.0, 1410.0, 71.0, 281.0, 500.0, 1677.0, 200.0, 749.0, 212.0, 396.0, 333.0, 774.0, 526.0, 892.0, 176.0, 557.0, 794.0, 890.0, 1936.0, 905.0, 770.0, 156.0, 490.0, 933.0, 396.0, 429.0, 543.0, 521.0, 23.0, 241.0, 440.0, 788.0, 452.0, 823.0, 249.0, 2725.0, 1018.0, 767.0, 179.0, 40.0, 18.0, 850.0, 2010.0, 475.0, 459.0, 811.0, 101.0, 325.0, 367.0, 550.0, 1058.0, 785.0, 310.0, 189.0, 1135.0, 263.0, 1047.0, 730.0, 521.0, 225.0, 354.0, 1053.0, 701.0, 247.0, 599.0, 822.0, 387.0, 813.0, 423.0, 200.0, 820.0, 772.0, 218.0, 487.0, 1659.0, 1785.0, 219.0, 608.0, 449.0, 364.0, 1425.0, 892.0, 409.0, 872.0, 1063.0, 331.0, 834.0, 186.0, 214.0, 850.0, 175.0, 295.0, 466.0, 527.0, 2610.0, 486.0, 326.0, 259.0, 301.0, 156.0, 347.0, 690.0, 491.0, 986.0, 484.0, 689.0, 1659.0, 193.0, 2617.0, 792.0, 356.0, 811.0, 1950.0, 543.0, 197.0, 63.0, 2223.0, 230.0, 1928.0, 225.0, 1053.0, 140.0, 711.0, 234.0, 1689.0, 193.0, 198.0, 843.0, 124.0, 799.0, 1576.0, 458.0, 692.0, 384.0, 1114.0, 265.0, 146.0, 730.0, 1747.0, 366.0, 877.0, 275.0, 928.0, 165.0, 900.0, 150.0, 298.0, 1467.0, 123.0, 800.0, 361.0, 515.0, 868.0, 1044.0, 419.0, 351.0, 419.0, 937.0, 814.0, 534.0, 788.0, 507.0, 1768.0, 774.0, 200.0, 104.0, 47.0, 849.0, 800.0, 916.0, 518.0, 730.0, 910.0, 13.0, 939.0, 809.0, 155.0, 293.0, 711.0, 926.0, 158.0, 934.0, 392.0, 1044.0, 210.0, 744.0, 1940.0, 1961.0, 364.0, 1095.0, 365.0, 266.0, 687.0, 114.0, 732.0, 356.0, 1395.0, 1710.0, 249.0, 944.0, 581.0, 722.0, 1126.0, 378.0, 338.0, 872.0, 1393.0, 303.0, 497.0, 59.0, 160.0, 52.0, 603.0, 457.0, 1101.0, 379.0, 508.0, 116.0, 1642.0, 119.0, 1016.0, 108.0, 393.0, 394.0, 1964.0, 1089.0, 928.0, 897.0, 429.0, 396.0, 1044.0, 1086.0, 367.0, 1464.0, 925.0, 773.0, 29.0, 753.0, 421.0, 305.0, 1113.0, 238.0, 442.0, 995.0, 513.0, 90.0, 398.0, 7.0, 550.0, 1242.0, 420.0, 896.0, 294.0, 137.0, 897.0, 711.0, 732.0, 529.0, 176.0, 41.0, 811.0, 883.0, 389.0, 772.0, 536.0, 942.0, 520.0, 706.0, 265.0, 149.0, 695.0, 923.0, 927.0, 389.0, 464.0, 121.0, 2723.0, 64.0, 379.0, 156.0, 359.0, 336.0, 931.0, 295.0, 1677.0, 1541.0, 539.0, 305.0, 941.0, 455.0, 204.0, 420.0, 378.0, 68.0, 920.0, 854.0, 932.0, 924.0, 57.0, 423.0, 682.0, 1004.0, 172.0, 381.0, 206.0, 479.0, 2243.0, 179.0, 147.0, 186.0, 763.0, 84.0, 543.0, 262.0, 218.0, 792.0, 42.0, 1744.0, 161.0, 204.0, 903.0, 156.0, 701.0, 471.0, 543.0, 50.0, 867.0, 119.0, 812.0, 360.0, 419.0, 715.0, 398.0, 2800.0, 938.0, 438.0, 1950.0, 142.0, 686.0, 767.0, 366.0, 444.0, 770.0, 834.0, 785.0, 521.0, 494.0, 744.0, 769.0, 721.0, 832.0, 791.0, 333.0, 171.0, 833.0, 1950.0, 1852.0, 388.0, 186.0, 159.0, 156.0, 1863.0, 317.0, 1011.0, 321.0, 156.0, 933.0, 809.0, 1793.0, 763.0, 781.0, 917.0, 882.0, 521.0, 1670.0, 429.0, 378.0, 470.0, 1679.0, 1122.0, 771.0, 20.0, 1390.0, 235.0, 928.0, 132.0, 1670.0, 829.0, 372.0, 868.0, 157.0, 1571.0, 534.0, 1681.0, 420.0, 2620.0, 147.0, 1023.0, 772.0, 268.0, 1053.0, 464.0, 695.0, 1061.0, 1047.0, 942.0, 169.0, 925.0, 214.0, 197.0, 1078.0, 316.0, 673.0, 1147.0, 333.0, 300.0, 211.0, 2103.0, 909.0, 907.0, 1940.0, 127.0, 138.0, 696.0, 16.0, 417.0, 942.0, 214.0, 186.0, 395.0, 899.0, 837.0, 786.0, 868.0, 2012.0, 475.0, 650.0, 231.0, 121.0, 857.0, 193.0, 739.0, 858.0, 19.0, 519.0, 2300.0, 877.0, 512.0, 473.0, 717.0, 1007.0, 192.0, 429.0, 388.0, 304.0, 490.0, 207.0, 429.0, 445.0, 892.0, 549.0, 395.0, 3.0, 413.0, 925.0, 323.0, 30.0, 210.0, 109.0, 368.0, 413.0, 294.0, 137.0, 375.0, 234.0, 529.0, 528.0, 172.0, 186.0, 729.0, 897.0, 25.0, 742.0, 408.0, 1388.0, 806.0, 329.0, 920.0, 387.0, 1929.0, 396.0, 686.0, 298.0, 1688.0, 275.0, 270.0, 137.0, 1768.0, 192.0, 728.0, 229.0, 1677.0, 231.0, 1099.0, 834.0, 786.0, 1250.0, 147.0, 445.0, 459.0, 115.0, 811.0, 163.0, 1943.0, 133.0, 942.0, 354.0, 675.0, 653.0, 1675.0, 940.0, 471.0, 538.0, 1845.0, 190.0, 368.0, 942.0, 746.0, 1789.0, 141.0, 16.0, 388.0, 232.0, 91.0, 1863.0, 247.0, 307.0, 163.0, 1065.0, 455.0, 416.0, 1102.0, 889.0, 144.0, 556.0, 200.0, 1063.0, 1262.0, 816.0, 844.0, 359.0, 198.0, 364.0, 549.0, 304.0, 240.0, 1008.0, 239.0, 791.0, 156.0, 392.0, 260.0, 904.0, 1023.0, 232.0, 416.0, 913.0, 361.0, 865.0, 1375.0, 375.0, 336.0, 1109.0, 1651.0, 750.0, 513.0, 484.0, 445.0, 521.0, 186.0, 367.0, 380.0, 928.0, 156.0, 2402.0, 1675.0, 396.0, 519.0, 2597.0, 1922.0, 267.0, 396.0, 714.0, 515.0, 1947.0, 156.0, 387.0, 779.0, 685.0, 343.0, 491.0, 953.0, 361.0, 126.0, 1242.0, 2164.0, 536.0, 942.0, 132.0, 1098.0, 440.0, 1922.0, 9.0, 1607.0, 140.0, 683.0, 513.0, 220.0, 141.0, 686.0, 514.0, 1943.0, 198.0, 763.0, 291.0, 543.0, 212.0, 898.0, 1681.0, 1845.0, 449.0, 437.0, 714.0, 2017.0, 521.0, 695.0, 424.0, 2692.0, 256.0, 914.0, 708.0, 182.0, 333.0, 543.0, 421.0, 895.0, 431.0, 214.0, 693.0, 878.0, 1950.0, 907.0, 1102.0, 228.0, 1957.0, 856.0, 442.0, 1176.0, 182.0, 809.0, 214.0, 1193.0, 20.0, 554.0, 1590.0, 804.0, 522.0, 94.0, 293.0, 232.0, 431.0, 1765.0, 98.0, 77.0, 396.0, 2601.0, 191.0, 1360.0, 170.0, 403.0, 865.0, 147.0, 503.0, 750.0, 1236.0, 889.0, 333.0, 942.0, 276.0, 16.0, 1576.0, 385.0, 259.0, 490.0, 501.0, 232.0, 394.0, 354.0, 420.0, 260.0, 473.0, 109.0, 109.0, 459.0, 519.0, 533.0, 375.0, 549.0, 774.0, 696.0, 263.0, 559.0, 804.0, 939.0, 1624.0, 80.0, 557.0, 730.0, 512.0, 177.0, 815.0, 723.0, 517.0, 870.0, 262.0, 200.0, 27.0, 83.0, 1852.0, 213.0, 331.0, 389.0, 830.0, 424.0, 941.0, 791.0, 2583.0, 1670.0, 1268.0, 528.0, 864.0, 697.0, 309.0, 564.0, 95.0, 854.0, 864.0], \"y0\": \" \", \"yaxis\": \"y\"}],\n",
              "                        {\"boxmode\": \"group\", \"legend\": {\"tracegroupgap\": 0}, \"margin\": {\"t\": 60}, \"template\": {\"data\": {\"bar\": [{\"error_x\": {\"color\": \"#2a3f5f\"}, \"error_y\": {\"color\": \"#2a3f5f\"}, \"marker\": {\"line\": {\"color\": \"#E5ECF6\", \"width\": 0.5}}, \"type\": \"bar\"}], \"barpolar\": [{\"marker\": {\"line\": {\"color\": \"#E5ECF6\", \"width\": 0.5}}, \"type\": \"barpolar\"}], \"carpet\": [{\"aaxis\": {\"endlinecolor\": \"#2a3f5f\", \"gridcolor\": \"white\", \"linecolor\": \"white\", \"minorgridcolor\": \"white\", \"startlinecolor\": \"#2a3f5f\"}, \"baxis\": {\"endlinecolor\": \"#2a3f5f\", \"gridcolor\": \"white\", \"linecolor\": \"white\", \"minorgridcolor\": \"white\", \"startlinecolor\": \"#2a3f5f\"}, \"type\": \"carpet\"}], \"choropleth\": [{\"colorbar\": {\"outlinewidth\": 0, \"ticks\": \"\"}, \"type\": \"choropleth\"}], \"contour\": [{\"colorbar\": {\"outlinewidth\": 0, \"ticks\": \"\"}, \"colorscale\": [[0.0, \"#0d0887\"], [0.1111111111111111, \"#46039f\"], [0.2222222222222222, \"#7201a8\"], [0.3333333333333333, \"#9c179e\"], [0.4444444444444444, \"#bd3786\"], [0.5555555555555556, \"#d8576b\"], [0.6666666666666666, \"#ed7953\"], [0.7777777777777778, \"#fb9f3a\"], [0.8888888888888888, \"#fdca26\"], [1.0, \"#f0f921\"]], \"type\": \"contour\"}], \"contourcarpet\": [{\"colorbar\": {\"outlinewidth\": 0, \"ticks\": \"\"}, \"type\": \"contourcarpet\"}], \"heatmap\": [{\"colorbar\": {\"outlinewidth\": 0, \"ticks\": \"\"}, \"colorscale\": [[0.0, \"#0d0887\"], [0.1111111111111111, \"#46039f\"], [0.2222222222222222, \"#7201a8\"], [0.3333333333333333, \"#9c179e\"], [0.4444444444444444, \"#bd3786\"], [0.5555555555555556, \"#d8576b\"], [0.6666666666666666, \"#ed7953\"], [0.7777777777777778, \"#fb9f3a\"], [0.8888888888888888, \"#fdca26\"], [1.0, \"#f0f921\"]], \"type\": \"heatmap\"}], \"heatmapgl\": [{\"colorbar\": {\"outlinewidth\": 0, \"ticks\": \"\"}, \"colorscale\": [[0.0, \"#0d0887\"], [0.1111111111111111, \"#46039f\"], [0.2222222222222222, \"#7201a8\"], [0.3333333333333333, \"#9c179e\"], [0.4444444444444444, \"#bd3786\"], [0.5555555555555556, \"#d8576b\"], [0.6666666666666666, \"#ed7953\"], [0.7777777777777778, \"#fb9f3a\"], [0.8888888888888888, \"#fdca26\"], [1.0, \"#f0f921\"]], \"type\": \"heatmapgl\"}], \"histogram\": [{\"marker\": {\"colorbar\": {\"outlinewidth\": 0, \"ticks\": \"\"}}, \"type\": \"histogram\"}], \"histogram2d\": [{\"colorbar\": {\"outlinewidth\": 0, \"ticks\": \"\"}, \"colorscale\": [[0.0, \"#0d0887\"], [0.1111111111111111, \"#46039f\"], [0.2222222222222222, \"#7201a8\"], [0.3333333333333333, \"#9c179e\"], [0.4444444444444444, \"#bd3786\"], [0.5555555555555556, \"#d8576b\"], [0.6666666666666666, \"#ed7953\"], [0.7777777777777778, \"#fb9f3a\"], [0.8888888888888888, \"#fdca26\"], [1.0, \"#f0f921\"]], \"type\": \"histogram2d\"}], \"histogram2dcontour\": [{\"colorbar\": {\"outlinewidth\": 0, \"ticks\": \"\"}, \"colorscale\": [[0.0, \"#0d0887\"], [0.1111111111111111, \"#46039f\"], [0.2222222222222222, \"#7201a8\"], [0.3333333333333333, \"#9c179e\"], [0.4444444444444444, \"#bd3786\"], [0.5555555555555556, \"#d8576b\"], [0.6666666666666666, \"#ed7953\"], [0.7777777777777778, \"#fb9f3a\"], [0.8888888888888888, \"#fdca26\"], [1.0, \"#f0f921\"]], \"type\": \"histogram2dcontour\"}], \"mesh3d\": [{\"colorbar\": {\"outlinewidth\": 0, \"ticks\": \"\"}, \"type\": \"mesh3d\"}], \"parcoords\": [{\"line\": {\"colorbar\": {\"outlinewidth\": 0, \"ticks\": \"\"}}, \"type\": \"parcoords\"}], \"pie\": [{\"automargin\": true, \"type\": \"pie\"}], \"scatter\": [{\"marker\": {\"colorbar\": {\"outlinewidth\": 0, \"ticks\": \"\"}}, \"type\": \"scatter\"}], \"scatter3d\": [{\"line\": {\"colorbar\": {\"outlinewidth\": 0, \"ticks\": \"\"}}, \"marker\": {\"colorbar\": {\"outlinewidth\": 0, \"ticks\": \"\"}}, \"type\": \"scatter3d\"}], \"scattercarpet\": [{\"marker\": {\"colorbar\": {\"outlinewidth\": 0, \"ticks\": \"\"}}, \"type\": \"scattercarpet\"}], \"scattergeo\": [{\"marker\": {\"colorbar\": {\"outlinewidth\": 0, \"ticks\": \"\"}}, \"type\": \"scattergeo\"}], \"scattergl\": [{\"marker\": {\"colorbar\": {\"outlinewidth\": 0, \"ticks\": \"\"}}, \"type\": \"scattergl\"}], \"scattermapbox\": [{\"marker\": {\"colorbar\": {\"outlinewidth\": 0, \"ticks\": \"\"}}, \"type\": \"scattermapbox\"}], \"scatterpolar\": [{\"marker\": {\"colorbar\": {\"outlinewidth\": 0, \"ticks\": \"\"}}, \"type\": \"scatterpolar\"}], \"scatterpolargl\": [{\"marker\": {\"colorbar\": {\"outlinewidth\": 0, \"ticks\": \"\"}}, \"type\": \"scatterpolargl\"}], \"scatterternary\": [{\"marker\": {\"colorbar\": {\"outlinewidth\": 0, \"ticks\": \"\"}}, \"type\": \"scatterternary\"}], \"surface\": [{\"colorbar\": {\"outlinewidth\": 0, \"ticks\": \"\"}, \"colorscale\": [[0.0, \"#0d0887\"], [0.1111111111111111, \"#46039f\"], [0.2222222222222222, \"#7201a8\"], [0.3333333333333333, \"#9c179e\"], [0.4444444444444444, \"#bd3786\"], [0.5555555555555556, \"#d8576b\"], [0.6666666666666666, \"#ed7953\"], [0.7777777777777778, \"#fb9f3a\"], [0.8888888888888888, \"#fdca26\"], [1.0, \"#f0f921\"]], \"type\": \"surface\"}], \"table\": [{\"cells\": {\"fill\": {\"color\": \"#EBF0F8\"}, \"line\": {\"color\": \"white\"}}, \"header\": {\"fill\": {\"color\": \"#C8D4E3\"}, \"line\": {\"color\": \"white\"}}, \"type\": \"table\"}]}, \"layout\": {\"annotationdefaults\": {\"arrowcolor\": \"#2a3f5f\", \"arrowhead\": 0, \"arrowwidth\": 1}, \"coloraxis\": {\"colorbar\": {\"outlinewidth\": 0, \"ticks\": \"\"}}, \"colorscale\": {\"diverging\": [[0, \"#8e0152\"], [0.1, \"#c51b7d\"], [0.2, \"#de77ae\"], [0.3, \"#f1b6da\"], [0.4, \"#fde0ef\"], [0.5, \"#f7f7f7\"], [0.6, \"#e6f5d0\"], [0.7, \"#b8e186\"], [0.8, \"#7fbc41\"], [0.9, \"#4d9221\"], [1, \"#276419\"]], \"sequential\": [[0.0, \"#0d0887\"], [0.1111111111111111, \"#46039f\"], [0.2222222222222222, \"#7201a8\"], [0.3333333333333333, \"#9c179e\"], [0.4444444444444444, \"#bd3786\"], [0.5555555555555556, \"#d8576b\"], [0.6666666666666666, \"#ed7953\"], [0.7777777777777778, \"#fb9f3a\"], [0.8888888888888888, \"#fdca26\"], [1.0, \"#f0f921\"]], \"sequentialminus\": [[0.0, \"#0d0887\"], [0.1111111111111111, \"#46039f\"], [0.2222222222222222, \"#7201a8\"], [0.3333333333333333, \"#9c179e\"], [0.4444444444444444, \"#bd3786\"], [0.5555555555555556, \"#d8576b\"], [0.6666666666666666, \"#ed7953\"], [0.7777777777777778, \"#fb9f3a\"], [0.8888888888888888, \"#fdca26\"], [1.0, \"#f0f921\"]]}, \"colorway\": [\"#636efa\", \"#EF553B\", \"#00cc96\", \"#ab63fa\", \"#FFA15A\", \"#19d3f3\", \"#FF6692\", \"#B6E880\", \"#FF97FF\", \"#FECB52\"], \"font\": {\"color\": \"#2a3f5f\"}, \"geo\": {\"bgcolor\": \"white\", \"lakecolor\": \"white\", \"landcolor\": \"#E5ECF6\", \"showlakes\": true, \"showland\": true, \"subunitcolor\": \"white\"}, \"hoverlabel\": {\"align\": \"left\"}, \"hovermode\": \"closest\", \"mapbox\": {\"style\": \"light\"}, \"paper_bgcolor\": \"white\", \"plot_bgcolor\": \"#E5ECF6\", \"polar\": {\"angularaxis\": {\"gridcolor\": \"white\", \"linecolor\": \"white\", \"ticks\": \"\"}, \"bgcolor\": \"#E5ECF6\", \"radialaxis\": {\"gridcolor\": \"white\", \"linecolor\": \"white\", \"ticks\": \"\"}}, \"scene\": {\"xaxis\": {\"backgroundcolor\": \"#E5ECF6\", \"gridcolor\": \"white\", \"gridwidth\": 2, \"linecolor\": \"white\", \"showbackground\": true, \"ticks\": \"\", \"zerolinecolor\": \"white\"}, \"yaxis\": {\"backgroundcolor\": \"#E5ECF6\", \"gridcolor\": \"white\", \"gridwidth\": 2, \"linecolor\": \"white\", \"showbackground\": true, \"ticks\": \"\", \"zerolinecolor\": \"white\"}, \"zaxis\": {\"backgroundcolor\": \"#E5ECF6\", \"gridcolor\": \"white\", \"gridwidth\": 2, \"linecolor\": \"white\", \"showbackground\": true, \"ticks\": \"\", \"zerolinecolor\": \"white\"}}, \"shapedefaults\": {\"line\": {\"color\": \"#2a3f5f\"}}, \"ternary\": {\"aaxis\": {\"gridcolor\": \"white\", \"linecolor\": \"white\", \"ticks\": \"\"}, \"baxis\": {\"gridcolor\": \"white\", \"linecolor\": \"white\", \"ticks\": \"\"}, \"bgcolor\": \"#E5ECF6\", \"caxis\": {\"gridcolor\": \"white\", \"linecolor\": \"white\", \"ticks\": \"\"}}, \"title\": {\"x\": 0.05}, \"xaxis\": {\"automargin\": true, \"gridcolor\": \"white\", \"linecolor\": \"white\", \"ticks\": \"\", \"title\": {\"standoff\": 15}, \"zerolinecolor\": \"white\", \"zerolinewidth\": 2}, \"yaxis\": {\"automargin\": true, \"gridcolor\": \"white\", \"linecolor\": \"white\", \"ticks\": \"\", \"title\": {\"standoff\": 15}, \"zerolinecolor\": \"white\", \"zerolinewidth\": 2}}}, \"xaxis\": {\"anchor\": \"y\", \"domain\": [0.0, 1.0]}, \"yaxis\": {\"anchor\": \"x\", \"domain\": [0.0, 1.0], \"title\": {\"text\": \"expierience\"}}},\n",
              "                        {\"responsive\": true}\n",
              "                    ).then(function(){\n",
              "                            \n",
              "var gd = document.getElementById('7a17204e-dc49-4092-b708-13a00c5a9f50');\n",
              "var x = new MutationObserver(function (mutations, observer) {{\n",
              "        var display = window.getComputedStyle(gd).display;\n",
              "        if (!display || display === 'none') {{\n",
              "            console.log([gd, 'removed!']);\n",
              "            Plotly.purge(gd);\n",
              "            observer.disconnect();\n",
              "        }}\n",
              "}});\n",
              "\n",
              "// Listen for the removal of the full notebook cells\n",
              "var notebookContainer = gd.closest('#notebook-container');\n",
              "if (notebookContainer) {{\n",
              "    x.observe(notebookContainer, {childList: true});\n",
              "}}\n",
              "\n",
              "// Listen for the clearing of the current output cell\n",
              "var outputEl = gd.closest('.output');\n",
              "if (outputEl) {{\n",
              "    x.observe(outputEl, {childList: true});\n",
              "}}\n",
              "\n",
              "                        })\n",
              "                };\n",
              "                \n",
              "            </script>\n",
              "        </div>\n",
              "</body>\n",
              "</html>"
            ]
          },
          "metadata": {
            "tags": []
          }
        }
      ]
    },
    {
      "cell_type": "markdown",
      "metadata": {
        "id": "aam1bBFI2UoX"
      },
      "source": [
        "### Age"
      ]
    },
    {
      "cell_type": "code",
      "metadata": {
        "colab": {
          "base_uri": "https://localhost:8080/",
          "height": 1000
        },
        "id": "c224u3-Z3ELY",
        "outputId": "500966fb-67d2-4662-b935-dae91d155761"
      },
      "source": [
        "plot_graphs(train_pivot, 'Age')"
      ],
      "execution_count": 982,
      "outputs": [
        {
          "output_type": "display_data",
          "data": {
            "text/html": [
              "<html>\n",
              "<head><meta charset=\"utf-8\" /></head>\n",
              "<body>\n",
              "    <div>\n",
              "            <script src=\"https://cdnjs.cloudflare.com/ajax/libs/mathjax/2.7.5/MathJax.js?config=TeX-AMS-MML_SVG\"></script><script type=\"text/javascript\">if (window.MathJax) {MathJax.Hub.Config({SVG: {font: \"STIX-Web\"}});}</script>\n",
              "                <script type=\"text/javascript\">window.PlotlyConfig = {MathJaxConfig: 'local'};</script>\n",
              "        <script src=\"https://cdn.plot.ly/plotly-latest.min.js\"></script>    \n",
              "            <div id=\"5be9475b-f750-4f71-a57d-bd423c3a19a6\" class=\"plotly-graph-div\" style=\"height:525px; width:100%;\"></div>\n",
              "            <script type=\"text/javascript\">\n",
              "                \n",
              "                    window.PLOTLYENV=window.PLOTLYENV || {};\n",
              "                    \n",
              "                if (document.getElementById(\"5be9475b-f750-4f71-a57d-bd423c3a19a6\")) {\n",
              "                    Plotly.newPlot(\n",
              "                        '5be9475b-f750-4f71-a57d-bd423c3a19a6',\n",
              "                        [{\"alignmentgroup\": \"True\", \"bingroup\": \"x\", \"hoverlabel\": {\"namelength\": 0}, \"hovertemplate\": \"left=False<br>Age=%{x}<br>count=%{y}\", \"legendgroup\": \"left=False\", \"marker\": {\"color\": \"rgb(102, 197, 204)\"}, \"name\": \"left=False\", \"offsetgroup\": \"left=False\", \"orientation\": \"v\", \"showlegend\": true, \"type\": \"histogram\", \"x\": [31.0, 31.0, 28.0, 39.0, 29.666666666666668, 41.833333333333336, 32.0, 32.0, 33.77777777777778, 35.0, 30.0, 36.5, 33.77777777777778, 34.833333333333336, 46.583333333333336, 27.0, 26.583333333333332, 39.916666666666664, 31.25, 28.0, 33.5, 35.666666666666664, 29.0, 24.333333333333332, 36.6875, 40.0, 30.0, 35.666666666666664, 44.75, 32.0, 45.0, 46.0, 27.0, 38.0, 32.0, 28.0, 41.285714285714285, 36.833333333333336, 41.0, 37.583333333333336, 25.6, 38.166666666666664, 30.0, 33.142857142857146, 26.692307692307693, 37.0, 29.5, 33.0, 39.0, 26.0, 37.625, 36.416666666666664, 24.6, 32.0, 36.0, 26.416666666666668, 32.25, 26.0, 36.333333333333336, 29.0, 24.0, 34.0, 38.0, 35.94736842105263, 29.0, 39.0, 40.166666666666664, 29.333333333333332, 42.333333333333336, 27.0, 41.0, 29.0, 36.0, 31.166666666666668, 38.0, 31.0, 30.916666666666668, 30.0, 27.0, 27.5, 29.333333333333332, 30.333333333333332, 43.0, 35.0, 41.0, 39.30769230769231, 35.0, 28.0, 30.076923076923077, 34.4, 39.142857142857146, 36.36842105263158, 37.625, 29.0, 43.75, 47.083333333333336, 35.55555555555556, 37.2, 34.0, 33.0, 28.0, 34.666666666666664, 33.76923076923077, 35.833333333333336, 33.25, 30.0, 34.53333333333333, 45.083333333333336, 29.0, 40.5, 29.0, 29.0, 36.0, 28.0, 39.0, 26.166666666666668, 46.0, 33.0, 38.75, 28.75, 39.083333333333336, 31.714285714285715, 31.76923076923077, 30.90909090909091, 36.0, 25.0, 29.25, 36.666666666666664, 22.5, 31.0, 29.0, 35.0, 38.285714285714285, 42.0, 27.23076923076923, 36.0, 31.0, 43.0, 32.0, 33.0, 25.0, 27.75, 34.0, 25.444444444444443, 35.0, 32.6, 35.0, 35.93333333333333, 28.0, 34.92307692307692, 25.428571428571427, 29.0, 29.0, 35.5, 27.75, 31.0, 35.333333333333336, 36.42857142857143, 35.25, 40.4, 40.75, 28.0, 36.3125, 32.0, 38.916666666666664, 33.083333333333336, 32.0, 27.0, 41.0, 40.75, 32.714285714285715, 31.0, 33.285714285714285, 36.0, 40.75, 30.0, 30.0, 28.0, 27.0, 45.583333333333336, 36.166666666666664, 21.142857142857142, 29.875, 29.0, 42.0, 33.916666666666664, 36.666666666666664, 26.545454545454547, 35.0, 34.5, 29.0, 33.666666666666664, 27.333333333333332, 33.0, 29.77777777777778, 36.0, 33.0, 35.333333333333336, 35.0, 29.0, 29.11111111111111, 46.416666666666664, 41.77777777777778, 32.875, 28.083333333333332, 32.0, 29.0, 34.0, 28.333333333333332, 41.0, 43.166666666666664, 26.5, 34.0, 32.0, 23.0, 34.4, 40.0, 37.0, 31.0, 27.0, 43.0, 34.0, 29.0, 34.416666666666664, 32.0, 45.583333333333336, 30.41176470588235, 36.0, 29.61111111111111, 36.0, 31.0, 38.916666666666664, 35.5, 26.0, 38.6, 29.0, 39.42857142857143, 25.0, 29.5, 41.0, 40.0, 40.0, 36.0, 33.25, 40.583333333333336, 36.0, 28.923076923076923, 39.5, 28.0, 30.0, 30.0, 36.166666666666664, 36.0, 38.666666666666664, 30.5, 31.666666666666668, 49.5, 28.0, 39.583333333333336, 34.875, 30.0, 47.75, 35.714285714285715, 26.75, 52.25, 38.583333333333336, 43.0, 37.0, 30.166666666666668, 28.933333333333334, 33.8, 39.0, 40.0, 45.916666666666664, 39.833333333333336, 31.0, 35.0, 41.666666666666664, 30.166666666666668, 45.333333333333336, 23.0, 28.625, 26.0, 32.0, 32.0, 27.0, 24.0, 44.416666666666664, 30.0, 35.833333333333336, 44.25, 32.666666666666664, 30.916666666666668, 33.416666666666664, 36.4, 32.0, 32.214285714285715, 28.75, 33.0, 26.0, 24.916666666666668, 37.5, 35.0, 37.916666666666664, 36.333333333333336, 34.166666666666664, 32.0, 35.833333333333336, 39.0, 35.916666666666664, 38.75, 34.0, 31.0, 34.6, 29.0, 28.857142857142858, 34.0, 34.333333333333336, 33.25, 31.0, 36.083333333333336, 35.0, 34.0, 31.0, 34.0, 29.416666666666668, 36.0, 38.333333333333336, 32.2, 25.428571428571427, 41.8, 50.583333333333336, 32.666666666666664, 32.166666666666664, 28.0, 36.0, 24.0, 33.0, 32.0, 24.333333333333332, 38.0, 42.0, 41.333333333333336, 35.0, 37.0, 47.75, 37.2, 32.611111111111114, 28.916666666666668, 33.0, 35.0, 44.0, 36.833333333333336, 27.666666666666668, 39.0, 22.583333333333332, 37.666666666666664, 37.30769230769231, 33.583333333333336, 29.714285714285715, 38.0, 37.666666666666664, 32.0, 52.583333333333336, 36.266666666666666, 27.647058823529413, 27.571428571428573, 34.333333333333336, 35.8235294117647, 23.0, 33.5, 28.0, 38.0, 34.0, 38.73684210526316, 26.0, 38.77777777777778, 32.833333333333336, 35.0, 28.166666666666668, 27.0, 32.0, 36.166666666666664, 30.666666666666668, 33.166666666666664, 29.0, 41.0, 32.611111111111114, 30.0, 36.166666666666664, 32.0, 32.0, 34.0, 29.833333333333332, 32.0, 34.0, 36.083333333333336, 26.8, 32.833333333333336, 25.0, 37.0, 37.0, 37.916666666666664, 44.714285714285715, 36.0, 26.333333333333332, 30.75, 27.454545454545453, 44.833333333333336, 43.833333333333336, 29.0, 29.5, 38.0, 48.666666666666664, 26.833333333333332, 27.25, 32.0, 35.5, 36.0, 31.0, 32.833333333333336, 31.0, 37.0, 36.6875, 35.166666666666664, 30.0, 41.63157894736842, 34.0, 29.5, 23.615384615384617, 30.0, 41.083333333333336, 25.0, 33.0, 34.53333333333333, 29.833333333333332, 42.0, 43.416666666666664, 29.0, 33.0, 35.0, 36.416666666666664, 40.0, 40.0, 36.0, 30.923076923076923, 22.75, 34.0, 48.583333333333336, 46.833333333333336, 31.0, 33.0, 33.0, 39.416666666666664, 29.857142857142858, 42.416666666666664, 34.0, 32.588235294117645, 33.5, 35.2, 33.0, 34.916666666666664, 28.5, 43.0, 34.25, 25.0, 43.0, 27.0, 26.833333333333332, 29.5, 39.0, 25.0, 41.916666666666664, 27.0, 39.0, 30.166666666666668, 34.111111111111114, 40.083333333333336, 38.2, 32.0, 37.416666666666664, 37.0, 36.333333333333336, 39.5, 43.75, 41.0, 27.375, 26.0, 25.0, 30.333333333333332, 39.42857142857143, 29.0, 35.583333333333336, 35.0, 32.0, 39.833333333333336, 34.0, 33.0, 38.0, 34.0, 30.0, 38.0, 30.333333333333332, 31.583333333333332, 54.5, 26.0, 34.333333333333336, 33.083333333333336, 32.75, 28.8, 33.0, 37.166666666666664, 43.75, 33.0, 30.0, 26.181818181818183, 43.0, 32.0, 30.083333333333332, 30.5, 27.0, 30.25, 25.25, 29.0, 36.0, 36.916666666666664, 27.53846153846154, 28.2, 36.0, 38.583333333333336, 25.0, 29.0, 35.6875, 35.25, 39.0, 33.857142857142854, 36.083333333333336, 27.5, 33.916666666666664, 27.916666666666668, 30.545454545454547, 24.666666666666668, 35.0, 40.5, 32.0, 29.0, 36.0, 36.0, 34.785714285714285, 36.0, 32.25, 34.0, 30.0, 31.416666666666668, 39.5, 35.0, 28.428571428571427, 50.75, 32.0, 32.6, 32.0, 34.5, 35.6, 40.25, 30.4, 37.333333333333336, 39.666666666666664, 38.75, 43.0, 34.25, 26.0, 32.0, 31.058823529411764, 30.0, 36.63157894736842, 41.666666666666664, 28.0, 33.0, 31.0, 41.4, 43.416666666666664, 29.0, 35.61538461538461, 35.5, 46.916666666666664, 26.7, 34.5, 30.0, 31.0, 23.857142857142858, 37.857142857142854, 36.0, 41.333333333333336, 47.916666666666664, 54.25, 34.25, 37.0, 46.0, 35.785714285714285, 38.083333333333336, 23.0, 38.75, 42.25, 35.38461538461539, 40.5, 32.0, 25.0, 45.04347826086956, 32.666666666666664, 29.0, 27.0, 35.916666666666664, 46.25, 32.0, 27.0, 40.583333333333336, 25.0, 46.083333333333336, 32.25, 29.0, 33.23076923076923, 31.0, 23.0, 29.46153846153846, 25.0, 33.42857142857143, 25.0, 36.44444444444444, 24.0, 33.625, 24.0, 42.416666666666664, 30.0, 46.916666666666664, 40.357142857142854, 26.22222222222222, 45.416666666666664, 35.666666666666664, 37.421052631578945, 27.916666666666668, 36.333333333333336, 34.0, 25.8, 34.5, 30.083333333333332, 47.416666666666664, 35.2, 32.0, 33.666666666666664, 36.0, 28.0, 35.0, 29.857142857142858, 37.0, 39.0, 39.5, 29.5, 31.0, 39.26315789473684, 28.785714285714285, 36.22222222222222, 35.833333333333336, 45.916666666666664, 23.09090909090909, 38.166666666666664, 30.0, 32.0, 41.083333333333336, 23.0, 40.0, 32.25, 26.0, 34.916666666666664, 31.875, 36.0, 37.0, 30.916666666666668, 27.583333333333332, 34.75, 35.0, 40.25, 33.666666666666664, 41.916666666666664, 28.25, 24.0, 48.333333333333336, 31.166666666666668, 26.11111111111111, 34.0, 28.916666666666668, 35.0, 32.916666666666664, 34.0, 35.75, 39.0, 30.0, 38.083333333333336, 38.0, 34.0, 30.0, 31.307692307692307, 35.0, 29.363636363636363, 31.333333333333332, 32.0, 30.2, 30.0, 27.666666666666668, 37.0, 34.166666666666664, 32.0, 36.4, 37.0, 35.916666666666664, 26.0, 25.25, 39.0, 36.0, 25.357142857142858, 39.583333333333336, 29.285714285714285, 34.0, 33.583333333333336, 31.25, 26.8, 33.94117647058823, 31.61111111111111, 45.916666666666664, 28.4, 38.666666666666664, 29.157894736842106, 28.5, 37.77777777777778, 30.0, 32.0, 39.583333333333336, 27.0, 35.0, 25.0, 33.5, 29.857142857142858], \"xaxis\": \"x\", \"yaxis\": \"y\"}, {\"alignmentgroup\": \"True\", \"bingroup\": \"x\", \"hoverlabel\": {\"namelength\": 0}, \"hovertemplate\": \"left=True<br>Age=%{x}<br>count=%{y}\", \"legendgroup\": \"left=True\", \"marker\": {\"color\": \"rgb(246, 207, 113)\"}, \"name\": \"left=True\", \"offsetgroup\": \"left=True\", \"orientation\": \"v\", \"showlegend\": true, \"type\": \"histogram\", \"x\": [28.0, 43.0, 29.0, 34.0, 35.0, 29.608695652173914, 30.0, 42.142857142857146, 27.0, 26.0, 33.285714285714285, 40.375, 30.9, 30.0, 31.0, 28.0, 32.0, 40.214285714285715, 33.0, 22.0, 32.0, 44.0, 27.0, 28.0, 36.0, 21.076923076923077, 49.0, 33.2, 30.0, 37.05263157894737, 41.0, 35.0, 32.0, 33.0, 29.0, 31.09090909090909, 35.0, 43.0, 34.5, 25.0, 32.0, 38.3, 37.0, 34.0, 41.666666666666664, 35.0, 45.0, 27.2, 32.2, 31.0, 30.0, 28.5, 34.8, 24.529411764705884, 29.666666666666668, 33.0, 22.0, 26.0, 38.0, 33.625, 34.166666666666664, 37.5, 32.0, 51.22222222222222, 42.0, 21.666666666666668, 42.0, 31.8, 26.857142857142858, 33.0, 43.77777777777778, 32.57142857142857, 33.0, 37.625, 38.0, 27.0, 44.0, 37.0, 48.0, 31.5, 35.0, 24.0, 39.333333333333336, 26.25, 35.0, 36.0, 34.0, 30.0, 31.0, 37.09090909090909, 30.0, 27.0, 41.0, 26.0, 43.714285714285715, 37.25, 35.5, 29.0, 36.55555555555556, 25.0, 26.0, 33.166666666666664, 35.0, 43.714285714285715, 41.0, 39.0, 30.8, 33.25, 30.166666666666668, 23.0, 26.0, 34.0, 32.0, 26.0, 33.75, 29.0, 34.0, 35.36363636363637, 46.785714285714285, 30.0, 27.0, 43.42857142857143, 40.77777777777778, 46.0, 38.0, 33.705882352941174, 31.0, 32.0, 31.0, 34.0, 25.818181818181817, 29.615384615384617, 31.166666666666668, 35.09090909090909, 37.9, 31.0, 26.0, 25.0, 36.0, 44.75, 44.705882352941174, 43.0, 33.30769230769231, 32.0, 34.0, 39.0, 32.0, 24.0, 28.0, 39.8, 38.0, 42.0, 39.0, 21.0, 30.0, 29.0, 41.5625, 28.0, 42.666666666666664, 35.6, 30.2, 36.0, 34.0, 28.77777777777778, 33.0, 29.0, 34.0, 30.0, 30.0, 25.0, 27.0, 33.0, 28.0, 29.0, 38.125, 36.0, 42.0, 24.0, 37.63636363636363, 34.0, 31.0, 29.0, 47.0, 34.2, 33.0, 30.0, 26.666666666666668, 41.0, 26.0, 24.0, 38.0, 35.0, 39.0, 29.0, 44.0, 29.0, 46.3, 45.0, 31.833333333333332, 35.666666666666664, 44.23076923076923, 23.8, 28.0, 30.2, 36.0, 33.0, 33.0, 43.333333333333336, 30.304347826086957, 31.0, 34.0, 39.0, 33.0, 30.0, 27.0, 24.0, 32.0, 33.0, 29.375, 30.6, 25.88888888888889, 45.0, 29.0, 30.0, 32.0, 34.333333333333336, 27.625, 30.75, 38.0, 35.55555555555556, 34.0, 42.25, 39.0, 28.0, 32.4, 35.0, 30.833333333333332, 26.0, 40.3, 36.0, 39.2, 34.0, 37.0, 31.75, 35.36363636363637, 36.2, 29.0, 28.0, 43.0, 27.0, 32.0, 31.0, 32.0, 41.0, 45.7, 30.0, 34.5, 29.0, 31.428571428571427, 39.0, 33.3, 34.18181818181818, 23.0, 32.0, 31.0, 31.0, 38.0, 25.0, 32.0, 43.0, 27.3, 39.0, 31.0, 23.5, 29.153846153846153, 43.857142857142854, 29.0, 39.083333333333336, 39.0, 44.1764705882353, 31.384615384615383, 25.25, 36.0, 23.666666666666668, 29.714285714285715, 39.4, 23.0, 44.333333333333336, 32.888888888888886, 24.25, 39.8, 43.0, 35.0, 26.0, 51.0, 45.0, 36.0, 27.53846153846154, 36.0, 39.0, 33.0, 34.642857142857146, 33.285714285714285, 32.0, 37.0, 35.6, 38.47826086956522, 27.333333333333332, 36.0, 26.6, 43.6, 42.523809523809526, 29.0, 24.0, 43.0, 32.0, 36.0, 38.142857142857146, 29.0, 34.90909090909091, 38.0, 35.7, 29.833333333333332, 26.666666666666668, 39.333333333333336, 30.166666666666668, 29.0, 35.0, 30.0, 28.666666666666668, 41.0, 28.0, 38.44444444444444, 29.0, 38.0, 28.571428571428573, 33.0, 28.0, 30.0, 33.45454545454545, 27.0, 23.77777777777778, 33.0, 30.0, 32.0, 30.0, 22.181818181818183, 33.785714285714285, 41.0, 29.0, 23.0, 31.2, 35.0, 36.0, 43.0, 34.375, 36.0, 29.0, 31.0, 44.0, 26.625, 28.0, 33.5, 32.25, 34.0, 33.142857142857146, 44.0, 22.0, 35.0, 32.0, 24.0, 27.0, 31.0, 29.0, 32.5, 30.0, 33.5, 48.0, 36.111111111111114, 41.0, 23.0, 28.0, 32.0, 45.55555555555556, 28.0, 45.0, 30.0, 32.0, 31.75, 26.4, 26.25, 29.0, 42.63636363636363, 37.166666666666664, 28.363636363636363, 40.0, 35.0, 31.0, 38.2, 31.0, 34.166666666666664, 37.0, 31.5, 29.0, 29.77777777777778, 38.25, 33.0, 35.0, 38.0, 26.2, 26.0, 30.0, 33.5, 26.875, 30.0, 32.0, 29.0, 34.77777777777778, 33.166666666666664, 41.6, 23.0, 37.0, 39.0, 23.444444444444443, 36.0, 29.6, 37.0, 29.125, 30.571428571428573, 35.0, 40.44444444444444, 48.57142857142857, 41.0, 34.0, 30.294117647058822, 31.333333333333332, 33.0, 32.0, 33.0, 37.0, 33.4, 35.714285714285715, 27.0, 29.636363636363637, 24.0, 32.0, 32.4, 29.4, 31.0, 32.5, 31.428571428571427, 38.529411764705884, 28.75, 31.0, 27.428571428571427, 32.25, 37.6, 26.666666666666668, 31.166666666666668, 41.0, 41.0, 47.0, 33.0, 36.142857142857146, 28.736842105263158, 30.8, 46.0, 29.428571428571427, 33.0, 35.55555555555556, 34.0, 23.0, 33.0, 35.0, 36.15384615384615, 37.0, 23.0, 38.0, 31.166666666666668, 36.0, 46.666666666666664, 24.0, 36.714285714285715, 37.0, 32.0, 32.388888888888886, 37.0, 22.0, 32.0, 38.0, 32.0, 30.047619047619047, 32.0, 36.0, 24.846153846153847, 33.1, 34.333333333333336, 36.333333333333336, 30.285714285714285, 32.0, 51.0, 29.0, 31.555555555555557, 31.0, 35.25, 45.90909090909091, 48.666666666666664, 35.2, 38.0, 26.0, 46.0, 25.0, 24.571428571428573, 25.0, 28.0, 34.0, 34.0, 31.0, 24.454545454545453, 28.166666666666668, 32.5, 31.0, 37.0, 28.88888888888889, 38.875, 32.0, 34.0, 44.357142857142854, 23.0, 35.5, 29.0, 36.0, 29.833333333333332, 35.0, 25.0, 40.44444444444444, 25.5, 33.0, 35.0, 42.0, 37.0, 30.833333333333332, 42.0, 45.0, 26.0, 38.0, 26.0, 52.0, 23.0, 38.0, 30.153846153846153, 32.0, 28.0, 35.666666666666664, 28.5625, 27.333333333333332, 32.0, 31.0, 37.0, 27.714285714285715, 32.0, 27.6, 37.77777777777778, 29.0, 28.0, 31.0, 30.0, 30.428571428571427, 23.0, 40.77777777777778, 33.54545454545455, 30.25, 39.0, 47.0, 41.0, 38.0, 37.5, 27.0, 27.0, 25.0, 26.0, 28.0, 27.333333333333332, 37.26315789473684, 39.0, 31.0, 32.0, 38.0, 33.90909090909091, 37.0, 27.666666666666668, 33.0, 36.5, 28.0, 32.0, 26.6, 29.0, 36.07692307692308, 33.54545454545455, 46.0, 40.5, 36.0, 26.636363636363637, 39.5, 29.0, 40.0, 35.57142857142857, 24.0, 34.666666666666664, 26.0, 29.5, 35.0, 34.5, 37.0, 30.3, 30.047619047619047, 40.857142857142854, 23.75, 26.0, 40.0, 32.75, 31.0, 26.0, 32.0, 42.0, 32.0, 26.0, 38.0, 35.666666666666664, 34.0, 30.0, 42.07692307692308, 38.0, 32.5, 26.75, 24.0, 32.0, 33.125, 35.0, 33.0, 31.0, 25.0, 37.0, 32.0, 34.0, 34.666666666666664, 33.0, 33.333333333333336, 33.0, 24.666666666666668, 31.0, 32.5, 28.0, 24.0, 33.04347826086956, 35.0, 28.272727272727273, 28.0, 41.36363636363637, 33.0, 38.0, 34.666666666666664, 27.0, 30.0, 30.0, 26.0, 24.0, 29.0, 25.4, 22.0, 30.0, 27.25, 36.63157894736842, 27.647058823529413, 30.0, 27.0, 26.7, 26.0, 30.0, 38.0, 27.333333333333332, 22.0, 37.0, 28.0, 32.0, 32.0, 34.7, 29.5, 31.857142857142858, 33.75, 41.2, 23.88888888888889, 43.0, 35.57142857142857, 31.666666666666668, 30.4, 31.916666666666668, 35.0, 39.46153846153846, 37.142857142857146, 23.6, 41.0, 29.0, 31.0, 28.8, 31.0, 27.0, 36.25, 32.0, 30.0, 32.0, 31.0, 24.0, 41.0, 29.0, 30.77777777777778, 26.0, 33.666666666666664, 36.2, 31.0, 25.5, 37.75, 35.666666666666664, 35.0, 32.666666666666664, 33.0, 26.5, 25.0, 35.0, 35.0, 36.0, 33.166666666666664, 21.0, 28.0, 33.666666666666664, 29.0, 39.3, 36.0, 34.0, 43.285714285714285, 27.666666666666668, 31.0, 45.54545454545455, 39.0, 34.0, 28.0, 50.0, 33.0, 32.0, 32.0, 35.142857142857146, 31.0, 36.0, 32.84615384615385, 39.0, 33.0, 44.0, 33.666666666666664, 30.454545454545453, 38.5, 31.0, 32.0, 39.4, 29.0, 44.470588235294116, 42.2, 29.625, 38.75, 28.571428571428573, 26.0, 33.5, 47.2, 23.0, 27.333333333333332, 28.0, 28.0, 33.44444444444444, 31.0, 27.0, 35.0, 32.0, 50.666666666666664, 40.0, 36.0, 46.0, 31.0, 36.72727272727273, 32.0, 39.0, 33.0, 36.0, 32.888888888888886, 26.444444444444443, 33.0, 24.2, 39.25, 26.2, 29.0, 38.0, 31.0, 26.4, 30.294117647058822, 31.0, 26.0, 32.833333333333336, 31.0, 37.0, 25.0, 25.0, 31.0, 28.0, 27.0, 36.0, 29.0, 30.0, 25.0, 30.166666666666668, 30.5, 30.0, 32.0, 35.0, 27.333333333333332, 34.0, 44.857142857142854, 41.07692307692308, 47.083333333333336, 34.0, 41.5, 27.333333333333332, 29.41176470588235, 35.2, 40.5, 41.0, 27.0, 33.0, 29.2, 36.8, 29.0, 35.5, 38.0, 23.75, 25.0, 29.11111111111111, 38.125, 25.8, 42.0, 26.25, 32.0, 28.0, 31.0, 35.0, 31.0, 39.0, 32.2, 33.92857142857143, 31.375, 24.166666666666668, 34.666666666666664, 41.333333333333336, 31.5, 30.0, 28.0, 35.0, 28.0, 42.0, 26.333333333333332, 31.0, 32.0, 29.166666666666668, 27.0, 31.923076923076923, 40.0, 39.0, 44.0, 37.0, 33.0, 27.2, 44.1, 28.333333333333332, 30.75, 32.0, 30.833333333333332, 38.0, 36.1, 25.0, 35.375, 31.0, 36.0, 24.05263157894737, 33.0, 23.0, 30.0, 27.0, 34.0, 28.625, 31.5, 41.142857142857146, 27.0, 39.0, 27.0, 47.35294117647059, 46.0, 38.666666666666664, 31.0, 28.0, 27.0, 28.625, 38.0, 36.5, 31.0, 38.0, 28.0, 26.0, 22.0, 38.0, 31.0, 33.583333333333336, 32.75, 42.0, 44.0, 34.0, 27.0, 30.0, 31.0, 37.0, 35.0, 23.0, 29.0, 31.25, 31.875, 46.142857142857146, 27.307692307692307, 36.0, 24.833333333333332, 33.0, 25.75, 42.294117647058826, 32.0, 25.0, 42.5, 51.5, 34.375, 42.0, 21.75, 29.0, 36.75, 51.72727272727273, 34.0, 40.875, 33.0, 31.25, 29.0, 23.833333333333332, 39.5, 33.55555555555556, 34.0, 33.0, 28.0, 36.0, 34.27272727272727, 34.0, 33.6, 34.0, 26.833333333333332, 30.166666666666668, 32.0, 38.5, 27.0, 29.333333333333332, 33.75, 29.0, 32.0, 24.0, 34.8421052631579, 45.57142857142857, 32.75, 36.333333333333336, 41.1, 29.0, 34.0, 40.0, 38.27272727272727, 42.0, 29.0, 39.0, 25.0, 30.2, 32.0, 29.0, 27.933333333333334, 30.0, 32.0, 37.470588235294116, 23.0, 50.1764705882353, 32.0, 30.0, 25.0, 29.0, 41.09090909090909, 34.666666666666664, 31.0, 30.625, 39.0, 22.0, 32.625, 34.0, 27.0, 35.0, 28.727272727272727, 27.5, 38.8, 30.0, 31.0, 24.0, 32.0, 31.0, 39.0, 29.0, 37.333333333333336, 25.0, 31.833333333333332, 33.857142857142854, 51.583333333333336, 37.75, 36.0, 43.25, 26.0, 27.0, 30.0, 23.0, 37.0, 43.666666666666664, 22.0, 51.0, 31.076923076923077, 32.0, 40.57142857142857, 39.0, 28.0, 28.0, 28.0, 35.0, 41.666666666666664, 30.0, 38.6, 33.0, 28.0, 31.9, 34.0, 41.0, 26.666666666666668, 43.333333333333336, 30.0, 49.111111111111114, 34.55555555555556, 39.0, 44.0, 29.0, 41.0, 33.0, 25.333333333333332, 43.0, 35.5, 37.2, 39.55555555555556, 29.333333333333332, 45.36363636363637, 33.0, 34.0, 29.1, 33.0, 30.0, 32.0, 33.0, 26.0, 41.0, 32.1, 37.0, 30.0, 29.125, 28.0, 35.0, 27.0, 28.666666666666668, 34.0, 27.0, 31.0, 40.09090909090909, 24.714285714285715, 34.0, 37.0, 30.7, 33.0, 27.0, 30.0, 42.0, 28.333333333333332, 37.0, 27.2, 32.0, 26.0, 31.166666666666668, 26.7, 36.0, 27.5, 27.8, 36.0, 45.333333333333336, 32.0, 27.0, 30.46153846153846, 26.0, 30.0, 27.625, 30.375, 35.357142857142854, 29.25, 32.0, 41.0, 23.4, 36.0, 35.666666666666664, 31.0, 41.0, 33.0, 49.0, 35.0, 24.90909090909091, 39.0, 22.0, 30.0, 35.0, 31.5, 37.0, 34.0, 36.285714285714285, 34.375, 35.666666666666664, 24.636363636363637, 27.0, 34.44444444444444, 26.0, 25.0, 27.0, 28.0, 32.0, 36.375, 33.0, 23.8, 44.0, 39.285714285714285, 33.0, 24.4, 30.125, 38.0, 33.0, 28.571428571428573, 31.0, 26.0, 28.166666666666668, 26.36842105263158, 42.857142857142854, 28.0, 31.0, 23.0, 25.0, 34.0, 34.0, 25.0, 35.588235294117645, 39.583333333333336, 30.5, 27.0, 29.166666666666668, 32.0, 37.0, 40.94117647058823, 26.77777777777778, 33.0, 27.0, 36.0, 36.666666666666664, 27.0, 37.0, 42.0, 34.0, 21.0, 25.0, 36.833333333333336, 26.0, 30.0, 45.0, 39.833333333333336, 33.666666666666664, 31.0, 28.0, 33.333333333333336, 43.857142857142854, 41.45454545454545, 29.6, 44.0, 37.0, 32.666666666666664, 32.0, 32.0, 32.0, 30.0, 52.0, 37.0, 26.076923076923077, 30.375, 26.0, 34.0, 46.0, 22.714285714285715, 40.875, 34.6, 33.5, 37.0, 34.0, 34.0, 29.4, 28.0, 29.0, 28.0, 44.57142857142857, 26.0, 36.0, 32.0, 27.0, 31.466666666666665, 28.0, 40.2, 36.0, 33.4, 36.0, 35.0, 38.833333333333336, 37.470588235294116, 32.0, 22.5, 37.0, 38.07692307692308, 39.416666666666664, 30.0, 35.0, 27.0, 43.0, 40.333333333333336, 41.0, 29.454545454545453, 39.0, 35.0, 23.526315789473685, 40.0, 29.22222222222222, 30.8, 28.0, 38.42857142857143, 35.36842105263158, 32.0, 48.111111111111114, 32.0, 31.0, 28.555555555555557, 24.714285714285715, 34.0, 37.0, 34.0, 58.0, 33.0, 27.0, 30.8, 23.0, 32.75, 38.0, 32.2, 36.30434782608695, 31.0, 30.4, 26.0, 33.833333333333336, 25.666666666666668, 30.0, 49.0, 29.0, 33.0, 35.0, 33.0, 28.0, 29.6, 41.0, 38.0, 25.4, 36.8, 39.25, 30.22222222222222, 24.142857142857142, 33.55555555555556, 28.0, 30.833333333333332, 32.666666666666664, 34.0, 38.0, 32.0, 34.0, 34.0, 31.0, 31.0, 30.5, 38.25, 34.0, 33.785714285714285, 31.0, 30.0, 30.0, 24.0, 41.0, 24.4, 34.0, 36.0, 35.0, 28.0, 30.384615384615383, 36.0, 31.0, 32.0, 34.0, 38.0, 29.0, 33.0, 25.0, 34.0, 32.7, 34.6, 32.714285714285715, 28.0, 24.0, 41.0, 31.75, 43.2, 30.0, 34.0, 33.0, 32.888888888888886, 36.0, 38.0, 31.0, 31.46153846153846, 32.0, 40.0, 39.25, 34.0, 42.57142857142857, 32.0, 38.0, 31.0, 49.0, 27.0, 30.333333333333332, 30.0, 41.73684210526316, 35.0, 33.0, 41.0, 33.666666666666664, 28.0, 26.75, 36.0, 39.42857142857143, 31.5, 27.4, 28.444444444444443, 31.4, 30.0, 42.09090909090909, 33.857142857142854, 35.0, 28.166666666666668, 35.0, 25.125, 36.0, 32.857142857142854, 41.38461538461539, 27.0, 37.5, 35.0, 43.47826086956522, 31.0, 39.0, 32.357142857142854, 25.0, 38.0, 30.0, 33.0, 27.0, 27.0, 37.0, 52.18181818181818, 30.0, 28.666666666666668, 33.0, 31.0, 33.0, 36.15384615384615, 25.555555555555557, 36.07692307692308, 23.0, 32.714285714285715, 29.0, 23.76923076923077, 24.5, 42.0, 38.0, 32.0, 26.0, 30.0, 34.0, 28.2, 33.0, 30.88888888888889, 27.0, 33.4, 34.0, 35.0, 33.142857142857146, 25.857142857142858, 45.333333333333336, 36.0, 35.42857142857143, 40.1764705882353, 35.18181818181818, 27.181818181818183, 36.0, 25.0, 25.0, 35.666666666666664, 50.285714285714285, 31.875, 27.0, 31.0, 30.6, 35.0, 32.0, 33.0, 26.0, 37.0, 38.0, 41.0, 27.333333333333332, 31.0, 45.714285714285715, 37.666666666666664, 30.333333333333332, 23.0, 25.0, 45.0, 40.142857142857146, 28.2, 38.333333333333336, 32.0, 39.0, 29.125, 34.0, 31.25, 43.666666666666664, 31.0, 33.0, 38.0, 38.0, 25.0, 36.5, 46.0, 30.0, 31.25, 38.15384615384615, 23.0, 45.1578947368421, 38.0, 22.333333333333332, 25.0, 28.0, 25.0, 46.0, 42.0, 44.69565217391305, 26.0, 31.0, 31.0, 33.666666666666664, 28.0, 35.75, 34.5, 35.888888888888886, 32.8, 36.0, 26.0, 41.77777777777778, 36.75, 24.714285714285715, 36.8, 39.0, 41.0, 24.0, 40.0, 32.0, 23.0, 41.0, 29.5, 31.0, 27.545454545454547, 27.714285714285715, 35.0, 41.25, 32.63636363636363, 27.0, 27.5, 25.0, 38.1, 26.0, 25.0, 41.0, 36.0, 29.833333333333332, 28.0, 44.0, 36.0, 45.8421052631579, 39.76923076923077, 48.0, 33.266666666666666, 32.0, 35.0, 34.0, 34.0, 33.214285714285715, 31.0, 36.0, 28.0, 40.2, 35.0, 28.142857142857142, 29.0, 34.0, 25.0, 28.0, 42.416666666666664, 48.0, 24.3, 31.0, 29.571428571428573, 24.53846153846154, 38.0, 35.0, 36.285714285714285, 29.0, 26.0, 33.0, 25.0, 34.0, 38.0, 33.0, 36.61538461538461, 25.0, 31.0, 38.0, 38.0, 30.333333333333332, 32.0, 31.6, 35.0, 29.416666666666668, 43.0, 38.333333333333336, 42.166666666666664, 37.714285714285715, 25.0, 43.1, 32.0, 29.0, 38.0, 31.142857142857142, 27.0, 27.0, 23.923076923076923, 34.0, 28.444444444444443, 41.285714285714285, 33.0, 32.0, 38.0, 27.0, 31.11111111111111, 36.0, 37.0, 32.2, 29.0, 31.0, 40.0, 26.0, 35.666666666666664, 30.0, 22.2, 36.0, 40.142857142857146, 27.0, 28.0, 26.0, 34.0, 44.888888888888886, 28.0], \"xaxis\": \"x\", \"yaxis\": \"y\"}],\n",
              "                        {\"barmode\": \"relative\", \"legend\": {\"tracegroupgap\": 0}, \"template\": {\"data\": {\"bar\": [{\"error_x\": {\"color\": \"#2a3f5f\"}, \"error_y\": {\"color\": \"#2a3f5f\"}, \"marker\": {\"line\": {\"color\": \"#E5ECF6\", \"width\": 0.5}}, \"type\": \"bar\"}], \"barpolar\": [{\"marker\": {\"line\": {\"color\": \"#E5ECF6\", \"width\": 0.5}}, \"type\": \"barpolar\"}], \"carpet\": [{\"aaxis\": {\"endlinecolor\": \"#2a3f5f\", \"gridcolor\": \"white\", \"linecolor\": \"white\", \"minorgridcolor\": \"white\", \"startlinecolor\": \"#2a3f5f\"}, \"baxis\": {\"endlinecolor\": \"#2a3f5f\", \"gridcolor\": \"white\", \"linecolor\": \"white\", \"minorgridcolor\": \"white\", \"startlinecolor\": \"#2a3f5f\"}, \"type\": \"carpet\"}], \"choropleth\": [{\"colorbar\": {\"outlinewidth\": 0, \"ticks\": \"\"}, \"type\": \"choropleth\"}], \"contour\": [{\"colorbar\": {\"outlinewidth\": 0, \"ticks\": \"\"}, \"colorscale\": [[0.0, \"#0d0887\"], [0.1111111111111111, \"#46039f\"], [0.2222222222222222, \"#7201a8\"], [0.3333333333333333, \"#9c179e\"], [0.4444444444444444, \"#bd3786\"], [0.5555555555555556, \"#d8576b\"], [0.6666666666666666, \"#ed7953\"], [0.7777777777777778, \"#fb9f3a\"], [0.8888888888888888, \"#fdca26\"], [1.0, \"#f0f921\"]], \"type\": \"contour\"}], \"contourcarpet\": [{\"colorbar\": {\"outlinewidth\": 0, \"ticks\": \"\"}, \"type\": \"contourcarpet\"}], \"heatmap\": [{\"colorbar\": {\"outlinewidth\": 0, \"ticks\": \"\"}, \"colorscale\": [[0.0, \"#0d0887\"], [0.1111111111111111, \"#46039f\"], [0.2222222222222222, \"#7201a8\"], [0.3333333333333333, \"#9c179e\"], [0.4444444444444444, \"#bd3786\"], [0.5555555555555556, \"#d8576b\"], [0.6666666666666666, \"#ed7953\"], [0.7777777777777778, \"#fb9f3a\"], [0.8888888888888888, \"#fdca26\"], [1.0, \"#f0f921\"]], \"type\": \"heatmap\"}], \"heatmapgl\": [{\"colorbar\": {\"outlinewidth\": 0, \"ticks\": \"\"}, \"colorscale\": [[0.0, \"#0d0887\"], [0.1111111111111111, \"#46039f\"], [0.2222222222222222, \"#7201a8\"], [0.3333333333333333, \"#9c179e\"], [0.4444444444444444, \"#bd3786\"], [0.5555555555555556, \"#d8576b\"], [0.6666666666666666, \"#ed7953\"], [0.7777777777777778, \"#fb9f3a\"], [0.8888888888888888, \"#fdca26\"], [1.0, \"#f0f921\"]], \"type\": \"heatmapgl\"}], \"histogram\": [{\"marker\": {\"colorbar\": {\"outlinewidth\": 0, \"ticks\": \"\"}}, \"type\": \"histogram\"}], \"histogram2d\": [{\"colorbar\": {\"outlinewidth\": 0, \"ticks\": \"\"}, \"colorscale\": [[0.0, \"#0d0887\"], [0.1111111111111111, \"#46039f\"], [0.2222222222222222, \"#7201a8\"], [0.3333333333333333, \"#9c179e\"], [0.4444444444444444, \"#bd3786\"], [0.5555555555555556, \"#d8576b\"], [0.6666666666666666, \"#ed7953\"], [0.7777777777777778, \"#fb9f3a\"], [0.8888888888888888, \"#fdca26\"], [1.0, \"#f0f921\"]], \"type\": \"histogram2d\"}], \"histogram2dcontour\": [{\"colorbar\": {\"outlinewidth\": 0, \"ticks\": \"\"}, \"colorscale\": [[0.0, \"#0d0887\"], [0.1111111111111111, \"#46039f\"], [0.2222222222222222, \"#7201a8\"], [0.3333333333333333, \"#9c179e\"], [0.4444444444444444, \"#bd3786\"], [0.5555555555555556, \"#d8576b\"], [0.6666666666666666, \"#ed7953\"], [0.7777777777777778, \"#fb9f3a\"], [0.8888888888888888, \"#fdca26\"], [1.0, \"#f0f921\"]], \"type\": \"histogram2dcontour\"}], \"mesh3d\": [{\"colorbar\": {\"outlinewidth\": 0, \"ticks\": \"\"}, \"type\": \"mesh3d\"}], \"parcoords\": [{\"line\": {\"colorbar\": {\"outlinewidth\": 0, \"ticks\": \"\"}}, \"type\": \"parcoords\"}], \"pie\": [{\"automargin\": true, \"type\": \"pie\"}], \"scatter\": [{\"marker\": {\"colorbar\": {\"outlinewidth\": 0, \"ticks\": \"\"}}, \"type\": \"scatter\"}], \"scatter3d\": [{\"line\": {\"colorbar\": {\"outlinewidth\": 0, \"ticks\": \"\"}}, \"marker\": {\"colorbar\": {\"outlinewidth\": 0, \"ticks\": \"\"}}, \"type\": \"scatter3d\"}], \"scattercarpet\": [{\"marker\": {\"colorbar\": {\"outlinewidth\": 0, \"ticks\": \"\"}}, \"type\": \"scattercarpet\"}], \"scattergeo\": [{\"marker\": {\"colorbar\": {\"outlinewidth\": 0, \"ticks\": \"\"}}, \"type\": \"scattergeo\"}], \"scattergl\": [{\"marker\": {\"colorbar\": {\"outlinewidth\": 0, \"ticks\": \"\"}}, \"type\": \"scattergl\"}], \"scattermapbox\": [{\"marker\": {\"colorbar\": {\"outlinewidth\": 0, \"ticks\": \"\"}}, \"type\": \"scattermapbox\"}], \"scatterpolar\": [{\"marker\": {\"colorbar\": {\"outlinewidth\": 0, \"ticks\": \"\"}}, \"type\": \"scatterpolar\"}], \"scatterpolargl\": [{\"marker\": {\"colorbar\": {\"outlinewidth\": 0, \"ticks\": \"\"}}, \"type\": \"scatterpolargl\"}], \"scatterternary\": [{\"marker\": {\"colorbar\": {\"outlinewidth\": 0, \"ticks\": \"\"}}, \"type\": \"scatterternary\"}], \"surface\": [{\"colorbar\": {\"outlinewidth\": 0, \"ticks\": \"\"}, \"colorscale\": [[0.0, \"#0d0887\"], [0.1111111111111111, \"#46039f\"], [0.2222222222222222, \"#7201a8\"], [0.3333333333333333, \"#9c179e\"], [0.4444444444444444, \"#bd3786\"], [0.5555555555555556, \"#d8576b\"], [0.6666666666666666, \"#ed7953\"], [0.7777777777777778, \"#fb9f3a\"], [0.8888888888888888, \"#fdca26\"], [1.0, \"#f0f921\"]], \"type\": \"surface\"}], \"table\": [{\"cells\": {\"fill\": {\"color\": \"#EBF0F8\"}, \"line\": {\"color\": \"white\"}}, \"header\": {\"fill\": {\"color\": \"#C8D4E3\"}, \"line\": {\"color\": \"white\"}}, \"type\": \"table\"}]}, \"layout\": {\"annotationdefaults\": {\"arrowcolor\": \"#2a3f5f\", \"arrowhead\": 0, \"arrowwidth\": 1}, \"coloraxis\": {\"colorbar\": {\"outlinewidth\": 0, \"ticks\": \"\"}}, \"colorscale\": {\"diverging\": [[0, \"#8e0152\"], [0.1, \"#c51b7d\"], [0.2, \"#de77ae\"], [0.3, \"#f1b6da\"], [0.4, \"#fde0ef\"], [0.5, \"#f7f7f7\"], [0.6, \"#e6f5d0\"], [0.7, \"#b8e186\"], [0.8, \"#7fbc41\"], [0.9, \"#4d9221\"], [1, \"#276419\"]], \"sequential\": [[0.0, \"#0d0887\"], [0.1111111111111111, \"#46039f\"], [0.2222222222222222, \"#7201a8\"], [0.3333333333333333, \"#9c179e\"], [0.4444444444444444, \"#bd3786\"], [0.5555555555555556, \"#d8576b\"], [0.6666666666666666, \"#ed7953\"], [0.7777777777777778, \"#fb9f3a\"], [0.8888888888888888, \"#fdca26\"], [1.0, \"#f0f921\"]], \"sequentialminus\": [[0.0, \"#0d0887\"], [0.1111111111111111, \"#46039f\"], [0.2222222222222222, \"#7201a8\"], [0.3333333333333333, \"#9c179e\"], [0.4444444444444444, \"#bd3786\"], [0.5555555555555556, \"#d8576b\"], [0.6666666666666666, \"#ed7953\"], [0.7777777777777778, \"#fb9f3a\"], [0.8888888888888888, \"#fdca26\"], [1.0, \"#f0f921\"]]}, \"colorway\": [\"#636efa\", \"#EF553B\", \"#00cc96\", \"#ab63fa\", \"#FFA15A\", \"#19d3f3\", \"#FF6692\", \"#B6E880\", \"#FF97FF\", \"#FECB52\"], \"font\": {\"color\": \"#2a3f5f\"}, \"geo\": {\"bgcolor\": \"white\", \"lakecolor\": \"white\", \"landcolor\": \"#E5ECF6\", \"showlakes\": true, \"showland\": true, \"subunitcolor\": \"white\"}, \"hoverlabel\": {\"align\": \"left\"}, \"hovermode\": \"closest\", \"mapbox\": {\"style\": \"light\"}, \"paper_bgcolor\": \"white\", \"plot_bgcolor\": \"#E5ECF6\", \"polar\": {\"angularaxis\": {\"gridcolor\": \"white\", \"linecolor\": \"white\", \"ticks\": \"\"}, \"bgcolor\": \"#E5ECF6\", \"radialaxis\": {\"gridcolor\": \"white\", \"linecolor\": \"white\", \"ticks\": \"\"}}, \"scene\": {\"xaxis\": {\"backgroundcolor\": \"#E5ECF6\", \"gridcolor\": \"white\", \"gridwidth\": 2, \"linecolor\": \"white\", \"showbackground\": true, \"ticks\": \"\", \"zerolinecolor\": \"white\"}, \"yaxis\": {\"backgroundcolor\": \"#E5ECF6\", \"gridcolor\": \"white\", \"gridwidth\": 2, \"linecolor\": \"white\", \"showbackground\": true, \"ticks\": \"\", \"zerolinecolor\": \"white\"}, \"zaxis\": {\"backgroundcolor\": \"#E5ECF6\", \"gridcolor\": \"white\", \"gridwidth\": 2, \"linecolor\": \"white\", \"showbackground\": true, \"ticks\": \"\", \"zerolinecolor\": \"white\"}}, \"shapedefaults\": {\"line\": {\"color\": \"#2a3f5f\"}}, \"ternary\": {\"aaxis\": {\"gridcolor\": \"white\", \"linecolor\": \"white\", \"ticks\": \"\"}, \"baxis\": {\"gridcolor\": \"white\", \"linecolor\": \"white\", \"ticks\": \"\"}, \"bgcolor\": \"#E5ECF6\", \"caxis\": {\"gridcolor\": \"white\", \"linecolor\": \"white\", \"ticks\": \"\"}}, \"title\": {\"x\": 0.05}, \"xaxis\": {\"automargin\": true, \"gridcolor\": \"white\", \"linecolor\": \"white\", \"ticks\": \"\", \"title\": {\"standoff\": 15}, \"zerolinecolor\": \"white\", \"zerolinewidth\": 2}, \"yaxis\": {\"automargin\": true, \"gridcolor\": \"white\", \"linecolor\": \"white\", \"ticks\": \"\", \"title\": {\"standoff\": 15}, \"zerolinecolor\": \"white\", \"zerolinewidth\": 2}}}, \"title\": {\"text\": \" \"}, \"xaxis\": {\"anchor\": \"y\", \"domain\": [0.0, 1.0], \"title\": {\"text\": \"Age\"}}, \"yaxis\": {\"anchor\": \"x\", \"domain\": [0.0, 1.0], \"title\": {\"text\": \"count\"}}},\n",
              "                        {\"responsive\": true}\n",
              "                    ).then(function(){\n",
              "                            \n",
              "var gd = document.getElementById('5be9475b-f750-4f71-a57d-bd423c3a19a6');\n",
              "var x = new MutationObserver(function (mutations, observer) {{\n",
              "        var display = window.getComputedStyle(gd).display;\n",
              "        if (!display || display === 'none') {{\n",
              "            console.log([gd, 'removed!']);\n",
              "            Plotly.purge(gd);\n",
              "            observer.disconnect();\n",
              "        }}\n",
              "}});\n",
              "\n",
              "// Listen for the removal of the full notebook cells\n",
              "var notebookContainer = gd.closest('#notebook-container');\n",
              "if (notebookContainer) {{\n",
              "    x.observe(notebookContainer, {childList: true});\n",
              "}}\n",
              "\n",
              "// Listen for the clearing of the current output cell\n",
              "var outputEl = gd.closest('.output');\n",
              "if (outputEl) {{\n",
              "    x.observe(outputEl, {childList: true});\n",
              "}}\n",
              "\n",
              "                        })\n",
              "                };\n",
              "                \n",
              "            </script>\n",
              "        </div>\n",
              "</body>\n",
              "</html>"
            ]
          },
          "metadata": {
            "tags": []
          }
        },
        {
          "output_type": "display_data",
          "data": {
            "text/html": [
              "<html>\n",
              "<head><meta charset=\"utf-8\" /></head>\n",
              "<body>\n",
              "    <div>\n",
              "            <script src=\"https://cdnjs.cloudflare.com/ajax/libs/mathjax/2.7.5/MathJax.js?config=TeX-AMS-MML_SVG\"></script><script type=\"text/javascript\">if (window.MathJax) {MathJax.Hub.Config({SVG: {font: \"STIX-Web\"}});}</script>\n",
              "                <script type=\"text/javascript\">window.PlotlyConfig = {MathJaxConfig: 'local'};</script>\n",
              "        <script src=\"https://cdn.plot.ly/plotly-latest.min.js\"></script>    \n",
              "            <div id=\"63296000-89f8-4a81-a704-515f9ca3f99a\" class=\"plotly-graph-div\" style=\"height:525px; width:100%;\"></div>\n",
              "            <script type=\"text/javascript\">\n",
              "                \n",
              "                    window.PLOTLYENV=window.PLOTLYENV || {};\n",
              "                    \n",
              "                if (document.getElementById(\"63296000-89f8-4a81-a704-515f9ca3f99a\")) {\n",
              "                    Plotly.newPlot(\n",
              "                        '63296000-89f8-4a81-a704-515f9ca3f99a',\n",
              "                        [{\"alignmentgroup\": \"True\", \"hoverlabel\": {\"namelength\": 0}, \"hovertemplate\": \"Age=%{y}\", \"legendgroup\": \"\", \"marker\": {\"color\": \"rgb(102, 197, 204)\"}, \"name\": \"\", \"notched\": false, \"offsetgroup\": \"\", \"orientation\": \"v\", \"showlegend\": false, \"type\": \"box\", \"x0\": \" \", \"xaxis\": \"x\", \"y\": [31.0, 31.0, 28.0, 39.0, 29.666666666666668, 41.833333333333336, 32.0, 32.0, 33.77777777777778, 35.0, 30.0, 36.5, 33.77777777777778, 34.833333333333336, 46.583333333333336, 27.0, 26.583333333333332, 39.916666666666664, 31.25, 28.0, 33.5, 35.666666666666664, 29.0, 24.333333333333332, 36.6875, 40.0, 30.0, 35.666666666666664, 44.75, 32.0, 45.0, 46.0, 27.0, 38.0, 32.0, 28.0, 41.285714285714285, 36.833333333333336, 41.0, 37.583333333333336, 25.6, 38.166666666666664, 30.0, 33.142857142857146, 26.692307692307693, 37.0, 29.5, 33.0, 39.0, 26.0, 37.625, 36.416666666666664, 24.6, 32.0, 36.0, 26.416666666666668, 32.25, 26.0, 36.333333333333336, 29.0, 24.0, 34.0, 38.0, 35.94736842105263, 29.0, 39.0, 40.166666666666664, 29.333333333333332, 42.333333333333336, 27.0, 41.0, 29.0, 36.0, 31.166666666666668, 38.0, 31.0, 30.916666666666668, 30.0, 27.0, 27.5, 29.333333333333332, 30.333333333333332, 43.0, 35.0, 41.0, 39.30769230769231, 35.0, 28.0, 30.076923076923077, 34.4, 39.142857142857146, 36.36842105263158, 37.625, 29.0, 43.75, 47.083333333333336, 35.55555555555556, 37.2, 34.0, 33.0, 28.0, 34.666666666666664, 33.76923076923077, 35.833333333333336, 33.25, 30.0, 34.53333333333333, 45.083333333333336, 29.0, 40.5, 29.0, 29.0, 36.0, 28.0, 39.0, 26.166666666666668, 46.0, 33.0, 38.75, 28.75, 39.083333333333336, 31.714285714285715, 31.76923076923077, 30.90909090909091, 36.0, 25.0, 29.25, 36.666666666666664, 22.5, 31.0, 29.0, 35.0, 38.285714285714285, 42.0, 27.23076923076923, 36.0, 31.0, 43.0, 32.0, 33.0, 25.0, 27.75, 34.0, 25.444444444444443, 35.0, 32.6, 35.0, 35.93333333333333, 28.0, 34.92307692307692, 25.428571428571427, 29.0, 29.0, 35.5, 27.75, 31.0, 35.333333333333336, 36.42857142857143, 35.25, 40.4, 40.75, 28.0, 36.3125, 32.0, 38.916666666666664, 33.083333333333336, 32.0, 27.0, 41.0, 40.75, 32.714285714285715, 31.0, 33.285714285714285, 36.0, 40.75, 30.0, 30.0, 28.0, 27.0, 45.583333333333336, 36.166666666666664, 21.142857142857142, 29.875, 29.0, 42.0, 33.916666666666664, 36.666666666666664, 26.545454545454547, 35.0, 34.5, 29.0, 33.666666666666664, 27.333333333333332, 33.0, 29.77777777777778, 36.0, 33.0, 35.333333333333336, 35.0, 29.0, 29.11111111111111, 46.416666666666664, 41.77777777777778, 32.875, 28.083333333333332, 32.0, 29.0, 34.0, 28.333333333333332, 41.0, 43.166666666666664, 26.5, 34.0, 32.0, 23.0, 34.4, 40.0, 37.0, 31.0, 27.0, 43.0, 34.0, 29.0, 34.416666666666664, 32.0, 45.583333333333336, 30.41176470588235, 36.0, 29.61111111111111, 36.0, 31.0, 38.916666666666664, 35.5, 26.0, 38.6, 29.0, 39.42857142857143, 25.0, 29.5, 41.0, 40.0, 40.0, 36.0, 33.25, 40.583333333333336, 36.0, 28.923076923076923, 39.5, 28.0, 30.0, 30.0, 36.166666666666664, 36.0, 38.666666666666664, 30.5, 31.666666666666668, 49.5, 28.0, 39.583333333333336, 34.875, 30.0, 47.75, 35.714285714285715, 26.75, 52.25, 38.583333333333336, 43.0, 37.0, 30.166666666666668, 28.933333333333334, 33.8, 39.0, 40.0, 45.916666666666664, 39.833333333333336, 31.0, 35.0, 41.666666666666664, 30.166666666666668, 45.333333333333336, 23.0, 28.625, 26.0, 32.0, 32.0, 27.0, 24.0, 44.416666666666664, 30.0, 35.833333333333336, 44.25, 32.666666666666664, 30.916666666666668, 33.416666666666664, 36.4, 32.0, 32.214285714285715, 28.75, 33.0, 26.0, 24.916666666666668, 37.5, 35.0, 37.916666666666664, 36.333333333333336, 34.166666666666664, 32.0, 35.833333333333336, 39.0, 35.916666666666664, 38.75, 34.0, 31.0, 34.6, 29.0, 28.857142857142858, 34.0, 34.333333333333336, 33.25, 31.0, 36.083333333333336, 35.0, 34.0, 31.0, 34.0, 29.416666666666668, 36.0, 38.333333333333336, 32.2, 25.428571428571427, 41.8, 50.583333333333336, 32.666666666666664, 32.166666666666664, 28.0, 36.0, 24.0, 33.0, 32.0, 24.333333333333332, 38.0, 42.0, 41.333333333333336, 35.0, 37.0, 47.75, 37.2, 32.611111111111114, 28.916666666666668, 33.0, 35.0, 44.0, 36.833333333333336, 27.666666666666668, 39.0, 22.583333333333332, 37.666666666666664, 37.30769230769231, 33.583333333333336, 29.714285714285715, 38.0, 37.666666666666664, 32.0, 52.583333333333336, 36.266666666666666, 27.647058823529413, 27.571428571428573, 34.333333333333336, 35.8235294117647, 23.0, 33.5, 28.0, 38.0, 34.0, 38.73684210526316, 26.0, 38.77777777777778, 32.833333333333336, 35.0, 28.166666666666668, 27.0, 32.0, 36.166666666666664, 30.666666666666668, 33.166666666666664, 29.0, 41.0, 32.611111111111114, 30.0, 36.166666666666664, 32.0, 32.0, 34.0, 29.833333333333332, 32.0, 34.0, 36.083333333333336, 26.8, 32.833333333333336, 25.0, 37.0, 37.0, 37.916666666666664, 44.714285714285715, 36.0, 26.333333333333332, 30.75, 27.454545454545453, 44.833333333333336, 43.833333333333336, 29.0, 29.5, 38.0, 48.666666666666664, 26.833333333333332, 27.25, 32.0, 35.5, 36.0, 31.0, 32.833333333333336, 31.0, 37.0, 36.6875, 35.166666666666664, 30.0, 41.63157894736842, 34.0, 29.5, 23.615384615384617, 30.0, 41.083333333333336, 25.0, 33.0, 34.53333333333333, 29.833333333333332, 42.0, 43.416666666666664, 29.0, 33.0, 35.0, 36.416666666666664, 40.0, 40.0, 36.0, 30.923076923076923, 22.75, 34.0, 48.583333333333336, 46.833333333333336, 31.0, 33.0, 33.0, 39.416666666666664, 29.857142857142858, 42.416666666666664, 34.0, 32.588235294117645, 33.5, 35.2, 33.0, 34.916666666666664, 28.5, 43.0, 34.25, 25.0, 43.0, 27.0, 26.833333333333332, 29.5, 39.0, 25.0, 41.916666666666664, 27.0, 39.0, 30.166666666666668, 34.111111111111114, 40.083333333333336, 38.2, 32.0, 37.416666666666664, 37.0, 36.333333333333336, 39.5, 43.75, 41.0, 27.375, 26.0, 25.0, 30.333333333333332, 39.42857142857143, 29.0, 35.583333333333336, 35.0, 32.0, 39.833333333333336, 34.0, 33.0, 38.0, 34.0, 30.0, 38.0, 30.333333333333332, 31.583333333333332, 54.5, 26.0, 34.333333333333336, 33.083333333333336, 32.75, 28.8, 33.0, 37.166666666666664, 43.75, 33.0, 30.0, 26.181818181818183, 43.0, 32.0, 30.083333333333332, 30.5, 27.0, 30.25, 25.25, 29.0, 36.0, 36.916666666666664, 27.53846153846154, 28.2, 36.0, 38.583333333333336, 25.0, 29.0, 35.6875, 35.25, 39.0, 33.857142857142854, 36.083333333333336, 27.5, 33.916666666666664, 27.916666666666668, 30.545454545454547, 24.666666666666668, 35.0, 40.5, 32.0, 29.0, 36.0, 36.0, 34.785714285714285, 36.0, 32.25, 34.0, 30.0, 31.416666666666668, 39.5, 35.0, 28.428571428571427, 50.75, 32.0, 32.6, 32.0, 34.5, 35.6, 40.25, 30.4, 37.333333333333336, 39.666666666666664, 38.75, 43.0, 34.25, 26.0, 32.0, 31.058823529411764, 30.0, 36.63157894736842, 41.666666666666664, 28.0, 33.0, 31.0, 41.4, 43.416666666666664, 29.0, 35.61538461538461, 35.5, 46.916666666666664, 26.7, 34.5, 30.0, 31.0, 23.857142857142858, 37.857142857142854, 36.0, 41.333333333333336, 47.916666666666664, 54.25, 34.25, 37.0, 46.0, 35.785714285714285, 38.083333333333336, 23.0, 38.75, 42.25, 35.38461538461539, 40.5, 32.0, 25.0, 45.04347826086956, 32.666666666666664, 29.0, 27.0, 35.916666666666664, 46.25, 32.0, 27.0, 40.583333333333336, 25.0, 46.083333333333336, 32.25, 29.0, 33.23076923076923, 31.0, 23.0, 29.46153846153846, 25.0, 33.42857142857143, 25.0, 36.44444444444444, 24.0, 33.625, 24.0, 42.416666666666664, 30.0, 46.916666666666664, 40.357142857142854, 26.22222222222222, 45.416666666666664, 35.666666666666664, 37.421052631578945, 27.916666666666668, 36.333333333333336, 34.0, 25.8, 34.5, 30.083333333333332, 47.416666666666664, 35.2, 32.0, 33.666666666666664, 36.0, 28.0, 35.0, 29.857142857142858, 37.0, 39.0, 39.5, 29.5, 31.0, 39.26315789473684, 28.785714285714285, 36.22222222222222, 35.833333333333336, 45.916666666666664, 23.09090909090909, 38.166666666666664, 30.0, 32.0, 41.083333333333336, 23.0, 40.0, 32.25, 26.0, 34.916666666666664, 31.875, 36.0, 37.0, 30.916666666666668, 27.583333333333332, 34.75, 35.0, 40.25, 33.666666666666664, 41.916666666666664, 28.25, 24.0, 48.333333333333336, 31.166666666666668, 26.11111111111111, 34.0, 28.916666666666668, 35.0, 32.916666666666664, 34.0, 35.75, 39.0, 30.0, 38.083333333333336, 38.0, 34.0, 30.0, 31.307692307692307, 35.0, 29.363636363636363, 31.333333333333332, 32.0, 30.2, 30.0, 27.666666666666668, 37.0, 34.166666666666664, 32.0, 36.4, 37.0, 35.916666666666664, 26.0, 25.25, 39.0, 36.0, 25.357142857142858, 39.583333333333336, 29.285714285714285, 34.0, 33.583333333333336, 31.25, 26.8, 33.94117647058823, 31.61111111111111, 45.916666666666664, 28.4, 38.666666666666664, 29.157894736842106, 28.5, 37.77777777777778, 30.0, 32.0, 39.583333333333336, 27.0, 35.0, 25.0, 33.5, 29.857142857142858, 28.0, 43.0, 29.0, 34.0, 35.0, 29.608695652173914, 30.0, 42.142857142857146, 27.0, 26.0, 33.285714285714285, 40.375, 30.9, 30.0, 31.0, 28.0, 32.0, 40.214285714285715, 33.0, 22.0, 32.0, 44.0, 27.0, 28.0, 36.0, 21.076923076923077, 49.0, 33.2, 30.0, 37.05263157894737, 41.0, 35.0, 32.0, 33.0, 29.0, 31.09090909090909, 35.0, 43.0, 34.5, 25.0, 32.0, 38.3, 37.0, 34.0, 41.666666666666664, 35.0, 45.0, 27.2, 32.2, 31.0, 30.0, 28.5, 34.8, 24.529411764705884, 29.666666666666668, 33.0, 22.0, 26.0, 38.0, 33.625, 34.166666666666664, 37.5, 32.0, 51.22222222222222, 42.0, 21.666666666666668, 42.0, 31.8, 26.857142857142858, 33.0, 43.77777777777778, 32.57142857142857, 33.0, 37.625, 38.0, 27.0, 44.0, 37.0, 48.0, 31.5, 35.0, 24.0, 39.333333333333336, 26.25, 35.0, 36.0, 34.0, 30.0, 31.0, 37.09090909090909, 30.0, 27.0, 41.0, 26.0, 43.714285714285715, 37.25, 35.5, 29.0, 36.55555555555556, 25.0, 26.0, 33.166666666666664, 35.0, 43.714285714285715, 41.0, 39.0, 30.8, 33.25, 30.166666666666668, 23.0, 26.0, 34.0, 32.0, 26.0, 33.75, 29.0, 34.0, 35.36363636363637, 46.785714285714285, 30.0, 27.0, 43.42857142857143, 40.77777777777778, 46.0, 38.0, 33.705882352941174, 31.0, 32.0, 31.0, 34.0, 25.818181818181817, 29.615384615384617, 31.166666666666668, 35.09090909090909, 37.9, 31.0, 26.0, 25.0, 36.0, 44.75, 44.705882352941174, 43.0, 33.30769230769231, 32.0, 34.0, 39.0, 32.0, 24.0, 28.0, 39.8, 38.0, 42.0, 39.0, 21.0, 30.0, 29.0, 41.5625, 28.0, 42.666666666666664, 35.6, 30.2, 36.0, 34.0, 28.77777777777778, 33.0, 29.0, 34.0, 30.0, 30.0, 25.0, 27.0, 33.0, 28.0, 29.0, 38.125, 36.0, 42.0, 24.0, 37.63636363636363, 34.0, 31.0, 29.0, 47.0, 34.2, 33.0, 30.0, 26.666666666666668, 41.0, 26.0, 24.0, 38.0, 35.0, 39.0, 29.0, 44.0, 29.0, 46.3, 45.0, 31.833333333333332, 35.666666666666664, 44.23076923076923, 23.8, 28.0, 30.2, 36.0, 33.0, 33.0, 43.333333333333336, 30.304347826086957, 31.0, 34.0, 39.0, 33.0, 30.0, 27.0, 24.0, 32.0, 33.0, 29.375, 30.6, 25.88888888888889, 45.0, 29.0, 30.0, 32.0, 34.333333333333336, 27.625, 30.75, 38.0, 35.55555555555556, 34.0, 42.25, 39.0, 28.0, 32.4, 35.0, 30.833333333333332, 26.0, 40.3, 36.0, 39.2, 34.0, 37.0, 31.75, 35.36363636363637, 36.2, 29.0, 28.0, 43.0, 27.0, 32.0, 31.0, 32.0, 41.0, 45.7, 30.0, 34.5, 29.0, 31.428571428571427, 39.0, 33.3, 34.18181818181818, 23.0, 32.0, 31.0, 31.0, 38.0, 25.0, 32.0, 43.0, 27.3, 39.0, 31.0, 23.5, 29.153846153846153, 43.857142857142854, 29.0, 39.083333333333336, 39.0, 44.1764705882353, 31.384615384615383, 25.25, 36.0, 23.666666666666668, 29.714285714285715, 39.4, 23.0, 44.333333333333336, 32.888888888888886, 24.25, 39.8, 43.0, 35.0, 26.0, 51.0, 45.0, 36.0, 27.53846153846154, 36.0, 39.0, 33.0, 34.642857142857146, 33.285714285714285, 32.0, 37.0, 35.6, 38.47826086956522, 27.333333333333332, 36.0, 26.6, 43.6, 42.523809523809526, 29.0, 24.0, 43.0, 32.0, 36.0, 38.142857142857146, 29.0, 34.90909090909091, 38.0, 35.7, 29.833333333333332, 26.666666666666668, 39.333333333333336, 30.166666666666668, 29.0, 35.0, 30.0, 28.666666666666668, 41.0, 28.0, 38.44444444444444, 29.0, 38.0, 28.571428571428573, 33.0, 28.0, 30.0, 33.45454545454545, 27.0, 23.77777777777778, 33.0, 30.0, 32.0, 30.0, 22.181818181818183, 33.785714285714285, 41.0, 29.0, 23.0, 31.2, 35.0, 36.0, 43.0, 34.375, 36.0, 29.0, 31.0, 44.0, 26.625, 28.0, 33.5, 32.25, 34.0, 33.142857142857146, 44.0, 22.0, 35.0, 32.0, 24.0, 27.0, 31.0, 29.0, 32.5, 30.0, 33.5, 48.0, 36.111111111111114, 41.0, 23.0, 28.0, 32.0, 45.55555555555556, 28.0, 45.0, 30.0, 32.0, 31.75, 26.4, 26.25, 29.0, 42.63636363636363, 37.166666666666664, 28.363636363636363, 40.0, 35.0, 31.0, 38.2, 31.0, 34.166666666666664, 37.0, 31.5, 29.0, 29.77777777777778, 38.25, 33.0, 35.0, 38.0, 26.2, 26.0, 30.0, 33.5, 26.875, 30.0, 32.0, 29.0, 34.77777777777778, 33.166666666666664, 41.6, 23.0, 37.0, 39.0, 23.444444444444443, 36.0, 29.6, 37.0, 29.125, 30.571428571428573, 35.0, 40.44444444444444, 48.57142857142857, 41.0, 34.0, 30.294117647058822, 31.333333333333332, 33.0, 32.0, 33.0, 37.0, 33.4, 35.714285714285715, 27.0, 29.636363636363637, 24.0, 32.0, 32.4, 29.4, 31.0, 32.5, 31.428571428571427, 38.529411764705884, 28.75, 31.0, 27.428571428571427, 32.25, 37.6, 26.666666666666668, 31.166666666666668, 41.0, 41.0, 47.0, 33.0, 36.142857142857146, 28.736842105263158, 30.8, 46.0, 29.428571428571427, 33.0, 35.55555555555556, 34.0, 23.0, 33.0, 35.0, 36.15384615384615, 37.0, 23.0, 38.0, 31.166666666666668, 36.0, 46.666666666666664, 24.0, 36.714285714285715, 37.0, 32.0, 32.388888888888886, 37.0, 22.0, 32.0, 38.0, 32.0, 30.047619047619047, 32.0, 36.0, 24.846153846153847, 33.1, 34.333333333333336, 36.333333333333336, 30.285714285714285, 32.0, 51.0, 29.0, 31.555555555555557, 31.0, 35.25, 45.90909090909091, 48.666666666666664, 35.2, 38.0, 26.0, 46.0, 25.0, 24.571428571428573, 25.0, 28.0, 34.0, 34.0, 31.0, 24.454545454545453, 28.166666666666668, 32.5, 31.0, 37.0, 28.88888888888889, 38.875, 32.0, 34.0, 44.357142857142854, 23.0, 35.5, 29.0, 36.0, 29.833333333333332, 35.0, 25.0, 40.44444444444444, 25.5, 33.0, 35.0, 42.0, 37.0, 30.833333333333332, 42.0, 45.0, 26.0, 38.0, 26.0, 52.0, 23.0, 38.0, 30.153846153846153, 32.0, 28.0, 35.666666666666664, 28.5625, 27.333333333333332, 32.0, 31.0, 37.0, 27.714285714285715, 32.0, 27.6, 37.77777777777778, 29.0, 28.0, 31.0, 30.0, 30.428571428571427, 23.0, 40.77777777777778, 33.54545454545455, 30.25, 39.0, 47.0, 41.0, 38.0, 37.5, 27.0, 27.0, 25.0, 26.0, 28.0, 27.333333333333332, 37.26315789473684, 39.0, 31.0, 32.0, 38.0, 33.90909090909091, 37.0, 27.666666666666668, 33.0, 36.5, 28.0, 32.0, 26.6, 29.0, 36.07692307692308, 33.54545454545455, 46.0, 40.5, 36.0, 26.636363636363637, 39.5, 29.0, 40.0, 35.57142857142857, 24.0, 34.666666666666664, 26.0, 29.5, 35.0, 34.5, 37.0, 30.3, 30.047619047619047, 40.857142857142854, 23.75, 26.0, 40.0, 32.75, 31.0, 26.0, 32.0, 42.0, 32.0, 26.0, 38.0, 35.666666666666664, 34.0, 30.0, 42.07692307692308, 38.0, 32.5, 26.75, 24.0, 32.0, 33.125, 35.0, 33.0, 31.0, 25.0, 37.0, 32.0, 34.0, 34.666666666666664, 33.0, 33.333333333333336, 33.0, 24.666666666666668, 31.0, 32.5, 28.0, 24.0, 33.04347826086956, 35.0, 28.272727272727273, 28.0, 41.36363636363637, 33.0, 38.0, 34.666666666666664, 27.0, 30.0, 30.0, 26.0, 24.0, 29.0, 25.4, 22.0, 30.0, 27.25, 36.63157894736842, 27.647058823529413, 30.0, 27.0, 26.7, 26.0, 30.0, 38.0, 27.333333333333332, 22.0, 37.0, 28.0, 32.0, 32.0, 34.7, 29.5, 31.857142857142858, 33.75, 41.2, 23.88888888888889, 43.0, 35.57142857142857, 31.666666666666668, 30.4, 31.916666666666668, 35.0, 39.46153846153846, 37.142857142857146, 23.6, 41.0, 29.0, 31.0, 28.8, 31.0, 27.0, 36.25, 32.0, 30.0, 32.0, 31.0, 24.0, 41.0, 29.0, 30.77777777777778, 26.0, 33.666666666666664, 36.2, 31.0, 25.5, 37.75, 35.666666666666664, 35.0, 32.666666666666664, 33.0, 26.5, 25.0, 35.0, 35.0, 36.0, 33.166666666666664, 21.0, 28.0, 33.666666666666664, 29.0, 39.3, 36.0, 34.0, 43.285714285714285, 27.666666666666668, 31.0, 45.54545454545455, 39.0, 34.0, 28.0, 50.0, 33.0, 32.0, 32.0, 35.142857142857146, 31.0, 36.0, 32.84615384615385, 39.0, 33.0, 44.0, 33.666666666666664, 30.454545454545453, 38.5, 31.0, 32.0, 39.4, 29.0, 44.470588235294116, 42.2, 29.625, 38.75, 28.571428571428573, 26.0, 33.5, 47.2, 23.0, 27.333333333333332, 28.0, 28.0, 33.44444444444444, 31.0, 27.0, 35.0, 32.0, 50.666666666666664, 40.0, 36.0, 46.0, 31.0, 36.72727272727273, 32.0, 39.0, 33.0, 36.0, 32.888888888888886, 26.444444444444443, 33.0, 24.2, 39.25, 26.2, 29.0, 38.0, 31.0, 26.4, 30.294117647058822, 31.0, 26.0, 32.833333333333336, 31.0, 37.0, 25.0, 25.0, 31.0, 28.0, 27.0, 36.0, 29.0, 30.0, 25.0, 30.166666666666668, 30.5, 30.0, 32.0, 35.0, 27.333333333333332, 34.0, 44.857142857142854, 41.07692307692308, 47.083333333333336, 34.0, 41.5, 27.333333333333332, 29.41176470588235, 35.2, 40.5, 41.0, 27.0, 33.0, 29.2, 36.8, 29.0, 35.5, 38.0, 23.75, 25.0, 29.11111111111111, 38.125, 25.8, 42.0, 26.25, 32.0, 28.0, 31.0, 35.0, 31.0, 39.0, 32.2, 33.92857142857143, 31.375, 24.166666666666668, 34.666666666666664, 41.333333333333336, 31.5, 30.0, 28.0, 35.0, 28.0, 42.0, 26.333333333333332, 31.0, 32.0, 29.166666666666668, 27.0, 31.923076923076923, 40.0, 39.0, 44.0, 37.0, 33.0, 27.2, 44.1, 28.333333333333332, 30.75, 32.0, 30.833333333333332, 38.0, 36.1, 25.0, 35.375, 31.0, 36.0, 24.05263157894737, 33.0, 23.0, 30.0, 27.0, 34.0, 28.625, 31.5, 41.142857142857146, 27.0, 39.0, 27.0, 47.35294117647059, 46.0, 38.666666666666664, 31.0, 28.0, 27.0, 28.625, 38.0, 36.5, 31.0, 38.0, 28.0, 26.0, 22.0, 38.0, 31.0, 33.583333333333336, 32.75, 42.0, 44.0, 34.0, 27.0, 30.0, 31.0, 37.0, 35.0, 23.0, 29.0, 31.25, 31.875, 46.142857142857146, 27.307692307692307, 36.0, 24.833333333333332, 33.0, 25.75, 42.294117647058826, 32.0, 25.0, 42.5, 51.5, 34.375, 42.0, 21.75, 29.0, 36.75, 51.72727272727273, 34.0, 40.875, 33.0, 31.25, 29.0, 23.833333333333332, 39.5, 33.55555555555556, 34.0, 33.0, 28.0, 36.0, 34.27272727272727, 34.0, 33.6, 34.0, 26.833333333333332, 30.166666666666668, 32.0, 38.5, 27.0, 29.333333333333332, 33.75, 29.0, 32.0, 24.0, 34.8421052631579, 45.57142857142857, 32.75, 36.333333333333336, 41.1, 29.0, 34.0, 40.0, 38.27272727272727, 42.0, 29.0, 39.0, 25.0, 30.2, 32.0, 29.0, 27.933333333333334, 30.0, 32.0, 37.470588235294116, 23.0, 50.1764705882353, 32.0, 30.0, 25.0, 29.0, 41.09090909090909, 34.666666666666664, 31.0, 30.625, 39.0, 22.0, 32.625, 34.0, 27.0, 35.0, 28.727272727272727, 27.5, 38.8, 30.0, 31.0, 24.0, 32.0, 31.0, 39.0, 29.0, 37.333333333333336, 25.0, 31.833333333333332, 33.857142857142854, 51.583333333333336, 37.75, 36.0, 43.25, 26.0, 27.0, 30.0, 23.0, 37.0, 43.666666666666664, 22.0, 51.0, 31.076923076923077, 32.0, 40.57142857142857, 39.0, 28.0, 28.0, 28.0, 35.0, 41.666666666666664, 30.0, 38.6, 33.0, 28.0, 31.9, 34.0, 41.0, 26.666666666666668, 43.333333333333336, 30.0, 49.111111111111114, 34.55555555555556, 39.0, 44.0, 29.0, 41.0, 33.0, 25.333333333333332, 43.0, 35.5, 37.2, 39.55555555555556, 29.333333333333332, 45.36363636363637, 33.0, 34.0, 29.1, 33.0, 30.0, 32.0, 33.0, 26.0, 41.0, 32.1, 37.0, 30.0, 29.125, 28.0, 35.0, 27.0, 28.666666666666668, 34.0, 27.0, 31.0, 40.09090909090909, 24.714285714285715, 34.0, 37.0, 30.7, 33.0, 27.0, 30.0, 42.0, 28.333333333333332, 37.0, 27.2, 32.0, 26.0, 31.166666666666668, 26.7, 36.0, 27.5, 27.8, 36.0, 45.333333333333336, 32.0, 27.0, 30.46153846153846, 26.0, 30.0, 27.625, 30.375, 35.357142857142854, 29.25, 32.0, 41.0, 23.4, 36.0, 35.666666666666664, 31.0, 41.0, 33.0, 49.0, 35.0, 24.90909090909091, 39.0, 22.0, 30.0, 35.0, 31.5, 37.0, 34.0, 36.285714285714285, 34.375, 35.666666666666664, 24.636363636363637, 27.0, 34.44444444444444, 26.0, 25.0, 27.0, 28.0, 32.0, 36.375, 33.0, 23.8, 44.0, 39.285714285714285, 33.0, 24.4, 30.125, 38.0, 33.0, 28.571428571428573, 31.0, 26.0, 28.166666666666668, 26.36842105263158, 42.857142857142854, 28.0, 31.0, 23.0, 25.0, 34.0, 34.0, 25.0, 35.588235294117645, 39.583333333333336, 30.5, 27.0, 29.166666666666668, 32.0, 37.0, 40.94117647058823, 26.77777777777778, 33.0, 27.0, 36.0, 36.666666666666664, 27.0, 37.0, 42.0, 34.0, 21.0, 25.0, 36.833333333333336, 26.0, 30.0, 45.0, 39.833333333333336, 33.666666666666664, 31.0, 28.0, 33.333333333333336, 43.857142857142854, 41.45454545454545, 29.6, 44.0, 37.0, 32.666666666666664, 32.0, 32.0, 32.0, 30.0, 52.0, 37.0, 26.076923076923077, 30.375, 26.0, 34.0, 46.0, 22.714285714285715, 40.875, 34.6, 33.5, 37.0, 34.0, 34.0, 29.4, 28.0, 29.0, 28.0, 44.57142857142857, 26.0, 36.0, 32.0, 27.0, 31.466666666666665, 28.0, 40.2, 36.0, 33.4, 36.0, 35.0, 38.833333333333336, 37.470588235294116, 32.0, 22.5, 37.0, 38.07692307692308, 39.416666666666664, 30.0, 35.0, 27.0, 43.0, 40.333333333333336, 41.0, 29.454545454545453, 39.0, 35.0, 23.526315789473685, 40.0, 29.22222222222222, 30.8, 28.0, 38.42857142857143, 35.36842105263158, 32.0, 48.111111111111114, 32.0, 31.0, 28.555555555555557, 24.714285714285715, 34.0, 37.0, 34.0, 58.0, 33.0, 27.0, 30.8, 23.0, 32.75, 38.0, 32.2, 36.30434782608695, 31.0, 30.4, 26.0, 33.833333333333336, 25.666666666666668, 30.0, 49.0, 29.0, 33.0, 35.0, 33.0, 28.0, 29.6, 41.0, 38.0, 25.4, 36.8, 39.25, 30.22222222222222, 24.142857142857142, 33.55555555555556, 28.0, 30.833333333333332, 32.666666666666664, 34.0, 38.0, 32.0, 34.0, 34.0, 31.0, 31.0, 30.5, 38.25, 34.0, 33.785714285714285, 31.0, 30.0, 30.0, 24.0, 41.0, 24.4, 34.0, 36.0, 35.0, 28.0, 30.384615384615383, 36.0, 31.0, 32.0, 34.0, 38.0, 29.0, 33.0, 25.0, 34.0, 32.7, 34.6, 32.714285714285715, 28.0, 24.0, 41.0, 31.75, 43.2, 30.0, 34.0, 33.0, 32.888888888888886, 36.0, 38.0, 31.0, 31.46153846153846, 32.0, 40.0, 39.25, 34.0, 42.57142857142857, 32.0, 38.0, 31.0, 49.0, 27.0, 30.333333333333332, 30.0, 41.73684210526316, 35.0, 33.0, 41.0, 33.666666666666664, 28.0, 26.75, 36.0, 39.42857142857143, 31.5, 27.4, 28.444444444444443, 31.4, 30.0, 42.09090909090909, 33.857142857142854, 35.0, 28.166666666666668, 35.0, 25.125, 36.0, 32.857142857142854, 41.38461538461539, 27.0, 37.5, 35.0, 43.47826086956522, 31.0, 39.0, 32.357142857142854, 25.0, 38.0, 30.0, 33.0, 27.0, 27.0, 37.0, 52.18181818181818, 30.0, 28.666666666666668, 33.0, 31.0, 33.0, 36.15384615384615, 25.555555555555557, 36.07692307692308, 23.0, 32.714285714285715, 29.0, 23.76923076923077, 24.5, 42.0, 38.0, 32.0, 26.0, 30.0, 34.0, 28.2, 33.0, 30.88888888888889, 27.0, 33.4, 34.0, 35.0, 33.142857142857146, 25.857142857142858, 45.333333333333336, 36.0, 35.42857142857143, 40.1764705882353, 35.18181818181818, 27.181818181818183, 36.0, 25.0, 25.0, 35.666666666666664, 50.285714285714285, 31.875, 27.0, 31.0, 30.6, 35.0, 32.0, 33.0, 26.0, 37.0, 38.0, 41.0, 27.333333333333332, 31.0, 45.714285714285715, 37.666666666666664, 30.333333333333332, 23.0, 25.0, 45.0, 40.142857142857146, 28.2, 38.333333333333336, 32.0, 39.0, 29.125, 34.0, 31.25, 43.666666666666664, 31.0, 33.0, 38.0, 38.0, 25.0, 36.5, 46.0, 30.0, 31.25, 38.15384615384615, 23.0, 45.1578947368421, 38.0, 22.333333333333332, 25.0, 28.0, 25.0, 46.0, 42.0, 44.69565217391305, 26.0, 31.0, 31.0, 33.666666666666664, 28.0, 35.75, 34.5, 35.888888888888886, 32.8, 36.0, 26.0, 41.77777777777778, 36.75, 24.714285714285715, 36.8, 39.0, 41.0, 24.0, 40.0, 32.0, 23.0, 41.0, 29.5, 31.0, 27.545454545454547, 27.714285714285715, 35.0, 41.25, 32.63636363636363, 27.0, 27.5, 25.0, 38.1, 26.0, 25.0, 41.0, 36.0, 29.833333333333332, 28.0, 44.0, 36.0, 45.8421052631579, 39.76923076923077, 48.0, 33.266666666666666, 32.0, 35.0, 34.0, 34.0, 33.214285714285715, 31.0, 36.0, 28.0, 40.2, 35.0, 28.142857142857142, 29.0, 34.0, 25.0, 28.0, 42.416666666666664, 48.0, 24.3, 31.0, 29.571428571428573, 24.53846153846154, 38.0, 35.0, 36.285714285714285, 29.0, 26.0, 33.0, 25.0, 34.0, 38.0, 33.0, 36.61538461538461, 25.0, 31.0, 38.0, 38.0, 30.333333333333332, 32.0, 31.6, 35.0, 29.416666666666668, 43.0, 38.333333333333336, 42.166666666666664, 37.714285714285715, 25.0, 43.1, 32.0, 29.0, 38.0, 31.142857142857142, 27.0, 27.0, 23.923076923076923, 34.0, 28.444444444444443, 41.285714285714285, 33.0, 32.0, 38.0, 27.0, 31.11111111111111, 36.0, 37.0, 32.2, 29.0, 31.0, 40.0, 26.0, 35.666666666666664, 30.0, 22.2, 36.0, 40.142857142857146, 27.0, 28.0, 26.0, 34.0, 44.888888888888886, 28.0], \"y0\": \" \", \"yaxis\": \"y\"}],\n",
              "                        {\"boxmode\": \"group\", \"legend\": {\"tracegroupgap\": 0}, \"margin\": {\"t\": 60}, \"template\": {\"data\": {\"bar\": [{\"error_x\": {\"color\": \"#2a3f5f\"}, \"error_y\": {\"color\": \"#2a3f5f\"}, \"marker\": {\"line\": {\"color\": \"#E5ECF6\", \"width\": 0.5}}, \"type\": \"bar\"}], \"barpolar\": [{\"marker\": {\"line\": {\"color\": \"#E5ECF6\", \"width\": 0.5}}, \"type\": \"barpolar\"}], \"carpet\": [{\"aaxis\": {\"endlinecolor\": \"#2a3f5f\", \"gridcolor\": \"white\", \"linecolor\": \"white\", \"minorgridcolor\": \"white\", \"startlinecolor\": \"#2a3f5f\"}, \"baxis\": {\"endlinecolor\": \"#2a3f5f\", \"gridcolor\": \"white\", \"linecolor\": \"white\", \"minorgridcolor\": \"white\", \"startlinecolor\": \"#2a3f5f\"}, \"type\": \"carpet\"}], \"choropleth\": [{\"colorbar\": {\"outlinewidth\": 0, \"ticks\": \"\"}, \"type\": \"choropleth\"}], \"contour\": [{\"colorbar\": {\"outlinewidth\": 0, \"ticks\": \"\"}, \"colorscale\": [[0.0, \"#0d0887\"], [0.1111111111111111, \"#46039f\"], [0.2222222222222222, \"#7201a8\"], [0.3333333333333333, \"#9c179e\"], [0.4444444444444444, \"#bd3786\"], [0.5555555555555556, \"#d8576b\"], [0.6666666666666666, \"#ed7953\"], [0.7777777777777778, \"#fb9f3a\"], [0.8888888888888888, \"#fdca26\"], [1.0, \"#f0f921\"]], \"type\": \"contour\"}], \"contourcarpet\": [{\"colorbar\": {\"outlinewidth\": 0, \"ticks\": \"\"}, \"type\": \"contourcarpet\"}], \"heatmap\": [{\"colorbar\": {\"outlinewidth\": 0, \"ticks\": \"\"}, \"colorscale\": [[0.0, \"#0d0887\"], [0.1111111111111111, \"#46039f\"], [0.2222222222222222, \"#7201a8\"], [0.3333333333333333, \"#9c179e\"], [0.4444444444444444, \"#bd3786\"], [0.5555555555555556, \"#d8576b\"], [0.6666666666666666, \"#ed7953\"], [0.7777777777777778, \"#fb9f3a\"], [0.8888888888888888, \"#fdca26\"], [1.0, \"#f0f921\"]], \"type\": \"heatmap\"}], \"heatmapgl\": [{\"colorbar\": {\"outlinewidth\": 0, \"ticks\": \"\"}, \"colorscale\": [[0.0, \"#0d0887\"], [0.1111111111111111, \"#46039f\"], [0.2222222222222222, \"#7201a8\"], [0.3333333333333333, \"#9c179e\"], [0.4444444444444444, \"#bd3786\"], [0.5555555555555556, \"#d8576b\"], [0.6666666666666666, \"#ed7953\"], [0.7777777777777778, \"#fb9f3a\"], [0.8888888888888888, \"#fdca26\"], [1.0, \"#f0f921\"]], \"type\": \"heatmapgl\"}], \"histogram\": [{\"marker\": {\"colorbar\": {\"outlinewidth\": 0, \"ticks\": \"\"}}, \"type\": \"histogram\"}], \"histogram2d\": [{\"colorbar\": {\"outlinewidth\": 0, \"ticks\": \"\"}, \"colorscale\": [[0.0, \"#0d0887\"], [0.1111111111111111, \"#46039f\"], [0.2222222222222222, \"#7201a8\"], [0.3333333333333333, \"#9c179e\"], [0.4444444444444444, \"#bd3786\"], [0.5555555555555556, \"#d8576b\"], [0.6666666666666666, \"#ed7953\"], [0.7777777777777778, \"#fb9f3a\"], [0.8888888888888888, \"#fdca26\"], [1.0, \"#f0f921\"]], \"type\": \"histogram2d\"}], \"histogram2dcontour\": [{\"colorbar\": {\"outlinewidth\": 0, \"ticks\": \"\"}, \"colorscale\": [[0.0, \"#0d0887\"], [0.1111111111111111, \"#46039f\"], [0.2222222222222222, \"#7201a8\"], [0.3333333333333333, \"#9c179e\"], [0.4444444444444444, \"#bd3786\"], [0.5555555555555556, \"#d8576b\"], [0.6666666666666666, \"#ed7953\"], [0.7777777777777778, \"#fb9f3a\"], [0.8888888888888888, \"#fdca26\"], [1.0, \"#f0f921\"]], \"type\": \"histogram2dcontour\"}], \"mesh3d\": [{\"colorbar\": {\"outlinewidth\": 0, \"ticks\": \"\"}, \"type\": \"mesh3d\"}], \"parcoords\": [{\"line\": {\"colorbar\": {\"outlinewidth\": 0, \"ticks\": \"\"}}, \"type\": \"parcoords\"}], \"pie\": [{\"automargin\": true, \"type\": \"pie\"}], \"scatter\": [{\"marker\": {\"colorbar\": {\"outlinewidth\": 0, \"ticks\": \"\"}}, \"type\": \"scatter\"}], \"scatter3d\": [{\"line\": {\"colorbar\": {\"outlinewidth\": 0, \"ticks\": \"\"}}, \"marker\": {\"colorbar\": {\"outlinewidth\": 0, \"ticks\": \"\"}}, \"type\": \"scatter3d\"}], \"scattercarpet\": [{\"marker\": {\"colorbar\": {\"outlinewidth\": 0, \"ticks\": \"\"}}, \"type\": \"scattercarpet\"}], \"scattergeo\": [{\"marker\": {\"colorbar\": {\"outlinewidth\": 0, \"ticks\": \"\"}}, \"type\": \"scattergeo\"}], \"scattergl\": [{\"marker\": {\"colorbar\": {\"outlinewidth\": 0, \"ticks\": \"\"}}, \"type\": \"scattergl\"}], \"scattermapbox\": [{\"marker\": {\"colorbar\": {\"outlinewidth\": 0, \"ticks\": \"\"}}, \"type\": \"scattermapbox\"}], \"scatterpolar\": [{\"marker\": {\"colorbar\": {\"outlinewidth\": 0, \"ticks\": \"\"}}, \"type\": \"scatterpolar\"}], \"scatterpolargl\": [{\"marker\": {\"colorbar\": {\"outlinewidth\": 0, \"ticks\": \"\"}}, \"type\": \"scatterpolargl\"}], \"scatterternary\": [{\"marker\": {\"colorbar\": {\"outlinewidth\": 0, \"ticks\": \"\"}}, \"type\": \"scatterternary\"}], \"surface\": [{\"colorbar\": {\"outlinewidth\": 0, \"ticks\": \"\"}, \"colorscale\": [[0.0, \"#0d0887\"], [0.1111111111111111, \"#46039f\"], [0.2222222222222222, \"#7201a8\"], [0.3333333333333333, \"#9c179e\"], [0.4444444444444444, \"#bd3786\"], [0.5555555555555556, \"#d8576b\"], [0.6666666666666666, \"#ed7953\"], [0.7777777777777778, \"#fb9f3a\"], [0.8888888888888888, \"#fdca26\"], [1.0, \"#f0f921\"]], \"type\": \"surface\"}], \"table\": [{\"cells\": {\"fill\": {\"color\": \"#EBF0F8\"}, \"line\": {\"color\": \"white\"}}, \"header\": {\"fill\": {\"color\": \"#C8D4E3\"}, \"line\": {\"color\": \"white\"}}, \"type\": \"table\"}]}, \"layout\": {\"annotationdefaults\": {\"arrowcolor\": \"#2a3f5f\", \"arrowhead\": 0, \"arrowwidth\": 1}, \"coloraxis\": {\"colorbar\": {\"outlinewidth\": 0, \"ticks\": \"\"}}, \"colorscale\": {\"diverging\": [[0, \"#8e0152\"], [0.1, \"#c51b7d\"], [0.2, \"#de77ae\"], [0.3, \"#f1b6da\"], [0.4, \"#fde0ef\"], [0.5, \"#f7f7f7\"], [0.6, \"#e6f5d0\"], [0.7, \"#b8e186\"], [0.8, \"#7fbc41\"], [0.9, \"#4d9221\"], [1, \"#276419\"]], \"sequential\": [[0.0, \"#0d0887\"], [0.1111111111111111, \"#46039f\"], [0.2222222222222222, \"#7201a8\"], [0.3333333333333333, \"#9c179e\"], [0.4444444444444444, \"#bd3786\"], [0.5555555555555556, \"#d8576b\"], [0.6666666666666666, \"#ed7953\"], [0.7777777777777778, \"#fb9f3a\"], [0.8888888888888888, \"#fdca26\"], [1.0, \"#f0f921\"]], \"sequentialminus\": [[0.0, \"#0d0887\"], [0.1111111111111111, \"#46039f\"], [0.2222222222222222, \"#7201a8\"], [0.3333333333333333, \"#9c179e\"], [0.4444444444444444, \"#bd3786\"], [0.5555555555555556, \"#d8576b\"], [0.6666666666666666, \"#ed7953\"], [0.7777777777777778, \"#fb9f3a\"], [0.8888888888888888, \"#fdca26\"], [1.0, \"#f0f921\"]]}, \"colorway\": [\"#636efa\", \"#EF553B\", \"#00cc96\", \"#ab63fa\", \"#FFA15A\", \"#19d3f3\", \"#FF6692\", \"#B6E880\", \"#FF97FF\", \"#FECB52\"], \"font\": {\"color\": \"#2a3f5f\"}, \"geo\": {\"bgcolor\": \"white\", \"lakecolor\": \"white\", \"landcolor\": \"#E5ECF6\", \"showlakes\": true, \"showland\": true, \"subunitcolor\": \"white\"}, \"hoverlabel\": {\"align\": \"left\"}, \"hovermode\": \"closest\", \"mapbox\": {\"style\": \"light\"}, \"paper_bgcolor\": \"white\", \"plot_bgcolor\": \"#E5ECF6\", \"polar\": {\"angularaxis\": {\"gridcolor\": \"white\", \"linecolor\": \"white\", \"ticks\": \"\"}, \"bgcolor\": \"#E5ECF6\", \"radialaxis\": {\"gridcolor\": \"white\", \"linecolor\": \"white\", \"ticks\": \"\"}}, \"scene\": {\"xaxis\": {\"backgroundcolor\": \"#E5ECF6\", \"gridcolor\": \"white\", \"gridwidth\": 2, \"linecolor\": \"white\", \"showbackground\": true, \"ticks\": \"\", \"zerolinecolor\": \"white\"}, \"yaxis\": {\"backgroundcolor\": \"#E5ECF6\", \"gridcolor\": \"white\", \"gridwidth\": 2, \"linecolor\": \"white\", \"showbackground\": true, \"ticks\": \"\", \"zerolinecolor\": \"white\"}, \"zaxis\": {\"backgroundcolor\": \"#E5ECF6\", \"gridcolor\": \"white\", \"gridwidth\": 2, \"linecolor\": \"white\", \"showbackground\": true, \"ticks\": \"\", \"zerolinecolor\": \"white\"}}, \"shapedefaults\": {\"line\": {\"color\": \"#2a3f5f\"}}, \"ternary\": {\"aaxis\": {\"gridcolor\": \"white\", \"linecolor\": \"white\", \"ticks\": \"\"}, \"baxis\": {\"gridcolor\": \"white\", \"linecolor\": \"white\", \"ticks\": \"\"}, \"bgcolor\": \"#E5ECF6\", \"caxis\": {\"gridcolor\": \"white\", \"linecolor\": \"white\", \"ticks\": \"\"}}, \"title\": {\"x\": 0.05}, \"xaxis\": {\"automargin\": true, \"gridcolor\": \"white\", \"linecolor\": \"white\", \"ticks\": \"\", \"title\": {\"standoff\": 15}, \"zerolinecolor\": \"white\", \"zerolinewidth\": 2}, \"yaxis\": {\"automargin\": true, \"gridcolor\": \"white\", \"linecolor\": \"white\", \"ticks\": \"\", \"title\": {\"standoff\": 15}, \"zerolinecolor\": \"white\", \"zerolinewidth\": 2}}}, \"xaxis\": {\"anchor\": \"y\", \"domain\": [0.0, 1.0]}, \"yaxis\": {\"anchor\": \"x\", \"domain\": [0.0, 1.0], \"title\": {\"text\": \"Age\"}}},\n",
              "                        {\"responsive\": true}\n",
              "                    ).then(function(){\n",
              "                            \n",
              "var gd = document.getElementById('63296000-89f8-4a81-a704-515f9ca3f99a');\n",
              "var x = new MutationObserver(function (mutations, observer) {{\n",
              "        var display = window.getComputedStyle(gd).display;\n",
              "        if (!display || display === 'none') {{\n",
              "            console.log([gd, 'removed!']);\n",
              "            Plotly.purge(gd);\n",
              "            observer.disconnect();\n",
              "        }}\n",
              "}});\n",
              "\n",
              "// Listen for the removal of the full notebook cells\n",
              "var notebookContainer = gd.closest('#notebook-container');\n",
              "if (notebookContainer) {{\n",
              "    x.observe(notebookContainer, {childList: true});\n",
              "}}\n",
              "\n",
              "// Listen for the clearing of the current output cell\n",
              "var outputEl = gd.closest('.output');\n",
              "if (outputEl) {{\n",
              "    x.observe(outputEl, {childList: true});\n",
              "}}\n",
              "\n",
              "                        })\n",
              "                };\n",
              "                \n",
              "            </script>\n",
              "        </div>\n",
              "</body>\n",
              "</html>"
            ]
          },
          "metadata": {
            "tags": []
          }
        }
      ]
    },
    {
      "cell_type": "markdown",
      "metadata": {
        "id": "Wcvg8E_LJe3V"
      },
      "source": [
        "### Designation"
      ]
    },
    {
      "cell_type": "code",
      "metadata": {
        "colab": {
          "base_uri": "https://localhost:8080/",
          "height": 0
        },
        "id": "J0Iy1HNyJnwa",
        "outputId": "58334e21-d5c7-4747-a0e5-e25cb2ab6dd5"
      },
      "source": [
        "plot_graphs(train_pivot, 'Joining Designation')"
      ],
      "execution_count": 983,
      "outputs": [
        {
          "output_type": "display_data",
          "data": {
            "text/html": [
              "<html>\n",
              "<head><meta charset=\"utf-8\" /></head>\n",
              "<body>\n",
              "    <div>\n",
              "            <script src=\"https://cdnjs.cloudflare.com/ajax/libs/mathjax/2.7.5/MathJax.js?config=TeX-AMS-MML_SVG\"></script><script type=\"text/javascript\">if (window.MathJax) {MathJax.Hub.Config({SVG: {font: \"STIX-Web\"}});}</script>\n",
              "                <script type=\"text/javascript\">window.PlotlyConfig = {MathJaxConfig: 'local'};</script>\n",
              "        <script src=\"https://cdn.plot.ly/plotly-latest.min.js\"></script>    \n",
              "            <div id=\"0749a73c-f37d-4e99-8286-f360c6172953\" class=\"plotly-graph-div\" style=\"height:525px; width:100%;\"></div>\n",
              "            <script type=\"text/javascript\">\n",
              "                \n",
              "                    window.PLOTLYENV=window.PLOTLYENV || {};\n",
              "                    \n",
              "                if (document.getElementById(\"0749a73c-f37d-4e99-8286-f360c6172953\")) {\n",
              "                    Plotly.newPlot(\n",
              "                        '0749a73c-f37d-4e99-8286-f360c6172953',\n",
              "                        [{\"alignmentgroup\": \"True\", \"bingroup\": \"x\", \"hoverlabel\": {\"namelength\": 0}, \"hovertemplate\": \"left=False<br>Joining Designation=%{x}<br>count=%{y}\", \"legendgroup\": \"left=False\", \"marker\": {\"color\": \"rgb(102, 197, 204)\"}, \"name\": \"left=False\", \"offsetgroup\": \"left=False\", \"orientation\": \"v\", \"showlegend\": true, \"type\": \"histogram\", \"x\": [2.0, 3.0, 1.0, 3.0, 1.0, 1.0, 3.0, 2.0, 4.0, 3.0, 1.0, 3.0, 4.0, 1.0, 1.0, 1.0, 1.0, 1.0, 1.0, 2.0, 1.0, 2.0, 2.0, 1.0, 3.0, 3.0, 2.0, 1.0, 1.0, 3.0, 1.0, 1.0, 2.0, 2.0, 3.0, 3.0, 2.0, 1.0, 2.0, 1.0, 2.0, 1.0, 3.0, 2.0, 3.0, 3.0, 1.0, 1.0, 1.0, 1.0, 3.0, 2.0, 1.0, 3.0, 3.0, 2.0, 3.0, 3.0, 1.0, 1.0, 1.0, 1.0, 4.0, 2.0, 1.0, 2.0, 1.0, 3.0, 3.0, 2.0, 2.0, 2.0, 1.0, 1.0, 3.0, 2.0, 2.0, 3.0, 1.0, 1.0, 2.0, 3.0, 1.0, 3.0, 3.0, 2.0, 2.0, 2.0, 2.0, 4.0, 3.0, 2.0, 2.0, 2.0, 1.0, 1.0, 3.0, 2.0, 1.0, 3.0, 1.0, 3.0, 2.0, 1.0, 2.0, 2.0, 2.0, 1.0, 2.0, 1.0, 2.0, 2.0, 2.0, 2.0, 3.0, 2.0, 1.0, 3.0, 3.0, 1.0, 2.0, 3.0, 1.0, 3.0, 2.0, 1.0, 1.0, 4.0, 2.0, 3.0, 3.0, 3.0, 3.0, 3.0, 2.0, 3.0, 2.0, 3.0, 3.0, 2.0, 3.0, 1.0, 2.0, 1.0, 1.0, 3.0, 2.0, 1.0, 3.0, 2.0, 1.0, 3.0, 3.0, 1.0, 2.0, 3.0, 1.0, 3.0, 1.0, 1.0, 3.0, 1.0, 3.0, 1.0, 2.0, 1.0, 3.0, 1.0, 1.0, 1.0, 2.0, 2.0, 3.0, 3.0, 1.0, 2.0, 2.0, 3.0, 2.0, 1.0, 1.0, 1.0, 3.0, 3.0, 3.0, 2.0, 2.0, 2.0, 3.0, 2.0, 1.0, 3.0, 1.0, 2.0, 3.0, 1.0, 1.0, 2.0, 1.0, 2.0, 1.0, 2.0, 4.0, 3.0, 1.0, 3.0, 1.0, 3.0, 1.0, 2.0, 1.0, 1.0, 3.0, 1.0, 1.0, 3.0, 3.0, 1.0, 3.0, 3.0, 2.0, 2.0, 2.0, 1.0, 1.0, 1.0, 1.0, 3.0, 3.0, 2.0, 2.0, 2.0, 2.0, 3.0, 3.0, 3.0, 3.0, 2.0, 1.0, 2.0, 2.0, 1.0, 3.0, 3.0, 1.0, 3.0, 2.0, 1.0, 2.0, 3.0, 2.0, 1.0, 3.0, 2.0, 1.0, 3.0, 1.0, 2.0, 3.0, 3.0, 3.0, 1.0, 3.0, 1.0, 1.0, 2.0, 1.0, 1.0, 1.0, 2.0, 3.0, 3.0, 1.0, 1.0, 3.0, 3.0, 3.0, 1.0, 2.0, 1.0, 2.0, 1.0, 3.0, 3.0, 2.0, 1.0, 1.0, 2.0, 1.0, 1.0, 2.0, 2.0, 1.0, 1.0, 3.0, 2.0, 3.0, 1.0, 3.0, 1.0, 1.0, 3.0, 3.0, 2.0, 1.0, 2.0, 2.0, 1.0, 3.0, 1.0, 3.0, 3.0, 2.0, 2.0, 2.0, 1.0, 3.0, 1.0, 2.0, 2.0, 2.0, 3.0, 3.0, 1.0, 3.0, 1.0, 3.0, 1.0, 3.0, 1.0, 3.0, 1.0, 1.0, 2.0, 2.0, 1.0, 2.0, 2.0, 2.0, 1.0, 3.0, 2.0, 2.0, 3.0, 2.0, 1.0, 2.0, 2.0, 1.0, 2.0, 3.0, 3.0, 1.0, 2.0, 1.0, 1.0, 1.0, 2.0, 1.0, 1.0, 2.0, 5.0, 2.0, 1.0, 1.0, 2.0, 1.0, 3.0, 1.0, 3.0, 2.0, 2.0, 3.0, 3.0, 1.0, 1.0, 4.0, 2.0, 3.0, 2.0, 2.0, 2.0, 1.0, 1.0, 1.0, 2.0, 3.0, 3.0, 2.0, 2.0, 3.0, 3.0, 3.0, 1.0, 1.0, 1.0, 1.0, 3.0, 1.0, 3.0, 3.0, 3.0, 2.0, 3.0, 2.0, 2.0, 3.0, 3.0, 2.0, 1.0, 2.0, 2.0, 3.0, 2.0, 3.0, 1.0, 3.0, 3.0, 3.0, 1.0, 1.0, 2.0, 1.0, 2.0, 1.0, 2.0, 2.0, 2.0, 1.0, 1.0, 2.0, 1.0, 1.0, 3.0, 4.0, 3.0, 1.0, 1.0, 2.0, 2.0, 2.0, 1.0, 3.0, 4.0, 2.0, 2.0, 1.0, 3.0, 2.0, 2.0, 2.0, 3.0, 1.0, 1.0, 1.0, 1.0, 2.0, 2.0, 1.0, 2.0, 2.0, 1.0, 1.0, 2.0, 1.0, 2.0, 3.0, 3.0, 1.0, 1.0, 2.0, 2.0, 1.0, 1.0, 3.0, 2.0, 3.0, 1.0, 3.0, 3.0, 1.0, 3.0, 2.0, 1.0, 1.0, 2.0, 2.0, 1.0, 2.0, 3.0, 3.0, 1.0, 1.0, 3.0, 2.0, 1.0, 3.0, 1.0, 3.0, 2.0, 2.0, 1.0, 1.0, 1.0, 1.0, 1.0, 1.0, 1.0, 3.0, 2.0, 2.0, 2.0, 1.0, 2.0, 1.0, 2.0, 1.0, 1.0, 1.0, 2.0, 2.0, 2.0, 1.0, 3.0, 3.0, 1.0, 1.0, 3.0, 3.0, 1.0, 2.0, 1.0, 1.0, 3.0, 2.0, 2.0, 3.0, 1.0, 1.0, 2.0, 2.0, 2.0, 1.0, 2.0, 2.0, 3.0, 2.0, 3.0, 2.0, 2.0, 3.0, 1.0, 2.0, 2.0, 1.0, 3.0, 2.0, 1.0, 1.0, 3.0, 2.0, 2.0, 3.0, 1.0, 2.0, 5.0, 2.0, 2.0, 3.0, 1.0, 2.0, 3.0, 3.0, 2.0, 2.0, 1.0, 3.0, 2.0, 1.0, 4.0, 2.0, 1.0, 3.0, 2.0, 1.0, 3.0, 1.0, 2.0, 2.0, 3.0, 1.0, 3.0, 1.0, 1.0, 1.0, 3.0, 2.0, 3.0, 3.0, 2.0, 1.0, 3.0, 2.0, 3.0, 1.0, 2.0, 1.0, 2.0, 3.0, 3.0, 2.0, 1.0, 1.0, 2.0, 3.0, 1.0, 1.0, 1.0, 2.0, 2.0, 2.0, 3.0, 2.0, 1.0, 2.0, 3.0, 3.0, 3.0, 1.0, 1.0, 3.0, 1.0, 3.0, 1.0, 4.0, 1.0, 1.0, 2.0, 2.0, 1.0, 1.0, 2.0, 2.0, 3.0, 2.0, 2.0, 3.0, 3.0, 2.0, 1.0, 2.0, 2.0, 2.0, 2.0, 3.0, 1.0, 1.0, 3.0, 1.0, 1.0, 2.0, 1.0, 1.0, 1.0, 3.0, 1.0, 3.0, 1.0, 1.0, 2.0, 2.0, 1.0, 2.0, 1.0, 2.0, 3.0, 1.0, 1.0, 2.0, 3.0, 1.0, 1.0, 1.0, 3.0, 2.0, 1.0, 2.0, 2.0, 3.0, 2.0, 2.0, 1.0, 1.0, 3.0, 1.0, 1.0, 2.0, 1.0, 3.0, 2.0, 3.0, 2.0, 3.0, 2.0, 3.0, 3.0, 3.0, 1.0, 2.0, 2.0, 1.0, 3.0, 3.0, 1.0, 3.0, 1.0, 4.0, 3.0, 1.0, 2.0, 3.0, 2.0, 2.0, 2.0, 1.0, 4.0, 2.0, 1.0, 2.0, 1.0, 1.0, 3.0, 3.0, 2.0, 3.0, 2.0, 3.0, 2.0, 2.0, 2.0, 2.0], \"xaxis\": \"x\", \"yaxis\": \"y\"}, {\"alignmentgroup\": \"True\", \"bingroup\": \"x\", \"hoverlabel\": {\"namelength\": 0}, \"hovertemplate\": \"left=True<br>Joining Designation=%{x}<br>count=%{y}\", \"legendgroup\": \"left=True\", \"marker\": {\"color\": \"rgb(246, 207, 113)\"}, \"name\": \"left=True\", \"offsetgroup\": \"left=True\", \"orientation\": \"v\", \"showlegend\": true, \"type\": \"histogram\", \"x\": [1.0, 2.0, 1.0, 3.0, 1.0, 1.0, 2.0, 1.0, 1.0, 3.0, 1.0, 1.0, 1.0, 1.0, 3.0, 2.0, 3.0, 2.0, 2.0, 1.0, 2.0, 2.0, 1.0, 1.0, 1.0, 1.0, 3.0, 4.0, 1.0, 1.0, 2.0, 1.0, 1.0, 2.0, 2.0, 2.0, 1.0, 3.0, 2.0, 2.0, 4.0, 1.0, 3.0, 3.0, 1.0, 1.0, 2.0, 2.0, 2.0, 2.0, 2.0, 3.0, 3.0, 2.0, 2.0, 1.0, 1.0, 2.0, 1.0, 1.0, 3.0, 3.0, 1.0, 2.0, 1.0, 1.0, 3.0, 3.0, 3.0, 3.0, 1.0, 1.0, 3.0, 2.0, 2.0, 2.0, 1.0, 1.0, 1.0, 2.0, 2.0, 1.0, 1.0, 1.0, 3.0, 2.0, 3.0, 4.0, 1.0, 5.0, 1.0, 2.0, 1.0, 1.0, 1.0, 1.0, 3.0, 1.0, 1.0, 2.0, 1.0, 2.0, 3.0, 2.0, 2.0, 1.0, 1.0, 1.0, 1.0, 2.0, 1.0, 2.0, 1.0, 1.0, 2.0, 1.0, 2.0, 4.0, 1.0, 2.0, 1.0, 3.0, 2.0, 3.0, 3.0, 3.0, 1.0, 3.0, 1.0, 3.0, 1.0, 2.0, 1.0, 2.0, 2.0, 1.0, 3.0, 2.0, 2.0, 3.0, 1.0, 4.0, 2.0, 1.0, 1.0, 1.0, 2.0, 1.0, 1.0, 1.0, 2.0, 1.0, 2.0, 1.0, 3.0, 1.0, 3.0, 2.0, 1.0, 3.0, 1.0, 3.0, 1.0, 1.0, 4.0, 2.0, 2.0, 2.0, 1.0, 1.0, 2.0, 3.0, 1.0, 2.0, 3.0, 1.0, 1.0, 1.0, 2.0, 2.0, 3.0, 3.0, 1.0, 2.0, 1.0, 3.0, 1.0, 2.0, 1.0, 2.0, 1.0, 3.0, 1.0, 1.0, 1.0, 2.0, 2.0, 2.0, 3.0, 1.0, 3.0, 1.0, 3.0, 3.0, 2.0, 2.0, 2.0, 1.0, 1.0, 1.0, 3.0, 2.0, 1.0, 2.0, 1.0, 2.0, 1.0, 2.0, 1.0, 1.0, 2.0, 2.0, 1.0, 2.0, 1.0, 3.0, 2.0, 1.0, 2.0, 2.0, 1.0, 1.0, 2.0, 1.0, 2.0, 3.0, 1.0, 1.0, 1.0, 1.0, 2.0, 2.0, 2.0, 1.0, 1.0, 3.0, 1.0, 1.0, 1.0, 1.0, 3.0, 2.0, 2.0, 1.0, 2.0, 1.0, 2.0, 2.0, 2.0, 1.0, 3.0, 2.0, 2.0, 3.0, 1.0, 2.0, 3.0, 1.0, 1.0, 1.0, 2.0, 1.0, 2.0, 1.0, 1.0, 1.0, 1.0, 1.0, 1.0, 1.0, 1.0, 1.0, 2.0, 1.0, 2.0, 4.0, 2.0, 1.0, 2.0, 2.0, 1.0, 1.0, 1.0, 2.0, 1.0, 1.0, 3.0, 4.0, 2.0, 3.0, 3.0, 3.0, 2.0, 2.0, 1.0, 1.0, 1.0, 1.0, 2.0, 1.0, 2.0, 1.0, 2.0, 1.0, 3.0, 2.0, 1.0, 1.0, 2.0, 1.0, 1.0, 1.0, 2.0, 2.0, 2.0, 3.0, 3.0, 2.0, 1.0, 2.0, 1.0, 2.0, 3.0, 2.0, 2.0, 3.0, 1.0, 2.0, 2.0, 3.0, 1.0, 2.0, 1.0, 2.0, 2.0, 1.0, 1.0, 1.0, 1.0, 3.0, 1.0, 1.0, 2.0, 2.0, 2.0, 2.0, 3.0, 1.0, 3.0, 4.0, 3.0, 2.0, 1.0, 1.0, 3.0, 4.0, 2.0, 2.0, 2.0, 3.0, 1.0, 3.0, 2.0, 2.0, 3.0, 2.0, 1.0, 2.0, 2.0, 1.0, 1.0, 2.0, 1.0, 1.0, 1.0, 2.0, 2.0, 1.0, 3.0, 1.0, 3.0, 1.0, 2.0, 3.0, 1.0, 3.0, 3.0, 1.0, 3.0, 5.0, 3.0, 2.0, 2.0, 1.0, 1.0, 2.0, 2.0, 1.0, 4.0, 1.0, 2.0, 1.0, 3.0, 1.0, 2.0, 1.0, 3.0, 1.0, 2.0, 3.0, 2.0, 1.0, 1.0, 1.0, 2.0, 2.0, 2.0, 2.0, 2.0, 1.0, 3.0, 1.0, 3.0, 3.0, 2.0, 2.0, 2.0, 2.0, 1.0, 2.0, 2.0, 2.0, 1.0, 2.0, 1.0, 3.0, 3.0, 2.0, 1.0, 2.0, 2.0, 1.0, 1.0, 1.0, 1.0, 2.0, 3.0, 1.0, 1.0, 2.0, 1.0, 2.0, 2.0, 1.0, 1.0, 1.0, 2.0, 2.0, 3.0, 2.0, 1.0, 2.0, 2.0, 2.0, 1.0, 2.0, 1.0, 1.0, 1.0, 2.0, 1.0, 2.0, 1.0, 2.0, 1.0, 1.0, 3.0, 1.0, 2.0, 1.0, 2.0, 2.0, 1.0, 1.0, 1.0, 1.0, 2.0, 3.0, 1.0, 1.0, 1.0, 1.0, 2.0, 2.0, 1.0, 1.0, 2.0, 1.0, 3.0, 1.0, 1.0, 1.0, 1.0, 1.0, 2.0, 2.0, 1.0, 2.0, 2.0, 1.0, 3.0, 2.0, 1.0, 3.0, 1.0, 1.0, 3.0, 1.0, 1.0, 3.0, 2.0, 1.0, 3.0, 1.0, 1.0, 3.0, 1.0, 3.0, 2.0, 1.0, 1.0, 2.0, 1.0, 2.0, 1.0, 3.0, 3.0, 1.0, 1.0, 1.0, 1.0, 2.0, 1.0, 2.0, 1.0, 1.0, 2.0, 1.0, 1.0, 2.0, 1.0, 1.0, 2.0, 1.0, 1.0, 2.0, 1.0, 2.0, 1.0, 3.0, 1.0, 2.0, 3.0, 1.0, 2.0, 3.0, 1.0, 3.0, 1.0, 1.0, 2.0, 1.0, 1.0, 2.0, 3.0, 3.0, 2.0, 3.0, 2.0, 2.0, 1.0, 2.0, 2.0, 1.0, 2.0, 1.0, 2.0, 3.0, 3.0, 2.0, 1.0, 2.0, 1.0, 2.0, 1.0, 3.0, 1.0, 1.0, 2.0, 1.0, 1.0, 2.0, 2.0, 1.0, 1.0, 1.0, 2.0, 1.0, 2.0, 3.0, 1.0, 3.0, 1.0, 3.0, 1.0, 1.0, 1.0, 1.0, 1.0, 2.0, 3.0, 1.0, 2.0, 1.0, 1.0, 1.0, 1.0, 3.0, 2.0, 3.0, 3.0, 1.0, 3.0, 1.0, 2.0, 2.0, 4.0, 2.0, 1.0, 1.0, 1.0, 3.0, 1.0, 1.0, 1.0, 1.0, 1.0, 2.0, 1.0, 2.0, 3.0, 3.0, 1.0, 2.0, 3.0, 1.0, 1.0, 2.0, 2.0, 1.0, 2.0, 2.0, 1.0, 2.0, 1.0, 3.0, 1.0, 1.0, 1.0, 1.0, 2.0, 1.0, 3.0, 2.0, 1.0, 1.0, 1.0, 2.0, 2.0, 1.0, 1.0, 1.0, 3.0, 2.0, 2.0, 1.0, 1.0, 1.0, 1.0, 3.0, 2.0, 3.0, 2.0, 1.0, 2.0, 2.0, 1.0, 1.0, 2.0, 1.0, 2.0, 3.0, 1.0, 3.0, 3.0, 2.0, 1.0, 3.0, 1.0, 1.0, 1.0, 1.0, 2.0, 1.0, 2.0, 2.0, 1.0, 1.0, 1.0, 3.0, 3.0, 3.0, 1.0, 1.0, 2.0, 3.0, 1.0, 2.0, 2.0, 1.0, 1.0, 1.0, 1.0, 1.0, 2.0, 3.0, 2.0, 3.0, 2.0, 2.0, 2.0, 2.0, 2.0, 1.0, 2.0, 2.0, 2.0, 2.0, 2.0, 3.0, 2.0, 4.0, 1.0, 2.0, 2.0, 3.0, 1.0, 2.0, 1.0, 1.0, 2.0, 1.0, 1.0, 2.0, 2.0, 2.0, 1.0, 3.0, 1.0, 2.0, 2.0, 2.0, 1.0, 2.0, 1.0, 2.0, 3.0, 2.0, 2.0, 1.0, 2.0, 1.0, 1.0, 3.0, 1.0, 3.0, 1.0, 1.0, 1.0, 1.0, 3.0, 2.0, 2.0, 1.0, 1.0, 2.0, 2.0, 1.0, 2.0, 1.0, 2.0, 2.0, 2.0, 1.0, 2.0, 1.0, 1.0, 1.0, 2.0, 2.0, 3.0, 2.0, 2.0, 2.0, 1.0, 1.0, 3.0, 2.0, 1.0, 1.0, 1.0, 2.0, 3.0, 2.0, 2.0, 4.0, 3.0, 2.0, 1.0, 3.0, 1.0, 1.0, 1.0, 2.0, 2.0, 3.0, 1.0, 1.0, 2.0, 3.0, 2.0, 1.0, 2.0, 2.0, 2.0, 2.0, 1.0, 2.0, 1.0, 1.0, 2.0, 1.0, 2.0, 2.0, 2.0, 1.0, 2.0, 3.0, 3.0, 1.0, 1.0, 1.0, 1.0, 1.0, 2.0, 2.0, 1.0, 1.0, 1.0, 1.0, 1.0, 2.0, 1.0, 1.0, 1.0, 1.0, 3.0, 3.0, 1.0, 2.0, 1.0, 2.0, 2.0, 3.0, 3.0, 2.0, 2.0, 2.0, 2.0, 1.0, 2.0, 2.0, 3.0, 2.0, 2.0, 2.0, 1.0, 2.0, 3.0, 2.0, 1.0, 1.0, 3.0, 1.0, 2.0, 1.0, 2.0, 2.0, 2.0, 5.0, 1.0, 1.0, 3.0, 2.0, 3.0, 2.0, 1.0, 1.0, 3.0, 3.0, 1.0, 3.0, 1.0, 1.0, 3.0, 1.0, 1.0, 1.0, 2.0, 1.0, 1.0, 2.0, 3.0, 1.0, 3.0, 4.0, 1.0, 1.0, 1.0, 2.0, 2.0, 1.0, 2.0, 3.0, 1.0, 1.0, 1.0, 2.0, 3.0, 2.0, 3.0, 2.0, 3.0, 1.0, 1.0, 1.0, 2.0, 1.0, 1.0, 1.0, 2.0, 1.0, 1.0, 2.0, 1.0, 3.0, 2.0, 1.0, 1.0, 1.0, 2.0, 1.0, 1.0, 1.0, 1.0, 1.0, 3.0, 1.0, 1.0, 1.0, 2.0, 3.0, 2.0, 1.0, 1.0, 1.0, 2.0, 1.0, 2.0, 2.0, 1.0, 1.0, 1.0, 5.0, 1.0, 1.0, 2.0, 1.0, 2.0, 2.0, 1.0, 3.0, 1.0, 3.0, 1.0, 2.0, 1.0, 3.0, 2.0, 2.0, 1.0, 2.0, 1.0, 3.0, 2.0, 1.0, 4.0, 1.0, 1.0, 2.0, 1.0, 2.0, 2.0, 1.0, 1.0, 3.0, 1.0, 5.0, 2.0, 1.0, 1.0, 2.0, 3.0, 1.0, 1.0, 2.0, 1.0, 1.0, 1.0, 2.0, 2.0, 1.0, 1.0, 2.0, 1.0, 2.0, 1.0, 2.0, 2.0, 2.0, 1.0, 1.0, 1.0, 3.0, 1.0, 1.0, 2.0, 3.0, 3.0, 3.0, 1.0, 1.0, 2.0, 3.0, 3.0, 1.0, 2.0, 2.0, 3.0, 1.0, 1.0, 3.0, 2.0, 2.0, 3.0, 2.0, 2.0, 3.0, 3.0, 1.0, 2.0, 1.0, 1.0, 3.0, 2.0, 1.0, 1.0, 3.0, 1.0, 2.0, 1.0, 2.0, 1.0, 3.0, 3.0, 1.0, 2.0, 2.0, 1.0, 2.0, 1.0, 3.0, 2.0, 3.0, 1.0, 1.0, 1.0, 2.0, 2.0, 1.0, 2.0, 1.0, 1.0, 2.0, 1.0, 1.0, 1.0, 2.0, 2.0, 3.0, 1.0, 2.0, 1.0, 2.0, 3.0, 1.0, 1.0, 1.0, 2.0, 1.0, 1.0, 2.0, 2.0, 1.0, 3.0, 1.0, 2.0, 1.0, 1.0, 1.0, 1.0, 2.0, 3.0, 1.0, 3.0, 2.0, 1.0, 1.0, 1.0, 2.0, 1.0, 1.0, 1.0, 2.0, 3.0, 1.0, 1.0, 2.0, 2.0, 3.0, 3.0, 1.0, 3.0, 2.0, 3.0, 2.0, 2.0, 2.0, 2.0, 2.0, 2.0, 2.0, 2.0, 1.0, 1.0, 1.0, 2.0, 1.0, 2.0, 1.0, 2.0, 1.0, 1.0, 1.0, 3.0, 2.0, 1.0, 1.0, 3.0, 2.0, 3.0, 3.0, 2.0, 1.0, 1.0, 1.0, 1.0, 2.0, 1.0, 2.0, 2.0, 1.0, 1.0, 3.0, 2.0, 1.0, 1.0, 2.0, 2.0, 1.0, 2.0, 2.0, 2.0, 3.0, 1.0, 3.0, 1.0, 2.0, 2.0, 2.0, 2.0, 1.0, 1.0, 5.0, 1.0, 2.0, 2.0, 1.0, 3.0, 1.0, 1.0, 1.0, 1.0, 1.0, 1.0, 1.0, 3.0, 1.0, 3.0, 1.0, 4.0, 1.0, 1.0, 2.0, 1.0, 3.0, 1.0, 1.0, 1.0, 3.0, 4.0, 2.0, 2.0, 2.0, 2.0, 1.0, 1.0, 1.0, 2.0, 1.0, 1.0, 2.0, 1.0, 2.0, 1.0, 2.0, 2.0, 3.0, 1.0, 2.0, 1.0, 3.0, 2.0, 1.0, 1.0, 1.0, 2.0, 3.0, 2.0, 2.0, 2.0, 1.0, 2.0, 3.0, 2.0, 3.0, 1.0, 2.0, 1.0, 2.0, 3.0, 1.0, 3.0, 3.0, 1.0, 3.0, 1.0, 1.0, 2.0, 2.0, 2.0, 2.0, 2.0, 2.0, 1.0, 1.0, 1.0, 1.0, 3.0, 2.0, 2.0, 2.0, 2.0, 3.0, 1.0, 2.0, 1.0, 1.0, 3.0, 2.0, 1.0, 1.0, 1.0, 1.0, 3.0, 1.0, 1.0, 2.0, 1.0, 3.0, 2.0, 1.0, 2.0, 2.0, 2.0, 2.0, 3.0, 1.0, 1.0, 2.0, 2.0, 2.0, 1.0, 1.0, 2.0, 2.0, 3.0, 2.0, 1.0, 2.0, 1.0, 3.0, 1.0, 3.0, 2.0, 1.0, 1.0, 3.0, 1.0, 1.0, 2.0, 1.0, 1.0, 2.0, 1.0, 3.0, 2.0, 2.0, 1.0, 3.0, 2.0, 1.0, 5.0, 1.0, 1.0, 1.0, 4.0, 3.0, 1.0, 1.0, 3.0, 2.0, 1.0, 1.0, 3.0, 2.0, 1.0, 2.0, 1.0, 1.0, 1.0, 1.0, 3.0, 1.0, 2.0, 3.0, 1.0, 3.0, 2.0, 3.0, 1.0, 1.0, 1.0, 2.0, 1.0, 2.0, 1.0, 2.0, 2.0, 3.0, 2.0, 1.0, 2.0, 1.0, 1.0, 3.0, 3.0, 1.0, 1.0, 3.0, 3.0, 1.0, 2.0, 1.0, 1.0, 1.0, 2.0, 1.0, 1.0, 1.0, 2.0, 1.0, 3.0, 3.0, 3.0, 1.0, 1.0, 1.0, 3.0, 2.0, 1.0, 2.0, 4.0, 1.0, 2.0, 1.0, 1.0, 2.0, 1.0, 3.0, 2.0, 1.0, 2.0, 2.0, 1.0, 2.0, 1.0, 2.0, 3.0, 1.0, 2.0, 2.0, 1.0, 3.0, 1.0, 3.0, 1.0, 1.0, 1.0, 1.0, 1.0, 1.0, 2.0, 1.0, 2.0, 1.0, 1.0, 2.0, 1.0, 1.0, 1.0, 2.0, 1.0, 1.0, 2.0, 3.0, 3.0, 1.0, 2.0, 1.0, 1.0, 2.0, 2.0, 3.0, 1.0, 1.0, 1.0, 1.0, 3.0, 3.0, 2.0, 1.0, 2.0, 2.0, 2.0, 2.0, 1.0, 1.0, 1.0, 1.0, 2.0, 2.0, 1.0, 1.0, 1.0, 2.0, 1.0, 2.0, 1.0, 2.0, 1.0, 2.0, 2.0, 1.0, 2.0, 2.0, 1.0, 1.0, 1.0, 2.0, 2.0, 3.0, 1.0, 2.0, 1.0, 1.0, 2.0, 4.0, 1.0, 1.0, 3.0, 2.0, 1.0, 2.0, 3.0, 2.0, 1.0, 2.0, 2.0, 1.0, 3.0, 2.0, 2.0, 3.0, 2.0, 2.0, 1.0, 3.0, 4.0, 2.0, 1.0, 1.0, 1.0, 1.0, 2.0, 1.0, 1.0, 1.0, 1.0, 1.0, 2.0, 1.0, 1.0, 1.0, 1.0, 1.0, 2.0, 1.0, 5.0, 3.0, 2.0, 1.0, 1.0, 1.0, 3.0, 2.0, 2.0, 2.0, 3.0, 2.0, 1.0, 2.0, 1.0, 1.0, 1.0, 1.0, 2.0, 3.0, 1.0, 1.0, 2.0, 1.0], \"xaxis\": \"x\", \"yaxis\": \"y\"}],\n",
              "                        {\"barmode\": \"relative\", \"legend\": {\"tracegroupgap\": 0}, \"template\": {\"data\": {\"bar\": [{\"error_x\": {\"color\": \"#2a3f5f\"}, \"error_y\": {\"color\": \"#2a3f5f\"}, \"marker\": {\"line\": {\"color\": \"#E5ECF6\", \"width\": 0.5}}, \"type\": \"bar\"}], \"barpolar\": [{\"marker\": {\"line\": {\"color\": \"#E5ECF6\", \"width\": 0.5}}, \"type\": \"barpolar\"}], \"carpet\": [{\"aaxis\": {\"endlinecolor\": \"#2a3f5f\", \"gridcolor\": \"white\", \"linecolor\": \"white\", \"minorgridcolor\": \"white\", \"startlinecolor\": \"#2a3f5f\"}, \"baxis\": {\"endlinecolor\": \"#2a3f5f\", \"gridcolor\": \"white\", \"linecolor\": \"white\", \"minorgridcolor\": \"white\", \"startlinecolor\": \"#2a3f5f\"}, \"type\": \"carpet\"}], \"choropleth\": [{\"colorbar\": {\"outlinewidth\": 0, \"ticks\": \"\"}, \"type\": \"choropleth\"}], \"contour\": [{\"colorbar\": {\"outlinewidth\": 0, \"ticks\": \"\"}, \"colorscale\": [[0.0, \"#0d0887\"], [0.1111111111111111, \"#46039f\"], [0.2222222222222222, \"#7201a8\"], [0.3333333333333333, \"#9c179e\"], [0.4444444444444444, \"#bd3786\"], [0.5555555555555556, \"#d8576b\"], [0.6666666666666666, \"#ed7953\"], [0.7777777777777778, \"#fb9f3a\"], [0.8888888888888888, \"#fdca26\"], [1.0, \"#f0f921\"]], \"type\": \"contour\"}], \"contourcarpet\": [{\"colorbar\": {\"outlinewidth\": 0, \"ticks\": \"\"}, \"type\": \"contourcarpet\"}], \"heatmap\": [{\"colorbar\": {\"outlinewidth\": 0, \"ticks\": \"\"}, \"colorscale\": [[0.0, \"#0d0887\"], [0.1111111111111111, \"#46039f\"], [0.2222222222222222, \"#7201a8\"], [0.3333333333333333, \"#9c179e\"], [0.4444444444444444, \"#bd3786\"], [0.5555555555555556, \"#d8576b\"], [0.6666666666666666, \"#ed7953\"], [0.7777777777777778, \"#fb9f3a\"], [0.8888888888888888, \"#fdca26\"], [1.0, \"#f0f921\"]], \"type\": \"heatmap\"}], \"heatmapgl\": [{\"colorbar\": {\"outlinewidth\": 0, \"ticks\": \"\"}, \"colorscale\": [[0.0, \"#0d0887\"], [0.1111111111111111, \"#46039f\"], [0.2222222222222222, \"#7201a8\"], [0.3333333333333333, \"#9c179e\"], [0.4444444444444444, \"#bd3786\"], [0.5555555555555556, \"#d8576b\"], [0.6666666666666666, \"#ed7953\"], [0.7777777777777778, \"#fb9f3a\"], [0.8888888888888888, \"#fdca26\"], [1.0, \"#f0f921\"]], \"type\": \"heatmapgl\"}], \"histogram\": [{\"marker\": {\"colorbar\": {\"outlinewidth\": 0, \"ticks\": \"\"}}, \"type\": \"histogram\"}], \"histogram2d\": [{\"colorbar\": {\"outlinewidth\": 0, \"ticks\": \"\"}, \"colorscale\": [[0.0, \"#0d0887\"], [0.1111111111111111, \"#46039f\"], [0.2222222222222222, \"#7201a8\"], [0.3333333333333333, \"#9c179e\"], [0.4444444444444444, \"#bd3786\"], [0.5555555555555556, \"#d8576b\"], [0.6666666666666666, \"#ed7953\"], [0.7777777777777778, \"#fb9f3a\"], [0.8888888888888888, \"#fdca26\"], [1.0, \"#f0f921\"]], \"type\": \"histogram2d\"}], \"histogram2dcontour\": [{\"colorbar\": {\"outlinewidth\": 0, \"ticks\": \"\"}, \"colorscale\": [[0.0, \"#0d0887\"], [0.1111111111111111, \"#46039f\"], [0.2222222222222222, \"#7201a8\"], [0.3333333333333333, \"#9c179e\"], [0.4444444444444444, \"#bd3786\"], [0.5555555555555556, \"#d8576b\"], [0.6666666666666666, \"#ed7953\"], [0.7777777777777778, \"#fb9f3a\"], [0.8888888888888888, \"#fdca26\"], [1.0, \"#f0f921\"]], \"type\": \"histogram2dcontour\"}], \"mesh3d\": [{\"colorbar\": {\"outlinewidth\": 0, \"ticks\": \"\"}, \"type\": \"mesh3d\"}], \"parcoords\": [{\"line\": {\"colorbar\": {\"outlinewidth\": 0, \"ticks\": \"\"}}, \"type\": \"parcoords\"}], \"pie\": [{\"automargin\": true, \"type\": \"pie\"}], \"scatter\": [{\"marker\": {\"colorbar\": {\"outlinewidth\": 0, \"ticks\": \"\"}}, \"type\": \"scatter\"}], \"scatter3d\": [{\"line\": {\"colorbar\": {\"outlinewidth\": 0, \"ticks\": \"\"}}, \"marker\": {\"colorbar\": {\"outlinewidth\": 0, \"ticks\": \"\"}}, \"type\": \"scatter3d\"}], \"scattercarpet\": [{\"marker\": {\"colorbar\": {\"outlinewidth\": 0, \"ticks\": \"\"}}, \"type\": \"scattercarpet\"}], \"scattergeo\": [{\"marker\": {\"colorbar\": {\"outlinewidth\": 0, \"ticks\": \"\"}}, \"type\": \"scattergeo\"}], \"scattergl\": [{\"marker\": {\"colorbar\": {\"outlinewidth\": 0, \"ticks\": \"\"}}, \"type\": \"scattergl\"}], \"scattermapbox\": [{\"marker\": {\"colorbar\": {\"outlinewidth\": 0, \"ticks\": \"\"}}, \"type\": \"scattermapbox\"}], \"scatterpolar\": [{\"marker\": {\"colorbar\": {\"outlinewidth\": 0, \"ticks\": \"\"}}, \"type\": \"scatterpolar\"}], \"scatterpolargl\": [{\"marker\": {\"colorbar\": {\"outlinewidth\": 0, \"ticks\": \"\"}}, \"type\": \"scatterpolargl\"}], \"scatterternary\": [{\"marker\": {\"colorbar\": {\"outlinewidth\": 0, \"ticks\": \"\"}}, \"type\": \"scatterternary\"}], \"surface\": [{\"colorbar\": {\"outlinewidth\": 0, \"ticks\": \"\"}, \"colorscale\": [[0.0, \"#0d0887\"], [0.1111111111111111, \"#46039f\"], [0.2222222222222222, \"#7201a8\"], [0.3333333333333333, \"#9c179e\"], [0.4444444444444444, \"#bd3786\"], [0.5555555555555556, \"#d8576b\"], [0.6666666666666666, \"#ed7953\"], [0.7777777777777778, \"#fb9f3a\"], [0.8888888888888888, \"#fdca26\"], [1.0, \"#f0f921\"]], \"type\": \"surface\"}], \"table\": [{\"cells\": {\"fill\": {\"color\": \"#EBF0F8\"}, \"line\": {\"color\": \"white\"}}, \"header\": {\"fill\": {\"color\": \"#C8D4E3\"}, \"line\": {\"color\": \"white\"}}, \"type\": \"table\"}]}, \"layout\": {\"annotationdefaults\": {\"arrowcolor\": \"#2a3f5f\", \"arrowhead\": 0, \"arrowwidth\": 1}, \"coloraxis\": {\"colorbar\": {\"outlinewidth\": 0, \"ticks\": \"\"}}, \"colorscale\": {\"diverging\": [[0, \"#8e0152\"], [0.1, \"#c51b7d\"], [0.2, \"#de77ae\"], [0.3, \"#f1b6da\"], [0.4, \"#fde0ef\"], [0.5, \"#f7f7f7\"], [0.6, \"#e6f5d0\"], [0.7, \"#b8e186\"], [0.8, \"#7fbc41\"], [0.9, \"#4d9221\"], [1, \"#276419\"]], \"sequential\": [[0.0, \"#0d0887\"], [0.1111111111111111, \"#46039f\"], [0.2222222222222222, \"#7201a8\"], [0.3333333333333333, \"#9c179e\"], [0.4444444444444444, \"#bd3786\"], [0.5555555555555556, \"#d8576b\"], [0.6666666666666666, \"#ed7953\"], [0.7777777777777778, \"#fb9f3a\"], [0.8888888888888888, \"#fdca26\"], [1.0, \"#f0f921\"]], \"sequentialminus\": [[0.0, \"#0d0887\"], [0.1111111111111111, \"#46039f\"], [0.2222222222222222, \"#7201a8\"], [0.3333333333333333, \"#9c179e\"], [0.4444444444444444, \"#bd3786\"], [0.5555555555555556, \"#d8576b\"], [0.6666666666666666, \"#ed7953\"], [0.7777777777777778, \"#fb9f3a\"], [0.8888888888888888, \"#fdca26\"], [1.0, \"#f0f921\"]]}, \"colorway\": [\"#636efa\", \"#EF553B\", \"#00cc96\", \"#ab63fa\", \"#FFA15A\", \"#19d3f3\", \"#FF6692\", \"#B6E880\", \"#FF97FF\", \"#FECB52\"], \"font\": {\"color\": \"#2a3f5f\"}, \"geo\": {\"bgcolor\": \"white\", \"lakecolor\": \"white\", \"landcolor\": \"#E5ECF6\", \"showlakes\": true, \"showland\": true, \"subunitcolor\": \"white\"}, \"hoverlabel\": {\"align\": \"left\"}, \"hovermode\": \"closest\", \"mapbox\": {\"style\": \"light\"}, \"paper_bgcolor\": \"white\", \"plot_bgcolor\": \"#E5ECF6\", \"polar\": {\"angularaxis\": {\"gridcolor\": \"white\", \"linecolor\": \"white\", \"ticks\": \"\"}, \"bgcolor\": \"#E5ECF6\", \"radialaxis\": {\"gridcolor\": \"white\", \"linecolor\": \"white\", \"ticks\": \"\"}}, \"scene\": {\"xaxis\": {\"backgroundcolor\": \"#E5ECF6\", \"gridcolor\": \"white\", \"gridwidth\": 2, \"linecolor\": \"white\", \"showbackground\": true, \"ticks\": \"\", \"zerolinecolor\": \"white\"}, \"yaxis\": {\"backgroundcolor\": \"#E5ECF6\", \"gridcolor\": \"white\", \"gridwidth\": 2, \"linecolor\": \"white\", \"showbackground\": true, \"ticks\": \"\", \"zerolinecolor\": \"white\"}, \"zaxis\": {\"backgroundcolor\": \"#E5ECF6\", \"gridcolor\": \"white\", \"gridwidth\": 2, \"linecolor\": \"white\", \"showbackground\": true, \"ticks\": \"\", \"zerolinecolor\": \"white\"}}, \"shapedefaults\": {\"line\": {\"color\": \"#2a3f5f\"}}, \"ternary\": {\"aaxis\": {\"gridcolor\": \"white\", \"linecolor\": \"white\", \"ticks\": \"\"}, \"baxis\": {\"gridcolor\": \"white\", \"linecolor\": \"white\", \"ticks\": \"\"}, \"bgcolor\": \"#E5ECF6\", \"caxis\": {\"gridcolor\": \"white\", \"linecolor\": \"white\", \"ticks\": \"\"}}, \"title\": {\"x\": 0.05}, \"xaxis\": {\"automargin\": true, \"gridcolor\": \"white\", \"linecolor\": \"white\", \"ticks\": \"\", \"title\": {\"standoff\": 15}, \"zerolinecolor\": \"white\", \"zerolinewidth\": 2}, \"yaxis\": {\"automargin\": true, \"gridcolor\": \"white\", \"linecolor\": \"white\", \"ticks\": \"\", \"title\": {\"standoff\": 15}, \"zerolinecolor\": \"white\", \"zerolinewidth\": 2}}}, \"title\": {\"text\": \" \"}, \"xaxis\": {\"anchor\": \"y\", \"domain\": [0.0, 1.0], \"title\": {\"text\": \"Joining Designation\"}}, \"yaxis\": {\"anchor\": \"x\", \"domain\": [0.0, 1.0], \"title\": {\"text\": \"count\"}}},\n",
              "                        {\"responsive\": true}\n",
              "                    ).then(function(){\n",
              "                            \n",
              "var gd = document.getElementById('0749a73c-f37d-4e99-8286-f360c6172953');\n",
              "var x = new MutationObserver(function (mutations, observer) {{\n",
              "        var display = window.getComputedStyle(gd).display;\n",
              "        if (!display || display === 'none') {{\n",
              "            console.log([gd, 'removed!']);\n",
              "            Plotly.purge(gd);\n",
              "            observer.disconnect();\n",
              "        }}\n",
              "}});\n",
              "\n",
              "// Listen for the removal of the full notebook cells\n",
              "var notebookContainer = gd.closest('#notebook-container');\n",
              "if (notebookContainer) {{\n",
              "    x.observe(notebookContainer, {childList: true});\n",
              "}}\n",
              "\n",
              "// Listen for the clearing of the current output cell\n",
              "var outputEl = gd.closest('.output');\n",
              "if (outputEl) {{\n",
              "    x.observe(outputEl, {childList: true});\n",
              "}}\n",
              "\n",
              "                        })\n",
              "                };\n",
              "                \n",
              "            </script>\n",
              "        </div>\n",
              "</body>\n",
              "</html>"
            ]
          },
          "metadata": {
            "tags": []
          }
        },
        {
          "output_type": "display_data",
          "data": {
            "text/html": [
              "<html>\n",
              "<head><meta charset=\"utf-8\" /></head>\n",
              "<body>\n",
              "    <div>\n",
              "            <script src=\"https://cdnjs.cloudflare.com/ajax/libs/mathjax/2.7.5/MathJax.js?config=TeX-AMS-MML_SVG\"></script><script type=\"text/javascript\">if (window.MathJax) {MathJax.Hub.Config({SVG: {font: \"STIX-Web\"}});}</script>\n",
              "                <script type=\"text/javascript\">window.PlotlyConfig = {MathJaxConfig: 'local'};</script>\n",
              "        <script src=\"https://cdn.plot.ly/plotly-latest.min.js\"></script>    \n",
              "            <div id=\"4a4fb395-cbd0-4bd4-81bb-749b71f62dba\" class=\"plotly-graph-div\" style=\"height:525px; width:100%;\"></div>\n",
              "            <script type=\"text/javascript\">\n",
              "                \n",
              "                    window.PLOTLYENV=window.PLOTLYENV || {};\n",
              "                    \n",
              "                if (document.getElementById(\"4a4fb395-cbd0-4bd4-81bb-749b71f62dba\")) {\n",
              "                    Plotly.newPlot(\n",
              "                        '4a4fb395-cbd0-4bd4-81bb-749b71f62dba',\n",
              "                        [{\"alignmentgroup\": \"True\", \"hoverlabel\": {\"namelength\": 0}, \"hovertemplate\": \"Joining Designation=%{y}\", \"legendgroup\": \"\", \"marker\": {\"color\": \"rgb(102, 197, 204)\"}, \"name\": \"\", \"notched\": false, \"offsetgroup\": \"\", \"orientation\": \"v\", \"showlegend\": false, \"type\": \"box\", \"x0\": \" \", \"xaxis\": \"x\", \"y\": [2.0, 3.0, 1.0, 3.0, 1.0, 1.0, 3.0, 2.0, 4.0, 3.0, 1.0, 3.0, 4.0, 1.0, 1.0, 1.0, 1.0, 1.0, 1.0, 2.0, 1.0, 2.0, 2.0, 1.0, 3.0, 3.0, 2.0, 1.0, 1.0, 3.0, 1.0, 1.0, 2.0, 2.0, 3.0, 3.0, 2.0, 1.0, 2.0, 1.0, 2.0, 1.0, 3.0, 2.0, 3.0, 3.0, 1.0, 1.0, 1.0, 1.0, 3.0, 2.0, 1.0, 3.0, 3.0, 2.0, 3.0, 3.0, 1.0, 1.0, 1.0, 1.0, 4.0, 2.0, 1.0, 2.0, 1.0, 3.0, 3.0, 2.0, 2.0, 2.0, 1.0, 1.0, 3.0, 2.0, 2.0, 3.0, 1.0, 1.0, 2.0, 3.0, 1.0, 3.0, 3.0, 2.0, 2.0, 2.0, 2.0, 4.0, 3.0, 2.0, 2.0, 2.0, 1.0, 1.0, 3.0, 2.0, 1.0, 3.0, 1.0, 3.0, 2.0, 1.0, 2.0, 2.0, 2.0, 1.0, 2.0, 1.0, 2.0, 2.0, 2.0, 2.0, 3.0, 2.0, 1.0, 3.0, 3.0, 1.0, 2.0, 3.0, 1.0, 3.0, 2.0, 1.0, 1.0, 4.0, 2.0, 3.0, 3.0, 3.0, 3.0, 3.0, 2.0, 3.0, 2.0, 3.0, 3.0, 2.0, 3.0, 1.0, 2.0, 1.0, 1.0, 3.0, 2.0, 1.0, 3.0, 2.0, 1.0, 3.0, 3.0, 1.0, 2.0, 3.0, 1.0, 3.0, 1.0, 1.0, 3.0, 1.0, 3.0, 1.0, 2.0, 1.0, 3.0, 1.0, 1.0, 1.0, 2.0, 2.0, 3.0, 3.0, 1.0, 2.0, 2.0, 3.0, 2.0, 1.0, 1.0, 1.0, 3.0, 3.0, 3.0, 2.0, 2.0, 2.0, 3.0, 2.0, 1.0, 3.0, 1.0, 2.0, 3.0, 1.0, 1.0, 2.0, 1.0, 2.0, 1.0, 2.0, 4.0, 3.0, 1.0, 3.0, 1.0, 3.0, 1.0, 2.0, 1.0, 1.0, 3.0, 1.0, 1.0, 3.0, 3.0, 1.0, 3.0, 3.0, 2.0, 2.0, 2.0, 1.0, 1.0, 1.0, 1.0, 3.0, 3.0, 2.0, 2.0, 2.0, 2.0, 3.0, 3.0, 3.0, 3.0, 2.0, 1.0, 2.0, 2.0, 1.0, 3.0, 3.0, 1.0, 3.0, 2.0, 1.0, 2.0, 3.0, 2.0, 1.0, 3.0, 2.0, 1.0, 3.0, 1.0, 2.0, 3.0, 3.0, 3.0, 1.0, 3.0, 1.0, 1.0, 2.0, 1.0, 1.0, 1.0, 2.0, 3.0, 3.0, 1.0, 1.0, 3.0, 3.0, 3.0, 1.0, 2.0, 1.0, 2.0, 1.0, 3.0, 3.0, 2.0, 1.0, 1.0, 2.0, 1.0, 1.0, 2.0, 2.0, 1.0, 1.0, 3.0, 2.0, 3.0, 1.0, 3.0, 1.0, 1.0, 3.0, 3.0, 2.0, 1.0, 2.0, 2.0, 1.0, 3.0, 1.0, 3.0, 3.0, 2.0, 2.0, 2.0, 1.0, 3.0, 1.0, 2.0, 2.0, 2.0, 3.0, 3.0, 1.0, 3.0, 1.0, 3.0, 1.0, 3.0, 1.0, 3.0, 1.0, 1.0, 2.0, 2.0, 1.0, 2.0, 2.0, 2.0, 1.0, 3.0, 2.0, 2.0, 3.0, 2.0, 1.0, 2.0, 2.0, 1.0, 2.0, 3.0, 3.0, 1.0, 2.0, 1.0, 1.0, 1.0, 2.0, 1.0, 1.0, 2.0, 5.0, 2.0, 1.0, 1.0, 2.0, 1.0, 3.0, 1.0, 3.0, 2.0, 2.0, 3.0, 3.0, 1.0, 1.0, 4.0, 2.0, 3.0, 2.0, 2.0, 2.0, 1.0, 1.0, 1.0, 2.0, 3.0, 3.0, 2.0, 2.0, 3.0, 3.0, 3.0, 1.0, 1.0, 1.0, 1.0, 3.0, 1.0, 3.0, 3.0, 3.0, 2.0, 3.0, 2.0, 2.0, 3.0, 3.0, 2.0, 1.0, 2.0, 2.0, 3.0, 2.0, 3.0, 1.0, 3.0, 3.0, 3.0, 1.0, 1.0, 2.0, 1.0, 2.0, 1.0, 2.0, 2.0, 2.0, 1.0, 1.0, 2.0, 1.0, 1.0, 3.0, 4.0, 3.0, 1.0, 1.0, 2.0, 2.0, 2.0, 1.0, 3.0, 4.0, 2.0, 2.0, 1.0, 3.0, 2.0, 2.0, 2.0, 3.0, 1.0, 1.0, 1.0, 1.0, 2.0, 2.0, 1.0, 2.0, 2.0, 1.0, 1.0, 2.0, 1.0, 2.0, 3.0, 3.0, 1.0, 1.0, 2.0, 2.0, 1.0, 1.0, 3.0, 2.0, 3.0, 1.0, 3.0, 3.0, 1.0, 3.0, 2.0, 1.0, 1.0, 2.0, 2.0, 1.0, 2.0, 3.0, 3.0, 1.0, 1.0, 3.0, 2.0, 1.0, 3.0, 1.0, 3.0, 2.0, 2.0, 1.0, 1.0, 1.0, 1.0, 1.0, 1.0, 1.0, 3.0, 2.0, 2.0, 2.0, 1.0, 2.0, 1.0, 2.0, 1.0, 1.0, 1.0, 2.0, 2.0, 2.0, 1.0, 3.0, 3.0, 1.0, 1.0, 3.0, 3.0, 1.0, 2.0, 1.0, 1.0, 3.0, 2.0, 2.0, 3.0, 1.0, 1.0, 2.0, 2.0, 2.0, 1.0, 2.0, 2.0, 3.0, 2.0, 3.0, 2.0, 2.0, 3.0, 1.0, 2.0, 2.0, 1.0, 3.0, 2.0, 1.0, 1.0, 3.0, 2.0, 2.0, 3.0, 1.0, 2.0, 5.0, 2.0, 2.0, 3.0, 1.0, 2.0, 3.0, 3.0, 2.0, 2.0, 1.0, 3.0, 2.0, 1.0, 4.0, 2.0, 1.0, 3.0, 2.0, 1.0, 3.0, 1.0, 2.0, 2.0, 3.0, 1.0, 3.0, 1.0, 1.0, 1.0, 3.0, 2.0, 3.0, 3.0, 2.0, 1.0, 3.0, 2.0, 3.0, 1.0, 2.0, 1.0, 2.0, 3.0, 3.0, 2.0, 1.0, 1.0, 2.0, 3.0, 1.0, 1.0, 1.0, 2.0, 2.0, 2.0, 3.0, 2.0, 1.0, 2.0, 3.0, 3.0, 3.0, 1.0, 1.0, 3.0, 1.0, 3.0, 1.0, 4.0, 1.0, 1.0, 2.0, 2.0, 1.0, 1.0, 2.0, 2.0, 3.0, 2.0, 2.0, 3.0, 3.0, 2.0, 1.0, 2.0, 2.0, 2.0, 2.0, 3.0, 1.0, 1.0, 3.0, 1.0, 1.0, 2.0, 1.0, 1.0, 1.0, 3.0, 1.0, 3.0, 1.0, 1.0, 2.0, 2.0, 1.0, 2.0, 1.0, 2.0, 3.0, 1.0, 1.0, 2.0, 3.0, 1.0, 1.0, 1.0, 3.0, 2.0, 1.0, 2.0, 2.0, 3.0, 2.0, 2.0, 1.0, 1.0, 3.0, 1.0, 1.0, 2.0, 1.0, 3.0, 2.0, 3.0, 2.0, 3.0, 2.0, 3.0, 3.0, 3.0, 1.0, 2.0, 2.0, 1.0, 3.0, 3.0, 1.0, 3.0, 1.0, 4.0, 3.0, 1.0, 2.0, 3.0, 2.0, 2.0, 2.0, 1.0, 4.0, 2.0, 1.0, 2.0, 1.0, 1.0, 3.0, 3.0, 2.0, 3.0, 2.0, 3.0, 2.0, 2.0, 2.0, 2.0, 1.0, 2.0, 1.0, 3.0, 1.0, 1.0, 2.0, 1.0, 1.0, 3.0, 1.0, 1.0, 1.0, 1.0, 3.0, 2.0, 3.0, 2.0, 2.0, 1.0, 2.0, 2.0, 1.0, 1.0, 1.0, 1.0, 3.0, 4.0, 1.0, 1.0, 2.0, 1.0, 1.0, 2.0, 2.0, 2.0, 1.0, 3.0, 2.0, 2.0, 4.0, 1.0, 3.0, 3.0, 1.0, 1.0, 2.0, 2.0, 2.0, 2.0, 2.0, 3.0, 3.0, 2.0, 2.0, 1.0, 1.0, 2.0, 1.0, 1.0, 3.0, 3.0, 1.0, 2.0, 1.0, 1.0, 3.0, 3.0, 3.0, 3.0, 1.0, 1.0, 3.0, 2.0, 2.0, 2.0, 1.0, 1.0, 1.0, 2.0, 2.0, 1.0, 1.0, 1.0, 3.0, 2.0, 3.0, 4.0, 1.0, 5.0, 1.0, 2.0, 1.0, 1.0, 1.0, 1.0, 3.0, 1.0, 1.0, 2.0, 1.0, 2.0, 3.0, 2.0, 2.0, 1.0, 1.0, 1.0, 1.0, 2.0, 1.0, 2.0, 1.0, 1.0, 2.0, 1.0, 2.0, 4.0, 1.0, 2.0, 1.0, 3.0, 2.0, 3.0, 3.0, 3.0, 1.0, 3.0, 1.0, 3.0, 1.0, 2.0, 1.0, 2.0, 2.0, 1.0, 3.0, 2.0, 2.0, 3.0, 1.0, 4.0, 2.0, 1.0, 1.0, 1.0, 2.0, 1.0, 1.0, 1.0, 2.0, 1.0, 2.0, 1.0, 3.0, 1.0, 3.0, 2.0, 1.0, 3.0, 1.0, 3.0, 1.0, 1.0, 4.0, 2.0, 2.0, 2.0, 1.0, 1.0, 2.0, 3.0, 1.0, 2.0, 3.0, 1.0, 1.0, 1.0, 2.0, 2.0, 3.0, 3.0, 1.0, 2.0, 1.0, 3.0, 1.0, 2.0, 1.0, 2.0, 1.0, 3.0, 1.0, 1.0, 1.0, 2.0, 2.0, 2.0, 3.0, 1.0, 3.0, 1.0, 3.0, 3.0, 2.0, 2.0, 2.0, 1.0, 1.0, 1.0, 3.0, 2.0, 1.0, 2.0, 1.0, 2.0, 1.0, 2.0, 1.0, 1.0, 2.0, 2.0, 1.0, 2.0, 1.0, 3.0, 2.0, 1.0, 2.0, 2.0, 1.0, 1.0, 2.0, 1.0, 2.0, 3.0, 1.0, 1.0, 1.0, 1.0, 2.0, 2.0, 2.0, 1.0, 1.0, 3.0, 1.0, 1.0, 1.0, 1.0, 3.0, 2.0, 2.0, 1.0, 2.0, 1.0, 2.0, 2.0, 2.0, 1.0, 3.0, 2.0, 2.0, 3.0, 1.0, 2.0, 3.0, 1.0, 1.0, 1.0, 2.0, 1.0, 2.0, 1.0, 1.0, 1.0, 1.0, 1.0, 1.0, 1.0, 1.0, 1.0, 2.0, 1.0, 2.0, 4.0, 2.0, 1.0, 2.0, 2.0, 1.0, 1.0, 1.0, 2.0, 1.0, 1.0, 3.0, 4.0, 2.0, 3.0, 3.0, 3.0, 2.0, 2.0, 1.0, 1.0, 1.0, 1.0, 2.0, 1.0, 2.0, 1.0, 2.0, 1.0, 3.0, 2.0, 1.0, 1.0, 2.0, 1.0, 1.0, 1.0, 2.0, 2.0, 2.0, 3.0, 3.0, 2.0, 1.0, 2.0, 1.0, 2.0, 3.0, 2.0, 2.0, 3.0, 1.0, 2.0, 2.0, 3.0, 1.0, 2.0, 1.0, 2.0, 2.0, 1.0, 1.0, 1.0, 1.0, 3.0, 1.0, 1.0, 2.0, 2.0, 2.0, 2.0, 3.0, 1.0, 3.0, 4.0, 3.0, 2.0, 1.0, 1.0, 3.0, 4.0, 2.0, 2.0, 2.0, 3.0, 1.0, 3.0, 2.0, 2.0, 3.0, 2.0, 1.0, 2.0, 2.0, 1.0, 1.0, 2.0, 1.0, 1.0, 1.0, 2.0, 2.0, 1.0, 3.0, 1.0, 3.0, 1.0, 2.0, 3.0, 1.0, 3.0, 3.0, 1.0, 3.0, 5.0, 3.0, 2.0, 2.0, 1.0, 1.0, 2.0, 2.0, 1.0, 4.0, 1.0, 2.0, 1.0, 3.0, 1.0, 2.0, 1.0, 3.0, 1.0, 2.0, 3.0, 2.0, 1.0, 1.0, 1.0, 2.0, 2.0, 2.0, 2.0, 2.0, 1.0, 3.0, 1.0, 3.0, 3.0, 2.0, 2.0, 2.0, 2.0, 1.0, 2.0, 2.0, 2.0, 1.0, 2.0, 1.0, 3.0, 3.0, 2.0, 1.0, 2.0, 2.0, 1.0, 1.0, 1.0, 1.0, 2.0, 3.0, 1.0, 1.0, 2.0, 1.0, 2.0, 2.0, 1.0, 1.0, 1.0, 2.0, 2.0, 3.0, 2.0, 1.0, 2.0, 2.0, 2.0, 1.0, 2.0, 1.0, 1.0, 1.0, 2.0, 1.0, 2.0, 1.0, 2.0, 1.0, 1.0, 3.0, 1.0, 2.0, 1.0, 2.0, 2.0, 1.0, 1.0, 1.0, 1.0, 2.0, 3.0, 1.0, 1.0, 1.0, 1.0, 2.0, 2.0, 1.0, 1.0, 2.0, 1.0, 3.0, 1.0, 1.0, 1.0, 1.0, 1.0, 2.0, 2.0, 1.0, 2.0, 2.0, 1.0, 3.0, 2.0, 1.0, 3.0, 1.0, 1.0, 3.0, 1.0, 1.0, 3.0, 2.0, 1.0, 3.0, 1.0, 1.0, 3.0, 1.0, 3.0, 2.0, 1.0, 1.0, 2.0, 1.0, 2.0, 1.0, 3.0, 3.0, 1.0, 1.0, 1.0, 1.0, 2.0, 1.0, 2.0, 1.0, 1.0, 2.0, 1.0, 1.0, 2.0, 1.0, 1.0, 2.0, 1.0, 1.0, 2.0, 1.0, 2.0, 1.0, 3.0, 1.0, 2.0, 3.0, 1.0, 2.0, 3.0, 1.0, 3.0, 1.0, 1.0, 2.0, 1.0, 1.0, 2.0, 3.0, 3.0, 2.0, 3.0, 2.0, 2.0, 1.0, 2.0, 2.0, 1.0, 2.0, 1.0, 2.0, 3.0, 3.0, 2.0, 1.0, 2.0, 1.0, 2.0, 1.0, 3.0, 1.0, 1.0, 2.0, 1.0, 1.0, 2.0, 2.0, 1.0, 1.0, 1.0, 2.0, 1.0, 2.0, 3.0, 1.0, 3.0, 1.0, 3.0, 1.0, 1.0, 1.0, 1.0, 1.0, 2.0, 3.0, 1.0, 2.0, 1.0, 1.0, 1.0, 1.0, 3.0, 2.0, 3.0, 3.0, 1.0, 3.0, 1.0, 2.0, 2.0, 4.0, 2.0, 1.0, 1.0, 1.0, 3.0, 1.0, 1.0, 1.0, 1.0, 1.0, 2.0, 1.0, 2.0, 3.0, 3.0, 1.0, 2.0, 3.0, 1.0, 1.0, 2.0, 2.0, 1.0, 2.0, 2.0, 1.0, 2.0, 1.0, 3.0, 1.0, 1.0, 1.0, 1.0, 2.0, 1.0, 3.0, 2.0, 1.0, 1.0, 1.0, 2.0, 2.0, 1.0, 1.0, 1.0, 3.0, 2.0, 2.0, 1.0, 1.0, 1.0, 1.0, 3.0, 2.0, 3.0, 2.0, 1.0, 2.0, 2.0, 1.0, 1.0, 2.0, 1.0, 2.0, 3.0, 1.0, 3.0, 3.0, 2.0, 1.0, 3.0, 1.0, 1.0, 1.0, 1.0, 2.0, 1.0, 2.0, 2.0, 1.0, 1.0, 1.0, 3.0, 3.0, 3.0, 1.0, 1.0, 2.0, 3.0, 1.0, 2.0, 2.0, 1.0, 1.0, 1.0, 1.0, 1.0, 2.0, 3.0, 2.0, 3.0, 2.0, 2.0, 2.0, 2.0, 2.0, 1.0, 2.0, 2.0, 2.0, 2.0, 2.0, 3.0, 2.0, 4.0, 1.0, 2.0, 2.0, 3.0, 1.0, 2.0, 1.0, 1.0, 2.0, 1.0, 1.0, 2.0, 2.0, 2.0, 1.0, 3.0, 1.0, 2.0, 2.0, 2.0, 1.0, 2.0, 1.0, 2.0, 3.0, 2.0, 2.0, 1.0, 2.0, 1.0, 1.0, 3.0, 1.0, 3.0, 1.0, 1.0, 1.0, 1.0, 3.0, 2.0, 2.0, 1.0, 1.0, 2.0, 2.0, 1.0, 2.0, 1.0, 2.0, 2.0, 2.0, 1.0, 2.0, 1.0, 1.0, 1.0, 2.0, 2.0, 3.0, 2.0, 2.0, 2.0, 1.0, 1.0, 3.0, 2.0, 1.0, 1.0, 1.0, 2.0, 3.0, 2.0, 2.0, 4.0, 3.0, 2.0, 1.0, 3.0, 1.0, 1.0, 1.0, 2.0, 2.0, 3.0, 1.0, 1.0, 2.0, 3.0, 2.0, 1.0, 2.0, 2.0, 2.0, 2.0, 1.0, 2.0, 1.0, 1.0, 2.0, 1.0, 2.0, 2.0, 2.0, 1.0, 2.0, 3.0, 3.0, 1.0, 1.0, 1.0, 1.0, 1.0, 2.0, 2.0, 1.0, 1.0, 1.0, 1.0, 1.0, 2.0, 1.0, 1.0, 1.0, 1.0, 3.0, 3.0, 1.0, 2.0, 1.0, 2.0, 2.0, 3.0, 3.0, 2.0, 2.0, 2.0, 2.0, 1.0, 2.0, 2.0, 3.0, 2.0, 2.0, 2.0, 1.0, 2.0, 3.0, 2.0, 1.0, 1.0, 3.0, 1.0, 2.0, 1.0, 2.0, 2.0, 2.0, 5.0, 1.0, 1.0, 3.0, 2.0, 3.0, 2.0, 1.0, 1.0, 3.0, 3.0, 1.0, 3.0, 1.0, 1.0, 3.0, 1.0, 1.0, 1.0, 2.0, 1.0, 1.0, 2.0, 3.0, 1.0, 3.0, 4.0, 1.0, 1.0, 1.0, 2.0, 2.0, 1.0, 2.0, 3.0, 1.0, 1.0, 1.0, 2.0, 3.0, 2.0, 3.0, 2.0, 3.0, 1.0, 1.0, 1.0, 2.0, 1.0, 1.0, 1.0, 2.0, 1.0, 1.0, 2.0, 1.0, 3.0, 2.0, 1.0, 1.0, 1.0, 2.0, 1.0, 1.0, 1.0, 1.0, 1.0, 3.0, 1.0, 1.0, 1.0, 2.0, 3.0, 2.0, 1.0, 1.0, 1.0, 2.0, 1.0, 2.0, 2.0, 1.0, 1.0, 1.0, 5.0, 1.0, 1.0, 2.0, 1.0, 2.0, 2.0, 1.0, 3.0, 1.0, 3.0, 1.0, 2.0, 1.0, 3.0, 2.0, 2.0, 1.0, 2.0, 1.0, 3.0, 2.0, 1.0, 4.0, 1.0, 1.0, 2.0, 1.0, 2.0, 2.0, 1.0, 1.0, 3.0, 1.0, 5.0, 2.0, 1.0, 1.0, 2.0, 3.0, 1.0, 1.0, 2.0, 1.0, 1.0, 1.0, 2.0, 2.0, 1.0, 1.0, 2.0, 1.0, 2.0, 1.0, 2.0, 2.0, 2.0, 1.0, 1.0, 1.0, 3.0, 1.0, 1.0, 2.0, 3.0, 3.0, 3.0, 1.0, 1.0, 2.0, 3.0, 3.0, 1.0, 2.0, 2.0, 3.0, 1.0, 1.0, 3.0, 2.0, 2.0, 3.0, 2.0, 2.0, 3.0, 3.0, 1.0, 2.0, 1.0, 1.0, 3.0, 2.0, 1.0, 1.0, 3.0, 1.0, 2.0, 1.0, 2.0, 1.0, 3.0, 3.0, 1.0, 2.0, 2.0, 1.0, 2.0, 1.0, 3.0, 2.0, 3.0, 1.0, 1.0, 1.0, 2.0, 2.0, 1.0, 2.0, 1.0, 1.0, 2.0, 1.0, 1.0, 1.0, 2.0, 2.0, 3.0, 1.0, 2.0, 1.0, 2.0, 3.0, 1.0, 1.0, 1.0, 2.0, 1.0, 1.0, 2.0, 2.0, 1.0, 3.0, 1.0, 2.0, 1.0, 1.0, 1.0, 1.0, 2.0, 3.0, 1.0, 3.0, 2.0, 1.0, 1.0, 1.0, 2.0, 1.0, 1.0, 1.0, 2.0, 3.0, 1.0, 1.0, 2.0, 2.0, 3.0, 3.0, 1.0, 3.0, 2.0, 3.0, 2.0, 2.0, 2.0, 2.0, 2.0, 2.0, 2.0, 2.0, 1.0, 1.0, 1.0, 2.0, 1.0, 2.0, 1.0, 2.0, 1.0, 1.0, 1.0, 3.0, 2.0, 1.0, 1.0, 3.0, 2.0, 3.0, 3.0, 2.0, 1.0, 1.0, 1.0, 1.0, 2.0, 1.0, 2.0, 2.0, 1.0, 1.0, 3.0, 2.0, 1.0, 1.0, 2.0, 2.0, 1.0, 2.0, 2.0, 2.0, 3.0, 1.0, 3.0, 1.0, 2.0, 2.0, 2.0, 2.0, 1.0, 1.0, 5.0, 1.0, 2.0, 2.0, 1.0, 3.0, 1.0, 1.0, 1.0, 1.0, 1.0, 1.0, 1.0, 3.0, 1.0, 3.0, 1.0, 4.0, 1.0, 1.0, 2.0, 1.0, 3.0, 1.0, 1.0, 1.0, 3.0, 4.0, 2.0, 2.0, 2.0, 2.0, 1.0, 1.0, 1.0, 2.0, 1.0, 1.0, 2.0, 1.0, 2.0, 1.0, 2.0, 2.0, 3.0, 1.0, 2.0, 1.0, 3.0, 2.0, 1.0, 1.0, 1.0, 2.0, 3.0, 2.0, 2.0, 2.0, 1.0, 2.0, 3.0, 2.0, 3.0, 1.0, 2.0, 1.0, 2.0, 3.0, 1.0, 3.0, 3.0, 1.0, 3.0, 1.0, 1.0, 2.0, 2.0, 2.0, 2.0, 2.0, 2.0, 1.0, 1.0, 1.0, 1.0, 3.0, 2.0, 2.0, 2.0, 2.0, 3.0, 1.0, 2.0, 1.0, 1.0, 3.0, 2.0, 1.0, 1.0, 1.0, 1.0, 3.0, 1.0, 1.0, 2.0, 1.0, 3.0, 2.0, 1.0, 2.0, 2.0, 2.0, 2.0, 3.0, 1.0, 1.0, 2.0, 2.0, 2.0, 1.0, 1.0, 2.0, 2.0, 3.0, 2.0, 1.0, 2.0, 1.0, 3.0, 1.0, 3.0, 2.0, 1.0, 1.0, 3.0, 1.0, 1.0, 2.0, 1.0, 1.0, 2.0, 1.0, 3.0, 2.0, 2.0, 1.0, 3.0, 2.0, 1.0, 5.0, 1.0, 1.0, 1.0, 4.0, 3.0, 1.0, 1.0, 3.0, 2.0, 1.0, 1.0, 3.0, 2.0, 1.0, 2.0, 1.0, 1.0, 1.0, 1.0, 3.0, 1.0, 2.0, 3.0, 1.0, 3.0, 2.0, 3.0, 1.0, 1.0, 1.0, 2.0, 1.0, 2.0, 1.0, 2.0, 2.0, 3.0, 2.0, 1.0, 2.0, 1.0, 1.0, 3.0, 3.0, 1.0, 1.0, 3.0, 3.0, 1.0, 2.0, 1.0, 1.0, 1.0, 2.0, 1.0, 1.0, 1.0, 2.0, 1.0, 3.0, 3.0, 3.0, 1.0, 1.0, 1.0, 3.0, 2.0, 1.0, 2.0, 4.0, 1.0, 2.0, 1.0, 1.0, 2.0, 1.0, 3.0, 2.0, 1.0, 2.0, 2.0, 1.0, 2.0, 1.0, 2.0, 3.0, 1.0, 2.0, 2.0, 1.0, 3.0, 1.0, 3.0, 1.0, 1.0, 1.0, 1.0, 1.0, 1.0, 2.0, 1.0, 2.0, 1.0, 1.0, 2.0, 1.0, 1.0, 1.0, 2.0, 1.0, 1.0, 2.0, 3.0, 3.0, 1.0, 2.0, 1.0, 1.0, 2.0, 2.0, 3.0, 1.0, 1.0, 1.0, 1.0, 3.0, 3.0, 2.0, 1.0, 2.0, 2.0, 2.0, 2.0, 1.0, 1.0, 1.0, 1.0, 2.0, 2.0, 1.0, 1.0, 1.0, 2.0, 1.0, 2.0, 1.0, 2.0, 1.0, 2.0, 2.0, 1.0, 2.0, 2.0, 1.0, 1.0, 1.0, 2.0, 2.0, 3.0, 1.0, 2.0, 1.0, 1.0, 2.0, 4.0, 1.0, 1.0, 3.0, 2.0, 1.0, 2.0, 3.0, 2.0, 1.0, 2.0, 2.0, 1.0, 3.0, 2.0, 2.0, 3.0, 2.0, 2.0, 1.0, 3.0, 4.0, 2.0, 1.0, 1.0, 1.0, 1.0, 2.0, 1.0, 1.0, 1.0, 1.0, 1.0, 2.0, 1.0, 1.0, 1.0, 1.0, 1.0, 2.0, 1.0, 5.0, 3.0, 2.0, 1.0, 1.0, 1.0, 3.0, 2.0, 2.0, 2.0, 3.0, 2.0, 1.0, 2.0, 1.0, 1.0, 1.0, 1.0, 2.0, 3.0, 1.0, 1.0, 2.0, 1.0], \"y0\": \" \", \"yaxis\": \"y\"}],\n",
              "                        {\"boxmode\": \"group\", \"legend\": {\"tracegroupgap\": 0}, \"margin\": {\"t\": 60}, \"template\": {\"data\": {\"bar\": [{\"error_x\": {\"color\": \"#2a3f5f\"}, \"error_y\": {\"color\": \"#2a3f5f\"}, \"marker\": {\"line\": {\"color\": \"#E5ECF6\", \"width\": 0.5}}, \"type\": \"bar\"}], \"barpolar\": [{\"marker\": {\"line\": {\"color\": \"#E5ECF6\", \"width\": 0.5}}, \"type\": \"barpolar\"}], \"carpet\": [{\"aaxis\": {\"endlinecolor\": \"#2a3f5f\", \"gridcolor\": \"white\", \"linecolor\": \"white\", \"minorgridcolor\": \"white\", \"startlinecolor\": \"#2a3f5f\"}, \"baxis\": {\"endlinecolor\": \"#2a3f5f\", \"gridcolor\": \"white\", \"linecolor\": \"white\", \"minorgridcolor\": \"white\", \"startlinecolor\": \"#2a3f5f\"}, \"type\": \"carpet\"}], \"choropleth\": [{\"colorbar\": {\"outlinewidth\": 0, \"ticks\": \"\"}, \"type\": \"choropleth\"}], \"contour\": [{\"colorbar\": {\"outlinewidth\": 0, \"ticks\": \"\"}, \"colorscale\": [[0.0, \"#0d0887\"], [0.1111111111111111, \"#46039f\"], [0.2222222222222222, \"#7201a8\"], [0.3333333333333333, \"#9c179e\"], [0.4444444444444444, \"#bd3786\"], [0.5555555555555556, \"#d8576b\"], [0.6666666666666666, \"#ed7953\"], [0.7777777777777778, \"#fb9f3a\"], [0.8888888888888888, \"#fdca26\"], [1.0, \"#f0f921\"]], \"type\": \"contour\"}], \"contourcarpet\": [{\"colorbar\": {\"outlinewidth\": 0, \"ticks\": \"\"}, \"type\": \"contourcarpet\"}], \"heatmap\": [{\"colorbar\": {\"outlinewidth\": 0, \"ticks\": \"\"}, \"colorscale\": [[0.0, \"#0d0887\"], [0.1111111111111111, \"#46039f\"], [0.2222222222222222, \"#7201a8\"], [0.3333333333333333, \"#9c179e\"], [0.4444444444444444, \"#bd3786\"], [0.5555555555555556, \"#d8576b\"], [0.6666666666666666, \"#ed7953\"], [0.7777777777777778, \"#fb9f3a\"], [0.8888888888888888, \"#fdca26\"], [1.0, \"#f0f921\"]], \"type\": \"heatmap\"}], \"heatmapgl\": [{\"colorbar\": {\"outlinewidth\": 0, \"ticks\": \"\"}, \"colorscale\": [[0.0, \"#0d0887\"], [0.1111111111111111, \"#46039f\"], [0.2222222222222222, \"#7201a8\"], [0.3333333333333333, \"#9c179e\"], [0.4444444444444444, \"#bd3786\"], [0.5555555555555556, \"#d8576b\"], [0.6666666666666666, \"#ed7953\"], [0.7777777777777778, \"#fb9f3a\"], [0.8888888888888888, \"#fdca26\"], [1.0, \"#f0f921\"]], \"type\": \"heatmapgl\"}], \"histogram\": [{\"marker\": {\"colorbar\": {\"outlinewidth\": 0, \"ticks\": \"\"}}, \"type\": \"histogram\"}], \"histogram2d\": [{\"colorbar\": {\"outlinewidth\": 0, \"ticks\": \"\"}, \"colorscale\": [[0.0, \"#0d0887\"], [0.1111111111111111, \"#46039f\"], [0.2222222222222222, \"#7201a8\"], [0.3333333333333333, \"#9c179e\"], [0.4444444444444444, \"#bd3786\"], [0.5555555555555556, \"#d8576b\"], [0.6666666666666666, \"#ed7953\"], [0.7777777777777778, \"#fb9f3a\"], [0.8888888888888888, \"#fdca26\"], [1.0, \"#f0f921\"]], \"type\": \"histogram2d\"}], \"histogram2dcontour\": [{\"colorbar\": {\"outlinewidth\": 0, \"ticks\": \"\"}, \"colorscale\": [[0.0, \"#0d0887\"], [0.1111111111111111, \"#46039f\"], [0.2222222222222222, \"#7201a8\"], [0.3333333333333333, \"#9c179e\"], [0.4444444444444444, \"#bd3786\"], [0.5555555555555556, \"#d8576b\"], [0.6666666666666666, \"#ed7953\"], [0.7777777777777778, \"#fb9f3a\"], [0.8888888888888888, \"#fdca26\"], [1.0, \"#f0f921\"]], \"type\": \"histogram2dcontour\"}], \"mesh3d\": [{\"colorbar\": {\"outlinewidth\": 0, \"ticks\": \"\"}, \"type\": \"mesh3d\"}], \"parcoords\": [{\"line\": {\"colorbar\": {\"outlinewidth\": 0, \"ticks\": \"\"}}, \"type\": \"parcoords\"}], \"pie\": [{\"automargin\": true, \"type\": \"pie\"}], \"scatter\": [{\"marker\": {\"colorbar\": {\"outlinewidth\": 0, \"ticks\": \"\"}}, \"type\": \"scatter\"}], \"scatter3d\": [{\"line\": {\"colorbar\": {\"outlinewidth\": 0, \"ticks\": \"\"}}, \"marker\": {\"colorbar\": {\"outlinewidth\": 0, \"ticks\": \"\"}}, \"type\": \"scatter3d\"}], \"scattercarpet\": [{\"marker\": {\"colorbar\": {\"outlinewidth\": 0, \"ticks\": \"\"}}, \"type\": \"scattercarpet\"}], \"scattergeo\": [{\"marker\": {\"colorbar\": {\"outlinewidth\": 0, \"ticks\": \"\"}}, \"type\": \"scattergeo\"}], \"scattergl\": [{\"marker\": {\"colorbar\": {\"outlinewidth\": 0, \"ticks\": \"\"}}, \"type\": \"scattergl\"}], \"scattermapbox\": [{\"marker\": {\"colorbar\": {\"outlinewidth\": 0, \"ticks\": \"\"}}, \"type\": \"scattermapbox\"}], \"scatterpolar\": [{\"marker\": {\"colorbar\": {\"outlinewidth\": 0, \"ticks\": \"\"}}, \"type\": \"scatterpolar\"}], \"scatterpolargl\": [{\"marker\": {\"colorbar\": {\"outlinewidth\": 0, \"ticks\": \"\"}}, \"type\": \"scatterpolargl\"}], \"scatterternary\": [{\"marker\": {\"colorbar\": {\"outlinewidth\": 0, \"ticks\": \"\"}}, \"type\": \"scatterternary\"}], \"surface\": [{\"colorbar\": {\"outlinewidth\": 0, \"ticks\": \"\"}, \"colorscale\": [[0.0, \"#0d0887\"], [0.1111111111111111, \"#46039f\"], [0.2222222222222222, \"#7201a8\"], [0.3333333333333333, \"#9c179e\"], [0.4444444444444444, \"#bd3786\"], [0.5555555555555556, \"#d8576b\"], [0.6666666666666666, \"#ed7953\"], [0.7777777777777778, \"#fb9f3a\"], [0.8888888888888888, \"#fdca26\"], [1.0, \"#f0f921\"]], \"type\": \"surface\"}], \"table\": [{\"cells\": {\"fill\": {\"color\": \"#EBF0F8\"}, \"line\": {\"color\": \"white\"}}, \"header\": {\"fill\": {\"color\": \"#C8D4E3\"}, \"line\": {\"color\": \"white\"}}, \"type\": \"table\"}]}, \"layout\": {\"annotationdefaults\": {\"arrowcolor\": \"#2a3f5f\", \"arrowhead\": 0, \"arrowwidth\": 1}, \"coloraxis\": {\"colorbar\": {\"outlinewidth\": 0, \"ticks\": \"\"}}, \"colorscale\": {\"diverging\": [[0, \"#8e0152\"], [0.1, \"#c51b7d\"], [0.2, \"#de77ae\"], [0.3, \"#f1b6da\"], [0.4, \"#fde0ef\"], [0.5, \"#f7f7f7\"], [0.6, \"#e6f5d0\"], [0.7, \"#b8e186\"], [0.8, \"#7fbc41\"], [0.9, \"#4d9221\"], [1, \"#276419\"]], \"sequential\": [[0.0, \"#0d0887\"], [0.1111111111111111, \"#46039f\"], [0.2222222222222222, \"#7201a8\"], [0.3333333333333333, \"#9c179e\"], [0.4444444444444444, \"#bd3786\"], [0.5555555555555556, \"#d8576b\"], [0.6666666666666666, \"#ed7953\"], [0.7777777777777778, \"#fb9f3a\"], [0.8888888888888888, \"#fdca26\"], [1.0, \"#f0f921\"]], \"sequentialminus\": [[0.0, \"#0d0887\"], [0.1111111111111111, \"#46039f\"], [0.2222222222222222, \"#7201a8\"], [0.3333333333333333, \"#9c179e\"], [0.4444444444444444, \"#bd3786\"], [0.5555555555555556, \"#d8576b\"], [0.6666666666666666, \"#ed7953\"], [0.7777777777777778, \"#fb9f3a\"], [0.8888888888888888, \"#fdca26\"], [1.0, \"#f0f921\"]]}, \"colorway\": [\"#636efa\", \"#EF553B\", \"#00cc96\", \"#ab63fa\", \"#FFA15A\", \"#19d3f3\", \"#FF6692\", \"#B6E880\", \"#FF97FF\", \"#FECB52\"], \"font\": {\"color\": \"#2a3f5f\"}, \"geo\": {\"bgcolor\": \"white\", \"lakecolor\": \"white\", \"landcolor\": \"#E5ECF6\", \"showlakes\": true, \"showland\": true, \"subunitcolor\": \"white\"}, \"hoverlabel\": {\"align\": \"left\"}, \"hovermode\": \"closest\", \"mapbox\": {\"style\": \"light\"}, \"paper_bgcolor\": \"white\", \"plot_bgcolor\": \"#E5ECF6\", \"polar\": {\"angularaxis\": {\"gridcolor\": \"white\", \"linecolor\": \"white\", \"ticks\": \"\"}, \"bgcolor\": \"#E5ECF6\", \"radialaxis\": {\"gridcolor\": \"white\", \"linecolor\": \"white\", \"ticks\": \"\"}}, \"scene\": {\"xaxis\": {\"backgroundcolor\": \"#E5ECF6\", \"gridcolor\": \"white\", \"gridwidth\": 2, \"linecolor\": \"white\", \"showbackground\": true, \"ticks\": \"\", \"zerolinecolor\": \"white\"}, \"yaxis\": {\"backgroundcolor\": \"#E5ECF6\", \"gridcolor\": \"white\", \"gridwidth\": 2, \"linecolor\": \"white\", \"showbackground\": true, \"ticks\": \"\", \"zerolinecolor\": \"white\"}, \"zaxis\": {\"backgroundcolor\": \"#E5ECF6\", \"gridcolor\": \"white\", \"gridwidth\": 2, \"linecolor\": \"white\", \"showbackground\": true, \"ticks\": \"\", \"zerolinecolor\": \"white\"}}, \"shapedefaults\": {\"line\": {\"color\": \"#2a3f5f\"}}, \"ternary\": {\"aaxis\": {\"gridcolor\": \"white\", \"linecolor\": \"white\", \"ticks\": \"\"}, \"baxis\": {\"gridcolor\": \"white\", \"linecolor\": \"white\", \"ticks\": \"\"}, \"bgcolor\": \"#E5ECF6\", \"caxis\": {\"gridcolor\": \"white\", \"linecolor\": \"white\", \"ticks\": \"\"}}, \"title\": {\"x\": 0.05}, \"xaxis\": {\"automargin\": true, \"gridcolor\": \"white\", \"linecolor\": \"white\", \"ticks\": \"\", \"title\": {\"standoff\": 15}, \"zerolinecolor\": \"white\", \"zerolinewidth\": 2}, \"yaxis\": {\"automargin\": true, \"gridcolor\": \"white\", \"linecolor\": \"white\", \"ticks\": \"\", \"title\": {\"standoff\": 15}, \"zerolinecolor\": \"white\", \"zerolinewidth\": 2}}}, \"xaxis\": {\"anchor\": \"y\", \"domain\": [0.0, 1.0]}, \"yaxis\": {\"anchor\": \"x\", \"domain\": [0.0, 1.0], \"title\": {\"text\": \"Joining Designation\"}}},\n",
              "                        {\"responsive\": true}\n",
              "                    ).then(function(){\n",
              "                            \n",
              "var gd = document.getElementById('4a4fb395-cbd0-4bd4-81bb-749b71f62dba');\n",
              "var x = new MutationObserver(function (mutations, observer) {{\n",
              "        var display = window.getComputedStyle(gd).display;\n",
              "        if (!display || display === 'none') {{\n",
              "            console.log([gd, 'removed!']);\n",
              "            Plotly.purge(gd);\n",
              "            observer.disconnect();\n",
              "        }}\n",
              "}});\n",
              "\n",
              "// Listen for the removal of the full notebook cells\n",
              "var notebookContainer = gd.closest('#notebook-container');\n",
              "if (notebookContainer) {{\n",
              "    x.observe(notebookContainer, {childList: true});\n",
              "}}\n",
              "\n",
              "// Listen for the clearing of the current output cell\n",
              "var outputEl = gd.closest('.output');\n",
              "if (outputEl) {{\n",
              "    x.observe(outputEl, {childList: true});\n",
              "}}\n",
              "\n",
              "                        })\n",
              "                };\n",
              "                \n",
              "            </script>\n",
              "        </div>\n",
              "</body>\n",
              "</html>"
            ]
          },
          "metadata": {
            "tags": []
          }
        }
      ]
    },
    {
      "cell_type": "code",
      "metadata": {
        "colab": {
          "base_uri": "https://localhost:8080/",
          "height": 0
        },
        "id": "sevG7Y7LOA8f",
        "outputId": "c4816aaf-056f-4c44-8783-e6001ceea37f"
      },
      "source": [
        "plot_graphs(train_pivot, 'Designation')"
      ],
      "execution_count": 984,
      "outputs": [
        {
          "output_type": "display_data",
          "data": {
            "text/html": [
              "<html>\n",
              "<head><meta charset=\"utf-8\" /></head>\n",
              "<body>\n",
              "    <div>\n",
              "            <script src=\"https://cdnjs.cloudflare.com/ajax/libs/mathjax/2.7.5/MathJax.js?config=TeX-AMS-MML_SVG\"></script><script type=\"text/javascript\">if (window.MathJax) {MathJax.Hub.Config({SVG: {font: \"STIX-Web\"}});}</script>\n",
              "                <script type=\"text/javascript\">window.PlotlyConfig = {MathJaxConfig: 'local'};</script>\n",
              "        <script src=\"https://cdn.plot.ly/plotly-latest.min.js\"></script>    \n",
              "            <div id=\"58e76557-df00-4c3e-9af1-2c504cd74da3\" class=\"plotly-graph-div\" style=\"height:525px; width:100%;\"></div>\n",
              "            <script type=\"text/javascript\">\n",
              "                \n",
              "                    window.PLOTLYENV=window.PLOTLYENV || {};\n",
              "                    \n",
              "                if (document.getElementById(\"58e76557-df00-4c3e-9af1-2c504cd74da3\")) {\n",
              "                    Plotly.newPlot(\n",
              "                        '58e76557-df00-4c3e-9af1-2c504cd74da3',\n",
              "                        [{\"alignmentgroup\": \"True\", \"bingroup\": \"x\", \"hoverlabel\": {\"namelength\": 0}, \"hovertemplate\": \"left=False<br>Designation=%{x}<br>count=%{y}\", \"legendgroup\": \"left=False\", \"marker\": {\"color\": \"rgb(102, 197, 204)\"}, \"name\": \"left=False\", \"offsetgroup\": \"left=False\", \"orientation\": \"v\", \"showlegend\": true, \"type\": \"histogram\", \"x\": [2.0, 3.0, 1.0, 3.0, 3.0, 3.4166666666666665, 3.0, 2.0, 4.0, 3.0, 1.0, 3.0, 4.388888888888889, 1.0, 3.25, 1.0, 3.0, 2.0, 3.0, 2.0, 2.0, 4.0, 2.0, 1.0, 3.0, 3.0, 2.0, 1.0, 1.0, 3.0, 3.0, 5.0, 2.0, 2.0, 3.0, 3.0, 2.0, 2.0, 2.0, 3.0, 2.0, 3.0, 3.0, 2.0, 3.0, 3.0, 3.0, 1.0, 1.0, 1.0, 3.0, 2.0, 1.0, 3.0, 3.0, 2.0, 3.0, 3.0, 3.0, 1.0, 1.0, 1.0, 4.0, 2.0, 1.0, 2.0, 3.25, 3.0, 3.0, 2.0, 2.0, 2.0, 1.0, 2.0, 3.0, 2.0, 5.0, 3.0, 1.0, 1.25, 2.0, 3.0, 3.0, 3.0, 3.0, 2.0, 2.0, 2.0, 2.0, 4.0, 3.0, 4.0, 2.0, 2.0, 1.125, 1.0, 3.0, 2.0, 3.0, 3.0, 1.0, 3.0, 2.0, 3.0, 4.0, 2.0, 2.0, 3.0, 2.0, 2.0, 2.0, 2.0, 2.0, 2.0, 3.0, 3.0, 3.0, 3.0, 3.0, 2.25, 4.0, 3.0, 1.0, 3.0, 4.0, 1.0, 3.0, 4.0, 2.0, 3.0, 3.0, 3.0, 3.0, 3.0, 2.0, 3.0, 2.0, 3.0, 3.0, 2.0, 3.0, 1.0, 2.0, 1.0, 1.0, 3.0, 2.0, 1.0, 3.0, 2.230769230769231, 1.0, 3.0, 3.0, 1.0, 2.0, 3.0, 1.0, 3.0, 2.0, 1.0, 4.0, 1.0, 3.0, 3.1666666666666665, 3.0, 1.0, 3.0, 1.0, 1.0416666666666667, 1.0, 2.142857142857143, 2.0, 3.0, 3.0, 2.0, 2.0, 2.0, 3.0, 2.0, 2.0, 3.0, 1.0, 3.0, 3.0, 3.0, 3.0, 4.125, 2.0, 3.0, 2.0, 1.0, 3.0, 1.0, 2.0, 3.0, 2.0, 1.0, 2.0, 1.0, 2.0, 1.0, 4.0, 4.0, 3.0, 2.0, 3.0, 1.0, 3.0, 2.0, 2.0, 2.125, 3.0, 3.0, 1.0, 1.0, 3.0, 3.0, 1.0, 3.0, 3.0, 2.0, 2.0, 2.0, 2.0, 1.0, 4.0, 1.0, 3.0, 3.0, 2.0, 2.0, 2.3333333333333335, 3.0, 3.0, 3.0, 3.0, 3.0, 2.0, 1.0, 2.0, 4.0, 1.0, 3.0, 3.0, 1.0, 3.0, 2.0, 4.0, 2.0, 3.0, 2.0, 3.0, 3.0, 2.0, 1.125, 3.0, 2.0, 2.0, 3.0, 3.0, 3.0, 2.0, 3.0, 1.0, 1.0, 3.0, 2.0, 1.0, 2.0, 2.0, 3.0, 3.0, 1.0, 3.0, 3.0, 3.0, 3.0, 4.0, 2.0, 1.0, 2.0, 1.0, 3.0, 3.0, 2.0, 1.0, 1.0, 2.125, 1.0, 4.0, 4.0, 3.0, 1.0416666666666667, 2.0, 3.0, 2.0, 3.0, 1.0, 3.0, 1.0, 1.0, 3.0, 3.0, 4.0, 3.0, 2.0, 2.0, 2.0, 3.0, 3.0, 4.0, 3.0, 2.0, 2.0, 2.0, 1.0, 3.0, 1.0, 2.0, 2.0, 4.0, 3.0, 3.0, 1.0, 3.0, 2.25, 3.0, 2.1666666666666665, 3.0, 1.0, 3.0, 3.0, 4.0, 4.0, 2.0, 4.0, 2.0, 2.0, 2.0, 1.0, 3.0, 2.0, 2.0555555555555554, 3.0, 2.0, 1.0, 2.0, 2.0, 1.0, 2.0, 3.0, 3.0, 1.0, 4.0, 3.0, 1.0833333333333333, 2.0, 2.0, 2.0, 1.0, 2.0, 5.0, 2.0, 3.25, 1.0, 2.0, 1.0, 3.0, 1.0, 3.0, 2.25, 2.0, 3.0, 3.0, 1.1578947368421053, 1.0, 4.0, 3.0, 3.0, 2.0, 2.0, 2.0, 1.0, 1.0, 2.0, 2.0, 3.0, 3.0, 2.0, 2.0, 3.0, 3.0, 3.0, 2.0, 1.0, 1.0, 3.0, 3.0, 2.0, 3.0, 3.0, 3.0, 4.0, 3.0, 2.0, 2.0, 3.0, 3.0, 4.0, 4.0, 2.0, 2.0, 3.0, 2.0, 3.0, 3.0, 3.0, 3.0, 3.0, 1.0, 1.0, 2.0, 1.0, 2.0, 3.0, 2.0, 2.0, 2.0, 2.0, 1.0, 2.0, 2.0, 1.0, 3.0, 4.0, 3.0, 1.0, 3.0, 2.0, 2.0, 2.0, 3.0, 3.0, 4.0, 2.0, 2.0, 1.0, 3.0, 2.0, 4.0, 2.0, 3.0, 2.0, 4.0, 1.0, 3.0, 2.0, 2.0, 1.0, 2.0, 2.0, 2.0, 2.0, 2.0, 1.0, 2.0, 3.0, 3.0, 2.0, 1.0, 2.0, 2.0, 1.0, 1.0, 3.0, 4.0, 3.0, 1.0, 3.0, 3.0, 3.0416666666666665, 3.0, 2.0, 3.0, 2.25, 2.0, 2.0, 1.0, 2.0, 3.0, 3.0, 1.0, 2.0, 3.0, 2.0, 2.0416666666666665, 3.0, 1.0, 3.0, 2.0, 2.0, 1.0, 2.0416666666666665, 3.0, 2.1666666666666665, 1.0, 1.0, 3.0, 3.0, 2.0, 2.0, 2.0, 3.0, 2.0, 1.0, 2.0, 2.0, 1.0, 2.0416666666666665, 2.0, 2.0, 2.0, 1.0, 3.0, 3.0, 2.0, 1.0, 3.0, 3.0, 1.0, 2.0, 1.0, 1.0, 3.0, 2.0, 2.0, 3.0, 1.0, 1.125, 2.0, 2.0, 2.0, 4.0, 2.0, 2.0, 3.0, 2.0, 3.0, 2.0, 2.0, 3.0, 1.0, 2.0, 3.25, 2.0, 3.0, 2.0, 2.1666666666666665, 1.0, 3.0, 2.0, 2.0, 3.0, 3.0, 2.0, 5.0, 4.0, 5.0, 3.0, 2.0, 2.0, 3.0, 3.0, 2.0, 2.0, 1.0, 3.0, 2.0, 2.0, 4.0, 4.0, 1.0, 3.0, 4.0, 2.1666666666666665, 3.0, 3.0, 2.0, 2.0, 3.0, 4.0, 3.0, 1.0, 1.0, 2.0, 3.0, 2.0, 3.0, 3.0, 3.0, 1.0, 4.0, 2.0, 3.0, 3.0, 2.0, 1.0, 2.347826086956522, 3.0, 3.0, 2.0, 2.0, 2.0, 2.0, 3.0, 4.0, 1.0, 2.0, 2.0, 4.0, 2.0, 3.0, 2.0, 1.0, 2.0, 3.0, 3.0, 3.0, 1.0, 1.0, 3.0, 4.0, 3.0, 2.0, 4.0, 1.0, 1.25, 2.0, 4.0, 1.0, 1.0416666666666667, 2.0, 2.0, 3.0, 5.0, 4.0, 3.0, 3.0, 2.0, 1.0, 2.0, 2.0, 2.0, 2.0, 3.0, 1.0, 1.0, 3.0, 1.0, 1.0, 2.0, 4.0, 1.0, 1.0, 3.0, 1.0, 3.0, 1.0, 1.0, 2.0, 4.0, 1.0, 5.0, 1.0, 2.0, 3.0, 4.0, 2.25, 2.0, 3.0, 1.0, 1.0, 3.0, 3.0, 2.0, 3.25, 4.0, 2.0, 3.0, 2.0, 2.0, 4.0, 2.0, 3.0, 1.0, 4.0, 4.0, 2.125, 3.0, 2.0, 3.0, 2.0, 3.0, 2.0, 3.0, 3.0, 3.0, 3.0, 2.0, 4.0, 1.0, 3.0, 3.0, 1.0, 3.0, 2.125, 4.0, 3.0, 1.0, 3.0, 3.0, 2.0, 3.0, 3.0, 1.0, 4.0, 2.0, 2.0, 2.0, 5.0, 1.0, 3.0, 3.0, 2.0, 3.0, 4.0, 3.0, 2.0, 2.0, 3.0, 2.0], \"xaxis\": \"x\", \"yaxis\": \"y\"}, {\"alignmentgroup\": \"True\", \"bingroup\": \"x\", \"hoverlabel\": {\"namelength\": 0}, \"hovertemplate\": \"left=True<br>Designation=%{x}<br>count=%{y}\", \"legendgroup\": \"left=True\", \"marker\": {\"color\": \"rgb(246, 207, 113)\"}, \"name\": \"left=True\", \"offsetgroup\": \"left=True\", \"orientation\": \"v\", \"showlegend\": true, \"type\": \"histogram\", \"x\": [1.0, 2.0, 1.0, 3.0, 1.0, 4.0, 2.0, 1.0, 1.0, 3.0, 1.0, 1.0, 2.0, 1.0, 3.0, 2.0, 3.0, 2.0, 2.0, 1.0, 2.0, 2.0, 1.0, 1.0, 1.0, 2.0, 3.0, 4.0, 1.0, 2.0, 2.0, 1.0, 1.0, 2.0, 2.0, 2.0, 1.0, 3.0, 2.0, 2.0, 4.0, 2.0, 3.0, 3.0, 1.0, 1.0, 2.0, 2.0, 2.0, 2.0, 2.0, 3.0, 3.0, 2.176470588235294, 2.0, 1.0, 1.0, 2.0, 1.0, 3.0, 3.0, 3.0, 1.0, 3.0, 1.0, 1.0, 3.0, 3.0, 3.0, 3.0, 1.0, 1.0, 3.0, 2.0, 3.0, 2.0, 1.0, 1.0, 1.0, 2.0, 2.0, 1.0, 1.0, 1.0, 3.0, 2.0, 3.0, 4.0, 2.0, 5.0, 1.0, 3.0, 1.0, 1.0, 1.0, 1.0, 3.0, 1.0, 4.0, 2.0, 1.0, 2.0, 3.0, 2.0, 3.0, 1.0, 1.0, 1.0, 1.0, 2.0, 1.0, 4.0, 1.0, 1.0, 2.0, 3.0, 2.0, 4.0, 2.0, 2.0, 1.0, 3.0, 3.0, 3.0, 3.0, 3.0, 2.0, 3.0, 1.0, 3.0, 1.0, 2.0, 2.0, 2.0, 3.0, 1.0, 3.0, 2.0, 2.0, 3.0, 1.0, 4.0, 2.0, 1.0, 1.0, 1.0, 2.0, 1.0, 1.0, 2.0, 2.0, 2.0, 2.0, 1.0, 3.0, 1.0, 3.0, 2.0, 2.0, 3.0, 1.0, 3.0, 1.0, 1.0, 4.0, 2.0, 2.0, 2.0, 1.0, 1.0, 2.0, 3.0, 1.0, 2.0, 3.0, 1.0, 2.0, 1.0, 3.0454545454545454, 2.0, 3.0, 3.0, 1.0, 2.0, 1.0, 3.0, 1.0, 2.0, 1.0, 2.0, 1.0, 3.0, 1.0, 1.0, 1.0, 2.0, 4.0, 2.0, 3.0, 1.0, 3.0, 1.0, 3.0, 3.0, 3.0, 2.0, 2.0, 1.0, 1.0, 1.0, 3.0, 2.0, 1.0, 2.0, 1.0, 2.0, 1.0, 2.0, 1.0, 1.0, 2.0, 4.0, 1.0, 2.0, 1.0, 3.0, 2.0, 1.0, 2.0, 2.0, 1.0, 1.0, 2.0, 1.0, 3.0, 3.0, 2.0, 1.0, 2.0, 1.0, 2.0, 2.0, 4.0, 1.0, 1.0, 3.0, 1.0, 4.0, 2.0, 1.0, 3.0, 2.0, 2.0, 5.0, 4.0, 1.0, 2.0, 2.0, 2.0, 1.0, 3.0, 2.0, 2.0, 3.0, 1.0, 2.0, 3.0, 1.0, 1.0, 1.0, 2.0, 1.0, 2.0, 1.0, 1.0, 2.0, 1.0, 2.0, 1.0, 2.0, 1.0, 1.0, 2.0, 1.0, 2.0, 4.0, 2.0, 1.0, 2.0, 2.0, 2.0, 1.0, 1.0, 2.0, 1.0, 1.0, 3.0, 4.0, 3.0, 3.0, 3.0, 4.0, 2.0, 2.0, 1.0, 1.0, 4.0, 1.0, 3.0, 2.0, 2.0, 2.0, 2.0, 1.0, 3.0, 2.0, 1.0, 2.0, 2.0, 3.0, 1.0, 1.0, 2.0, 2.0, 2.0, 3.0, 3.0, 2.0, 2.0, 3.0, 1.0, 2.0, 3.0, 2.0, 2.0, 3.0, 2.0, 2.0, 2.0, 3.0, 1.0, 2.0, 1.0, 2.0, 2.0, 1.0, 1.0, 2.0, 2.0, 3.0, 1.0, 1.0, 2.0, 2.0, 2.0, 2.0, 3.0, 1.0, 3.0, 4.0, 3.0, 4.0, 1.0, 1.0, 3.0, 4.0, 2.0, 2.0, 2.0, 3.0, 1.0, 3.0, 2.0, 2.0, 3.0, 2.0, 1.0, 3.0, 4.0, 1.0, 1.0, 2.0, 1.0, 2.0, 1.0, 2.0, 2.0, 1.0, 3.0, 1.0, 3.0, 1.0, 2.0, 3.0, 3.0, 3.0, 3.0, 1.0, 3.0, 5.0, 3.0, 2.0, 2.0, 1.0, 1.0, 2.0, 2.0, 1.0, 4.0, 1.0, 2.0, 3.0, 3.0, 1.0, 2.0, 2.0, 3.0, 3.0, 2.0, 3.0, 2.0, 1.0, 3.0, 1.0, 2.0, 2.0, 2.0, 2.0, 2.0, 1.0, 3.0, 2.0, 3.0, 3.0, 2.0, 2.0, 2.0, 2.0, 1.0, 2.0, 2.0, 2.0, 1.0, 2.0, 1.0, 3.0, 3.0, 2.0, 1.0, 2.0, 2.0, 1.0, 3.0, 1.0, 2.0, 2.0, 3.0, 2.0, 1.0, 2.0, 1.0, 2.0, 2.0, 4.0, 2.0, 1.0, 2.0, 2.0, 3.0, 4.0, 1.0, 2.0, 2.0, 2.0, 3.0, 2.0, 1.0, 1.0, 1.0, 4.0, 1.0, 2.0, 1.0, 2.0, 1.0, 4.0, 3.0, 2.0, 2.0, 2.0, 2.0, 4.0, 1.0, 1.0, 1.0, 1.0, 2.0, 3.0, 1.0, 1.0, 1.0, 1.0, 2.0, 2.0, 1.0, 2.0, 2.0, 1.0, 3.0, 1.0, 1.0, 1.0, 1.0, 1.0, 2.0, 2.0, 1.0, 2.0, 2.0, 1.0, 3.0, 2.0, 1.0, 3.0, 1.0, 2.0, 3.0, 4.0, 1.0, 3.0, 2.0, 3.0, 3.0, 1.0, 1.0, 3.0, 1.0, 3.0, 2.0, 1.0, 1.0, 2.0, 2.0, 2.0, 1.0, 3.0, 3.0, 2.0, 1.0, 1.0, 1.0, 2.0, 1.0, 2.0, 2.0, 1.0, 2.0, 3.0, 1.0, 2.0, 1.0, 1.0, 3.0, 1.0, 1.0, 2.0, 1.0, 2.0, 1.0, 3.0, 4.0, 2.0, 3.0, 2.0, 2.0, 3.0, 1.0, 3.0, 1.0, 1.0, 2.0, 1.0, 1.0, 2.0, 3.0, 3.0, 2.0, 3.0, 3.0, 2.0, 1.0, 2.0, 2.0, 1.0, 2.0, 1.0, 2.0, 3.0, 3.0, 3.0, 3.0, 2.0, 1.0, 2.0, 1.0, 3.0, 1.0, 1.0, 2.0, 1.0, 1.0, 2.0, 2.0, 1.0, 1.0, 1.0, 2.0, 1.0, 2.0, 3.0, 1.0, 3.0, 1.0, 3.0, 1.0, 1.0, 1.0, 1.0, 1.0, 2.0, 3.0, 2.0, 2.0, 2.0, 1.0, 2.0, 1.0, 3.0, 2.0, 3.0, 3.0, 1.0, 3.0, 2.0, 2.0, 2.0, 4.0, 2.0, 1.0, 1.0, 1.0, 3.0, 1.0, 1.0, 1.0, 1.0, 2.0, 2.0, 1.0, 2.0, 3.0, 3.0, 1.0, 3.0, 3.0, 1.0, 1.0, 2.0, 2.0, 1.0, 2.0, 2.0, 1.0, 2.0, 1.0, 3.0, 2.0, 1.0, 1.0, 1.0, 2.0, 1.0, 3.0, 2.0, 1.0, 1.0, 4.0, 4.0, 2.0, 1.0, 2.0, 1.0, 3.0, 2.0, 2.0, 1.0, 1.0, 1.0, 1.0, 3.0, 2.0, 3.0, 2.0, 1.0, 2.0, 2.0, 3.0, 2.0, 2.0, 1.0, 2.0, 3.0, 1.0, 3.0, 3.0, 2.0, 1.0, 3.0, 1.0, 2.0, 1.0, 1.0, 2.0, 1.0, 2.0, 2.0, 1.0, 1.0, 1.0, 3.0, 3.0, 3.0, 1.0, 1.0, 2.0, 3.0, 1.0, 2.0, 2.0, 1.0, 1.0, 1.0, 4.0, 1.0, 2.0, 3.0, 3.0, 3.0, 2.0, 2.0, 3.0, 2.0, 2.0, 3.0, 2.0, 2.0, 2.0, 3.0, 2.0, 3.0, 2.0, 4.0, 1.0, 2.0, 3.0, 3.0, 1.0, 2.0, 1.0, 1.0, 2.0, 1.0, 1.0, 2.0, 2.0, 2.0, 1.0, 3.0, 1.0, 2.0, 2.0, 3.0, 4.0, 2.0, 1.0, 2.0, 3.0, 2.0, 2.0, 1.0, 2.0, 3.0, 1.0, 3.0, 1.0, 3.0, 1.0, 1.0, 1.0, 1.0, 3.0, 2.0, 2.0, 1.0, 1.0, 2.0, 2.0, 1.0, 2.0, 1.0, 2.0, 2.0, 2.0, 1.0, 2.0, 1.0, 1.0, 1.0, 2.0, 2.0, 3.0, 2.0, 2.0, 2.0, 1.0, 2.0, 3.0, 2.0, 1.0, 1.0, 1.0, 4.0, 3.0, 2.0, 2.0, 4.0, 3.0, 2.0, 1.0, 3.0, 1.0, 1.0, 1.0, 2.0, 2.0, 3.0, 1.0, 1.0, 2.0, 3.0, 2.0, 1.0, 2.0, 3.0, 2.0, 2.0, 2.0, 2.0, 3.0, 2.0, 2.0, 1.0, 2.0, 2.0, 2.0, 1.0, 2.0, 3.0, 3.0, 1.0, 2.0, 1.0, 1.0, 1.0, 2.0, 2.0, 1.0, 1.0, 1.0, 1.0, 1.0, 2.0, 1.0, 2.0, 1.0, 1.0, 3.0, 3.0, 1.0, 2.0, 1.0, 2.0, 2.0, 3.0, 3.0, 2.0, 2.0, 2.0, 2.0, 1.0, 4.0, 2.0, 3.0, 2.0, 2.0, 2.0, 1.0, 2.0, 3.0, 2.0, 1.0, 1.0, 3.0, 1.0, 4.0, 1.0, 2.0, 2.0, 2.0, 5.0, 1.0, 1.0, 3.0, 2.0, 3.0, 2.0, 3.0, 1.0, 3.0, 3.0, 1.0, 3.0, 1.0, 1.0, 3.0, 1.0, 1.0, 1.0, 2.0, 1.0, 4.0, 2.0, 3.0, 1.0, 3.0, 4.0, 2.0, 1.0, 1.0, 2.0, 2.0, 1.0, 2.0, 3.0, 1.0, 1.0, 1.0, 2.0, 3.0, 3.0, 3.0, 2.0, 3.0, 1.0, 1.0, 1.0, 2.0, 1.0, 3.0, 1.0, 2.0, 4.0, 1.0, 4.0, 1.0, 3.0, 2.0, 3.0, 1.0, 1.0, 2.0, 3.0, 1.0, 5.0, 1.0, 1.0, 3.0, 1.0, 1.0, 1.0, 2.0, 3.0, 2.0, 1.0, 2.0, 1.0, 2.0, 1.0, 2.0, 3.0, 1.0, 1.0, 1.0, 5.0, 1.0, 1.0, 2.0, 2.0, 2.0, 2.0, 1.0, 3.0, 2.0, 3.0, 1.0, 2.0, 1.0, 3.0, 3.0, 2.0, 1.0, 2.0, 1.0, 3.0, 4.0, 3.0, 4.0, 4.0, 1.0, 2.0, 1.0, 2.0, 2.0, 1.0, 1.0, 3.0, 1.0, 5.0, 2.0, 2.0, 1.0, 2.0, 3.0, 1.0, 2.0, 2.0, 1.0, 1.0, 2.0, 2.0, 2.0, 4.0, 2.0, 2.0, 4.0, 2.0, 1.0, 2.0, 2.0, 2.0, 1.0, 3.0, 3.0, 3.0, 1.0, 4.055555555555555, 2.0, 3.0, 3.0, 3.0, 1.0, 2.0, 2.0, 3.0, 3.0, 1.0, 2.0, 4.0, 3.0, 1.0, 1.0, 3.0, 2.0, 2.0, 3.0, 3.0, 2.0, 3.0, 3.0, 3.0, 2.0, 1.0, 1.0, 3.0, 2.0, 1.0, 3.0, 3.0, 2.0, 2.0, 1.0, 2.0, 1.0, 3.0, 3.0, 2.0, 2.0, 2.0, 1.0, 2.0, 1.0, 3.0, 2.0, 3.0, 1.0, 1.0, 1.0, 2.0, 2.0, 1.0, 2.0, 1.0, 1.0, 2.0, 1.0, 1.0, 2.0, 2.0, 2.0, 3.0, 1.0, 2.0, 1.0, 2.0, 3.0, 1.0, 1.0, 2.0, 2.0, 1.0, 1.0, 4.0, 2.0, 1.0, 3.0, 1.0, 2.0, 1.0, 1.0, 2.0, 2.0, 2.0, 3.0, 1.0, 3.0, 2.0, 1.0, 1.0, 1.0, 2.0, 1.0, 2.0, 2.0, 2.0, 3.0, 1.0, 1.0, 2.0, 2.0, 3.0, 3.0, 3.0, 3.0, 2.0, 3.0, 2.0, 2.0, 2.0, 2.0, 2.0, 2.0, 2.0, 2.0, 1.0, 1.0, 1.0, 2.0, 1.0, 2.0, 1.0, 2.0, 1.0, 1.0, 1.0, 3.0, 2.0, 1.0, 1.0, 5.0, 2.0, 3.0, 4.0, 2.0, 1.0, 1.0, 1.0, 1.0, 2.0, 1.0, 2.0, 2.0, 1.0, 1.0, 3.0, 2.0, 2.0, 1.0, 2.0, 2.0, 1.0, 2.0, 2.0, 2.0, 3.0, 1.0, 3.0, 1.0, 2.0, 2.0, 2.0, 2.0, 2.0, 1.0, 5.0, 1.0, 2.0, 2.0, 1.0, 3.0, 1.0, 1.0, 1.0, 1.0, 2.0, 1.0, 1.0, 3.0, 2.0, 3.0, 1.0, 4.0, 1.0, 1.0, 2.0, 1.0, 3.0, 2.0, 1.0, 2.0, 3.0, 4.0, 2.0, 2.0, 2.0, 2.0, 1.0, 1.0, 1.0, 2.0, 1.0, 1.0, 2.0, 1.0, 2.0, 1.0, 3.0, 2.0, 3.0, 1.0, 2.0, 1.0, 3.0, 4.0, 2.0, 1.0, 2.0, 2.0, 3.0, 2.0, 2.0, 2.0, 1.0, 2.0, 3.0, 2.0, 3.0, 2.0, 2.0, 1.0, 4.0, 3.0, 4.0, 3.0, 3.0, 2.0, 3.0, 1.0, 1.0, 2.0, 2.0, 3.0, 2.0, 2.0, 2.0, 1.0, 2.0, 1.0, 1.0, 3.0, 2.0, 2.0, 2.0, 2.0, 3.0, 1.0, 2.0, 1.0, 1.0, 3.0, 2.0, 1.0, 1.0, 1.0, 1.0, 3.0, 1.0, 1.0, 2.0, 1.0, 3.0, 2.0, 1.0, 2.0, 2.0, 2.0, 2.0, 3.0, 1.0, 1.0, 3.0, 2.0, 2.0, 1.0, 1.0, 3.0, 2.0, 3.0, 2.0, 2.0, 2.0, 1.0, 3.0, 2.0, 3.0, 2.0, 1.0, 1.0, 3.0, 5.0, 1.0, 2.0, 2.0, 1.0, 2.0, 1.0, 3.0, 3.0, 2.0, 1.0, 3.0, 2.0, 1.0, 5.0, 1.0, 4.0, 1.0, 4.0, 3.0, 3.0, 1.0, 3.0, 2.0, 1.0, 1.0, 3.0, 2.0, 1.0, 2.0, 1.0, 3.0, 1.0, 1.0, 3.0, 1.0, 2.0, 3.0, 2.0, 3.0, 2.0, 3.0, 1.0, 1.0, 4.0, 2.0, 1.0, 2.0, 1.0, 2.0, 2.0, 3.0, 2.0, 1.0, 2.0, 1.0, 1.0, 3.0, 3.0, 1.0, 1.0, 3.0, 3.0, 1.0, 2.0, 2.0, 1.0, 1.0, 2.0, 2.0, 2.0, 1.0, 2.0, 1.0, 3.0, 3.0, 3.0, 1.0, 1.0, 2.0, 3.0, 4.0, 3.0, 2.0, 4.0, 3.0, 2.0, 1.0, 1.0, 2.0, 1.0, 4.0, 2.0, 1.0, 2.0, 2.0, 1.0, 2.0, 2.0, 2.0, 3.0, 1.0, 4.0, 2.0, 1.0, 3.0, 2.0, 3.0, 1.0, 1.0, 2.0, 1.0, 1.0, 1.0, 2.0, 1.0, 2.0, 1.0, 1.0, 2.0, 1.0, 1.0, 1.0, 2.0, 1.0, 3.0, 4.0, 3.0, 3.0, 1.0, 2.0, 1.0, 1.0, 2.0, 3.0, 3.0, 1.0, 1.0, 1.0, 1.0, 3.0, 3.0, 2.0, 1.0, 2.0, 2.0, 2.0, 3.0, 1.0, 1.0, 1.0, 2.0, 2.0, 2.0, 1.0, 1.0, 1.0, 2.0, 2.0, 2.0, 1.0, 2.0, 1.0, 2.0, 2.0, 1.0, 2.0, 2.0, 2.0, 1.0, 1.0, 2.0, 4.0, 3.0, 2.0, 2.0, 1.0, 1.0, 2.0, 4.0, 1.0, 2.0, 3.0, 2.0, 1.0, 2.0, 3.0, 4.0, 1.0, 2.0, 2.0, 1.0, 3.0, 2.0, 2.0, 3.0, 2.0, 2.0, 1.0, 3.0, 4.0, 2.0, 1.0, 1.0, 1.0, 1.0, 2.0, 1.0, 1.0, 1.0, 2.0, 3.0, 2.0, 1.0, 1.0, 1.0, 1.0, 1.0, 2.0, 1.0, 5.0, 3.0, 2.0, 1.0, 1.0, 1.0, 3.0, 2.0, 2.0, 2.0, 3.0, 2.0, 1.0, 3.0, 2.0, 2.0, 1.0, 1.0, 2.0, 3.0, 1.0, 1.0, 2.0, 1.0], \"xaxis\": \"x\", \"yaxis\": \"y\"}],\n",
              "                        {\"barmode\": \"relative\", \"legend\": {\"tracegroupgap\": 0}, \"template\": {\"data\": {\"bar\": [{\"error_x\": {\"color\": \"#2a3f5f\"}, \"error_y\": {\"color\": \"#2a3f5f\"}, \"marker\": {\"line\": {\"color\": \"#E5ECF6\", \"width\": 0.5}}, \"type\": \"bar\"}], \"barpolar\": [{\"marker\": {\"line\": {\"color\": \"#E5ECF6\", \"width\": 0.5}}, \"type\": \"barpolar\"}], \"carpet\": [{\"aaxis\": {\"endlinecolor\": \"#2a3f5f\", \"gridcolor\": \"white\", \"linecolor\": \"white\", \"minorgridcolor\": \"white\", \"startlinecolor\": \"#2a3f5f\"}, \"baxis\": {\"endlinecolor\": \"#2a3f5f\", \"gridcolor\": \"white\", \"linecolor\": \"white\", \"minorgridcolor\": \"white\", \"startlinecolor\": \"#2a3f5f\"}, \"type\": \"carpet\"}], \"choropleth\": [{\"colorbar\": {\"outlinewidth\": 0, \"ticks\": \"\"}, \"type\": \"choropleth\"}], \"contour\": [{\"colorbar\": {\"outlinewidth\": 0, \"ticks\": \"\"}, \"colorscale\": [[0.0, \"#0d0887\"], [0.1111111111111111, \"#46039f\"], [0.2222222222222222, \"#7201a8\"], [0.3333333333333333, \"#9c179e\"], [0.4444444444444444, \"#bd3786\"], [0.5555555555555556, \"#d8576b\"], [0.6666666666666666, \"#ed7953\"], [0.7777777777777778, \"#fb9f3a\"], [0.8888888888888888, \"#fdca26\"], [1.0, \"#f0f921\"]], \"type\": \"contour\"}], \"contourcarpet\": [{\"colorbar\": {\"outlinewidth\": 0, \"ticks\": \"\"}, \"type\": \"contourcarpet\"}], \"heatmap\": [{\"colorbar\": {\"outlinewidth\": 0, \"ticks\": \"\"}, \"colorscale\": [[0.0, \"#0d0887\"], [0.1111111111111111, \"#46039f\"], [0.2222222222222222, \"#7201a8\"], [0.3333333333333333, \"#9c179e\"], [0.4444444444444444, \"#bd3786\"], [0.5555555555555556, \"#d8576b\"], [0.6666666666666666, \"#ed7953\"], [0.7777777777777778, \"#fb9f3a\"], [0.8888888888888888, \"#fdca26\"], [1.0, \"#f0f921\"]], \"type\": \"heatmap\"}], \"heatmapgl\": [{\"colorbar\": {\"outlinewidth\": 0, \"ticks\": \"\"}, \"colorscale\": [[0.0, \"#0d0887\"], [0.1111111111111111, \"#46039f\"], [0.2222222222222222, \"#7201a8\"], [0.3333333333333333, \"#9c179e\"], [0.4444444444444444, \"#bd3786\"], [0.5555555555555556, \"#d8576b\"], [0.6666666666666666, \"#ed7953\"], [0.7777777777777778, \"#fb9f3a\"], [0.8888888888888888, \"#fdca26\"], [1.0, \"#f0f921\"]], \"type\": \"heatmapgl\"}], \"histogram\": [{\"marker\": {\"colorbar\": {\"outlinewidth\": 0, \"ticks\": \"\"}}, \"type\": \"histogram\"}], \"histogram2d\": [{\"colorbar\": {\"outlinewidth\": 0, \"ticks\": \"\"}, \"colorscale\": [[0.0, \"#0d0887\"], [0.1111111111111111, \"#46039f\"], [0.2222222222222222, \"#7201a8\"], [0.3333333333333333, \"#9c179e\"], [0.4444444444444444, \"#bd3786\"], [0.5555555555555556, \"#d8576b\"], [0.6666666666666666, \"#ed7953\"], [0.7777777777777778, \"#fb9f3a\"], [0.8888888888888888, \"#fdca26\"], [1.0, \"#f0f921\"]], \"type\": \"histogram2d\"}], \"histogram2dcontour\": [{\"colorbar\": {\"outlinewidth\": 0, \"ticks\": \"\"}, \"colorscale\": [[0.0, \"#0d0887\"], [0.1111111111111111, \"#46039f\"], [0.2222222222222222, \"#7201a8\"], [0.3333333333333333, \"#9c179e\"], [0.4444444444444444, \"#bd3786\"], [0.5555555555555556, \"#d8576b\"], [0.6666666666666666, \"#ed7953\"], [0.7777777777777778, \"#fb9f3a\"], [0.8888888888888888, \"#fdca26\"], [1.0, \"#f0f921\"]], \"type\": \"histogram2dcontour\"}], \"mesh3d\": [{\"colorbar\": {\"outlinewidth\": 0, \"ticks\": \"\"}, \"type\": \"mesh3d\"}], \"parcoords\": [{\"line\": {\"colorbar\": {\"outlinewidth\": 0, \"ticks\": \"\"}}, \"type\": \"parcoords\"}], \"pie\": [{\"automargin\": true, \"type\": \"pie\"}], \"scatter\": [{\"marker\": {\"colorbar\": {\"outlinewidth\": 0, \"ticks\": \"\"}}, \"type\": \"scatter\"}], \"scatter3d\": [{\"line\": {\"colorbar\": {\"outlinewidth\": 0, \"ticks\": \"\"}}, \"marker\": {\"colorbar\": {\"outlinewidth\": 0, \"ticks\": \"\"}}, \"type\": \"scatter3d\"}], \"scattercarpet\": [{\"marker\": {\"colorbar\": {\"outlinewidth\": 0, \"ticks\": \"\"}}, \"type\": \"scattercarpet\"}], \"scattergeo\": [{\"marker\": {\"colorbar\": {\"outlinewidth\": 0, \"ticks\": \"\"}}, \"type\": \"scattergeo\"}], \"scattergl\": [{\"marker\": {\"colorbar\": {\"outlinewidth\": 0, \"ticks\": \"\"}}, \"type\": \"scattergl\"}], \"scattermapbox\": [{\"marker\": {\"colorbar\": {\"outlinewidth\": 0, \"ticks\": \"\"}}, \"type\": \"scattermapbox\"}], \"scatterpolar\": [{\"marker\": {\"colorbar\": {\"outlinewidth\": 0, \"ticks\": \"\"}}, \"type\": \"scatterpolar\"}], \"scatterpolargl\": [{\"marker\": {\"colorbar\": {\"outlinewidth\": 0, \"ticks\": \"\"}}, \"type\": \"scatterpolargl\"}], \"scatterternary\": [{\"marker\": {\"colorbar\": {\"outlinewidth\": 0, \"ticks\": \"\"}}, \"type\": \"scatterternary\"}], \"surface\": [{\"colorbar\": {\"outlinewidth\": 0, \"ticks\": \"\"}, \"colorscale\": [[0.0, \"#0d0887\"], [0.1111111111111111, \"#46039f\"], [0.2222222222222222, \"#7201a8\"], [0.3333333333333333, \"#9c179e\"], [0.4444444444444444, \"#bd3786\"], [0.5555555555555556, \"#d8576b\"], [0.6666666666666666, \"#ed7953\"], [0.7777777777777778, \"#fb9f3a\"], [0.8888888888888888, \"#fdca26\"], [1.0, \"#f0f921\"]], \"type\": \"surface\"}], \"table\": [{\"cells\": {\"fill\": {\"color\": \"#EBF0F8\"}, \"line\": {\"color\": \"white\"}}, \"header\": {\"fill\": {\"color\": \"#C8D4E3\"}, \"line\": {\"color\": \"white\"}}, \"type\": \"table\"}]}, \"layout\": {\"annotationdefaults\": {\"arrowcolor\": \"#2a3f5f\", \"arrowhead\": 0, \"arrowwidth\": 1}, \"coloraxis\": {\"colorbar\": {\"outlinewidth\": 0, \"ticks\": \"\"}}, \"colorscale\": {\"diverging\": [[0, \"#8e0152\"], [0.1, \"#c51b7d\"], [0.2, \"#de77ae\"], [0.3, \"#f1b6da\"], [0.4, \"#fde0ef\"], [0.5, \"#f7f7f7\"], [0.6, \"#e6f5d0\"], [0.7, \"#b8e186\"], [0.8, \"#7fbc41\"], [0.9, \"#4d9221\"], [1, \"#276419\"]], \"sequential\": [[0.0, \"#0d0887\"], [0.1111111111111111, \"#46039f\"], [0.2222222222222222, \"#7201a8\"], [0.3333333333333333, \"#9c179e\"], [0.4444444444444444, \"#bd3786\"], [0.5555555555555556, \"#d8576b\"], [0.6666666666666666, \"#ed7953\"], [0.7777777777777778, \"#fb9f3a\"], [0.8888888888888888, \"#fdca26\"], [1.0, \"#f0f921\"]], \"sequentialminus\": [[0.0, \"#0d0887\"], [0.1111111111111111, \"#46039f\"], [0.2222222222222222, \"#7201a8\"], [0.3333333333333333, \"#9c179e\"], [0.4444444444444444, \"#bd3786\"], [0.5555555555555556, \"#d8576b\"], [0.6666666666666666, \"#ed7953\"], [0.7777777777777778, \"#fb9f3a\"], [0.8888888888888888, \"#fdca26\"], [1.0, \"#f0f921\"]]}, \"colorway\": [\"#636efa\", \"#EF553B\", \"#00cc96\", \"#ab63fa\", \"#FFA15A\", \"#19d3f3\", \"#FF6692\", \"#B6E880\", \"#FF97FF\", \"#FECB52\"], \"font\": {\"color\": \"#2a3f5f\"}, \"geo\": {\"bgcolor\": \"white\", \"lakecolor\": \"white\", \"landcolor\": \"#E5ECF6\", \"showlakes\": true, \"showland\": true, \"subunitcolor\": \"white\"}, \"hoverlabel\": {\"align\": \"left\"}, \"hovermode\": \"closest\", \"mapbox\": {\"style\": \"light\"}, \"paper_bgcolor\": \"white\", \"plot_bgcolor\": \"#E5ECF6\", \"polar\": {\"angularaxis\": {\"gridcolor\": \"white\", \"linecolor\": \"white\", \"ticks\": \"\"}, \"bgcolor\": \"#E5ECF6\", \"radialaxis\": {\"gridcolor\": \"white\", \"linecolor\": \"white\", \"ticks\": \"\"}}, \"scene\": {\"xaxis\": {\"backgroundcolor\": \"#E5ECF6\", \"gridcolor\": \"white\", \"gridwidth\": 2, \"linecolor\": \"white\", \"showbackground\": true, \"ticks\": \"\", \"zerolinecolor\": \"white\"}, \"yaxis\": {\"backgroundcolor\": \"#E5ECF6\", \"gridcolor\": \"white\", \"gridwidth\": 2, \"linecolor\": \"white\", \"showbackground\": true, \"ticks\": \"\", \"zerolinecolor\": \"white\"}, \"zaxis\": {\"backgroundcolor\": \"#E5ECF6\", \"gridcolor\": \"white\", \"gridwidth\": 2, \"linecolor\": \"white\", \"showbackground\": true, \"ticks\": \"\", \"zerolinecolor\": \"white\"}}, \"shapedefaults\": {\"line\": {\"color\": \"#2a3f5f\"}}, \"ternary\": {\"aaxis\": {\"gridcolor\": \"white\", \"linecolor\": \"white\", \"ticks\": \"\"}, \"baxis\": {\"gridcolor\": \"white\", \"linecolor\": \"white\", \"ticks\": \"\"}, \"bgcolor\": \"#E5ECF6\", \"caxis\": {\"gridcolor\": \"white\", \"linecolor\": \"white\", \"ticks\": \"\"}}, \"title\": {\"x\": 0.05}, \"xaxis\": {\"automargin\": true, \"gridcolor\": \"white\", \"linecolor\": \"white\", \"ticks\": \"\", \"title\": {\"standoff\": 15}, \"zerolinecolor\": \"white\", \"zerolinewidth\": 2}, \"yaxis\": {\"automargin\": true, \"gridcolor\": \"white\", \"linecolor\": \"white\", \"ticks\": \"\", \"title\": {\"standoff\": 15}, \"zerolinecolor\": \"white\", \"zerolinewidth\": 2}}}, \"title\": {\"text\": \" \"}, \"xaxis\": {\"anchor\": \"y\", \"domain\": [0.0, 1.0], \"title\": {\"text\": \"Designation\"}}, \"yaxis\": {\"anchor\": \"x\", \"domain\": [0.0, 1.0], \"title\": {\"text\": \"count\"}}},\n",
              "                        {\"responsive\": true}\n",
              "                    ).then(function(){\n",
              "                            \n",
              "var gd = document.getElementById('58e76557-df00-4c3e-9af1-2c504cd74da3');\n",
              "var x = new MutationObserver(function (mutations, observer) {{\n",
              "        var display = window.getComputedStyle(gd).display;\n",
              "        if (!display || display === 'none') {{\n",
              "            console.log([gd, 'removed!']);\n",
              "            Plotly.purge(gd);\n",
              "            observer.disconnect();\n",
              "        }}\n",
              "}});\n",
              "\n",
              "// Listen for the removal of the full notebook cells\n",
              "var notebookContainer = gd.closest('#notebook-container');\n",
              "if (notebookContainer) {{\n",
              "    x.observe(notebookContainer, {childList: true});\n",
              "}}\n",
              "\n",
              "// Listen for the clearing of the current output cell\n",
              "var outputEl = gd.closest('.output');\n",
              "if (outputEl) {{\n",
              "    x.observe(outputEl, {childList: true});\n",
              "}}\n",
              "\n",
              "                        })\n",
              "                };\n",
              "                \n",
              "            </script>\n",
              "        </div>\n",
              "</body>\n",
              "</html>"
            ]
          },
          "metadata": {
            "tags": []
          }
        },
        {
          "output_type": "display_data",
          "data": {
            "text/html": [
              "<html>\n",
              "<head><meta charset=\"utf-8\" /></head>\n",
              "<body>\n",
              "    <div>\n",
              "            <script src=\"https://cdnjs.cloudflare.com/ajax/libs/mathjax/2.7.5/MathJax.js?config=TeX-AMS-MML_SVG\"></script><script type=\"text/javascript\">if (window.MathJax) {MathJax.Hub.Config({SVG: {font: \"STIX-Web\"}});}</script>\n",
              "                <script type=\"text/javascript\">window.PlotlyConfig = {MathJaxConfig: 'local'};</script>\n",
              "        <script src=\"https://cdn.plot.ly/plotly-latest.min.js\"></script>    \n",
              "            <div id=\"92f163cb-5912-4b90-a810-e8ebeba0e233\" class=\"plotly-graph-div\" style=\"height:525px; width:100%;\"></div>\n",
              "            <script type=\"text/javascript\">\n",
              "                \n",
              "                    window.PLOTLYENV=window.PLOTLYENV || {};\n",
              "                    \n",
              "                if (document.getElementById(\"92f163cb-5912-4b90-a810-e8ebeba0e233\")) {\n",
              "                    Plotly.newPlot(\n",
              "                        '92f163cb-5912-4b90-a810-e8ebeba0e233',\n",
              "                        [{\"alignmentgroup\": \"True\", \"hoverlabel\": {\"namelength\": 0}, \"hovertemplate\": \"Designation=%{y}\", \"legendgroup\": \"\", \"marker\": {\"color\": \"rgb(102, 197, 204)\"}, \"name\": \"\", \"notched\": false, \"offsetgroup\": \"\", \"orientation\": \"v\", \"showlegend\": false, \"type\": \"box\", \"x0\": \" \", \"xaxis\": \"x\", \"y\": [2.0, 3.0, 1.0, 3.0, 3.0, 3.4166666666666665, 3.0, 2.0, 4.0, 3.0, 1.0, 3.0, 4.388888888888889, 1.0, 3.25, 1.0, 3.0, 2.0, 3.0, 2.0, 2.0, 4.0, 2.0, 1.0, 3.0, 3.0, 2.0, 1.0, 1.0, 3.0, 3.0, 5.0, 2.0, 2.0, 3.0, 3.0, 2.0, 2.0, 2.0, 3.0, 2.0, 3.0, 3.0, 2.0, 3.0, 3.0, 3.0, 1.0, 1.0, 1.0, 3.0, 2.0, 1.0, 3.0, 3.0, 2.0, 3.0, 3.0, 3.0, 1.0, 1.0, 1.0, 4.0, 2.0, 1.0, 2.0, 3.25, 3.0, 3.0, 2.0, 2.0, 2.0, 1.0, 2.0, 3.0, 2.0, 5.0, 3.0, 1.0, 1.25, 2.0, 3.0, 3.0, 3.0, 3.0, 2.0, 2.0, 2.0, 2.0, 4.0, 3.0, 4.0, 2.0, 2.0, 1.125, 1.0, 3.0, 2.0, 3.0, 3.0, 1.0, 3.0, 2.0, 3.0, 4.0, 2.0, 2.0, 3.0, 2.0, 2.0, 2.0, 2.0, 2.0, 2.0, 3.0, 3.0, 3.0, 3.0, 3.0, 2.25, 4.0, 3.0, 1.0, 3.0, 4.0, 1.0, 3.0, 4.0, 2.0, 3.0, 3.0, 3.0, 3.0, 3.0, 2.0, 3.0, 2.0, 3.0, 3.0, 2.0, 3.0, 1.0, 2.0, 1.0, 1.0, 3.0, 2.0, 1.0, 3.0, 2.230769230769231, 1.0, 3.0, 3.0, 1.0, 2.0, 3.0, 1.0, 3.0, 2.0, 1.0, 4.0, 1.0, 3.0, 3.1666666666666665, 3.0, 1.0, 3.0, 1.0, 1.0416666666666667, 1.0, 2.142857142857143, 2.0, 3.0, 3.0, 2.0, 2.0, 2.0, 3.0, 2.0, 2.0, 3.0, 1.0, 3.0, 3.0, 3.0, 3.0, 4.125, 2.0, 3.0, 2.0, 1.0, 3.0, 1.0, 2.0, 3.0, 2.0, 1.0, 2.0, 1.0, 2.0, 1.0, 4.0, 4.0, 3.0, 2.0, 3.0, 1.0, 3.0, 2.0, 2.0, 2.125, 3.0, 3.0, 1.0, 1.0, 3.0, 3.0, 1.0, 3.0, 3.0, 2.0, 2.0, 2.0, 2.0, 1.0, 4.0, 1.0, 3.0, 3.0, 2.0, 2.0, 2.3333333333333335, 3.0, 3.0, 3.0, 3.0, 3.0, 2.0, 1.0, 2.0, 4.0, 1.0, 3.0, 3.0, 1.0, 3.0, 2.0, 4.0, 2.0, 3.0, 2.0, 3.0, 3.0, 2.0, 1.125, 3.0, 2.0, 2.0, 3.0, 3.0, 3.0, 2.0, 3.0, 1.0, 1.0, 3.0, 2.0, 1.0, 2.0, 2.0, 3.0, 3.0, 1.0, 3.0, 3.0, 3.0, 3.0, 4.0, 2.0, 1.0, 2.0, 1.0, 3.0, 3.0, 2.0, 1.0, 1.0, 2.125, 1.0, 4.0, 4.0, 3.0, 1.0416666666666667, 2.0, 3.0, 2.0, 3.0, 1.0, 3.0, 1.0, 1.0, 3.0, 3.0, 4.0, 3.0, 2.0, 2.0, 2.0, 3.0, 3.0, 4.0, 3.0, 2.0, 2.0, 2.0, 1.0, 3.0, 1.0, 2.0, 2.0, 4.0, 3.0, 3.0, 1.0, 3.0, 2.25, 3.0, 2.1666666666666665, 3.0, 1.0, 3.0, 3.0, 4.0, 4.0, 2.0, 4.0, 2.0, 2.0, 2.0, 1.0, 3.0, 2.0, 2.0555555555555554, 3.0, 2.0, 1.0, 2.0, 2.0, 1.0, 2.0, 3.0, 3.0, 1.0, 4.0, 3.0, 1.0833333333333333, 2.0, 2.0, 2.0, 1.0, 2.0, 5.0, 2.0, 3.25, 1.0, 2.0, 1.0, 3.0, 1.0, 3.0, 2.25, 2.0, 3.0, 3.0, 1.1578947368421053, 1.0, 4.0, 3.0, 3.0, 2.0, 2.0, 2.0, 1.0, 1.0, 2.0, 2.0, 3.0, 3.0, 2.0, 2.0, 3.0, 3.0, 3.0, 2.0, 1.0, 1.0, 3.0, 3.0, 2.0, 3.0, 3.0, 3.0, 4.0, 3.0, 2.0, 2.0, 3.0, 3.0, 4.0, 4.0, 2.0, 2.0, 3.0, 2.0, 3.0, 3.0, 3.0, 3.0, 3.0, 1.0, 1.0, 2.0, 1.0, 2.0, 3.0, 2.0, 2.0, 2.0, 2.0, 1.0, 2.0, 2.0, 1.0, 3.0, 4.0, 3.0, 1.0, 3.0, 2.0, 2.0, 2.0, 3.0, 3.0, 4.0, 2.0, 2.0, 1.0, 3.0, 2.0, 4.0, 2.0, 3.0, 2.0, 4.0, 1.0, 3.0, 2.0, 2.0, 1.0, 2.0, 2.0, 2.0, 2.0, 2.0, 1.0, 2.0, 3.0, 3.0, 2.0, 1.0, 2.0, 2.0, 1.0, 1.0, 3.0, 4.0, 3.0, 1.0, 3.0, 3.0, 3.0416666666666665, 3.0, 2.0, 3.0, 2.25, 2.0, 2.0, 1.0, 2.0, 3.0, 3.0, 1.0, 2.0, 3.0, 2.0, 2.0416666666666665, 3.0, 1.0, 3.0, 2.0, 2.0, 1.0, 2.0416666666666665, 3.0, 2.1666666666666665, 1.0, 1.0, 3.0, 3.0, 2.0, 2.0, 2.0, 3.0, 2.0, 1.0, 2.0, 2.0, 1.0, 2.0416666666666665, 2.0, 2.0, 2.0, 1.0, 3.0, 3.0, 2.0, 1.0, 3.0, 3.0, 1.0, 2.0, 1.0, 1.0, 3.0, 2.0, 2.0, 3.0, 1.0, 1.125, 2.0, 2.0, 2.0, 4.0, 2.0, 2.0, 3.0, 2.0, 3.0, 2.0, 2.0, 3.0, 1.0, 2.0, 3.25, 2.0, 3.0, 2.0, 2.1666666666666665, 1.0, 3.0, 2.0, 2.0, 3.0, 3.0, 2.0, 5.0, 4.0, 5.0, 3.0, 2.0, 2.0, 3.0, 3.0, 2.0, 2.0, 1.0, 3.0, 2.0, 2.0, 4.0, 4.0, 1.0, 3.0, 4.0, 2.1666666666666665, 3.0, 3.0, 2.0, 2.0, 3.0, 4.0, 3.0, 1.0, 1.0, 2.0, 3.0, 2.0, 3.0, 3.0, 3.0, 1.0, 4.0, 2.0, 3.0, 3.0, 2.0, 1.0, 2.347826086956522, 3.0, 3.0, 2.0, 2.0, 2.0, 2.0, 3.0, 4.0, 1.0, 2.0, 2.0, 4.0, 2.0, 3.0, 2.0, 1.0, 2.0, 3.0, 3.0, 3.0, 1.0, 1.0, 3.0, 4.0, 3.0, 2.0, 4.0, 1.0, 1.25, 2.0, 4.0, 1.0, 1.0416666666666667, 2.0, 2.0, 3.0, 5.0, 4.0, 3.0, 3.0, 2.0, 1.0, 2.0, 2.0, 2.0, 2.0, 3.0, 1.0, 1.0, 3.0, 1.0, 1.0, 2.0, 4.0, 1.0, 1.0, 3.0, 1.0, 3.0, 1.0, 1.0, 2.0, 4.0, 1.0, 5.0, 1.0, 2.0, 3.0, 4.0, 2.25, 2.0, 3.0, 1.0, 1.0, 3.0, 3.0, 2.0, 3.25, 4.0, 2.0, 3.0, 2.0, 2.0, 4.0, 2.0, 3.0, 1.0, 4.0, 4.0, 2.125, 3.0, 2.0, 3.0, 2.0, 3.0, 2.0, 3.0, 3.0, 3.0, 3.0, 2.0, 4.0, 1.0, 3.0, 3.0, 1.0, 3.0, 2.125, 4.0, 3.0, 1.0, 3.0, 3.0, 2.0, 3.0, 3.0, 1.0, 4.0, 2.0, 2.0, 2.0, 5.0, 1.0, 3.0, 3.0, 2.0, 3.0, 4.0, 3.0, 2.0, 2.0, 3.0, 2.0, 1.0, 2.0, 1.0, 3.0, 1.0, 4.0, 2.0, 1.0, 1.0, 3.0, 1.0, 1.0, 2.0, 1.0, 3.0, 2.0, 3.0, 2.0, 2.0, 1.0, 2.0, 2.0, 1.0, 1.0, 1.0, 2.0, 3.0, 4.0, 1.0, 2.0, 2.0, 1.0, 1.0, 2.0, 2.0, 2.0, 1.0, 3.0, 2.0, 2.0, 4.0, 2.0, 3.0, 3.0, 1.0, 1.0, 2.0, 2.0, 2.0, 2.0, 2.0, 3.0, 3.0, 2.176470588235294, 2.0, 1.0, 1.0, 2.0, 1.0, 3.0, 3.0, 3.0, 1.0, 3.0, 1.0, 1.0, 3.0, 3.0, 3.0, 3.0, 1.0, 1.0, 3.0, 2.0, 3.0, 2.0, 1.0, 1.0, 1.0, 2.0, 2.0, 1.0, 1.0, 1.0, 3.0, 2.0, 3.0, 4.0, 2.0, 5.0, 1.0, 3.0, 1.0, 1.0, 1.0, 1.0, 3.0, 1.0, 4.0, 2.0, 1.0, 2.0, 3.0, 2.0, 3.0, 1.0, 1.0, 1.0, 1.0, 2.0, 1.0, 4.0, 1.0, 1.0, 2.0, 3.0, 2.0, 4.0, 2.0, 2.0, 1.0, 3.0, 3.0, 3.0, 3.0, 3.0, 2.0, 3.0, 1.0, 3.0, 1.0, 2.0, 2.0, 2.0, 3.0, 1.0, 3.0, 2.0, 2.0, 3.0, 1.0, 4.0, 2.0, 1.0, 1.0, 1.0, 2.0, 1.0, 1.0, 2.0, 2.0, 2.0, 2.0, 1.0, 3.0, 1.0, 3.0, 2.0, 2.0, 3.0, 1.0, 3.0, 1.0, 1.0, 4.0, 2.0, 2.0, 2.0, 1.0, 1.0, 2.0, 3.0, 1.0, 2.0, 3.0, 1.0, 2.0, 1.0, 3.0454545454545454, 2.0, 3.0, 3.0, 1.0, 2.0, 1.0, 3.0, 1.0, 2.0, 1.0, 2.0, 1.0, 3.0, 1.0, 1.0, 1.0, 2.0, 4.0, 2.0, 3.0, 1.0, 3.0, 1.0, 3.0, 3.0, 3.0, 2.0, 2.0, 1.0, 1.0, 1.0, 3.0, 2.0, 1.0, 2.0, 1.0, 2.0, 1.0, 2.0, 1.0, 1.0, 2.0, 4.0, 1.0, 2.0, 1.0, 3.0, 2.0, 1.0, 2.0, 2.0, 1.0, 1.0, 2.0, 1.0, 3.0, 3.0, 2.0, 1.0, 2.0, 1.0, 2.0, 2.0, 4.0, 1.0, 1.0, 3.0, 1.0, 4.0, 2.0, 1.0, 3.0, 2.0, 2.0, 5.0, 4.0, 1.0, 2.0, 2.0, 2.0, 1.0, 3.0, 2.0, 2.0, 3.0, 1.0, 2.0, 3.0, 1.0, 1.0, 1.0, 2.0, 1.0, 2.0, 1.0, 1.0, 2.0, 1.0, 2.0, 1.0, 2.0, 1.0, 1.0, 2.0, 1.0, 2.0, 4.0, 2.0, 1.0, 2.0, 2.0, 2.0, 1.0, 1.0, 2.0, 1.0, 1.0, 3.0, 4.0, 3.0, 3.0, 3.0, 4.0, 2.0, 2.0, 1.0, 1.0, 4.0, 1.0, 3.0, 2.0, 2.0, 2.0, 2.0, 1.0, 3.0, 2.0, 1.0, 2.0, 2.0, 3.0, 1.0, 1.0, 2.0, 2.0, 2.0, 3.0, 3.0, 2.0, 2.0, 3.0, 1.0, 2.0, 3.0, 2.0, 2.0, 3.0, 2.0, 2.0, 2.0, 3.0, 1.0, 2.0, 1.0, 2.0, 2.0, 1.0, 1.0, 2.0, 2.0, 3.0, 1.0, 1.0, 2.0, 2.0, 2.0, 2.0, 3.0, 1.0, 3.0, 4.0, 3.0, 4.0, 1.0, 1.0, 3.0, 4.0, 2.0, 2.0, 2.0, 3.0, 1.0, 3.0, 2.0, 2.0, 3.0, 2.0, 1.0, 3.0, 4.0, 1.0, 1.0, 2.0, 1.0, 2.0, 1.0, 2.0, 2.0, 1.0, 3.0, 1.0, 3.0, 1.0, 2.0, 3.0, 3.0, 3.0, 3.0, 1.0, 3.0, 5.0, 3.0, 2.0, 2.0, 1.0, 1.0, 2.0, 2.0, 1.0, 4.0, 1.0, 2.0, 3.0, 3.0, 1.0, 2.0, 2.0, 3.0, 3.0, 2.0, 3.0, 2.0, 1.0, 3.0, 1.0, 2.0, 2.0, 2.0, 2.0, 2.0, 1.0, 3.0, 2.0, 3.0, 3.0, 2.0, 2.0, 2.0, 2.0, 1.0, 2.0, 2.0, 2.0, 1.0, 2.0, 1.0, 3.0, 3.0, 2.0, 1.0, 2.0, 2.0, 1.0, 3.0, 1.0, 2.0, 2.0, 3.0, 2.0, 1.0, 2.0, 1.0, 2.0, 2.0, 4.0, 2.0, 1.0, 2.0, 2.0, 3.0, 4.0, 1.0, 2.0, 2.0, 2.0, 3.0, 2.0, 1.0, 1.0, 1.0, 4.0, 1.0, 2.0, 1.0, 2.0, 1.0, 4.0, 3.0, 2.0, 2.0, 2.0, 2.0, 4.0, 1.0, 1.0, 1.0, 1.0, 2.0, 3.0, 1.0, 1.0, 1.0, 1.0, 2.0, 2.0, 1.0, 2.0, 2.0, 1.0, 3.0, 1.0, 1.0, 1.0, 1.0, 1.0, 2.0, 2.0, 1.0, 2.0, 2.0, 1.0, 3.0, 2.0, 1.0, 3.0, 1.0, 2.0, 3.0, 4.0, 1.0, 3.0, 2.0, 3.0, 3.0, 1.0, 1.0, 3.0, 1.0, 3.0, 2.0, 1.0, 1.0, 2.0, 2.0, 2.0, 1.0, 3.0, 3.0, 2.0, 1.0, 1.0, 1.0, 2.0, 1.0, 2.0, 2.0, 1.0, 2.0, 3.0, 1.0, 2.0, 1.0, 1.0, 3.0, 1.0, 1.0, 2.0, 1.0, 2.0, 1.0, 3.0, 4.0, 2.0, 3.0, 2.0, 2.0, 3.0, 1.0, 3.0, 1.0, 1.0, 2.0, 1.0, 1.0, 2.0, 3.0, 3.0, 2.0, 3.0, 3.0, 2.0, 1.0, 2.0, 2.0, 1.0, 2.0, 1.0, 2.0, 3.0, 3.0, 3.0, 3.0, 2.0, 1.0, 2.0, 1.0, 3.0, 1.0, 1.0, 2.0, 1.0, 1.0, 2.0, 2.0, 1.0, 1.0, 1.0, 2.0, 1.0, 2.0, 3.0, 1.0, 3.0, 1.0, 3.0, 1.0, 1.0, 1.0, 1.0, 1.0, 2.0, 3.0, 2.0, 2.0, 2.0, 1.0, 2.0, 1.0, 3.0, 2.0, 3.0, 3.0, 1.0, 3.0, 2.0, 2.0, 2.0, 4.0, 2.0, 1.0, 1.0, 1.0, 3.0, 1.0, 1.0, 1.0, 1.0, 2.0, 2.0, 1.0, 2.0, 3.0, 3.0, 1.0, 3.0, 3.0, 1.0, 1.0, 2.0, 2.0, 1.0, 2.0, 2.0, 1.0, 2.0, 1.0, 3.0, 2.0, 1.0, 1.0, 1.0, 2.0, 1.0, 3.0, 2.0, 1.0, 1.0, 4.0, 4.0, 2.0, 1.0, 2.0, 1.0, 3.0, 2.0, 2.0, 1.0, 1.0, 1.0, 1.0, 3.0, 2.0, 3.0, 2.0, 1.0, 2.0, 2.0, 3.0, 2.0, 2.0, 1.0, 2.0, 3.0, 1.0, 3.0, 3.0, 2.0, 1.0, 3.0, 1.0, 2.0, 1.0, 1.0, 2.0, 1.0, 2.0, 2.0, 1.0, 1.0, 1.0, 3.0, 3.0, 3.0, 1.0, 1.0, 2.0, 3.0, 1.0, 2.0, 2.0, 1.0, 1.0, 1.0, 4.0, 1.0, 2.0, 3.0, 3.0, 3.0, 2.0, 2.0, 3.0, 2.0, 2.0, 3.0, 2.0, 2.0, 2.0, 3.0, 2.0, 3.0, 2.0, 4.0, 1.0, 2.0, 3.0, 3.0, 1.0, 2.0, 1.0, 1.0, 2.0, 1.0, 1.0, 2.0, 2.0, 2.0, 1.0, 3.0, 1.0, 2.0, 2.0, 3.0, 4.0, 2.0, 1.0, 2.0, 3.0, 2.0, 2.0, 1.0, 2.0, 3.0, 1.0, 3.0, 1.0, 3.0, 1.0, 1.0, 1.0, 1.0, 3.0, 2.0, 2.0, 1.0, 1.0, 2.0, 2.0, 1.0, 2.0, 1.0, 2.0, 2.0, 2.0, 1.0, 2.0, 1.0, 1.0, 1.0, 2.0, 2.0, 3.0, 2.0, 2.0, 2.0, 1.0, 2.0, 3.0, 2.0, 1.0, 1.0, 1.0, 4.0, 3.0, 2.0, 2.0, 4.0, 3.0, 2.0, 1.0, 3.0, 1.0, 1.0, 1.0, 2.0, 2.0, 3.0, 1.0, 1.0, 2.0, 3.0, 2.0, 1.0, 2.0, 3.0, 2.0, 2.0, 2.0, 2.0, 3.0, 2.0, 2.0, 1.0, 2.0, 2.0, 2.0, 1.0, 2.0, 3.0, 3.0, 1.0, 2.0, 1.0, 1.0, 1.0, 2.0, 2.0, 1.0, 1.0, 1.0, 1.0, 1.0, 2.0, 1.0, 2.0, 1.0, 1.0, 3.0, 3.0, 1.0, 2.0, 1.0, 2.0, 2.0, 3.0, 3.0, 2.0, 2.0, 2.0, 2.0, 1.0, 4.0, 2.0, 3.0, 2.0, 2.0, 2.0, 1.0, 2.0, 3.0, 2.0, 1.0, 1.0, 3.0, 1.0, 4.0, 1.0, 2.0, 2.0, 2.0, 5.0, 1.0, 1.0, 3.0, 2.0, 3.0, 2.0, 3.0, 1.0, 3.0, 3.0, 1.0, 3.0, 1.0, 1.0, 3.0, 1.0, 1.0, 1.0, 2.0, 1.0, 4.0, 2.0, 3.0, 1.0, 3.0, 4.0, 2.0, 1.0, 1.0, 2.0, 2.0, 1.0, 2.0, 3.0, 1.0, 1.0, 1.0, 2.0, 3.0, 3.0, 3.0, 2.0, 3.0, 1.0, 1.0, 1.0, 2.0, 1.0, 3.0, 1.0, 2.0, 4.0, 1.0, 4.0, 1.0, 3.0, 2.0, 3.0, 1.0, 1.0, 2.0, 3.0, 1.0, 5.0, 1.0, 1.0, 3.0, 1.0, 1.0, 1.0, 2.0, 3.0, 2.0, 1.0, 2.0, 1.0, 2.0, 1.0, 2.0, 3.0, 1.0, 1.0, 1.0, 5.0, 1.0, 1.0, 2.0, 2.0, 2.0, 2.0, 1.0, 3.0, 2.0, 3.0, 1.0, 2.0, 1.0, 3.0, 3.0, 2.0, 1.0, 2.0, 1.0, 3.0, 4.0, 3.0, 4.0, 4.0, 1.0, 2.0, 1.0, 2.0, 2.0, 1.0, 1.0, 3.0, 1.0, 5.0, 2.0, 2.0, 1.0, 2.0, 3.0, 1.0, 2.0, 2.0, 1.0, 1.0, 2.0, 2.0, 2.0, 4.0, 2.0, 2.0, 4.0, 2.0, 1.0, 2.0, 2.0, 2.0, 1.0, 3.0, 3.0, 3.0, 1.0, 4.055555555555555, 2.0, 3.0, 3.0, 3.0, 1.0, 2.0, 2.0, 3.0, 3.0, 1.0, 2.0, 4.0, 3.0, 1.0, 1.0, 3.0, 2.0, 2.0, 3.0, 3.0, 2.0, 3.0, 3.0, 3.0, 2.0, 1.0, 1.0, 3.0, 2.0, 1.0, 3.0, 3.0, 2.0, 2.0, 1.0, 2.0, 1.0, 3.0, 3.0, 2.0, 2.0, 2.0, 1.0, 2.0, 1.0, 3.0, 2.0, 3.0, 1.0, 1.0, 1.0, 2.0, 2.0, 1.0, 2.0, 1.0, 1.0, 2.0, 1.0, 1.0, 2.0, 2.0, 2.0, 3.0, 1.0, 2.0, 1.0, 2.0, 3.0, 1.0, 1.0, 2.0, 2.0, 1.0, 1.0, 4.0, 2.0, 1.0, 3.0, 1.0, 2.0, 1.0, 1.0, 2.0, 2.0, 2.0, 3.0, 1.0, 3.0, 2.0, 1.0, 1.0, 1.0, 2.0, 1.0, 2.0, 2.0, 2.0, 3.0, 1.0, 1.0, 2.0, 2.0, 3.0, 3.0, 3.0, 3.0, 2.0, 3.0, 2.0, 2.0, 2.0, 2.0, 2.0, 2.0, 2.0, 2.0, 1.0, 1.0, 1.0, 2.0, 1.0, 2.0, 1.0, 2.0, 1.0, 1.0, 1.0, 3.0, 2.0, 1.0, 1.0, 5.0, 2.0, 3.0, 4.0, 2.0, 1.0, 1.0, 1.0, 1.0, 2.0, 1.0, 2.0, 2.0, 1.0, 1.0, 3.0, 2.0, 2.0, 1.0, 2.0, 2.0, 1.0, 2.0, 2.0, 2.0, 3.0, 1.0, 3.0, 1.0, 2.0, 2.0, 2.0, 2.0, 2.0, 1.0, 5.0, 1.0, 2.0, 2.0, 1.0, 3.0, 1.0, 1.0, 1.0, 1.0, 2.0, 1.0, 1.0, 3.0, 2.0, 3.0, 1.0, 4.0, 1.0, 1.0, 2.0, 1.0, 3.0, 2.0, 1.0, 2.0, 3.0, 4.0, 2.0, 2.0, 2.0, 2.0, 1.0, 1.0, 1.0, 2.0, 1.0, 1.0, 2.0, 1.0, 2.0, 1.0, 3.0, 2.0, 3.0, 1.0, 2.0, 1.0, 3.0, 4.0, 2.0, 1.0, 2.0, 2.0, 3.0, 2.0, 2.0, 2.0, 1.0, 2.0, 3.0, 2.0, 3.0, 2.0, 2.0, 1.0, 4.0, 3.0, 4.0, 3.0, 3.0, 2.0, 3.0, 1.0, 1.0, 2.0, 2.0, 3.0, 2.0, 2.0, 2.0, 1.0, 2.0, 1.0, 1.0, 3.0, 2.0, 2.0, 2.0, 2.0, 3.0, 1.0, 2.0, 1.0, 1.0, 3.0, 2.0, 1.0, 1.0, 1.0, 1.0, 3.0, 1.0, 1.0, 2.0, 1.0, 3.0, 2.0, 1.0, 2.0, 2.0, 2.0, 2.0, 3.0, 1.0, 1.0, 3.0, 2.0, 2.0, 1.0, 1.0, 3.0, 2.0, 3.0, 2.0, 2.0, 2.0, 1.0, 3.0, 2.0, 3.0, 2.0, 1.0, 1.0, 3.0, 5.0, 1.0, 2.0, 2.0, 1.0, 2.0, 1.0, 3.0, 3.0, 2.0, 1.0, 3.0, 2.0, 1.0, 5.0, 1.0, 4.0, 1.0, 4.0, 3.0, 3.0, 1.0, 3.0, 2.0, 1.0, 1.0, 3.0, 2.0, 1.0, 2.0, 1.0, 3.0, 1.0, 1.0, 3.0, 1.0, 2.0, 3.0, 2.0, 3.0, 2.0, 3.0, 1.0, 1.0, 4.0, 2.0, 1.0, 2.0, 1.0, 2.0, 2.0, 3.0, 2.0, 1.0, 2.0, 1.0, 1.0, 3.0, 3.0, 1.0, 1.0, 3.0, 3.0, 1.0, 2.0, 2.0, 1.0, 1.0, 2.0, 2.0, 2.0, 1.0, 2.0, 1.0, 3.0, 3.0, 3.0, 1.0, 1.0, 2.0, 3.0, 4.0, 3.0, 2.0, 4.0, 3.0, 2.0, 1.0, 1.0, 2.0, 1.0, 4.0, 2.0, 1.0, 2.0, 2.0, 1.0, 2.0, 2.0, 2.0, 3.0, 1.0, 4.0, 2.0, 1.0, 3.0, 2.0, 3.0, 1.0, 1.0, 2.0, 1.0, 1.0, 1.0, 2.0, 1.0, 2.0, 1.0, 1.0, 2.0, 1.0, 1.0, 1.0, 2.0, 1.0, 3.0, 4.0, 3.0, 3.0, 1.0, 2.0, 1.0, 1.0, 2.0, 3.0, 3.0, 1.0, 1.0, 1.0, 1.0, 3.0, 3.0, 2.0, 1.0, 2.0, 2.0, 2.0, 3.0, 1.0, 1.0, 1.0, 2.0, 2.0, 2.0, 1.0, 1.0, 1.0, 2.0, 2.0, 2.0, 1.0, 2.0, 1.0, 2.0, 2.0, 1.0, 2.0, 2.0, 2.0, 1.0, 1.0, 2.0, 4.0, 3.0, 2.0, 2.0, 1.0, 1.0, 2.0, 4.0, 1.0, 2.0, 3.0, 2.0, 1.0, 2.0, 3.0, 4.0, 1.0, 2.0, 2.0, 1.0, 3.0, 2.0, 2.0, 3.0, 2.0, 2.0, 1.0, 3.0, 4.0, 2.0, 1.0, 1.0, 1.0, 1.0, 2.0, 1.0, 1.0, 1.0, 2.0, 3.0, 2.0, 1.0, 1.0, 1.0, 1.0, 1.0, 2.0, 1.0, 5.0, 3.0, 2.0, 1.0, 1.0, 1.0, 3.0, 2.0, 2.0, 2.0, 3.0, 2.0, 1.0, 3.0, 2.0, 2.0, 1.0, 1.0, 2.0, 3.0, 1.0, 1.0, 2.0, 1.0], \"y0\": \" \", \"yaxis\": \"y\"}],\n",
              "                        {\"boxmode\": \"group\", \"legend\": {\"tracegroupgap\": 0}, \"margin\": {\"t\": 60}, \"template\": {\"data\": {\"bar\": [{\"error_x\": {\"color\": \"#2a3f5f\"}, \"error_y\": {\"color\": \"#2a3f5f\"}, \"marker\": {\"line\": {\"color\": \"#E5ECF6\", \"width\": 0.5}}, \"type\": \"bar\"}], \"barpolar\": [{\"marker\": {\"line\": {\"color\": \"#E5ECF6\", \"width\": 0.5}}, \"type\": \"barpolar\"}], \"carpet\": [{\"aaxis\": {\"endlinecolor\": \"#2a3f5f\", \"gridcolor\": \"white\", \"linecolor\": \"white\", \"minorgridcolor\": \"white\", \"startlinecolor\": \"#2a3f5f\"}, \"baxis\": {\"endlinecolor\": \"#2a3f5f\", \"gridcolor\": \"white\", \"linecolor\": \"white\", \"minorgridcolor\": \"white\", \"startlinecolor\": \"#2a3f5f\"}, \"type\": \"carpet\"}], \"choropleth\": [{\"colorbar\": {\"outlinewidth\": 0, \"ticks\": \"\"}, \"type\": \"choropleth\"}], \"contour\": [{\"colorbar\": {\"outlinewidth\": 0, \"ticks\": \"\"}, \"colorscale\": [[0.0, \"#0d0887\"], [0.1111111111111111, \"#46039f\"], [0.2222222222222222, \"#7201a8\"], [0.3333333333333333, \"#9c179e\"], [0.4444444444444444, \"#bd3786\"], [0.5555555555555556, \"#d8576b\"], [0.6666666666666666, \"#ed7953\"], [0.7777777777777778, \"#fb9f3a\"], [0.8888888888888888, \"#fdca26\"], [1.0, \"#f0f921\"]], \"type\": \"contour\"}], \"contourcarpet\": [{\"colorbar\": {\"outlinewidth\": 0, \"ticks\": \"\"}, \"type\": \"contourcarpet\"}], \"heatmap\": [{\"colorbar\": {\"outlinewidth\": 0, \"ticks\": \"\"}, \"colorscale\": [[0.0, \"#0d0887\"], [0.1111111111111111, \"#46039f\"], [0.2222222222222222, \"#7201a8\"], [0.3333333333333333, \"#9c179e\"], [0.4444444444444444, \"#bd3786\"], [0.5555555555555556, \"#d8576b\"], [0.6666666666666666, \"#ed7953\"], [0.7777777777777778, \"#fb9f3a\"], [0.8888888888888888, \"#fdca26\"], [1.0, \"#f0f921\"]], \"type\": \"heatmap\"}], \"heatmapgl\": [{\"colorbar\": {\"outlinewidth\": 0, \"ticks\": \"\"}, \"colorscale\": [[0.0, \"#0d0887\"], [0.1111111111111111, \"#46039f\"], [0.2222222222222222, \"#7201a8\"], [0.3333333333333333, \"#9c179e\"], [0.4444444444444444, \"#bd3786\"], [0.5555555555555556, \"#d8576b\"], [0.6666666666666666, \"#ed7953\"], [0.7777777777777778, \"#fb9f3a\"], [0.8888888888888888, \"#fdca26\"], [1.0, \"#f0f921\"]], \"type\": \"heatmapgl\"}], \"histogram\": [{\"marker\": {\"colorbar\": {\"outlinewidth\": 0, \"ticks\": \"\"}}, \"type\": \"histogram\"}], \"histogram2d\": [{\"colorbar\": {\"outlinewidth\": 0, \"ticks\": \"\"}, \"colorscale\": [[0.0, \"#0d0887\"], [0.1111111111111111, \"#46039f\"], [0.2222222222222222, \"#7201a8\"], [0.3333333333333333, \"#9c179e\"], [0.4444444444444444, \"#bd3786\"], [0.5555555555555556, \"#d8576b\"], [0.6666666666666666, \"#ed7953\"], [0.7777777777777778, \"#fb9f3a\"], [0.8888888888888888, \"#fdca26\"], [1.0, \"#f0f921\"]], \"type\": \"histogram2d\"}], \"histogram2dcontour\": [{\"colorbar\": {\"outlinewidth\": 0, \"ticks\": \"\"}, \"colorscale\": [[0.0, \"#0d0887\"], [0.1111111111111111, \"#46039f\"], [0.2222222222222222, \"#7201a8\"], [0.3333333333333333, \"#9c179e\"], [0.4444444444444444, \"#bd3786\"], [0.5555555555555556, \"#d8576b\"], [0.6666666666666666, \"#ed7953\"], [0.7777777777777778, \"#fb9f3a\"], [0.8888888888888888, \"#fdca26\"], [1.0, \"#f0f921\"]], \"type\": \"histogram2dcontour\"}], \"mesh3d\": [{\"colorbar\": {\"outlinewidth\": 0, \"ticks\": \"\"}, \"type\": \"mesh3d\"}], \"parcoords\": [{\"line\": {\"colorbar\": {\"outlinewidth\": 0, \"ticks\": \"\"}}, \"type\": \"parcoords\"}], \"pie\": [{\"automargin\": true, \"type\": \"pie\"}], \"scatter\": [{\"marker\": {\"colorbar\": {\"outlinewidth\": 0, \"ticks\": \"\"}}, \"type\": \"scatter\"}], \"scatter3d\": [{\"line\": {\"colorbar\": {\"outlinewidth\": 0, \"ticks\": \"\"}}, \"marker\": {\"colorbar\": {\"outlinewidth\": 0, \"ticks\": \"\"}}, \"type\": \"scatter3d\"}], \"scattercarpet\": [{\"marker\": {\"colorbar\": {\"outlinewidth\": 0, \"ticks\": \"\"}}, \"type\": \"scattercarpet\"}], \"scattergeo\": [{\"marker\": {\"colorbar\": {\"outlinewidth\": 0, \"ticks\": \"\"}}, \"type\": \"scattergeo\"}], \"scattergl\": [{\"marker\": {\"colorbar\": {\"outlinewidth\": 0, \"ticks\": \"\"}}, \"type\": \"scattergl\"}], \"scattermapbox\": [{\"marker\": {\"colorbar\": {\"outlinewidth\": 0, \"ticks\": \"\"}}, \"type\": \"scattermapbox\"}], \"scatterpolar\": [{\"marker\": {\"colorbar\": {\"outlinewidth\": 0, \"ticks\": \"\"}}, \"type\": \"scatterpolar\"}], \"scatterpolargl\": [{\"marker\": {\"colorbar\": {\"outlinewidth\": 0, \"ticks\": \"\"}}, \"type\": \"scatterpolargl\"}], \"scatterternary\": [{\"marker\": {\"colorbar\": {\"outlinewidth\": 0, \"ticks\": \"\"}}, \"type\": \"scatterternary\"}], \"surface\": [{\"colorbar\": {\"outlinewidth\": 0, \"ticks\": \"\"}, \"colorscale\": [[0.0, \"#0d0887\"], [0.1111111111111111, \"#46039f\"], [0.2222222222222222, \"#7201a8\"], [0.3333333333333333, \"#9c179e\"], [0.4444444444444444, \"#bd3786\"], [0.5555555555555556, \"#d8576b\"], [0.6666666666666666, \"#ed7953\"], [0.7777777777777778, \"#fb9f3a\"], [0.8888888888888888, \"#fdca26\"], [1.0, \"#f0f921\"]], \"type\": \"surface\"}], \"table\": [{\"cells\": {\"fill\": {\"color\": \"#EBF0F8\"}, \"line\": {\"color\": \"white\"}}, \"header\": {\"fill\": {\"color\": \"#C8D4E3\"}, \"line\": {\"color\": \"white\"}}, \"type\": \"table\"}]}, \"layout\": {\"annotationdefaults\": {\"arrowcolor\": \"#2a3f5f\", \"arrowhead\": 0, \"arrowwidth\": 1}, \"coloraxis\": {\"colorbar\": {\"outlinewidth\": 0, \"ticks\": \"\"}}, \"colorscale\": {\"diverging\": [[0, \"#8e0152\"], [0.1, \"#c51b7d\"], [0.2, \"#de77ae\"], [0.3, \"#f1b6da\"], [0.4, \"#fde0ef\"], [0.5, \"#f7f7f7\"], [0.6, \"#e6f5d0\"], [0.7, \"#b8e186\"], [0.8, \"#7fbc41\"], [0.9, \"#4d9221\"], [1, \"#276419\"]], \"sequential\": [[0.0, \"#0d0887\"], [0.1111111111111111, \"#46039f\"], [0.2222222222222222, \"#7201a8\"], [0.3333333333333333, \"#9c179e\"], [0.4444444444444444, \"#bd3786\"], [0.5555555555555556, \"#d8576b\"], [0.6666666666666666, \"#ed7953\"], [0.7777777777777778, \"#fb9f3a\"], [0.8888888888888888, \"#fdca26\"], [1.0, \"#f0f921\"]], \"sequentialminus\": [[0.0, \"#0d0887\"], [0.1111111111111111, \"#46039f\"], [0.2222222222222222, \"#7201a8\"], [0.3333333333333333, \"#9c179e\"], [0.4444444444444444, \"#bd3786\"], [0.5555555555555556, \"#d8576b\"], [0.6666666666666666, \"#ed7953\"], [0.7777777777777778, \"#fb9f3a\"], [0.8888888888888888, \"#fdca26\"], [1.0, \"#f0f921\"]]}, \"colorway\": [\"#636efa\", \"#EF553B\", \"#00cc96\", \"#ab63fa\", \"#FFA15A\", \"#19d3f3\", \"#FF6692\", \"#B6E880\", \"#FF97FF\", \"#FECB52\"], \"font\": {\"color\": \"#2a3f5f\"}, \"geo\": {\"bgcolor\": \"white\", \"lakecolor\": \"white\", \"landcolor\": \"#E5ECF6\", \"showlakes\": true, \"showland\": true, \"subunitcolor\": \"white\"}, \"hoverlabel\": {\"align\": \"left\"}, \"hovermode\": \"closest\", \"mapbox\": {\"style\": \"light\"}, \"paper_bgcolor\": \"white\", \"plot_bgcolor\": \"#E5ECF6\", \"polar\": {\"angularaxis\": {\"gridcolor\": \"white\", \"linecolor\": \"white\", \"ticks\": \"\"}, \"bgcolor\": \"#E5ECF6\", \"radialaxis\": {\"gridcolor\": \"white\", \"linecolor\": \"white\", \"ticks\": \"\"}}, \"scene\": {\"xaxis\": {\"backgroundcolor\": \"#E5ECF6\", \"gridcolor\": \"white\", \"gridwidth\": 2, \"linecolor\": \"white\", \"showbackground\": true, \"ticks\": \"\", \"zerolinecolor\": \"white\"}, \"yaxis\": {\"backgroundcolor\": \"#E5ECF6\", \"gridcolor\": \"white\", \"gridwidth\": 2, \"linecolor\": \"white\", \"showbackground\": true, \"ticks\": \"\", \"zerolinecolor\": \"white\"}, \"zaxis\": {\"backgroundcolor\": \"#E5ECF6\", \"gridcolor\": \"white\", \"gridwidth\": 2, \"linecolor\": \"white\", \"showbackground\": true, \"ticks\": \"\", \"zerolinecolor\": \"white\"}}, \"shapedefaults\": {\"line\": {\"color\": \"#2a3f5f\"}}, \"ternary\": {\"aaxis\": {\"gridcolor\": \"white\", \"linecolor\": \"white\", \"ticks\": \"\"}, \"baxis\": {\"gridcolor\": \"white\", \"linecolor\": \"white\", \"ticks\": \"\"}, \"bgcolor\": \"#E5ECF6\", \"caxis\": {\"gridcolor\": \"white\", \"linecolor\": \"white\", \"ticks\": \"\"}}, \"title\": {\"x\": 0.05}, \"xaxis\": {\"automargin\": true, \"gridcolor\": \"white\", \"linecolor\": \"white\", \"ticks\": \"\", \"title\": {\"standoff\": 15}, \"zerolinecolor\": \"white\", \"zerolinewidth\": 2}, \"yaxis\": {\"automargin\": true, \"gridcolor\": \"white\", \"linecolor\": \"white\", \"ticks\": \"\", \"title\": {\"standoff\": 15}, \"zerolinecolor\": \"white\", \"zerolinewidth\": 2}}}, \"xaxis\": {\"anchor\": \"y\", \"domain\": [0.0, 1.0]}, \"yaxis\": {\"anchor\": \"x\", \"domain\": [0.0, 1.0], \"title\": {\"text\": \"Designation\"}}},\n",
              "                        {\"responsive\": true}\n",
              "                    ).then(function(){\n",
              "                            \n",
              "var gd = document.getElementById('92f163cb-5912-4b90-a810-e8ebeba0e233');\n",
              "var x = new MutationObserver(function (mutations, observer) {{\n",
              "        var display = window.getComputedStyle(gd).display;\n",
              "        if (!display || display === 'none') {{\n",
              "            console.log([gd, 'removed!']);\n",
              "            Plotly.purge(gd);\n",
              "            observer.disconnect();\n",
              "        }}\n",
              "}});\n",
              "\n",
              "// Listen for the removal of the full notebook cells\n",
              "var notebookContainer = gd.closest('#notebook-container');\n",
              "if (notebookContainer) {{\n",
              "    x.observe(notebookContainer, {childList: true});\n",
              "}}\n",
              "\n",
              "// Listen for the clearing of the current output cell\n",
              "var outputEl = gd.closest('.output');\n",
              "if (outputEl) {{\n",
              "    x.observe(outputEl, {childList: true});\n",
              "}}\n",
              "\n",
              "                        })\n",
              "                };\n",
              "                \n",
              "            </script>\n",
              "        </div>\n",
              "</body>\n",
              "</html>"
            ]
          },
          "metadata": {
            "tags": []
          }
        }
      ]
    },
    {
      "cell_type": "markdown",
      "metadata": {
        "id": "qRh6i86bKqkU"
      },
      "source": [
        "### Quarterly Rating"
      ]
    },
    {
      "cell_type": "code",
      "metadata": {
        "colab": {
          "base_uri": "https://localhost:8080/",
          "height": 0
        },
        "id": "IaajF1q1Kuqq",
        "outputId": "d833fcbf-b615-4dff-92f7-7a09180e1ce6"
      },
      "source": [
        "plot_graphs(train_pivot, 'Quarterly Rating')"
      ],
      "execution_count": 985,
      "outputs": [
        {
          "output_type": "display_data",
          "data": {
            "text/html": [
              "<html>\n",
              "<head><meta charset=\"utf-8\" /></head>\n",
              "<body>\n",
              "    <div>\n",
              "            <script src=\"https://cdnjs.cloudflare.com/ajax/libs/mathjax/2.7.5/MathJax.js?config=TeX-AMS-MML_SVG\"></script><script type=\"text/javascript\">if (window.MathJax) {MathJax.Hub.Config({SVG: {font: \"STIX-Web\"}});}</script>\n",
              "                <script type=\"text/javascript\">window.PlotlyConfig = {MathJaxConfig: 'local'};</script>\n",
              "        <script src=\"https://cdn.plot.ly/plotly-latest.min.js\"></script>    \n",
              "            <div id=\"8a6700de-4863-494c-8247-904143cbcc54\" class=\"plotly-graph-div\" style=\"height:525px; width:100%;\"></div>\n",
              "            <script type=\"text/javascript\">\n",
              "                \n",
              "                    window.PLOTLYENV=window.PLOTLYENV || {};\n",
              "                    \n",
              "                if (document.getElementById(\"8a6700de-4863-494c-8247-904143cbcc54\")) {\n",
              "                    Plotly.newPlot(\n",
              "                        '8a6700de-4863-494c-8247-904143cbcc54',\n",
              "                        [{\"alignmentgroup\": \"True\", \"bingroup\": \"x\", \"hoverlabel\": {\"namelength\": 0}, \"hovertemplate\": \"left=False<br>Quarterly Rating=%{x}<br>count=%{y}\", \"legendgroup\": \"left=False\", \"marker\": {\"color\": \"rgb(102, 197, 204)\"}, \"name\": \"left=False\", \"offsetgroup\": \"left=False\", \"orientation\": \"v\", \"showlegend\": true, \"type\": \"histogram\", \"x\": [1.0, 1.6, 1.0, 1.0, 3.75, 3.0833333333333335, 1.5, 2.4, 2.0, 2.7142857142857144, 2.0, 1.5, 2.2222222222222223, 2.875, 3.5, 1.0, 1.875, 2.5, 3.25, 1.0, 3.0, 2.625, 1.0, 1.0, 3.25, 1.0, 1.6, 1.6666666666666667, 2.875, 1.0, 2.125, 2.5, 1.6, 1.0, 1.0, 1.75, 3.142857142857143, 2.625, 1.0, 3.0, 3.2, 2.75, 1.0, 1.2142857142857142, 2.6153846153846154, 1.3333333333333333, 3.25, 2.0, 1.0, 1.0, 1.0, 2.25, 1.6, 2.0, 1.0, 1.5, 1.0, 1.0, 2.875, 2.125, 1.0, 1.8571428571428572, 3.142857142857143, 2.263157894736842, 1.0, 1.0, 2.875, 1.5, 1.0, 1.0, 1.0, 1.0, 1.0, 3.0, 1.0, 1.0, 2.625, 1.0, 1.0, 4.0, 1.5, 3.0, 2.125, 1.0, 1.0, 1.9230769230769231, 1.6, 1.0, 2.1538461538461537, 2.1, 1.8571428571428572, 2.4210526315789473, 2.5, 1.0, 3.75, 2.875, 2.0, 2.2, 2.5, 1.0, 1.0, 2.0, 1.4615384615384615, 2.5, 2.125, 1.0, 2.8, 3.125, 1.0, 3.0, 1.0, 1.0, 2.5, 1.0, 1.0, 3.0, 2.125, 2.0, 2.875, 3.75, 1.375, 2.7142857142857144, 1.6923076923076923, 2.090909090909091, 2.125, 1.0, 3.0, 2.3333333333333335, 2.0, 1.0, 1.0, 1.0, 1.4285714285714286, 2.875, 1.9230769230769231, 3.0, 1.0, 1.0, 1.625, 1.0, 1.0, 1.0, 1.0, 1.6666666666666667, 3.0, 1.6, 1.75, 2.0, 1.0, 3.769230769230769, 2.0714285714285716, 1.0, 1.0, 1.0, 1.75, 1.0, 2.0, 3.7142857142857144, 3.125, 2.2, 2.5, 1.0, 2.3125, 3.4583333333333335, 3.375, 2.75, 1.5, 1.0, 3.6666666666666665, 3.0, 3.0, 2.6, 3.142857142857143, 2.0, 1.75, 1.0, 1.5, 1.6, 1.0, 3.125, 2.75, 2.7142857142857144, 1.75, 1.75, 1.0, 2.25, 3.125, 2.090909090909091, 1.0, 1.5, 2.3333333333333335, 1.0, 1.5, 1.0, 2.3333333333333335, 2.75, 2.0, 1.0, 2.2, 2.5, 2.1666666666666665, 2.375, 2.8333333333333335, 2.875, 2.375, 2.6363636363636362, 1.0, 2.2, 4.0, 1.0, 3.25, 3.0, 2.7142857142857144, 2.75, 1.0, 1.8, 1.0, 1.4285714285714286, 1.0, 1.0, 1.75, 3.25, 1.0, 1.875, 1.0, 2.375, 2.5294117647058822, 1.0, 2.3333333333333335, 2.2857142857142856, 2.5, 3.5, 3.0, 1.0, 1.6, 1.0, 1.8571428571428572, 1.0, 1.0, 1.0, 2.5, 1.0, 1.0, 1.75, 3.125, 1.0, 1.9230769230769231, 1.5, 2.0, 2.2857142857142856, 4.0, 2.25, 1.0, 1.0, 3.5, 1.0, 2.625, 1.0, 2.0, 2.125, 1.0, 2.375, 2.7142857142857144, 1.0, 3.375, 3.0, 2.875, 2.0, 3.25, 2.0, 1.6, 2.7142857142857144, 1.0, 2.625, 1.0, 1.0, 1.0, 2.375, 3.5, 1.8333333333333333, 1.75, 2.875, 2.0, 1.0, 1.0, 1.0, 1.0, 3.0, 1.6, 2.375, 2.0, 2.375, 2.7083333333333335, 2.5, 1.0, 3.25, 2.7142857142857144, 1.0, 1.4285714285714286, 2.8, 3.0, 1.375, 2.2, 2.75, 2.25, 2.5, 2.0, 2.75, 1.0, 2.875, 2.25, 1.6, 1.0, 1.6, 4.0, 3.7142857142857144, 2.0, 2.625, 2.875, 1.0, 2.25, 2.0, 1.0, 1.0, 1.6, 2.625, 1.0, 3.375, 1.6, 2.9285714285714284, 1.3, 2.75, 2.75, 2.375, 3.0, 2.125, 1.0, 1.0, 2.2, 1.0, 1.75, 1.0, 2.9444444444444446, 1.0, 1.0, 3.0, 2.2, 2.3333333333333335, 2.75, 1.0, 1.75, 1.4, 2.75, 2.875, 3.0, 3.5833333333333335, 3.0, 3.076923076923077, 2.125, 2.5, 1.75, 2.0, 1.0, 3.375, 1.2, 1.5294117647058822, 2.0714285714285716, 2.0, 2.0588235294117645, 1.0, 3.625, 1.0, 1.0, 1.0, 3.6842105263157894, 1.0, 2.5, 2.5, 1.6, 1.0, 1.0, 1.0, 2.625, 2.5, 3.25, 1.0, 1.0, 2.0, 1.5, 1.5, 1.0, 2.0, 1.0, 3.25, 2.0, 1.0, 2.875, 2.2, 2.75, 1.6, 1.0, 2.0, 2.5, 2.7142857142857144, 1.0, 1.0, 1.0, 3.8181818181818183, 2.75, 1.875, 2.2, 1.5, 1.0, 2.875, 1.5, 1.875, 1.0, 1.0, 1.0, 1.0, 3.0, 1.0, 1.0, 1.375, 2.75, 1.0, 2.1052631578947367, 1.0, 2.875, 2.6153846153846154, 1.0, 3.125, 2.375, 1.0, 1.6, 1.0, 3.0, 2.75, 1.0, 1.0, 1.0, 2.25, 1.0, 1.0, 1.0, 2.3846153846153846, 1.0, 1.0, 2.25, 2.125, 1.0, 1.375, 2.625, 2.0, 1.8571428571428572, 2.875, 2.8, 1.3529411764705883, 2.5, 1.6, 1.75, 2.375, 3.375, 1.0, 2.5, 1.0, 3.0, 1.0, 2.625, 1.0, 1.75, 1.0, 2.625, 1.0, 2.7142857142857144, 1.75, 1.6666666666666667, 2.875, 1.0, 1.0, 2.75, 1.0, 4.0, 2.625, 3.75, 1.0, 2.125, 2.0, 1.0, 1.0, 1.8571428571428572, 1.0, 2.75, 1.0, 1.75, 3.0416666666666665, 1.75, 2.5454545454545454, 1.0, 1.75, 2.2857142857142856, 1.0, 2.8333333333333335, 3.0, 3.3333333333333335, 3.1666666666666665, 3.25, 3.375, 2.0, 2.4, 1.0, 2.5, 2.75, 1.0, 1.8571428571428572, 2.0, 3.125, 1.75, 3.2916666666666665, 2.625, 1.0, 2.0, 2.75, 1.0, 1.0, 2.5, 1.2307692307692308, 1.6, 2.0, 2.875, 1.0, 1.8181818181818181, 2.3125, 1.0, 2.2, 2.0714285714285716, 1.75, 1.0, 3.5, 1.75, 2.5454545454545454, 1.0, 2.375, 3.25, 1.0, 2.0, 1.0, 2.5, 3.142857142857143, 2.3333333333333335, 1.75, 1.75, 1.0, 2.5, 2.875, 3.5714285714285716, 1.4285714285714286, 3.0, 1.0, 1.6, 1.0, 1.75, 1.0, 2.5, 2.6, 1.375, 2.5, 2.875, 1.0, 3.25, 2.5, 1.0, 2.0, 1.0, 2.4210526315789473, 2.875, 1.4285714285714286, 2.5, 3.0, 1.0, 2.0, 1.0, 2.6153846153846154, 2.125, 3.75, 3.6, 3.0, 1.0, 2.3333333333333335, 1.0, 3.2857142857142856, 1.75, 3.25, 3.5, 3.25, 1.0, 1.0, 1.0, 1.6428571428571428, 2.375, 1.0, 2.625, 3.0, 3.076923076923077, 2.125, 1.0, 1.0, 3.4347826086956523, 2.0, 1.0, 2.0, 3.25, 2.0, 1.0, 1.0, 1.875, 1.0, 2.75, 1.0, 2.875, 2.8461538461538463, 2.0, 1.0, 2.6153846153846154, 1.0, 3.142857142857143, 1.6, 2.0, 1.0, 1.1875, 1.0, 3.125, 1.0, 3.25, 1.8571428571428572, 2.6666666666666665, 3.0, 1.0, 1.7894736842105263, 2.75, 3.875, 1.0, 1.2, 1.0, 2.625, 2.5, 1.6, 1.0, 2.0, 1.0, 1.4, 1.75, 3.5714285714285716, 2.125, 1.8571428571428572, 2.875, 2.5, 1.0, 1.9473684210526316, 2.2857142857142856, 3.0, 2.25, 3.125, 2.272727272727273, 2.0, 2.0, 1.0, 3.125, 2.5, 1.0, 2.25, 1.0, 2.75, 2.3125, 1.0, 1.0, 2.25, 3.375, 3.0, 1.0, 2.75, 2.5, 3.25, 1.75, 1.6, 3.25, 1.75, 1.3333333333333333, 1.0, 2.75, 2.0, 2.0, 2.5, 1.0, 2.0, 2.875, 1.75, 3.125, 1.0, 1.0, 2.3846153846153846, 1.0, 2.909090909090909, 1.0, 1.0, 1.0, 1.0, 2.75, 1.5, 2.25, 2.75, 1.6, 1.0, 2.5, 2.0, 3.25, 2.7142857142857144, 2.0, 2.0714285714285716, 2.75, 1.8571428571428572, 1.0, 2.75, 2.25, 2.6, 1.8823529411764706, 2.3333333333333335, 3.125, 2.0, 2.75, 2.1052631578947367, 2.0, 2.0, 1.0, 1.0, 2.0, 1.0, 1.0, 3.1818181818181817, 2.625, 2.2857142857142856], \"xaxis\": \"x\", \"yaxis\": \"y\"}, {\"alignmentgroup\": \"True\", \"bingroup\": \"x\", \"hoverlabel\": {\"namelength\": 0}, \"hovertemplate\": \"left=True<br>Quarterly Rating=%{x}<br>count=%{y}\", \"legendgroup\": \"left=True\", \"marker\": {\"color\": \"rgb(246, 207, 113)\"}, \"name\": \"left=True\", \"offsetgroup\": \"left=True\", \"orientation\": \"v\", \"showlegend\": true, \"type\": \"histogram\", \"x\": [2.0, 1.0, 1.0, 1.0, 2.5, 1.2608695652173914, 1.0, 1.4285714285714286, 1.0, 1.0, 2.2857142857142856, 2.875, 2.3, 1.6, 1.0, 1.5, 1.0, 2.0, 1.0, 1.0, 1.0, 1.0, 1.0, 1.0, 1.0, 1.2307692307692308, 1.0, 1.6, 1.0, 3.0526315789473686, 1.0, 1.0, 1.0, 1.0, 2.5, 1.8181818181818181, 1.0, 1.0, 1.0, 2.0, 1.0, 1.6, 1.0, 1.0, 2.4, 1.0, 2.0, 2.0, 1.0, 1.0, 2.0, 1.0, 1.0, 3.0, 1.0, 1.6, 1.0, 1.0, 1.0, 2.0, 1.75, 1.0, 1.0, 1.0, 1.6, 1.3333333333333333, 1.0, 1.0, 1.0, 1.0, 1.6666666666666667, 1.4285714285714286, 1.0, 1.375, 1.2727272727272727, 1.0, 1.6, 1.0, 1.0, 1.0, 1.0, 1.0, 1.0, 1.0, 2.2, 1.0, 1.0, 1.0, 1.5, 1.2727272727272727, 1.0, 2.0, 1.0, 1.0, 2.2857142857142856, 1.0, 1.0, 1.0, 1.5, 1.0, 1.6, 2.5, 1.6, 1.8571428571428572, 2.7142857142857144, 2.2, 1.0, 1.0, 1.0, 1.0, 1.6, 1.0, 1.4285714285714286, 1.0, 1.75, 1.375, 1.0, 1.0, 2.7142857142857144, 2.5, 1.0, 1.4285714285714286, 1.0, 1.0, 1.0, 1.3529411764705883, 1.0, 1.75, 1.0, 1.0, 1.5454545454545454, 2.3846153846153846, 2.5, 1.2727272727272727, 1.3, 1.0, 1.0, 1.75, 1.0, 2.625, 3.1176470588235294, 1.7777777777777777, 2.3846153846153846, 1.0, 1.0, 1.0, 1.0, 1.0, 1.0, 1.9, 1.0, 1.6666666666666667, 1.6, 1.0, 1.0, 1.0, 1.9375, 1.4285714285714286, 1.5, 1.4, 2.0, 1.0, 1.0, 1.8888888888888888, 1.4285714285714286, 1.0, 1.0, 1.0, 1.0, 1.0, 1.6, 1.0, 1.0, 1.0, 1.0, 1.0, 1.0, 1.0, 3.727272727272727, 1.0, 1.0, 1.0, 1.0, 1.8, 1.0, 1.0, 1.0, 1.0, 1.0, 1.0, 1.75, 1.0, 1.0, 1.0, 1.6, 1.0, 1.3, 1.0, 1.25, 1.0, 2.3846153846153846, 1.0, 1.0, 1.0, 1.0, 1.0, 1.0, 1.0, 2.8260869565217392, 1.0, 1.375, 1.0, 1.0, 1.0, 1.6, 1.0, 1.0, 1.0, 2.125, 1.9, 1.6666666666666667, 1.6666666666666667, 1.0, 1.0, 1.0, 1.0, 1.375, 1.75, 1.0, 2.0, 1.75, 1.0, 1.0, 1.0, 1.85, 1.0, 1.75, 1.0, 2.2, 1.5, 1.6, 1.375, 1.0, 1.0, 1.8181818181818181, 1.6, 2.2, 3.0, 2.5, 2.2, 1.0, 1.0, 1.0, 1.0, 1.6, 1.0, 1.0, 1.8888888888888888, 1.5714285714285714, 1.0, 1.3, 2.0, 1.0, 1.0, 1.0, 1.0, 1.0, 1.0, 1.0, 2.2, 1.3, 1.6, 1.0, 1.0, 3.076923076923077, 2.2857142857142856, 1.0, 1.875, 1.0, 2.411764705882353, 2.230769230769231, 1.0, 1.0, 1.0, 1.0, 1.6, 1.0, 2.0, 1.6666666666666667, 1.0, 2.6, 1.0, 1.0, 1.0, 1.0, 1.5, 1.0, 1.4615384615384615, 2.3333333333333335, 1.375, 1.5, 1.6428571428571428, 1.8571428571428572, 1.0, 1.0, 1.0, 1.7826086956521738, 1.5, 1.0, 1.45, 1.3, 2.2857142857142856, 1.0, 1.0, 1.0, 1.0, 1.0, 2.0714285714285716, 1.0, 1.5454545454545454, 1.0, 2.35, 1.1666666666666667, 1.0, 1.0, 1.0, 1.0, 1.0, 1.4285714285714286, 1.0, 1.0, 1.4285714285714286, 2.4444444444444446, 1.6, 1.6666666666666667, 1.4285714285714286, 1.0, 1.0, 1.375, 1.5454545454545454, 2.0, 1.6666666666666667, 1.6, 1.0, 1.0, 1.75, 2.3636363636363638, 2.7142857142857144, 1.75, 1.0, 1.0, 1.6, 1.0, 1.6, 1.0, 1.0, 1.0, 1.0, 1.0, 1.0, 1.0, 1.6, 1.0, 1.0, 1.75, 1.0, 1.0, 1.0, 1.0, 1.0, 1.0, 1.0, 2.0, 2.2, 1.0, 1.0, 1.0, 1.0, 1.3333333333333333, 1.6, 2.5, 1.0, 1.0, 1.6666666666666667, 1.0, 1.0, 1.0, 1.0, 1.5, 1.0, 1.0, 2.0, 3.090909090909091, 1.0, 2.909090909090909, 1.0, 1.0, 1.75, 1.0, 1.0, 1.25, 1.6, 1.0, 1.0, 1.6666666666666667, 1.75, 1.0, 1.0, 1.5, 1.0, 1.0, 1.4, 1.0, 1.75, 1.0, 2.5, 1.0, 1.3333333333333333, 1.75, 1.0, 1.0, 1.0, 1.2727272727272727, 3.0, 1.0, 1.0, 1.8571428571428572, 1.375, 1.0, 1.0, 1.0, 2.0714285714285716, 1.0, 1.2142857142857142, 1.5294117647058822, 1.0, 2.2857142857142856, 2.5, 1.6, 1.0, 1.0, 1.4285714285714286, 1.0, 1.5454545454545454, 1.4285714285714286, 1.0, 1.0, 1.0, 1.0, 1.0, 1.0, 2.764705882352941, 1.375, 1.0, 1.0, 1.0, 1.0, 1.6666666666666667, 1.5, 1.6, 1.0, 1.0, 1.0, 2.857142857142857, 2.5789473684210527, 1.0, 1.8571428571428572, 1.0, 1.8, 1.0, 1.0, 1.0, 1.0, 1.0, 2.1538461538461537, 1.0, 1.6, 1.0, 1.0, 1.0, 1.5, 1.0, 1.0, 1.0, 1.0, 2.7222222222222223, 1.0, 1.75, 1.0, 1.4285714285714286, 2.0, 1.0, 1.0, 1.0, 1.4615384615384615, 2.25, 2.25, 1.0, 1.0, 1.0, 3.25, 1.0, 1.3333333333333333, 1.0, 1.0, 2.1363636363636362, 1.0, 2.5, 1.0, 1.0, 2.0, 1.0, 1.8571428571428572, 1.0, 1.0, 1.0, 1.0, 1.0, 2.0, 1.5, 1.0, 1.0, 1.0, 2.2222222222222223, 3.25, 1.0, 1.5, 1.2142857142857142, 1.1666666666666667, 1.0, 1.0, 1.4285714285714286, 1.0, 1.0, 1.0, 1.0, 1.0, 1.0, 1.0, 1.0, 1.0, 1.0, 2.5, 1.0, 1.0, 1.0, 1.0, 1.4285714285714286, 2.2, 1.0, 3.3076923076923075, 1.75, 2.0, 1.0, 2.3125, 1.6666666666666667, 1.75, 1.0, 1.0, 1.8571428571428572, 1.6, 1.0, 1.3333333333333333, 1.0, 1.0, 1.0, 1.0, 1.0, 1.0, 1.0, 2.772727272727273, 1.0, 1.0, 1.5, 1.6666666666666667, 1.25, 1.0, 1.75, 1.0, 1.0, 1.0, 1.0, 1.5, 1.9473684210526316, 1.0, 1.0, 1.0, 1.0, 2.4545454545454546, 1.0, 2.3333333333333335, 1.0, 1.0, 1.0, 1.0, 1.0, 1.0, 1.6923076923076923, 1.0, 1.3333333333333333, 1.0, 1.4285714285714286, 2.3636363636363638, 1.0, 1.375, 1.0, 1.0, 1.0, 1.0, 1.0, 1.0, 1.6, 1.0, 1.0, 2.8, 2.5714285714285716, 1.4285714285714286, 1.375, 1.0, 1.4285714285714286, 2.125, 1.0, 1.0, 3.5714285714285716, 2.0, 1.75, 1.0, 1.6, 1.0, 1.0, 1.0, 2.8461538461538463, 1.0, 3.0, 1.0, 1.0, 1.0, 1.625, 1.0, 1.6, 1.0, 1.0, 1.0, 2.090909090909091, 1.0, 1.3333333333333333, 1.0, 1.0, 1.0, 1.0, 1.0, 1.25, 1.0, 1.0, 2.391304347826087, 1.0, 1.2727272727272727, 1.5, 2.5454545454545454, 1.0, 1.0, 1.0, 2.0, 1.0, 1.4, 1.0, 1.0, 1.0, 1.0, 1.4285714285714286, 1.0, 1.0, 2.1052631578947367, 3.176470588235294, 1.0, 1.0, 2.5, 1.0, 2.0, 1.0, 1.0, 1.0, 1.0, 1.0, 1.0, 1.6666666666666667, 2.5, 2.6, 1.6428571428571428, 1.0, 1.9, 1.6666666666666667, 1.0, 1.0, 1.0, 1.6, 1.5, 1.0, 2.1538461538461537, 1.0, 1.0, 1.0, 1.0, 1.0, 1.6, 1.0, 1.0, 2.75, 1.0, 1.0, 1.0, 1.0, 1.0, 1.0, 1.0, 1.6666666666666667, 1.375, 1.0, 2.3, 1.0, 1.0, 1.0, 1.6, 1.0, 1.4, 1.0, 1.0, 1.0, 1.6, 1.0, 1.0, 1.5, 1.0, 1.0, 1.75, 1.0, 1.6, 1.0, 1.0, 1.8571428571428572, 1.3333333333333333, 1.0, 1.8181818181818181, 1.0, 1.0, 1.0, 1.6, 1.0, 1.0, 1.0, 1.8571428571428572, 1.0, 1.0, 1.6923076923076923, 1.0, 1.0, 1.0, 2.0, 1.2727272727272727, 1.0, 1.0, 1.0, 1.0, 1.0, 2.235294117647059, 1.0, 1.75, 1.0, 1.4285714285714286, 3.25, 1.0, 1.6, 1.0, 1.0, 1.8571428571428572, 1.0, 2.6666666666666665, 1.0, 1.3333333333333333, 1.0, 1.0, 1.0, 1.6666666666666667, 1.0, 1.0, 2.5, 1.0, 1.0, 1.0, 1.5, 1.6, 1.6666666666666667, 1.3333333333333333, 1.0, 1.0, 1.375, 2.8, 1.6, 1.5, 1.75, 1.0, 2.176470588235294, 1.5, 1.0, 1.5, 1.0, 1.0, 1.0, 1.0, 1.0, 1.0, 1.0, 1.0, 2.6666666666666665, 1.5, 1.0, 2.75, 2.0, 1.0, 1.0, 1.0, 1.3333333333333333, 1.5, 1.7142857142857142, 3.1538461538461537, 3.75, 1.0, 1.0, 1.3333333333333333, 3.235294117647059, 1.6, 1.75, 1.0, 1.0, 1.0, 1.0, 2.2, 1.0, 1.0, 1.0, 1.0, 1.0, 1.6666666666666667, 1.375, 1.0, 1.0, 2.25, 1.0, 1.0, 1.0, 1.0, 1.0, 1.0, 2.5, 2.2857142857142856, 1.625, 2.0, 1.5, 1.5, 2.25, 1.8571428571428572, 1.0, 1.4285714285714286, 1.0, 1.0, 1.0, 1.0, 1.0, 1.6666666666666667, 1.0, 2.6923076923076925, 1.6, 1.0, 1.0, 1.0, 1.0, 2.2, 1.6, 3.0, 1.0, 1.0, 2.0, 2.0, 2.15, 1.6, 2.3125, 1.0, 1.0, 2.1052631578947367, 1.0, 1.0, 1.0, 1.0, 1.0, 2.75, 1.0, 2.2857142857142856, 1.0, 2.0, 1.0, 1.5294117647058822, 1.8571428571428572, 1.0, 1.0, 1.0, 1.0, 2.25, 2.0, 2.5, 1.0, 1.4285714285714286, 1.0, 1.75, 1.0, 1.0, 2.3333333333333335, 2.25, 1.0, 1.0, 1.0, 1.0, 3.0, 1.0, 1.0, 1.0, 1.0, 1.75, 1.0, 1.0, 4.0, 1.0, 2.769230769230769, 1.0, 1.0, 1.0, 1.0, 2.176470588235294, 1.0, 1.0, 1.0, 2.0, 1.25, 1.0, 1.1875, 1.0, 1.0, 2.090909090909091, 1.0, 3.625, 4.0, 1.75, 1.0, 1.8333333333333333, 1.5, 2.0, 1.0, 1.2857142857142858, 1.0, 1.0, 1.8181818181818181, 1.0, 2.0, 1.0, 1.0, 1.0, 1.375, 1.0, 1.0, 3.4, 1.0, 1.0, 2.5, 1.0, 1.3157894736842106, 2.2142857142857144, 1.0, 1.0, 1.45, 1.0, 1.0, 1.0, 2.0, 1.0, 1.0, 1.0, 2.0, 1.0, 1.0, 1.0, 2.8, 1.0, 1.0, 2.764705882352941, 1.0, 1.4705882352941178, 1.0, 1.0, 1.0, 1.0, 2.090909090909091, 1.3333333333333333, 1.0, 1.0, 1.0, 1.0, 1.0, 1.0, 1.0, 1.0, 1.8181818181818181, 1.75, 1.0, 1.6666666666666667, 1.0, 2.0, 1.0, 1.0, 2.0, 1.0, 1.0, 1.0, 1.0, 1.0, 2.0, 1.0, 2.125, 1.75, 2.2857142857142856, 1.0, 1.0, 1.0, 1.0, 1.6666666666666667, 2.0, 1.0, 1.6923076923076923, 1.0, 1.0, 1.0, 1.4285714285714286, 1.0, 1.0, 1.0, 1.0, 1.8571428571428572, 1.0, 1.6666666666666667, 1.0, 2.5, 1.7142857142857142, 1.0, 2.0, 2.0, 1.0, 3.0, 1.0, 1.0, 1.0, 1.0, 1.75, 1.0, 1.0, 1.0, 1.0, 1.0, 3.3333333333333335, 1.8333333333333333, 1.2727272727272727, 1.75, 1.0, 1.6, 1.0, 1.0, 1.0, 1.0, 1.0, 1.0, 1.9, 1.0, 1.0, 1.75, 1.0, 1.0, 1.3333333333333333, 1.0, 2.0, 1.0, 1.7142857142857142, 1.8181818181818181, 1.4285714285714286, 1.0, 1.6, 2.5, 1.0, 1.0, 1.0, 1.3, 1.0, 1.0, 1.0, 1.0, 1.0, 2.0, 1.6, 1.75, 1.375, 1.8, 1.0, 1.3333333333333333, 1.0, 1.0, 1.2307692307692308, 1.0, 1.0, 1.75, 1.375, 2.4285714285714284, 1.0, 1.0, 1.0, 1.0, 1.0, 2.3333333333333335, 1.0, 1.0, 1.0, 1.3333333333333333, 1.0, 1.5454545454545454, 1.0, 2.6, 1.6, 2.0, 1.0, 1.0, 1.0, 2.2857142857142856, 2.5, 1.0, 1.2727272727272727, 1.0, 1.8333333333333333, 1.0, 1.0, 1.0, 1.0, 2.2, 2.0, 1.0, 1.0, 2.375, 1.4285714285714286, 1.0, 3.4, 1.0, 1.0, 1.0, 1.4285714285714286, 1.0, 1.0, 2.0, 1.7894736842105263, 1.8571428571428572, 1.0, 1.0, 1.0, 1.6, 1.0, 1.0, 1.5, 2.176470588235294, 2.125, 1.0, 1.0, 1.0, 1.0, 1.0, 2.1176470588235294, 2.6666666666666665, 1.0, 1.3333333333333333, 1.0, 1.5, 1.0, 1.0, 1.0, 3.25, 1.1, 1.0, 1.75, 1.0, 2.7142857142857144, 1.0, 2.0, 1.9166666666666667, 1.0, 1.0, 1.0, 1.0, 3.1818181818181817, 1.0, 1.5454545454545454, 1.6, 1.0, 2.0, 1.0, 1.0, 1.0, 1.5, 1.0, 2.3076923076923075, 1.375, 1.0, 1.0, 1.0, 1.4285714285714286, 2.125, 1.0, 1.0, 1.6, 1.0, 1.0, 1.0, 1.0, 1.0, 1.0, 2.2857142857142856, 1.0, 1.0, 1.0, 1.0, 1.8, 1.0, 1.0, 1.4285714285714286, 1.6, 1.0, 1.4285714285714286, 1.0, 2.0588235294117645, 1.0, 1.0, 1.0, 2.076923076923077, 2.625, 1.75, 1.0, 1.0, 1.0, 2.5, 1.0, 1.0, 1.6, 1.0, 2.4210526315789473, 1.0, 2.1666666666666665, 1.0, 1.0, 1.0, 1.8421052631578947, 1.0, 1.0, 1.6, 1.0, 2.3333333333333335, 1.4285714285714286, 1.0, 1.0, 2.5, 3.0, 1.5, 1.75, 1.0, 1.0, 2.75, 1.0, 1.0, 2.260869565217391, 1.25, 1.6, 1.0, 1.75, 2.6666666666666665, 1.0, 2.2, 1.0, 2.2, 1.0, 1.0, 1.0, 1.0, 1.0, 1.0, 1.0, 1.0, 2.5, 2.0, 2.2857142857142856, 1.0, 1.0, 2.0, 1.0, 1.0, 1.5, 1.5, 1.0, 2.0, 1.0, 1.0, 1.6, 1.0, 1.0, 1.2142857142857142, 1.0, 1.0, 1.0, 1.0, 1.0, 1.0, 1.0, 1.0, 1.6666666666666667, 1.0, 3.076923076923077, 1.0, 1.0, 1.0, 1.0, 1.0, 1.0, 1.0, 1.0, 1.0, 1.3, 1.3, 1.0, 1.0, 1.0, 1.0, 1.0, 1.0, 1.0, 1.0, 1.0, 2.0, 1.0, 1.0, 1.0, 1.9230769230769231, 2.0, 1.0, 1.75, 1.0, 1.6428571428571428, 1.0, 1.0, 1.0, 1.5, 1.0, 1.6666666666666667, 1.0, 2.736842105263158, 1.0, 1.0, 1.0, 1.0, 2.3333333333333335, 1.75, 1.6, 1.4285714285714286, 1.0, 1.6, 1.8888888888888888, 1.0, 1.0, 2.272727272727273, 1.0, 2.2, 1.0, 2.6666666666666665, 1.0, 1.0, 1.0, 2.8461538461538463, 1.6666666666666667, 1.0, 1.0, 2.3043478260869565, 1.0, 1.0, 1.2142857142857142, 1.0, 1.5, 1.0, 1.0, 1.0, 1.0, 1.0, 1.7272727272727273, 1.0, 1.0, 2.0, 2.0, 1.0, 1.4615384615384615, 1.3333333333333333, 1.9230769230769231, 1.0, 1.7142857142857142, 1.0, 2.6153846153846154, 1.8333333333333333, 2.0, 1.75, 1.0, 1.0, 1.0, 1.0, 1.0, 2.5, 2.5, 1.0, 1.0, 1.0, 2.75, 1.0, 2.2857142857142856, 1.6666666666666667, 1.0, 1.1428571428571428, 1.7058823529411764, 2.909090909090909, 2.6363636363636362, 2.5, 2.0, 1.0, 2.8333333333333335, 3.142857142857143, 1.9375, 1.0, 1.375, 1.0, 1.0, 1.0, 1.0, 1.0, 1.5, 1.5, 1.4285714285714286, 2.6666666666666665, 1.0, 1.0, 1.0, 1.3333333333333333, 2.2, 1.2727272727272727, 1.0, 1.4285714285714286, 1.7, 2.0, 1.0, 1.0, 1.75, 1.0, 1.0, 2.0, 1.0, 1.0, 3.0, 2.55, 1.5, 2.5, 1.0, 1.5, 1.0, 3.076923076923077, 1.0, 1.631578947368421, 1.0, 1.0, 1.0, 1.0, 1.0, 2.5, 1.5454545454545454, 2.5652173913043477, 1.0, 1.6, 1.0, 1.6666666666666667, 1.0, 1.0, 2.5, 1.3333333333333333, 2.4, 1.0, 2.5, 2.0, 1.0, 1.4285714285714286, 1.0, 1.0, 1.0, 1.0, 1.6, 1.0, 1.0, 1.0, 1.0, 1.0, 1.2727272727272727, 1.4285714285714286, 1.0, 2.125, 2.6363636363636362, 2.125, 1.0, 1.0, 2.5, 3.25, 1.0, 1.75, 1.0, 2.5, 1.0, 2.0, 1.0, 2.4210526315789473, 2.8461538461538463, 2.625, 1.8, 1.0, 1.0, 1.0, 1.0, 2.0714285714285716, 1.0, 1.0, 1.0, 1.2, 1.0, 1.0, 2.5, 1.0, 1.0, 1.0, 1.25, 1.6, 1.6, 1.5, 1.8571428571428572, 1.6923076923076923, 1.375, 1.0, 1.0, 1.0, 1.0, 1.0, 1.0, 1.0, 1.0, 1.0, 2.3846153846153846, 1.0, 1.0, 1.0, 1.0, 1.0, 1.0, 1.9333333333333333, 1.0, 1.5, 1.0, 1.25, 1.0, 2.2857142857142856, 1.0, 2.2, 1.8571428571428572, 1.0, 1.0, 1.0, 1.0, 1.0, 2.8461538461538463, 1.0, 2.0, 1.0, 1.0, 1.0, 1.0, 1.0, 2.0, 1.0, 1.375, 1.0, 2.5, 1.0, 2.5, 1.0, 2.875, 1.5, 1.6, 1.375, 2.7142857142857144, 1.0, 1.0, 1.0, 1.0, 1.6666666666666667, 1.5], \"xaxis\": \"x\", \"yaxis\": \"y\"}],\n",
              "                        {\"barmode\": \"relative\", \"legend\": {\"tracegroupgap\": 0}, \"template\": {\"data\": {\"bar\": [{\"error_x\": {\"color\": \"#2a3f5f\"}, \"error_y\": {\"color\": \"#2a3f5f\"}, \"marker\": {\"line\": {\"color\": \"#E5ECF6\", \"width\": 0.5}}, \"type\": \"bar\"}], \"barpolar\": [{\"marker\": {\"line\": {\"color\": \"#E5ECF6\", \"width\": 0.5}}, \"type\": \"barpolar\"}], \"carpet\": [{\"aaxis\": {\"endlinecolor\": \"#2a3f5f\", \"gridcolor\": \"white\", \"linecolor\": \"white\", \"minorgridcolor\": \"white\", \"startlinecolor\": \"#2a3f5f\"}, \"baxis\": {\"endlinecolor\": \"#2a3f5f\", \"gridcolor\": \"white\", \"linecolor\": \"white\", \"minorgridcolor\": \"white\", \"startlinecolor\": \"#2a3f5f\"}, \"type\": \"carpet\"}], \"choropleth\": [{\"colorbar\": {\"outlinewidth\": 0, \"ticks\": \"\"}, \"type\": \"choropleth\"}], \"contour\": [{\"colorbar\": {\"outlinewidth\": 0, \"ticks\": \"\"}, \"colorscale\": [[0.0, \"#0d0887\"], [0.1111111111111111, \"#46039f\"], [0.2222222222222222, \"#7201a8\"], [0.3333333333333333, \"#9c179e\"], [0.4444444444444444, \"#bd3786\"], [0.5555555555555556, \"#d8576b\"], [0.6666666666666666, \"#ed7953\"], [0.7777777777777778, \"#fb9f3a\"], [0.8888888888888888, \"#fdca26\"], [1.0, \"#f0f921\"]], \"type\": \"contour\"}], \"contourcarpet\": [{\"colorbar\": {\"outlinewidth\": 0, \"ticks\": \"\"}, \"type\": \"contourcarpet\"}], \"heatmap\": [{\"colorbar\": {\"outlinewidth\": 0, \"ticks\": \"\"}, \"colorscale\": [[0.0, \"#0d0887\"], [0.1111111111111111, \"#46039f\"], [0.2222222222222222, \"#7201a8\"], [0.3333333333333333, \"#9c179e\"], [0.4444444444444444, \"#bd3786\"], [0.5555555555555556, \"#d8576b\"], [0.6666666666666666, \"#ed7953\"], [0.7777777777777778, \"#fb9f3a\"], [0.8888888888888888, \"#fdca26\"], [1.0, \"#f0f921\"]], \"type\": \"heatmap\"}], \"heatmapgl\": [{\"colorbar\": {\"outlinewidth\": 0, \"ticks\": \"\"}, \"colorscale\": [[0.0, \"#0d0887\"], [0.1111111111111111, \"#46039f\"], [0.2222222222222222, \"#7201a8\"], [0.3333333333333333, \"#9c179e\"], [0.4444444444444444, \"#bd3786\"], [0.5555555555555556, \"#d8576b\"], [0.6666666666666666, \"#ed7953\"], [0.7777777777777778, \"#fb9f3a\"], [0.8888888888888888, \"#fdca26\"], [1.0, \"#f0f921\"]], \"type\": \"heatmapgl\"}], \"histogram\": [{\"marker\": {\"colorbar\": {\"outlinewidth\": 0, \"ticks\": \"\"}}, \"type\": \"histogram\"}], \"histogram2d\": [{\"colorbar\": {\"outlinewidth\": 0, \"ticks\": \"\"}, \"colorscale\": [[0.0, \"#0d0887\"], [0.1111111111111111, \"#46039f\"], [0.2222222222222222, \"#7201a8\"], [0.3333333333333333, \"#9c179e\"], [0.4444444444444444, \"#bd3786\"], [0.5555555555555556, \"#d8576b\"], [0.6666666666666666, \"#ed7953\"], [0.7777777777777778, \"#fb9f3a\"], [0.8888888888888888, \"#fdca26\"], [1.0, \"#f0f921\"]], \"type\": \"histogram2d\"}], \"histogram2dcontour\": [{\"colorbar\": {\"outlinewidth\": 0, \"ticks\": \"\"}, \"colorscale\": [[0.0, \"#0d0887\"], [0.1111111111111111, \"#46039f\"], [0.2222222222222222, \"#7201a8\"], [0.3333333333333333, \"#9c179e\"], [0.4444444444444444, \"#bd3786\"], [0.5555555555555556, \"#d8576b\"], [0.6666666666666666, \"#ed7953\"], [0.7777777777777778, \"#fb9f3a\"], [0.8888888888888888, \"#fdca26\"], [1.0, \"#f0f921\"]], \"type\": \"histogram2dcontour\"}], \"mesh3d\": [{\"colorbar\": {\"outlinewidth\": 0, \"ticks\": \"\"}, \"type\": \"mesh3d\"}], \"parcoords\": [{\"line\": {\"colorbar\": {\"outlinewidth\": 0, \"ticks\": \"\"}}, \"type\": \"parcoords\"}], \"pie\": [{\"automargin\": true, \"type\": \"pie\"}], \"scatter\": [{\"marker\": {\"colorbar\": {\"outlinewidth\": 0, \"ticks\": \"\"}}, \"type\": \"scatter\"}], \"scatter3d\": [{\"line\": {\"colorbar\": {\"outlinewidth\": 0, \"ticks\": \"\"}}, \"marker\": {\"colorbar\": {\"outlinewidth\": 0, \"ticks\": \"\"}}, \"type\": \"scatter3d\"}], \"scattercarpet\": [{\"marker\": {\"colorbar\": {\"outlinewidth\": 0, \"ticks\": \"\"}}, \"type\": \"scattercarpet\"}], \"scattergeo\": [{\"marker\": {\"colorbar\": {\"outlinewidth\": 0, \"ticks\": \"\"}}, \"type\": \"scattergeo\"}], \"scattergl\": [{\"marker\": {\"colorbar\": {\"outlinewidth\": 0, \"ticks\": \"\"}}, \"type\": \"scattergl\"}], \"scattermapbox\": [{\"marker\": {\"colorbar\": {\"outlinewidth\": 0, \"ticks\": \"\"}}, \"type\": \"scattermapbox\"}], \"scatterpolar\": [{\"marker\": {\"colorbar\": {\"outlinewidth\": 0, \"ticks\": \"\"}}, \"type\": \"scatterpolar\"}], \"scatterpolargl\": [{\"marker\": {\"colorbar\": {\"outlinewidth\": 0, \"ticks\": \"\"}}, \"type\": \"scatterpolargl\"}], \"scatterternary\": [{\"marker\": {\"colorbar\": {\"outlinewidth\": 0, \"ticks\": \"\"}}, \"type\": \"scatterternary\"}], \"surface\": [{\"colorbar\": {\"outlinewidth\": 0, \"ticks\": \"\"}, \"colorscale\": [[0.0, \"#0d0887\"], [0.1111111111111111, \"#46039f\"], [0.2222222222222222, \"#7201a8\"], [0.3333333333333333, \"#9c179e\"], [0.4444444444444444, \"#bd3786\"], [0.5555555555555556, \"#d8576b\"], [0.6666666666666666, \"#ed7953\"], [0.7777777777777778, \"#fb9f3a\"], [0.8888888888888888, \"#fdca26\"], [1.0, \"#f0f921\"]], \"type\": \"surface\"}], \"table\": [{\"cells\": {\"fill\": {\"color\": \"#EBF0F8\"}, \"line\": {\"color\": \"white\"}}, \"header\": {\"fill\": {\"color\": \"#C8D4E3\"}, \"line\": {\"color\": \"white\"}}, \"type\": \"table\"}]}, \"layout\": {\"annotationdefaults\": {\"arrowcolor\": \"#2a3f5f\", \"arrowhead\": 0, \"arrowwidth\": 1}, \"coloraxis\": {\"colorbar\": {\"outlinewidth\": 0, \"ticks\": \"\"}}, \"colorscale\": {\"diverging\": [[0, \"#8e0152\"], [0.1, \"#c51b7d\"], [0.2, \"#de77ae\"], [0.3, \"#f1b6da\"], [0.4, \"#fde0ef\"], [0.5, \"#f7f7f7\"], [0.6, \"#e6f5d0\"], [0.7, \"#b8e186\"], [0.8, \"#7fbc41\"], [0.9, \"#4d9221\"], [1, \"#276419\"]], \"sequential\": [[0.0, \"#0d0887\"], [0.1111111111111111, \"#46039f\"], [0.2222222222222222, \"#7201a8\"], [0.3333333333333333, \"#9c179e\"], [0.4444444444444444, \"#bd3786\"], [0.5555555555555556, \"#d8576b\"], [0.6666666666666666, \"#ed7953\"], [0.7777777777777778, \"#fb9f3a\"], [0.8888888888888888, \"#fdca26\"], [1.0, \"#f0f921\"]], \"sequentialminus\": [[0.0, \"#0d0887\"], [0.1111111111111111, \"#46039f\"], [0.2222222222222222, \"#7201a8\"], [0.3333333333333333, \"#9c179e\"], [0.4444444444444444, \"#bd3786\"], [0.5555555555555556, \"#d8576b\"], [0.6666666666666666, \"#ed7953\"], [0.7777777777777778, \"#fb9f3a\"], [0.8888888888888888, \"#fdca26\"], [1.0, \"#f0f921\"]]}, \"colorway\": [\"#636efa\", \"#EF553B\", \"#00cc96\", \"#ab63fa\", \"#FFA15A\", \"#19d3f3\", \"#FF6692\", \"#B6E880\", \"#FF97FF\", \"#FECB52\"], \"font\": {\"color\": \"#2a3f5f\"}, \"geo\": {\"bgcolor\": \"white\", \"lakecolor\": \"white\", \"landcolor\": \"#E5ECF6\", \"showlakes\": true, \"showland\": true, \"subunitcolor\": \"white\"}, \"hoverlabel\": {\"align\": \"left\"}, \"hovermode\": \"closest\", \"mapbox\": {\"style\": \"light\"}, \"paper_bgcolor\": \"white\", \"plot_bgcolor\": \"#E5ECF6\", \"polar\": {\"angularaxis\": {\"gridcolor\": \"white\", \"linecolor\": \"white\", \"ticks\": \"\"}, \"bgcolor\": \"#E5ECF6\", \"radialaxis\": {\"gridcolor\": \"white\", \"linecolor\": \"white\", \"ticks\": \"\"}}, \"scene\": {\"xaxis\": {\"backgroundcolor\": \"#E5ECF6\", \"gridcolor\": \"white\", \"gridwidth\": 2, \"linecolor\": \"white\", \"showbackground\": true, \"ticks\": \"\", \"zerolinecolor\": \"white\"}, \"yaxis\": {\"backgroundcolor\": \"#E5ECF6\", \"gridcolor\": \"white\", \"gridwidth\": 2, \"linecolor\": \"white\", \"showbackground\": true, \"ticks\": \"\", \"zerolinecolor\": \"white\"}, \"zaxis\": {\"backgroundcolor\": \"#E5ECF6\", \"gridcolor\": \"white\", \"gridwidth\": 2, \"linecolor\": \"white\", \"showbackground\": true, \"ticks\": \"\", \"zerolinecolor\": \"white\"}}, \"shapedefaults\": {\"line\": {\"color\": \"#2a3f5f\"}}, \"ternary\": {\"aaxis\": {\"gridcolor\": \"white\", \"linecolor\": \"white\", \"ticks\": \"\"}, \"baxis\": {\"gridcolor\": \"white\", \"linecolor\": \"white\", \"ticks\": \"\"}, \"bgcolor\": \"#E5ECF6\", \"caxis\": {\"gridcolor\": \"white\", \"linecolor\": \"white\", \"ticks\": \"\"}}, \"title\": {\"x\": 0.05}, \"xaxis\": {\"automargin\": true, \"gridcolor\": \"white\", \"linecolor\": \"white\", \"ticks\": \"\", \"title\": {\"standoff\": 15}, \"zerolinecolor\": \"white\", \"zerolinewidth\": 2}, \"yaxis\": {\"automargin\": true, \"gridcolor\": \"white\", \"linecolor\": \"white\", \"ticks\": \"\", \"title\": {\"standoff\": 15}, \"zerolinecolor\": \"white\", \"zerolinewidth\": 2}}}, \"title\": {\"text\": \" \"}, \"xaxis\": {\"anchor\": \"y\", \"domain\": [0.0, 1.0], \"title\": {\"text\": \"Quarterly Rating\"}}, \"yaxis\": {\"anchor\": \"x\", \"domain\": [0.0, 1.0], \"title\": {\"text\": \"count\"}}},\n",
              "                        {\"responsive\": true}\n",
              "                    ).then(function(){\n",
              "                            \n",
              "var gd = document.getElementById('8a6700de-4863-494c-8247-904143cbcc54');\n",
              "var x = new MutationObserver(function (mutations, observer) {{\n",
              "        var display = window.getComputedStyle(gd).display;\n",
              "        if (!display || display === 'none') {{\n",
              "            console.log([gd, 'removed!']);\n",
              "            Plotly.purge(gd);\n",
              "            observer.disconnect();\n",
              "        }}\n",
              "}});\n",
              "\n",
              "// Listen for the removal of the full notebook cells\n",
              "var notebookContainer = gd.closest('#notebook-container');\n",
              "if (notebookContainer) {{\n",
              "    x.observe(notebookContainer, {childList: true});\n",
              "}}\n",
              "\n",
              "// Listen for the clearing of the current output cell\n",
              "var outputEl = gd.closest('.output');\n",
              "if (outputEl) {{\n",
              "    x.observe(outputEl, {childList: true});\n",
              "}}\n",
              "\n",
              "                        })\n",
              "                };\n",
              "                \n",
              "            </script>\n",
              "        </div>\n",
              "</body>\n",
              "</html>"
            ]
          },
          "metadata": {
            "tags": []
          }
        },
        {
          "output_type": "display_data",
          "data": {
            "text/html": [
              "<html>\n",
              "<head><meta charset=\"utf-8\" /></head>\n",
              "<body>\n",
              "    <div>\n",
              "            <script src=\"https://cdnjs.cloudflare.com/ajax/libs/mathjax/2.7.5/MathJax.js?config=TeX-AMS-MML_SVG\"></script><script type=\"text/javascript\">if (window.MathJax) {MathJax.Hub.Config({SVG: {font: \"STIX-Web\"}});}</script>\n",
              "                <script type=\"text/javascript\">window.PlotlyConfig = {MathJaxConfig: 'local'};</script>\n",
              "        <script src=\"https://cdn.plot.ly/plotly-latest.min.js\"></script>    \n",
              "            <div id=\"1b08350f-a660-4a61-ab68-07e76d16abc8\" class=\"plotly-graph-div\" style=\"height:525px; width:100%;\"></div>\n",
              "            <script type=\"text/javascript\">\n",
              "                \n",
              "                    window.PLOTLYENV=window.PLOTLYENV || {};\n",
              "                    \n",
              "                if (document.getElementById(\"1b08350f-a660-4a61-ab68-07e76d16abc8\")) {\n",
              "                    Plotly.newPlot(\n",
              "                        '1b08350f-a660-4a61-ab68-07e76d16abc8',\n",
              "                        [{\"alignmentgroup\": \"True\", \"hoverlabel\": {\"namelength\": 0}, \"hovertemplate\": \"Quarterly Rating=%{y}\", \"legendgroup\": \"\", \"marker\": {\"color\": \"rgb(102, 197, 204)\"}, \"name\": \"\", \"notched\": false, \"offsetgroup\": \"\", \"orientation\": \"v\", \"showlegend\": false, \"type\": \"box\", \"x0\": \" \", \"xaxis\": \"x\", \"y\": [1.0, 1.6, 1.0, 1.0, 3.75, 3.0833333333333335, 1.5, 2.4, 2.0, 2.7142857142857144, 2.0, 1.5, 2.2222222222222223, 2.875, 3.5, 1.0, 1.875, 2.5, 3.25, 1.0, 3.0, 2.625, 1.0, 1.0, 3.25, 1.0, 1.6, 1.6666666666666667, 2.875, 1.0, 2.125, 2.5, 1.6, 1.0, 1.0, 1.75, 3.142857142857143, 2.625, 1.0, 3.0, 3.2, 2.75, 1.0, 1.2142857142857142, 2.6153846153846154, 1.3333333333333333, 3.25, 2.0, 1.0, 1.0, 1.0, 2.25, 1.6, 2.0, 1.0, 1.5, 1.0, 1.0, 2.875, 2.125, 1.0, 1.8571428571428572, 3.142857142857143, 2.263157894736842, 1.0, 1.0, 2.875, 1.5, 1.0, 1.0, 1.0, 1.0, 1.0, 3.0, 1.0, 1.0, 2.625, 1.0, 1.0, 4.0, 1.5, 3.0, 2.125, 1.0, 1.0, 1.9230769230769231, 1.6, 1.0, 2.1538461538461537, 2.1, 1.8571428571428572, 2.4210526315789473, 2.5, 1.0, 3.75, 2.875, 2.0, 2.2, 2.5, 1.0, 1.0, 2.0, 1.4615384615384615, 2.5, 2.125, 1.0, 2.8, 3.125, 1.0, 3.0, 1.0, 1.0, 2.5, 1.0, 1.0, 3.0, 2.125, 2.0, 2.875, 3.75, 1.375, 2.7142857142857144, 1.6923076923076923, 2.090909090909091, 2.125, 1.0, 3.0, 2.3333333333333335, 2.0, 1.0, 1.0, 1.0, 1.4285714285714286, 2.875, 1.9230769230769231, 3.0, 1.0, 1.0, 1.625, 1.0, 1.0, 1.0, 1.0, 1.6666666666666667, 3.0, 1.6, 1.75, 2.0, 1.0, 3.769230769230769, 2.0714285714285716, 1.0, 1.0, 1.0, 1.75, 1.0, 2.0, 3.7142857142857144, 3.125, 2.2, 2.5, 1.0, 2.3125, 3.4583333333333335, 3.375, 2.75, 1.5, 1.0, 3.6666666666666665, 3.0, 3.0, 2.6, 3.142857142857143, 2.0, 1.75, 1.0, 1.5, 1.6, 1.0, 3.125, 2.75, 2.7142857142857144, 1.75, 1.75, 1.0, 2.25, 3.125, 2.090909090909091, 1.0, 1.5, 2.3333333333333335, 1.0, 1.5, 1.0, 2.3333333333333335, 2.75, 2.0, 1.0, 2.2, 2.5, 2.1666666666666665, 2.375, 2.8333333333333335, 2.875, 2.375, 2.6363636363636362, 1.0, 2.2, 4.0, 1.0, 3.25, 3.0, 2.7142857142857144, 2.75, 1.0, 1.8, 1.0, 1.4285714285714286, 1.0, 1.0, 1.75, 3.25, 1.0, 1.875, 1.0, 2.375, 2.5294117647058822, 1.0, 2.3333333333333335, 2.2857142857142856, 2.5, 3.5, 3.0, 1.0, 1.6, 1.0, 1.8571428571428572, 1.0, 1.0, 1.0, 2.5, 1.0, 1.0, 1.75, 3.125, 1.0, 1.9230769230769231, 1.5, 2.0, 2.2857142857142856, 4.0, 2.25, 1.0, 1.0, 3.5, 1.0, 2.625, 1.0, 2.0, 2.125, 1.0, 2.375, 2.7142857142857144, 1.0, 3.375, 3.0, 2.875, 2.0, 3.25, 2.0, 1.6, 2.7142857142857144, 1.0, 2.625, 1.0, 1.0, 1.0, 2.375, 3.5, 1.8333333333333333, 1.75, 2.875, 2.0, 1.0, 1.0, 1.0, 1.0, 3.0, 1.6, 2.375, 2.0, 2.375, 2.7083333333333335, 2.5, 1.0, 3.25, 2.7142857142857144, 1.0, 1.4285714285714286, 2.8, 3.0, 1.375, 2.2, 2.75, 2.25, 2.5, 2.0, 2.75, 1.0, 2.875, 2.25, 1.6, 1.0, 1.6, 4.0, 3.7142857142857144, 2.0, 2.625, 2.875, 1.0, 2.25, 2.0, 1.0, 1.0, 1.6, 2.625, 1.0, 3.375, 1.6, 2.9285714285714284, 1.3, 2.75, 2.75, 2.375, 3.0, 2.125, 1.0, 1.0, 2.2, 1.0, 1.75, 1.0, 2.9444444444444446, 1.0, 1.0, 3.0, 2.2, 2.3333333333333335, 2.75, 1.0, 1.75, 1.4, 2.75, 2.875, 3.0, 3.5833333333333335, 3.0, 3.076923076923077, 2.125, 2.5, 1.75, 2.0, 1.0, 3.375, 1.2, 1.5294117647058822, 2.0714285714285716, 2.0, 2.0588235294117645, 1.0, 3.625, 1.0, 1.0, 1.0, 3.6842105263157894, 1.0, 2.5, 2.5, 1.6, 1.0, 1.0, 1.0, 2.625, 2.5, 3.25, 1.0, 1.0, 2.0, 1.5, 1.5, 1.0, 2.0, 1.0, 3.25, 2.0, 1.0, 2.875, 2.2, 2.75, 1.6, 1.0, 2.0, 2.5, 2.7142857142857144, 1.0, 1.0, 1.0, 3.8181818181818183, 2.75, 1.875, 2.2, 1.5, 1.0, 2.875, 1.5, 1.875, 1.0, 1.0, 1.0, 1.0, 3.0, 1.0, 1.0, 1.375, 2.75, 1.0, 2.1052631578947367, 1.0, 2.875, 2.6153846153846154, 1.0, 3.125, 2.375, 1.0, 1.6, 1.0, 3.0, 2.75, 1.0, 1.0, 1.0, 2.25, 1.0, 1.0, 1.0, 2.3846153846153846, 1.0, 1.0, 2.25, 2.125, 1.0, 1.375, 2.625, 2.0, 1.8571428571428572, 2.875, 2.8, 1.3529411764705883, 2.5, 1.6, 1.75, 2.375, 3.375, 1.0, 2.5, 1.0, 3.0, 1.0, 2.625, 1.0, 1.75, 1.0, 2.625, 1.0, 2.7142857142857144, 1.75, 1.6666666666666667, 2.875, 1.0, 1.0, 2.75, 1.0, 4.0, 2.625, 3.75, 1.0, 2.125, 2.0, 1.0, 1.0, 1.8571428571428572, 1.0, 2.75, 1.0, 1.75, 3.0416666666666665, 1.75, 2.5454545454545454, 1.0, 1.75, 2.2857142857142856, 1.0, 2.8333333333333335, 3.0, 3.3333333333333335, 3.1666666666666665, 3.25, 3.375, 2.0, 2.4, 1.0, 2.5, 2.75, 1.0, 1.8571428571428572, 2.0, 3.125, 1.75, 3.2916666666666665, 2.625, 1.0, 2.0, 2.75, 1.0, 1.0, 2.5, 1.2307692307692308, 1.6, 2.0, 2.875, 1.0, 1.8181818181818181, 2.3125, 1.0, 2.2, 2.0714285714285716, 1.75, 1.0, 3.5, 1.75, 2.5454545454545454, 1.0, 2.375, 3.25, 1.0, 2.0, 1.0, 2.5, 3.142857142857143, 2.3333333333333335, 1.75, 1.75, 1.0, 2.5, 2.875, 3.5714285714285716, 1.4285714285714286, 3.0, 1.0, 1.6, 1.0, 1.75, 1.0, 2.5, 2.6, 1.375, 2.5, 2.875, 1.0, 3.25, 2.5, 1.0, 2.0, 1.0, 2.4210526315789473, 2.875, 1.4285714285714286, 2.5, 3.0, 1.0, 2.0, 1.0, 2.6153846153846154, 2.125, 3.75, 3.6, 3.0, 1.0, 2.3333333333333335, 1.0, 3.2857142857142856, 1.75, 3.25, 3.5, 3.25, 1.0, 1.0, 1.0, 1.6428571428571428, 2.375, 1.0, 2.625, 3.0, 3.076923076923077, 2.125, 1.0, 1.0, 3.4347826086956523, 2.0, 1.0, 2.0, 3.25, 2.0, 1.0, 1.0, 1.875, 1.0, 2.75, 1.0, 2.875, 2.8461538461538463, 2.0, 1.0, 2.6153846153846154, 1.0, 3.142857142857143, 1.6, 2.0, 1.0, 1.1875, 1.0, 3.125, 1.0, 3.25, 1.8571428571428572, 2.6666666666666665, 3.0, 1.0, 1.7894736842105263, 2.75, 3.875, 1.0, 1.2, 1.0, 2.625, 2.5, 1.6, 1.0, 2.0, 1.0, 1.4, 1.75, 3.5714285714285716, 2.125, 1.8571428571428572, 2.875, 2.5, 1.0, 1.9473684210526316, 2.2857142857142856, 3.0, 2.25, 3.125, 2.272727272727273, 2.0, 2.0, 1.0, 3.125, 2.5, 1.0, 2.25, 1.0, 2.75, 2.3125, 1.0, 1.0, 2.25, 3.375, 3.0, 1.0, 2.75, 2.5, 3.25, 1.75, 1.6, 3.25, 1.75, 1.3333333333333333, 1.0, 2.75, 2.0, 2.0, 2.5, 1.0, 2.0, 2.875, 1.75, 3.125, 1.0, 1.0, 2.3846153846153846, 1.0, 2.909090909090909, 1.0, 1.0, 1.0, 1.0, 2.75, 1.5, 2.25, 2.75, 1.6, 1.0, 2.5, 2.0, 3.25, 2.7142857142857144, 2.0, 2.0714285714285716, 2.75, 1.8571428571428572, 1.0, 2.75, 2.25, 2.6, 1.8823529411764706, 2.3333333333333335, 3.125, 2.0, 2.75, 2.1052631578947367, 2.0, 2.0, 1.0, 1.0, 2.0, 1.0, 1.0, 3.1818181818181817, 2.625, 2.2857142857142856, 2.0, 1.0, 1.0, 1.0, 2.5, 1.2608695652173914, 1.0, 1.4285714285714286, 1.0, 1.0, 2.2857142857142856, 2.875, 2.3, 1.6, 1.0, 1.5, 1.0, 2.0, 1.0, 1.0, 1.0, 1.0, 1.0, 1.0, 1.0, 1.2307692307692308, 1.0, 1.6, 1.0, 3.0526315789473686, 1.0, 1.0, 1.0, 1.0, 2.5, 1.8181818181818181, 1.0, 1.0, 1.0, 2.0, 1.0, 1.6, 1.0, 1.0, 2.4, 1.0, 2.0, 2.0, 1.0, 1.0, 2.0, 1.0, 1.0, 3.0, 1.0, 1.6, 1.0, 1.0, 1.0, 2.0, 1.75, 1.0, 1.0, 1.0, 1.6, 1.3333333333333333, 1.0, 1.0, 1.0, 1.0, 1.6666666666666667, 1.4285714285714286, 1.0, 1.375, 1.2727272727272727, 1.0, 1.6, 1.0, 1.0, 1.0, 1.0, 1.0, 1.0, 1.0, 2.2, 1.0, 1.0, 1.0, 1.5, 1.2727272727272727, 1.0, 2.0, 1.0, 1.0, 2.2857142857142856, 1.0, 1.0, 1.0, 1.5, 1.0, 1.6, 2.5, 1.6, 1.8571428571428572, 2.7142857142857144, 2.2, 1.0, 1.0, 1.0, 1.0, 1.6, 1.0, 1.4285714285714286, 1.0, 1.75, 1.375, 1.0, 1.0, 2.7142857142857144, 2.5, 1.0, 1.4285714285714286, 1.0, 1.0, 1.0, 1.3529411764705883, 1.0, 1.75, 1.0, 1.0, 1.5454545454545454, 2.3846153846153846, 2.5, 1.2727272727272727, 1.3, 1.0, 1.0, 1.75, 1.0, 2.625, 3.1176470588235294, 1.7777777777777777, 2.3846153846153846, 1.0, 1.0, 1.0, 1.0, 1.0, 1.0, 1.9, 1.0, 1.6666666666666667, 1.6, 1.0, 1.0, 1.0, 1.9375, 1.4285714285714286, 1.5, 1.4, 2.0, 1.0, 1.0, 1.8888888888888888, 1.4285714285714286, 1.0, 1.0, 1.0, 1.0, 1.0, 1.6, 1.0, 1.0, 1.0, 1.0, 1.0, 1.0, 1.0, 3.727272727272727, 1.0, 1.0, 1.0, 1.0, 1.8, 1.0, 1.0, 1.0, 1.0, 1.0, 1.0, 1.75, 1.0, 1.0, 1.0, 1.6, 1.0, 1.3, 1.0, 1.25, 1.0, 2.3846153846153846, 1.0, 1.0, 1.0, 1.0, 1.0, 1.0, 1.0, 2.8260869565217392, 1.0, 1.375, 1.0, 1.0, 1.0, 1.6, 1.0, 1.0, 1.0, 2.125, 1.9, 1.6666666666666667, 1.6666666666666667, 1.0, 1.0, 1.0, 1.0, 1.375, 1.75, 1.0, 2.0, 1.75, 1.0, 1.0, 1.0, 1.85, 1.0, 1.75, 1.0, 2.2, 1.5, 1.6, 1.375, 1.0, 1.0, 1.8181818181818181, 1.6, 2.2, 3.0, 2.5, 2.2, 1.0, 1.0, 1.0, 1.0, 1.6, 1.0, 1.0, 1.8888888888888888, 1.5714285714285714, 1.0, 1.3, 2.0, 1.0, 1.0, 1.0, 1.0, 1.0, 1.0, 1.0, 2.2, 1.3, 1.6, 1.0, 1.0, 3.076923076923077, 2.2857142857142856, 1.0, 1.875, 1.0, 2.411764705882353, 2.230769230769231, 1.0, 1.0, 1.0, 1.0, 1.6, 1.0, 2.0, 1.6666666666666667, 1.0, 2.6, 1.0, 1.0, 1.0, 1.0, 1.5, 1.0, 1.4615384615384615, 2.3333333333333335, 1.375, 1.5, 1.6428571428571428, 1.8571428571428572, 1.0, 1.0, 1.0, 1.7826086956521738, 1.5, 1.0, 1.45, 1.3, 2.2857142857142856, 1.0, 1.0, 1.0, 1.0, 1.0, 2.0714285714285716, 1.0, 1.5454545454545454, 1.0, 2.35, 1.1666666666666667, 1.0, 1.0, 1.0, 1.0, 1.0, 1.4285714285714286, 1.0, 1.0, 1.4285714285714286, 2.4444444444444446, 1.6, 1.6666666666666667, 1.4285714285714286, 1.0, 1.0, 1.375, 1.5454545454545454, 2.0, 1.6666666666666667, 1.6, 1.0, 1.0, 1.75, 2.3636363636363638, 2.7142857142857144, 1.75, 1.0, 1.0, 1.6, 1.0, 1.6, 1.0, 1.0, 1.0, 1.0, 1.0, 1.0, 1.0, 1.6, 1.0, 1.0, 1.75, 1.0, 1.0, 1.0, 1.0, 1.0, 1.0, 1.0, 2.0, 2.2, 1.0, 1.0, 1.0, 1.0, 1.3333333333333333, 1.6, 2.5, 1.0, 1.0, 1.6666666666666667, 1.0, 1.0, 1.0, 1.0, 1.5, 1.0, 1.0, 2.0, 3.090909090909091, 1.0, 2.909090909090909, 1.0, 1.0, 1.75, 1.0, 1.0, 1.25, 1.6, 1.0, 1.0, 1.6666666666666667, 1.75, 1.0, 1.0, 1.5, 1.0, 1.0, 1.4, 1.0, 1.75, 1.0, 2.5, 1.0, 1.3333333333333333, 1.75, 1.0, 1.0, 1.0, 1.2727272727272727, 3.0, 1.0, 1.0, 1.8571428571428572, 1.375, 1.0, 1.0, 1.0, 2.0714285714285716, 1.0, 1.2142857142857142, 1.5294117647058822, 1.0, 2.2857142857142856, 2.5, 1.6, 1.0, 1.0, 1.4285714285714286, 1.0, 1.5454545454545454, 1.4285714285714286, 1.0, 1.0, 1.0, 1.0, 1.0, 1.0, 2.764705882352941, 1.375, 1.0, 1.0, 1.0, 1.0, 1.6666666666666667, 1.5, 1.6, 1.0, 1.0, 1.0, 2.857142857142857, 2.5789473684210527, 1.0, 1.8571428571428572, 1.0, 1.8, 1.0, 1.0, 1.0, 1.0, 1.0, 2.1538461538461537, 1.0, 1.6, 1.0, 1.0, 1.0, 1.5, 1.0, 1.0, 1.0, 1.0, 2.7222222222222223, 1.0, 1.75, 1.0, 1.4285714285714286, 2.0, 1.0, 1.0, 1.0, 1.4615384615384615, 2.25, 2.25, 1.0, 1.0, 1.0, 3.25, 1.0, 1.3333333333333333, 1.0, 1.0, 2.1363636363636362, 1.0, 2.5, 1.0, 1.0, 2.0, 1.0, 1.8571428571428572, 1.0, 1.0, 1.0, 1.0, 1.0, 2.0, 1.5, 1.0, 1.0, 1.0, 2.2222222222222223, 3.25, 1.0, 1.5, 1.2142857142857142, 1.1666666666666667, 1.0, 1.0, 1.4285714285714286, 1.0, 1.0, 1.0, 1.0, 1.0, 1.0, 1.0, 1.0, 1.0, 1.0, 2.5, 1.0, 1.0, 1.0, 1.0, 1.4285714285714286, 2.2, 1.0, 3.3076923076923075, 1.75, 2.0, 1.0, 2.3125, 1.6666666666666667, 1.75, 1.0, 1.0, 1.8571428571428572, 1.6, 1.0, 1.3333333333333333, 1.0, 1.0, 1.0, 1.0, 1.0, 1.0, 1.0, 2.772727272727273, 1.0, 1.0, 1.5, 1.6666666666666667, 1.25, 1.0, 1.75, 1.0, 1.0, 1.0, 1.0, 1.5, 1.9473684210526316, 1.0, 1.0, 1.0, 1.0, 2.4545454545454546, 1.0, 2.3333333333333335, 1.0, 1.0, 1.0, 1.0, 1.0, 1.0, 1.6923076923076923, 1.0, 1.3333333333333333, 1.0, 1.4285714285714286, 2.3636363636363638, 1.0, 1.375, 1.0, 1.0, 1.0, 1.0, 1.0, 1.0, 1.6, 1.0, 1.0, 2.8, 2.5714285714285716, 1.4285714285714286, 1.375, 1.0, 1.4285714285714286, 2.125, 1.0, 1.0, 3.5714285714285716, 2.0, 1.75, 1.0, 1.6, 1.0, 1.0, 1.0, 2.8461538461538463, 1.0, 3.0, 1.0, 1.0, 1.0, 1.625, 1.0, 1.6, 1.0, 1.0, 1.0, 2.090909090909091, 1.0, 1.3333333333333333, 1.0, 1.0, 1.0, 1.0, 1.0, 1.25, 1.0, 1.0, 2.391304347826087, 1.0, 1.2727272727272727, 1.5, 2.5454545454545454, 1.0, 1.0, 1.0, 2.0, 1.0, 1.4, 1.0, 1.0, 1.0, 1.0, 1.4285714285714286, 1.0, 1.0, 2.1052631578947367, 3.176470588235294, 1.0, 1.0, 2.5, 1.0, 2.0, 1.0, 1.0, 1.0, 1.0, 1.0, 1.0, 1.6666666666666667, 2.5, 2.6, 1.6428571428571428, 1.0, 1.9, 1.6666666666666667, 1.0, 1.0, 1.0, 1.6, 1.5, 1.0, 2.1538461538461537, 1.0, 1.0, 1.0, 1.0, 1.0, 1.6, 1.0, 1.0, 2.75, 1.0, 1.0, 1.0, 1.0, 1.0, 1.0, 1.0, 1.6666666666666667, 1.375, 1.0, 2.3, 1.0, 1.0, 1.0, 1.6, 1.0, 1.4, 1.0, 1.0, 1.0, 1.6, 1.0, 1.0, 1.5, 1.0, 1.0, 1.75, 1.0, 1.6, 1.0, 1.0, 1.8571428571428572, 1.3333333333333333, 1.0, 1.8181818181818181, 1.0, 1.0, 1.0, 1.6, 1.0, 1.0, 1.0, 1.8571428571428572, 1.0, 1.0, 1.6923076923076923, 1.0, 1.0, 1.0, 2.0, 1.2727272727272727, 1.0, 1.0, 1.0, 1.0, 1.0, 2.235294117647059, 1.0, 1.75, 1.0, 1.4285714285714286, 3.25, 1.0, 1.6, 1.0, 1.0, 1.8571428571428572, 1.0, 2.6666666666666665, 1.0, 1.3333333333333333, 1.0, 1.0, 1.0, 1.6666666666666667, 1.0, 1.0, 2.5, 1.0, 1.0, 1.0, 1.5, 1.6, 1.6666666666666667, 1.3333333333333333, 1.0, 1.0, 1.375, 2.8, 1.6, 1.5, 1.75, 1.0, 2.176470588235294, 1.5, 1.0, 1.5, 1.0, 1.0, 1.0, 1.0, 1.0, 1.0, 1.0, 1.0, 2.6666666666666665, 1.5, 1.0, 2.75, 2.0, 1.0, 1.0, 1.0, 1.3333333333333333, 1.5, 1.7142857142857142, 3.1538461538461537, 3.75, 1.0, 1.0, 1.3333333333333333, 3.235294117647059, 1.6, 1.75, 1.0, 1.0, 1.0, 1.0, 2.2, 1.0, 1.0, 1.0, 1.0, 1.0, 1.6666666666666667, 1.375, 1.0, 1.0, 2.25, 1.0, 1.0, 1.0, 1.0, 1.0, 1.0, 2.5, 2.2857142857142856, 1.625, 2.0, 1.5, 1.5, 2.25, 1.8571428571428572, 1.0, 1.4285714285714286, 1.0, 1.0, 1.0, 1.0, 1.0, 1.6666666666666667, 1.0, 2.6923076923076925, 1.6, 1.0, 1.0, 1.0, 1.0, 2.2, 1.6, 3.0, 1.0, 1.0, 2.0, 2.0, 2.15, 1.6, 2.3125, 1.0, 1.0, 2.1052631578947367, 1.0, 1.0, 1.0, 1.0, 1.0, 2.75, 1.0, 2.2857142857142856, 1.0, 2.0, 1.0, 1.5294117647058822, 1.8571428571428572, 1.0, 1.0, 1.0, 1.0, 2.25, 2.0, 2.5, 1.0, 1.4285714285714286, 1.0, 1.75, 1.0, 1.0, 2.3333333333333335, 2.25, 1.0, 1.0, 1.0, 1.0, 3.0, 1.0, 1.0, 1.0, 1.0, 1.75, 1.0, 1.0, 4.0, 1.0, 2.769230769230769, 1.0, 1.0, 1.0, 1.0, 2.176470588235294, 1.0, 1.0, 1.0, 2.0, 1.25, 1.0, 1.1875, 1.0, 1.0, 2.090909090909091, 1.0, 3.625, 4.0, 1.75, 1.0, 1.8333333333333333, 1.5, 2.0, 1.0, 1.2857142857142858, 1.0, 1.0, 1.8181818181818181, 1.0, 2.0, 1.0, 1.0, 1.0, 1.375, 1.0, 1.0, 3.4, 1.0, 1.0, 2.5, 1.0, 1.3157894736842106, 2.2142857142857144, 1.0, 1.0, 1.45, 1.0, 1.0, 1.0, 2.0, 1.0, 1.0, 1.0, 2.0, 1.0, 1.0, 1.0, 2.8, 1.0, 1.0, 2.764705882352941, 1.0, 1.4705882352941178, 1.0, 1.0, 1.0, 1.0, 2.090909090909091, 1.3333333333333333, 1.0, 1.0, 1.0, 1.0, 1.0, 1.0, 1.0, 1.0, 1.8181818181818181, 1.75, 1.0, 1.6666666666666667, 1.0, 2.0, 1.0, 1.0, 2.0, 1.0, 1.0, 1.0, 1.0, 1.0, 2.0, 1.0, 2.125, 1.75, 2.2857142857142856, 1.0, 1.0, 1.0, 1.0, 1.6666666666666667, 2.0, 1.0, 1.6923076923076923, 1.0, 1.0, 1.0, 1.4285714285714286, 1.0, 1.0, 1.0, 1.0, 1.8571428571428572, 1.0, 1.6666666666666667, 1.0, 2.5, 1.7142857142857142, 1.0, 2.0, 2.0, 1.0, 3.0, 1.0, 1.0, 1.0, 1.0, 1.75, 1.0, 1.0, 1.0, 1.0, 1.0, 3.3333333333333335, 1.8333333333333333, 1.2727272727272727, 1.75, 1.0, 1.6, 1.0, 1.0, 1.0, 1.0, 1.0, 1.0, 1.9, 1.0, 1.0, 1.75, 1.0, 1.0, 1.3333333333333333, 1.0, 2.0, 1.0, 1.7142857142857142, 1.8181818181818181, 1.4285714285714286, 1.0, 1.6, 2.5, 1.0, 1.0, 1.0, 1.3, 1.0, 1.0, 1.0, 1.0, 1.0, 2.0, 1.6, 1.75, 1.375, 1.8, 1.0, 1.3333333333333333, 1.0, 1.0, 1.2307692307692308, 1.0, 1.0, 1.75, 1.375, 2.4285714285714284, 1.0, 1.0, 1.0, 1.0, 1.0, 2.3333333333333335, 1.0, 1.0, 1.0, 1.3333333333333333, 1.0, 1.5454545454545454, 1.0, 2.6, 1.6, 2.0, 1.0, 1.0, 1.0, 2.2857142857142856, 2.5, 1.0, 1.2727272727272727, 1.0, 1.8333333333333333, 1.0, 1.0, 1.0, 1.0, 2.2, 2.0, 1.0, 1.0, 2.375, 1.4285714285714286, 1.0, 3.4, 1.0, 1.0, 1.0, 1.4285714285714286, 1.0, 1.0, 2.0, 1.7894736842105263, 1.8571428571428572, 1.0, 1.0, 1.0, 1.6, 1.0, 1.0, 1.5, 2.176470588235294, 2.125, 1.0, 1.0, 1.0, 1.0, 1.0, 2.1176470588235294, 2.6666666666666665, 1.0, 1.3333333333333333, 1.0, 1.5, 1.0, 1.0, 1.0, 3.25, 1.1, 1.0, 1.75, 1.0, 2.7142857142857144, 1.0, 2.0, 1.9166666666666667, 1.0, 1.0, 1.0, 1.0, 3.1818181818181817, 1.0, 1.5454545454545454, 1.6, 1.0, 2.0, 1.0, 1.0, 1.0, 1.5, 1.0, 2.3076923076923075, 1.375, 1.0, 1.0, 1.0, 1.4285714285714286, 2.125, 1.0, 1.0, 1.6, 1.0, 1.0, 1.0, 1.0, 1.0, 1.0, 2.2857142857142856, 1.0, 1.0, 1.0, 1.0, 1.8, 1.0, 1.0, 1.4285714285714286, 1.6, 1.0, 1.4285714285714286, 1.0, 2.0588235294117645, 1.0, 1.0, 1.0, 2.076923076923077, 2.625, 1.75, 1.0, 1.0, 1.0, 2.5, 1.0, 1.0, 1.6, 1.0, 2.4210526315789473, 1.0, 2.1666666666666665, 1.0, 1.0, 1.0, 1.8421052631578947, 1.0, 1.0, 1.6, 1.0, 2.3333333333333335, 1.4285714285714286, 1.0, 1.0, 2.5, 3.0, 1.5, 1.75, 1.0, 1.0, 2.75, 1.0, 1.0, 2.260869565217391, 1.25, 1.6, 1.0, 1.75, 2.6666666666666665, 1.0, 2.2, 1.0, 2.2, 1.0, 1.0, 1.0, 1.0, 1.0, 1.0, 1.0, 1.0, 2.5, 2.0, 2.2857142857142856, 1.0, 1.0, 2.0, 1.0, 1.0, 1.5, 1.5, 1.0, 2.0, 1.0, 1.0, 1.6, 1.0, 1.0, 1.2142857142857142, 1.0, 1.0, 1.0, 1.0, 1.0, 1.0, 1.0, 1.0, 1.6666666666666667, 1.0, 3.076923076923077, 1.0, 1.0, 1.0, 1.0, 1.0, 1.0, 1.0, 1.0, 1.0, 1.3, 1.3, 1.0, 1.0, 1.0, 1.0, 1.0, 1.0, 1.0, 1.0, 1.0, 2.0, 1.0, 1.0, 1.0, 1.9230769230769231, 2.0, 1.0, 1.75, 1.0, 1.6428571428571428, 1.0, 1.0, 1.0, 1.5, 1.0, 1.6666666666666667, 1.0, 2.736842105263158, 1.0, 1.0, 1.0, 1.0, 2.3333333333333335, 1.75, 1.6, 1.4285714285714286, 1.0, 1.6, 1.8888888888888888, 1.0, 1.0, 2.272727272727273, 1.0, 2.2, 1.0, 2.6666666666666665, 1.0, 1.0, 1.0, 2.8461538461538463, 1.6666666666666667, 1.0, 1.0, 2.3043478260869565, 1.0, 1.0, 1.2142857142857142, 1.0, 1.5, 1.0, 1.0, 1.0, 1.0, 1.0, 1.7272727272727273, 1.0, 1.0, 2.0, 2.0, 1.0, 1.4615384615384615, 1.3333333333333333, 1.9230769230769231, 1.0, 1.7142857142857142, 1.0, 2.6153846153846154, 1.8333333333333333, 2.0, 1.75, 1.0, 1.0, 1.0, 1.0, 1.0, 2.5, 2.5, 1.0, 1.0, 1.0, 2.75, 1.0, 2.2857142857142856, 1.6666666666666667, 1.0, 1.1428571428571428, 1.7058823529411764, 2.909090909090909, 2.6363636363636362, 2.5, 2.0, 1.0, 2.8333333333333335, 3.142857142857143, 1.9375, 1.0, 1.375, 1.0, 1.0, 1.0, 1.0, 1.0, 1.5, 1.5, 1.4285714285714286, 2.6666666666666665, 1.0, 1.0, 1.0, 1.3333333333333333, 2.2, 1.2727272727272727, 1.0, 1.4285714285714286, 1.7, 2.0, 1.0, 1.0, 1.75, 1.0, 1.0, 2.0, 1.0, 1.0, 3.0, 2.55, 1.5, 2.5, 1.0, 1.5, 1.0, 3.076923076923077, 1.0, 1.631578947368421, 1.0, 1.0, 1.0, 1.0, 1.0, 2.5, 1.5454545454545454, 2.5652173913043477, 1.0, 1.6, 1.0, 1.6666666666666667, 1.0, 1.0, 2.5, 1.3333333333333333, 2.4, 1.0, 2.5, 2.0, 1.0, 1.4285714285714286, 1.0, 1.0, 1.0, 1.0, 1.6, 1.0, 1.0, 1.0, 1.0, 1.0, 1.2727272727272727, 1.4285714285714286, 1.0, 2.125, 2.6363636363636362, 2.125, 1.0, 1.0, 2.5, 3.25, 1.0, 1.75, 1.0, 2.5, 1.0, 2.0, 1.0, 2.4210526315789473, 2.8461538461538463, 2.625, 1.8, 1.0, 1.0, 1.0, 1.0, 2.0714285714285716, 1.0, 1.0, 1.0, 1.2, 1.0, 1.0, 2.5, 1.0, 1.0, 1.0, 1.25, 1.6, 1.6, 1.5, 1.8571428571428572, 1.6923076923076923, 1.375, 1.0, 1.0, 1.0, 1.0, 1.0, 1.0, 1.0, 1.0, 1.0, 2.3846153846153846, 1.0, 1.0, 1.0, 1.0, 1.0, 1.0, 1.9333333333333333, 1.0, 1.5, 1.0, 1.25, 1.0, 2.2857142857142856, 1.0, 2.2, 1.8571428571428572, 1.0, 1.0, 1.0, 1.0, 1.0, 2.8461538461538463, 1.0, 2.0, 1.0, 1.0, 1.0, 1.0, 1.0, 2.0, 1.0, 1.375, 1.0, 2.5, 1.0, 2.5, 1.0, 2.875, 1.5, 1.6, 1.375, 2.7142857142857144, 1.0, 1.0, 1.0, 1.0, 1.6666666666666667, 1.5], \"y0\": \" \", \"yaxis\": \"y\"}],\n",
              "                        {\"boxmode\": \"group\", \"legend\": {\"tracegroupgap\": 0}, \"margin\": {\"t\": 60}, \"template\": {\"data\": {\"bar\": [{\"error_x\": {\"color\": \"#2a3f5f\"}, \"error_y\": {\"color\": \"#2a3f5f\"}, \"marker\": {\"line\": {\"color\": \"#E5ECF6\", \"width\": 0.5}}, \"type\": \"bar\"}], \"barpolar\": [{\"marker\": {\"line\": {\"color\": \"#E5ECF6\", \"width\": 0.5}}, \"type\": \"barpolar\"}], \"carpet\": [{\"aaxis\": {\"endlinecolor\": \"#2a3f5f\", \"gridcolor\": \"white\", \"linecolor\": \"white\", \"minorgridcolor\": \"white\", \"startlinecolor\": \"#2a3f5f\"}, \"baxis\": {\"endlinecolor\": \"#2a3f5f\", \"gridcolor\": \"white\", \"linecolor\": \"white\", \"minorgridcolor\": \"white\", \"startlinecolor\": \"#2a3f5f\"}, \"type\": \"carpet\"}], \"choropleth\": [{\"colorbar\": {\"outlinewidth\": 0, \"ticks\": \"\"}, \"type\": \"choropleth\"}], \"contour\": [{\"colorbar\": {\"outlinewidth\": 0, \"ticks\": \"\"}, \"colorscale\": [[0.0, \"#0d0887\"], [0.1111111111111111, \"#46039f\"], [0.2222222222222222, \"#7201a8\"], [0.3333333333333333, \"#9c179e\"], [0.4444444444444444, \"#bd3786\"], [0.5555555555555556, \"#d8576b\"], [0.6666666666666666, \"#ed7953\"], [0.7777777777777778, \"#fb9f3a\"], [0.8888888888888888, \"#fdca26\"], [1.0, \"#f0f921\"]], \"type\": \"contour\"}], \"contourcarpet\": [{\"colorbar\": {\"outlinewidth\": 0, \"ticks\": \"\"}, \"type\": \"contourcarpet\"}], \"heatmap\": [{\"colorbar\": {\"outlinewidth\": 0, \"ticks\": \"\"}, \"colorscale\": [[0.0, \"#0d0887\"], [0.1111111111111111, \"#46039f\"], [0.2222222222222222, \"#7201a8\"], [0.3333333333333333, \"#9c179e\"], [0.4444444444444444, \"#bd3786\"], [0.5555555555555556, \"#d8576b\"], [0.6666666666666666, \"#ed7953\"], [0.7777777777777778, \"#fb9f3a\"], [0.8888888888888888, \"#fdca26\"], [1.0, \"#f0f921\"]], \"type\": \"heatmap\"}], \"heatmapgl\": [{\"colorbar\": {\"outlinewidth\": 0, \"ticks\": \"\"}, \"colorscale\": [[0.0, \"#0d0887\"], [0.1111111111111111, \"#46039f\"], [0.2222222222222222, \"#7201a8\"], [0.3333333333333333, \"#9c179e\"], [0.4444444444444444, \"#bd3786\"], [0.5555555555555556, \"#d8576b\"], [0.6666666666666666, \"#ed7953\"], [0.7777777777777778, \"#fb9f3a\"], [0.8888888888888888, \"#fdca26\"], [1.0, \"#f0f921\"]], \"type\": \"heatmapgl\"}], \"histogram\": [{\"marker\": {\"colorbar\": {\"outlinewidth\": 0, \"ticks\": \"\"}}, \"type\": \"histogram\"}], \"histogram2d\": [{\"colorbar\": {\"outlinewidth\": 0, \"ticks\": \"\"}, \"colorscale\": [[0.0, \"#0d0887\"], [0.1111111111111111, \"#46039f\"], [0.2222222222222222, \"#7201a8\"], [0.3333333333333333, \"#9c179e\"], [0.4444444444444444, \"#bd3786\"], [0.5555555555555556, \"#d8576b\"], [0.6666666666666666, \"#ed7953\"], [0.7777777777777778, \"#fb9f3a\"], [0.8888888888888888, \"#fdca26\"], [1.0, \"#f0f921\"]], \"type\": \"histogram2d\"}], \"histogram2dcontour\": [{\"colorbar\": {\"outlinewidth\": 0, \"ticks\": \"\"}, \"colorscale\": [[0.0, \"#0d0887\"], [0.1111111111111111, \"#46039f\"], [0.2222222222222222, \"#7201a8\"], [0.3333333333333333, \"#9c179e\"], [0.4444444444444444, \"#bd3786\"], [0.5555555555555556, \"#d8576b\"], [0.6666666666666666, \"#ed7953\"], [0.7777777777777778, \"#fb9f3a\"], [0.8888888888888888, \"#fdca26\"], [1.0, \"#f0f921\"]], \"type\": \"histogram2dcontour\"}], \"mesh3d\": [{\"colorbar\": {\"outlinewidth\": 0, \"ticks\": \"\"}, \"type\": \"mesh3d\"}], \"parcoords\": [{\"line\": {\"colorbar\": {\"outlinewidth\": 0, \"ticks\": \"\"}}, \"type\": \"parcoords\"}], \"pie\": [{\"automargin\": true, \"type\": \"pie\"}], \"scatter\": [{\"marker\": {\"colorbar\": {\"outlinewidth\": 0, \"ticks\": \"\"}}, \"type\": \"scatter\"}], \"scatter3d\": [{\"line\": {\"colorbar\": {\"outlinewidth\": 0, \"ticks\": \"\"}}, \"marker\": {\"colorbar\": {\"outlinewidth\": 0, \"ticks\": \"\"}}, \"type\": \"scatter3d\"}], \"scattercarpet\": [{\"marker\": {\"colorbar\": {\"outlinewidth\": 0, \"ticks\": \"\"}}, \"type\": \"scattercarpet\"}], \"scattergeo\": [{\"marker\": {\"colorbar\": {\"outlinewidth\": 0, \"ticks\": \"\"}}, \"type\": \"scattergeo\"}], \"scattergl\": [{\"marker\": {\"colorbar\": {\"outlinewidth\": 0, \"ticks\": \"\"}}, \"type\": \"scattergl\"}], \"scattermapbox\": [{\"marker\": {\"colorbar\": {\"outlinewidth\": 0, \"ticks\": \"\"}}, \"type\": \"scattermapbox\"}], \"scatterpolar\": [{\"marker\": {\"colorbar\": {\"outlinewidth\": 0, \"ticks\": \"\"}}, \"type\": \"scatterpolar\"}], \"scatterpolargl\": [{\"marker\": {\"colorbar\": {\"outlinewidth\": 0, \"ticks\": \"\"}}, \"type\": \"scatterpolargl\"}], \"scatterternary\": [{\"marker\": {\"colorbar\": {\"outlinewidth\": 0, \"ticks\": \"\"}}, \"type\": \"scatterternary\"}], \"surface\": [{\"colorbar\": {\"outlinewidth\": 0, \"ticks\": \"\"}, \"colorscale\": [[0.0, \"#0d0887\"], [0.1111111111111111, \"#46039f\"], [0.2222222222222222, \"#7201a8\"], [0.3333333333333333, \"#9c179e\"], [0.4444444444444444, \"#bd3786\"], [0.5555555555555556, \"#d8576b\"], [0.6666666666666666, \"#ed7953\"], [0.7777777777777778, \"#fb9f3a\"], [0.8888888888888888, \"#fdca26\"], [1.0, \"#f0f921\"]], \"type\": \"surface\"}], \"table\": [{\"cells\": {\"fill\": {\"color\": \"#EBF0F8\"}, \"line\": {\"color\": \"white\"}}, \"header\": {\"fill\": {\"color\": \"#C8D4E3\"}, \"line\": {\"color\": \"white\"}}, \"type\": \"table\"}]}, \"layout\": {\"annotationdefaults\": {\"arrowcolor\": \"#2a3f5f\", \"arrowhead\": 0, \"arrowwidth\": 1}, \"coloraxis\": {\"colorbar\": {\"outlinewidth\": 0, \"ticks\": \"\"}}, \"colorscale\": {\"diverging\": [[0, \"#8e0152\"], [0.1, \"#c51b7d\"], [0.2, \"#de77ae\"], [0.3, \"#f1b6da\"], [0.4, \"#fde0ef\"], [0.5, \"#f7f7f7\"], [0.6, \"#e6f5d0\"], [0.7, \"#b8e186\"], [0.8, \"#7fbc41\"], [0.9, \"#4d9221\"], [1, \"#276419\"]], \"sequential\": [[0.0, \"#0d0887\"], [0.1111111111111111, \"#46039f\"], [0.2222222222222222, \"#7201a8\"], [0.3333333333333333, \"#9c179e\"], [0.4444444444444444, \"#bd3786\"], [0.5555555555555556, \"#d8576b\"], [0.6666666666666666, \"#ed7953\"], [0.7777777777777778, \"#fb9f3a\"], [0.8888888888888888, \"#fdca26\"], [1.0, \"#f0f921\"]], \"sequentialminus\": [[0.0, \"#0d0887\"], [0.1111111111111111, \"#46039f\"], [0.2222222222222222, \"#7201a8\"], [0.3333333333333333, \"#9c179e\"], [0.4444444444444444, \"#bd3786\"], [0.5555555555555556, \"#d8576b\"], [0.6666666666666666, \"#ed7953\"], [0.7777777777777778, \"#fb9f3a\"], [0.8888888888888888, \"#fdca26\"], [1.0, \"#f0f921\"]]}, \"colorway\": [\"#636efa\", \"#EF553B\", \"#00cc96\", \"#ab63fa\", \"#FFA15A\", \"#19d3f3\", \"#FF6692\", \"#B6E880\", \"#FF97FF\", \"#FECB52\"], \"font\": {\"color\": \"#2a3f5f\"}, \"geo\": {\"bgcolor\": \"white\", \"lakecolor\": \"white\", \"landcolor\": \"#E5ECF6\", \"showlakes\": true, \"showland\": true, \"subunitcolor\": \"white\"}, \"hoverlabel\": {\"align\": \"left\"}, \"hovermode\": \"closest\", \"mapbox\": {\"style\": \"light\"}, \"paper_bgcolor\": \"white\", \"plot_bgcolor\": \"#E5ECF6\", \"polar\": {\"angularaxis\": {\"gridcolor\": \"white\", \"linecolor\": \"white\", \"ticks\": \"\"}, \"bgcolor\": \"#E5ECF6\", \"radialaxis\": {\"gridcolor\": \"white\", \"linecolor\": \"white\", \"ticks\": \"\"}}, \"scene\": {\"xaxis\": {\"backgroundcolor\": \"#E5ECF6\", \"gridcolor\": \"white\", \"gridwidth\": 2, \"linecolor\": \"white\", \"showbackground\": true, \"ticks\": \"\", \"zerolinecolor\": \"white\"}, \"yaxis\": {\"backgroundcolor\": \"#E5ECF6\", \"gridcolor\": \"white\", \"gridwidth\": 2, \"linecolor\": \"white\", \"showbackground\": true, \"ticks\": \"\", \"zerolinecolor\": \"white\"}, \"zaxis\": {\"backgroundcolor\": \"#E5ECF6\", \"gridcolor\": \"white\", \"gridwidth\": 2, \"linecolor\": \"white\", \"showbackground\": true, \"ticks\": \"\", \"zerolinecolor\": \"white\"}}, \"shapedefaults\": {\"line\": {\"color\": \"#2a3f5f\"}}, \"ternary\": {\"aaxis\": {\"gridcolor\": \"white\", \"linecolor\": \"white\", \"ticks\": \"\"}, \"baxis\": {\"gridcolor\": \"white\", \"linecolor\": \"white\", \"ticks\": \"\"}, \"bgcolor\": \"#E5ECF6\", \"caxis\": {\"gridcolor\": \"white\", \"linecolor\": \"white\", \"ticks\": \"\"}}, \"title\": {\"x\": 0.05}, \"xaxis\": {\"automargin\": true, \"gridcolor\": \"white\", \"linecolor\": \"white\", \"ticks\": \"\", \"title\": {\"standoff\": 15}, \"zerolinecolor\": \"white\", \"zerolinewidth\": 2}, \"yaxis\": {\"automargin\": true, \"gridcolor\": \"white\", \"linecolor\": \"white\", \"ticks\": \"\", \"title\": {\"standoff\": 15}, \"zerolinecolor\": \"white\", \"zerolinewidth\": 2}}}, \"xaxis\": {\"anchor\": \"y\", \"domain\": [0.0, 1.0]}, \"yaxis\": {\"anchor\": \"x\", \"domain\": [0.0, 1.0], \"title\": {\"text\": \"Quarterly Rating\"}}},\n",
              "                        {\"responsive\": true}\n",
              "                    ).then(function(){\n",
              "                            \n",
              "var gd = document.getElementById('1b08350f-a660-4a61-ab68-07e76d16abc8');\n",
              "var x = new MutationObserver(function (mutations, observer) {{\n",
              "        var display = window.getComputedStyle(gd).display;\n",
              "        if (!display || display === 'none') {{\n",
              "            console.log([gd, 'removed!']);\n",
              "            Plotly.purge(gd);\n",
              "            observer.disconnect();\n",
              "        }}\n",
              "}});\n",
              "\n",
              "// Listen for the removal of the full notebook cells\n",
              "var notebookContainer = gd.closest('#notebook-container');\n",
              "if (notebookContainer) {{\n",
              "    x.observe(notebookContainer, {childList: true});\n",
              "}}\n",
              "\n",
              "// Listen for the clearing of the current output cell\n",
              "var outputEl = gd.closest('.output');\n",
              "if (outputEl) {{\n",
              "    x.observe(outputEl, {childList: true});\n",
              "}}\n",
              "\n",
              "                        })\n",
              "                };\n",
              "                \n",
              "            </script>\n",
              "        </div>\n",
              "</body>\n",
              "</html>"
            ]
          },
          "metadata": {
            "tags": []
          }
        }
      ]
    },
    {
      "cell_type": "markdown",
      "metadata": {
        "id": "fBSbce36K4L_"
      },
      "source": [
        "### Salary"
      ]
    },
    {
      "cell_type": "code",
      "metadata": {
        "colab": {
          "base_uri": "https://localhost:8080/",
          "height": 0
        },
        "id": "ctfx9_5NLC5k",
        "outputId": "b3244461-1bf1-416b-c130-08a9e1fb6500"
      },
      "source": [
        "plot_graphs(train_pivot, 'Salary')"
      ],
      "execution_count": 986,
      "outputs": [
        {
          "output_type": "display_data",
          "data": {
            "text/html": [
              "<html>\n",
              "<head><meta charset=\"utf-8\" /></head>\n",
              "<body>\n",
              "    <div>\n",
              "            <script src=\"https://cdnjs.cloudflare.com/ajax/libs/mathjax/2.7.5/MathJax.js?config=TeX-AMS-MML_SVG\"></script><script type=\"text/javascript\">if (window.MathJax) {MathJax.Hub.Config({SVG: {font: \"STIX-Web\"}});}</script>\n",
              "                <script type=\"text/javascript\">window.PlotlyConfig = {MathJaxConfig: 'local'};</script>\n",
              "        <script src=\"https://cdn.plot.ly/plotly-latest.min.js\"></script>    \n",
              "            <div id=\"c0e697ee-97dc-4d17-bc2a-3310e379c954\" class=\"plotly-graph-div\" style=\"height:525px; width:100%;\"></div>\n",
              "            <script type=\"text/javascript\">\n",
              "                \n",
              "                    window.PLOTLYENV=window.PLOTLYENV || {};\n",
              "                    \n",
              "                if (document.getElementById(\"c0e697ee-97dc-4d17-bc2a-3310e379c954\")) {\n",
              "                    Plotly.newPlot(\n",
              "                        'c0e697ee-97dc-4d17-bc2a-3310e379c954',\n",
              "                        [{\"alignmentgroup\": \"True\", \"bingroup\": \"x\", \"hoverlabel\": {\"namelength\": 0}, \"hovertemplate\": \"left=False<br>Salary=%{x}<br>count=%{y}\", \"legendgroup\": \"left=False\", \"marker\": {\"color\": \"rgb(102, 197, 204)\"}, \"name\": \"left=False\", \"offsetgroup\": \"left=False\", \"orientation\": \"v\", \"showlegend\": true, \"type\": \"histogram\", \"x\": [67016.0, 78728.0, 42172.0, 19734.0, 102077.0, 126132.33333333333, 65189.0, 72888.0, 92372.0, 77544.0, 28000.0, 48687.0, 121816.94444444444, 80223.0, 83992.5, 62376.0, 93931.0, 65982.0, 79288.0, 42242.0, 63918.0, 105946.0, 56687.0, 49509.0, 119341.0, 80771.0, 60332.0, 33927.0, 50466.0, 89456.0, 31752.0, 144978.0, 57406.0, 60708.0, 76904.0, 98877.0, 33459.0, 72253.0, 45288.0, 29013.0, 33057.0, 56174.0, 26926.0, 36483.0, 63380.0, 66952.0, 87902.0, 28921.0, 15826.0, 12968.0, 64583.0, 59947.0, 27979.0, 44792.0, 139139.0, 52616.0, 75626.0, 60228.0, 81700.0, 25459.0, 19170.0, 40381.0, 134529.0, 64901.0, 40259.0, 53224.0, 91149.5, 107495.0, 78607.0, 57420.0, 62901.0, 51110.0, 13793.0, 65094.0, 109473.0, 53025.0, 188418.0, 77597.0, 58439.0, 58391.25, 64558.0, 69160.0, 133752.0, 71154.0, 94685.0, 49592.0, 35284.0, 71326.0, 50609.0, 127616.0, 117830.0, 107473.0, 51609.0, 44630.0, 47368.0, 49113.0, 109992.0, 88715.0, 121332.0, 35057.0, 12938.0, 77156.0, 43611.0, 133783.0, 97722.0, 63280.0, 65729.0, 91279.0, 24049.0, 58207.0, 33320.0, 56243.0, 61575.0, 42027.0, 80489.0, 78754.0, 30921.0, 88180.0, 50457.0, 82480.5, 113125.0, 81288.0, 36856.0, 50832.0, 65389.0, 32466.0, 70415.0, 123361.0, 54992.0, 16749.0, 67194.0, 46139.0, 83429.0, 132558.0, 52307.0, 110964.0, 65571.0, 47668.0, 96956.0, 48682.0, 92079.0, 68751.0, 58130.0, 41099.0, 27882.0, 82822.0, 68045.0, 61243.0, 87872.0, 78641.69230769231, 29698.0, 96233.0, 34793.0, 20993.0, 34536.0, 55239.0, 55670.0, 65170.0, 51658.0, 44342.0, 152234.0, 43855.0, 56543.0, 56442.5, 111743.0, 37929.0, 95826.0, 39391.0, 51426.0, 52641.0, 48363.142857142855, 59926.0, 96680.0, 100882.0, 67624.0, 41093.0, 55828.0, 85926.0, 71458.0, 65856.0, 95352.0, 21673.0, 32150.0, 79801.0, 53454.0, 104712.0, 139347.5, 66599.0, 86516.0, 63632.0, 34741.0, 71776.0, 18928.0, 42953.0, 105966.0, 76548.0, 40041.0, 36967.0, 31411.0, 51840.0, 40008.0, 123729.0, 118215.0, 76536.0, 62931.0, 110299.0, 31182.0, 83615.0, 69388.0, 34780.0, 58312.875, 67490.0, 101880.0, 42243.0, 13937.0, 88414.0, 24752.0, 46131.0, 50210.0, 105510.0, 56243.0, 59656.0, 44820.0, 35024.0, 22913.0, 123216.0, 28308.0, 107149.0, 75986.0, 42314.0, 54209.0, 67885.66666666667, 84961.0, 92670.0, 62810.0, 63080.0, 78647.0, 45531.0, 56133.0, 55115.0, 114358.0, 32446.0, 64187.0, 63298.0, 58747.0, 83969.0, 66179.0, 88813.0, 45871.0, 122941.0, 35803.0, 93000.0, 93822.0, 44241.0, 52254.875, 47988.0, 73308.0, 55857.0, 101179.0, 108997.0, 72974.0, 21646.0, 75765.0, 42607.0, 24923.0, 83025.0, 58803.0, 27483.0, 43996.0, 29492.0, 85685.0, 107936.0, 48483.0, 90484.0, 72118.0, 60672.0, 60797.0, 119806.0, 61823.0, 52083.0, 36811.0, 30930.0, 60396.0, 87047.0, 32652.0, 48868.0, 20363.0, 62990.625, 17000.0, 135414.0, 138069.0, 93121.0, 32062.791666666668, 77483.0, 92940.0, 92713.0, 52553.0, 26253.0, 101638.0, 67149.0, 42768.0, 31540.0, 89854.0, 96750.0, 77831.0, 69794.0, 61413.0, 49193.0, 65633.0, 88798.0, 153109.0, 85781.0, 64444.0, 89585.0, 49410.0, 41581.0, 71977.0, 49939.0, 69412.0, 60118.0, 69789.0, 82078.0, 108284.0, 57356.0, 50547.0, 62778.0, 114416.0, 90921.5, 95188.0, 23094.0, 71974.0, 78200.0, 122554.0, 101005.0, 61991.0, 118722.0, 61727.0, 55949.0, 70899.0, 19245.0, 107178.0, 43305.0, 66352.55555555556, 62599.0, 59653.0, 54491.0, 55698.0, 87845.0, 42262.0, 71748.0, 92594.0, 82540.0, 21755.0, 106983.0, 81975.0, 33737.583333333336, 72550.0, 62041.0, 60358.0, 35658.0, 66569.0, 108122.0, 72186.0, 136744.75, 42785.0, 50693.0, 53931.0, 81271.0, 27467.0, 89580.0, 70607.0, 48963.0, 57190.0, 69401.0, 34261.84210526316, 39790.0, 107712.0, 157124.0, 53117.0, 15186.0, 74837.0, 44463.0, 66350.0, 37695.0, 88121.0, 68975.0, 82617.0, 68259.0, 54154.0, 48576.0, 58073.0, 119870.0, 77528.0, 47329.0, 55374.0, 17855.0, 98220.0, 90585.0, 29365.0, 57678.0, 57744.0, 63819.0, 119932.0, 56478.0, 57087.0, 58278.0, 66779.0, 104567.0, 101198.0, 81172.0, 39403.0, 97212.0, 73316.0, 31555.0, 69831.0, 92375.0, 54667.0, 84573.0, 113064.0, 31401.0, 60087.0, 82042.0, 20523.0, 48555.0, 95945.0, 25552.0, 35176.0, 70455.0, 62349.0, 32779.0, 75643.0, 84516.0, 58051.0, 76101.0, 95284.0, 108812.0, 50832.0, 99127.0, 56985.0, 44706.0, 21412.0, 94437.0, 56380.0, 113174.0, 81876.0, 52126.0, 40818.0, 68209.0, 55774.0, 105513.0, 34600.0, 127193.0, 43252.0, 100892.0, 34234.0, 120954.0, 42844.0, 52635.0, 24875.0, 70831.0, 41305.0, 55285.0, 61789.0, 51246.0, 21129.0, 57063.0, 121239.0, 104754.0, 39559.0, 29283.0, 56536.0, 47565.0, 41276.0, 53857.0, 95139.0, 149637.0, 80094.0, 47598.0, 76804.0, 23221.0, 85057.95833333333, 85332.0, 73566.0, 101227.0, 50987.5, 54377.0, 48734.0, 57714.0, 26520.0, 86813.0, 59636.0, 16581.0, 66631.0, 51267.0, 44108.0, 58565.0, 46866.0, 30044.0, 42960.0, 48546.0, 80368.0, 15861.0, 34856.625, 123565.0, 70269.83333333333, 48860.0, 37209.0, 85688.0, 127737.0, 42573.0, 53926.0, 55601.0, 74090.0, 66854.0, 44443.0, 41255.0, 67732.0, 48010.0, 66704.75, 73534.0, 63402.0, 66923.0, 25818.0, 79676.0, 77645.0, 25678.0, 32250.0, 59078.0, 40118.0, 55836.0, 45593.0, 44137.0, 26145.0, 42383.0, 60415.0, 81936.0, 76388.0, 30258.0, 28141.5, 70916.0, 60967.0, 29719.0, 130245.0, 46269.0, 42779.0, 85677.0, 74434.0, 94212.0, 92796.0, 73177.0, 42260.0, 57449.0, 62011.0, 77599.5, 90200.0, 83028.0, 65726.0, 94824.5, 45264.0, 38201.0, 74873.0, 71129.0, 70496.0, 79523.0, 72478.0, 131847.0, 105686.0, 116006.0, 47426.0, 61050.0, 95969.0, 50778.0, 69678.0, 80499.0, 66650.0, 31780.0, 133579.0, 69971.0, 59105.0, 94440.0, 145116.0, 30960.0, 84266.0, 116383.0, 76426.83333333333, 93170.0, 69756.0, 33986.0, 31210.0, 117011.0, 112513.0, 72778.0, 35442.0, 61291.0, 79243.0, 65628.0, 79251.0, 94485.0, 50766.0, 83604.0, 54580.0, 133489.0, 81933.0, 138520.0, 89192.0, 38919.0, 22132.0, 90482.39130434782, 54915.0, 83958.0, 83632.0, 59764.0, 51339.0, 57541.0, 77301.0, 129924.0, 76455.0, 49280.0, 59587.0, 87351.0, 46851.0, 38223.0, 54235.0, 35595.0, 89894.0, 113197.0, 131168.0, 54695.0, 45009.0, 24378.0, 93751.0, 99669.0, 83916.0, 77114.0, 77785.0, 48747.0, 47528.75, 79652.0, 94809.0, 67326.0, 67762.29166666667, 63321.0, 73899.0, 77613.0, 169549.0, 111507.0, 54059.0, 68525.0, 82309.0, 39195.0, 36373.0, 51769.0, 59110.0, 18024.0, 92031.0, 37664.0, 52371.0, 45365.0, 30967.0, 18538.0, 65277.0, 142543.0, 48747.0, 38169.0, 52092.0, 15052.0, 66536.0, 47809.0, 43876.0, 37667.0, 83236.0, 30558.0, 90057.0, 45993.0, 75344.0, 96562.0, 68356.0, 55594.75, 70774.0, 78009.0, 58799.0, 45414.0, 81854.0, 83215.0, 64399.0, 126779.25, 83298.0, 56766.0, 71878.0, 80907.0, 53902.0, 131568.0, 85254.0, 75224.0, 44154.0, 98935.0, 104128.0, 49131.5, 104058.0, 67162.0, 126357.0, 66890.0, 92763.0, 80788.0, 69599.0, 104157.0, 65092.0, 48747.0, 21909.0, 112112.0, 38326.0, 56621.0, 51668.0, 25186.0, 80394.0, 78632.75, 92672.0, 59816.0, 37784.0, 83969.0, 56807.0, 77778.0, 73538.0, 36085.0, 28318.0, 107274.0, 69924.0, 35598.0, 66945.0, 144726.0, 62462.0, 131805.0, 76756.0, 42199.0, 49295.0, 91456.0, 85112.0, 50180.0, 46952.0, 82815.0, 70254.0], \"xaxis\": \"x\", \"yaxis\": \"y\"}, {\"alignmentgroup\": \"True\", \"bingroup\": \"x\", \"hoverlabel\": {\"namelength\": 0}, \"hovertemplate\": \"left=True<br>Salary=%{x}<br>count=%{y}\", \"legendgroup\": \"left=True\", \"marker\": {\"color\": \"rgb(246, 207, 113)\"}, \"name\": \"left=True\", \"offsetgroup\": \"left=True\", \"orientation\": \"v\", \"showlegend\": true, \"type\": \"histogram\", \"x\": [57387.0, 65603.0, 46368.0, 70656.0, 28116.0, 119227.0, 52963.0, 51099.0, 31631.0, 40342.0, 22755.0, 31224.0, 76308.0, 30312.0, 69457.0, 65813.0, 68070.0, 32865.0, 57375.0, 13427.0, 59182.0, 45988.0, 12906.0, 62100.0, 42171.0, 53039.0, 89367.0, 131347.0, 29985.0, 84318.0, 57987.0, 31644.0, 19818.0, 66502.0, 69539.0, 64604.0, 19235.0, 54103.0, 59216.0, 39884.0, 114648.0, 77177.0, 89013.0, 115159.0, 25950.0, 49510.0, 62298.0, 58977.0, 29408.0, 22731.0, 39527.0, 60874.0, 64953.0, 59000.0, 38068.0, 38945.0, 42270.0, 68913.0, 67931.0, 57671.0, 102142.0, 121259.0, 32663.0, 73769.0, 47160.0, 16477.0, 67904.0, 71000.0, 114258.0, 58885.0, 41401.0, 30847.0, 84085.0, 39990.0, 79086.0, 43165.0, 46858.0, 47009.0, 34827.0, 51850.0, 65901.0, 29807.0, 24150.0, 21933.0, 75112.0, 85172.0, 61913.0, 89602.0, 31547.0, 148588.0, 47211.0, 118363.0, 41046.0, 45832.0, 30121.0, 35793.0, 100064.0, 25731.0, 106171.0, 76307.0, 35283.0, 38409.0, 91458.0, 56242.0, 101395.0, 22065.0, 27889.0, 21276.0, 43053.0, 36637.0, 24490.0, 95694.0, 25832.0, 43263.0, 62199.0, 82120.0, 20922.0, 108051.0, 59084.0, 54074.0, 19419.0, 75001.0, 94594.0, 66707.0, 42260.0, 84713.0, 68151.0, 61894.0, 31657.0, 81730.0, 17307.0, 86340.0, 27328.0, 51657.0, 107539.0, 13051.0, 92753.0, 59108.0, 55528.0, 61912.0, 53385.0, 104995.0, 44359.0, 21354.0, 23185.0, 37873.0, 40168.0, 33901.0, 11236.0, 37346.0, 77903.0, 64128.0, 27294.0, 25172.0, 31655.0, 47864.0, 90988.0, 24862.0, 40102.0, 89200.0, 54352.0, 76336.0, 52191.0, 41800.0, 108013.0, 57339.0, 42189.0, 70781.0, 13605.0, 66842.0, 49695.0, 81858.0, 45981.0, 35983.0, 70753.0, 25851.0, 78645.0, 20176.0, 81190.13636363637, 26047.0, 96603.0, 50281.0, 42592.0, 59936.0, 37890.0, 51819.0, 29869.0, 57245.0, 50739.0, 69454.0, 26658.0, 54816.0, 35694.0, 51152.0, 45796.0, 58812.0, 140769.0, 62135.0, 55937.0, 33327.0, 83084.0, 26563.0, 55938.0, 92158.0, 57044.0, 56317.0, 55441.0, 39564.0, 33134.0, 60555.0, 135879.0, 58347.0, 13743.0, 67650.0, 35727.0, 44740.0, 28186.0, 82259.0, 38569.0, 29106.0, 52364.0, 137082.0, 45245.0, 45923.0, 70428.0, 84850.0, 73194.0, 40604.0, 76069.0, 41553.0, 25028.0, 38625.0, 57225.0, 52572.0, 97153.0, 92559.0, 74051.0, 38390.0, 93113.0, 43083.0, 74684.0, 65053.0, 120771.0, 14489.0, 17047.0, 78656.0, 63479.0, 128590.0, 81206.0, 60246.0, 73933.0, 55108.0, 33956.0, 123390.0, 104473.0, 45357.0, 45193.0, 37575.0, 53577.0, 47419.0, 86072.0, 87438.0, 64179.0, 83926.0, 26067.0, 39660.0, 59318.0, 62431.0, 45068.0, 42714.0, 22918.0, 29312.0, 39164.0, 22947.0, 68341.0, 56611.0, 26562.0, 31674.0, 35091.0, 80716.0, 49475.0, 41638.0, 23107.0, 20170.0, 65035.0, 103119.0, 49888.0, 42544.0, 49653.0, 55804.0, 29231.0, 40777.0, 22793.0, 10747.0, 59796.0, 52199.0, 83253.0, 98996.0, 109652.0, 31056.0, 106727.0, 86823.0, 51086.0, 12934.0, 31137.0, 35731.0, 77182.0, 35112.0, 109296.0, 71812.0, 43720.0, 50345.0, 62542.0, 20886.0, 84481.0, 44273.0, 19649.0, 55263.0, 52465.0, 73359.0, 31340.0, 50504.0, 31890.0, 54026.0, 70144.0, 68356.0, 108091.0, 46169.0, 70570.0, 51593.0, 14989.0, 17660.0, 86336.0, 66483.0, 78135.0, 115293.0, 39119.0, 49553.0, 64842.0, 114230.0, 38764.0, 83294.0, 46186.0, 49664.0, 39216.0, 13653.0, 36474.0, 54056.0, 54520.0, 101494.0, 57931.0, 49936.0, 18788.0, 35219.0, 38624.0, 51781.0, 48059.0, 54358.0, 130429.0, 95388.0, 105931.0, 110445.0, 57888.0, 35584.0, 41298.0, 112322.0, 64702.0, 36116.0, 40926.0, 54903.0, 15327.0, 97203.0, 78143.0, 45969.0, 42368.0, 77011.0, 38546.0, 71072.0, 127380.0, 55762.0, 30083.0, 62909.0, 13037.0, 22931.0, 17186.0, 49509.0, 59241.0, 31831.0, 82632.0, 57667.0, 79461.0, 31052.0, 85450.0, 113807.0, 103494.0, 130781.0, 70677.0, 58323.0, 97116.0, 135436.0, 81352.0, 37839.0, 36430.0, 19456.0, 51497.0, 44720.0, 40531.0, 19290.0, 110490.0, 81944.0, 41980.0, 108768.0, 84637.0, 43322.0, 62042.0, 58943.0, 57476.0, 63181.0, 54288.0, 87182.0, 69449.0, 18285.0, 85693.0, 87853.0, 45071.0, 51600.0, 63587.0, 70816.0, 38990.0, 23182.0, 82503.0, 76195.0, 100303.0, 75467.0, 40253.0, 48639.0, 60252.0, 50434.0, 29689.0, 34849.0, 30951.0, 49614.0, 62232.0, 46600.0, 17676.0, 81547.0, 49914.0, 66017.0, 42395.0, 31787.0, 26850.0, 59166.0, 113120.0, 42601.0, 70740.0, 67113.0, 55313.0, 80746.0, 42588.0, 63636.0, 52632.0, 53383.0, 58199.0, 121419.0, 56035.0, 21212.0, 22019.0, 40409.0, 77903.0, 113038.0, 39131.0, 70731.0, 29584.0, 83524.0, 87661.0, 75541.0, 26151.0, 45269.0, 40295.0, 91602.0, 29151.0, 34497.0, 28575.0, 52753.0, 19791.0, 134302.0, 75133.0, 39442.0, 94770.0, 55443.0, 61069.0, 94945.0, 50863.0, 31954.0, 23745.0, 43463.0, 51725.0, 45342.0, 34868.0, 22680.0, 38502.0, 28565.0, 41382.0, 43831.0, 39104.0, 33883.0, 58807.0, 44326.0, 65995.0, 45234.0, 18512.0, 30136.0, 60391.0, 20379.0, 39854.0, 55630.0, 47484.0, 70339.0, 60056.0, 61371.0, 67236.0, 20245.0, 37285.0, 59393.0, 23823.0, 36846.0, 70330.0, 87153.0, 69972.0, 100893.0, 40688.0, 93093.0, 74402.0, 24634.0, 31392.0, 70478.0, 17253.0, 99893.0, 50799.0, 35996.0, 45278.0, 46679.0, 74516.0, 59526.0, 20785.0, 83350.0, 61982.0, 47194.0, 30461.0, 33721.0, 28297.0, 60185.0, 41620.0, 49277.0, 53058.0, 49031.0, 39502.0, 69418.0, 46134.0, 40654.0, 37617.0, 56016.0, 127070.0, 58277.0, 11706.0, 58588.0, 58540.0, 87810.0, 33831.0, 65464.0, 120188.0, 76776.0, 50281.0, 82704.0, 57869.0, 22245.0, 25106.0, 79926.0, 24582.0, 27607.0, 63844.0, 20101.0, 41705.0, 51680.0, 32263.0, 21543.0, 62748.0, 49443.0, 76198.0, 52668.0, 37278.0, 70772.0, 47696.0, 45330.0, 80290.0, 24932.0, 69071.0, 82503.0, 104966.0, 76467.0, 68596.0, 55834.0, 55648.0, 52480.0, 51837.0, 84873.0, 47594.0, 55551.0, 35079.0, 60417.0, 49521.0, 62637.0, 94519.0, 60905.0, 45720.0, 36118.0, 56347.0, 30442.0, 73363.0, 41591.0, 26592.0, 73245.0, 40318.0, 73594.0, 59168.0, 47188.0, 41167.0, 27432.0, 50769.0, 52990.0, 80591.0, 55112.0, 43747.0, 73087.0, 46464.0, 68309.0, 44062.0, 112066.0, 50118.0, 102175.0, 81440.0, 46856.0, 61133.0, 30860.0, 27548.0, 38572.0, 103994.0, 17607.0, 30106.0, 51796.0, 46239.0, 62905.0, 12779.0, 22962.0, 32376.0, 18378.0, 22895.0, 76076.0, 52588.0, 66416.0, 75499.0, 99876.0, 39328.0, 64699.0, 109986.0, 15970.0, 21234.0, 50022.0, 46789.0, 26083.0, 75735.0, 51433.0, 40035.0, 95465.0, 36558.0, 48097.0, 47419.0, 18088.0, 37992.0, 48409.0, 37630.0, 30295.0, 90851.0, 54527.0, 12456.0, 45575.0, 115006.0, 133978.0, 42565.0, 50372.0, 94965.0, 50554.0, 67971.0, 15291.0, 43975.0, 44069.0, 19217.0, 39499.0, 55519.0, 130277.0, 47117.0, 84791.0, 98630.0, 15520.0, 73103.0, 66074.0, 77369.0, 98306.0, 38456.0, 10883.0, 53471.0, 78444.0, 34521.0, 100150.0, 65870.0, 55419.0, 52789.0, 94237.0, 39644.0, 51643.0, 50803.0, 18106.0, 72219.0, 39823.0, 74620.0, 78813.0, 32574.0, 21150.0, 26928.0, 55638.0, 58027.0, 70921.0, 22115.0, 36070.0, 66225.0, 111414.0, 25178.0, 67498.0, 76396.0, 67140.0, 41463.0, 70088.0, 116163.0, 17493.0, 43026.0, 76525.0, 55465.0, 33154.0, 70038.0, 31057.0, 75417.0, 54901.0, 58052.0, 67126.0, 43705.0, 99415.0, 49049.0, 54212.0, 29306.0, 105400.0, 52007.0, 107592.0, 26796.0, 72843.0, 32736.0, 87325.0, 25483.0, 17496.0, 54231.0, 28447.0, 47651.0, 44722.0, 44907.0, 52711.0, 77197.0, 88777.0, 38059.0, 74265.0, 25458.0, 51930.0, 44566.0, 81150.0, 89118.0, 57908.0, 30292.0, 54821.0, 106794.0, 44160.0, 59112.0, 19072.0, 64693.0, 80586.0, 27806.0, 81561.0, 44061.0, 126416.0, 29181.0, 20641.0, 41446.0, 67679.0, 62396.0, 58946.0, 48369.0, 37613.0, 70900.0, 19433.0, 52963.0, 19020.0, 64128.0, 49664.0, 78906.0, 54126.0, 48540.0, 27216.0, 33246.0, 61502.0, 61218.0, 34593.0, 55718.0, 54906.0, 48050.0, 41971.0, 70994.0, 39841.0, 38105.0, 69141.0, 45180.0, 45183.0, 44091.0, 47565.0, 43690.0, 107368.0, 94171.0, 25207.0, 39422.0, 110542.0, 50436.0, 39635.0, 16688.0, 50211.0, 40408.0, 46010.0, 23299.0, 71142.0, 56936.0, 130279.0, 64476.0, 34356.0, 49570.0, 86551.0, 64780.0, 57107.0, 60780.0, 108452.0, 79222.0, 49957.0, 19448.0, 75453.0, 125545.0, 64559.0, 64606.0, 35116.0, 44784.0, 61884.0, 76707.0, 44841.0, 46001.0, 74305.0, 96076.0, 39731.0, 44949.0, 48956.0, 42300.0, 31948.0, 90123.0, 57863.0, 35090.0, 24821.0, 42317.0, 21762.0, 47379.0, 34561.0, 62853.0, 44999.0, 31361.0, 30310.0, 59451.0, 46726.0, 56760.0, 72503.0, 54632.0, 21245.0, 72839.0, 111621.0, 71740.0, 43963.0, 54922.0, 23149.0, 52711.0, 12456.0, 117644.0, 48111.0, 55037.0, 38396.0, 43897.0, 49886.0, 27572.0, 54600.0, 83083.0, 59932.0, 22645.0, 66465.0, 77477.0, 12987.0, 116218.0, 23537.0, 69697.0, 45531.0, 20797.0, 100297.0, 45153.0, 29043.0, 72989.0, 34473.0, 35189.0, 98568.0, 71984.0, 13417.0, 61712.0, 122837.0, 50533.0, 88169.0, 47992.0, 15822.0, 74903.0, 36114.0, 21942.0, 16486.0, 60688.0, 21898.0, 91839.0, 52175.0, 58534.0, 11068.0, 62689.0, 115978.0, 81784.0, 21627.0, 53930.0, 123255.0, 65299.0, 40325.0, 48711.0, 100798.0, 56916.0, 30959.0, 45207.0, 65448.0, 50809.0, 87794.0, 82666.0, 48656.0, 94933.0, 57627.0, 14166.0, 17234.0, 45148.0, 39434.0, 114651.0, 35823.0, 66935.0, 89503.0, 27693.0, 95658.0, 44497.0, 73122.0, 26206.0, 76806.0, 39121.0, 29359.0, 43047.0, 96317.0, 51579.0, 61343.0, 42723.0, 22575.0, 91787.0, 49122.0, 31773.0, 53928.0, 56867.0, 95822.0, 45163.0, 47072.0, 38478.0, 33681.0, 60847.0, 42975.0, 37995.0, 51016.0, 31500.0, 22738.0, 30996.0, 149354.0, 33042.0, 45609.0, 40685.0, 81385.0, 83242.0, 47980.0, 59205.0, 91064.0, 58671.0, 67067.0, 63577.0, 49696.0, 22875.0, 61613.0, 60764.0, 62204.0, 45526.0, 35542.0, 52914.0, 65754.0, 75835.0, 90743.0, 88204.0, 125011.0, 53920.0, 25579.0, 30342.0, 57083.0, 46309.0, 27023.0, 11943.0, 145483.0, 53181.0, 136307.0, 39994.0, 42507.0, 22095.0, 68837.0, 113857.0, 17476.0, 45811.0, 41504.0, 26160.0, 40671.0, 53062.0, 80779.0, 54180.0, 140833.0, 53355.0, 54971.0, 59431.0, 37704.0, 41796.0, 55815.0, 78511.0, 51764.0, 38416.0, 90560.0, 78444.0, 63739.0, 18948.0, 117533.66666666667, 43578.0, 77647.0, 52471.0, 53123.0, 18192.0, 27895.0, 39830.0, 79599.0, 79239.0, 33721.0, 71593.0, 123750.0, 36230.0, 57581.0, 24538.0, 96265.0, 39246.0, 29148.0, 68418.0, 76092.0, 29660.0, 36661.0, 96143.0, 74589.0, 32285.0, 34619.0, 27867.0, 41169.0, 25605.0, 29575.0, 32043.0, 69939.0, 67317.0, 63898.0, 40086.0, 52518.0, 60214.0, 78057.0, 83455.0, 55315.0, 58533.0, 61994.0, 19072.0, 41973.0, 29520.0, 88909.0, 28506.0, 44512.0, 34020.0, 49213.0, 40099.0, 59169.0, 46860.0, 28059.0, 40996.0, 52011.0, 21043.0, 51181.0, 12553.0, 18642.0, 76531.0, 56702.0, 67394.0, 72499.0, 48097.0, 76425.0, 28498.0, 74953.0, 46345.0, 54291.0, 48436.0, 42408.0, 32523.0, 46866.0, 39471.0, 98821.0, 54056.0, 58320.0, 85803.0, 60796.0, 34692.0, 59274.0, 58203.0, 24906.0, 53521.0, 64781.0, 58131.0, 33239.0, 47050.0, 37709.0, 21746.0, 42234.0, 36096.0, 48890.0, 51303.0, 74087.0, 66031.0, 72393.0, 50370.0, 17687.0, 20590.0, 46083.0, 38619.0, 84806.0, 70252.0, 100888.0, 46979.0, 56814.0, 100412.0, 40198.0, 67669.0, 57975.0, 92401.0, 55473.0, 78564.0, 44146.0, 63181.0, 21792.0, 39750.0, 30999.0, 80535.0, 42380.0, 47487.0, 46515.0, 42405.0, 50787.0, 29915.0, 22556.0, 66035.0, 58872.0, 26053.0, 48829.0, 139882.0, 65632.0, 90421.0, 117708.0, 64855.0, 33442.0, 21252.0, 59928.0, 38992.0, 69166.0, 40592.0, 41591.0, 47752.0, 19052.0, 31743.0, 61065.0, 42604.0, 68936.0, 39560.0, 44707.0, 86291.0, 21270.0, 59930.0, 40948.0, 45665.0, 74781.0, 43989.0, 49533.0, 41723.0, 42844.0, 42166.0, 44012.0, 59352.0, 52035.0, 27194.0, 153766.0, 42772.0, 82046.0, 46480.0, 42813.0, 32871.0, 31809.0, 55700.0, 35943.0, 45604.0, 70714.0, 50801.0, 52196.0, 55777.0, 53105.0, 64370.0, 19371.0, 101223.0, 50029.0, 11889.0, 47440.0, 40437.0, 29450.0, 70246.0, 25510.0, 62955.0, 106428.0, 90033.0, 27262.0, 82179.0, 54631.0, 59650.0, 61879.0, 33391.0, 20010.0, 42339.0, 22556.0, 29202.0, 90020.0, 23801.0, 52209.0, 20984.0, 110792.0, 59077.0, 62460.0, 28216.0, 38152.0, 25357.0, 103305.0, 78441.0, 73207.0, 21935.0, 53572.0, 37067.0, 85965.0, 70733.0, 81348.0, 43647.0, 49336.0, 68830.0, 86246.0, 41661.0, 101423.0, 57872.0, 59644.0, 16216.0, 73561.0, 62243.0, 112722.0, 46043.0, 78164.0, 55943.0, 66742.0, 21154.0, 18291.0, 51261.0, 67740.0, 49471.0, 40142.0, 30851.0, 57624.0, 40760.0, 62204.0, 12895.0, 25551.0, 112934.0, 14761.0, 80980.0, 21530.0, 103102.0, 34461.0, 40435.0, 60982.0, 23566.0, 21780.0, 103060.0, 37900.0, 23334.0, 49659.0, 18770.0, 41798.0, 71384.0, 65040.0, 35939.0, 80818.0, 33981.0, 59902.0, 67490.0, 39054.0, 27774.0, 39612.0, 56687.0, 47102.0, 71338.0, 23545.0, 31124.0, 92847.0, 63315.0, 59097.0, 33901.0, 29642.0, 56666.0, 43282.0, 131567.0, 55276.0, 56150.0, 46397.0, 14113.0, 87710.0, 35133.0, 67219.0, 54214.0, 15189.0, 21346.0, 55546.0, 136960.0, 43764.0, 57225.0, 65298.0, 14820.0, 40366.0, 43411.0, 87010.0, 76562.0, 53750.0, 53643.0, 29150.0, 63888.0, 23711.0, 167758.0, 31097.0, 132505.0, 16676.0, 113256.0, 77848.0, 109652.0, 17648.0, 112317.0, 62380.0, 27993.0, 58275.0, 28890.0, 40281.0, 12064.0, 58259.0, 46832.0, 56188.0, 37214.0, 13222.0, 100560.0, 24429.0, 51617.0, 63424.0, 44169.0, 90492.0, 71138.0, 90734.0, 17481.0, 23511.0, 99691.0, 58577.0, 33343.0, 85831.0, 36191.0, 42551.0, 19183.0, 63182.0, 99858.0, 55723.0, 55344.0, 36682.0, 44188.0, 99515.0, 89269.0, 68294.0, 44041.0, 47251.0, 58626.0, 51616.0, 74360.0, 65958.0, 40775.0, 29052.0, 62242.0, 59644.0, 40013.0, 25228.0, 75458.0, 30212.0, 91020.0, 71761.0, 70395.0, 18173.0, 59536.0, 64254.0, 118773.0, 130752.0, 125576.0, 33169.0, 115152.0, 67049.0, 34556.0, 18224.0, 16206.0, 37521.0, 31816.0, 137450.0, 90090.0, 47678.0, 38706.0, 37039.0, 14776.0, 67667.0, 44884.0, 34569.0, 54019.0, 23166.0, 116077.0, 64168.0, 29962.0, 96053.0, 47301.0, 128520.0, 53880.0, 26766.0, 65990.0, 52321.0, 42059.0, 37888.0, 50141.0, 37046.0, 50326.0, 29462.0, 18799.0, 24676.0, 20983.0, 18469.0, 52222.0, 53554.0, 21364.0, 76805.0, 111600.0, 69003.0, 102822.0, 33058.0, 26460.0, 17566.0, 15482.0, 50158.0, 110829.0, 99300.0, 21993.0, 21636.0, 79797.0, 46604.0, 56478.0, 63004.0, 81792.0, 53320.0, 57164.0, 38829.0, 68473.0, 87954.0, 30083.0, 28949.0, 14034.0, 56808.0, 62716.0, 65507.0, 19724.0, 24985.0, 19447.0, 17044.0, 62354.0, 55601.0, 38047.0, 69098.0, 38788.0, 62292.0, 40216.0, 23955.0, 77739.0, 23641.0, 68037.0, 26716.0, 22719.0, 69153.0, 103568.0, 114637.0, 64610.0, 68500.0, 40608.0, 42400.0, 61670.0, 102345.0, 81055.0, 43753.0, 21445.0, 65156.0, 58571.0, 69776.0, 77535.0, 99907.0, 52912.0, 58892.0, 50306.0, 64281.0, 55845.0, 27572.0, 29442.0, 76463.0, 12860.0, 37940.0, 59562.0, 39404.0, 100722.0, 23582.0, 38744.0, 61569.0, 27634.0, 14375.0, 50168.0, 47303.0, 37944.0, 45675.0, 27828.0, 53480.0, 56659.0, 49165.0, 19037.0, 68957.0, 41730.0, 23068.0, 32108.0, 22217.0, 128906.0, 46734.0, 36284.0, 50048.0, 66132.0, 53115.0, 78445.0, 56848.0, 69141.0, 82260.0, 51471.0, 52682.0, 38809.0, 53793.0, 80138.0, 51670.0, 35607.0, 42313.0, 54397.0, 95133.0, 29582.0, 12105.0, 35370.0, 69498.0], \"xaxis\": \"x\", \"yaxis\": \"y\"}],\n",
              "                        {\"barmode\": \"relative\", \"legend\": {\"tracegroupgap\": 0}, \"template\": {\"data\": {\"bar\": [{\"error_x\": {\"color\": \"#2a3f5f\"}, \"error_y\": {\"color\": \"#2a3f5f\"}, \"marker\": {\"line\": {\"color\": \"#E5ECF6\", \"width\": 0.5}}, \"type\": \"bar\"}], \"barpolar\": [{\"marker\": {\"line\": {\"color\": \"#E5ECF6\", \"width\": 0.5}}, \"type\": \"barpolar\"}], \"carpet\": [{\"aaxis\": {\"endlinecolor\": \"#2a3f5f\", \"gridcolor\": \"white\", \"linecolor\": \"white\", \"minorgridcolor\": \"white\", \"startlinecolor\": \"#2a3f5f\"}, \"baxis\": {\"endlinecolor\": \"#2a3f5f\", \"gridcolor\": \"white\", \"linecolor\": \"white\", \"minorgridcolor\": \"white\", \"startlinecolor\": \"#2a3f5f\"}, \"type\": \"carpet\"}], \"choropleth\": [{\"colorbar\": {\"outlinewidth\": 0, \"ticks\": \"\"}, \"type\": \"choropleth\"}], \"contour\": [{\"colorbar\": {\"outlinewidth\": 0, \"ticks\": \"\"}, \"colorscale\": [[0.0, \"#0d0887\"], [0.1111111111111111, \"#46039f\"], [0.2222222222222222, \"#7201a8\"], [0.3333333333333333, \"#9c179e\"], [0.4444444444444444, \"#bd3786\"], [0.5555555555555556, \"#d8576b\"], [0.6666666666666666, \"#ed7953\"], [0.7777777777777778, \"#fb9f3a\"], [0.8888888888888888, \"#fdca26\"], [1.0, \"#f0f921\"]], \"type\": \"contour\"}], \"contourcarpet\": [{\"colorbar\": {\"outlinewidth\": 0, \"ticks\": \"\"}, \"type\": \"contourcarpet\"}], \"heatmap\": [{\"colorbar\": {\"outlinewidth\": 0, \"ticks\": \"\"}, \"colorscale\": [[0.0, \"#0d0887\"], [0.1111111111111111, \"#46039f\"], [0.2222222222222222, \"#7201a8\"], [0.3333333333333333, \"#9c179e\"], [0.4444444444444444, \"#bd3786\"], [0.5555555555555556, \"#d8576b\"], [0.6666666666666666, \"#ed7953\"], [0.7777777777777778, \"#fb9f3a\"], [0.8888888888888888, \"#fdca26\"], [1.0, \"#f0f921\"]], \"type\": \"heatmap\"}], \"heatmapgl\": [{\"colorbar\": {\"outlinewidth\": 0, \"ticks\": \"\"}, \"colorscale\": [[0.0, \"#0d0887\"], [0.1111111111111111, \"#46039f\"], [0.2222222222222222, \"#7201a8\"], [0.3333333333333333, \"#9c179e\"], [0.4444444444444444, \"#bd3786\"], [0.5555555555555556, \"#d8576b\"], [0.6666666666666666, \"#ed7953\"], [0.7777777777777778, \"#fb9f3a\"], [0.8888888888888888, \"#fdca26\"], [1.0, \"#f0f921\"]], \"type\": \"heatmapgl\"}], \"histogram\": [{\"marker\": {\"colorbar\": {\"outlinewidth\": 0, \"ticks\": \"\"}}, \"type\": \"histogram\"}], \"histogram2d\": [{\"colorbar\": {\"outlinewidth\": 0, \"ticks\": \"\"}, \"colorscale\": [[0.0, \"#0d0887\"], [0.1111111111111111, \"#46039f\"], [0.2222222222222222, \"#7201a8\"], [0.3333333333333333, \"#9c179e\"], [0.4444444444444444, \"#bd3786\"], [0.5555555555555556, \"#d8576b\"], [0.6666666666666666, \"#ed7953\"], [0.7777777777777778, \"#fb9f3a\"], [0.8888888888888888, \"#fdca26\"], [1.0, \"#f0f921\"]], \"type\": \"histogram2d\"}], \"histogram2dcontour\": [{\"colorbar\": {\"outlinewidth\": 0, \"ticks\": \"\"}, \"colorscale\": [[0.0, \"#0d0887\"], [0.1111111111111111, \"#46039f\"], [0.2222222222222222, \"#7201a8\"], [0.3333333333333333, \"#9c179e\"], [0.4444444444444444, \"#bd3786\"], [0.5555555555555556, \"#d8576b\"], [0.6666666666666666, \"#ed7953\"], [0.7777777777777778, \"#fb9f3a\"], [0.8888888888888888, \"#fdca26\"], [1.0, \"#f0f921\"]], \"type\": \"histogram2dcontour\"}], \"mesh3d\": [{\"colorbar\": {\"outlinewidth\": 0, \"ticks\": \"\"}, \"type\": \"mesh3d\"}], \"parcoords\": [{\"line\": {\"colorbar\": {\"outlinewidth\": 0, \"ticks\": \"\"}}, \"type\": \"parcoords\"}], \"pie\": [{\"automargin\": true, \"type\": \"pie\"}], \"scatter\": [{\"marker\": {\"colorbar\": {\"outlinewidth\": 0, \"ticks\": \"\"}}, \"type\": \"scatter\"}], \"scatter3d\": [{\"line\": {\"colorbar\": {\"outlinewidth\": 0, \"ticks\": \"\"}}, \"marker\": {\"colorbar\": {\"outlinewidth\": 0, \"ticks\": \"\"}}, \"type\": \"scatter3d\"}], \"scattercarpet\": [{\"marker\": {\"colorbar\": {\"outlinewidth\": 0, \"ticks\": \"\"}}, \"type\": \"scattercarpet\"}], \"scattergeo\": [{\"marker\": {\"colorbar\": {\"outlinewidth\": 0, \"ticks\": \"\"}}, \"type\": \"scattergeo\"}], \"scattergl\": [{\"marker\": {\"colorbar\": {\"outlinewidth\": 0, \"ticks\": \"\"}}, \"type\": \"scattergl\"}], \"scattermapbox\": [{\"marker\": {\"colorbar\": {\"outlinewidth\": 0, \"ticks\": \"\"}}, \"type\": \"scattermapbox\"}], \"scatterpolar\": [{\"marker\": {\"colorbar\": {\"outlinewidth\": 0, \"ticks\": \"\"}}, \"type\": \"scatterpolar\"}], \"scatterpolargl\": [{\"marker\": {\"colorbar\": {\"outlinewidth\": 0, \"ticks\": \"\"}}, \"type\": \"scatterpolargl\"}], \"scatterternary\": [{\"marker\": {\"colorbar\": {\"outlinewidth\": 0, \"ticks\": \"\"}}, \"type\": \"scatterternary\"}], \"surface\": [{\"colorbar\": {\"outlinewidth\": 0, \"ticks\": \"\"}, \"colorscale\": [[0.0, \"#0d0887\"], [0.1111111111111111, \"#46039f\"], [0.2222222222222222, \"#7201a8\"], [0.3333333333333333, \"#9c179e\"], [0.4444444444444444, \"#bd3786\"], [0.5555555555555556, \"#d8576b\"], [0.6666666666666666, \"#ed7953\"], [0.7777777777777778, \"#fb9f3a\"], [0.8888888888888888, \"#fdca26\"], [1.0, \"#f0f921\"]], \"type\": \"surface\"}], \"table\": [{\"cells\": {\"fill\": {\"color\": \"#EBF0F8\"}, \"line\": {\"color\": \"white\"}}, \"header\": {\"fill\": {\"color\": \"#C8D4E3\"}, \"line\": {\"color\": \"white\"}}, \"type\": \"table\"}]}, \"layout\": {\"annotationdefaults\": {\"arrowcolor\": \"#2a3f5f\", \"arrowhead\": 0, \"arrowwidth\": 1}, \"coloraxis\": {\"colorbar\": {\"outlinewidth\": 0, \"ticks\": \"\"}}, \"colorscale\": {\"diverging\": [[0, \"#8e0152\"], [0.1, \"#c51b7d\"], [0.2, \"#de77ae\"], [0.3, \"#f1b6da\"], [0.4, \"#fde0ef\"], [0.5, \"#f7f7f7\"], [0.6, \"#e6f5d0\"], [0.7, \"#b8e186\"], [0.8, \"#7fbc41\"], [0.9, \"#4d9221\"], [1, \"#276419\"]], \"sequential\": [[0.0, \"#0d0887\"], [0.1111111111111111, \"#46039f\"], [0.2222222222222222, \"#7201a8\"], [0.3333333333333333, \"#9c179e\"], [0.4444444444444444, \"#bd3786\"], [0.5555555555555556, \"#d8576b\"], [0.6666666666666666, \"#ed7953\"], [0.7777777777777778, \"#fb9f3a\"], [0.8888888888888888, \"#fdca26\"], [1.0, \"#f0f921\"]], \"sequentialminus\": [[0.0, \"#0d0887\"], [0.1111111111111111, \"#46039f\"], [0.2222222222222222, \"#7201a8\"], [0.3333333333333333, \"#9c179e\"], [0.4444444444444444, \"#bd3786\"], [0.5555555555555556, \"#d8576b\"], [0.6666666666666666, \"#ed7953\"], [0.7777777777777778, \"#fb9f3a\"], [0.8888888888888888, \"#fdca26\"], [1.0, \"#f0f921\"]]}, \"colorway\": [\"#636efa\", \"#EF553B\", \"#00cc96\", \"#ab63fa\", \"#FFA15A\", \"#19d3f3\", \"#FF6692\", \"#B6E880\", \"#FF97FF\", \"#FECB52\"], \"font\": {\"color\": \"#2a3f5f\"}, \"geo\": {\"bgcolor\": \"white\", \"lakecolor\": \"white\", \"landcolor\": \"#E5ECF6\", \"showlakes\": true, \"showland\": true, \"subunitcolor\": \"white\"}, \"hoverlabel\": {\"align\": \"left\"}, \"hovermode\": \"closest\", \"mapbox\": {\"style\": \"light\"}, \"paper_bgcolor\": \"white\", \"plot_bgcolor\": \"#E5ECF6\", \"polar\": {\"angularaxis\": {\"gridcolor\": \"white\", \"linecolor\": \"white\", \"ticks\": \"\"}, \"bgcolor\": \"#E5ECF6\", \"radialaxis\": {\"gridcolor\": \"white\", \"linecolor\": \"white\", \"ticks\": \"\"}}, \"scene\": {\"xaxis\": {\"backgroundcolor\": \"#E5ECF6\", \"gridcolor\": \"white\", \"gridwidth\": 2, \"linecolor\": \"white\", \"showbackground\": true, \"ticks\": \"\", \"zerolinecolor\": \"white\"}, \"yaxis\": {\"backgroundcolor\": \"#E5ECF6\", \"gridcolor\": \"white\", \"gridwidth\": 2, \"linecolor\": \"white\", \"showbackground\": true, \"ticks\": \"\", \"zerolinecolor\": \"white\"}, \"zaxis\": {\"backgroundcolor\": \"#E5ECF6\", \"gridcolor\": \"white\", \"gridwidth\": 2, \"linecolor\": \"white\", \"showbackground\": true, \"ticks\": \"\", \"zerolinecolor\": \"white\"}}, \"shapedefaults\": {\"line\": {\"color\": \"#2a3f5f\"}}, \"ternary\": {\"aaxis\": {\"gridcolor\": \"white\", \"linecolor\": \"white\", \"ticks\": \"\"}, \"baxis\": {\"gridcolor\": \"white\", \"linecolor\": \"white\", \"ticks\": \"\"}, \"bgcolor\": \"#E5ECF6\", \"caxis\": {\"gridcolor\": \"white\", \"linecolor\": \"white\", \"ticks\": \"\"}}, \"title\": {\"x\": 0.05}, \"xaxis\": {\"automargin\": true, \"gridcolor\": \"white\", \"linecolor\": \"white\", \"ticks\": \"\", \"title\": {\"standoff\": 15}, \"zerolinecolor\": \"white\", \"zerolinewidth\": 2}, \"yaxis\": {\"automargin\": true, \"gridcolor\": \"white\", \"linecolor\": \"white\", \"ticks\": \"\", \"title\": {\"standoff\": 15}, \"zerolinecolor\": \"white\", \"zerolinewidth\": 2}}}, \"title\": {\"text\": \" \"}, \"xaxis\": {\"anchor\": \"y\", \"domain\": [0.0, 1.0], \"title\": {\"text\": \"Salary\"}}, \"yaxis\": {\"anchor\": \"x\", \"domain\": [0.0, 1.0], \"title\": {\"text\": \"count\"}}},\n",
              "                        {\"responsive\": true}\n",
              "                    ).then(function(){\n",
              "                            \n",
              "var gd = document.getElementById('c0e697ee-97dc-4d17-bc2a-3310e379c954');\n",
              "var x = new MutationObserver(function (mutations, observer) {{\n",
              "        var display = window.getComputedStyle(gd).display;\n",
              "        if (!display || display === 'none') {{\n",
              "            console.log([gd, 'removed!']);\n",
              "            Plotly.purge(gd);\n",
              "            observer.disconnect();\n",
              "        }}\n",
              "}});\n",
              "\n",
              "// Listen for the removal of the full notebook cells\n",
              "var notebookContainer = gd.closest('#notebook-container');\n",
              "if (notebookContainer) {{\n",
              "    x.observe(notebookContainer, {childList: true});\n",
              "}}\n",
              "\n",
              "// Listen for the clearing of the current output cell\n",
              "var outputEl = gd.closest('.output');\n",
              "if (outputEl) {{\n",
              "    x.observe(outputEl, {childList: true});\n",
              "}}\n",
              "\n",
              "                        })\n",
              "                };\n",
              "                \n",
              "            </script>\n",
              "        </div>\n",
              "</body>\n",
              "</html>"
            ]
          },
          "metadata": {
            "tags": []
          }
        },
        {
          "output_type": "display_data",
          "data": {
            "text/html": [
              "<html>\n",
              "<head><meta charset=\"utf-8\" /></head>\n",
              "<body>\n",
              "    <div>\n",
              "            <script src=\"https://cdnjs.cloudflare.com/ajax/libs/mathjax/2.7.5/MathJax.js?config=TeX-AMS-MML_SVG\"></script><script type=\"text/javascript\">if (window.MathJax) {MathJax.Hub.Config({SVG: {font: \"STIX-Web\"}});}</script>\n",
              "                <script type=\"text/javascript\">window.PlotlyConfig = {MathJaxConfig: 'local'};</script>\n",
              "        <script src=\"https://cdn.plot.ly/plotly-latest.min.js\"></script>    \n",
              "            <div id=\"405360b3-b39d-430c-b7ec-87721950692e\" class=\"plotly-graph-div\" style=\"height:525px; width:100%;\"></div>\n",
              "            <script type=\"text/javascript\">\n",
              "                \n",
              "                    window.PLOTLYENV=window.PLOTLYENV || {};\n",
              "                    \n",
              "                if (document.getElementById(\"405360b3-b39d-430c-b7ec-87721950692e\")) {\n",
              "                    Plotly.newPlot(\n",
              "                        '405360b3-b39d-430c-b7ec-87721950692e',\n",
              "                        [{\"alignmentgroup\": \"True\", \"hoverlabel\": {\"namelength\": 0}, \"hovertemplate\": \"Salary=%{y}\", \"legendgroup\": \"\", \"marker\": {\"color\": \"rgb(102, 197, 204)\"}, \"name\": \"\", \"notched\": false, \"offsetgroup\": \"\", \"orientation\": \"v\", \"showlegend\": false, \"type\": \"box\", \"x0\": \" \", \"xaxis\": \"x\", \"y\": [67016.0, 78728.0, 42172.0, 19734.0, 102077.0, 126132.33333333333, 65189.0, 72888.0, 92372.0, 77544.0, 28000.0, 48687.0, 121816.94444444444, 80223.0, 83992.5, 62376.0, 93931.0, 65982.0, 79288.0, 42242.0, 63918.0, 105946.0, 56687.0, 49509.0, 119341.0, 80771.0, 60332.0, 33927.0, 50466.0, 89456.0, 31752.0, 144978.0, 57406.0, 60708.0, 76904.0, 98877.0, 33459.0, 72253.0, 45288.0, 29013.0, 33057.0, 56174.0, 26926.0, 36483.0, 63380.0, 66952.0, 87902.0, 28921.0, 15826.0, 12968.0, 64583.0, 59947.0, 27979.0, 44792.0, 139139.0, 52616.0, 75626.0, 60228.0, 81700.0, 25459.0, 19170.0, 40381.0, 134529.0, 64901.0, 40259.0, 53224.0, 91149.5, 107495.0, 78607.0, 57420.0, 62901.0, 51110.0, 13793.0, 65094.0, 109473.0, 53025.0, 188418.0, 77597.0, 58439.0, 58391.25, 64558.0, 69160.0, 133752.0, 71154.0, 94685.0, 49592.0, 35284.0, 71326.0, 50609.0, 127616.0, 117830.0, 107473.0, 51609.0, 44630.0, 47368.0, 49113.0, 109992.0, 88715.0, 121332.0, 35057.0, 12938.0, 77156.0, 43611.0, 133783.0, 97722.0, 63280.0, 65729.0, 91279.0, 24049.0, 58207.0, 33320.0, 56243.0, 61575.0, 42027.0, 80489.0, 78754.0, 30921.0, 88180.0, 50457.0, 82480.5, 113125.0, 81288.0, 36856.0, 50832.0, 65389.0, 32466.0, 70415.0, 123361.0, 54992.0, 16749.0, 67194.0, 46139.0, 83429.0, 132558.0, 52307.0, 110964.0, 65571.0, 47668.0, 96956.0, 48682.0, 92079.0, 68751.0, 58130.0, 41099.0, 27882.0, 82822.0, 68045.0, 61243.0, 87872.0, 78641.69230769231, 29698.0, 96233.0, 34793.0, 20993.0, 34536.0, 55239.0, 55670.0, 65170.0, 51658.0, 44342.0, 152234.0, 43855.0, 56543.0, 56442.5, 111743.0, 37929.0, 95826.0, 39391.0, 51426.0, 52641.0, 48363.142857142855, 59926.0, 96680.0, 100882.0, 67624.0, 41093.0, 55828.0, 85926.0, 71458.0, 65856.0, 95352.0, 21673.0, 32150.0, 79801.0, 53454.0, 104712.0, 139347.5, 66599.0, 86516.0, 63632.0, 34741.0, 71776.0, 18928.0, 42953.0, 105966.0, 76548.0, 40041.0, 36967.0, 31411.0, 51840.0, 40008.0, 123729.0, 118215.0, 76536.0, 62931.0, 110299.0, 31182.0, 83615.0, 69388.0, 34780.0, 58312.875, 67490.0, 101880.0, 42243.0, 13937.0, 88414.0, 24752.0, 46131.0, 50210.0, 105510.0, 56243.0, 59656.0, 44820.0, 35024.0, 22913.0, 123216.0, 28308.0, 107149.0, 75986.0, 42314.0, 54209.0, 67885.66666666667, 84961.0, 92670.0, 62810.0, 63080.0, 78647.0, 45531.0, 56133.0, 55115.0, 114358.0, 32446.0, 64187.0, 63298.0, 58747.0, 83969.0, 66179.0, 88813.0, 45871.0, 122941.0, 35803.0, 93000.0, 93822.0, 44241.0, 52254.875, 47988.0, 73308.0, 55857.0, 101179.0, 108997.0, 72974.0, 21646.0, 75765.0, 42607.0, 24923.0, 83025.0, 58803.0, 27483.0, 43996.0, 29492.0, 85685.0, 107936.0, 48483.0, 90484.0, 72118.0, 60672.0, 60797.0, 119806.0, 61823.0, 52083.0, 36811.0, 30930.0, 60396.0, 87047.0, 32652.0, 48868.0, 20363.0, 62990.625, 17000.0, 135414.0, 138069.0, 93121.0, 32062.791666666668, 77483.0, 92940.0, 92713.0, 52553.0, 26253.0, 101638.0, 67149.0, 42768.0, 31540.0, 89854.0, 96750.0, 77831.0, 69794.0, 61413.0, 49193.0, 65633.0, 88798.0, 153109.0, 85781.0, 64444.0, 89585.0, 49410.0, 41581.0, 71977.0, 49939.0, 69412.0, 60118.0, 69789.0, 82078.0, 108284.0, 57356.0, 50547.0, 62778.0, 114416.0, 90921.5, 95188.0, 23094.0, 71974.0, 78200.0, 122554.0, 101005.0, 61991.0, 118722.0, 61727.0, 55949.0, 70899.0, 19245.0, 107178.0, 43305.0, 66352.55555555556, 62599.0, 59653.0, 54491.0, 55698.0, 87845.0, 42262.0, 71748.0, 92594.0, 82540.0, 21755.0, 106983.0, 81975.0, 33737.583333333336, 72550.0, 62041.0, 60358.0, 35658.0, 66569.0, 108122.0, 72186.0, 136744.75, 42785.0, 50693.0, 53931.0, 81271.0, 27467.0, 89580.0, 70607.0, 48963.0, 57190.0, 69401.0, 34261.84210526316, 39790.0, 107712.0, 157124.0, 53117.0, 15186.0, 74837.0, 44463.0, 66350.0, 37695.0, 88121.0, 68975.0, 82617.0, 68259.0, 54154.0, 48576.0, 58073.0, 119870.0, 77528.0, 47329.0, 55374.0, 17855.0, 98220.0, 90585.0, 29365.0, 57678.0, 57744.0, 63819.0, 119932.0, 56478.0, 57087.0, 58278.0, 66779.0, 104567.0, 101198.0, 81172.0, 39403.0, 97212.0, 73316.0, 31555.0, 69831.0, 92375.0, 54667.0, 84573.0, 113064.0, 31401.0, 60087.0, 82042.0, 20523.0, 48555.0, 95945.0, 25552.0, 35176.0, 70455.0, 62349.0, 32779.0, 75643.0, 84516.0, 58051.0, 76101.0, 95284.0, 108812.0, 50832.0, 99127.0, 56985.0, 44706.0, 21412.0, 94437.0, 56380.0, 113174.0, 81876.0, 52126.0, 40818.0, 68209.0, 55774.0, 105513.0, 34600.0, 127193.0, 43252.0, 100892.0, 34234.0, 120954.0, 42844.0, 52635.0, 24875.0, 70831.0, 41305.0, 55285.0, 61789.0, 51246.0, 21129.0, 57063.0, 121239.0, 104754.0, 39559.0, 29283.0, 56536.0, 47565.0, 41276.0, 53857.0, 95139.0, 149637.0, 80094.0, 47598.0, 76804.0, 23221.0, 85057.95833333333, 85332.0, 73566.0, 101227.0, 50987.5, 54377.0, 48734.0, 57714.0, 26520.0, 86813.0, 59636.0, 16581.0, 66631.0, 51267.0, 44108.0, 58565.0, 46866.0, 30044.0, 42960.0, 48546.0, 80368.0, 15861.0, 34856.625, 123565.0, 70269.83333333333, 48860.0, 37209.0, 85688.0, 127737.0, 42573.0, 53926.0, 55601.0, 74090.0, 66854.0, 44443.0, 41255.0, 67732.0, 48010.0, 66704.75, 73534.0, 63402.0, 66923.0, 25818.0, 79676.0, 77645.0, 25678.0, 32250.0, 59078.0, 40118.0, 55836.0, 45593.0, 44137.0, 26145.0, 42383.0, 60415.0, 81936.0, 76388.0, 30258.0, 28141.5, 70916.0, 60967.0, 29719.0, 130245.0, 46269.0, 42779.0, 85677.0, 74434.0, 94212.0, 92796.0, 73177.0, 42260.0, 57449.0, 62011.0, 77599.5, 90200.0, 83028.0, 65726.0, 94824.5, 45264.0, 38201.0, 74873.0, 71129.0, 70496.0, 79523.0, 72478.0, 131847.0, 105686.0, 116006.0, 47426.0, 61050.0, 95969.0, 50778.0, 69678.0, 80499.0, 66650.0, 31780.0, 133579.0, 69971.0, 59105.0, 94440.0, 145116.0, 30960.0, 84266.0, 116383.0, 76426.83333333333, 93170.0, 69756.0, 33986.0, 31210.0, 117011.0, 112513.0, 72778.0, 35442.0, 61291.0, 79243.0, 65628.0, 79251.0, 94485.0, 50766.0, 83604.0, 54580.0, 133489.0, 81933.0, 138520.0, 89192.0, 38919.0, 22132.0, 90482.39130434782, 54915.0, 83958.0, 83632.0, 59764.0, 51339.0, 57541.0, 77301.0, 129924.0, 76455.0, 49280.0, 59587.0, 87351.0, 46851.0, 38223.0, 54235.0, 35595.0, 89894.0, 113197.0, 131168.0, 54695.0, 45009.0, 24378.0, 93751.0, 99669.0, 83916.0, 77114.0, 77785.0, 48747.0, 47528.75, 79652.0, 94809.0, 67326.0, 67762.29166666667, 63321.0, 73899.0, 77613.0, 169549.0, 111507.0, 54059.0, 68525.0, 82309.0, 39195.0, 36373.0, 51769.0, 59110.0, 18024.0, 92031.0, 37664.0, 52371.0, 45365.0, 30967.0, 18538.0, 65277.0, 142543.0, 48747.0, 38169.0, 52092.0, 15052.0, 66536.0, 47809.0, 43876.0, 37667.0, 83236.0, 30558.0, 90057.0, 45993.0, 75344.0, 96562.0, 68356.0, 55594.75, 70774.0, 78009.0, 58799.0, 45414.0, 81854.0, 83215.0, 64399.0, 126779.25, 83298.0, 56766.0, 71878.0, 80907.0, 53902.0, 131568.0, 85254.0, 75224.0, 44154.0, 98935.0, 104128.0, 49131.5, 104058.0, 67162.0, 126357.0, 66890.0, 92763.0, 80788.0, 69599.0, 104157.0, 65092.0, 48747.0, 21909.0, 112112.0, 38326.0, 56621.0, 51668.0, 25186.0, 80394.0, 78632.75, 92672.0, 59816.0, 37784.0, 83969.0, 56807.0, 77778.0, 73538.0, 36085.0, 28318.0, 107274.0, 69924.0, 35598.0, 66945.0, 144726.0, 62462.0, 131805.0, 76756.0, 42199.0, 49295.0, 91456.0, 85112.0, 50180.0, 46952.0, 82815.0, 70254.0, 57387.0, 65603.0, 46368.0, 70656.0, 28116.0, 119227.0, 52963.0, 51099.0, 31631.0, 40342.0, 22755.0, 31224.0, 76308.0, 30312.0, 69457.0, 65813.0, 68070.0, 32865.0, 57375.0, 13427.0, 59182.0, 45988.0, 12906.0, 62100.0, 42171.0, 53039.0, 89367.0, 131347.0, 29985.0, 84318.0, 57987.0, 31644.0, 19818.0, 66502.0, 69539.0, 64604.0, 19235.0, 54103.0, 59216.0, 39884.0, 114648.0, 77177.0, 89013.0, 115159.0, 25950.0, 49510.0, 62298.0, 58977.0, 29408.0, 22731.0, 39527.0, 60874.0, 64953.0, 59000.0, 38068.0, 38945.0, 42270.0, 68913.0, 67931.0, 57671.0, 102142.0, 121259.0, 32663.0, 73769.0, 47160.0, 16477.0, 67904.0, 71000.0, 114258.0, 58885.0, 41401.0, 30847.0, 84085.0, 39990.0, 79086.0, 43165.0, 46858.0, 47009.0, 34827.0, 51850.0, 65901.0, 29807.0, 24150.0, 21933.0, 75112.0, 85172.0, 61913.0, 89602.0, 31547.0, 148588.0, 47211.0, 118363.0, 41046.0, 45832.0, 30121.0, 35793.0, 100064.0, 25731.0, 106171.0, 76307.0, 35283.0, 38409.0, 91458.0, 56242.0, 101395.0, 22065.0, 27889.0, 21276.0, 43053.0, 36637.0, 24490.0, 95694.0, 25832.0, 43263.0, 62199.0, 82120.0, 20922.0, 108051.0, 59084.0, 54074.0, 19419.0, 75001.0, 94594.0, 66707.0, 42260.0, 84713.0, 68151.0, 61894.0, 31657.0, 81730.0, 17307.0, 86340.0, 27328.0, 51657.0, 107539.0, 13051.0, 92753.0, 59108.0, 55528.0, 61912.0, 53385.0, 104995.0, 44359.0, 21354.0, 23185.0, 37873.0, 40168.0, 33901.0, 11236.0, 37346.0, 77903.0, 64128.0, 27294.0, 25172.0, 31655.0, 47864.0, 90988.0, 24862.0, 40102.0, 89200.0, 54352.0, 76336.0, 52191.0, 41800.0, 108013.0, 57339.0, 42189.0, 70781.0, 13605.0, 66842.0, 49695.0, 81858.0, 45981.0, 35983.0, 70753.0, 25851.0, 78645.0, 20176.0, 81190.13636363637, 26047.0, 96603.0, 50281.0, 42592.0, 59936.0, 37890.0, 51819.0, 29869.0, 57245.0, 50739.0, 69454.0, 26658.0, 54816.0, 35694.0, 51152.0, 45796.0, 58812.0, 140769.0, 62135.0, 55937.0, 33327.0, 83084.0, 26563.0, 55938.0, 92158.0, 57044.0, 56317.0, 55441.0, 39564.0, 33134.0, 60555.0, 135879.0, 58347.0, 13743.0, 67650.0, 35727.0, 44740.0, 28186.0, 82259.0, 38569.0, 29106.0, 52364.0, 137082.0, 45245.0, 45923.0, 70428.0, 84850.0, 73194.0, 40604.0, 76069.0, 41553.0, 25028.0, 38625.0, 57225.0, 52572.0, 97153.0, 92559.0, 74051.0, 38390.0, 93113.0, 43083.0, 74684.0, 65053.0, 120771.0, 14489.0, 17047.0, 78656.0, 63479.0, 128590.0, 81206.0, 60246.0, 73933.0, 55108.0, 33956.0, 123390.0, 104473.0, 45357.0, 45193.0, 37575.0, 53577.0, 47419.0, 86072.0, 87438.0, 64179.0, 83926.0, 26067.0, 39660.0, 59318.0, 62431.0, 45068.0, 42714.0, 22918.0, 29312.0, 39164.0, 22947.0, 68341.0, 56611.0, 26562.0, 31674.0, 35091.0, 80716.0, 49475.0, 41638.0, 23107.0, 20170.0, 65035.0, 103119.0, 49888.0, 42544.0, 49653.0, 55804.0, 29231.0, 40777.0, 22793.0, 10747.0, 59796.0, 52199.0, 83253.0, 98996.0, 109652.0, 31056.0, 106727.0, 86823.0, 51086.0, 12934.0, 31137.0, 35731.0, 77182.0, 35112.0, 109296.0, 71812.0, 43720.0, 50345.0, 62542.0, 20886.0, 84481.0, 44273.0, 19649.0, 55263.0, 52465.0, 73359.0, 31340.0, 50504.0, 31890.0, 54026.0, 70144.0, 68356.0, 108091.0, 46169.0, 70570.0, 51593.0, 14989.0, 17660.0, 86336.0, 66483.0, 78135.0, 115293.0, 39119.0, 49553.0, 64842.0, 114230.0, 38764.0, 83294.0, 46186.0, 49664.0, 39216.0, 13653.0, 36474.0, 54056.0, 54520.0, 101494.0, 57931.0, 49936.0, 18788.0, 35219.0, 38624.0, 51781.0, 48059.0, 54358.0, 130429.0, 95388.0, 105931.0, 110445.0, 57888.0, 35584.0, 41298.0, 112322.0, 64702.0, 36116.0, 40926.0, 54903.0, 15327.0, 97203.0, 78143.0, 45969.0, 42368.0, 77011.0, 38546.0, 71072.0, 127380.0, 55762.0, 30083.0, 62909.0, 13037.0, 22931.0, 17186.0, 49509.0, 59241.0, 31831.0, 82632.0, 57667.0, 79461.0, 31052.0, 85450.0, 113807.0, 103494.0, 130781.0, 70677.0, 58323.0, 97116.0, 135436.0, 81352.0, 37839.0, 36430.0, 19456.0, 51497.0, 44720.0, 40531.0, 19290.0, 110490.0, 81944.0, 41980.0, 108768.0, 84637.0, 43322.0, 62042.0, 58943.0, 57476.0, 63181.0, 54288.0, 87182.0, 69449.0, 18285.0, 85693.0, 87853.0, 45071.0, 51600.0, 63587.0, 70816.0, 38990.0, 23182.0, 82503.0, 76195.0, 100303.0, 75467.0, 40253.0, 48639.0, 60252.0, 50434.0, 29689.0, 34849.0, 30951.0, 49614.0, 62232.0, 46600.0, 17676.0, 81547.0, 49914.0, 66017.0, 42395.0, 31787.0, 26850.0, 59166.0, 113120.0, 42601.0, 70740.0, 67113.0, 55313.0, 80746.0, 42588.0, 63636.0, 52632.0, 53383.0, 58199.0, 121419.0, 56035.0, 21212.0, 22019.0, 40409.0, 77903.0, 113038.0, 39131.0, 70731.0, 29584.0, 83524.0, 87661.0, 75541.0, 26151.0, 45269.0, 40295.0, 91602.0, 29151.0, 34497.0, 28575.0, 52753.0, 19791.0, 134302.0, 75133.0, 39442.0, 94770.0, 55443.0, 61069.0, 94945.0, 50863.0, 31954.0, 23745.0, 43463.0, 51725.0, 45342.0, 34868.0, 22680.0, 38502.0, 28565.0, 41382.0, 43831.0, 39104.0, 33883.0, 58807.0, 44326.0, 65995.0, 45234.0, 18512.0, 30136.0, 60391.0, 20379.0, 39854.0, 55630.0, 47484.0, 70339.0, 60056.0, 61371.0, 67236.0, 20245.0, 37285.0, 59393.0, 23823.0, 36846.0, 70330.0, 87153.0, 69972.0, 100893.0, 40688.0, 93093.0, 74402.0, 24634.0, 31392.0, 70478.0, 17253.0, 99893.0, 50799.0, 35996.0, 45278.0, 46679.0, 74516.0, 59526.0, 20785.0, 83350.0, 61982.0, 47194.0, 30461.0, 33721.0, 28297.0, 60185.0, 41620.0, 49277.0, 53058.0, 49031.0, 39502.0, 69418.0, 46134.0, 40654.0, 37617.0, 56016.0, 127070.0, 58277.0, 11706.0, 58588.0, 58540.0, 87810.0, 33831.0, 65464.0, 120188.0, 76776.0, 50281.0, 82704.0, 57869.0, 22245.0, 25106.0, 79926.0, 24582.0, 27607.0, 63844.0, 20101.0, 41705.0, 51680.0, 32263.0, 21543.0, 62748.0, 49443.0, 76198.0, 52668.0, 37278.0, 70772.0, 47696.0, 45330.0, 80290.0, 24932.0, 69071.0, 82503.0, 104966.0, 76467.0, 68596.0, 55834.0, 55648.0, 52480.0, 51837.0, 84873.0, 47594.0, 55551.0, 35079.0, 60417.0, 49521.0, 62637.0, 94519.0, 60905.0, 45720.0, 36118.0, 56347.0, 30442.0, 73363.0, 41591.0, 26592.0, 73245.0, 40318.0, 73594.0, 59168.0, 47188.0, 41167.0, 27432.0, 50769.0, 52990.0, 80591.0, 55112.0, 43747.0, 73087.0, 46464.0, 68309.0, 44062.0, 112066.0, 50118.0, 102175.0, 81440.0, 46856.0, 61133.0, 30860.0, 27548.0, 38572.0, 103994.0, 17607.0, 30106.0, 51796.0, 46239.0, 62905.0, 12779.0, 22962.0, 32376.0, 18378.0, 22895.0, 76076.0, 52588.0, 66416.0, 75499.0, 99876.0, 39328.0, 64699.0, 109986.0, 15970.0, 21234.0, 50022.0, 46789.0, 26083.0, 75735.0, 51433.0, 40035.0, 95465.0, 36558.0, 48097.0, 47419.0, 18088.0, 37992.0, 48409.0, 37630.0, 30295.0, 90851.0, 54527.0, 12456.0, 45575.0, 115006.0, 133978.0, 42565.0, 50372.0, 94965.0, 50554.0, 67971.0, 15291.0, 43975.0, 44069.0, 19217.0, 39499.0, 55519.0, 130277.0, 47117.0, 84791.0, 98630.0, 15520.0, 73103.0, 66074.0, 77369.0, 98306.0, 38456.0, 10883.0, 53471.0, 78444.0, 34521.0, 100150.0, 65870.0, 55419.0, 52789.0, 94237.0, 39644.0, 51643.0, 50803.0, 18106.0, 72219.0, 39823.0, 74620.0, 78813.0, 32574.0, 21150.0, 26928.0, 55638.0, 58027.0, 70921.0, 22115.0, 36070.0, 66225.0, 111414.0, 25178.0, 67498.0, 76396.0, 67140.0, 41463.0, 70088.0, 116163.0, 17493.0, 43026.0, 76525.0, 55465.0, 33154.0, 70038.0, 31057.0, 75417.0, 54901.0, 58052.0, 67126.0, 43705.0, 99415.0, 49049.0, 54212.0, 29306.0, 105400.0, 52007.0, 107592.0, 26796.0, 72843.0, 32736.0, 87325.0, 25483.0, 17496.0, 54231.0, 28447.0, 47651.0, 44722.0, 44907.0, 52711.0, 77197.0, 88777.0, 38059.0, 74265.0, 25458.0, 51930.0, 44566.0, 81150.0, 89118.0, 57908.0, 30292.0, 54821.0, 106794.0, 44160.0, 59112.0, 19072.0, 64693.0, 80586.0, 27806.0, 81561.0, 44061.0, 126416.0, 29181.0, 20641.0, 41446.0, 67679.0, 62396.0, 58946.0, 48369.0, 37613.0, 70900.0, 19433.0, 52963.0, 19020.0, 64128.0, 49664.0, 78906.0, 54126.0, 48540.0, 27216.0, 33246.0, 61502.0, 61218.0, 34593.0, 55718.0, 54906.0, 48050.0, 41971.0, 70994.0, 39841.0, 38105.0, 69141.0, 45180.0, 45183.0, 44091.0, 47565.0, 43690.0, 107368.0, 94171.0, 25207.0, 39422.0, 110542.0, 50436.0, 39635.0, 16688.0, 50211.0, 40408.0, 46010.0, 23299.0, 71142.0, 56936.0, 130279.0, 64476.0, 34356.0, 49570.0, 86551.0, 64780.0, 57107.0, 60780.0, 108452.0, 79222.0, 49957.0, 19448.0, 75453.0, 125545.0, 64559.0, 64606.0, 35116.0, 44784.0, 61884.0, 76707.0, 44841.0, 46001.0, 74305.0, 96076.0, 39731.0, 44949.0, 48956.0, 42300.0, 31948.0, 90123.0, 57863.0, 35090.0, 24821.0, 42317.0, 21762.0, 47379.0, 34561.0, 62853.0, 44999.0, 31361.0, 30310.0, 59451.0, 46726.0, 56760.0, 72503.0, 54632.0, 21245.0, 72839.0, 111621.0, 71740.0, 43963.0, 54922.0, 23149.0, 52711.0, 12456.0, 117644.0, 48111.0, 55037.0, 38396.0, 43897.0, 49886.0, 27572.0, 54600.0, 83083.0, 59932.0, 22645.0, 66465.0, 77477.0, 12987.0, 116218.0, 23537.0, 69697.0, 45531.0, 20797.0, 100297.0, 45153.0, 29043.0, 72989.0, 34473.0, 35189.0, 98568.0, 71984.0, 13417.0, 61712.0, 122837.0, 50533.0, 88169.0, 47992.0, 15822.0, 74903.0, 36114.0, 21942.0, 16486.0, 60688.0, 21898.0, 91839.0, 52175.0, 58534.0, 11068.0, 62689.0, 115978.0, 81784.0, 21627.0, 53930.0, 123255.0, 65299.0, 40325.0, 48711.0, 100798.0, 56916.0, 30959.0, 45207.0, 65448.0, 50809.0, 87794.0, 82666.0, 48656.0, 94933.0, 57627.0, 14166.0, 17234.0, 45148.0, 39434.0, 114651.0, 35823.0, 66935.0, 89503.0, 27693.0, 95658.0, 44497.0, 73122.0, 26206.0, 76806.0, 39121.0, 29359.0, 43047.0, 96317.0, 51579.0, 61343.0, 42723.0, 22575.0, 91787.0, 49122.0, 31773.0, 53928.0, 56867.0, 95822.0, 45163.0, 47072.0, 38478.0, 33681.0, 60847.0, 42975.0, 37995.0, 51016.0, 31500.0, 22738.0, 30996.0, 149354.0, 33042.0, 45609.0, 40685.0, 81385.0, 83242.0, 47980.0, 59205.0, 91064.0, 58671.0, 67067.0, 63577.0, 49696.0, 22875.0, 61613.0, 60764.0, 62204.0, 45526.0, 35542.0, 52914.0, 65754.0, 75835.0, 90743.0, 88204.0, 125011.0, 53920.0, 25579.0, 30342.0, 57083.0, 46309.0, 27023.0, 11943.0, 145483.0, 53181.0, 136307.0, 39994.0, 42507.0, 22095.0, 68837.0, 113857.0, 17476.0, 45811.0, 41504.0, 26160.0, 40671.0, 53062.0, 80779.0, 54180.0, 140833.0, 53355.0, 54971.0, 59431.0, 37704.0, 41796.0, 55815.0, 78511.0, 51764.0, 38416.0, 90560.0, 78444.0, 63739.0, 18948.0, 117533.66666666667, 43578.0, 77647.0, 52471.0, 53123.0, 18192.0, 27895.0, 39830.0, 79599.0, 79239.0, 33721.0, 71593.0, 123750.0, 36230.0, 57581.0, 24538.0, 96265.0, 39246.0, 29148.0, 68418.0, 76092.0, 29660.0, 36661.0, 96143.0, 74589.0, 32285.0, 34619.0, 27867.0, 41169.0, 25605.0, 29575.0, 32043.0, 69939.0, 67317.0, 63898.0, 40086.0, 52518.0, 60214.0, 78057.0, 83455.0, 55315.0, 58533.0, 61994.0, 19072.0, 41973.0, 29520.0, 88909.0, 28506.0, 44512.0, 34020.0, 49213.0, 40099.0, 59169.0, 46860.0, 28059.0, 40996.0, 52011.0, 21043.0, 51181.0, 12553.0, 18642.0, 76531.0, 56702.0, 67394.0, 72499.0, 48097.0, 76425.0, 28498.0, 74953.0, 46345.0, 54291.0, 48436.0, 42408.0, 32523.0, 46866.0, 39471.0, 98821.0, 54056.0, 58320.0, 85803.0, 60796.0, 34692.0, 59274.0, 58203.0, 24906.0, 53521.0, 64781.0, 58131.0, 33239.0, 47050.0, 37709.0, 21746.0, 42234.0, 36096.0, 48890.0, 51303.0, 74087.0, 66031.0, 72393.0, 50370.0, 17687.0, 20590.0, 46083.0, 38619.0, 84806.0, 70252.0, 100888.0, 46979.0, 56814.0, 100412.0, 40198.0, 67669.0, 57975.0, 92401.0, 55473.0, 78564.0, 44146.0, 63181.0, 21792.0, 39750.0, 30999.0, 80535.0, 42380.0, 47487.0, 46515.0, 42405.0, 50787.0, 29915.0, 22556.0, 66035.0, 58872.0, 26053.0, 48829.0, 139882.0, 65632.0, 90421.0, 117708.0, 64855.0, 33442.0, 21252.0, 59928.0, 38992.0, 69166.0, 40592.0, 41591.0, 47752.0, 19052.0, 31743.0, 61065.0, 42604.0, 68936.0, 39560.0, 44707.0, 86291.0, 21270.0, 59930.0, 40948.0, 45665.0, 74781.0, 43989.0, 49533.0, 41723.0, 42844.0, 42166.0, 44012.0, 59352.0, 52035.0, 27194.0, 153766.0, 42772.0, 82046.0, 46480.0, 42813.0, 32871.0, 31809.0, 55700.0, 35943.0, 45604.0, 70714.0, 50801.0, 52196.0, 55777.0, 53105.0, 64370.0, 19371.0, 101223.0, 50029.0, 11889.0, 47440.0, 40437.0, 29450.0, 70246.0, 25510.0, 62955.0, 106428.0, 90033.0, 27262.0, 82179.0, 54631.0, 59650.0, 61879.0, 33391.0, 20010.0, 42339.0, 22556.0, 29202.0, 90020.0, 23801.0, 52209.0, 20984.0, 110792.0, 59077.0, 62460.0, 28216.0, 38152.0, 25357.0, 103305.0, 78441.0, 73207.0, 21935.0, 53572.0, 37067.0, 85965.0, 70733.0, 81348.0, 43647.0, 49336.0, 68830.0, 86246.0, 41661.0, 101423.0, 57872.0, 59644.0, 16216.0, 73561.0, 62243.0, 112722.0, 46043.0, 78164.0, 55943.0, 66742.0, 21154.0, 18291.0, 51261.0, 67740.0, 49471.0, 40142.0, 30851.0, 57624.0, 40760.0, 62204.0, 12895.0, 25551.0, 112934.0, 14761.0, 80980.0, 21530.0, 103102.0, 34461.0, 40435.0, 60982.0, 23566.0, 21780.0, 103060.0, 37900.0, 23334.0, 49659.0, 18770.0, 41798.0, 71384.0, 65040.0, 35939.0, 80818.0, 33981.0, 59902.0, 67490.0, 39054.0, 27774.0, 39612.0, 56687.0, 47102.0, 71338.0, 23545.0, 31124.0, 92847.0, 63315.0, 59097.0, 33901.0, 29642.0, 56666.0, 43282.0, 131567.0, 55276.0, 56150.0, 46397.0, 14113.0, 87710.0, 35133.0, 67219.0, 54214.0, 15189.0, 21346.0, 55546.0, 136960.0, 43764.0, 57225.0, 65298.0, 14820.0, 40366.0, 43411.0, 87010.0, 76562.0, 53750.0, 53643.0, 29150.0, 63888.0, 23711.0, 167758.0, 31097.0, 132505.0, 16676.0, 113256.0, 77848.0, 109652.0, 17648.0, 112317.0, 62380.0, 27993.0, 58275.0, 28890.0, 40281.0, 12064.0, 58259.0, 46832.0, 56188.0, 37214.0, 13222.0, 100560.0, 24429.0, 51617.0, 63424.0, 44169.0, 90492.0, 71138.0, 90734.0, 17481.0, 23511.0, 99691.0, 58577.0, 33343.0, 85831.0, 36191.0, 42551.0, 19183.0, 63182.0, 99858.0, 55723.0, 55344.0, 36682.0, 44188.0, 99515.0, 89269.0, 68294.0, 44041.0, 47251.0, 58626.0, 51616.0, 74360.0, 65958.0, 40775.0, 29052.0, 62242.0, 59644.0, 40013.0, 25228.0, 75458.0, 30212.0, 91020.0, 71761.0, 70395.0, 18173.0, 59536.0, 64254.0, 118773.0, 130752.0, 125576.0, 33169.0, 115152.0, 67049.0, 34556.0, 18224.0, 16206.0, 37521.0, 31816.0, 137450.0, 90090.0, 47678.0, 38706.0, 37039.0, 14776.0, 67667.0, 44884.0, 34569.0, 54019.0, 23166.0, 116077.0, 64168.0, 29962.0, 96053.0, 47301.0, 128520.0, 53880.0, 26766.0, 65990.0, 52321.0, 42059.0, 37888.0, 50141.0, 37046.0, 50326.0, 29462.0, 18799.0, 24676.0, 20983.0, 18469.0, 52222.0, 53554.0, 21364.0, 76805.0, 111600.0, 69003.0, 102822.0, 33058.0, 26460.0, 17566.0, 15482.0, 50158.0, 110829.0, 99300.0, 21993.0, 21636.0, 79797.0, 46604.0, 56478.0, 63004.0, 81792.0, 53320.0, 57164.0, 38829.0, 68473.0, 87954.0, 30083.0, 28949.0, 14034.0, 56808.0, 62716.0, 65507.0, 19724.0, 24985.0, 19447.0, 17044.0, 62354.0, 55601.0, 38047.0, 69098.0, 38788.0, 62292.0, 40216.0, 23955.0, 77739.0, 23641.0, 68037.0, 26716.0, 22719.0, 69153.0, 103568.0, 114637.0, 64610.0, 68500.0, 40608.0, 42400.0, 61670.0, 102345.0, 81055.0, 43753.0, 21445.0, 65156.0, 58571.0, 69776.0, 77535.0, 99907.0, 52912.0, 58892.0, 50306.0, 64281.0, 55845.0, 27572.0, 29442.0, 76463.0, 12860.0, 37940.0, 59562.0, 39404.0, 100722.0, 23582.0, 38744.0, 61569.0, 27634.0, 14375.0, 50168.0, 47303.0, 37944.0, 45675.0, 27828.0, 53480.0, 56659.0, 49165.0, 19037.0, 68957.0, 41730.0, 23068.0, 32108.0, 22217.0, 128906.0, 46734.0, 36284.0, 50048.0, 66132.0, 53115.0, 78445.0, 56848.0, 69141.0, 82260.0, 51471.0, 52682.0, 38809.0, 53793.0, 80138.0, 51670.0, 35607.0, 42313.0, 54397.0, 95133.0, 29582.0, 12105.0, 35370.0, 69498.0], \"y0\": \" \", \"yaxis\": \"y\"}],\n",
              "                        {\"boxmode\": \"group\", \"legend\": {\"tracegroupgap\": 0}, \"margin\": {\"t\": 60}, \"template\": {\"data\": {\"bar\": [{\"error_x\": {\"color\": \"#2a3f5f\"}, \"error_y\": {\"color\": \"#2a3f5f\"}, \"marker\": {\"line\": {\"color\": \"#E5ECF6\", \"width\": 0.5}}, \"type\": \"bar\"}], \"barpolar\": [{\"marker\": {\"line\": {\"color\": \"#E5ECF6\", \"width\": 0.5}}, \"type\": \"barpolar\"}], \"carpet\": [{\"aaxis\": {\"endlinecolor\": \"#2a3f5f\", \"gridcolor\": \"white\", \"linecolor\": \"white\", \"minorgridcolor\": \"white\", \"startlinecolor\": \"#2a3f5f\"}, \"baxis\": {\"endlinecolor\": \"#2a3f5f\", \"gridcolor\": \"white\", \"linecolor\": \"white\", \"minorgridcolor\": \"white\", \"startlinecolor\": \"#2a3f5f\"}, \"type\": \"carpet\"}], \"choropleth\": [{\"colorbar\": {\"outlinewidth\": 0, \"ticks\": \"\"}, \"type\": \"choropleth\"}], \"contour\": [{\"colorbar\": {\"outlinewidth\": 0, \"ticks\": \"\"}, \"colorscale\": [[0.0, \"#0d0887\"], [0.1111111111111111, \"#46039f\"], [0.2222222222222222, \"#7201a8\"], [0.3333333333333333, \"#9c179e\"], [0.4444444444444444, \"#bd3786\"], [0.5555555555555556, \"#d8576b\"], [0.6666666666666666, \"#ed7953\"], [0.7777777777777778, \"#fb9f3a\"], [0.8888888888888888, \"#fdca26\"], [1.0, \"#f0f921\"]], \"type\": \"contour\"}], \"contourcarpet\": [{\"colorbar\": {\"outlinewidth\": 0, \"ticks\": \"\"}, \"type\": \"contourcarpet\"}], \"heatmap\": [{\"colorbar\": {\"outlinewidth\": 0, \"ticks\": \"\"}, \"colorscale\": [[0.0, \"#0d0887\"], [0.1111111111111111, \"#46039f\"], [0.2222222222222222, \"#7201a8\"], [0.3333333333333333, \"#9c179e\"], [0.4444444444444444, \"#bd3786\"], [0.5555555555555556, \"#d8576b\"], [0.6666666666666666, \"#ed7953\"], [0.7777777777777778, \"#fb9f3a\"], [0.8888888888888888, \"#fdca26\"], [1.0, \"#f0f921\"]], \"type\": \"heatmap\"}], \"heatmapgl\": [{\"colorbar\": {\"outlinewidth\": 0, \"ticks\": \"\"}, \"colorscale\": [[0.0, \"#0d0887\"], [0.1111111111111111, \"#46039f\"], [0.2222222222222222, \"#7201a8\"], [0.3333333333333333, \"#9c179e\"], [0.4444444444444444, \"#bd3786\"], [0.5555555555555556, \"#d8576b\"], [0.6666666666666666, \"#ed7953\"], [0.7777777777777778, \"#fb9f3a\"], [0.8888888888888888, \"#fdca26\"], [1.0, \"#f0f921\"]], \"type\": \"heatmapgl\"}], \"histogram\": [{\"marker\": {\"colorbar\": {\"outlinewidth\": 0, \"ticks\": \"\"}}, \"type\": \"histogram\"}], \"histogram2d\": [{\"colorbar\": {\"outlinewidth\": 0, \"ticks\": \"\"}, \"colorscale\": [[0.0, \"#0d0887\"], [0.1111111111111111, \"#46039f\"], [0.2222222222222222, \"#7201a8\"], [0.3333333333333333, \"#9c179e\"], [0.4444444444444444, \"#bd3786\"], [0.5555555555555556, \"#d8576b\"], [0.6666666666666666, \"#ed7953\"], [0.7777777777777778, \"#fb9f3a\"], [0.8888888888888888, \"#fdca26\"], [1.0, \"#f0f921\"]], \"type\": \"histogram2d\"}], \"histogram2dcontour\": [{\"colorbar\": {\"outlinewidth\": 0, \"ticks\": \"\"}, \"colorscale\": [[0.0, \"#0d0887\"], [0.1111111111111111, \"#46039f\"], [0.2222222222222222, \"#7201a8\"], [0.3333333333333333, \"#9c179e\"], [0.4444444444444444, \"#bd3786\"], [0.5555555555555556, \"#d8576b\"], [0.6666666666666666, \"#ed7953\"], [0.7777777777777778, \"#fb9f3a\"], [0.8888888888888888, \"#fdca26\"], [1.0, \"#f0f921\"]], \"type\": \"histogram2dcontour\"}], \"mesh3d\": [{\"colorbar\": {\"outlinewidth\": 0, \"ticks\": \"\"}, \"type\": \"mesh3d\"}], \"parcoords\": [{\"line\": {\"colorbar\": {\"outlinewidth\": 0, \"ticks\": \"\"}}, \"type\": \"parcoords\"}], \"pie\": [{\"automargin\": true, \"type\": \"pie\"}], \"scatter\": [{\"marker\": {\"colorbar\": {\"outlinewidth\": 0, \"ticks\": \"\"}}, \"type\": \"scatter\"}], \"scatter3d\": [{\"line\": {\"colorbar\": {\"outlinewidth\": 0, \"ticks\": \"\"}}, \"marker\": {\"colorbar\": {\"outlinewidth\": 0, \"ticks\": \"\"}}, \"type\": \"scatter3d\"}], \"scattercarpet\": [{\"marker\": {\"colorbar\": {\"outlinewidth\": 0, \"ticks\": \"\"}}, \"type\": \"scattercarpet\"}], \"scattergeo\": [{\"marker\": {\"colorbar\": {\"outlinewidth\": 0, \"ticks\": \"\"}}, \"type\": \"scattergeo\"}], \"scattergl\": [{\"marker\": {\"colorbar\": {\"outlinewidth\": 0, \"ticks\": \"\"}}, \"type\": \"scattergl\"}], \"scattermapbox\": [{\"marker\": {\"colorbar\": {\"outlinewidth\": 0, \"ticks\": \"\"}}, \"type\": \"scattermapbox\"}], \"scatterpolar\": [{\"marker\": {\"colorbar\": {\"outlinewidth\": 0, \"ticks\": \"\"}}, \"type\": \"scatterpolar\"}], \"scatterpolargl\": [{\"marker\": {\"colorbar\": {\"outlinewidth\": 0, \"ticks\": \"\"}}, \"type\": \"scatterpolargl\"}], \"scatterternary\": [{\"marker\": {\"colorbar\": {\"outlinewidth\": 0, \"ticks\": \"\"}}, \"type\": \"scatterternary\"}], \"surface\": [{\"colorbar\": {\"outlinewidth\": 0, \"ticks\": \"\"}, \"colorscale\": [[0.0, \"#0d0887\"], [0.1111111111111111, \"#46039f\"], [0.2222222222222222, \"#7201a8\"], [0.3333333333333333, \"#9c179e\"], [0.4444444444444444, \"#bd3786\"], [0.5555555555555556, \"#d8576b\"], [0.6666666666666666, \"#ed7953\"], [0.7777777777777778, \"#fb9f3a\"], [0.8888888888888888, \"#fdca26\"], [1.0, \"#f0f921\"]], \"type\": \"surface\"}], \"table\": [{\"cells\": {\"fill\": {\"color\": \"#EBF0F8\"}, \"line\": {\"color\": \"white\"}}, \"header\": {\"fill\": {\"color\": \"#C8D4E3\"}, \"line\": {\"color\": \"white\"}}, \"type\": \"table\"}]}, \"layout\": {\"annotationdefaults\": {\"arrowcolor\": \"#2a3f5f\", \"arrowhead\": 0, \"arrowwidth\": 1}, \"coloraxis\": {\"colorbar\": {\"outlinewidth\": 0, \"ticks\": \"\"}}, \"colorscale\": {\"diverging\": [[0, \"#8e0152\"], [0.1, \"#c51b7d\"], [0.2, \"#de77ae\"], [0.3, \"#f1b6da\"], [0.4, \"#fde0ef\"], [0.5, \"#f7f7f7\"], [0.6, \"#e6f5d0\"], [0.7, \"#b8e186\"], [0.8, \"#7fbc41\"], [0.9, \"#4d9221\"], [1, \"#276419\"]], \"sequential\": [[0.0, \"#0d0887\"], [0.1111111111111111, \"#46039f\"], [0.2222222222222222, \"#7201a8\"], [0.3333333333333333, \"#9c179e\"], [0.4444444444444444, \"#bd3786\"], [0.5555555555555556, \"#d8576b\"], [0.6666666666666666, \"#ed7953\"], [0.7777777777777778, \"#fb9f3a\"], [0.8888888888888888, \"#fdca26\"], [1.0, \"#f0f921\"]], \"sequentialminus\": [[0.0, \"#0d0887\"], [0.1111111111111111, \"#46039f\"], [0.2222222222222222, \"#7201a8\"], [0.3333333333333333, \"#9c179e\"], [0.4444444444444444, \"#bd3786\"], [0.5555555555555556, \"#d8576b\"], [0.6666666666666666, \"#ed7953\"], [0.7777777777777778, \"#fb9f3a\"], [0.8888888888888888, \"#fdca26\"], [1.0, \"#f0f921\"]]}, \"colorway\": [\"#636efa\", \"#EF553B\", \"#00cc96\", \"#ab63fa\", \"#FFA15A\", \"#19d3f3\", \"#FF6692\", \"#B6E880\", \"#FF97FF\", \"#FECB52\"], \"font\": {\"color\": \"#2a3f5f\"}, \"geo\": {\"bgcolor\": \"white\", \"lakecolor\": \"white\", \"landcolor\": \"#E5ECF6\", \"showlakes\": true, \"showland\": true, \"subunitcolor\": \"white\"}, \"hoverlabel\": {\"align\": \"left\"}, \"hovermode\": \"closest\", \"mapbox\": {\"style\": \"light\"}, \"paper_bgcolor\": \"white\", \"plot_bgcolor\": \"#E5ECF6\", \"polar\": {\"angularaxis\": {\"gridcolor\": \"white\", \"linecolor\": \"white\", \"ticks\": \"\"}, \"bgcolor\": \"#E5ECF6\", \"radialaxis\": {\"gridcolor\": \"white\", \"linecolor\": \"white\", \"ticks\": \"\"}}, \"scene\": {\"xaxis\": {\"backgroundcolor\": \"#E5ECF6\", \"gridcolor\": \"white\", \"gridwidth\": 2, \"linecolor\": \"white\", \"showbackground\": true, \"ticks\": \"\", \"zerolinecolor\": \"white\"}, \"yaxis\": {\"backgroundcolor\": \"#E5ECF6\", \"gridcolor\": \"white\", \"gridwidth\": 2, \"linecolor\": \"white\", \"showbackground\": true, \"ticks\": \"\", \"zerolinecolor\": \"white\"}, \"zaxis\": {\"backgroundcolor\": \"#E5ECF6\", \"gridcolor\": \"white\", \"gridwidth\": 2, \"linecolor\": \"white\", \"showbackground\": true, \"ticks\": \"\", \"zerolinecolor\": \"white\"}}, \"shapedefaults\": {\"line\": {\"color\": \"#2a3f5f\"}}, \"ternary\": {\"aaxis\": {\"gridcolor\": \"white\", \"linecolor\": \"white\", \"ticks\": \"\"}, \"baxis\": {\"gridcolor\": \"white\", \"linecolor\": \"white\", \"ticks\": \"\"}, \"bgcolor\": \"#E5ECF6\", \"caxis\": {\"gridcolor\": \"white\", \"linecolor\": \"white\", \"ticks\": \"\"}}, \"title\": {\"x\": 0.05}, \"xaxis\": {\"automargin\": true, \"gridcolor\": \"white\", \"linecolor\": \"white\", \"ticks\": \"\", \"title\": {\"standoff\": 15}, \"zerolinecolor\": \"white\", \"zerolinewidth\": 2}, \"yaxis\": {\"automargin\": true, \"gridcolor\": \"white\", \"linecolor\": \"white\", \"ticks\": \"\", \"title\": {\"standoff\": 15}, \"zerolinecolor\": \"white\", \"zerolinewidth\": 2}}}, \"xaxis\": {\"anchor\": \"y\", \"domain\": [0.0, 1.0]}, \"yaxis\": {\"anchor\": \"x\", \"domain\": [0.0, 1.0], \"title\": {\"text\": \"Salary\"}}},\n",
              "                        {\"responsive\": true}\n",
              "                    ).then(function(){\n",
              "                            \n",
              "var gd = document.getElementById('405360b3-b39d-430c-b7ec-87721950692e');\n",
              "var x = new MutationObserver(function (mutations, observer) {{\n",
              "        var display = window.getComputedStyle(gd).display;\n",
              "        if (!display || display === 'none') {{\n",
              "            console.log([gd, 'removed!']);\n",
              "            Plotly.purge(gd);\n",
              "            observer.disconnect();\n",
              "        }}\n",
              "}});\n",
              "\n",
              "// Listen for the removal of the full notebook cells\n",
              "var notebookContainer = gd.closest('#notebook-container');\n",
              "if (notebookContainer) {{\n",
              "    x.observe(notebookContainer, {childList: true});\n",
              "}}\n",
              "\n",
              "// Listen for the clearing of the current output cell\n",
              "var outputEl = gd.closest('.output');\n",
              "if (outputEl) {{\n",
              "    x.observe(outputEl, {childList: true});\n",
              "}}\n",
              "\n",
              "                        })\n",
              "                };\n",
              "                \n",
              "            </script>\n",
              "        </div>\n",
              "</body>\n",
              "</html>"
            ]
          },
          "metadata": {
            "tags": []
          }
        }
      ]
    },
    {
      "cell_type": "markdown",
      "metadata": {
        "id": "5VPAte52K8Jn"
      },
      "source": [
        "### Total Business Value"
      ]
    },
    {
      "cell_type": "code",
      "metadata": {
        "colab": {
          "base_uri": "https://localhost:8080/",
          "height": 0
        },
        "id": "I5p9M8-NK-1-",
        "outputId": "1c33d6e0-e045-4d23-a114-e0556ebacedd"
      },
      "source": [
        "plot_graphs(train_pivot, 'Total Business Value')"
      ],
      "execution_count": 987,
      "outputs": [
        {
          "output_type": "display_data",
          "data": {
            "text/html": [
              "<html>\n",
              "<head><meta charset=\"utf-8\" /></head>\n",
              "<body>\n",
              "    <div>\n",
              "            <script src=\"https://cdnjs.cloudflare.com/ajax/libs/mathjax/2.7.5/MathJax.js?config=TeX-AMS-MML_SVG\"></script><script type=\"text/javascript\">if (window.MathJax) {MathJax.Hub.Config({SVG: {font: \"STIX-Web\"}});}</script>\n",
              "                <script type=\"text/javascript\">window.PlotlyConfig = {MathJaxConfig: 'local'};</script>\n",
              "        <script src=\"https://cdn.plot.ly/plotly-latest.min.js\"></script>    \n",
              "            <div id=\"1ce5e8c7-6f45-4980-8d68-fc06aa597284\" class=\"plotly-graph-div\" style=\"height:525px; width:100%;\"></div>\n",
              "            <script type=\"text/javascript\">\n",
              "                \n",
              "                    window.PLOTLYENV=window.PLOTLYENV || {};\n",
              "                    \n",
              "                if (document.getElementById(\"1ce5e8c7-6f45-4980-8d68-fc06aa597284\")) {\n",
              "                    Plotly.newPlot(\n",
              "                        '1ce5e8c7-6f45-4980-8d68-fc06aa597284',\n",
              "                        [{\"alignmentgroup\": \"True\", \"bingroup\": \"x\", \"hoverlabel\": {\"namelength\": 0}, \"hovertemplate\": \"left=False<br>Total Business Value=%{x}<br>count=%{y}\", \"legendgroup\": \"left=False\", \"marker\": {\"color\": \"rgb(102, 197, 204)\"}, \"name\": \"left=False\", \"offsetgroup\": \"left=False\", \"orientation\": \"v\", \"showlegend\": true, \"type\": \"histogram\", \"x\": [0.0, 253000.0, 0.0, 0.0, 1514629.5833333333, 2911162.5, 158490.0, 484446.0, 1208661.6666666667, 746762.8571428572, 288756.6666666667, 308765.0, 1879071.6666666667, 488477.9166666667, 2051063.3333333333, 0.0, 512213.3333333333, 522645.8333333333, 1137909.1666666667, 64526.666666666664, 748330.0, 1813812.9166666667, 51100.0, 0.0, 2251826.25, 116666.66666666667, 250464.0, 214213.33333333334, 546727.9166666666, 0.0, 528122.5, 1673030.0, 121152.0, 72698.33333333333, 63516.666666666664, 379420.0, 938581.4285714285, 580830.8333333334, 0.0, 1011395.0, 805838.0, 827762.0833333334, 0.0, 179763.57142857142, 820468.4615384615, 268026.6666666667, 1313904.1666666667, 296650.0, 0.0, 0.0, 100317.5, 507607.9166666667, 146924.0, 373711.6666666667, 83333.33333333333, 233395.0, 45267.5, 96630.0, 1181170.4166666667, 332256.25, 96500.0, 243825.7142857143, 2738444.285714286, 473306.84210526315, 115492.5, 0.0, 1404074.5833333333, 160946.66666666666, 82270.0, 0.0, 0.0, 0.0, 51120.0, 1245893.75, 0.0, 0.0, 2417687.0833333335, 0.0, 0.0, 1256403.3333333333, 263316.6666666667, 766666.6666666666, 613214.5833333334, 0.0, 0.0, 303575.3846153846, 166978.0, 0.0, 634994.6153846154, 1319153.0, 369652.14285714284, 1866316.8421052631, 489017.5, 0.0, 1286219.5833333333, 508578.3333333333, 391803.3333333333, 450196.0, 792387.0833333334, 0.0, 0.0, 377186.6666666667, 232612.3076923077, 728498.75, 1144092.5, 0.0, 649879.3333333334, 1121986.6666666667, 0.0, 678783.3333333334, 42276.666666666664, 0.0, 438580.0, 0.0, 202420.0, 1123987.0833333333, 626532.9166666666, 488333.3333333333, 714420.0, 2153367.0833333335, 682987.5, 676115.7142857143, 222206.92307692306, 542862.7272727273, 1263282.5, 46072.5, 935719.5833333334, 1333087.2222222222, 350000.0, 80056.0, 221365.0, 119773.33333333333, 230432.85714285713, 1321782.5, 353343.8461538461, 1359334.0, 0.0, 0.0, 275997.5, 0.0, 25440.0, 0.0, 0.0, 313798.8888888889, 554133.3333333334, 190000.0, 165120.0, 345452.6666666667, 0.0, 1798186.1538461538, 321962.14285714284, 0.0, 0.0, 48990.0, 313050.0, 0.0, 339830.0, 2569249.285714286, 871474.1666666666, 344524.0, 1742771.25, 0.0, 537165.0, 1736153.75, 1230432.5, 619105.0, 212955.0, 0.0, 818719.5833333334, 686465.0, 1915675.0, 365602.0, 898834.2857142857, 465206.6666666667, 384099.1666666667, 75977.5, 172456.66666666666, 322686.0, 0.0, 786370.4166666666, 985432.5, 846148.5714285715, 328278.75, 203010.0, 0.0, 833817.5, 2283012.9166666665, 394235.45454545453, 48184.0, 169231.66666666666, 410566.6666666667, 100383.33333333333, 157140.0, 0.0, 521088.8888888889, 671610.8333333334, 186080.0, 0.0, 280764.0, 614440.0, 365740.0, 1446162.0833333333, 2171677.222222222, 743776.25, 551418.75, 644637.2727272727, 0.0, 348464.0, 1516223.75, 0.0, 1454711.25, 980947.0833333334, 714814.2857142857, 471614.5833333333, 0.0, 397222.6666666667, 77742.0, 169662.85714285713, 0.0, 0.0, 255167.5, 976749.5833333334, 0.0, 369259.5833333333, 0.0, 1416963.75, 505811.76470588235, 0.0, 970423.8888888889, 480100.0, 405250.0, 1533590.8333333333, 1584507.9166666667, 63900.0, 185460.0, 0.0, 366840.0, 153540.0, 0.0, 0.0, 1437296.25, 0.0, 0.0, 391908.3333333333, 643336.6666666666, 0.0, 413620.0, 713918.3333333334, 344667.2727272727, 450088.5714285714, 1119183.3333333333, 637445.4166666666, 0.0, 83716.66666666667, 874034.5833333334, 183338.33333333334, 723733.75, 0.0, 744419.1666666666, 668563.125, 0.0, 549891.6666666666, 862338.5714285715, 113035.0, 967952.5, 1080990.8333333333, 777241.25, 200020.0, 1081313.3333333333, 425535.3333333333, 229440.0, 704821.4285714285, 0.0, 932850.8333333334, 186378.33333333334, 61824.0, 0.0, 1281477.5, 1348925.8333333333, 275630.0, 238500.0, 544133.125, 294463.3333333333, 36334.0, 0.0, 0.0, 0.0, 1030992.5, 224334.0, 1547324.1666666667, 1110280.0, 760343.3333333334, 620817.0833333334, 611517.0833333334, 197960.0, 1232985.0, 866633.5714285715, 79360.0, 124657.14285714286, 434896.0, 595790.8333333334, 209863.75, 510652.0, 2099270.4166666665, 769705.4166666666, 380131.6666666667, 353872.0, 713866.6666666666, 0.0, 845191.6666666666, 1735867.5, 353174.0, 0.0, 292068.0, 2994154.0, 1386370.7142857143, 325990.0, 484276.6666666667, 652778.75, 0.0, 1069706.25, 449847.77777777775, 0.0, 0.0, 140032.0, 974232.0833333334, 0.0, 1218862.9166666667, 201814.0, 706697.1428571428, 149771.0, 720299.1666666666, 2241977.0833333335, 1307173.3333333333, 434640.0, 1473435.4166666667, 0.0, 0.0, 322748.0, 0.0, 368658.75, 0.0, 885471.1111111111, 0.0, 0.0, 647383.3333333334, 245276.0, 514635.55555555556, 527593.75, 0.0, 356903.75, 159440.0, 509162.0833333333, 2381627.0833333335, 1047217.9166666666, 2279650.8333333335, 866362.5, 2274017.6923076925, 445949.5833333333, 531440.0, 195870.0, 1442923.3333333333, 0.0, 2124457.0833333335, 93442.66666666667, 373997.0588235294, 359020.0, 240956.66666666666, 327377.64705882355, 87663.33333333333, 1576414.5833333333, 83346.66666666667, 0.0, 125215.0, 1789402.105263158, 0.0, 1380984.4444444445, 977959.5833333334, 166502.0, 72156.66666666667, 0.0, 0.0, 529477.0833333334, 399556.6666666667, 970738.3333333334, 0.0, 117076.66666666667, 511511.1111111111, 206910.0, 220120.0, 57300.0, 431036.1111111111, 0.0, 872560.4166666666, 306486.6666666667, 83953.33333333333, 1067678.75, 499060.0, 670454.1666666666, 324134.0, 0.0, 322263.3333333333, 1570579.5833333333, 678665.7142857143, 0.0, 0.0, 177302.5, 2426972.727272727, 1963536.6666666667, 1215879.1666666667, 282100.0, 148300.0, 0.0, 734360.8333333334, 175498.33333333334, 533187.5, 128128.0, 0.0, 75052.5, 0.0, 584447.0833333334, 24615.0, 0.0, 204260.0, 902513.75, 161226.66666666666, 466150.0, 0.0, 804208.75, 559798.4615384615, 0.0, 814994.1666666666, 414152.5, 90140.0, 828238.6666666666, 50200.0, 540063.75, 950000.8333333334, 0.0, 0.0, 0.0, 596412.0833333334, 82260.0, 0.0, 0.0, 469004.6153846154, 67695.0, 189734.0, 638745.8333333334, 1201781.6666666667, 0.0, 166902.5, 684645.0, 891839.1666666666, 249220.0, 910462.5, 584236.0, 200957.0588235294, 447258.3333333333, 242596.0, 246329.16666666666, 607415.4166666666, 1086407.5, 0.0, 471250.0, 0.0, 698306.6666666666, 48420.0, 613489.5833333334, 0.0, 248585.0, 0.0, 556937.9166666666, 0.0, 830597.1428571428, 889862.5, 244435.55555555556, 600049.1666666666, 39212.0, 0.0, 1404568.3333333333, 0.0, 1457263.3333333333, 686820.4166666666, 1432275.8333333333, 0.0, 355360.0, 302805.0, 0.0, 100276.66666666667, 369948.5714285714, 85265.0, 751150.8333333334, 0.0, 184940.0, 862595.0, 328712.5, 503862.7272727273, 106220.0, 323860.0, 595580.0, 0.0, 876227.9166666666, 1365273.3333333333, 1209845.0, 1489892.2222222222, 715005.4166666666, 1214457.9166666667, 362233.3333333333, 491622.0, 0.0, 727288.3333333334, 1129154.5833333333, 0.0, 172260.0, 366410.0, 871597.0833333334, 255333.75, 1073208.75, 567772.9166666666, 0.0, 348691.6666666667, 691072.9166666666, 0.0, 79038.33333333333, 558145.8333333334, 187354.61538461538, 190546.0, 394523.3333333333, 697813.3333333334, 0.0, 302783.63636363635, 451741.875, 112426.25, 426216.0, 493374.28571428574, 386946.6666666667, 0.0, 1117675.4166666667, 491100.0, 486564.54545454547, 0.0, 1509967.0833333333, 898547.9166666666, 0.0, 373360.0, 0.0, 826420.0, 1208926.4285714286, 479777.77777777775, 468526.25, 191242.5, 0.0, 1012277.9166666666, 797175.8333333334, 1129950.0, 234731.42857142858, 1239021.25, 0.0, 190568.0, 30578.0, 264127.5, 0.0, 729368.75, 642992.6666666666, 841131.25, 2373709.1666666665, 2487352.0833333335, 38830.0, 835063.3333333334, 377132.5, 0.0, 659268.2352941176, 67256.66666666667, 568672.6315789474, 566259.1666666666, 160600.0, 431308.3333333333, 751504.1666666666, 77292.0, 906120.0, 75020.0, 1027969.2307692308, 1177143.75, 1495672.0833333333, 1075223.0, 1210018.75, 77500.0, 416443.3333333333, 49287.142857142855, 3159657.1428571427, 314078.75, 850523.3333333334, 903648.75, 812670.0, 70290.0, 0.0, 0.0, 316450.0, 809281.6666666666, 62976.0, 1516587.0833333333, 753185.8333333334, 1013106.1538461539, 561175.8333333334, 0.0, 0.0, 1950518.2608695652, 405510.0, 0.0, 185555.0, 969362.5, 483824.5833333333, 0.0, 0.0, 958082.0833333334, 0.0, 681268.3333333334, 89885.0, 2179022.5, 690298.4615384615, 314453.3333333333, 0.0, 486189.23076923075, 0.0, 795042.8571428572, 205384.0, 403035.55555555556, 0.0, 114000.625, 0.0, 2474194.5833333335, 0.0, 1191513.3333333333, 1109931.4285714286, 589240.0, 775339.1666666666, 0.0, 773881.052631579, 489266.25, 1277853.75, 0.0, 161540.66666666666, 0.0, 2000738.3333333333, 1543847.0833333333, 232180.0, 78622.0, 382523.3333333333, 0.0, 0.0, 208610.0, 868307.1428571428, 365187.5, 577713.5714285715, 752475.0, 470381.25, 0.0, 327492.1052631579, 700156.4285714285, 696682.2222222222, 1405780.8333333333, 741002.0833333334, 447774.54545454547, 282973.3333333333, 373648.3333333333, 0.0, 998331.6666666666, 439368.3333333333, 0.0, 1380807.5, 0.0, 3972127.5, 465162.5, 103077.5, 0.0, 1445995.0, 1411753.3333333333, 923150.0, 0.0, 479557.5, 464830.8333333333, 1144788.75, 369235.0, 180660.0, 1803127.5, 842598.3333333334, 157857.77777777778, 0.0, 720281.25, 288438.3333333333, 957367.0833333334, 582724.1666666666, 138682.5, 260705.0, 1786832.9166666667, 963102.0833333334, 947444.1666666666, 0.0, 0.0, 511939.23076923075, 0.0, 1932728.1818181819, 0.0, 184416.66666666666, 66408.0, 72440.0, 924310.4166666666, 150621.66666666666, 1255079.1666666667, 475742.5, 232428.0, 75575.0, 486114.1666666667, 303798.0, 1228135.0, 2153637.1428571427, 406332.0, 394019.28571428574, 901877.0833333334, 378035.71428571426, 150060.0, 806539.1666666666, 618840.4166666666, 530204.0, 1088466.4705882352, 698926.1111111111, 868477.5, 207640.0, 2565960.0, 301890.5263157895, 503573.3333333333, 372997.77777777775, 103060.0, 0.0, 816542.5, 0.0, 0.0, 784851.8181818182, 906200.8333333334, 328320.0], \"xaxis\": \"x\", \"yaxis\": \"y\"}, {\"alignmentgroup\": \"True\", \"bingroup\": \"x\", \"hoverlabel\": {\"namelength\": 0}, \"hovertemplate\": \"left=True<br>Total Business Value=%{x}<br>count=%{y}\", \"legendgroup\": \"left=True\", \"marker\": {\"color\": \"rgb(246, 207, 113)\"}, \"name\": \"left=True\", \"offsetgroup\": \"left=True\", \"orientation\": \"v\", \"showlegend\": true, \"type\": \"histogram\", \"x\": [571860.0, 70000.0, 40120.0, 0.0, 434530.0, 444045.2173913043, 173400.0, 145377.14285714287, 0.0, 0.0, 497325.0, 471218.125, 410172.0, 254634.0, 0.0, 119002.5, 100000.0, 305552.14285714284, 108336.66666666667, 0.0, 0.0, 198938.0, 179945.0, 50036.666666666664, 112763.33333333333, 138369.23076923078, 55155.0, 319001.0, 0.0, 1199542.6315789474, 0.0, 44886.666666666664, -146433.33333333334, 38788.0, 651032.2222222222, 421825.45454545453, 0.0, 94390.0, 98711.66666666667, 394321.6666666667, 0.0, 313368.0, 0.0, 75000.0, 579201.3333333334, 0.0, 541478.3333333334, 408762.0, 108728.0, 40000.0, 610060.0, 0.0, 0.0, 1259731.7647058824, 0.0, 351968.0, 0.0, 68047.5, 0.0, 563110.0, 378787.5, 144058.33333333334, 41968.333333333336, 240871.11111111112, 134088.0, 124110.0, 21528.571428571428, 111544.0, 0.0, 0.0, 242684.44444444444, 174540.0, -23333.333333333332, 366088.75, 238214.54545454544, 0.0, 174622.0, 0.0, 0.0, 0.0, 0.0, 61020.0, 113520.0, 0.0, 369456.0, 0.0, 0.0, 190034.0, 236620.0, 133890.9090909091, 0.0, 801190.0, 0.0, 0.0, 448438.5714285714, 0.0, 0.0, 0.0, 577513.8888888889, 0.0, 230924.0, 436613.3333333333, 397536.0, 495168.5714285714, 766550.0, 594100.0, 3916.0, 0.0, 100000.0, 61111.11111111111, 323356.0, 0.0, 123760.0, 129114.28571428571, 225790.0, 302071.25, 30320.0, 11089.09090909091, 713072.8571428572, 500000.0, 0.0, 164388.57142857142, 220572.22222222222, 0.0, 0.0, 165672.9411764706, 84307.5, 802430.0, 75356.0, 0.0, 158400.9090909091, 540068.4615384615, 975705.0, 255031.81818181818, 278445.0, 0.0, 0.0, 389977.5, 167471.42857142858, 904743.75, 611183.5294117647, 1327490.0, 448036.92307692306, 0.0, 0.0, 0.0, 82551.66666666667, 0.0, 0.0, 309534.0, 0.0, 253132.22222222222, 123980.0, 0.0, 50076.666666666664, 0.0, 494548.125, 171431.42857142858, 426441.6666666667, 364389.0, 268289.3333333333, 65000.0, 176336.66666666666, 304014.44444444444, 482230.71428571426, 0.0, 0.0, 30080.0, 0.0, 0.0, 254648.0, 0.0, 124470.0, 37615.0, 187721.25, 0.0, 0.0, 0.0, 2583608.1818181816, 0.0, 25008.333333333332, 0.0, 125000.0, 346389.3333333333, 0.0, 0.0, 40416.666666666664, 66666.66666666667, 13627.5, 48500.0, 210405.0, 25000.0, 0.0, 67180.0, 259392.0, 64658.0, 478879.0, 0.0, 152276.66666666666, 181520.0, 852461.5384615385, 30088.0, 0.0, 214446.0, 0.0, 19400.0, 0.0, 105346.66666666667, 591058.695652174, 0.0, 395470.0, 156725.0, 111040.0, 167031.0, 91234.0, 0.0, 0.0, 32760.0, 565848.75, 331512.0, 252414.44444444444, 652867.7777777778, 88586.66666666667, 66666.66666666667, 0.0, 0.0, 153942.5, 230057.5, 184270.0, 369885.55555555556, 292215.0, 0.0, 152457.5, 61550.0, 536624.0, 0.0, 308530.8333333333, 0.0, 429224.0, 271463.3333333333, 265252.0, 88193.75, 0.0, 52500.0, 190712.72727272726, 238658.0, 551994.0, 2792047.777777778, 694008.0, 410318.0, 0.0, 0.0, 0.0, 0.0, 336393.0, 0.0, 0.0, 379496.6666666667, 160910.0, 58930.0, 145735.0, 440725.45454545453, 0.0, 0.0, 0.0, 0.0, 0.0, 0.0, 0.0, 423936.0, 122034.0, 282162.0, 0.0, 0.0, 511121.53846153844, 552093.3333333334, 0.0, 428748.75, 0.0, 587041.7647058824, 366043.8461538461, 0.0, 0.0, 83333.33333333333, 21291.428571428572, 759644.0, 0.0, 297923.3333333333, 243734.44444444444, 28985.0, 477690.6666666667, 0.0, 193500.0, 0.0, 0.0, 208446.66666666666, 0.0, 994010.0, 528903.3333333334, 128473.75, 357040.0, 852858.5714285715, 322345.71428571426, 45312.5, 0.0, 40000.0, 749753.0434782609, 163453.33333333334, 0.0, 254166.5, 230864.0, 653398.0952380953, 0.0, 212640.0, 118050.0, 0.0, 115496.0, 478945.0, 0.0, 313432.7272727273, 50625.0, 352781.5, 280428.3333333333, 0.0, 63610.0, 40426.666666666664, 26428.333333333332, 0.0, 226185.7142857143, 195210.0, 0.0, 235430.0, 448386.6666666667, 209824.0, 392294.44444444444, 269111.4285714286, 188426.0, 0.0, 200255.0, 269067.2727272727, 340744.0, 249070.0, 170056.0, 0.0, 0.0, 282120.0, 539694.5454545454, 540279.2857142857, 319377.5, 35640.0, 0.0, 313460.0, 0.0, 493102.0, 72725.0, 165040.0, 42134.0, 71072.0, 75000.0, 0.0, 188861.25, 192000.0, 0.0, 0.0, 401340.0, 0.0, 26627.5, 0.0, 85886.0, 0.0, 0.0, 0.0, 695608.3333333334, 461818.0, 25170.0, 133120.0, 33333.333333333336, 311098.0, 608258.8888888889, 323438.0, 375085.0, 143333.33333333334, 0.0, 286318.8888888889, 0.0, 116122.0, 0.0, 140240.0, 249750.0, 61702.0, 0.0, 356446.6666666667, 1012250.9090909091, 0.0, 1245246.3636363635, 0.0, 0.0, 368442.5, 103538.0, 0.0, 254175.0, 344840.0, 0.0, 42288.0, 258936.66666666666, 162097.5, 0.0, 76306.66666666667, 241666.66666666666, 133024.0, 0.0, 76430.0, 0.0, 190067.5, 0.0, 548040.8333333334, 97682.0, 468930.0, 310105.8333333333, 0.0, 0.0, 128863.33333333333, 352744.54545454547, 955050.0, 0.0, 0.0, 259837.14285714287, 180660.0, 137395.0, 0.0, 79176.66666666667, 465849.28571428574, 0.0, 143396.42857142858, 324850.5882352941, 0.0, 616508.5714285715, 535397.0, 238690.0, 0.0, 91296.0, 88358.57142857143, 0.0, 371075.45454545453, 220357.14285714287, 0.0, 0.0, 201024.0, 0.0, 0.0, 117162.85714285714, 529442.3529411765, 429498.75, 0.0, 133015.7142857143, 97110.0, 104688.0, 329664.44444444444, 90536.66666666667, 490438.0, 50535.0, 80908.33333333333, 0.0, 2040167.142857143, 717214.2105263158, 30032.0, 207622.85714285713, 0.0, 367014.0, 382411.6666666667, 50925.0, 0.0, 0.0, 0.0, 668231.5384615385, 84025.0, 224358.0, 189320.0, 21001.666666666668, 0.0, 127320.0, -161287.5, 69637.14285714286, 0.0, 0.0, 1823323.888888889, 0.0, 347323.75, 0.0, 369502.85714285716, 634360.0, 64438.57142857143, 50120.0, 0.0, 246244.61538461538, 299757.5, 580596.6666666666, 0.0, 38731.42857142857, 181165.0, 1032020.0, 102366.66666666667, 150624.44444444444, 0.0, 0.0, 476970.0, 246733.33333333334, 382192.0, 0.0, 0.0, 264395.0, 0.0, 152295.7142857143, 0.0, 0.0, 0.0, 101193.33333333333, 0.0, 359868.1818181818, 188380.0, 0.0, 0.0, -101180.0, 612468.8888888889, 1617697.5, 104526.0, 183031.66666666666, 452382.14285714284, 70540.0, 87220.0, 0.0, 297727.14285714284, 163956.66666666666, 0.0, 0.0, 0.0, 0.0, 0.0, 45822.857142857145, 0.0, 0.0, 0.0, 919037.5, 0.0, 127382.0, 0.0, 100910.0, 282594.28571428574, 507470.0, 69494.0, 1072510.0, 277465.0, 287511.25, 0.0, 976682.5, 140882.22222222222, 384897.5, 212121.66666666666, 106780.0, 276210.0, 206606.0, 0.0, 182960.0, 64773.333333333336, 114092.0, 84892.0, 0.0, 96480.0, 0.0, 182665.55555555556, 1894071.3636363635, 138787.5, 0.0, 239810.0, 266496.6666666667, 100000.0, 0.0, 184651.25, 0.0, 0.0, 0.0, 0.0, 270849.1666666667, 505857.36842105264, 0.0, 51037.5, 0.0, 40700.0, 952663.6363636364, 0.0, 546005.0, 125000.0, 125765.0, 43960.0, 0.0, 0.0, 0.0, 386893.8461538461, 0.0, 369803.3333333333, 498852.5, 149168.57142857142, 386105.0, 0.0, 163161.25, 30132.0, 0.0, -48480.0, 72400.0, 0.0, 117505.0, 431156.0, 0.0, 0.0, 660038.0, 518346.6666666667, 167892.85714285713, 118796.25, 0.0, 145254.2857142857, 237156.25, 0.0, 0.0, 1324528.5714285714, 419700.0, 193180.0, 0.0, 323194.0, 100385.55555555556, 138110.0, 0.0, 668000.0, 0.0, 789555.8333333334, 0.0, 201953.33333333334, 79896.66666666667, 348225.0, 0.0, 204764.0, 0.0, 0.0, 62290.0, 327760.0, 25001.666666666668, 124398.88888888889, 28176.0, 44920.0, 20930.0, 138600.0, 88750.0, 196365.0, 0.0, 228560.0, 400630.8695652174, 0.0, 190591.81818181818, 445876.6666666667, 336736.36363636365, 0.0, 0.0, 0.0, 294104.44444444444, 0.0, 180084.0, 0.0, 0.0, 86976.66666666667, 28812.0, 85714.28571428571, 141095.0, 0.0, 382481.5789473684, 1078870.0, 0.0, 0.0, 741477.0, 0.0, 302746.6666666667, 0.0, 0.0, 0.0, 0.0, 0.0, 214383.33333333334, 343048.8888888889, 2155005.0, 1459313.0, 284317.14285714284, 65550.0, 402636.0, 209353.33333333334, 75341.66666666667, 107332.85714285714, 27200.0, 161200.0, 270447.5, 0.0, 319553.07692307694, 141145.7142857143, 100084.0, 0.0, 12400.0, 0.0, 290426.0, 0.0, 289062.0, 784266.6666666666, 0.0, 0.0, 62660.0, 0.0, 125000.0, 273684.0, 68055.0, 267181.1111111111, 153432.5, 0.0, 384327.5, -4770.0, 110420.0, 107020.0, 290664.0, 58333.333333333336, 176614.66666666666, 58333.333333333336, 58560.0, 210806.66666666666, 361162.0, 0.0, 0.0, 208233.33333333334, 115948.0, 0.0, 229049.16666666666, 0.0, 283620.0, 210800.0, 71554.28571428571, 250337.14285714287, 142521.11111111112, 0.0, 1134248.1818181819, 79726.66666666667, 0.0, 0.0, 259167.0, 136118.0, 33396.666666666664, 89671.11111111111, 581242.1428571428, 0.0, 78790.0, 375170.0, 0.0, 38208.0, 149830.0, 1298494.4444444445, 148966.36363636365, 0.0, 0.0, 438388.5714285714, 113240.0, 0.0, 742857.6470588235, 113288.0, 190740.0, 0.0, 228807.14285714287, 734195.8333333334, 90750.0, 216338.0, 0.0, 83660.0, 424845.71428571426, 0.0, 563937.7777777778, 0.0, 129388.88888888889, 66666.66666666667, 33626.666666666664, 201946.66666666666, 593162.2222222222, 126950.0, 0.0, 573272.5, 127181.81818181818, 0.0, 0.0, 280820.0, 338124.0, 340043.3333333333, 132861.11111111112, 0.0, 0.0, 229203.75, 451414.0, 188838.0, 92005.0, 199036.25, 139130.0, 363946.4705882353, 250423.33333333334, 221440.0, 290305.0, 0.0, 0.0, 20184.0, 29932.0, 115972.5, 83315.0, 0.0, 110336.0, 467141.1111111111, 277110.0, 87466.66666666667, 495260.8333333333, 326226.6666666667, 0.0, 25120.0, 0.0, 218985.55555555556, 246053.33333333334, 322235.71428571426, 647719.2307692308, 1648186.6666666667, 33436.666666666664, 143323.33333333334, 125408.33333333333, 806775.2941176471, 291036.0, 785472.0833333334, 0.0, 0.0, 37590.0, 0.0, 1028768.0, 0.0, 98712.5, 0.0, 121400.0, 0.0, 219973.33333333334, 146788.75, 0.0, 0.0, 393507.5, 0.0, 0.0, 31940.0, 30006.0, 0.0, 0.0, 800025.0, 733170.7142857143, 217717.5, 519543.3333333333, 109768.33333333333, 750825.0, 486646.6666666667, 228241.42857142858, 0.0, 205590.0, 237306.66666666666, 0.0, 0.0, 106816.66666666667, 0.0, 554833.3333333334, 0.0, 845407.6923076923, 165120.0, 0.0, 0.0, 70000.0, 160708.0, 378748.0, 155339.0, 678538.3333333334, 0.0, 29100.0, 534995.0, 295732.22222222225, 473029.5, 270028.0, 356162.5, 0.0, 37900.0, 338126.3157894737, 0.0, 0.0, 0.0, 0.0, 0.0, 662611.25, 0.0, 491942.85714285716, 0.0, 443298.3333333333, 0.0, 1056916.4705882352, 429938.5714285714, 243675.0, 0.0, 0.0, 0.0, 284110.0, 279177.77777777775, 510439.1666666667, 0.0, 145270.0, 0.0, 501877.5, 0.0, 153232.85714285713, 512184.44444444444, 526712.9166666666, 0.0, 0.0, 0.0, 0.0, 835515.5555555555, 50925.0, 0.0, 0.0, 0.0, 775778.3333333334, 84253.33333333333, 0.0, 3759614.375, 105471.42857142857, 905366.9230769231, 113652.5, 0.0, 0.0, 162692.5, 284474.70588235295, 0.0, 0.0, 135800.0, 1046749.5833333334, 142485.0, 0.0, 181478.125, 0.0, 0.0, 365140.0, 43802.0, 1357359.375, 2256895.0, 377367.5, 166666.66666666666, 331573.3333333333, 148037.5, 375435.55555555556, 43500.0, 87360.0, 0.0, 20620.0, 453170.0, 0.0, 359846.0, 50421.666666666664, 25481.666666666668, 60000.0, 122968.75, 0.0, 0.0, 2049044.0, 0.0, 102186.0, 1818000.0, 0.0, 538060.0, 281049.28571428574, 0.0, 0.0, 324631.5, 0.0, 0.0, 0.0, 538880.9090909091, 0.0, 0.0, 0.0, 370360.0, 100934.0, 0.0, 0.0, 554712.0, 0.0, 0.0, 638579.4117647059, 0.0, 332004.70588235295, 134576.66666666666, 51233.333333333336, -166666.66666666666, 0.0, 507514.0909090909, 161856.66666666666, 0.0, 54933.75, 0.0, 0.0, 78327.5, 0.0, 128564.0, 80700.0, 348622.7272727273, 157550.0, 37590.0, 287916.6666666667, 0.0, 297803.3333333333, 0.0, 0.0, 780963.3333333334, 23464.0, 32327.777777777777, 109838.57142857143, 51128.333333333336, -197932.85714285713, 588965.0, 50000.0, 1341958.75, 469132.5, 1112207.142857143, 50945.0, 0.0, 67505.0, 0.0, 232762.22222222222, 309436.6666666667, 131800.0, 376852.3076923077, 0.0, 14338.57142857143, 0.0, 219097.14285714287, 50990.0, 0.0, 30070.0, 34656.666666666664, 329377.14285714284, 0.0, 186907.77777777778, 0.0, 710426.5, 240631.42857142858, 72707.5, 1290493.3333333333, 331675.8333333333, 0.0, 2261276.6666666665, 26093.333333333332, 0.0, 160142.0, 0.0, 392911.25, 67642.85714285714, 308333.3333333333, 261961.11111111112, 0.0, 127616.0, 2918120.0, 310433.3333333333, 389134.54545454547, 556728.75, 49270.0, 289570.0, 157096.66666666666, 0.0, 0.0, 0.0, 0.0, 0.0, 659492.0, 0.0, 73680.0, 551727.5, 0.0, 0.0, 136513.33333333334, 71020.0, 807286.6666666666, 0.0, 372190.0, 349334.54545454547, 291204.28571428574, 269565.0, 190366.0, 533939.0, 0.0, 0.0, 145764.0, 270958.0, 80835.0, 106195.0, 83620.0, 0.0, 0.0, 208423.33333333334, 382540.0, 236018.75, 187526.25, 246350.0, 110645.0, 137911.11111111112, 40000.0, 0.0, 246462.3076923077, 0.0, 0.0, 218776.875, 172807.5, 429020.0, 0.0, 0.0, 93805.0, 159702.0, 77960.0, 373081.1111111111, 0.0, 0.0, 0.0, 266210.0, 45420.0, 275810.9090909091, 0.0, 624320.0, 223800.0, 275136.0, 0.0, 0.0, 29066.666666666668, 409554.28571428574, 496431.875, 0.0, 162670.9090909091, 0.0, 1358995.5555555555, 0.0, 88480.0, 98720.0, 0.0, 429329.0, 376966.25, 0.0, 179814.0, 408307.5, 164910.0, 42464.0, 627280.0, 133683.75, 0.0, 103420.0, 186102.85714285713, 0.0, 112530.0, 539861.6666666666, 363598.4210526316, 305892.85714285716, 0.0, 0.0, 0.0, 171968.0, 0.0, 93232.0, 132361.66666666666, 481398.23529411765, 733365.0, 107210.0, 0.0, 130290.0, 96071.66666666667, 0.0, 447065.29411764705, 820787.7777777778, 0.0, 272862.22222222225, 0.0, 416761.6666666667, 56195.0, 0.0, 0.0, 907745.0, 100013.0, 0.0, 183303.33333333334, 0.0, 570240.0, 0.0, 452946.6666666667, 388413.3333333333, 0.0, 0.0, 0.0, 0.0, 873770.9090909091, 20948.0, 592248.1818181818, 139648.0, 0.0, 407482.0, 33570.0, 0.0, 0.0, 166666.66666666666, 0.0, 600063.8461538461, 105632.5, 130812.0, 125155.0, 0.0, 435065.71428571426, 373476.25, 64344.0, 0.0, 208552.0, 220905.0, 181225.0, 38964.0, 0.0, 0.0, 0.0, 359236.4285714286, 0.0, 116836.0, 0.0, 0.0, 365648.6666666667, 25000.0, 0.0, 110682.85714285714, 327982.0, 72270.0, 193335.7142857143, 68610.0, 388157.64705882355, 0.0, 41360.0, 0.0, 507584.6153846154, 580698.75, 267563.75, 0.0, 0.0, 0.0, 385615.0, 192236.0, 0.0, 174770.0, 0.0, 384507.8947368421, 0.0, 496146.6666666667, 0.0, 48066.666666666664, 0.0, 860121.5789473684, 0.0, -45694.444444444445, 259950.0, 0.0, 404775.55555555556, 51052.857142857145, 0.0, 138996.66666666666, 668130.0, 473014.28571428574, 193291.66666666666, 320597.5, 0.0, 30088.0, 1052626.25, 28571.428571428572, 81184.0, 359907.82608695654, 129070.0, 230670.0, 0.0, 675608.3333333334, 735192.7777777778, 155637.5, 681640.0, 0.0, 440270.0, 0.0, 0.0, 0.0, 130430.0, 0.0, 0.0, 116632.0, 302434.0, 491790.8333333333, 418991.1111111111, 354465.71428571426, 442335.55555555556, 0.0, 490923.3333333333, 0.0, 58035.0, 444963.3333333333, 121446.66666666667, 58375.0, 360180.0, 0.0, 125200.0, 252656.0, 0.0, 18333.333333333332, 144656.42857142858, 50540.0, 0.0, 0.0, 0.0, 87840.0, 120000.0, 0.0, 0.0, 326465.55555555556, 0.0, 651750.0, 0.0, 0.0, 0.0, 0.0, 53455.0, 66576.66666666667, 0.0, 0.0, 0.0, 304508.0, 144639.0, 43218.57142857143, 31896.0, 85761.42857142857, 0.0, 0.0, 31040.0, 0.0, 0.0, 58200.0, 411205.55555555556, 0.0, 0.0, 0.0, 535333.8461538461, 319356.6666666667, 150000.0, 289982.5, 0.0, 290631.4285714286, 0.0, 0.0, 88944.0, 332606.6666666667, 0.0, 227915.55555555556, 0.0, 696522.6315789474, 28746.666666666668, 220646.0, 0.0, 109396.66666666667, 535310.0, 907532.5, 163536.0, 232465.7142857143, 153447.5, 207892.0, 368117.77777777775, 0.0, 0.0, 533961.8181818182, 0.0, 235414.0, 156533.33333333334, 700211.1111111111, 171121.25, 0.0, 33260.0, 1708632.3076923077, 208653.33333333334, 0.0, -44960.0, 536634.7826086957, 0.0, 162717.5, 201047.14285714287, 50475.0, 270720.0, 0.0, 0.0, 0.0, 40000.0, 0.0, 541070.0, 0.0, 0.0, 346286.6666666667, 250000.0, 0.0, 248618.46153846153, 206355.55555555556, 657312.3076923077, 0.0, 262180.0, 0.0, 521133.07692307694, 1224305.0, 263952.22222222225, 247675.0, 67472.5, 25000.0, 0.0, 0.0, 0.0, 553470.0, 719091.1111111111, 0.0, 47176.0, 0.0, 881591.25, 35714.28571428572, 323691.4285714286, 274546.6666666667, 0.0, 71720.0, 174077.64705882352, 1048392.7272727273, 1580600.9090909092, 303000.0, 362043.3333333333, 72750.0, 858753.3333333334, 907781.4285714285, 283907.5, 0.0, 156286.25, 0.0, 0.0, 0.0, 112430.0, 0.0, 424596.6666666667, 254253.33333333334, 1006412.8571428572, 849440.0, 58494.0, 150362.85714285713, 436060.0, 338000.0, 375072.0, 131820.9090909091, 162542.0, 107295.71428571429, 698875.0, 315460.0, 78754.0, 33946.666666666664, 180573.75, 114550.0, 0.0, 453284.1666666667, 0.0, 46368.0, 685860.0, 1652720.5, 150000.0, 415605.71428571426, 0.0, 317111.6666666667, 136282.5, 560871.5384615385, 0.0, 329767.36842105264, 41580.0, 0.0, 80833.33333333333, 0.0, 37930.0, 1066595.0, 206977.27272727274, 474513.9130434783, 0.0, 236968.0, 0.0, 224211.11111111112, 0.0, 62500.0, 783642.5, 595197.7777777778, 671594.6666666666, 0.0, 456010.0, 420085.55555555556, 0.0, 186938.57142857142, 0.0, 179150.0, 0.0, 79193.33333333333, 190752.0, 35760.0, 0.0, 0.0, 0.0, 44873.333333333336, 205842.72727272726, 156080.0, 0.0, 569161.25, 637135.4545454546, 313978.75, 41755.0, 0.0, 593426.0, 1061298.75, 0.0, 366215.0, 0.0, 705928.3333333334, 0.0, 402731.6666666667, 0.0, 471927.36842105264, 686483.8461538461, 593055.0, 321086.0, 0.0, 54201.666666666664, 0.0, 0.0, 704985.0, 0.0, 0.0, 0.0, 629186.6666666666, 0.0, 78992.85714285714, 392900.0, 0.0, 37400.0, 67590.0, 426479.1666666667, 283726.0, 225556.0, 467661.6666666667, 331181.4285714286, 169582.3076923077, 124490.0, 0.0, 379618.5714285714, 0.0, 0.0, 40866.0, 0.0, 0.0, 86560.0, 0.0, 661455.3846153846, 0.0, 0.0, 0.0, 0.0, 65083.333333333336, 75000.0, 277925.3333333333, 91650.0, 150959.16666666666, 151020.0, 227241.66666666666, 0.0, 235201.42857142858, 131333.33333333334, 417664.0, 478830.71428571426, 0.0, 0.0, 50030.0, 0.0, 0.0, 457376.92307692306, 0.0, 203826.66666666666, 16705.714285714286, 0.0, 0.0, 0.0, 0.0, 348932.22222222225, 0.0, 169316.25, 118044.0, 501860.0, 0.0, 1015987.5, 0.0, 1048504.5833333334, 427655.0, 356970.0, 70425.0, 612001.4285714285, 0.0, 0.0, 0.0, 0.0, 312787.77777777775, 162971.66666666666], \"xaxis\": \"x\", \"yaxis\": \"y\"}],\n",
              "                        {\"barmode\": \"relative\", \"legend\": {\"tracegroupgap\": 0}, \"template\": {\"data\": {\"bar\": [{\"error_x\": {\"color\": \"#2a3f5f\"}, \"error_y\": {\"color\": \"#2a3f5f\"}, \"marker\": {\"line\": {\"color\": \"#E5ECF6\", \"width\": 0.5}}, \"type\": \"bar\"}], \"barpolar\": [{\"marker\": {\"line\": {\"color\": \"#E5ECF6\", \"width\": 0.5}}, \"type\": \"barpolar\"}], \"carpet\": [{\"aaxis\": {\"endlinecolor\": \"#2a3f5f\", \"gridcolor\": \"white\", \"linecolor\": \"white\", \"minorgridcolor\": \"white\", \"startlinecolor\": \"#2a3f5f\"}, \"baxis\": {\"endlinecolor\": \"#2a3f5f\", \"gridcolor\": \"white\", \"linecolor\": \"white\", \"minorgridcolor\": \"white\", \"startlinecolor\": \"#2a3f5f\"}, \"type\": \"carpet\"}], \"choropleth\": [{\"colorbar\": {\"outlinewidth\": 0, \"ticks\": \"\"}, \"type\": \"choropleth\"}], \"contour\": [{\"colorbar\": {\"outlinewidth\": 0, \"ticks\": \"\"}, \"colorscale\": [[0.0, \"#0d0887\"], [0.1111111111111111, \"#46039f\"], [0.2222222222222222, \"#7201a8\"], [0.3333333333333333, \"#9c179e\"], [0.4444444444444444, \"#bd3786\"], [0.5555555555555556, \"#d8576b\"], [0.6666666666666666, \"#ed7953\"], [0.7777777777777778, \"#fb9f3a\"], [0.8888888888888888, \"#fdca26\"], [1.0, \"#f0f921\"]], \"type\": \"contour\"}], \"contourcarpet\": [{\"colorbar\": {\"outlinewidth\": 0, \"ticks\": \"\"}, \"type\": \"contourcarpet\"}], \"heatmap\": [{\"colorbar\": {\"outlinewidth\": 0, \"ticks\": \"\"}, \"colorscale\": [[0.0, \"#0d0887\"], [0.1111111111111111, \"#46039f\"], [0.2222222222222222, \"#7201a8\"], [0.3333333333333333, \"#9c179e\"], [0.4444444444444444, \"#bd3786\"], [0.5555555555555556, \"#d8576b\"], [0.6666666666666666, \"#ed7953\"], [0.7777777777777778, \"#fb9f3a\"], [0.8888888888888888, \"#fdca26\"], [1.0, \"#f0f921\"]], \"type\": \"heatmap\"}], \"heatmapgl\": [{\"colorbar\": {\"outlinewidth\": 0, \"ticks\": \"\"}, \"colorscale\": [[0.0, \"#0d0887\"], [0.1111111111111111, \"#46039f\"], [0.2222222222222222, \"#7201a8\"], [0.3333333333333333, \"#9c179e\"], [0.4444444444444444, \"#bd3786\"], [0.5555555555555556, \"#d8576b\"], [0.6666666666666666, \"#ed7953\"], [0.7777777777777778, \"#fb9f3a\"], [0.8888888888888888, \"#fdca26\"], [1.0, \"#f0f921\"]], \"type\": \"heatmapgl\"}], \"histogram\": [{\"marker\": {\"colorbar\": {\"outlinewidth\": 0, \"ticks\": \"\"}}, \"type\": \"histogram\"}], \"histogram2d\": [{\"colorbar\": {\"outlinewidth\": 0, \"ticks\": \"\"}, \"colorscale\": [[0.0, \"#0d0887\"], [0.1111111111111111, \"#46039f\"], [0.2222222222222222, \"#7201a8\"], [0.3333333333333333, \"#9c179e\"], [0.4444444444444444, \"#bd3786\"], [0.5555555555555556, \"#d8576b\"], [0.6666666666666666, \"#ed7953\"], [0.7777777777777778, \"#fb9f3a\"], [0.8888888888888888, \"#fdca26\"], [1.0, \"#f0f921\"]], \"type\": \"histogram2d\"}], \"histogram2dcontour\": [{\"colorbar\": {\"outlinewidth\": 0, \"ticks\": \"\"}, \"colorscale\": [[0.0, \"#0d0887\"], [0.1111111111111111, \"#46039f\"], [0.2222222222222222, \"#7201a8\"], [0.3333333333333333, \"#9c179e\"], [0.4444444444444444, \"#bd3786\"], [0.5555555555555556, \"#d8576b\"], [0.6666666666666666, \"#ed7953\"], [0.7777777777777778, \"#fb9f3a\"], [0.8888888888888888, \"#fdca26\"], [1.0, \"#f0f921\"]], \"type\": \"histogram2dcontour\"}], \"mesh3d\": [{\"colorbar\": {\"outlinewidth\": 0, \"ticks\": \"\"}, \"type\": \"mesh3d\"}], \"parcoords\": [{\"line\": {\"colorbar\": {\"outlinewidth\": 0, \"ticks\": \"\"}}, \"type\": \"parcoords\"}], \"pie\": [{\"automargin\": true, \"type\": \"pie\"}], \"scatter\": [{\"marker\": {\"colorbar\": {\"outlinewidth\": 0, \"ticks\": \"\"}}, \"type\": \"scatter\"}], \"scatter3d\": [{\"line\": {\"colorbar\": {\"outlinewidth\": 0, \"ticks\": \"\"}}, \"marker\": {\"colorbar\": {\"outlinewidth\": 0, \"ticks\": \"\"}}, \"type\": \"scatter3d\"}], \"scattercarpet\": [{\"marker\": {\"colorbar\": {\"outlinewidth\": 0, \"ticks\": \"\"}}, \"type\": \"scattercarpet\"}], \"scattergeo\": [{\"marker\": {\"colorbar\": {\"outlinewidth\": 0, \"ticks\": \"\"}}, \"type\": \"scattergeo\"}], \"scattergl\": [{\"marker\": {\"colorbar\": {\"outlinewidth\": 0, \"ticks\": \"\"}}, \"type\": \"scattergl\"}], \"scattermapbox\": [{\"marker\": {\"colorbar\": {\"outlinewidth\": 0, \"ticks\": \"\"}}, \"type\": \"scattermapbox\"}], \"scatterpolar\": [{\"marker\": {\"colorbar\": {\"outlinewidth\": 0, \"ticks\": \"\"}}, \"type\": \"scatterpolar\"}], \"scatterpolargl\": [{\"marker\": {\"colorbar\": {\"outlinewidth\": 0, \"ticks\": \"\"}}, \"type\": \"scatterpolargl\"}], \"scatterternary\": [{\"marker\": {\"colorbar\": {\"outlinewidth\": 0, \"ticks\": \"\"}}, \"type\": \"scatterternary\"}], \"surface\": [{\"colorbar\": {\"outlinewidth\": 0, \"ticks\": \"\"}, \"colorscale\": [[0.0, \"#0d0887\"], [0.1111111111111111, \"#46039f\"], [0.2222222222222222, \"#7201a8\"], [0.3333333333333333, \"#9c179e\"], [0.4444444444444444, \"#bd3786\"], [0.5555555555555556, \"#d8576b\"], [0.6666666666666666, \"#ed7953\"], [0.7777777777777778, \"#fb9f3a\"], [0.8888888888888888, \"#fdca26\"], [1.0, \"#f0f921\"]], \"type\": \"surface\"}], \"table\": [{\"cells\": {\"fill\": {\"color\": \"#EBF0F8\"}, \"line\": {\"color\": \"white\"}}, \"header\": {\"fill\": {\"color\": \"#C8D4E3\"}, \"line\": {\"color\": \"white\"}}, \"type\": \"table\"}]}, \"layout\": {\"annotationdefaults\": {\"arrowcolor\": \"#2a3f5f\", \"arrowhead\": 0, \"arrowwidth\": 1}, \"coloraxis\": {\"colorbar\": {\"outlinewidth\": 0, \"ticks\": \"\"}}, \"colorscale\": {\"diverging\": [[0, \"#8e0152\"], [0.1, \"#c51b7d\"], [0.2, \"#de77ae\"], [0.3, \"#f1b6da\"], [0.4, \"#fde0ef\"], [0.5, \"#f7f7f7\"], [0.6, \"#e6f5d0\"], [0.7, \"#b8e186\"], [0.8, \"#7fbc41\"], [0.9, \"#4d9221\"], [1, \"#276419\"]], \"sequential\": [[0.0, \"#0d0887\"], [0.1111111111111111, \"#46039f\"], [0.2222222222222222, \"#7201a8\"], [0.3333333333333333, \"#9c179e\"], [0.4444444444444444, \"#bd3786\"], [0.5555555555555556, \"#d8576b\"], [0.6666666666666666, \"#ed7953\"], [0.7777777777777778, \"#fb9f3a\"], [0.8888888888888888, \"#fdca26\"], [1.0, \"#f0f921\"]], \"sequentialminus\": [[0.0, \"#0d0887\"], [0.1111111111111111, \"#46039f\"], [0.2222222222222222, \"#7201a8\"], [0.3333333333333333, \"#9c179e\"], [0.4444444444444444, \"#bd3786\"], [0.5555555555555556, \"#d8576b\"], [0.6666666666666666, \"#ed7953\"], [0.7777777777777778, \"#fb9f3a\"], [0.8888888888888888, \"#fdca26\"], [1.0, \"#f0f921\"]]}, \"colorway\": [\"#636efa\", \"#EF553B\", \"#00cc96\", \"#ab63fa\", \"#FFA15A\", \"#19d3f3\", \"#FF6692\", \"#B6E880\", \"#FF97FF\", \"#FECB52\"], \"font\": {\"color\": \"#2a3f5f\"}, \"geo\": {\"bgcolor\": \"white\", \"lakecolor\": \"white\", \"landcolor\": \"#E5ECF6\", \"showlakes\": true, \"showland\": true, \"subunitcolor\": \"white\"}, \"hoverlabel\": {\"align\": \"left\"}, \"hovermode\": \"closest\", \"mapbox\": {\"style\": \"light\"}, \"paper_bgcolor\": \"white\", \"plot_bgcolor\": \"#E5ECF6\", \"polar\": {\"angularaxis\": {\"gridcolor\": \"white\", \"linecolor\": \"white\", \"ticks\": \"\"}, \"bgcolor\": \"#E5ECF6\", \"radialaxis\": {\"gridcolor\": \"white\", \"linecolor\": \"white\", \"ticks\": \"\"}}, \"scene\": {\"xaxis\": {\"backgroundcolor\": \"#E5ECF6\", \"gridcolor\": \"white\", \"gridwidth\": 2, \"linecolor\": \"white\", \"showbackground\": true, \"ticks\": \"\", \"zerolinecolor\": \"white\"}, \"yaxis\": {\"backgroundcolor\": \"#E5ECF6\", \"gridcolor\": \"white\", \"gridwidth\": 2, \"linecolor\": \"white\", \"showbackground\": true, \"ticks\": \"\", \"zerolinecolor\": \"white\"}, \"zaxis\": {\"backgroundcolor\": \"#E5ECF6\", \"gridcolor\": \"white\", \"gridwidth\": 2, \"linecolor\": \"white\", \"showbackground\": true, \"ticks\": \"\", \"zerolinecolor\": \"white\"}}, \"shapedefaults\": {\"line\": {\"color\": \"#2a3f5f\"}}, \"ternary\": {\"aaxis\": {\"gridcolor\": \"white\", \"linecolor\": \"white\", \"ticks\": \"\"}, \"baxis\": {\"gridcolor\": \"white\", \"linecolor\": \"white\", \"ticks\": \"\"}, \"bgcolor\": \"#E5ECF6\", \"caxis\": {\"gridcolor\": \"white\", \"linecolor\": \"white\", \"ticks\": \"\"}}, \"title\": {\"x\": 0.05}, \"xaxis\": {\"automargin\": true, \"gridcolor\": \"white\", \"linecolor\": \"white\", \"ticks\": \"\", \"title\": {\"standoff\": 15}, \"zerolinecolor\": \"white\", \"zerolinewidth\": 2}, \"yaxis\": {\"automargin\": true, \"gridcolor\": \"white\", \"linecolor\": \"white\", \"ticks\": \"\", \"title\": {\"standoff\": 15}, \"zerolinecolor\": \"white\", \"zerolinewidth\": 2}}}, \"title\": {\"text\": \" \"}, \"xaxis\": {\"anchor\": \"y\", \"domain\": [0.0, 1.0], \"title\": {\"text\": \"Total Business Value\"}}, \"yaxis\": {\"anchor\": \"x\", \"domain\": [0.0, 1.0], \"title\": {\"text\": \"count\"}}},\n",
              "                        {\"responsive\": true}\n",
              "                    ).then(function(){\n",
              "                            \n",
              "var gd = document.getElementById('1ce5e8c7-6f45-4980-8d68-fc06aa597284');\n",
              "var x = new MutationObserver(function (mutations, observer) {{\n",
              "        var display = window.getComputedStyle(gd).display;\n",
              "        if (!display || display === 'none') {{\n",
              "            console.log([gd, 'removed!']);\n",
              "            Plotly.purge(gd);\n",
              "            observer.disconnect();\n",
              "        }}\n",
              "}});\n",
              "\n",
              "// Listen for the removal of the full notebook cells\n",
              "var notebookContainer = gd.closest('#notebook-container');\n",
              "if (notebookContainer) {{\n",
              "    x.observe(notebookContainer, {childList: true});\n",
              "}}\n",
              "\n",
              "// Listen for the clearing of the current output cell\n",
              "var outputEl = gd.closest('.output');\n",
              "if (outputEl) {{\n",
              "    x.observe(outputEl, {childList: true});\n",
              "}}\n",
              "\n",
              "                        })\n",
              "                };\n",
              "                \n",
              "            </script>\n",
              "        </div>\n",
              "</body>\n",
              "</html>"
            ]
          },
          "metadata": {
            "tags": []
          }
        },
        {
          "output_type": "display_data",
          "data": {
            "text/html": [
              "<html>\n",
              "<head><meta charset=\"utf-8\" /></head>\n",
              "<body>\n",
              "    <div>\n",
              "            <script src=\"https://cdnjs.cloudflare.com/ajax/libs/mathjax/2.7.5/MathJax.js?config=TeX-AMS-MML_SVG\"></script><script type=\"text/javascript\">if (window.MathJax) {MathJax.Hub.Config({SVG: {font: \"STIX-Web\"}});}</script>\n",
              "                <script type=\"text/javascript\">window.PlotlyConfig = {MathJaxConfig: 'local'};</script>\n",
              "        <script src=\"https://cdn.plot.ly/plotly-latest.min.js\"></script>    \n",
              "            <div id=\"3c1387fa-15c7-48f2-982f-18e135f56bd8\" class=\"plotly-graph-div\" style=\"height:525px; width:100%;\"></div>\n",
              "            <script type=\"text/javascript\">\n",
              "                \n",
              "                    window.PLOTLYENV=window.PLOTLYENV || {};\n",
              "                    \n",
              "                if (document.getElementById(\"3c1387fa-15c7-48f2-982f-18e135f56bd8\")) {\n",
              "                    Plotly.newPlot(\n",
              "                        '3c1387fa-15c7-48f2-982f-18e135f56bd8',\n",
              "                        [{\"alignmentgroup\": \"True\", \"hoverlabel\": {\"namelength\": 0}, \"hovertemplate\": \"Total Business Value=%{y}\", \"legendgroup\": \"\", \"marker\": {\"color\": \"rgb(102, 197, 204)\"}, \"name\": \"\", \"notched\": false, \"offsetgroup\": \"\", \"orientation\": \"v\", \"showlegend\": false, \"type\": \"box\", \"x0\": \" \", \"xaxis\": \"x\", \"y\": [0.0, 253000.0, 0.0, 0.0, 1514629.5833333333, 2911162.5, 158490.0, 484446.0, 1208661.6666666667, 746762.8571428572, 288756.6666666667, 308765.0, 1879071.6666666667, 488477.9166666667, 2051063.3333333333, 0.0, 512213.3333333333, 522645.8333333333, 1137909.1666666667, 64526.666666666664, 748330.0, 1813812.9166666667, 51100.0, 0.0, 2251826.25, 116666.66666666667, 250464.0, 214213.33333333334, 546727.9166666666, 0.0, 528122.5, 1673030.0, 121152.0, 72698.33333333333, 63516.666666666664, 379420.0, 938581.4285714285, 580830.8333333334, 0.0, 1011395.0, 805838.0, 827762.0833333334, 0.0, 179763.57142857142, 820468.4615384615, 268026.6666666667, 1313904.1666666667, 296650.0, 0.0, 0.0, 100317.5, 507607.9166666667, 146924.0, 373711.6666666667, 83333.33333333333, 233395.0, 45267.5, 96630.0, 1181170.4166666667, 332256.25, 96500.0, 243825.7142857143, 2738444.285714286, 473306.84210526315, 115492.5, 0.0, 1404074.5833333333, 160946.66666666666, 82270.0, 0.0, 0.0, 0.0, 51120.0, 1245893.75, 0.0, 0.0, 2417687.0833333335, 0.0, 0.0, 1256403.3333333333, 263316.6666666667, 766666.6666666666, 613214.5833333334, 0.0, 0.0, 303575.3846153846, 166978.0, 0.0, 634994.6153846154, 1319153.0, 369652.14285714284, 1866316.8421052631, 489017.5, 0.0, 1286219.5833333333, 508578.3333333333, 391803.3333333333, 450196.0, 792387.0833333334, 0.0, 0.0, 377186.6666666667, 232612.3076923077, 728498.75, 1144092.5, 0.0, 649879.3333333334, 1121986.6666666667, 0.0, 678783.3333333334, 42276.666666666664, 0.0, 438580.0, 0.0, 202420.0, 1123987.0833333333, 626532.9166666666, 488333.3333333333, 714420.0, 2153367.0833333335, 682987.5, 676115.7142857143, 222206.92307692306, 542862.7272727273, 1263282.5, 46072.5, 935719.5833333334, 1333087.2222222222, 350000.0, 80056.0, 221365.0, 119773.33333333333, 230432.85714285713, 1321782.5, 353343.8461538461, 1359334.0, 0.0, 0.0, 275997.5, 0.0, 25440.0, 0.0, 0.0, 313798.8888888889, 554133.3333333334, 190000.0, 165120.0, 345452.6666666667, 0.0, 1798186.1538461538, 321962.14285714284, 0.0, 0.0, 48990.0, 313050.0, 0.0, 339830.0, 2569249.285714286, 871474.1666666666, 344524.0, 1742771.25, 0.0, 537165.0, 1736153.75, 1230432.5, 619105.0, 212955.0, 0.0, 818719.5833333334, 686465.0, 1915675.0, 365602.0, 898834.2857142857, 465206.6666666667, 384099.1666666667, 75977.5, 172456.66666666666, 322686.0, 0.0, 786370.4166666666, 985432.5, 846148.5714285715, 328278.75, 203010.0, 0.0, 833817.5, 2283012.9166666665, 394235.45454545453, 48184.0, 169231.66666666666, 410566.6666666667, 100383.33333333333, 157140.0, 0.0, 521088.8888888889, 671610.8333333334, 186080.0, 0.0, 280764.0, 614440.0, 365740.0, 1446162.0833333333, 2171677.222222222, 743776.25, 551418.75, 644637.2727272727, 0.0, 348464.0, 1516223.75, 0.0, 1454711.25, 980947.0833333334, 714814.2857142857, 471614.5833333333, 0.0, 397222.6666666667, 77742.0, 169662.85714285713, 0.0, 0.0, 255167.5, 976749.5833333334, 0.0, 369259.5833333333, 0.0, 1416963.75, 505811.76470588235, 0.0, 970423.8888888889, 480100.0, 405250.0, 1533590.8333333333, 1584507.9166666667, 63900.0, 185460.0, 0.0, 366840.0, 153540.0, 0.0, 0.0, 1437296.25, 0.0, 0.0, 391908.3333333333, 643336.6666666666, 0.0, 413620.0, 713918.3333333334, 344667.2727272727, 450088.5714285714, 1119183.3333333333, 637445.4166666666, 0.0, 83716.66666666667, 874034.5833333334, 183338.33333333334, 723733.75, 0.0, 744419.1666666666, 668563.125, 0.0, 549891.6666666666, 862338.5714285715, 113035.0, 967952.5, 1080990.8333333333, 777241.25, 200020.0, 1081313.3333333333, 425535.3333333333, 229440.0, 704821.4285714285, 0.0, 932850.8333333334, 186378.33333333334, 61824.0, 0.0, 1281477.5, 1348925.8333333333, 275630.0, 238500.0, 544133.125, 294463.3333333333, 36334.0, 0.0, 0.0, 0.0, 1030992.5, 224334.0, 1547324.1666666667, 1110280.0, 760343.3333333334, 620817.0833333334, 611517.0833333334, 197960.0, 1232985.0, 866633.5714285715, 79360.0, 124657.14285714286, 434896.0, 595790.8333333334, 209863.75, 510652.0, 2099270.4166666665, 769705.4166666666, 380131.6666666667, 353872.0, 713866.6666666666, 0.0, 845191.6666666666, 1735867.5, 353174.0, 0.0, 292068.0, 2994154.0, 1386370.7142857143, 325990.0, 484276.6666666667, 652778.75, 0.0, 1069706.25, 449847.77777777775, 0.0, 0.0, 140032.0, 974232.0833333334, 0.0, 1218862.9166666667, 201814.0, 706697.1428571428, 149771.0, 720299.1666666666, 2241977.0833333335, 1307173.3333333333, 434640.0, 1473435.4166666667, 0.0, 0.0, 322748.0, 0.0, 368658.75, 0.0, 885471.1111111111, 0.0, 0.0, 647383.3333333334, 245276.0, 514635.55555555556, 527593.75, 0.0, 356903.75, 159440.0, 509162.0833333333, 2381627.0833333335, 1047217.9166666666, 2279650.8333333335, 866362.5, 2274017.6923076925, 445949.5833333333, 531440.0, 195870.0, 1442923.3333333333, 0.0, 2124457.0833333335, 93442.66666666667, 373997.0588235294, 359020.0, 240956.66666666666, 327377.64705882355, 87663.33333333333, 1576414.5833333333, 83346.66666666667, 0.0, 125215.0, 1789402.105263158, 0.0, 1380984.4444444445, 977959.5833333334, 166502.0, 72156.66666666667, 0.0, 0.0, 529477.0833333334, 399556.6666666667, 970738.3333333334, 0.0, 117076.66666666667, 511511.1111111111, 206910.0, 220120.0, 57300.0, 431036.1111111111, 0.0, 872560.4166666666, 306486.6666666667, 83953.33333333333, 1067678.75, 499060.0, 670454.1666666666, 324134.0, 0.0, 322263.3333333333, 1570579.5833333333, 678665.7142857143, 0.0, 0.0, 177302.5, 2426972.727272727, 1963536.6666666667, 1215879.1666666667, 282100.0, 148300.0, 0.0, 734360.8333333334, 175498.33333333334, 533187.5, 128128.0, 0.0, 75052.5, 0.0, 584447.0833333334, 24615.0, 0.0, 204260.0, 902513.75, 161226.66666666666, 466150.0, 0.0, 804208.75, 559798.4615384615, 0.0, 814994.1666666666, 414152.5, 90140.0, 828238.6666666666, 50200.0, 540063.75, 950000.8333333334, 0.0, 0.0, 0.0, 596412.0833333334, 82260.0, 0.0, 0.0, 469004.6153846154, 67695.0, 189734.0, 638745.8333333334, 1201781.6666666667, 0.0, 166902.5, 684645.0, 891839.1666666666, 249220.0, 910462.5, 584236.0, 200957.0588235294, 447258.3333333333, 242596.0, 246329.16666666666, 607415.4166666666, 1086407.5, 0.0, 471250.0, 0.0, 698306.6666666666, 48420.0, 613489.5833333334, 0.0, 248585.0, 0.0, 556937.9166666666, 0.0, 830597.1428571428, 889862.5, 244435.55555555556, 600049.1666666666, 39212.0, 0.0, 1404568.3333333333, 0.0, 1457263.3333333333, 686820.4166666666, 1432275.8333333333, 0.0, 355360.0, 302805.0, 0.0, 100276.66666666667, 369948.5714285714, 85265.0, 751150.8333333334, 0.0, 184940.0, 862595.0, 328712.5, 503862.7272727273, 106220.0, 323860.0, 595580.0, 0.0, 876227.9166666666, 1365273.3333333333, 1209845.0, 1489892.2222222222, 715005.4166666666, 1214457.9166666667, 362233.3333333333, 491622.0, 0.0, 727288.3333333334, 1129154.5833333333, 0.0, 172260.0, 366410.0, 871597.0833333334, 255333.75, 1073208.75, 567772.9166666666, 0.0, 348691.6666666667, 691072.9166666666, 0.0, 79038.33333333333, 558145.8333333334, 187354.61538461538, 190546.0, 394523.3333333333, 697813.3333333334, 0.0, 302783.63636363635, 451741.875, 112426.25, 426216.0, 493374.28571428574, 386946.6666666667, 0.0, 1117675.4166666667, 491100.0, 486564.54545454547, 0.0, 1509967.0833333333, 898547.9166666666, 0.0, 373360.0, 0.0, 826420.0, 1208926.4285714286, 479777.77777777775, 468526.25, 191242.5, 0.0, 1012277.9166666666, 797175.8333333334, 1129950.0, 234731.42857142858, 1239021.25, 0.0, 190568.0, 30578.0, 264127.5, 0.0, 729368.75, 642992.6666666666, 841131.25, 2373709.1666666665, 2487352.0833333335, 38830.0, 835063.3333333334, 377132.5, 0.0, 659268.2352941176, 67256.66666666667, 568672.6315789474, 566259.1666666666, 160600.0, 431308.3333333333, 751504.1666666666, 77292.0, 906120.0, 75020.0, 1027969.2307692308, 1177143.75, 1495672.0833333333, 1075223.0, 1210018.75, 77500.0, 416443.3333333333, 49287.142857142855, 3159657.1428571427, 314078.75, 850523.3333333334, 903648.75, 812670.0, 70290.0, 0.0, 0.0, 316450.0, 809281.6666666666, 62976.0, 1516587.0833333333, 753185.8333333334, 1013106.1538461539, 561175.8333333334, 0.0, 0.0, 1950518.2608695652, 405510.0, 0.0, 185555.0, 969362.5, 483824.5833333333, 0.0, 0.0, 958082.0833333334, 0.0, 681268.3333333334, 89885.0, 2179022.5, 690298.4615384615, 314453.3333333333, 0.0, 486189.23076923075, 0.0, 795042.8571428572, 205384.0, 403035.55555555556, 0.0, 114000.625, 0.0, 2474194.5833333335, 0.0, 1191513.3333333333, 1109931.4285714286, 589240.0, 775339.1666666666, 0.0, 773881.052631579, 489266.25, 1277853.75, 0.0, 161540.66666666666, 0.0, 2000738.3333333333, 1543847.0833333333, 232180.0, 78622.0, 382523.3333333333, 0.0, 0.0, 208610.0, 868307.1428571428, 365187.5, 577713.5714285715, 752475.0, 470381.25, 0.0, 327492.1052631579, 700156.4285714285, 696682.2222222222, 1405780.8333333333, 741002.0833333334, 447774.54545454547, 282973.3333333333, 373648.3333333333, 0.0, 998331.6666666666, 439368.3333333333, 0.0, 1380807.5, 0.0, 3972127.5, 465162.5, 103077.5, 0.0, 1445995.0, 1411753.3333333333, 923150.0, 0.0, 479557.5, 464830.8333333333, 1144788.75, 369235.0, 180660.0, 1803127.5, 842598.3333333334, 157857.77777777778, 0.0, 720281.25, 288438.3333333333, 957367.0833333334, 582724.1666666666, 138682.5, 260705.0, 1786832.9166666667, 963102.0833333334, 947444.1666666666, 0.0, 0.0, 511939.23076923075, 0.0, 1932728.1818181819, 0.0, 184416.66666666666, 66408.0, 72440.0, 924310.4166666666, 150621.66666666666, 1255079.1666666667, 475742.5, 232428.0, 75575.0, 486114.1666666667, 303798.0, 1228135.0, 2153637.1428571427, 406332.0, 394019.28571428574, 901877.0833333334, 378035.71428571426, 150060.0, 806539.1666666666, 618840.4166666666, 530204.0, 1088466.4705882352, 698926.1111111111, 868477.5, 207640.0, 2565960.0, 301890.5263157895, 503573.3333333333, 372997.77777777775, 103060.0, 0.0, 816542.5, 0.0, 0.0, 784851.8181818182, 906200.8333333334, 328320.0, 571860.0, 70000.0, 40120.0, 0.0, 434530.0, 444045.2173913043, 173400.0, 145377.14285714287, 0.0, 0.0, 497325.0, 471218.125, 410172.0, 254634.0, 0.0, 119002.5, 100000.0, 305552.14285714284, 108336.66666666667, 0.0, 0.0, 198938.0, 179945.0, 50036.666666666664, 112763.33333333333, 138369.23076923078, 55155.0, 319001.0, 0.0, 1199542.6315789474, 0.0, 44886.666666666664, -146433.33333333334, 38788.0, 651032.2222222222, 421825.45454545453, 0.0, 94390.0, 98711.66666666667, 394321.6666666667, 0.0, 313368.0, 0.0, 75000.0, 579201.3333333334, 0.0, 541478.3333333334, 408762.0, 108728.0, 40000.0, 610060.0, 0.0, 0.0, 1259731.7647058824, 0.0, 351968.0, 0.0, 68047.5, 0.0, 563110.0, 378787.5, 144058.33333333334, 41968.333333333336, 240871.11111111112, 134088.0, 124110.0, 21528.571428571428, 111544.0, 0.0, 0.0, 242684.44444444444, 174540.0, -23333.333333333332, 366088.75, 238214.54545454544, 0.0, 174622.0, 0.0, 0.0, 0.0, 0.0, 61020.0, 113520.0, 0.0, 369456.0, 0.0, 0.0, 190034.0, 236620.0, 133890.9090909091, 0.0, 801190.0, 0.0, 0.0, 448438.5714285714, 0.0, 0.0, 0.0, 577513.8888888889, 0.0, 230924.0, 436613.3333333333, 397536.0, 495168.5714285714, 766550.0, 594100.0, 3916.0, 0.0, 100000.0, 61111.11111111111, 323356.0, 0.0, 123760.0, 129114.28571428571, 225790.0, 302071.25, 30320.0, 11089.09090909091, 713072.8571428572, 500000.0, 0.0, 164388.57142857142, 220572.22222222222, 0.0, 0.0, 165672.9411764706, 84307.5, 802430.0, 75356.0, 0.0, 158400.9090909091, 540068.4615384615, 975705.0, 255031.81818181818, 278445.0, 0.0, 0.0, 389977.5, 167471.42857142858, 904743.75, 611183.5294117647, 1327490.0, 448036.92307692306, 0.0, 0.0, 0.0, 82551.66666666667, 0.0, 0.0, 309534.0, 0.0, 253132.22222222222, 123980.0, 0.0, 50076.666666666664, 0.0, 494548.125, 171431.42857142858, 426441.6666666667, 364389.0, 268289.3333333333, 65000.0, 176336.66666666666, 304014.44444444444, 482230.71428571426, 0.0, 0.0, 30080.0, 0.0, 0.0, 254648.0, 0.0, 124470.0, 37615.0, 187721.25, 0.0, 0.0, 0.0, 2583608.1818181816, 0.0, 25008.333333333332, 0.0, 125000.0, 346389.3333333333, 0.0, 0.0, 40416.666666666664, 66666.66666666667, 13627.5, 48500.0, 210405.0, 25000.0, 0.0, 67180.0, 259392.0, 64658.0, 478879.0, 0.0, 152276.66666666666, 181520.0, 852461.5384615385, 30088.0, 0.0, 214446.0, 0.0, 19400.0, 0.0, 105346.66666666667, 591058.695652174, 0.0, 395470.0, 156725.0, 111040.0, 167031.0, 91234.0, 0.0, 0.0, 32760.0, 565848.75, 331512.0, 252414.44444444444, 652867.7777777778, 88586.66666666667, 66666.66666666667, 0.0, 0.0, 153942.5, 230057.5, 184270.0, 369885.55555555556, 292215.0, 0.0, 152457.5, 61550.0, 536624.0, 0.0, 308530.8333333333, 0.0, 429224.0, 271463.3333333333, 265252.0, 88193.75, 0.0, 52500.0, 190712.72727272726, 238658.0, 551994.0, 2792047.777777778, 694008.0, 410318.0, 0.0, 0.0, 0.0, 0.0, 336393.0, 0.0, 0.0, 379496.6666666667, 160910.0, 58930.0, 145735.0, 440725.45454545453, 0.0, 0.0, 0.0, 0.0, 0.0, 0.0, 0.0, 423936.0, 122034.0, 282162.0, 0.0, 0.0, 511121.53846153844, 552093.3333333334, 0.0, 428748.75, 0.0, 587041.7647058824, 366043.8461538461, 0.0, 0.0, 83333.33333333333, 21291.428571428572, 759644.0, 0.0, 297923.3333333333, 243734.44444444444, 28985.0, 477690.6666666667, 0.0, 193500.0, 0.0, 0.0, 208446.66666666666, 0.0, 994010.0, 528903.3333333334, 128473.75, 357040.0, 852858.5714285715, 322345.71428571426, 45312.5, 0.0, 40000.0, 749753.0434782609, 163453.33333333334, 0.0, 254166.5, 230864.0, 653398.0952380953, 0.0, 212640.0, 118050.0, 0.0, 115496.0, 478945.0, 0.0, 313432.7272727273, 50625.0, 352781.5, 280428.3333333333, 0.0, 63610.0, 40426.666666666664, 26428.333333333332, 0.0, 226185.7142857143, 195210.0, 0.0, 235430.0, 448386.6666666667, 209824.0, 392294.44444444444, 269111.4285714286, 188426.0, 0.0, 200255.0, 269067.2727272727, 340744.0, 249070.0, 170056.0, 0.0, 0.0, 282120.0, 539694.5454545454, 540279.2857142857, 319377.5, 35640.0, 0.0, 313460.0, 0.0, 493102.0, 72725.0, 165040.0, 42134.0, 71072.0, 75000.0, 0.0, 188861.25, 192000.0, 0.0, 0.0, 401340.0, 0.0, 26627.5, 0.0, 85886.0, 0.0, 0.0, 0.0, 695608.3333333334, 461818.0, 25170.0, 133120.0, 33333.333333333336, 311098.0, 608258.8888888889, 323438.0, 375085.0, 143333.33333333334, 0.0, 286318.8888888889, 0.0, 116122.0, 0.0, 140240.0, 249750.0, 61702.0, 0.0, 356446.6666666667, 1012250.9090909091, 0.0, 1245246.3636363635, 0.0, 0.0, 368442.5, 103538.0, 0.0, 254175.0, 344840.0, 0.0, 42288.0, 258936.66666666666, 162097.5, 0.0, 76306.66666666667, 241666.66666666666, 133024.0, 0.0, 76430.0, 0.0, 190067.5, 0.0, 548040.8333333334, 97682.0, 468930.0, 310105.8333333333, 0.0, 0.0, 128863.33333333333, 352744.54545454547, 955050.0, 0.0, 0.0, 259837.14285714287, 180660.0, 137395.0, 0.0, 79176.66666666667, 465849.28571428574, 0.0, 143396.42857142858, 324850.5882352941, 0.0, 616508.5714285715, 535397.0, 238690.0, 0.0, 91296.0, 88358.57142857143, 0.0, 371075.45454545453, 220357.14285714287, 0.0, 0.0, 201024.0, 0.0, 0.0, 117162.85714285714, 529442.3529411765, 429498.75, 0.0, 133015.7142857143, 97110.0, 104688.0, 329664.44444444444, 90536.66666666667, 490438.0, 50535.0, 80908.33333333333, 0.0, 2040167.142857143, 717214.2105263158, 30032.0, 207622.85714285713, 0.0, 367014.0, 382411.6666666667, 50925.0, 0.0, 0.0, 0.0, 668231.5384615385, 84025.0, 224358.0, 189320.0, 21001.666666666668, 0.0, 127320.0, -161287.5, 69637.14285714286, 0.0, 0.0, 1823323.888888889, 0.0, 347323.75, 0.0, 369502.85714285716, 634360.0, 64438.57142857143, 50120.0, 0.0, 246244.61538461538, 299757.5, 580596.6666666666, 0.0, 38731.42857142857, 181165.0, 1032020.0, 102366.66666666667, 150624.44444444444, 0.0, 0.0, 476970.0, 246733.33333333334, 382192.0, 0.0, 0.0, 264395.0, 0.0, 152295.7142857143, 0.0, 0.0, 0.0, 101193.33333333333, 0.0, 359868.1818181818, 188380.0, 0.0, 0.0, -101180.0, 612468.8888888889, 1617697.5, 104526.0, 183031.66666666666, 452382.14285714284, 70540.0, 87220.0, 0.0, 297727.14285714284, 163956.66666666666, 0.0, 0.0, 0.0, 0.0, 0.0, 45822.857142857145, 0.0, 0.0, 0.0, 919037.5, 0.0, 127382.0, 0.0, 100910.0, 282594.28571428574, 507470.0, 69494.0, 1072510.0, 277465.0, 287511.25, 0.0, 976682.5, 140882.22222222222, 384897.5, 212121.66666666666, 106780.0, 276210.0, 206606.0, 0.0, 182960.0, 64773.333333333336, 114092.0, 84892.0, 0.0, 96480.0, 0.0, 182665.55555555556, 1894071.3636363635, 138787.5, 0.0, 239810.0, 266496.6666666667, 100000.0, 0.0, 184651.25, 0.0, 0.0, 0.0, 0.0, 270849.1666666667, 505857.36842105264, 0.0, 51037.5, 0.0, 40700.0, 952663.6363636364, 0.0, 546005.0, 125000.0, 125765.0, 43960.0, 0.0, 0.0, 0.0, 386893.8461538461, 0.0, 369803.3333333333, 498852.5, 149168.57142857142, 386105.0, 0.0, 163161.25, 30132.0, 0.0, -48480.0, 72400.0, 0.0, 117505.0, 431156.0, 0.0, 0.0, 660038.0, 518346.6666666667, 167892.85714285713, 118796.25, 0.0, 145254.2857142857, 237156.25, 0.0, 0.0, 1324528.5714285714, 419700.0, 193180.0, 0.0, 323194.0, 100385.55555555556, 138110.0, 0.0, 668000.0, 0.0, 789555.8333333334, 0.0, 201953.33333333334, 79896.66666666667, 348225.0, 0.0, 204764.0, 0.0, 0.0, 62290.0, 327760.0, 25001.666666666668, 124398.88888888889, 28176.0, 44920.0, 20930.0, 138600.0, 88750.0, 196365.0, 0.0, 228560.0, 400630.8695652174, 0.0, 190591.81818181818, 445876.6666666667, 336736.36363636365, 0.0, 0.0, 0.0, 294104.44444444444, 0.0, 180084.0, 0.0, 0.0, 86976.66666666667, 28812.0, 85714.28571428571, 141095.0, 0.0, 382481.5789473684, 1078870.0, 0.0, 0.0, 741477.0, 0.0, 302746.6666666667, 0.0, 0.0, 0.0, 0.0, 0.0, 214383.33333333334, 343048.8888888889, 2155005.0, 1459313.0, 284317.14285714284, 65550.0, 402636.0, 209353.33333333334, 75341.66666666667, 107332.85714285714, 27200.0, 161200.0, 270447.5, 0.0, 319553.07692307694, 141145.7142857143, 100084.0, 0.0, 12400.0, 0.0, 290426.0, 0.0, 289062.0, 784266.6666666666, 0.0, 0.0, 62660.0, 0.0, 125000.0, 273684.0, 68055.0, 267181.1111111111, 153432.5, 0.0, 384327.5, -4770.0, 110420.0, 107020.0, 290664.0, 58333.333333333336, 176614.66666666666, 58333.333333333336, 58560.0, 210806.66666666666, 361162.0, 0.0, 0.0, 208233.33333333334, 115948.0, 0.0, 229049.16666666666, 0.0, 283620.0, 210800.0, 71554.28571428571, 250337.14285714287, 142521.11111111112, 0.0, 1134248.1818181819, 79726.66666666667, 0.0, 0.0, 259167.0, 136118.0, 33396.666666666664, 89671.11111111111, 581242.1428571428, 0.0, 78790.0, 375170.0, 0.0, 38208.0, 149830.0, 1298494.4444444445, 148966.36363636365, 0.0, 0.0, 438388.5714285714, 113240.0, 0.0, 742857.6470588235, 113288.0, 190740.0, 0.0, 228807.14285714287, 734195.8333333334, 90750.0, 216338.0, 0.0, 83660.0, 424845.71428571426, 0.0, 563937.7777777778, 0.0, 129388.88888888889, 66666.66666666667, 33626.666666666664, 201946.66666666666, 593162.2222222222, 126950.0, 0.0, 573272.5, 127181.81818181818, 0.0, 0.0, 280820.0, 338124.0, 340043.3333333333, 132861.11111111112, 0.0, 0.0, 229203.75, 451414.0, 188838.0, 92005.0, 199036.25, 139130.0, 363946.4705882353, 250423.33333333334, 221440.0, 290305.0, 0.0, 0.0, 20184.0, 29932.0, 115972.5, 83315.0, 0.0, 110336.0, 467141.1111111111, 277110.0, 87466.66666666667, 495260.8333333333, 326226.6666666667, 0.0, 25120.0, 0.0, 218985.55555555556, 246053.33333333334, 322235.71428571426, 647719.2307692308, 1648186.6666666667, 33436.666666666664, 143323.33333333334, 125408.33333333333, 806775.2941176471, 291036.0, 785472.0833333334, 0.0, 0.0, 37590.0, 0.0, 1028768.0, 0.0, 98712.5, 0.0, 121400.0, 0.0, 219973.33333333334, 146788.75, 0.0, 0.0, 393507.5, 0.0, 0.0, 31940.0, 30006.0, 0.0, 0.0, 800025.0, 733170.7142857143, 217717.5, 519543.3333333333, 109768.33333333333, 750825.0, 486646.6666666667, 228241.42857142858, 0.0, 205590.0, 237306.66666666666, 0.0, 0.0, 106816.66666666667, 0.0, 554833.3333333334, 0.0, 845407.6923076923, 165120.0, 0.0, 0.0, 70000.0, 160708.0, 378748.0, 155339.0, 678538.3333333334, 0.0, 29100.0, 534995.0, 295732.22222222225, 473029.5, 270028.0, 356162.5, 0.0, 37900.0, 338126.3157894737, 0.0, 0.0, 0.0, 0.0, 0.0, 662611.25, 0.0, 491942.85714285716, 0.0, 443298.3333333333, 0.0, 1056916.4705882352, 429938.5714285714, 243675.0, 0.0, 0.0, 0.0, 284110.0, 279177.77777777775, 510439.1666666667, 0.0, 145270.0, 0.0, 501877.5, 0.0, 153232.85714285713, 512184.44444444444, 526712.9166666666, 0.0, 0.0, 0.0, 0.0, 835515.5555555555, 50925.0, 0.0, 0.0, 0.0, 775778.3333333334, 84253.33333333333, 0.0, 3759614.375, 105471.42857142857, 905366.9230769231, 113652.5, 0.0, 0.0, 162692.5, 284474.70588235295, 0.0, 0.0, 135800.0, 1046749.5833333334, 142485.0, 0.0, 181478.125, 0.0, 0.0, 365140.0, 43802.0, 1357359.375, 2256895.0, 377367.5, 166666.66666666666, 331573.3333333333, 148037.5, 375435.55555555556, 43500.0, 87360.0, 0.0, 20620.0, 453170.0, 0.0, 359846.0, 50421.666666666664, 25481.666666666668, 60000.0, 122968.75, 0.0, 0.0, 2049044.0, 0.0, 102186.0, 1818000.0, 0.0, 538060.0, 281049.28571428574, 0.0, 0.0, 324631.5, 0.0, 0.0, 0.0, 538880.9090909091, 0.0, 0.0, 0.0, 370360.0, 100934.0, 0.0, 0.0, 554712.0, 0.0, 0.0, 638579.4117647059, 0.0, 332004.70588235295, 134576.66666666666, 51233.333333333336, -166666.66666666666, 0.0, 507514.0909090909, 161856.66666666666, 0.0, 54933.75, 0.0, 0.0, 78327.5, 0.0, 128564.0, 80700.0, 348622.7272727273, 157550.0, 37590.0, 287916.6666666667, 0.0, 297803.3333333333, 0.0, 0.0, 780963.3333333334, 23464.0, 32327.777777777777, 109838.57142857143, 51128.333333333336, -197932.85714285713, 588965.0, 50000.0, 1341958.75, 469132.5, 1112207.142857143, 50945.0, 0.0, 67505.0, 0.0, 232762.22222222222, 309436.6666666667, 131800.0, 376852.3076923077, 0.0, 14338.57142857143, 0.0, 219097.14285714287, 50990.0, 0.0, 30070.0, 34656.666666666664, 329377.14285714284, 0.0, 186907.77777777778, 0.0, 710426.5, 240631.42857142858, 72707.5, 1290493.3333333333, 331675.8333333333, 0.0, 2261276.6666666665, 26093.333333333332, 0.0, 160142.0, 0.0, 392911.25, 67642.85714285714, 308333.3333333333, 261961.11111111112, 0.0, 127616.0, 2918120.0, 310433.3333333333, 389134.54545454547, 556728.75, 49270.0, 289570.0, 157096.66666666666, 0.0, 0.0, 0.0, 0.0, 0.0, 659492.0, 0.0, 73680.0, 551727.5, 0.0, 0.0, 136513.33333333334, 71020.0, 807286.6666666666, 0.0, 372190.0, 349334.54545454547, 291204.28571428574, 269565.0, 190366.0, 533939.0, 0.0, 0.0, 145764.0, 270958.0, 80835.0, 106195.0, 83620.0, 0.0, 0.0, 208423.33333333334, 382540.0, 236018.75, 187526.25, 246350.0, 110645.0, 137911.11111111112, 40000.0, 0.0, 246462.3076923077, 0.0, 0.0, 218776.875, 172807.5, 429020.0, 0.0, 0.0, 93805.0, 159702.0, 77960.0, 373081.1111111111, 0.0, 0.0, 0.0, 266210.0, 45420.0, 275810.9090909091, 0.0, 624320.0, 223800.0, 275136.0, 0.0, 0.0, 29066.666666666668, 409554.28571428574, 496431.875, 0.0, 162670.9090909091, 0.0, 1358995.5555555555, 0.0, 88480.0, 98720.0, 0.0, 429329.0, 376966.25, 0.0, 179814.0, 408307.5, 164910.0, 42464.0, 627280.0, 133683.75, 0.0, 103420.0, 186102.85714285713, 0.0, 112530.0, 539861.6666666666, 363598.4210526316, 305892.85714285716, 0.0, 0.0, 0.0, 171968.0, 0.0, 93232.0, 132361.66666666666, 481398.23529411765, 733365.0, 107210.0, 0.0, 130290.0, 96071.66666666667, 0.0, 447065.29411764705, 820787.7777777778, 0.0, 272862.22222222225, 0.0, 416761.6666666667, 56195.0, 0.0, 0.0, 907745.0, 100013.0, 0.0, 183303.33333333334, 0.0, 570240.0, 0.0, 452946.6666666667, 388413.3333333333, 0.0, 0.0, 0.0, 0.0, 873770.9090909091, 20948.0, 592248.1818181818, 139648.0, 0.0, 407482.0, 33570.0, 0.0, 0.0, 166666.66666666666, 0.0, 600063.8461538461, 105632.5, 130812.0, 125155.0, 0.0, 435065.71428571426, 373476.25, 64344.0, 0.0, 208552.0, 220905.0, 181225.0, 38964.0, 0.0, 0.0, 0.0, 359236.4285714286, 0.0, 116836.0, 0.0, 0.0, 365648.6666666667, 25000.0, 0.0, 110682.85714285714, 327982.0, 72270.0, 193335.7142857143, 68610.0, 388157.64705882355, 0.0, 41360.0, 0.0, 507584.6153846154, 580698.75, 267563.75, 0.0, 0.0, 0.0, 385615.0, 192236.0, 0.0, 174770.0, 0.0, 384507.8947368421, 0.0, 496146.6666666667, 0.0, 48066.666666666664, 0.0, 860121.5789473684, 0.0, -45694.444444444445, 259950.0, 0.0, 404775.55555555556, 51052.857142857145, 0.0, 138996.66666666666, 668130.0, 473014.28571428574, 193291.66666666666, 320597.5, 0.0, 30088.0, 1052626.25, 28571.428571428572, 81184.0, 359907.82608695654, 129070.0, 230670.0, 0.0, 675608.3333333334, 735192.7777777778, 155637.5, 681640.0, 0.0, 440270.0, 0.0, 0.0, 0.0, 130430.0, 0.0, 0.0, 116632.0, 302434.0, 491790.8333333333, 418991.1111111111, 354465.71428571426, 442335.55555555556, 0.0, 490923.3333333333, 0.0, 58035.0, 444963.3333333333, 121446.66666666667, 58375.0, 360180.0, 0.0, 125200.0, 252656.0, 0.0, 18333.333333333332, 144656.42857142858, 50540.0, 0.0, 0.0, 0.0, 87840.0, 120000.0, 0.0, 0.0, 326465.55555555556, 0.0, 651750.0, 0.0, 0.0, 0.0, 0.0, 53455.0, 66576.66666666667, 0.0, 0.0, 0.0, 304508.0, 144639.0, 43218.57142857143, 31896.0, 85761.42857142857, 0.0, 0.0, 31040.0, 0.0, 0.0, 58200.0, 411205.55555555556, 0.0, 0.0, 0.0, 535333.8461538461, 319356.6666666667, 150000.0, 289982.5, 0.0, 290631.4285714286, 0.0, 0.0, 88944.0, 332606.6666666667, 0.0, 227915.55555555556, 0.0, 696522.6315789474, 28746.666666666668, 220646.0, 0.0, 109396.66666666667, 535310.0, 907532.5, 163536.0, 232465.7142857143, 153447.5, 207892.0, 368117.77777777775, 0.0, 0.0, 533961.8181818182, 0.0, 235414.0, 156533.33333333334, 700211.1111111111, 171121.25, 0.0, 33260.0, 1708632.3076923077, 208653.33333333334, 0.0, -44960.0, 536634.7826086957, 0.0, 162717.5, 201047.14285714287, 50475.0, 270720.0, 0.0, 0.0, 0.0, 40000.0, 0.0, 541070.0, 0.0, 0.0, 346286.6666666667, 250000.0, 0.0, 248618.46153846153, 206355.55555555556, 657312.3076923077, 0.0, 262180.0, 0.0, 521133.07692307694, 1224305.0, 263952.22222222225, 247675.0, 67472.5, 25000.0, 0.0, 0.0, 0.0, 553470.0, 719091.1111111111, 0.0, 47176.0, 0.0, 881591.25, 35714.28571428572, 323691.4285714286, 274546.6666666667, 0.0, 71720.0, 174077.64705882352, 1048392.7272727273, 1580600.9090909092, 303000.0, 362043.3333333333, 72750.0, 858753.3333333334, 907781.4285714285, 283907.5, 0.0, 156286.25, 0.0, 0.0, 0.0, 112430.0, 0.0, 424596.6666666667, 254253.33333333334, 1006412.8571428572, 849440.0, 58494.0, 150362.85714285713, 436060.0, 338000.0, 375072.0, 131820.9090909091, 162542.0, 107295.71428571429, 698875.0, 315460.0, 78754.0, 33946.666666666664, 180573.75, 114550.0, 0.0, 453284.1666666667, 0.0, 46368.0, 685860.0, 1652720.5, 150000.0, 415605.71428571426, 0.0, 317111.6666666667, 136282.5, 560871.5384615385, 0.0, 329767.36842105264, 41580.0, 0.0, 80833.33333333333, 0.0, 37930.0, 1066595.0, 206977.27272727274, 474513.9130434783, 0.0, 236968.0, 0.0, 224211.11111111112, 0.0, 62500.0, 783642.5, 595197.7777777778, 671594.6666666666, 0.0, 456010.0, 420085.55555555556, 0.0, 186938.57142857142, 0.0, 179150.0, 0.0, 79193.33333333333, 190752.0, 35760.0, 0.0, 0.0, 0.0, 44873.333333333336, 205842.72727272726, 156080.0, 0.0, 569161.25, 637135.4545454546, 313978.75, 41755.0, 0.0, 593426.0, 1061298.75, 0.0, 366215.0, 0.0, 705928.3333333334, 0.0, 402731.6666666667, 0.0, 471927.36842105264, 686483.8461538461, 593055.0, 321086.0, 0.0, 54201.666666666664, 0.0, 0.0, 704985.0, 0.0, 0.0, 0.0, 629186.6666666666, 0.0, 78992.85714285714, 392900.0, 0.0, 37400.0, 67590.0, 426479.1666666667, 283726.0, 225556.0, 467661.6666666667, 331181.4285714286, 169582.3076923077, 124490.0, 0.0, 379618.5714285714, 0.0, 0.0, 40866.0, 0.0, 0.0, 86560.0, 0.0, 661455.3846153846, 0.0, 0.0, 0.0, 0.0, 65083.333333333336, 75000.0, 277925.3333333333, 91650.0, 150959.16666666666, 151020.0, 227241.66666666666, 0.0, 235201.42857142858, 131333.33333333334, 417664.0, 478830.71428571426, 0.0, 0.0, 50030.0, 0.0, 0.0, 457376.92307692306, 0.0, 203826.66666666666, 16705.714285714286, 0.0, 0.0, 0.0, 0.0, 348932.22222222225, 0.0, 169316.25, 118044.0, 501860.0, 0.0, 1015987.5, 0.0, 1048504.5833333334, 427655.0, 356970.0, 70425.0, 612001.4285714285, 0.0, 0.0, 0.0, 0.0, 312787.77777777775, 162971.66666666666], \"y0\": \" \", \"yaxis\": \"y\"}],\n",
              "                        {\"boxmode\": \"group\", \"legend\": {\"tracegroupgap\": 0}, \"margin\": {\"t\": 60}, \"template\": {\"data\": {\"bar\": [{\"error_x\": {\"color\": \"#2a3f5f\"}, \"error_y\": {\"color\": \"#2a3f5f\"}, \"marker\": {\"line\": {\"color\": \"#E5ECF6\", \"width\": 0.5}}, \"type\": \"bar\"}], \"barpolar\": [{\"marker\": {\"line\": {\"color\": \"#E5ECF6\", \"width\": 0.5}}, \"type\": \"barpolar\"}], \"carpet\": [{\"aaxis\": {\"endlinecolor\": \"#2a3f5f\", \"gridcolor\": \"white\", \"linecolor\": \"white\", \"minorgridcolor\": \"white\", \"startlinecolor\": \"#2a3f5f\"}, \"baxis\": {\"endlinecolor\": \"#2a3f5f\", \"gridcolor\": \"white\", \"linecolor\": \"white\", \"minorgridcolor\": \"white\", \"startlinecolor\": \"#2a3f5f\"}, \"type\": \"carpet\"}], \"choropleth\": [{\"colorbar\": {\"outlinewidth\": 0, \"ticks\": \"\"}, \"type\": \"choropleth\"}], \"contour\": [{\"colorbar\": {\"outlinewidth\": 0, \"ticks\": \"\"}, \"colorscale\": [[0.0, \"#0d0887\"], [0.1111111111111111, \"#46039f\"], [0.2222222222222222, \"#7201a8\"], [0.3333333333333333, \"#9c179e\"], [0.4444444444444444, \"#bd3786\"], [0.5555555555555556, \"#d8576b\"], [0.6666666666666666, \"#ed7953\"], [0.7777777777777778, \"#fb9f3a\"], [0.8888888888888888, \"#fdca26\"], [1.0, \"#f0f921\"]], \"type\": \"contour\"}], \"contourcarpet\": [{\"colorbar\": {\"outlinewidth\": 0, \"ticks\": \"\"}, \"type\": \"contourcarpet\"}], \"heatmap\": [{\"colorbar\": {\"outlinewidth\": 0, \"ticks\": \"\"}, \"colorscale\": [[0.0, \"#0d0887\"], [0.1111111111111111, \"#46039f\"], [0.2222222222222222, \"#7201a8\"], [0.3333333333333333, \"#9c179e\"], [0.4444444444444444, \"#bd3786\"], [0.5555555555555556, \"#d8576b\"], [0.6666666666666666, \"#ed7953\"], [0.7777777777777778, \"#fb9f3a\"], [0.8888888888888888, \"#fdca26\"], [1.0, \"#f0f921\"]], \"type\": \"heatmap\"}], \"heatmapgl\": [{\"colorbar\": {\"outlinewidth\": 0, \"ticks\": \"\"}, \"colorscale\": [[0.0, \"#0d0887\"], [0.1111111111111111, \"#46039f\"], [0.2222222222222222, \"#7201a8\"], [0.3333333333333333, \"#9c179e\"], [0.4444444444444444, \"#bd3786\"], [0.5555555555555556, \"#d8576b\"], [0.6666666666666666, \"#ed7953\"], [0.7777777777777778, \"#fb9f3a\"], [0.8888888888888888, \"#fdca26\"], [1.0, \"#f0f921\"]], \"type\": \"heatmapgl\"}], \"histogram\": [{\"marker\": {\"colorbar\": {\"outlinewidth\": 0, \"ticks\": \"\"}}, \"type\": \"histogram\"}], \"histogram2d\": [{\"colorbar\": {\"outlinewidth\": 0, \"ticks\": \"\"}, \"colorscale\": [[0.0, \"#0d0887\"], [0.1111111111111111, \"#46039f\"], [0.2222222222222222, \"#7201a8\"], [0.3333333333333333, \"#9c179e\"], [0.4444444444444444, \"#bd3786\"], [0.5555555555555556, \"#d8576b\"], [0.6666666666666666, \"#ed7953\"], [0.7777777777777778, \"#fb9f3a\"], [0.8888888888888888, \"#fdca26\"], [1.0, \"#f0f921\"]], \"type\": \"histogram2d\"}], \"histogram2dcontour\": [{\"colorbar\": {\"outlinewidth\": 0, \"ticks\": \"\"}, \"colorscale\": [[0.0, \"#0d0887\"], [0.1111111111111111, \"#46039f\"], [0.2222222222222222, \"#7201a8\"], [0.3333333333333333, \"#9c179e\"], [0.4444444444444444, \"#bd3786\"], [0.5555555555555556, \"#d8576b\"], [0.6666666666666666, \"#ed7953\"], [0.7777777777777778, \"#fb9f3a\"], [0.8888888888888888, \"#fdca26\"], [1.0, \"#f0f921\"]], \"type\": \"histogram2dcontour\"}], \"mesh3d\": [{\"colorbar\": {\"outlinewidth\": 0, \"ticks\": \"\"}, \"type\": \"mesh3d\"}], \"parcoords\": [{\"line\": {\"colorbar\": {\"outlinewidth\": 0, \"ticks\": \"\"}}, \"type\": \"parcoords\"}], \"pie\": [{\"automargin\": true, \"type\": \"pie\"}], \"scatter\": [{\"marker\": {\"colorbar\": {\"outlinewidth\": 0, \"ticks\": \"\"}}, \"type\": \"scatter\"}], \"scatter3d\": [{\"line\": {\"colorbar\": {\"outlinewidth\": 0, \"ticks\": \"\"}}, \"marker\": {\"colorbar\": {\"outlinewidth\": 0, \"ticks\": \"\"}}, \"type\": \"scatter3d\"}], \"scattercarpet\": [{\"marker\": {\"colorbar\": {\"outlinewidth\": 0, \"ticks\": \"\"}}, \"type\": \"scattercarpet\"}], \"scattergeo\": [{\"marker\": {\"colorbar\": {\"outlinewidth\": 0, \"ticks\": \"\"}}, \"type\": \"scattergeo\"}], \"scattergl\": [{\"marker\": {\"colorbar\": {\"outlinewidth\": 0, \"ticks\": \"\"}}, \"type\": \"scattergl\"}], \"scattermapbox\": [{\"marker\": {\"colorbar\": {\"outlinewidth\": 0, \"ticks\": \"\"}}, \"type\": \"scattermapbox\"}], \"scatterpolar\": [{\"marker\": {\"colorbar\": {\"outlinewidth\": 0, \"ticks\": \"\"}}, \"type\": \"scatterpolar\"}], \"scatterpolargl\": [{\"marker\": {\"colorbar\": {\"outlinewidth\": 0, \"ticks\": \"\"}}, \"type\": \"scatterpolargl\"}], \"scatterternary\": [{\"marker\": {\"colorbar\": {\"outlinewidth\": 0, \"ticks\": \"\"}}, \"type\": \"scatterternary\"}], \"surface\": [{\"colorbar\": {\"outlinewidth\": 0, \"ticks\": \"\"}, \"colorscale\": [[0.0, \"#0d0887\"], [0.1111111111111111, \"#46039f\"], [0.2222222222222222, \"#7201a8\"], [0.3333333333333333, \"#9c179e\"], [0.4444444444444444, \"#bd3786\"], [0.5555555555555556, \"#d8576b\"], [0.6666666666666666, \"#ed7953\"], [0.7777777777777778, \"#fb9f3a\"], [0.8888888888888888, \"#fdca26\"], [1.0, \"#f0f921\"]], \"type\": \"surface\"}], \"table\": [{\"cells\": {\"fill\": {\"color\": \"#EBF0F8\"}, \"line\": {\"color\": \"white\"}}, \"header\": {\"fill\": {\"color\": \"#C8D4E3\"}, \"line\": {\"color\": \"white\"}}, \"type\": \"table\"}]}, \"layout\": {\"annotationdefaults\": {\"arrowcolor\": \"#2a3f5f\", \"arrowhead\": 0, \"arrowwidth\": 1}, \"coloraxis\": {\"colorbar\": {\"outlinewidth\": 0, \"ticks\": \"\"}}, \"colorscale\": {\"diverging\": [[0, \"#8e0152\"], [0.1, \"#c51b7d\"], [0.2, \"#de77ae\"], [0.3, \"#f1b6da\"], [0.4, \"#fde0ef\"], [0.5, \"#f7f7f7\"], [0.6, \"#e6f5d0\"], [0.7, \"#b8e186\"], [0.8, \"#7fbc41\"], [0.9, \"#4d9221\"], [1, \"#276419\"]], \"sequential\": [[0.0, \"#0d0887\"], [0.1111111111111111, \"#46039f\"], [0.2222222222222222, \"#7201a8\"], [0.3333333333333333, \"#9c179e\"], [0.4444444444444444, \"#bd3786\"], [0.5555555555555556, \"#d8576b\"], [0.6666666666666666, \"#ed7953\"], [0.7777777777777778, \"#fb9f3a\"], [0.8888888888888888, \"#fdca26\"], [1.0, \"#f0f921\"]], \"sequentialminus\": [[0.0, \"#0d0887\"], [0.1111111111111111, \"#46039f\"], [0.2222222222222222, \"#7201a8\"], [0.3333333333333333, \"#9c179e\"], [0.4444444444444444, \"#bd3786\"], [0.5555555555555556, \"#d8576b\"], [0.6666666666666666, \"#ed7953\"], [0.7777777777777778, \"#fb9f3a\"], [0.8888888888888888, \"#fdca26\"], [1.0, \"#f0f921\"]]}, \"colorway\": [\"#636efa\", \"#EF553B\", \"#00cc96\", \"#ab63fa\", \"#FFA15A\", \"#19d3f3\", \"#FF6692\", \"#B6E880\", \"#FF97FF\", \"#FECB52\"], \"font\": {\"color\": \"#2a3f5f\"}, \"geo\": {\"bgcolor\": \"white\", \"lakecolor\": \"white\", \"landcolor\": \"#E5ECF6\", \"showlakes\": true, \"showland\": true, \"subunitcolor\": \"white\"}, \"hoverlabel\": {\"align\": \"left\"}, \"hovermode\": \"closest\", \"mapbox\": {\"style\": \"light\"}, \"paper_bgcolor\": \"white\", \"plot_bgcolor\": \"#E5ECF6\", \"polar\": {\"angularaxis\": {\"gridcolor\": \"white\", \"linecolor\": \"white\", \"ticks\": \"\"}, \"bgcolor\": \"#E5ECF6\", \"radialaxis\": {\"gridcolor\": \"white\", \"linecolor\": \"white\", \"ticks\": \"\"}}, \"scene\": {\"xaxis\": {\"backgroundcolor\": \"#E5ECF6\", \"gridcolor\": \"white\", \"gridwidth\": 2, \"linecolor\": \"white\", \"showbackground\": true, \"ticks\": \"\", \"zerolinecolor\": \"white\"}, \"yaxis\": {\"backgroundcolor\": \"#E5ECF6\", \"gridcolor\": \"white\", \"gridwidth\": 2, \"linecolor\": \"white\", \"showbackground\": true, \"ticks\": \"\", \"zerolinecolor\": \"white\"}, \"zaxis\": {\"backgroundcolor\": \"#E5ECF6\", \"gridcolor\": \"white\", \"gridwidth\": 2, \"linecolor\": \"white\", \"showbackground\": true, \"ticks\": \"\", \"zerolinecolor\": \"white\"}}, \"shapedefaults\": {\"line\": {\"color\": \"#2a3f5f\"}}, \"ternary\": {\"aaxis\": {\"gridcolor\": \"white\", \"linecolor\": \"white\", \"ticks\": \"\"}, \"baxis\": {\"gridcolor\": \"white\", \"linecolor\": \"white\", \"ticks\": \"\"}, \"bgcolor\": \"#E5ECF6\", \"caxis\": {\"gridcolor\": \"white\", \"linecolor\": \"white\", \"ticks\": \"\"}}, \"title\": {\"x\": 0.05}, \"xaxis\": {\"automargin\": true, \"gridcolor\": \"white\", \"linecolor\": \"white\", \"ticks\": \"\", \"title\": {\"standoff\": 15}, \"zerolinecolor\": \"white\", \"zerolinewidth\": 2}, \"yaxis\": {\"automargin\": true, \"gridcolor\": \"white\", \"linecolor\": \"white\", \"ticks\": \"\", \"title\": {\"standoff\": 15}, \"zerolinecolor\": \"white\", \"zerolinewidth\": 2}}}, \"xaxis\": {\"anchor\": \"y\", \"domain\": [0.0, 1.0]}, \"yaxis\": {\"anchor\": \"x\", \"domain\": [0.0, 1.0], \"title\": {\"text\": \"Total Business Value\"}}},\n",
              "                        {\"responsive\": true}\n",
              "                    ).then(function(){\n",
              "                            \n",
              "var gd = document.getElementById('3c1387fa-15c7-48f2-982f-18e135f56bd8');\n",
              "var x = new MutationObserver(function (mutations, observer) {{\n",
              "        var display = window.getComputedStyle(gd).display;\n",
              "        if (!display || display === 'none') {{\n",
              "            console.log([gd, 'removed!']);\n",
              "            Plotly.purge(gd);\n",
              "            observer.disconnect();\n",
              "        }}\n",
              "}});\n",
              "\n",
              "// Listen for the removal of the full notebook cells\n",
              "var notebookContainer = gd.closest('#notebook-container');\n",
              "if (notebookContainer) {{\n",
              "    x.observe(notebookContainer, {childList: true});\n",
              "}}\n",
              "\n",
              "// Listen for the clearing of the current output cell\n",
              "var outputEl = gd.closest('.output');\n",
              "if (outputEl) {{\n",
              "    x.observe(outputEl, {childList: true});\n",
              "}}\n",
              "\n",
              "                        })\n",
              "                };\n",
              "                \n",
              "            </script>\n",
              "        </div>\n",
              "</body>\n",
              "</html>"
            ]
          },
          "metadata": {
            "tags": []
          }
        }
      ]
    },
    {
      "cell_type": "markdown",
      "metadata": {
        "id": "UFtolvPdAi1V"
      },
      "source": [
        "### Gender (0-male, 1-female)"
      ]
    },
    {
      "cell_type": "code",
      "metadata": {
        "colab": {
          "base_uri": "https://localhost:8080/",
          "height": 0
        },
        "id": "r53OsgmS-GWr",
        "outputId": "7d272737-21f0-49b9-a388-5019e563a81b"
      },
      "source": [
        "plot_graphs(train_pivot, 'Gender_category')"
      ],
      "execution_count": 988,
      "outputs": [
        {
          "output_type": "display_data",
          "data": {
            "text/html": [
              "<html>\n",
              "<head><meta charset=\"utf-8\" /></head>\n",
              "<body>\n",
              "    <div>\n",
              "            <script src=\"https://cdnjs.cloudflare.com/ajax/libs/mathjax/2.7.5/MathJax.js?config=TeX-AMS-MML_SVG\"></script><script type=\"text/javascript\">if (window.MathJax) {MathJax.Hub.Config({SVG: {font: \"STIX-Web\"}});}</script>\n",
              "                <script type=\"text/javascript\">window.PlotlyConfig = {MathJaxConfig: 'local'};</script>\n",
              "        <script src=\"https://cdn.plot.ly/plotly-latest.min.js\"></script>    \n",
              "            <div id=\"7e7819ab-55ad-4b62-9f40-38d2620564fb\" class=\"plotly-graph-div\" style=\"height:525px; width:100%;\"></div>\n",
              "            <script type=\"text/javascript\">\n",
              "                \n",
              "                    window.PLOTLYENV=window.PLOTLYENV || {};\n",
              "                    \n",
              "                if (document.getElementById(\"7e7819ab-55ad-4b62-9f40-38d2620564fb\")) {\n",
              "                    Plotly.newPlot(\n",
              "                        '7e7819ab-55ad-4b62-9f40-38d2620564fb',\n",
              "                        [{\"alignmentgroup\": \"True\", \"bingroup\": \"x\", \"hoverlabel\": {\"namelength\": 0}, \"hovertemplate\": \"left=False<br>Gender_category=%{x}<br>count=%{y}\", \"legendgroup\": \"left=False\", \"marker\": {\"color\": \"rgb(102, 197, 204)\"}, \"name\": \"left=False\", \"offsetgroup\": \"left=False\", \"orientation\": \"v\", \"showlegend\": true, \"type\": \"histogram\", \"x\": [0.0, 1.0, 1.0, 1.0, 0.0, 0.0, 1.0, 0.0, 0.0, 0.0, 0.0, 0.0, 0.0, 1.0, 1.0, 0.0, 0.0, 0.0, 0.0, 0.0, 0.0, 0.0, 1.0, 0.0, 0.0, 1.0, 1.0, 1.0, 0.0, 1.0, 0.0, 1.0, 0.0, 1.0, 0.0, 0.0, 0.0, 0.0, 0.0, 0.0, 0.0, 0.0, 1.0, 0.0, 1.0, 1.0, 0.0, 0.0, 0.0, 1.0, 0.0, 0.0, 0.0, 1.0, 1.0, 1.0, 0.0, 0.0, 0.0, 0.0, 0.0, 0.0, 0.0, 0.0, 0.0, 0.0, 0.0, 1.0, 1.0, 1.0, 1.0, 0.0, 0.0, 1.0, 0.0, 1.0, 0.0, 1.0, 1.0, 1.0, 1.0, 0.0, 1.0, 0.0, 1.0, 0.0, 1.0, 1.0, 0.0, 0.0, 1.0, 0.0, 1.0, 0.0, 0.0, 1.0, 0.0, 0.0, 0.0, 0.0, 0.0, 1.0, 0.0, 0.0, 1.0, 0.0, 0.0, 0.0, 0.0, 1.0, 0.0, 0.0, 1.0, 1.0, 0.0, 0.0, 0.0, 0.0, 1.0, 1.0, 0.0, 0.0, 0.0, 1.0, 0.0, 0.0, 0.0, 0.0, 1.0, 1.0, 0.0, 0.0, 1.0, 1.0, 0.0, 1.0, 0.0, 0.0, 1.0, 0.0, 0.0, 1.0, 0.0, 1.0, 0.0, 0.0, 0.0, 0.0, 0.0, 1.0, 1.0, 0.0, 0.0, 1.0, 0.0, 1.0, 0.0, 0.0, 1.0, 0.0, 0.0, 0.0, 0.0, 0.0, 1.0, 1.0, 1.0, 0.0, 1.0, 0.0, 1.0, 0.0, 1.0, 0.0, 1.0, 0.0, 0.0, 1.0, 1.0, 1.0, 0.0, 1.0, 1.0, 1.0, 0.0, 0.0, 0.0, 0.0, 0.0, 0.0, 0.0, 0.0, 1.0, 1.0, 1.0, 0.0, 0.0, 1.0, 0.0, 0.0, 0.0, 0.0, 0.0, 0.0, 0.0, 0.0, 0.0, 0.0, 0.0, 0.0, 0.0, 0.0, 0.0, 0.0, 1.0, 1.0, 0.0, 0.0, 1.0, 0.0, 0.0, 0.0, 0.0, 0.0, 0.0, 1.0, 1.0, 0.0, 0.0, 1.0, 0.0, 1.0, 1.0, 1.0, 0.0, 0.0, 1.0, 0.0, 0.0, 0.0, 0.0, 1.0, 1.0, 0.0, 1.0, 0.0, 0.0, 1.0, 1.0, 1.0, 1.0, 1.0, 1.0, 1.0, 0.0, 0.0, 1.0, 0.0, 1.0, 1.0, 0.0, 0.0, 1.0, 0.0, 0.0, 1.0, 0.0, 0.0, 0.0, 0.0, 1.0, 1.0, 0.0, 0.0, 1.0, 0.0, 0.0, 1.0, 0.0, 0.0, 1.0, 1.0, 0.0, 0.0, 1.0, 0.0, 0.0, 0.0, 0.0, 1.0, 0.0, 0.0, 1.0, 1.0, 1.0, 0.0, 0.0, 0.0, 0.0, 0.0, 1.0, 0.0, 0.0, 0.0, 0.0, 0.0, 1.0, 0.0, 0.0, 1.0, 0.0, 1.0, 0.0, 0.0, 0.0, 1.0, 1.0, 1.0, 0.0, 0.0, 1.0, 1.0, 1.0, 0.0, 0.0, 0.0, 0.0, 1.0, 0.0, 0.0, 0.0, 1.0, 1.0, 1.0, 0.0, 0.0, 1.0, 1.0, 0.0, 0.0, 0.0, 0.0, 1.0, 0.0, 0.0, 0.0, 0.0, 1.0, 1.0, 1.0, 1.0, 1.0, 0.0, 0.0, 1.0, 0.0, 0.0, 0.0, 0.0, 0.0, 0.0, 1.0, 1.0, 0.0, 0.0, 1.0, 1.0, 0.0, 1.0, 0.0, 1.0, 0.0, 0.0, 0.0, 1.0, 1.0, 0.0, 0.0, 0.0, 0.0, 0.0, 0.0, 1.0, 1.0, 0.0, 0.0, 1.0, 1.0, 0.0, 1.0, 1.0, 0.0, 0.0, 1.0, 1.0, 0.0, 0.0, 0.0, 0.0, 0.0, 0.0, 0.0, 1.0, 0.0, 1.0, 1.0, 0.0, 0.0, 0.0, 1.0, 0.0, 0.0, 0.0, 0.0, 1.0, 1.0, 0.0, 0.0, 1.0, 0.0, 0.0, 0.0, 1.0, 0.0, 1.0, 0.0, 1.0, 0.0, 1.0, 0.0, 1.0, 0.0, 1.0, 0.0, 0.0, 1.0, 0.0, 1.0, 0.0, 1.0, 0.0, 0.0, 0.0, 0.0, 1.0, 1.0, 1.0, 1.0, 0.0, 1.0, 1.0, 0.0, 1.0, 0.0, 1.0, 1.0, 0.0, 1.0, 1.0, 1.0, 0.0, 0.0, 0.0, 1.0, 1.0, 0.0, 1.0, 0.0, 0.0, 0.0, 0.0, 0.0, 0.0, 1.0, 0.0, 0.0, 1.0, 0.0, 0.0, 0.0, 1.0, 1.0, 0.0, 1.0, 0.0, 0.0, 1.0, 1.0, 0.0, 0.0, 0.0, 0.0, 0.0, 1.0, 0.0, 1.0, 0.0, 0.0, 0.0, 1.0, 0.0, 0.0, 1.0, 0.0, 0.0, 1.0, 0.0, 1.0, 1.0, 0.0, 1.0, 0.0, 1.0, 1.0, 0.0, 1.0, 0.0, 0.0, 1.0, 1.0, 0.0, 0.0, 0.0, 0.0, 0.0, 1.0, 1.0, 0.0, 0.0, 0.0, 0.0, 1.0, 1.0, 0.0, 1.0, 1.0, 0.0, 1.0, 1.0, 0.0, 1.0, 0.0, 1.0, 1.0, 1.0, 0.0, 1.0, 0.0, 0.0, 0.0, 0.0, 1.0, 0.0, 0.0, 1.0, 1.0, 0.0, 0.0, 1.0, 0.0, 0.0, 0.0, 0.0, 1.0, 0.0, 0.0, 1.0, 0.0, 1.0, 1.0, 0.0, 0.0, 1.0, 1.0, 1.0, 0.0, 1.0, 1.0, 1.0, 1.0, 1.0, 0.0, 0.0, 0.0, 1.0, 0.0, 0.0, 0.0, 1.0, 0.0, 0.0, 1.0, 0.0, 1.0, 1.0, 0.0, 0.0, 1.0, 0.0, 0.0, 1.0, 0.0, 1.0, 1.0, 0.0, 0.0, 1.0, 1.0, 0.0, 1.0, 1.0, 0.0, 1.0, 1.0, 0.0, 1.0, 1.0, 0.0, 0.0, 0.0, 1.0, 1.0, 1.0, 1.0, 1.0, 0.0, 0.0, 0.0, 1.0, 1.0, 1.0, 1.0, 1.0, 0.0, 1.0, 0.0, 0.0, 0.0, 0.0, 1.0, 1.0, 1.0, 0.0, 1.0, 0.0, 0.0, 1.0, 0.0, 1.0, 0.0, 0.0, 0.0, 1.0, 1.0, 1.0, 0.0, 0.0, 1.0, 1.0, 1.0, 0.0, 1.0, 0.0, 0.0, 1.0, 0.0, 0.0, 0.0, 1.0, 0.0, 1.0, 0.0, 1.0, 0.0, 1.0, 0.0, 1.0, 0.0, 0.0, 0.0, 0.0, 1.0, 1.0, 0.0, 0.0, 1.0, 0.0, 1.0, 0.0, 0.0, 0.0, 0.0, 1.0, 1.0, 0.0, 0.0, 1.0, 0.0, 1.0, 0.0, 1.0, 0.0, 1.0, 1.0, 1.0, 0.0, 0.0, 0.0, 1.0, 0.0, 1.0, 1.0, 1.0, 0.0, 0.0, 0.0, 0.0, 0.0, 1.0, 0.0, 1.0, 0.0, 0.0, 1.0, 1.0, 0.0, 1.0, 0.0, 0.0, 1.0, 0.0, 0.0, 1.0, 1.0, 0.0, 0.0, 0.0, 0.0, 0.0, 0.0, 0.0], \"xaxis\": \"x\", \"yaxis\": \"y\"}, {\"alignmentgroup\": \"True\", \"bingroup\": \"x\", \"hoverlabel\": {\"namelength\": 0}, \"hovertemplate\": \"left=True<br>Gender_category=%{x}<br>count=%{y}\", \"legendgroup\": \"left=True\", \"marker\": {\"color\": \"rgb(246, 207, 113)\"}, \"name\": \"left=True\", \"offsetgroup\": \"left=True\", \"orientation\": \"v\", \"showlegend\": true, \"type\": \"histogram\", \"x\": [0.0, 0.0, 0.0, 0.0, 0.0, 0.0, 1.0, 0.0, 1.0, 1.0, 1.0, 0.0, 0.0, 0.0, 0.0, 1.0, 0.0, 1.0, 1.0, 0.0, 0.0, 1.0, 1.0, 0.0, 1.0, 0.0, 1.0, 0.0, 1.0, 1.0, 0.0, 1.0, 0.0, 0.0, 1.0, 1.0, 0.0, 0.0, 1.0, 1.0, 0.0, 0.0, 1.0, 0.0, 0.0, 0.0, 1.0, 0.0, 0.0, 0.0, 0.0, 1.0, 0.0, 0.0, 0.0, 0.0, 1.0, 1.0, 0.0, 1.0, 0.0, 0.0, 1.0, 0.0, 1.0, 0.0, 1.0, 1.0, 0.0, 1.0, 0.0, 1.0, 0.0, 0.0, 1.0, 0.0, 1.0, 1.0, 0.0, 0.0, 0.0, 0.0, 0.0, 0.0, 0.0, 0.0, 1.0, 0.0, 0.0, 1.0, 0.0, 0.0, 1.0, 0.0, 1.0, 0.0, 0.0, 0.0, 1.0, 1.0, 0.0, 0.0, 0.0, 1.0, 1.0, 1.0, 0.0, 0.0, 0.0, 1.0, 1.0, 0.0, 0.0, 1.0, 1.0, 0.0, 0.0, 1.0, 0.0, 0.0, 0.0, 0.0, 0.0, 0.0, 1.0, 1.0, 1.0, 0.0, 0.0, 1.0, 1.0, 0.0, 0.0, 0.0, 1.0, 0.0, 0.0, 0.0, 1.0, 1.0, 0.0, 0.0, 0.0, 0.0, 0.0, 1.0, 0.0, 0.0, 0.0, 0.0, 0.0, 0.0, 1.0, 0.0, 0.0, 0.0, 1.0, 1.0, 0.0, 0.0, 1.0, 0.0, 0.0, 1.0, 1.0, 1.0, 0.0, 1.0, 1.0, 1.0, 1.0, 1.0, 1.0, 1.0, 0.0, 1.0, 0.0, 0.0, 0.0, 0.0, 1.0, 1.0, 0.0, 0.0, 1.0, 0.0, 1.0, 1.0, 0.0, 0.0, 0.0, 1.0, 1.0, 0.0, 1.0, 1.0, 0.0, 1.0, 0.0, 0.0, 0.0, 0.0, 0.0, 1.0, 1.0, 0.0, 0.0, 0.0, 1.0, 1.0, 0.0, 1.0, 0.0, 0.0, 0.0, 1.0, 0.0, 1.0, 1.0, 0.0, 1.0, 1.0, 1.0, 1.0, 1.0, 1.0, 0.0, 0.0, 1.0, 0.0, 0.0, 0.0, 0.0, 1.0, 1.0, 1.0, 0.0, 0.0, 0.0, 0.0, 0.0, 0.0, 0.0, 0.0, 0.0, 0.0, 0.0, 0.0, 1.0, 0.0, 0.0, 1.0, 0.0, 1.0, 0.0, 1.0, 1.0, 1.0, 1.0, 0.0, 0.0, 1.0, 1.0, 0.0, 0.0, 0.0, 0.0, 1.0, 0.0, 0.0, 1.0, 0.0, 1.0, 1.0, 0.0, 0.0, 1.0, 1.0, 0.0, 0.0, 1.0, 0.0, 1.0, 0.0, 1.0, 0.0, 0.0, 1.0, 1.0, 0.0, 0.0, 1.0, 1.0, 1.0, 1.0, 1.0, 0.0, 1.0, 0.0, 0.0, 0.0, 0.0, 0.0, 1.0, 0.0, 0.0, 0.0, 0.0, 0.0, 0.0, 0.0, 0.0, 1.0, 1.0, 0.0, 0.0, 0.0, 1.0, 1.0, 1.0, 0.0, 0.0, 1.0, 0.0, 0.0, 1.0, 1.0, 0.0, 1.0, 1.0, 1.0, 1.0, 0.0, 0.0, 1.0, 0.0, 1.0, 0.0, 0.0, 1.0, 1.0, 0.0, 1.0, 1.0, 1.0, 0.0, 1.0, 0.0, 0.0, 1.0, 1.0, 0.0, 0.0, 0.0, 1.0, 1.0, 1.0, 0.0, 0.0, 0.0, 1.0, 1.0, 1.0, 0.0, 1.0, 0.0, 1.0, 0.0, 0.0, 1.0, 1.0, 0.0, 0.0, 1.0, 0.0, 0.0, 1.0, 1.0, 1.0, 1.0, 1.0, 1.0, 0.0, 1.0, 1.0, 1.0, 1.0, 0.0, 1.0, 0.0, 1.0, 1.0, 1.0, 1.0, 0.0, 0.0, 0.0, 1.0, 1.0, 0.0, 0.0, 0.0, 1.0, 0.0, 1.0, 0.0, 0.0, 1.0, 1.0, 1.0, 0.0, 1.0, 0.0, 0.0, 0.0, 1.0, 1.0, 0.0, 0.0, 0.0, 0.0, 1.0, 1.0, 1.0, 0.0, 0.0, 1.0, 1.0, 0.0, 1.0, 1.0, 0.0, 0.0, 0.0, 0.0, 1.0, 0.0, 0.0, 0.0, 0.0, 1.0, 0.0, 0.0, 0.0, 0.0, 1.0, 0.0, 0.0, 0.0, 1.0, 1.0, 0.0, 1.0, 1.0, 0.0, 0.0, 1.0, 0.0, 0.0, 0.0, 1.0, 0.0, 1.0, 0.0, 1.0, 0.0, 0.0, 0.0, 1.0, 0.0, 0.0, 0.0, 1.0, 0.0, 1.0, 0.0, 0.0, 0.0, 1.0, 1.0, 0.0, 1.0, 0.0, 1.0, 0.0, 1.0, 0.0, 1.0, 0.0, 0.0, 0.0, 0.0, 0.0, 1.0, 0.0, 1.0, 1.0, 0.0, 0.0, 1.0, 0.0, 0.0, 1.0, 0.0, 1.0, 0.0, 0.0, 0.0, 0.0, 1.0, 0.0, 0.0, 0.0, 1.0, 1.0, 1.0, 1.0, 1.0, 0.0, 0.0, 1.0, 0.0, 1.0, 1.0, 1.0, 0.0, 1.0, 1.0, 1.0, 1.0, 0.0, 1.0, 1.0, 1.0, 1.0, 0.0, 0.0, 0.0, 0.0, 1.0, 0.0, 0.0, 0.0, 0.0, 0.0, 0.0, 0.0, 0.0, 1.0, 1.0, 1.0, 0.0, 1.0, 0.0, 0.0, 0.0, 0.0, 0.0, 0.0, 0.0, 0.0, 1.0, 1.0, 0.0, 0.0, 0.0, 1.0, 0.0, 0.0, 1.0, 1.0, 0.0, 0.0, 1.0, 1.0, 0.0, 0.0, 0.0, 1.0, 1.0, 0.0, 0.0, 0.0, 1.0, 1.0, 0.0, 0.0, 1.0, 0.0, 1.0, 0.0, 0.0, 1.0, 0.0, 0.0, 0.0, 1.0, 0.0, 0.0, 0.0, 0.0, 1.0, 0.0, 0.0, 0.0, 0.0, 0.0, 1.0, 1.0, 1.0, 0.0, 1.0, 0.0, 0.0, 1.0, 1.0, 1.0, 1.0, 0.0, 0.0, 0.0, 0.0, 0.0, 1.0, 0.0, 0.0, 0.0, 1.0, 0.0, 0.0, 0.0, 1.0, 0.0, 0.0, 0.0, 1.0, 1.0, 0.0, 1.0, 0.0, 0.0, 0.0, 1.0, 0.0, 0.0, 1.0, 0.0, 1.0, 0.0, 1.0, 0.0, 1.0, 0.0, 1.0, 1.0, 0.0, 0.0, 0.0, 1.0, 1.0, 0.0, 0.0, 0.0, 1.0, 1.0, 0.0, 1.0, 0.0, 0.0, 1.0, 1.0, 0.0, 0.0, 0.0, 0.0, 1.0, 0.0, 0.0, 0.0, 0.0, 0.0, 1.0, 1.0, 0.0, 0.0, 0.0, 0.0, 0.0, 1.0, 0.0, 0.0, 1.0, 1.0, 1.0, 0.0, 1.0, 0.0, 1.0, 1.0, 1.0, 1.0, 0.0, 1.0, 1.0, 0.0, 0.0, 1.0, 1.0, 1.0, 1.0, 0.0, 0.0, 1.0, 1.0, 0.0, 0.0, 1.0, 0.0, 0.0, 0.0, 0.0, 1.0, 1.0, 0.0, 0.0, 1.0, 1.0, 1.0, 1.0, 0.0, 0.0, 0.0, 1.0, 0.0, 0.0, 0.0, 1.0, 0.0, 0.0, 1.0, 1.0, 0.0, 1.0, 1.0, 1.0, 0.0, 1.0, 0.0, 0.0, 1.0, 1.0, 0.0, 0.0, 0.0, 0.0, 0.0, 0.0, 1.0, 1.0, 0.0, 0.0, 0.0, 0.0, 0.0, 1.0, 1.0, 0.0, 0.0, 1.0, 0.0, 0.0, 1.0, 0.0, 1.0, 1.0, 0.0, 0.0, 1.0, 1.0, 0.0, 0.0, 0.0, 1.0, 0.0, 1.0, 0.0, 1.0, 1.0, 0.0, 1.0, 0.0, 0.0, 0.0, 1.0, 0.0, 0.0, 0.0, 0.0, 0.0, 0.0, 0.0, 1.0, 0.0, 0.0, 1.0, 1.0, 1.0, 1.0, 0.0, 1.0, 0.0, 0.0, 1.0, 1.0, 1.0, 1.0, 0.0, 0.0, 0.0, 0.0, 0.0, 1.0, 0.0, 0.0, 0.0, 1.0, 0.0, 0.0, 0.0, 0.0, 0.0, 1.0, 0.0, 0.0, 0.0, 0.0, 0.0, 1.0, 1.0, 1.0, 1.0, 0.0, 0.0, 1.0, 0.0, 0.0, 0.0, 1.0, 1.0, 0.0, 1.0, 1.0, 1.0, 0.0, 0.0, 0.0, 1.0, 1.0, 1.0, 0.0, 1.0, 1.0, 1.0, 1.0, 0.0, 0.0, 0.0, 1.0, 1.0, 0.0, 0.0, 0.0, 1.0, 0.0, 0.0, 1.0, 0.0, 1.0, 0.0, 1.0, 0.0, 0.0, 1.0, 0.0, 1.0, 1.0, 1.0, 0.0, 0.0, 1.0, 0.0, 0.0, 0.0, 0.0, 0.0, 1.0, 0.0, 0.0, 0.0, 1.0, 0.0, 1.0, 0.0, 1.0, 0.0, 0.0, 0.0, 1.0, 0.0, 0.0, 0.0, 1.0, 0.0, 1.0, 0.0, 0.0, 0.0, 0.0, 0.0, 0.0, 0.0, 0.0, 1.0, 0.0, 0.0, 1.0, 1.0, 0.0, 0.0, 1.0, 0.0, 0.0, 0.0, 0.0, 1.0, 0.0, 0.0, 1.0, 1.0, 0.0, 1.0, 0.0, 0.0, 0.0, 1.0, 1.0, 1.0, 1.0, 1.0, 1.0, 1.0, 0.0, 0.0, 1.0, 1.0, 0.0, 0.0, 0.0, 1.0, 0.0, 0.0, 1.0, 0.0, 1.0, 1.0, 1.0, 0.0, 1.0, 1.0, 0.0, 0.0, 1.0, 0.0, 1.0, 1.0, 0.0, 1.0, 0.0, 0.0, 0.0, 0.0, 1.0, 0.0, 1.0, 1.0, 0.0, 0.0, 0.0, 0.0, 0.0, 0.0, 1.0, 0.0, 0.0, 1.0, 1.0, 0.0, 1.0, 0.0, 1.0, 1.0, 0.0, 0.0, 0.0, 1.0, 0.0, 1.0, 1.0, 0.0, 0.0, 0.0, 0.0, 1.0, 0.0, 0.0, 1.0, 0.0, 0.0, 0.0, 0.0, 0.0, 0.0, 0.0, 0.0, 0.0, 0.0, 0.0, 1.0, 1.0, 0.0, 0.0, 1.0, 0.0, 0.0, 0.0, 0.0, 1.0, 0.0, 0.0, 0.0, 1.0, 1.0, 0.0, 1.0, 0.0, 1.0, 1.0, 0.0, 0.0, 1.0, 1.0, 0.0, 0.0, 0.0, 1.0, 0.0, 0.0, 1.0, 0.0, 0.0, 0.0, 1.0, 1.0, 1.0, 0.0, 1.0, 1.0, 0.0, 0.0, 1.0, 0.0, 0.0, 1.0, 1.0, 1.0, 0.0, 1.0, 0.0, 0.0, 0.0, 0.0, 0.0, 1.0, 0.0, 0.0, 0.0, 1.0, 1.0, 1.0, 1.0, 0.0, 1.0, 0.0, 0.0, 0.0, 0.0, 0.0, 0.0, 0.0, 1.0, 1.0, 0.0, 0.0, 0.0, 0.0, 1.0, 1.0, 1.0, 1.0, 1.0, 0.0, 1.0, 1.0, 0.0, 0.0, 0.0, 0.0, 1.0, 0.0, 0.0, 0.0, 0.0, 1.0, 1.0, 0.0, 0.0, 1.0, 0.0, 0.0, 0.0, 0.0, 0.0, 1.0, 0.0, 0.0, 0.0, 0.0, 0.0, 0.0, 0.0, 1.0, 0.0, 1.0, 0.0, 1.0, 1.0, 0.0, 1.0, 1.0, 1.0, 0.0, 1.0, 0.0, 0.0, 0.0, 1.0, 0.0, 0.0, 1.0, 0.0, 0.0, 1.0, 0.0, 1.0, 0.0, 1.0, 0.0, 0.0, 0.0, 0.0, 0.0, 1.0, 1.0, 0.0, 0.0, 1.0, 1.0, 1.0, 0.0, 0.0, 0.0, 1.0, 1.0, 1.0, 0.0, 1.0, 1.0, 0.0, 0.0, 1.0, 1.0, 1.0, 0.0, 0.0, 0.0, 0.0, 0.0, 0.0, 0.0, 0.0, 0.0, 0.0, 0.0, 0.0, 1.0, 1.0, 1.0, 0.0, 1.0, 0.0, 0.0, 1.0, 1.0, 0.0, 1.0, 0.0, 1.0, 1.0, 1.0, 0.0, 1.0, 0.0, 0.0, 0.0, 0.0, 0.0, 1.0, 0.0, 1.0, 0.0, 0.0, 0.0, 1.0, 0.0, 0.0, 1.0, 1.0, 1.0, 0.0, 0.0, 0.0, 0.0, 1.0, 0.0, 0.0, 0.0, 0.0, 0.0, 0.0, 0.0, 0.0, 0.0, 0.0, 1.0, 1.0, 1.0, 1.0, 0.0, 0.0, 0.0, 1.0, 0.0, 1.0, 1.0, 0.0, 1.0, 0.0, 0.0, 1.0, 0.0, 1.0, 0.0, 0.0, 0.0, 1.0, 0.0, 0.0, 0.0, 1.0, 0.0, 1.0, 0.0, 1.0, 1.0, 1.0, 1.0, 0.0, 0.0, 0.0, 1.0, 1.0, 1.0, 1.0, 1.0, 0.0, 1.0, 0.0, 0.0, 0.0, 1.0, 1.0, 1.0, 0.0, 1.0, 0.0, 0.0, 1.0, 1.0, 0.0, 1.0, 0.0, 1.0, 1.0, 1.0, 0.0, 1.0, 0.0, 1.0, 0.0, 0.0, 1.0, 0.0, 0.0, 0.0, 1.0, 1.0, 0.0, 1.0, 1.0, 0.0, 0.0, 0.0, 1.0, 0.0, 1.0, 1.0, 1.0, 1.0, 1.0, 0.0, 0.0, 0.0, 0.0, 0.0, 0.0, 1.0, 0.0, 0.0, 0.0, 0.0, 1.0, 0.0, 0.0, 1.0, 1.0, 1.0, 0.0, 1.0, 1.0, 0.0, 0.0, 0.0, 1.0, 0.0, 1.0, 0.0, 1.0, 0.0, 1.0, 1.0, 1.0, 0.0, 1.0, 0.0, 1.0, 1.0, 0.0, 0.0, 0.0, 0.0, 0.0, 0.0, 0.0, 1.0, 0.0, 0.0, 0.0, 1.0, 1.0, 0.0, 0.0, 0.0, 1.0, 0.0, 0.0, 1.0, 0.0, 0.0, 1.0, 1.0, 0.0, 1.0, 0.0, 1.0, 1.0, 0.0, 0.0, 0.0, 0.0, 0.0, 1.0, 0.0, 0.0, 0.0, 0.0, 1.0, 1.0, 0.0, 0.0, 1.0, 0.0, 0.0, 0.0, 0.0, 0.0, 0.0, 0.0, 1.0, 1.0, 0.0, 0.0, 0.0, 1.0, 0.0, 1.0, 1.0, 0.0, 1.0, 1.0, 1.0, 0.0, 1.0, 1.0, 1.0, 1.0, 0.0, 0.0, 0.0, 1.0, 0.0, 0.0, 0.0, 0.0, 1.0, 0.0, 1.0, 0.0, 1.0, 0.0, 1.0, 0.0, 0.0, 1.0, 1.0, 0.0, 0.0, 0.0, 1.0, 1.0, 0.0, 1.0, 0.0, 0.0, 0.0, 0.0, 0.0, 0.0, 0.0, 1.0, 1.0, 0.0, 0.0, 0.0, 1.0, 0.0, 1.0, 0.0, 0.0, 1.0, 1.0, 1.0, 0.0, 0.0, 0.0, 1.0, 0.0, 1.0, 0.0, 1.0, 0.0, 0.0, 1.0, 1.0, 0.0, 0.0, 0.0, 0.0, 1.0, 0.0, 1.0, 0.0, 0.0, 1.0, 1.0, 1.0, 1.0, 0.0, 0.0, 1.0, 0.0, 0.0, 0.0, 0.0, 1.0, 0.0, 0.0, 0.0, 0.0, 0.0, 0.0, 0.0, 0.0, 1.0, 0.0, 1.0, 1.0, 1.0, 0.0, 1.0, 0.0, 0.0, 1.0, 1.0, 0.0, 0.0, 0.0, 0.0, 0.0, 1.0, 0.0, 1.0, 0.0, 0.0, 1.0, 0.0, 1.0, 0.0, 0.0, 0.0, 0.0, 0.0, 0.0, 0.0, 0.0, 0.0, 1.0, 0.0, 1.0, 1.0, 1.0, 1.0, 1.0, 0.0, 1.0, 0.0, 1.0, 1.0, 0.0, 1.0, 1.0, 0.0, 1.0, 0.0, 1.0, 1.0, 0.0, 0.0, 0.0, 1.0, 0.0, 1.0, 1.0, 0.0, 0.0, 0.0, 0.0, 0.0, 0.0, 1.0, 0.0, 0.0, 1.0, 1.0, 1.0, 0.0, 0.0, 1.0, 0.0, 0.0, 1.0, 0.0, 1.0], \"xaxis\": \"x\", \"yaxis\": \"y\"}],\n",
              "                        {\"barmode\": \"relative\", \"legend\": {\"tracegroupgap\": 0}, \"template\": {\"data\": {\"bar\": [{\"error_x\": {\"color\": \"#2a3f5f\"}, \"error_y\": {\"color\": \"#2a3f5f\"}, \"marker\": {\"line\": {\"color\": \"#E5ECF6\", \"width\": 0.5}}, \"type\": \"bar\"}], \"barpolar\": [{\"marker\": {\"line\": {\"color\": \"#E5ECF6\", \"width\": 0.5}}, \"type\": \"barpolar\"}], \"carpet\": [{\"aaxis\": {\"endlinecolor\": \"#2a3f5f\", \"gridcolor\": \"white\", \"linecolor\": \"white\", \"minorgridcolor\": \"white\", \"startlinecolor\": \"#2a3f5f\"}, \"baxis\": {\"endlinecolor\": \"#2a3f5f\", \"gridcolor\": \"white\", \"linecolor\": \"white\", \"minorgridcolor\": \"white\", \"startlinecolor\": \"#2a3f5f\"}, \"type\": \"carpet\"}], \"choropleth\": [{\"colorbar\": {\"outlinewidth\": 0, \"ticks\": \"\"}, \"type\": \"choropleth\"}], \"contour\": [{\"colorbar\": {\"outlinewidth\": 0, \"ticks\": \"\"}, \"colorscale\": [[0.0, \"#0d0887\"], [0.1111111111111111, \"#46039f\"], [0.2222222222222222, \"#7201a8\"], [0.3333333333333333, \"#9c179e\"], [0.4444444444444444, \"#bd3786\"], [0.5555555555555556, \"#d8576b\"], [0.6666666666666666, \"#ed7953\"], [0.7777777777777778, \"#fb9f3a\"], [0.8888888888888888, \"#fdca26\"], [1.0, \"#f0f921\"]], \"type\": \"contour\"}], \"contourcarpet\": [{\"colorbar\": {\"outlinewidth\": 0, \"ticks\": \"\"}, \"type\": \"contourcarpet\"}], \"heatmap\": [{\"colorbar\": {\"outlinewidth\": 0, \"ticks\": \"\"}, \"colorscale\": [[0.0, \"#0d0887\"], [0.1111111111111111, \"#46039f\"], [0.2222222222222222, \"#7201a8\"], [0.3333333333333333, \"#9c179e\"], [0.4444444444444444, \"#bd3786\"], [0.5555555555555556, \"#d8576b\"], [0.6666666666666666, \"#ed7953\"], [0.7777777777777778, \"#fb9f3a\"], [0.8888888888888888, \"#fdca26\"], [1.0, \"#f0f921\"]], \"type\": \"heatmap\"}], \"heatmapgl\": [{\"colorbar\": {\"outlinewidth\": 0, \"ticks\": \"\"}, \"colorscale\": [[0.0, \"#0d0887\"], [0.1111111111111111, \"#46039f\"], [0.2222222222222222, \"#7201a8\"], [0.3333333333333333, \"#9c179e\"], [0.4444444444444444, \"#bd3786\"], [0.5555555555555556, \"#d8576b\"], [0.6666666666666666, \"#ed7953\"], [0.7777777777777778, \"#fb9f3a\"], [0.8888888888888888, \"#fdca26\"], [1.0, \"#f0f921\"]], \"type\": \"heatmapgl\"}], \"histogram\": [{\"marker\": {\"colorbar\": {\"outlinewidth\": 0, \"ticks\": \"\"}}, \"type\": \"histogram\"}], \"histogram2d\": [{\"colorbar\": {\"outlinewidth\": 0, \"ticks\": \"\"}, \"colorscale\": [[0.0, \"#0d0887\"], [0.1111111111111111, \"#46039f\"], [0.2222222222222222, \"#7201a8\"], [0.3333333333333333, \"#9c179e\"], [0.4444444444444444, \"#bd3786\"], [0.5555555555555556, \"#d8576b\"], [0.6666666666666666, \"#ed7953\"], [0.7777777777777778, \"#fb9f3a\"], [0.8888888888888888, \"#fdca26\"], [1.0, \"#f0f921\"]], \"type\": \"histogram2d\"}], \"histogram2dcontour\": [{\"colorbar\": {\"outlinewidth\": 0, \"ticks\": \"\"}, \"colorscale\": [[0.0, \"#0d0887\"], [0.1111111111111111, \"#46039f\"], [0.2222222222222222, \"#7201a8\"], [0.3333333333333333, \"#9c179e\"], [0.4444444444444444, \"#bd3786\"], [0.5555555555555556, \"#d8576b\"], [0.6666666666666666, \"#ed7953\"], [0.7777777777777778, \"#fb9f3a\"], [0.8888888888888888, \"#fdca26\"], [1.0, \"#f0f921\"]], \"type\": \"histogram2dcontour\"}], \"mesh3d\": [{\"colorbar\": {\"outlinewidth\": 0, \"ticks\": \"\"}, \"type\": \"mesh3d\"}], \"parcoords\": [{\"line\": {\"colorbar\": {\"outlinewidth\": 0, \"ticks\": \"\"}}, \"type\": \"parcoords\"}], \"pie\": [{\"automargin\": true, \"type\": \"pie\"}], \"scatter\": [{\"marker\": {\"colorbar\": {\"outlinewidth\": 0, \"ticks\": \"\"}}, \"type\": \"scatter\"}], \"scatter3d\": [{\"line\": {\"colorbar\": {\"outlinewidth\": 0, \"ticks\": \"\"}}, \"marker\": {\"colorbar\": {\"outlinewidth\": 0, \"ticks\": \"\"}}, \"type\": \"scatter3d\"}], \"scattercarpet\": [{\"marker\": {\"colorbar\": {\"outlinewidth\": 0, \"ticks\": \"\"}}, \"type\": \"scattercarpet\"}], \"scattergeo\": [{\"marker\": {\"colorbar\": {\"outlinewidth\": 0, \"ticks\": \"\"}}, \"type\": \"scattergeo\"}], \"scattergl\": [{\"marker\": {\"colorbar\": {\"outlinewidth\": 0, \"ticks\": \"\"}}, \"type\": \"scattergl\"}], \"scattermapbox\": [{\"marker\": {\"colorbar\": {\"outlinewidth\": 0, \"ticks\": \"\"}}, \"type\": \"scattermapbox\"}], \"scatterpolar\": [{\"marker\": {\"colorbar\": {\"outlinewidth\": 0, \"ticks\": \"\"}}, \"type\": \"scatterpolar\"}], \"scatterpolargl\": [{\"marker\": {\"colorbar\": {\"outlinewidth\": 0, \"ticks\": \"\"}}, \"type\": \"scatterpolargl\"}], \"scatterternary\": [{\"marker\": {\"colorbar\": {\"outlinewidth\": 0, \"ticks\": \"\"}}, \"type\": \"scatterternary\"}], \"surface\": [{\"colorbar\": {\"outlinewidth\": 0, \"ticks\": \"\"}, \"colorscale\": [[0.0, \"#0d0887\"], [0.1111111111111111, \"#46039f\"], [0.2222222222222222, \"#7201a8\"], [0.3333333333333333, \"#9c179e\"], [0.4444444444444444, \"#bd3786\"], [0.5555555555555556, \"#d8576b\"], [0.6666666666666666, \"#ed7953\"], [0.7777777777777778, \"#fb9f3a\"], [0.8888888888888888, \"#fdca26\"], [1.0, \"#f0f921\"]], \"type\": \"surface\"}], \"table\": [{\"cells\": {\"fill\": {\"color\": \"#EBF0F8\"}, \"line\": {\"color\": \"white\"}}, \"header\": {\"fill\": {\"color\": \"#C8D4E3\"}, \"line\": {\"color\": \"white\"}}, \"type\": \"table\"}]}, \"layout\": {\"annotationdefaults\": {\"arrowcolor\": \"#2a3f5f\", \"arrowhead\": 0, \"arrowwidth\": 1}, \"coloraxis\": {\"colorbar\": {\"outlinewidth\": 0, \"ticks\": \"\"}}, \"colorscale\": {\"diverging\": [[0, \"#8e0152\"], [0.1, \"#c51b7d\"], [0.2, \"#de77ae\"], [0.3, \"#f1b6da\"], [0.4, \"#fde0ef\"], [0.5, \"#f7f7f7\"], [0.6, \"#e6f5d0\"], [0.7, \"#b8e186\"], [0.8, \"#7fbc41\"], [0.9, \"#4d9221\"], [1, \"#276419\"]], \"sequential\": [[0.0, \"#0d0887\"], [0.1111111111111111, \"#46039f\"], [0.2222222222222222, \"#7201a8\"], [0.3333333333333333, \"#9c179e\"], [0.4444444444444444, \"#bd3786\"], [0.5555555555555556, \"#d8576b\"], [0.6666666666666666, \"#ed7953\"], [0.7777777777777778, \"#fb9f3a\"], [0.8888888888888888, \"#fdca26\"], [1.0, \"#f0f921\"]], \"sequentialminus\": [[0.0, \"#0d0887\"], [0.1111111111111111, \"#46039f\"], [0.2222222222222222, \"#7201a8\"], [0.3333333333333333, \"#9c179e\"], [0.4444444444444444, \"#bd3786\"], [0.5555555555555556, \"#d8576b\"], [0.6666666666666666, \"#ed7953\"], [0.7777777777777778, \"#fb9f3a\"], [0.8888888888888888, \"#fdca26\"], [1.0, \"#f0f921\"]]}, \"colorway\": [\"#636efa\", \"#EF553B\", \"#00cc96\", \"#ab63fa\", \"#FFA15A\", \"#19d3f3\", \"#FF6692\", \"#B6E880\", \"#FF97FF\", \"#FECB52\"], \"font\": {\"color\": \"#2a3f5f\"}, \"geo\": {\"bgcolor\": \"white\", \"lakecolor\": \"white\", \"landcolor\": \"#E5ECF6\", \"showlakes\": true, \"showland\": true, \"subunitcolor\": \"white\"}, \"hoverlabel\": {\"align\": \"left\"}, \"hovermode\": \"closest\", \"mapbox\": {\"style\": \"light\"}, \"paper_bgcolor\": \"white\", \"plot_bgcolor\": \"#E5ECF6\", \"polar\": {\"angularaxis\": {\"gridcolor\": \"white\", \"linecolor\": \"white\", \"ticks\": \"\"}, \"bgcolor\": \"#E5ECF6\", \"radialaxis\": {\"gridcolor\": \"white\", \"linecolor\": \"white\", \"ticks\": \"\"}}, \"scene\": {\"xaxis\": {\"backgroundcolor\": \"#E5ECF6\", \"gridcolor\": \"white\", \"gridwidth\": 2, \"linecolor\": \"white\", \"showbackground\": true, \"ticks\": \"\", \"zerolinecolor\": \"white\"}, \"yaxis\": {\"backgroundcolor\": \"#E5ECF6\", \"gridcolor\": \"white\", \"gridwidth\": 2, \"linecolor\": \"white\", \"showbackground\": true, \"ticks\": \"\", \"zerolinecolor\": \"white\"}, \"zaxis\": {\"backgroundcolor\": \"#E5ECF6\", \"gridcolor\": \"white\", \"gridwidth\": 2, \"linecolor\": \"white\", \"showbackground\": true, \"ticks\": \"\", \"zerolinecolor\": \"white\"}}, \"shapedefaults\": {\"line\": {\"color\": \"#2a3f5f\"}}, \"ternary\": {\"aaxis\": {\"gridcolor\": \"white\", \"linecolor\": \"white\", \"ticks\": \"\"}, \"baxis\": {\"gridcolor\": \"white\", \"linecolor\": \"white\", \"ticks\": \"\"}, \"bgcolor\": \"#E5ECF6\", \"caxis\": {\"gridcolor\": \"white\", \"linecolor\": \"white\", \"ticks\": \"\"}}, \"title\": {\"x\": 0.05}, \"xaxis\": {\"automargin\": true, \"gridcolor\": \"white\", \"linecolor\": \"white\", \"ticks\": \"\", \"title\": {\"standoff\": 15}, \"zerolinecolor\": \"white\", \"zerolinewidth\": 2}, \"yaxis\": {\"automargin\": true, \"gridcolor\": \"white\", \"linecolor\": \"white\", \"ticks\": \"\", \"title\": {\"standoff\": 15}, \"zerolinecolor\": \"white\", \"zerolinewidth\": 2}}}, \"title\": {\"text\": \" \"}, \"xaxis\": {\"anchor\": \"y\", \"domain\": [0.0, 1.0], \"title\": {\"text\": \"Gender_category\"}}, \"yaxis\": {\"anchor\": \"x\", \"domain\": [0.0, 1.0], \"title\": {\"text\": \"count\"}}},\n",
              "                        {\"responsive\": true}\n",
              "                    ).then(function(){\n",
              "                            \n",
              "var gd = document.getElementById('7e7819ab-55ad-4b62-9f40-38d2620564fb');\n",
              "var x = new MutationObserver(function (mutations, observer) {{\n",
              "        var display = window.getComputedStyle(gd).display;\n",
              "        if (!display || display === 'none') {{\n",
              "            console.log([gd, 'removed!']);\n",
              "            Plotly.purge(gd);\n",
              "            observer.disconnect();\n",
              "        }}\n",
              "}});\n",
              "\n",
              "// Listen for the removal of the full notebook cells\n",
              "var notebookContainer = gd.closest('#notebook-container');\n",
              "if (notebookContainer) {{\n",
              "    x.observe(notebookContainer, {childList: true});\n",
              "}}\n",
              "\n",
              "// Listen for the clearing of the current output cell\n",
              "var outputEl = gd.closest('.output');\n",
              "if (outputEl) {{\n",
              "    x.observe(outputEl, {childList: true});\n",
              "}}\n",
              "\n",
              "                        })\n",
              "                };\n",
              "                \n",
              "            </script>\n",
              "        </div>\n",
              "</body>\n",
              "</html>"
            ]
          },
          "metadata": {
            "tags": []
          }
        },
        {
          "output_type": "display_data",
          "data": {
            "text/html": [
              "<html>\n",
              "<head><meta charset=\"utf-8\" /></head>\n",
              "<body>\n",
              "    <div>\n",
              "            <script src=\"https://cdnjs.cloudflare.com/ajax/libs/mathjax/2.7.5/MathJax.js?config=TeX-AMS-MML_SVG\"></script><script type=\"text/javascript\">if (window.MathJax) {MathJax.Hub.Config({SVG: {font: \"STIX-Web\"}});}</script>\n",
              "                <script type=\"text/javascript\">window.PlotlyConfig = {MathJaxConfig: 'local'};</script>\n",
              "        <script src=\"https://cdn.plot.ly/plotly-latest.min.js\"></script>    \n",
              "            <div id=\"6f225db9-c2f8-4ae5-beea-369b252d332f\" class=\"plotly-graph-div\" style=\"height:525px; width:100%;\"></div>\n",
              "            <script type=\"text/javascript\">\n",
              "                \n",
              "                    window.PLOTLYENV=window.PLOTLYENV || {};\n",
              "                    \n",
              "                if (document.getElementById(\"6f225db9-c2f8-4ae5-beea-369b252d332f\")) {\n",
              "                    Plotly.newPlot(\n",
              "                        '6f225db9-c2f8-4ae5-beea-369b252d332f',\n",
              "                        [{\"alignmentgroup\": \"True\", \"hoverlabel\": {\"namelength\": 0}, \"hovertemplate\": \"Gender_category=%{y}\", \"legendgroup\": \"\", \"marker\": {\"color\": \"rgb(102, 197, 204)\"}, \"name\": \"\", \"notched\": false, \"offsetgroup\": \"\", \"orientation\": \"v\", \"showlegend\": false, \"type\": \"box\", \"x0\": \" \", \"xaxis\": \"x\", \"y\": [0.0, 1.0, 1.0, 1.0, 0.0, 0.0, 1.0, 0.0, 0.0, 0.0, 0.0, 0.0, 0.0, 1.0, 1.0, 0.0, 0.0, 0.0, 0.0, 0.0, 0.0, 0.0, 1.0, 0.0, 0.0, 1.0, 1.0, 1.0, 0.0, 1.0, 0.0, 1.0, 0.0, 1.0, 0.0, 0.0, 0.0, 0.0, 0.0, 0.0, 0.0, 0.0, 1.0, 0.0, 1.0, 1.0, 0.0, 0.0, 0.0, 1.0, 0.0, 0.0, 0.0, 1.0, 1.0, 1.0, 0.0, 0.0, 0.0, 0.0, 0.0, 0.0, 0.0, 0.0, 0.0, 0.0, 0.0, 1.0, 1.0, 1.0, 1.0, 0.0, 0.0, 1.0, 0.0, 1.0, 0.0, 1.0, 1.0, 1.0, 1.0, 0.0, 1.0, 0.0, 1.0, 0.0, 1.0, 1.0, 0.0, 0.0, 1.0, 0.0, 1.0, 0.0, 0.0, 1.0, 0.0, 0.0, 0.0, 0.0, 0.0, 1.0, 0.0, 0.0, 1.0, 0.0, 0.0, 0.0, 0.0, 1.0, 0.0, 0.0, 1.0, 1.0, 0.0, 0.0, 0.0, 0.0, 1.0, 1.0, 0.0, 0.0, 0.0, 1.0, 0.0, 0.0, 0.0, 0.0, 1.0, 1.0, 0.0, 0.0, 1.0, 1.0, 0.0, 1.0, 0.0, 0.0, 1.0, 0.0, 0.0, 1.0, 0.0, 1.0, 0.0, 0.0, 0.0, 0.0, 0.0, 1.0, 1.0, 0.0, 0.0, 1.0, 0.0, 1.0, 0.0, 0.0, 1.0, 0.0, 0.0, 0.0, 0.0, 0.0, 1.0, 1.0, 1.0, 0.0, 1.0, 0.0, 1.0, 0.0, 1.0, 0.0, 1.0, 0.0, 0.0, 1.0, 1.0, 1.0, 0.0, 1.0, 1.0, 1.0, 0.0, 0.0, 0.0, 0.0, 0.0, 0.0, 0.0, 0.0, 1.0, 1.0, 1.0, 0.0, 0.0, 1.0, 0.0, 0.0, 0.0, 0.0, 0.0, 0.0, 0.0, 0.0, 0.0, 0.0, 0.0, 0.0, 0.0, 0.0, 0.0, 0.0, 1.0, 1.0, 0.0, 0.0, 1.0, 0.0, 0.0, 0.0, 0.0, 0.0, 0.0, 1.0, 1.0, 0.0, 0.0, 1.0, 0.0, 1.0, 1.0, 1.0, 0.0, 0.0, 1.0, 0.0, 0.0, 0.0, 0.0, 1.0, 1.0, 0.0, 1.0, 0.0, 0.0, 1.0, 1.0, 1.0, 1.0, 1.0, 1.0, 1.0, 0.0, 0.0, 1.0, 0.0, 1.0, 1.0, 0.0, 0.0, 1.0, 0.0, 0.0, 1.0, 0.0, 0.0, 0.0, 0.0, 1.0, 1.0, 0.0, 0.0, 1.0, 0.0, 0.0, 1.0, 0.0, 0.0, 1.0, 1.0, 0.0, 0.0, 1.0, 0.0, 0.0, 0.0, 0.0, 1.0, 0.0, 0.0, 1.0, 1.0, 1.0, 0.0, 0.0, 0.0, 0.0, 0.0, 1.0, 0.0, 0.0, 0.0, 0.0, 0.0, 1.0, 0.0, 0.0, 1.0, 0.0, 1.0, 0.0, 0.0, 0.0, 1.0, 1.0, 1.0, 0.0, 0.0, 1.0, 1.0, 1.0, 0.0, 0.0, 0.0, 0.0, 1.0, 0.0, 0.0, 0.0, 1.0, 1.0, 1.0, 0.0, 0.0, 1.0, 1.0, 0.0, 0.0, 0.0, 0.0, 1.0, 0.0, 0.0, 0.0, 0.0, 1.0, 1.0, 1.0, 1.0, 1.0, 0.0, 0.0, 1.0, 0.0, 0.0, 0.0, 0.0, 0.0, 0.0, 1.0, 1.0, 0.0, 0.0, 1.0, 1.0, 0.0, 1.0, 0.0, 1.0, 0.0, 0.0, 0.0, 1.0, 1.0, 0.0, 0.0, 0.0, 0.0, 0.0, 0.0, 1.0, 1.0, 0.0, 0.0, 1.0, 1.0, 0.0, 1.0, 1.0, 0.0, 0.0, 1.0, 1.0, 0.0, 0.0, 0.0, 0.0, 0.0, 0.0, 0.0, 1.0, 0.0, 1.0, 1.0, 0.0, 0.0, 0.0, 1.0, 0.0, 0.0, 0.0, 0.0, 1.0, 1.0, 0.0, 0.0, 1.0, 0.0, 0.0, 0.0, 1.0, 0.0, 1.0, 0.0, 1.0, 0.0, 1.0, 0.0, 1.0, 0.0, 1.0, 0.0, 0.0, 1.0, 0.0, 1.0, 0.0, 1.0, 0.0, 0.0, 0.0, 0.0, 1.0, 1.0, 1.0, 1.0, 0.0, 1.0, 1.0, 0.0, 1.0, 0.0, 1.0, 1.0, 0.0, 1.0, 1.0, 1.0, 0.0, 0.0, 0.0, 1.0, 1.0, 0.0, 1.0, 0.0, 0.0, 0.0, 0.0, 0.0, 0.0, 1.0, 0.0, 0.0, 1.0, 0.0, 0.0, 0.0, 1.0, 1.0, 0.0, 1.0, 0.0, 0.0, 1.0, 1.0, 0.0, 0.0, 0.0, 0.0, 0.0, 1.0, 0.0, 1.0, 0.0, 0.0, 0.0, 1.0, 0.0, 0.0, 1.0, 0.0, 0.0, 1.0, 0.0, 1.0, 1.0, 0.0, 1.0, 0.0, 1.0, 1.0, 0.0, 1.0, 0.0, 0.0, 1.0, 1.0, 0.0, 0.0, 0.0, 0.0, 0.0, 1.0, 1.0, 0.0, 0.0, 0.0, 0.0, 1.0, 1.0, 0.0, 1.0, 1.0, 0.0, 1.0, 1.0, 0.0, 1.0, 0.0, 1.0, 1.0, 1.0, 0.0, 1.0, 0.0, 0.0, 0.0, 0.0, 1.0, 0.0, 0.0, 1.0, 1.0, 0.0, 0.0, 1.0, 0.0, 0.0, 0.0, 0.0, 1.0, 0.0, 0.0, 1.0, 0.0, 1.0, 1.0, 0.0, 0.0, 1.0, 1.0, 1.0, 0.0, 1.0, 1.0, 1.0, 1.0, 1.0, 0.0, 0.0, 0.0, 1.0, 0.0, 0.0, 0.0, 1.0, 0.0, 0.0, 1.0, 0.0, 1.0, 1.0, 0.0, 0.0, 1.0, 0.0, 0.0, 1.0, 0.0, 1.0, 1.0, 0.0, 0.0, 1.0, 1.0, 0.0, 1.0, 1.0, 0.0, 1.0, 1.0, 0.0, 1.0, 1.0, 0.0, 0.0, 0.0, 1.0, 1.0, 1.0, 1.0, 1.0, 0.0, 0.0, 0.0, 1.0, 1.0, 1.0, 1.0, 1.0, 0.0, 1.0, 0.0, 0.0, 0.0, 0.0, 1.0, 1.0, 1.0, 0.0, 1.0, 0.0, 0.0, 1.0, 0.0, 1.0, 0.0, 0.0, 0.0, 1.0, 1.0, 1.0, 0.0, 0.0, 1.0, 1.0, 1.0, 0.0, 1.0, 0.0, 0.0, 1.0, 0.0, 0.0, 0.0, 1.0, 0.0, 1.0, 0.0, 1.0, 0.0, 1.0, 0.0, 1.0, 0.0, 0.0, 0.0, 0.0, 1.0, 1.0, 0.0, 0.0, 1.0, 0.0, 1.0, 0.0, 0.0, 0.0, 0.0, 1.0, 1.0, 0.0, 0.0, 1.0, 0.0, 1.0, 0.0, 1.0, 0.0, 1.0, 1.0, 1.0, 0.0, 0.0, 0.0, 1.0, 0.0, 1.0, 1.0, 1.0, 0.0, 0.0, 0.0, 0.0, 0.0, 1.0, 0.0, 1.0, 0.0, 0.0, 1.0, 1.0, 0.0, 1.0, 0.0, 0.0, 1.0, 0.0, 0.0, 1.0, 1.0, 0.0, 0.0, 0.0, 0.0, 0.0, 0.0, 0.0, 0.0, 0.0, 0.0, 0.0, 0.0, 0.0, 1.0, 0.0, 1.0, 1.0, 1.0, 0.0, 0.0, 0.0, 0.0, 1.0, 0.0, 1.0, 1.0, 0.0, 0.0, 1.0, 1.0, 0.0, 1.0, 0.0, 1.0, 0.0, 1.0, 1.0, 0.0, 1.0, 0.0, 0.0, 1.0, 1.0, 0.0, 0.0, 1.0, 1.0, 0.0, 0.0, 1.0, 0.0, 0.0, 0.0, 1.0, 0.0, 0.0, 0.0, 0.0, 1.0, 0.0, 0.0, 0.0, 0.0, 1.0, 1.0, 0.0, 1.0, 0.0, 0.0, 1.0, 0.0, 1.0, 0.0, 1.0, 1.0, 0.0, 1.0, 0.0, 1.0, 0.0, 0.0, 1.0, 0.0, 1.0, 1.0, 0.0, 0.0, 0.0, 0.0, 0.0, 0.0, 0.0, 0.0, 1.0, 0.0, 0.0, 1.0, 0.0, 0.0, 1.0, 0.0, 1.0, 0.0, 0.0, 0.0, 1.0, 1.0, 0.0, 0.0, 0.0, 1.0, 1.0, 1.0, 0.0, 0.0, 0.0, 1.0, 1.0, 0.0, 0.0, 1.0, 1.0, 0.0, 0.0, 1.0, 0.0, 0.0, 0.0, 0.0, 0.0, 0.0, 1.0, 1.0, 1.0, 0.0, 0.0, 1.0, 1.0, 0.0, 0.0, 0.0, 1.0, 0.0, 0.0, 0.0, 1.0, 1.0, 0.0, 0.0, 0.0, 0.0, 0.0, 1.0, 0.0, 0.0, 0.0, 0.0, 0.0, 0.0, 1.0, 0.0, 0.0, 0.0, 1.0, 1.0, 0.0, 0.0, 1.0, 0.0, 0.0, 1.0, 1.0, 1.0, 0.0, 1.0, 1.0, 1.0, 1.0, 1.0, 1.0, 1.0, 0.0, 1.0, 0.0, 0.0, 0.0, 0.0, 1.0, 1.0, 0.0, 0.0, 1.0, 0.0, 1.0, 1.0, 0.0, 0.0, 0.0, 1.0, 1.0, 0.0, 1.0, 1.0, 0.0, 1.0, 0.0, 0.0, 0.0, 0.0, 0.0, 1.0, 1.0, 0.0, 0.0, 0.0, 1.0, 1.0, 0.0, 1.0, 0.0, 0.0, 0.0, 1.0, 0.0, 1.0, 1.0, 0.0, 1.0, 1.0, 1.0, 1.0, 1.0, 1.0, 0.0, 0.0, 1.0, 0.0, 0.0, 0.0, 0.0, 1.0, 1.0, 1.0, 0.0, 0.0, 0.0, 0.0, 0.0, 0.0, 0.0, 0.0, 0.0, 0.0, 0.0, 0.0, 1.0, 0.0, 0.0, 1.0, 0.0, 1.0, 0.0, 1.0, 1.0, 1.0, 1.0, 0.0, 0.0, 1.0, 1.0, 0.0, 0.0, 0.0, 0.0, 1.0, 0.0, 0.0, 1.0, 0.0, 1.0, 1.0, 0.0, 0.0, 1.0, 1.0, 0.0, 0.0, 1.0, 0.0, 1.0, 0.0, 1.0, 0.0, 0.0, 1.0, 1.0, 0.0, 0.0, 1.0, 1.0, 1.0, 1.0, 1.0, 0.0, 1.0, 0.0, 0.0, 0.0, 0.0, 0.0, 1.0, 0.0, 0.0, 0.0, 0.0, 0.0, 0.0, 0.0, 0.0, 1.0, 1.0, 0.0, 0.0, 0.0, 1.0, 1.0, 1.0, 0.0, 0.0, 1.0, 0.0, 0.0, 1.0, 1.0, 0.0, 1.0, 1.0, 1.0, 1.0, 0.0, 0.0, 1.0, 0.0, 1.0, 0.0, 0.0, 1.0, 1.0, 0.0, 1.0, 1.0, 1.0, 0.0, 1.0, 0.0, 0.0, 1.0, 1.0, 0.0, 0.0, 0.0, 1.0, 1.0, 1.0, 0.0, 0.0, 0.0, 1.0, 1.0, 1.0, 0.0, 1.0, 0.0, 1.0, 0.0, 0.0, 1.0, 1.0, 0.0, 0.0, 1.0, 0.0, 0.0, 1.0, 1.0, 1.0, 1.0, 1.0, 1.0, 0.0, 1.0, 1.0, 1.0, 1.0, 0.0, 1.0, 0.0, 1.0, 1.0, 1.0, 1.0, 0.0, 0.0, 0.0, 1.0, 1.0, 0.0, 0.0, 0.0, 1.0, 0.0, 1.0, 0.0, 0.0, 1.0, 1.0, 1.0, 0.0, 1.0, 0.0, 0.0, 0.0, 1.0, 1.0, 0.0, 0.0, 0.0, 0.0, 1.0, 1.0, 1.0, 0.0, 0.0, 1.0, 1.0, 0.0, 1.0, 1.0, 0.0, 0.0, 0.0, 0.0, 1.0, 0.0, 0.0, 0.0, 0.0, 1.0, 0.0, 0.0, 0.0, 0.0, 1.0, 0.0, 0.0, 0.0, 1.0, 1.0, 0.0, 1.0, 1.0, 0.0, 0.0, 1.0, 0.0, 0.0, 0.0, 1.0, 0.0, 1.0, 0.0, 1.0, 0.0, 0.0, 0.0, 1.0, 0.0, 0.0, 0.0, 1.0, 0.0, 1.0, 0.0, 0.0, 0.0, 1.0, 1.0, 0.0, 1.0, 0.0, 1.0, 0.0, 1.0, 0.0, 1.0, 0.0, 0.0, 0.0, 0.0, 0.0, 1.0, 0.0, 1.0, 1.0, 0.0, 0.0, 1.0, 0.0, 0.0, 1.0, 0.0, 1.0, 0.0, 0.0, 0.0, 0.0, 1.0, 0.0, 0.0, 0.0, 1.0, 1.0, 1.0, 1.0, 1.0, 0.0, 0.0, 1.0, 0.0, 1.0, 1.0, 1.0, 0.0, 1.0, 1.0, 1.0, 1.0, 0.0, 1.0, 1.0, 1.0, 1.0, 0.0, 0.0, 0.0, 0.0, 1.0, 0.0, 0.0, 0.0, 0.0, 0.0, 0.0, 0.0, 0.0, 1.0, 1.0, 1.0, 0.0, 1.0, 0.0, 0.0, 0.0, 0.0, 0.0, 0.0, 0.0, 0.0, 1.0, 1.0, 0.0, 0.0, 0.0, 1.0, 0.0, 0.0, 1.0, 1.0, 0.0, 0.0, 1.0, 1.0, 0.0, 0.0, 0.0, 1.0, 1.0, 0.0, 0.0, 0.0, 1.0, 1.0, 0.0, 0.0, 1.0, 0.0, 1.0, 0.0, 0.0, 1.0, 0.0, 0.0, 0.0, 1.0, 0.0, 0.0, 0.0, 0.0, 1.0, 0.0, 0.0, 0.0, 0.0, 0.0, 1.0, 1.0, 1.0, 0.0, 1.0, 0.0, 0.0, 1.0, 1.0, 1.0, 1.0, 0.0, 0.0, 0.0, 0.0, 0.0, 1.0, 0.0, 0.0, 0.0, 1.0, 0.0, 0.0, 0.0, 1.0, 0.0, 0.0, 0.0, 1.0, 1.0, 0.0, 1.0, 0.0, 0.0, 0.0, 1.0, 0.0, 0.0, 1.0, 0.0, 1.0, 0.0, 1.0, 0.0, 1.0, 0.0, 1.0, 1.0, 0.0, 0.0, 0.0, 1.0, 1.0, 0.0, 0.0, 0.0, 1.0, 1.0, 0.0, 1.0, 0.0, 0.0, 1.0, 1.0, 0.0, 0.0, 0.0, 0.0, 1.0, 0.0, 0.0, 0.0, 0.0, 0.0, 1.0, 1.0, 0.0, 0.0, 0.0, 0.0, 0.0, 1.0, 0.0, 0.0, 1.0, 1.0, 1.0, 0.0, 1.0, 0.0, 1.0, 1.0, 1.0, 1.0, 0.0, 1.0, 1.0, 0.0, 0.0, 1.0, 1.0, 1.0, 1.0, 0.0, 0.0, 1.0, 1.0, 0.0, 0.0, 1.0, 0.0, 0.0, 0.0, 0.0, 1.0, 1.0, 0.0, 0.0, 1.0, 1.0, 1.0, 1.0, 0.0, 0.0, 0.0, 1.0, 0.0, 0.0, 0.0, 1.0, 0.0, 0.0, 1.0, 1.0, 0.0, 1.0, 1.0, 1.0, 0.0, 1.0, 0.0, 0.0, 1.0, 1.0, 0.0, 0.0, 0.0, 0.0, 0.0, 0.0, 1.0, 1.0, 0.0, 0.0, 0.0, 0.0, 0.0, 1.0, 1.0, 0.0, 0.0, 1.0, 0.0, 0.0, 1.0, 0.0, 1.0, 1.0, 0.0, 0.0, 1.0, 1.0, 0.0, 0.0, 0.0, 1.0, 0.0, 1.0, 0.0, 1.0, 1.0, 0.0, 1.0, 0.0, 0.0, 0.0, 1.0, 0.0, 0.0, 0.0, 0.0, 0.0, 0.0, 0.0, 1.0, 0.0, 0.0, 1.0, 1.0, 1.0, 1.0, 0.0, 1.0, 0.0, 0.0, 1.0, 1.0, 1.0, 1.0, 0.0, 0.0, 0.0, 0.0, 0.0, 1.0, 0.0, 0.0, 0.0, 1.0, 0.0, 0.0, 0.0, 0.0, 0.0, 1.0, 0.0, 0.0, 0.0, 0.0, 0.0, 1.0, 1.0, 1.0, 1.0, 0.0, 0.0, 1.0, 0.0, 0.0, 0.0, 1.0, 1.0, 0.0, 1.0, 1.0, 1.0, 0.0, 0.0, 0.0, 1.0, 1.0, 1.0, 0.0, 1.0, 1.0, 1.0, 1.0, 0.0, 0.0, 0.0, 1.0, 1.0, 0.0, 0.0, 0.0, 1.0, 0.0, 0.0, 1.0, 0.0, 1.0, 0.0, 1.0, 0.0, 0.0, 1.0, 0.0, 1.0, 1.0, 1.0, 0.0, 0.0, 1.0, 0.0, 0.0, 0.0, 0.0, 0.0, 1.0, 0.0, 0.0, 0.0, 1.0, 0.0, 1.0, 0.0, 1.0, 0.0, 0.0, 0.0, 1.0, 0.0, 0.0, 0.0, 1.0, 0.0, 1.0, 0.0, 0.0, 0.0, 0.0, 0.0, 0.0, 0.0, 0.0, 1.0, 0.0, 0.0, 1.0, 1.0, 0.0, 0.0, 1.0, 0.0, 0.0, 0.0, 0.0, 1.0, 0.0, 0.0, 1.0, 1.0, 0.0, 1.0, 0.0, 0.0, 0.0, 1.0, 1.0, 1.0, 1.0, 1.0, 1.0, 1.0, 0.0, 0.0, 1.0, 1.0, 0.0, 0.0, 0.0, 1.0, 0.0, 0.0, 1.0, 0.0, 1.0, 1.0, 1.0, 0.0, 1.0, 1.0, 0.0, 0.0, 1.0, 0.0, 1.0, 1.0, 0.0, 1.0, 0.0, 0.0, 0.0, 0.0, 1.0, 0.0, 1.0, 1.0, 0.0, 0.0, 0.0, 0.0, 0.0, 0.0, 1.0, 0.0, 0.0, 1.0, 1.0, 0.0, 1.0, 0.0, 1.0, 1.0, 0.0, 0.0, 0.0, 1.0, 0.0, 1.0, 1.0, 0.0, 0.0, 0.0, 0.0, 1.0, 0.0, 0.0, 1.0, 0.0, 0.0, 0.0, 0.0, 0.0, 0.0, 0.0, 0.0, 0.0, 0.0, 0.0, 1.0, 1.0, 0.0, 0.0, 1.0, 0.0, 0.0, 0.0, 0.0, 1.0, 0.0, 0.0, 0.0, 1.0, 1.0, 0.0, 1.0, 0.0, 1.0, 1.0, 0.0, 0.0, 1.0, 1.0, 0.0, 0.0, 0.0, 1.0, 0.0, 0.0, 1.0, 0.0, 0.0, 0.0, 1.0, 1.0, 1.0, 0.0, 1.0, 1.0, 0.0, 0.0, 1.0, 0.0, 0.0, 1.0, 1.0, 1.0, 0.0, 1.0, 0.0, 0.0, 0.0, 0.0, 0.0, 1.0, 0.0, 0.0, 0.0, 1.0, 1.0, 1.0, 1.0, 0.0, 1.0, 0.0, 0.0, 0.0, 0.0, 0.0, 0.0, 0.0, 1.0, 1.0, 0.0, 0.0, 0.0, 0.0, 1.0, 1.0, 1.0, 1.0, 1.0, 0.0, 1.0, 1.0, 0.0, 0.0, 0.0, 0.0, 1.0, 0.0, 0.0, 0.0, 0.0, 1.0, 1.0, 0.0, 0.0, 1.0, 0.0, 0.0, 0.0, 0.0, 0.0, 1.0, 0.0, 0.0, 0.0, 0.0, 0.0, 0.0, 0.0, 1.0, 0.0, 1.0, 0.0, 1.0, 1.0, 0.0, 1.0, 1.0, 1.0, 0.0, 1.0, 0.0, 0.0, 0.0, 1.0, 0.0, 0.0, 1.0, 0.0, 0.0, 1.0, 0.0, 1.0, 0.0, 1.0, 0.0, 0.0, 0.0, 0.0, 0.0, 1.0, 1.0, 0.0, 0.0, 1.0, 1.0, 1.0, 0.0, 0.0, 0.0, 1.0, 1.0, 1.0, 0.0, 1.0, 1.0, 0.0, 0.0, 1.0, 1.0, 1.0, 0.0, 0.0, 0.0, 0.0, 0.0, 0.0, 0.0, 0.0, 0.0, 0.0, 0.0, 0.0, 1.0, 1.0, 1.0, 0.0, 1.0, 0.0, 0.0, 1.0, 1.0, 0.0, 1.0, 0.0, 1.0, 1.0, 1.0, 0.0, 1.0, 0.0, 0.0, 0.0, 0.0, 0.0, 1.0, 0.0, 1.0, 0.0, 0.0, 0.0, 1.0, 0.0, 0.0, 1.0, 1.0, 1.0, 0.0, 0.0, 0.0, 0.0, 1.0, 0.0, 0.0, 0.0, 0.0, 0.0, 0.0, 0.0, 0.0, 0.0, 0.0, 1.0, 1.0, 1.0, 1.0, 0.0, 0.0, 0.0, 1.0, 0.0, 1.0, 1.0, 0.0, 1.0, 0.0, 0.0, 1.0, 0.0, 1.0, 0.0, 0.0, 0.0, 1.0, 0.0, 0.0, 0.0, 1.0, 0.0, 1.0, 0.0, 1.0, 1.0, 1.0, 1.0, 0.0, 0.0, 0.0, 1.0, 1.0, 1.0, 1.0, 1.0, 0.0, 1.0, 0.0, 0.0, 0.0, 1.0, 1.0, 1.0, 0.0, 1.0, 0.0, 0.0, 1.0, 1.0, 0.0, 1.0, 0.0, 1.0, 1.0, 1.0, 0.0, 1.0, 0.0, 1.0, 0.0, 0.0, 1.0, 0.0, 0.0, 0.0, 1.0, 1.0, 0.0, 1.0, 1.0, 0.0, 0.0, 0.0, 1.0, 0.0, 1.0, 1.0, 1.0, 1.0, 1.0, 0.0, 0.0, 0.0, 0.0, 0.0, 0.0, 1.0, 0.0, 0.0, 0.0, 0.0, 1.0, 0.0, 0.0, 1.0, 1.0, 1.0, 0.0, 1.0, 1.0, 0.0, 0.0, 0.0, 1.0, 0.0, 1.0, 0.0, 1.0, 0.0, 1.0, 1.0, 1.0, 0.0, 1.0, 0.0, 1.0, 1.0, 0.0, 0.0, 0.0, 0.0, 0.0, 0.0, 0.0, 1.0, 0.0, 0.0, 0.0, 1.0, 1.0, 0.0, 0.0, 0.0, 1.0, 0.0, 0.0, 1.0, 0.0, 0.0, 1.0, 1.0, 0.0, 1.0, 0.0, 1.0, 1.0, 0.0, 0.0, 0.0, 0.0, 0.0, 1.0, 0.0, 0.0, 0.0, 0.0, 1.0, 1.0, 0.0, 0.0, 1.0, 0.0, 0.0, 0.0, 0.0, 0.0, 0.0, 0.0, 1.0, 1.0, 0.0, 0.0, 0.0, 1.0, 0.0, 1.0, 1.0, 0.0, 1.0, 1.0, 1.0, 0.0, 1.0, 1.0, 1.0, 1.0, 0.0, 0.0, 0.0, 1.0, 0.0, 0.0, 0.0, 0.0, 1.0, 0.0, 1.0, 0.0, 1.0, 0.0, 1.0, 0.0, 0.0, 1.0, 1.0, 0.0, 0.0, 0.0, 1.0, 1.0, 0.0, 1.0, 0.0, 0.0, 0.0, 0.0, 0.0, 0.0, 0.0, 1.0, 1.0, 0.0, 0.0, 0.0, 1.0, 0.0, 1.0, 0.0, 0.0, 1.0, 1.0, 1.0, 0.0, 0.0, 0.0, 1.0, 0.0, 1.0, 0.0, 1.0, 0.0, 0.0, 1.0, 1.0, 0.0, 0.0, 0.0, 0.0, 1.0, 0.0, 1.0, 0.0, 0.0, 1.0, 1.0, 1.0, 1.0, 0.0, 0.0, 1.0, 0.0, 0.0, 0.0, 0.0, 1.0, 0.0, 0.0, 0.0, 0.0, 0.0, 0.0, 0.0, 0.0, 1.0, 0.0, 1.0, 1.0, 1.0, 0.0, 1.0, 0.0, 0.0, 1.0, 1.0, 0.0, 0.0, 0.0, 0.0, 0.0, 1.0, 0.0, 1.0, 0.0, 0.0, 1.0, 0.0, 1.0, 0.0, 0.0, 0.0, 0.0, 0.0, 0.0, 0.0, 0.0, 0.0, 1.0, 0.0, 1.0, 1.0, 1.0, 1.0, 1.0, 0.0, 1.0, 0.0, 1.0, 1.0, 0.0, 1.0, 1.0, 0.0, 1.0, 0.0, 1.0, 1.0, 0.0, 0.0, 0.0, 1.0, 0.0, 1.0, 1.0, 0.0, 0.0, 0.0, 0.0, 0.0, 0.0, 1.0, 0.0, 0.0, 1.0, 1.0, 1.0, 0.0, 0.0, 1.0, 0.0, 0.0, 1.0, 0.0, 1.0], \"y0\": \" \", \"yaxis\": \"y\"}],\n",
              "                        {\"boxmode\": \"group\", \"legend\": {\"tracegroupgap\": 0}, \"margin\": {\"t\": 60}, \"template\": {\"data\": {\"bar\": [{\"error_x\": {\"color\": \"#2a3f5f\"}, \"error_y\": {\"color\": \"#2a3f5f\"}, \"marker\": {\"line\": {\"color\": \"#E5ECF6\", \"width\": 0.5}}, \"type\": \"bar\"}], \"barpolar\": [{\"marker\": {\"line\": {\"color\": \"#E5ECF6\", \"width\": 0.5}}, \"type\": \"barpolar\"}], \"carpet\": [{\"aaxis\": {\"endlinecolor\": \"#2a3f5f\", \"gridcolor\": \"white\", \"linecolor\": \"white\", \"minorgridcolor\": \"white\", \"startlinecolor\": \"#2a3f5f\"}, \"baxis\": {\"endlinecolor\": \"#2a3f5f\", \"gridcolor\": \"white\", \"linecolor\": \"white\", \"minorgridcolor\": \"white\", \"startlinecolor\": \"#2a3f5f\"}, \"type\": \"carpet\"}], \"choropleth\": [{\"colorbar\": {\"outlinewidth\": 0, \"ticks\": \"\"}, \"type\": \"choropleth\"}], \"contour\": [{\"colorbar\": {\"outlinewidth\": 0, \"ticks\": \"\"}, \"colorscale\": [[0.0, \"#0d0887\"], [0.1111111111111111, \"#46039f\"], [0.2222222222222222, \"#7201a8\"], [0.3333333333333333, \"#9c179e\"], [0.4444444444444444, \"#bd3786\"], [0.5555555555555556, \"#d8576b\"], [0.6666666666666666, \"#ed7953\"], [0.7777777777777778, \"#fb9f3a\"], [0.8888888888888888, \"#fdca26\"], [1.0, \"#f0f921\"]], \"type\": \"contour\"}], \"contourcarpet\": [{\"colorbar\": {\"outlinewidth\": 0, \"ticks\": \"\"}, \"type\": \"contourcarpet\"}], \"heatmap\": [{\"colorbar\": {\"outlinewidth\": 0, \"ticks\": \"\"}, \"colorscale\": [[0.0, \"#0d0887\"], [0.1111111111111111, \"#46039f\"], [0.2222222222222222, \"#7201a8\"], [0.3333333333333333, \"#9c179e\"], [0.4444444444444444, \"#bd3786\"], [0.5555555555555556, \"#d8576b\"], [0.6666666666666666, \"#ed7953\"], [0.7777777777777778, \"#fb9f3a\"], [0.8888888888888888, \"#fdca26\"], [1.0, \"#f0f921\"]], \"type\": \"heatmap\"}], \"heatmapgl\": [{\"colorbar\": {\"outlinewidth\": 0, \"ticks\": \"\"}, \"colorscale\": [[0.0, \"#0d0887\"], [0.1111111111111111, \"#46039f\"], [0.2222222222222222, \"#7201a8\"], [0.3333333333333333, \"#9c179e\"], [0.4444444444444444, \"#bd3786\"], [0.5555555555555556, \"#d8576b\"], [0.6666666666666666, \"#ed7953\"], [0.7777777777777778, \"#fb9f3a\"], [0.8888888888888888, \"#fdca26\"], [1.0, \"#f0f921\"]], \"type\": \"heatmapgl\"}], \"histogram\": [{\"marker\": {\"colorbar\": {\"outlinewidth\": 0, \"ticks\": \"\"}}, \"type\": \"histogram\"}], \"histogram2d\": [{\"colorbar\": {\"outlinewidth\": 0, \"ticks\": \"\"}, \"colorscale\": [[0.0, \"#0d0887\"], [0.1111111111111111, \"#46039f\"], [0.2222222222222222, \"#7201a8\"], [0.3333333333333333, \"#9c179e\"], [0.4444444444444444, \"#bd3786\"], [0.5555555555555556, \"#d8576b\"], [0.6666666666666666, \"#ed7953\"], [0.7777777777777778, \"#fb9f3a\"], [0.8888888888888888, \"#fdca26\"], [1.0, \"#f0f921\"]], \"type\": \"histogram2d\"}], \"histogram2dcontour\": [{\"colorbar\": {\"outlinewidth\": 0, \"ticks\": \"\"}, \"colorscale\": [[0.0, \"#0d0887\"], [0.1111111111111111, \"#46039f\"], [0.2222222222222222, \"#7201a8\"], [0.3333333333333333, \"#9c179e\"], [0.4444444444444444, \"#bd3786\"], [0.5555555555555556, \"#d8576b\"], [0.6666666666666666, \"#ed7953\"], [0.7777777777777778, \"#fb9f3a\"], [0.8888888888888888, \"#fdca26\"], [1.0, \"#f0f921\"]], \"type\": \"histogram2dcontour\"}], \"mesh3d\": [{\"colorbar\": {\"outlinewidth\": 0, \"ticks\": \"\"}, \"type\": \"mesh3d\"}], \"parcoords\": [{\"line\": {\"colorbar\": {\"outlinewidth\": 0, \"ticks\": \"\"}}, \"type\": \"parcoords\"}], \"pie\": [{\"automargin\": true, \"type\": \"pie\"}], \"scatter\": [{\"marker\": {\"colorbar\": {\"outlinewidth\": 0, \"ticks\": \"\"}}, \"type\": \"scatter\"}], \"scatter3d\": [{\"line\": {\"colorbar\": {\"outlinewidth\": 0, \"ticks\": \"\"}}, \"marker\": {\"colorbar\": {\"outlinewidth\": 0, \"ticks\": \"\"}}, \"type\": \"scatter3d\"}], \"scattercarpet\": [{\"marker\": {\"colorbar\": {\"outlinewidth\": 0, \"ticks\": \"\"}}, \"type\": \"scattercarpet\"}], \"scattergeo\": [{\"marker\": {\"colorbar\": {\"outlinewidth\": 0, \"ticks\": \"\"}}, \"type\": \"scattergeo\"}], \"scattergl\": [{\"marker\": {\"colorbar\": {\"outlinewidth\": 0, \"ticks\": \"\"}}, \"type\": \"scattergl\"}], \"scattermapbox\": [{\"marker\": {\"colorbar\": {\"outlinewidth\": 0, \"ticks\": \"\"}}, \"type\": \"scattermapbox\"}], \"scatterpolar\": [{\"marker\": {\"colorbar\": {\"outlinewidth\": 0, \"ticks\": \"\"}}, \"type\": \"scatterpolar\"}], \"scatterpolargl\": [{\"marker\": {\"colorbar\": {\"outlinewidth\": 0, \"ticks\": \"\"}}, \"type\": \"scatterpolargl\"}], \"scatterternary\": [{\"marker\": {\"colorbar\": {\"outlinewidth\": 0, \"ticks\": \"\"}}, \"type\": \"scatterternary\"}], \"surface\": [{\"colorbar\": {\"outlinewidth\": 0, \"ticks\": \"\"}, \"colorscale\": [[0.0, \"#0d0887\"], [0.1111111111111111, \"#46039f\"], [0.2222222222222222, \"#7201a8\"], [0.3333333333333333, \"#9c179e\"], [0.4444444444444444, \"#bd3786\"], [0.5555555555555556, \"#d8576b\"], [0.6666666666666666, \"#ed7953\"], [0.7777777777777778, \"#fb9f3a\"], [0.8888888888888888, \"#fdca26\"], [1.0, \"#f0f921\"]], \"type\": \"surface\"}], \"table\": [{\"cells\": {\"fill\": {\"color\": \"#EBF0F8\"}, \"line\": {\"color\": \"white\"}}, \"header\": {\"fill\": {\"color\": \"#C8D4E3\"}, \"line\": {\"color\": \"white\"}}, \"type\": \"table\"}]}, \"layout\": {\"annotationdefaults\": {\"arrowcolor\": \"#2a3f5f\", \"arrowhead\": 0, \"arrowwidth\": 1}, \"coloraxis\": {\"colorbar\": {\"outlinewidth\": 0, \"ticks\": \"\"}}, \"colorscale\": {\"diverging\": [[0, \"#8e0152\"], [0.1, \"#c51b7d\"], [0.2, \"#de77ae\"], [0.3, \"#f1b6da\"], [0.4, \"#fde0ef\"], [0.5, \"#f7f7f7\"], [0.6, \"#e6f5d0\"], [0.7, \"#b8e186\"], [0.8, \"#7fbc41\"], [0.9, \"#4d9221\"], [1, \"#276419\"]], \"sequential\": [[0.0, \"#0d0887\"], [0.1111111111111111, \"#46039f\"], [0.2222222222222222, \"#7201a8\"], [0.3333333333333333, \"#9c179e\"], [0.4444444444444444, \"#bd3786\"], [0.5555555555555556, \"#d8576b\"], [0.6666666666666666, \"#ed7953\"], [0.7777777777777778, \"#fb9f3a\"], [0.8888888888888888, \"#fdca26\"], [1.0, \"#f0f921\"]], \"sequentialminus\": [[0.0, \"#0d0887\"], [0.1111111111111111, \"#46039f\"], [0.2222222222222222, \"#7201a8\"], [0.3333333333333333, \"#9c179e\"], [0.4444444444444444, \"#bd3786\"], [0.5555555555555556, \"#d8576b\"], [0.6666666666666666, \"#ed7953\"], [0.7777777777777778, \"#fb9f3a\"], [0.8888888888888888, \"#fdca26\"], [1.0, \"#f0f921\"]]}, \"colorway\": [\"#636efa\", \"#EF553B\", \"#00cc96\", \"#ab63fa\", \"#FFA15A\", \"#19d3f3\", \"#FF6692\", \"#B6E880\", \"#FF97FF\", \"#FECB52\"], \"font\": {\"color\": \"#2a3f5f\"}, \"geo\": {\"bgcolor\": \"white\", \"lakecolor\": \"white\", \"landcolor\": \"#E5ECF6\", \"showlakes\": true, \"showland\": true, \"subunitcolor\": \"white\"}, \"hoverlabel\": {\"align\": \"left\"}, \"hovermode\": \"closest\", \"mapbox\": {\"style\": \"light\"}, \"paper_bgcolor\": \"white\", \"plot_bgcolor\": \"#E5ECF6\", \"polar\": {\"angularaxis\": {\"gridcolor\": \"white\", \"linecolor\": \"white\", \"ticks\": \"\"}, \"bgcolor\": \"#E5ECF6\", \"radialaxis\": {\"gridcolor\": \"white\", \"linecolor\": \"white\", \"ticks\": \"\"}}, \"scene\": {\"xaxis\": {\"backgroundcolor\": \"#E5ECF6\", \"gridcolor\": \"white\", \"gridwidth\": 2, \"linecolor\": \"white\", \"showbackground\": true, \"ticks\": \"\", \"zerolinecolor\": \"white\"}, \"yaxis\": {\"backgroundcolor\": \"#E5ECF6\", \"gridcolor\": \"white\", \"gridwidth\": 2, \"linecolor\": \"white\", \"showbackground\": true, \"ticks\": \"\", \"zerolinecolor\": \"white\"}, \"zaxis\": {\"backgroundcolor\": \"#E5ECF6\", \"gridcolor\": \"white\", \"gridwidth\": 2, \"linecolor\": \"white\", \"showbackground\": true, \"ticks\": \"\", \"zerolinecolor\": \"white\"}}, \"shapedefaults\": {\"line\": {\"color\": \"#2a3f5f\"}}, \"ternary\": {\"aaxis\": {\"gridcolor\": \"white\", \"linecolor\": \"white\", \"ticks\": \"\"}, \"baxis\": {\"gridcolor\": \"white\", \"linecolor\": \"white\", \"ticks\": \"\"}, \"bgcolor\": \"#E5ECF6\", \"caxis\": {\"gridcolor\": \"white\", \"linecolor\": \"white\", \"ticks\": \"\"}}, \"title\": {\"x\": 0.05}, \"xaxis\": {\"automargin\": true, \"gridcolor\": \"white\", \"linecolor\": \"white\", \"ticks\": \"\", \"title\": {\"standoff\": 15}, \"zerolinecolor\": \"white\", \"zerolinewidth\": 2}, \"yaxis\": {\"automargin\": true, \"gridcolor\": \"white\", \"linecolor\": \"white\", \"ticks\": \"\", \"title\": {\"standoff\": 15}, \"zerolinecolor\": \"white\", \"zerolinewidth\": 2}}}, \"xaxis\": {\"anchor\": \"y\", \"domain\": [0.0, 1.0]}, \"yaxis\": {\"anchor\": \"x\", \"domain\": [0.0, 1.0], \"title\": {\"text\": \"Gender_category\"}}},\n",
              "                        {\"responsive\": true}\n",
              "                    ).then(function(){\n",
              "                            \n",
              "var gd = document.getElementById('6f225db9-c2f8-4ae5-beea-369b252d332f');\n",
              "var x = new MutationObserver(function (mutations, observer) {{\n",
              "        var display = window.getComputedStyle(gd).display;\n",
              "        if (!display || display === 'none') {{\n",
              "            console.log([gd, 'removed!']);\n",
              "            Plotly.purge(gd);\n",
              "            observer.disconnect();\n",
              "        }}\n",
              "}});\n",
              "\n",
              "// Listen for the removal of the full notebook cells\n",
              "var notebookContainer = gd.closest('#notebook-container');\n",
              "if (notebookContainer) {{\n",
              "    x.observe(notebookContainer, {childList: true});\n",
              "}}\n",
              "\n",
              "// Listen for the clearing of the current output cell\n",
              "var outputEl = gd.closest('.output');\n",
              "if (outputEl) {{\n",
              "    x.observe(outputEl, {childList: true});\n",
              "}}\n",
              "\n",
              "                        })\n",
              "                };\n",
              "                \n",
              "            </script>\n",
              "        </div>\n",
              "</body>\n",
              "</html>"
            ]
          },
          "metadata": {
            "tags": []
          }
        }
      ]
    },
    {
      "cell_type": "markdown",
      "metadata": {
        "id": "nWmtAYmT0i1h"
      },
      "source": [
        "### Education"
      ]
    },
    {
      "cell_type": "code",
      "metadata": {
        "id": "37aIjNT80k4-",
        "colab": {
          "base_uri": "https://localhost:8080/",
          "height": 0
        },
        "outputId": "b5f16dc9-3efd-45dd-a345-98cf72a7baf7"
      },
      "source": [
        "plot_graphs(train_pivot, 'Education_category')"
      ],
      "execution_count": 989,
      "outputs": [
        {
          "output_type": "display_data",
          "data": {
            "text/html": [
              "<html>\n",
              "<head><meta charset=\"utf-8\" /></head>\n",
              "<body>\n",
              "    <div>\n",
              "            <script src=\"https://cdnjs.cloudflare.com/ajax/libs/mathjax/2.7.5/MathJax.js?config=TeX-AMS-MML_SVG\"></script><script type=\"text/javascript\">if (window.MathJax) {MathJax.Hub.Config({SVG: {font: \"STIX-Web\"}});}</script>\n",
              "                <script type=\"text/javascript\">window.PlotlyConfig = {MathJaxConfig: 'local'};</script>\n",
              "        <script src=\"https://cdn.plot.ly/plotly-latest.min.js\"></script>    \n",
              "            <div id=\"6863b472-c6b8-4779-a708-5a219d0e7d0b\" class=\"plotly-graph-div\" style=\"height:525px; width:100%;\"></div>\n",
              "            <script type=\"text/javascript\">\n",
              "                \n",
              "                    window.PLOTLYENV=window.PLOTLYENV || {};\n",
              "                    \n",
              "                if (document.getElementById(\"6863b472-c6b8-4779-a708-5a219d0e7d0b\")) {\n",
              "                    Plotly.newPlot(\n",
              "                        '6863b472-c6b8-4779-a708-5a219d0e7d0b',\n",
              "                        [{\"alignmentgroup\": \"True\", \"bingroup\": \"x\", \"hoverlabel\": {\"namelength\": 0}, \"hovertemplate\": \"left=False<br>Education_category=%{x}<br>count=%{y}\", \"legendgroup\": \"left=False\", \"marker\": {\"color\": \"rgb(102, 197, 204)\"}, \"name\": \"left=False\", \"offsetgroup\": \"left=False\", \"orientation\": \"v\", \"showlegend\": true, \"type\": \"histogram\", \"x\": [3.0, 2.0, 3.0, 1.0, 2.0, 3.0, 3.0, 1.0, 3.0, 3.0, 2.0, 1.0, 2.0, 3.0, 1.0, 3.0, 1.0, 3.0, 1.0, 3.0, 3.0, 1.0, 1.0, 3.0, 2.0, 3.0, 2.0, 1.0, 2.0, 1.0, 2.0, 2.0, 1.0, 2.0, 1.0, 1.0, 1.0, 2.0, 1.0, 1.0, 3.0, 1.0, 3.0, 1.0, 3.0, 2.0, 1.0, 1.0, 1.0, 1.0, 3.0, 1.0, 1.0, 1.0, 2.0, 2.0, 1.0, 3.0, 3.0, 1.0, 1.0, 2.0, 3.0, 2.0, 2.0, 2.0, 1.0, 2.0, 2.0, 3.0, 1.0, 1.0, 1.0, 2.0, 3.0, 1.0, 3.0, 2.0, 3.0, 1.0, 3.0, 2.0, 2.0, 3.0, 3.0, 2.0, 2.0, 2.0, 2.0, 1.0, 3.0, 3.0, 3.0, 3.0, 2.0, 2.0, 1.0, 3.0, 1.0, 3.0, 1.0, 3.0, 2.0, 2.0, 3.0, 3.0, 1.0, 3.0, 3.0, 2.0, 1.0, 3.0, 1.0, 2.0, 3.0, 2.0, 2.0, 2.0, 1.0, 3.0, 2.0, 3.0, 2.0, 1.0, 2.0, 1.0, 3.0, 3.0, 2.0, 1.0, 3.0, 3.0, 2.0, 2.0, 2.0, 2.0, 3.0, 3.0, 1.0, 2.0, 1.0, 1.0, 3.0, 1.0, 1.0, 2.0, 3.0, 1.0, 1.0, 2.0, 2.0, 1.0, 1.0, 3.0, 1.0, 3.0, 2.0, 2.0, 3.0, 1.0, 3.0, 2.0, 2.0, 2.0, 1.0, 3.0, 3.0, 3.0, 3.0, 3.0, 3.0, 1.0, 1.0, 3.0, 2.0, 1.0, 1.0, 3.0, 2.0, 2.0, 2.0, 1.0, 2.0, 3.0, 1.0, 2.0, 3.0, 3.0, 1.0, 2.0, 3.0, 2.0, 1.0, 2.0, 2.0, 2.0, 3.0, 2.0, 3.0, 1.0, 2.0, 3.0, 2.0, 3.0, 2.0, 3.0, 1.0, 2.0, 1.0, 2.0, 2.0, 3.0, 3.0, 2.0, 1.0, 3.0, 1.0, 2.0, 1.0, 1.0, 3.0, 2.0, 1.0, 3.0, 3.0, 2.0, 2.0, 2.0, 3.0, 2.0, 2.0, 1.0, 1.0, 3.0, 2.0, 3.0, 1.0, 2.0, 3.0, 3.0, 2.0, 1.0, 3.0, 1.0, 1.0, 2.0, 2.0, 1.0, 2.0, 3.0, 1.0, 2.0, 2.0, 3.0, 2.0, 2.0, 1.0, 2.0, 2.0, 2.0, 2.0, 1.0, 2.0, 3.0, 1.0, 3.0, 2.0, 1.0, 1.0, 2.0, 2.0, 3.0, 2.0, 1.0, 1.0, 2.0, 2.0, 2.0, 2.0, 2.0, 2.0, 3.0, 1.0, 3.0, 3.0, 3.0, 1.0, 2.0, 1.0, 3.0, 2.0, 2.0, 2.0, 3.0, 2.0, 3.0, 2.0, 1.0, 3.0, 2.0, 1.0, 1.0, 1.0, 1.0, 2.0, 2.0, 1.0, 2.0, 3.0, 1.0, 3.0, 2.0, 3.0, 2.0, 1.0, 2.0, 1.0, 1.0, 3.0, 3.0, 1.0, 2.0, 3.0, 3.0, 3.0, 2.0, 3.0, 2.0, 2.0, 1.0, 2.0, 2.0, 2.0, 1.0, 1.0, 3.0, 1.0, 2.0, 3.0, 1.0, 2.0, 3.0, 2.0, 2.0, 1.0, 3.0, 3.0, 3.0, 2.0, 3.0, 3.0, 3.0, 2.0, 1.0, 3.0, 2.0, 2.0, 2.0, 1.0, 3.0, 3.0, 1.0, 3.0, 3.0, 2.0, 1.0, 2.0, 1.0, 3.0, 3.0, 2.0, 2.0, 2.0, 3.0, 1.0, 2.0, 2.0, 3.0, 1.0, 1.0, 1.0, 2.0, 3.0, 3.0, 2.0, 1.0, 3.0, 3.0, 3.0, 3.0, 2.0, 2.0, 2.0, 2.0, 2.0, 1.0, 2.0, 1.0, 1.0, 1.0, 2.0, 1.0, 3.0, 3.0, 1.0, 3.0, 2.0, 2.0, 1.0, 1.0, 2.0, 3.0, 3.0, 3.0, 2.0, 2.0, 1.0, 3.0, 3.0, 2.0, 3.0, 3.0, 1.0, 2.0, 2.0, 2.0, 3.0, 2.0, 2.0, 1.0, 1.0, 2.0, 3.0, 2.0, 3.0, 3.0, 1.0, 2.0, 2.0, 1.0, 1.0, 3.0, 3.0, 3.0, 2.0, 1.0, 2.0, 3.0, 3.0, 2.0, 1.0, 2.0, 2.0, 1.0, 3.0, 1.0, 2.0, 1.0, 2.0, 3.0, 1.0, 3.0, 2.0, 3.0, 1.0, 1.0, 2.0, 2.0, 2.0, 2.0, 2.0, 1.0, 3.0, 3.0, 2.0, 3.0, 2.0, 1.0, 3.0, 2.0, 3.0, 2.0, 3.0, 2.0, 1.0, 2.0, 3.0, 2.0, 3.0, 3.0, 1.0, 2.0, 3.0, 1.0, 2.0, 2.0, 1.0, 1.0, 2.0, 1.0, 1.0, 1.0, 2.0, 1.0, 2.0, 3.0, 1.0, 2.0, 2.0, 1.0, 1.0, 2.0, 3.0, 1.0, 2.0, 1.0, 3.0, 3.0, 1.0, 2.0, 2.0, 3.0, 2.0, 2.0, 2.0, 1.0, 1.0, 3.0, 2.0, 2.0, 1.0, 1.0, 1.0, 1.0, 3.0, 2.0, 3.0, 2.0, 1.0, 2.0, 3.0, 1.0, 2.0, 3.0, 1.0, 1.0, 3.0, 1.0, 3.0, 3.0, 1.0, 3.0, 3.0, 1.0, 3.0, 1.0, 3.0, 3.0, 2.0, 1.0, 3.0, 2.0, 1.0, 1.0, 3.0, 1.0, 1.0, 1.0, 1.0, 3.0, 3.0, 2.0, 3.0, 2.0, 3.0, 3.0, 1.0, 2.0, 2.0, 1.0, 2.0, 2.0, 3.0, 2.0, 1.0, 3.0, 2.0, 1.0, 2.0, 3.0, 2.0, 2.0, 2.0, 3.0, 1.0, 3.0, 2.0, 2.0, 2.0, 3.0, 2.0, 1.0, 3.0, 1.0, 3.0, 3.0, 2.0, 2.0, 3.0, 2.0, 3.0, 1.0, 1.0, 3.0, 3.0, 1.0, 1.0, 1.0, 2.0, 2.0, 3.0, 1.0, 2.0, 2.0, 3.0, 1.0, 3.0, 2.0, 3.0, 2.0, 2.0, 1.0, 2.0, 2.0, 3.0, 1.0, 1.0, 2.0, 3.0, 3.0, 3.0, 3.0, 3.0, 2.0, 3.0, 2.0, 1.0, 1.0, 3.0, 3.0, 3.0, 3.0, 1.0, 1.0, 2.0, 3.0, 3.0, 3.0, 2.0, 1.0, 3.0, 3.0, 1.0, 3.0, 1.0, 1.0, 2.0, 2.0, 2.0, 3.0, 2.0, 1.0, 2.0, 1.0, 1.0, 1.0, 1.0, 1.0, 3.0, 2.0, 2.0, 2.0, 3.0, 1.0, 2.0, 3.0, 1.0, 3.0, 2.0, 2.0, 3.0, 2.0, 3.0, 3.0, 2.0, 3.0, 1.0, 1.0, 1.0, 1.0, 3.0, 1.0, 1.0, 2.0, 2.0, 3.0, 1.0, 3.0, 2.0, 1.0, 2.0, 3.0, 2.0, 2.0, 3.0, 3.0, 1.0, 2.0, 3.0, 1.0, 1.0, 1.0, 2.0, 3.0, 3.0, 1.0, 3.0, 3.0, 2.0, 2.0, 3.0, 3.0, 1.0, 1.0, 1.0, 1.0, 1.0, 3.0, 3.0, 1.0, 3.0], \"xaxis\": \"x\", \"yaxis\": \"y\"}, {\"alignmentgroup\": \"True\", \"bingroup\": \"x\", \"hoverlabel\": {\"namelength\": 0}, \"hovertemplate\": \"left=True<br>Education_category=%{x}<br>count=%{y}\", \"legendgroup\": \"left=True\", \"marker\": {\"color\": \"rgb(246, 207, 113)\"}, \"name\": \"left=True\", \"offsetgroup\": \"left=True\", \"orientation\": \"v\", \"showlegend\": true, \"type\": \"histogram\", \"x\": [3.0, 3.0, 1.0, 1.0, 3.0, 3.0, 1.0, 3.0, 2.0, 1.0, 2.0, 3.0, 3.0, 3.0, 2.0, 2.0, 2.0, 2.0, 2.0, 1.0, 1.0, 1.0, 1.0, 3.0, 3.0, 1.0, 1.0, 1.0, 1.0, 2.0, 1.0, 2.0, 3.0, 3.0, 2.0, 2.0, 2.0, 3.0, 3.0, 3.0, 2.0, 3.0, 2.0, 3.0, 1.0, 3.0, 1.0, 2.0, 1.0, 1.0, 3.0, 3.0, 3.0, 1.0, 1.0, 1.0, 1.0, 2.0, 1.0, 1.0, 3.0, 3.0, 2.0, 2.0, 1.0, 1.0, 1.0, 2.0, 3.0, 3.0, 2.0, 3.0, 2.0, 2.0, 2.0, 3.0, 3.0, 1.0, 3.0, 2.0, 2.0, 2.0, 3.0, 3.0, 2.0, 2.0, 1.0, 1.0, 1.0, 2.0, 2.0, 2.0, 2.0, 2.0, 2.0, 3.0, 2.0, 1.0, 1.0, 3.0, 2.0, 3.0, 3.0, 2.0, 3.0, 2.0, 1.0, 1.0, 2.0, 1.0, 3.0, 2.0, 3.0, 3.0, 3.0, 1.0, 2.0, 1.0, 3.0, 1.0, 1.0, 2.0, 2.0, 2.0, 1.0, 3.0, 1.0, 1.0, 3.0, 3.0, 2.0, 2.0, 2.0, 1.0, 2.0, 1.0, 1.0, 1.0, 2.0, 3.0, 3.0, 1.0, 1.0, 2.0, 3.0, 1.0, 1.0, 1.0, 1.0, 3.0, 3.0, 2.0, 1.0, 1.0, 2.0, 2.0, 3.0, 2.0, 2.0, 1.0, 2.0, 2.0, 1.0, 1.0, 3.0, 1.0, 3.0, 2.0, 1.0, 2.0, 3.0, 3.0, 2.0, 1.0, 1.0, 1.0, 2.0, 1.0, 1.0, 1.0, 1.0, 3.0, 3.0, 2.0, 2.0, 3.0, 2.0, 1.0, 3.0, 3.0, 2.0, 2.0, 2.0, 3.0, 2.0, 1.0, 3.0, 3.0, 2.0, 1.0, 3.0, 2.0, 2.0, 2.0, 1.0, 3.0, 3.0, 1.0, 3.0, 1.0, 3.0, 2.0, 1.0, 3.0, 3.0, 1.0, 1.0, 1.0, 3.0, 3.0, 2.0, 2.0, 3.0, 3.0, 3.0, 2.0, 3.0, 3.0, 1.0, 1.0, 3.0, 3.0, 2.0, 2.0, 1.0, 1.0, 2.0, 3.0, 3.0, 1.0, 1.0, 3.0, 1.0, 1.0, 1.0, 3.0, 1.0, 3.0, 3.0, 2.0, 3.0, 2.0, 1.0, 3.0, 1.0, 3.0, 2.0, 1.0, 1.0, 2.0, 3.0, 3.0, 1.0, 1.0, 3.0, 1.0, 1.0, 2.0, 2.0, 2.0, 1.0, 2.0, 2.0, 3.0, 3.0, 2.0, 1.0, 1.0, 2.0, 3.0, 3.0, 3.0, 1.0, 2.0, 2.0, 2.0, 2.0, 1.0, 2.0, 1.0, 2.0, 2.0, 3.0, 1.0, 3.0, 3.0, 2.0, 2.0, 3.0, 1.0, 2.0, 2.0, 1.0, 1.0, 3.0, 2.0, 2.0, 3.0, 1.0, 3.0, 2.0, 3.0, 2.0, 2.0, 3.0, 2.0, 3.0, 2.0, 1.0, 1.0, 3.0, 3.0, 1.0, 3.0, 1.0, 1.0, 3.0, 2.0, 3.0, 1.0, 1.0, 1.0, 1.0, 1.0, 2.0, 2.0, 2.0, 1.0, 1.0, 1.0, 2.0, 3.0, 3.0, 3.0, 2.0, 1.0, 2.0, 3.0, 3.0, 3.0, 2.0, 2.0, 1.0, 2.0, 1.0, 1.0, 3.0, 3.0, 2.0, 1.0, 2.0, 3.0, 3.0, 2.0, 2.0, 2.0, 1.0, 1.0, 1.0, 3.0, 1.0, 2.0, 3.0, 2.0, 3.0, 3.0, 2.0, 2.0, 3.0, 3.0, 1.0, 3.0, 1.0, 2.0, 2.0, 1.0, 1.0, 2.0, 3.0, 3.0, 1.0, 2.0, 3.0, 1.0, 3.0, 3.0, 1.0, 3.0, 1.0, 2.0, 3.0, 2.0, 3.0, 1.0, 2.0, 3.0, 1.0, 1.0, 2.0, 3.0, 2.0, 1.0, 2.0, 3.0, 3.0, 2.0, 2.0, 1.0, 2.0, 2.0, 3.0, 2.0, 1.0, 2.0, 2.0, 1.0, 2.0, 3.0, 2.0, 3.0, 3.0, 3.0, 3.0, 2.0, 2.0, 3.0, 3.0, 3.0, 3.0, 1.0, 2.0, 1.0, 3.0, 3.0, 2.0, 2.0, 2.0, 3.0, 3.0, 1.0, 3.0, 3.0, 3.0, 1.0, 1.0, 3.0, 1.0, 3.0, 3.0, 1.0, 3.0, 1.0, 2.0, 2.0, 2.0, 1.0, 2.0, 2.0, 2.0, 3.0, 2.0, 2.0, 1.0, 1.0, 1.0, 2.0, 3.0, 1.0, 3.0, 2.0, 1.0, 1.0, 1.0, 1.0, 3.0, 3.0, 1.0, 1.0, 1.0, 1.0, 1.0, 1.0, 1.0, 3.0, 2.0, 1.0, 1.0, 1.0, 3.0, 3.0, 2.0, 1.0, 2.0, 1.0, 2.0, 2.0, 2.0, 3.0, 1.0, 3.0, 1.0, 1.0, 3.0, 3.0, 3.0, 3.0, 2.0, 3.0, 3.0, 3.0, 1.0, 2.0, 3.0, 1.0, 1.0, 1.0, 3.0, 1.0, 3.0, 2.0, 3.0, 1.0, 2.0, 3.0, 3.0, 1.0, 1.0, 3.0, 1.0, 3.0, 2.0, 1.0, 3.0, 3.0, 2.0, 1.0, 3.0, 1.0, 2.0, 2.0, 2.0, 3.0, 3.0, 3.0, 3.0, 2.0, 3.0, 2.0, 3.0, 1.0, 1.0, 3.0, 3.0, 1.0, 1.0, 1.0, 1.0, 3.0, 2.0, 1.0, 2.0, 3.0, 1.0, 3.0, 3.0, 2.0, 1.0, 3.0, 3.0, 2.0, 3.0, 3.0, 1.0, 3.0, 3.0, 2.0, 3.0, 2.0, 3.0, 3.0, 3.0, 3.0, 1.0, 3.0, 2.0, 2.0, 1.0, 3.0, 1.0, 3.0, 3.0, 1.0, 3.0, 2.0, 2.0, 1.0, 2.0, 3.0, 2.0, 2.0, 3.0, 3.0, 2.0, 3.0, 3.0, 1.0, 1.0, 3.0, 1.0, 2.0, 3.0, 3.0, 3.0, 3.0, 1.0, 2.0, 2.0, 3.0, 3.0, 3.0, 2.0, 2.0, 2.0, 1.0, 2.0, 1.0, 3.0, 2.0, 1.0, 2.0, 3.0, 2.0, 3.0, 3.0, 2.0, 3.0, 1.0, 1.0, 1.0, 3.0, 2.0, 2.0, 1.0, 1.0, 3.0, 2.0, 1.0, 2.0, 3.0, 2.0, 1.0, 1.0, 3.0, 2.0, 3.0, 2.0, 3.0, 3.0, 1.0, 1.0, 3.0, 2.0, 1.0, 2.0, 3.0, 3.0, 1.0, 1.0, 2.0, 3.0, 2.0, 1.0, 3.0, 3.0, 1.0, 2.0, 1.0, 3.0, 2.0, 1.0, 2.0, 3.0, 3.0, 1.0, 2.0, 2.0, 1.0, 2.0, 3.0, 2.0, 1.0, 1.0, 1.0, 1.0, 1.0, 1.0, 3.0, 1.0, 2.0, 1.0, 2.0, 3.0, 2.0, 2.0, 1.0, 3.0, 2.0, 2.0, 3.0, 3.0, 3.0, 2.0, 2.0, 3.0, 2.0, 3.0, 2.0, 1.0, 1.0, 1.0, 1.0, 2.0, 1.0, 3.0, 2.0, 3.0, 3.0, 3.0, 1.0, 2.0, 2.0, 3.0, 1.0, 2.0, 3.0, 3.0, 2.0, 1.0, 2.0, 1.0, 2.0, 1.0, 3.0, 1.0, 1.0, 2.0, 1.0, 3.0, 3.0, 3.0, 3.0, 1.0, 3.0, 2.0, 1.0, 2.0, 3.0, 1.0, 1.0, 1.0, 3.0, 3.0, 3.0, 1.0, 2.0, 1.0, 1.0, 1.0, 3.0, 3.0, 1.0, 1.0, 2.0, 2.0, 3.0, 2.0, 2.0, 2.0, 3.0, 1.0, 1.0, 2.0, 2.0, 2.0, 3.0, 1.0, 3.0, 2.0, 3.0, 3.0, 2.0, 3.0, 1.0, 1.0, 2.0, 1.0, 2.0, 3.0, 1.0, 2.0, 2.0, 1.0, 2.0, 3.0, 2.0, 2.0, 3.0, 1.0, 2.0, 2.0, 2.0, 3.0, 3.0, 1.0, 2.0, 3.0, 1.0, 2.0, 1.0, 1.0, 2.0, 3.0, 1.0, 2.0, 2.0, 3.0, 1.0, 1.0, 2.0, 2.0, 3.0, 2.0, 3.0, 1.0, 2.0, 1.0, 3.0, 1.0, 1.0, 3.0, 3.0, 2.0, 3.0, 1.0, 2.0, 2.0, 1.0, 3.0, 3.0, 3.0, 3.0, 3.0, 1.0, 1.0, 3.0, 3.0, 3.0, 1.0, 1.0, 3.0, 3.0, 1.0, 1.0, 2.0, 2.0, 3.0, 2.0, 1.0, 2.0, 1.0, 3.0, 1.0, 3.0, 2.0, 3.0, 2.0, 1.0, 2.0, 3.0, 3.0, 3.0, 1.0, 1.0, 3.0, 3.0, 1.0, 3.0, 1.0, 2.0, 1.0, 2.0, 1.0, 3.0, 1.0, 2.0, 1.0, 2.0, 2.0, 3.0, 1.0, 1.0, 3.0, 3.0, 1.0, 2.0, 2.0, 1.0, 1.0, 2.0, 2.0, 3.0, 3.0, 2.0, 2.0, 1.0, 2.0, 3.0, 1.0, 3.0, 2.0, 2.0, 2.0, 2.0, 1.0, 3.0, 3.0, 1.0, 1.0, 2.0, 2.0, 2.0, 2.0, 2.0, 1.0, 1.0, 2.0, 3.0, 3.0, 3.0, 3.0, 2.0, 3.0, 3.0, 1.0, 2.0, 1.0, 3.0, 3.0, 3.0, 2.0, 3.0, 2.0, 3.0, 1.0, 1.0, 1.0, 1.0, 1.0, 2.0, 1.0, 1.0, 1.0, 3.0, 1.0, 1.0, 1.0, 1.0, 3.0, 2.0, 1.0, 3.0, 1.0, 1.0, 1.0, 2.0, 3.0, 2.0, 2.0, 2.0, 2.0, 2.0, 3.0, 1.0, 1.0, 3.0, 3.0, 3.0, 3.0, 2.0, 2.0, 2.0, 3.0, 2.0, 3.0, 1.0, 3.0, 1.0, 3.0, 3.0, 3.0, 1.0, 3.0, 3.0, 2.0, 2.0, 2.0, 2.0, 1.0, 2.0, 3.0, 2.0, 2.0, 3.0, 2.0, 2.0, 1.0, 3.0, 1.0, 1.0, 3.0, 2.0, 2.0, 1.0, 1.0, 1.0, 2.0, 2.0, 3.0, 1.0, 3.0, 3.0, 1.0, 1.0, 2.0, 3.0, 2.0, 2.0, 3.0, 3.0, 3.0, 1.0, 3.0, 1.0, 3.0, 2.0, 2.0, 1.0, 1.0, 2.0, 3.0, 2.0, 3.0, 1.0, 1.0, 2.0, 1.0, 1.0, 2.0, 2.0, 1.0, 2.0, 2.0, 1.0, 2.0, 2.0, 3.0, 1.0, 3.0, 1.0, 3.0, 1.0, 3.0, 1.0, 1.0, 3.0, 2.0, 1.0, 3.0, 3.0, 1.0, 1.0, 3.0, 3.0, 3.0, 2.0, 3.0, 1.0, 2.0, 2.0, 2.0, 1.0, 3.0, 1.0, 2.0, 3.0, 3.0, 3.0, 2.0, 2.0, 1.0, 2.0, 2.0, 1.0, 1.0, 3.0, 1.0, 3.0, 1.0, 1.0, 1.0, 2.0, 2.0, 2.0, 3.0, 1.0, 2.0, 3.0, 2.0, 3.0, 1.0, 1.0, 3.0, 3.0, 1.0, 2.0, 1.0, 2.0, 2.0, 1.0, 3.0, 2.0, 2.0, 2.0, 3.0, 1.0, 1.0, 2.0, 3.0, 3.0, 3.0, 2.0, 2.0, 2.0, 3.0, 1.0, 1.0, 3.0, 1.0, 3.0, 1.0, 3.0, 3.0, 1.0, 1.0, 1.0, 2.0, 2.0, 3.0, 1.0, 2.0, 3.0, 2.0, 3.0, 1.0, 1.0, 2.0, 2.0, 2.0, 3.0, 3.0, 3.0, 1.0, 3.0, 3.0, 2.0, 1.0, 2.0, 1.0, 2.0, 3.0, 3.0, 3.0, 1.0, 2.0, 2.0, 3.0, 2.0, 2.0, 3.0, 2.0, 3.0, 3.0, 1.0, 2.0, 1.0, 3.0, 2.0, 3.0, 1.0, 3.0, 3.0, 2.0, 3.0, 1.0, 1.0, 2.0, 2.0, 3.0, 3.0, 2.0, 3.0, 3.0, 2.0, 2.0, 2.0, 3.0, 3.0, 1.0, 3.0, 2.0, 2.0, 1.0, 3.0, 3.0, 3.0, 3.0, 1.0, 2.0, 2.0, 2.0, 2.0, 2.0, 1.0, 2.0, 2.0, 3.0, 1.0, 1.0, 2.0, 1.0, 3.0, 2.0, 1.0, 2.0, 1.0, 2.0, 3.0, 1.0, 2.0, 2.0, 1.0, 1.0, 2.0, 2.0, 2.0, 3.0, 2.0, 1.0, 2.0, 1.0, 2.0, 1.0, 2.0, 3.0, 1.0, 2.0, 2.0, 1.0, 2.0, 3.0, 2.0, 3.0, 1.0, 2.0, 1.0, 1.0, 3.0, 1.0, 1.0, 3.0, 3.0, 2.0, 3.0, 2.0, 2.0, 2.0, 2.0, 1.0, 1.0, 2.0, 2.0, 2.0, 3.0, 3.0, 1.0, 3.0, 3.0, 1.0, 3.0, 3.0, 1.0, 1.0, 2.0, 3.0, 1.0, 2.0, 1.0, 1.0, 1.0, 1.0, 1.0, 2.0, 2.0, 3.0, 2.0, 1.0, 3.0, 2.0, 3.0, 3.0, 3.0, 2.0, 1.0, 3.0, 1.0, 1.0, 1.0, 3.0, 1.0, 1.0, 2.0, 3.0, 3.0, 3.0, 3.0, 2.0, 1.0, 3.0, 3.0, 1.0, 1.0, 2.0, 1.0, 1.0, 1.0, 3.0, 3.0, 1.0, 1.0, 3.0, 1.0, 3.0, 2.0, 3.0, 2.0, 2.0, 3.0, 3.0, 2.0, 3.0, 3.0, 2.0, 1.0, 1.0, 3.0, 1.0, 3.0, 3.0, 3.0, 3.0, 1.0, 2.0, 3.0, 1.0, 1.0, 1.0, 1.0, 2.0, 3.0, 2.0, 2.0, 3.0, 3.0, 2.0, 2.0, 3.0, 1.0, 1.0, 1.0, 2.0, 3.0, 1.0, 3.0, 2.0, 3.0, 3.0, 1.0, 2.0, 3.0, 2.0, 2.0, 1.0, 2.0, 1.0, 2.0, 3.0, 3.0, 1.0, 1.0, 1.0, 2.0, 2.0, 1.0, 3.0, 2.0, 3.0, 2.0, 3.0, 3.0, 1.0, 2.0, 3.0, 3.0, 1.0, 2.0, 2.0, 3.0, 3.0, 3.0, 1.0, 2.0, 1.0, 1.0, 1.0, 3.0, 2.0, 3.0, 3.0, 2.0, 3.0, 1.0, 3.0, 3.0, 2.0, 1.0, 1.0, 1.0, 2.0, 1.0, 2.0, 3.0, 2.0, 3.0, 1.0, 1.0, 1.0, 1.0, 1.0, 2.0, 1.0, 1.0, 3.0, 2.0, 3.0, 3.0, 1.0, 1.0, 3.0, 1.0, 1.0, 1.0, 1.0, 2.0, 3.0, 2.0, 2.0, 1.0, 1.0, 2.0, 2.0, 3.0, 1.0, 3.0, 1.0, 1.0, 3.0, 3.0, 2.0, 1.0, 1.0, 1.0, 3.0, 3.0, 2.0, 1.0, 2.0, 1.0, 3.0, 2.0, 1.0, 3.0, 2.0, 3.0, 2.0, 2.0, 2.0, 2.0, 3.0, 1.0, 3.0, 3.0, 1.0, 1.0, 2.0, 1.0, 1.0, 1.0, 1.0, 2.0, 3.0, 1.0, 3.0, 1.0, 3.0, 2.0, 1.0, 2.0, 2.0, 3.0, 2.0, 2.0, 2.0, 2.0, 2.0, 3.0, 2.0, 2.0, 1.0, 2.0, 3.0, 1.0, 2.0, 1.0, 3.0, 1.0, 2.0, 1.0, 2.0, 1.0, 2.0, 1.0, 1.0, 2.0, 1.0, 1.0, 3.0, 2.0, 1.0, 1.0, 3.0, 2.0, 3.0, 2.0, 1.0, 1.0, 3.0, 3.0, 3.0, 3.0, 1.0, 3.0, 2.0, 2.0, 3.0, 2.0, 1.0, 2.0, 2.0, 1.0, 2.0, 1.0, 1.0, 2.0, 3.0, 2.0, 3.0, 2.0, 2.0, 1.0, 2.0, 2.0, 2.0, 3.0, 1.0, 1.0, 2.0, 2.0, 1.0, 2.0, 1.0, 1.0, 3.0], \"xaxis\": \"x\", \"yaxis\": \"y\"}],\n",
              "                        {\"barmode\": \"relative\", \"legend\": {\"tracegroupgap\": 0}, \"template\": {\"data\": {\"bar\": [{\"error_x\": {\"color\": \"#2a3f5f\"}, \"error_y\": {\"color\": \"#2a3f5f\"}, \"marker\": {\"line\": {\"color\": \"#E5ECF6\", \"width\": 0.5}}, \"type\": \"bar\"}], \"barpolar\": [{\"marker\": {\"line\": {\"color\": \"#E5ECF6\", \"width\": 0.5}}, \"type\": \"barpolar\"}], \"carpet\": [{\"aaxis\": {\"endlinecolor\": \"#2a3f5f\", \"gridcolor\": \"white\", \"linecolor\": \"white\", \"minorgridcolor\": \"white\", \"startlinecolor\": \"#2a3f5f\"}, \"baxis\": {\"endlinecolor\": \"#2a3f5f\", \"gridcolor\": \"white\", \"linecolor\": \"white\", \"minorgridcolor\": \"white\", \"startlinecolor\": \"#2a3f5f\"}, \"type\": \"carpet\"}], \"choropleth\": [{\"colorbar\": {\"outlinewidth\": 0, \"ticks\": \"\"}, \"type\": \"choropleth\"}], \"contour\": [{\"colorbar\": {\"outlinewidth\": 0, \"ticks\": \"\"}, \"colorscale\": [[0.0, \"#0d0887\"], [0.1111111111111111, \"#46039f\"], [0.2222222222222222, \"#7201a8\"], [0.3333333333333333, \"#9c179e\"], [0.4444444444444444, \"#bd3786\"], [0.5555555555555556, \"#d8576b\"], [0.6666666666666666, \"#ed7953\"], [0.7777777777777778, \"#fb9f3a\"], [0.8888888888888888, \"#fdca26\"], [1.0, \"#f0f921\"]], \"type\": \"contour\"}], \"contourcarpet\": [{\"colorbar\": {\"outlinewidth\": 0, \"ticks\": \"\"}, \"type\": \"contourcarpet\"}], \"heatmap\": [{\"colorbar\": {\"outlinewidth\": 0, \"ticks\": \"\"}, \"colorscale\": [[0.0, \"#0d0887\"], [0.1111111111111111, \"#46039f\"], [0.2222222222222222, \"#7201a8\"], [0.3333333333333333, \"#9c179e\"], [0.4444444444444444, \"#bd3786\"], [0.5555555555555556, \"#d8576b\"], [0.6666666666666666, \"#ed7953\"], [0.7777777777777778, \"#fb9f3a\"], [0.8888888888888888, \"#fdca26\"], [1.0, \"#f0f921\"]], \"type\": \"heatmap\"}], \"heatmapgl\": [{\"colorbar\": {\"outlinewidth\": 0, \"ticks\": \"\"}, \"colorscale\": [[0.0, \"#0d0887\"], [0.1111111111111111, \"#46039f\"], [0.2222222222222222, \"#7201a8\"], [0.3333333333333333, \"#9c179e\"], [0.4444444444444444, \"#bd3786\"], [0.5555555555555556, \"#d8576b\"], [0.6666666666666666, \"#ed7953\"], [0.7777777777777778, \"#fb9f3a\"], [0.8888888888888888, \"#fdca26\"], [1.0, \"#f0f921\"]], \"type\": \"heatmapgl\"}], \"histogram\": [{\"marker\": {\"colorbar\": {\"outlinewidth\": 0, \"ticks\": \"\"}}, \"type\": \"histogram\"}], \"histogram2d\": [{\"colorbar\": {\"outlinewidth\": 0, \"ticks\": \"\"}, \"colorscale\": [[0.0, \"#0d0887\"], [0.1111111111111111, \"#46039f\"], [0.2222222222222222, \"#7201a8\"], [0.3333333333333333, \"#9c179e\"], [0.4444444444444444, \"#bd3786\"], [0.5555555555555556, \"#d8576b\"], [0.6666666666666666, \"#ed7953\"], [0.7777777777777778, \"#fb9f3a\"], [0.8888888888888888, \"#fdca26\"], [1.0, \"#f0f921\"]], \"type\": \"histogram2d\"}], \"histogram2dcontour\": [{\"colorbar\": {\"outlinewidth\": 0, \"ticks\": \"\"}, \"colorscale\": [[0.0, \"#0d0887\"], [0.1111111111111111, \"#46039f\"], [0.2222222222222222, \"#7201a8\"], [0.3333333333333333, \"#9c179e\"], [0.4444444444444444, \"#bd3786\"], [0.5555555555555556, \"#d8576b\"], [0.6666666666666666, \"#ed7953\"], [0.7777777777777778, \"#fb9f3a\"], [0.8888888888888888, \"#fdca26\"], [1.0, \"#f0f921\"]], \"type\": \"histogram2dcontour\"}], \"mesh3d\": [{\"colorbar\": {\"outlinewidth\": 0, \"ticks\": \"\"}, \"type\": \"mesh3d\"}], \"parcoords\": [{\"line\": {\"colorbar\": {\"outlinewidth\": 0, \"ticks\": \"\"}}, \"type\": \"parcoords\"}], \"pie\": [{\"automargin\": true, \"type\": \"pie\"}], \"scatter\": [{\"marker\": {\"colorbar\": {\"outlinewidth\": 0, \"ticks\": \"\"}}, \"type\": \"scatter\"}], \"scatter3d\": [{\"line\": {\"colorbar\": {\"outlinewidth\": 0, \"ticks\": \"\"}}, \"marker\": {\"colorbar\": {\"outlinewidth\": 0, \"ticks\": \"\"}}, \"type\": \"scatter3d\"}], \"scattercarpet\": [{\"marker\": {\"colorbar\": {\"outlinewidth\": 0, \"ticks\": \"\"}}, \"type\": \"scattercarpet\"}], \"scattergeo\": [{\"marker\": {\"colorbar\": {\"outlinewidth\": 0, \"ticks\": \"\"}}, \"type\": \"scattergeo\"}], \"scattergl\": [{\"marker\": {\"colorbar\": {\"outlinewidth\": 0, \"ticks\": \"\"}}, \"type\": \"scattergl\"}], \"scattermapbox\": [{\"marker\": {\"colorbar\": {\"outlinewidth\": 0, \"ticks\": \"\"}}, \"type\": \"scattermapbox\"}], \"scatterpolar\": [{\"marker\": {\"colorbar\": {\"outlinewidth\": 0, \"ticks\": \"\"}}, \"type\": \"scatterpolar\"}], \"scatterpolargl\": [{\"marker\": {\"colorbar\": {\"outlinewidth\": 0, \"ticks\": \"\"}}, \"type\": \"scatterpolargl\"}], \"scatterternary\": [{\"marker\": {\"colorbar\": {\"outlinewidth\": 0, \"ticks\": \"\"}}, \"type\": \"scatterternary\"}], \"surface\": [{\"colorbar\": {\"outlinewidth\": 0, \"ticks\": \"\"}, \"colorscale\": [[0.0, \"#0d0887\"], [0.1111111111111111, \"#46039f\"], [0.2222222222222222, \"#7201a8\"], [0.3333333333333333, \"#9c179e\"], [0.4444444444444444, \"#bd3786\"], [0.5555555555555556, \"#d8576b\"], [0.6666666666666666, \"#ed7953\"], [0.7777777777777778, \"#fb9f3a\"], [0.8888888888888888, \"#fdca26\"], [1.0, \"#f0f921\"]], \"type\": \"surface\"}], \"table\": [{\"cells\": {\"fill\": {\"color\": \"#EBF0F8\"}, \"line\": {\"color\": \"white\"}}, \"header\": {\"fill\": {\"color\": \"#C8D4E3\"}, \"line\": {\"color\": \"white\"}}, \"type\": \"table\"}]}, \"layout\": {\"annotationdefaults\": {\"arrowcolor\": \"#2a3f5f\", \"arrowhead\": 0, \"arrowwidth\": 1}, \"coloraxis\": {\"colorbar\": {\"outlinewidth\": 0, \"ticks\": \"\"}}, \"colorscale\": {\"diverging\": [[0, \"#8e0152\"], [0.1, \"#c51b7d\"], [0.2, \"#de77ae\"], [0.3, \"#f1b6da\"], [0.4, \"#fde0ef\"], [0.5, \"#f7f7f7\"], [0.6, \"#e6f5d0\"], [0.7, \"#b8e186\"], [0.8, \"#7fbc41\"], [0.9, \"#4d9221\"], [1, \"#276419\"]], \"sequential\": [[0.0, \"#0d0887\"], [0.1111111111111111, \"#46039f\"], [0.2222222222222222, \"#7201a8\"], [0.3333333333333333, \"#9c179e\"], [0.4444444444444444, \"#bd3786\"], [0.5555555555555556, \"#d8576b\"], [0.6666666666666666, \"#ed7953\"], [0.7777777777777778, \"#fb9f3a\"], [0.8888888888888888, \"#fdca26\"], [1.0, \"#f0f921\"]], \"sequentialminus\": [[0.0, \"#0d0887\"], [0.1111111111111111, \"#46039f\"], [0.2222222222222222, \"#7201a8\"], [0.3333333333333333, \"#9c179e\"], [0.4444444444444444, \"#bd3786\"], [0.5555555555555556, \"#d8576b\"], [0.6666666666666666, \"#ed7953\"], [0.7777777777777778, \"#fb9f3a\"], [0.8888888888888888, \"#fdca26\"], [1.0, \"#f0f921\"]]}, \"colorway\": [\"#636efa\", \"#EF553B\", \"#00cc96\", \"#ab63fa\", \"#FFA15A\", \"#19d3f3\", \"#FF6692\", \"#B6E880\", \"#FF97FF\", \"#FECB52\"], \"font\": {\"color\": \"#2a3f5f\"}, \"geo\": {\"bgcolor\": \"white\", \"lakecolor\": \"white\", \"landcolor\": \"#E5ECF6\", \"showlakes\": true, \"showland\": true, \"subunitcolor\": \"white\"}, \"hoverlabel\": {\"align\": \"left\"}, \"hovermode\": \"closest\", \"mapbox\": {\"style\": \"light\"}, \"paper_bgcolor\": \"white\", \"plot_bgcolor\": \"#E5ECF6\", \"polar\": {\"angularaxis\": {\"gridcolor\": \"white\", \"linecolor\": \"white\", \"ticks\": \"\"}, \"bgcolor\": \"#E5ECF6\", \"radialaxis\": {\"gridcolor\": \"white\", \"linecolor\": \"white\", \"ticks\": \"\"}}, \"scene\": {\"xaxis\": {\"backgroundcolor\": \"#E5ECF6\", \"gridcolor\": \"white\", \"gridwidth\": 2, \"linecolor\": \"white\", \"showbackground\": true, \"ticks\": \"\", \"zerolinecolor\": \"white\"}, \"yaxis\": {\"backgroundcolor\": \"#E5ECF6\", \"gridcolor\": \"white\", \"gridwidth\": 2, \"linecolor\": \"white\", \"showbackground\": true, \"ticks\": \"\", \"zerolinecolor\": \"white\"}, \"zaxis\": {\"backgroundcolor\": \"#E5ECF6\", \"gridcolor\": \"white\", \"gridwidth\": 2, \"linecolor\": \"white\", \"showbackground\": true, \"ticks\": \"\", \"zerolinecolor\": \"white\"}}, \"shapedefaults\": {\"line\": {\"color\": \"#2a3f5f\"}}, \"ternary\": {\"aaxis\": {\"gridcolor\": \"white\", \"linecolor\": \"white\", \"ticks\": \"\"}, \"baxis\": {\"gridcolor\": \"white\", \"linecolor\": \"white\", \"ticks\": \"\"}, \"bgcolor\": \"#E5ECF6\", \"caxis\": {\"gridcolor\": \"white\", \"linecolor\": \"white\", \"ticks\": \"\"}}, \"title\": {\"x\": 0.05}, \"xaxis\": {\"automargin\": true, \"gridcolor\": \"white\", \"linecolor\": \"white\", \"ticks\": \"\", \"title\": {\"standoff\": 15}, \"zerolinecolor\": \"white\", \"zerolinewidth\": 2}, \"yaxis\": {\"automargin\": true, \"gridcolor\": \"white\", \"linecolor\": \"white\", \"ticks\": \"\", \"title\": {\"standoff\": 15}, \"zerolinecolor\": \"white\", \"zerolinewidth\": 2}}}, \"title\": {\"text\": \" \"}, \"xaxis\": {\"anchor\": \"y\", \"domain\": [0.0, 1.0], \"title\": {\"text\": \"Education_category\"}}, \"yaxis\": {\"anchor\": \"x\", \"domain\": [0.0, 1.0], \"title\": {\"text\": \"count\"}}},\n",
              "                        {\"responsive\": true}\n",
              "                    ).then(function(){\n",
              "                            \n",
              "var gd = document.getElementById('6863b472-c6b8-4779-a708-5a219d0e7d0b');\n",
              "var x = new MutationObserver(function (mutations, observer) {{\n",
              "        var display = window.getComputedStyle(gd).display;\n",
              "        if (!display || display === 'none') {{\n",
              "            console.log([gd, 'removed!']);\n",
              "            Plotly.purge(gd);\n",
              "            observer.disconnect();\n",
              "        }}\n",
              "}});\n",
              "\n",
              "// Listen for the removal of the full notebook cells\n",
              "var notebookContainer = gd.closest('#notebook-container');\n",
              "if (notebookContainer) {{\n",
              "    x.observe(notebookContainer, {childList: true});\n",
              "}}\n",
              "\n",
              "// Listen for the clearing of the current output cell\n",
              "var outputEl = gd.closest('.output');\n",
              "if (outputEl) {{\n",
              "    x.observe(outputEl, {childList: true});\n",
              "}}\n",
              "\n",
              "                        })\n",
              "                };\n",
              "                \n",
              "            </script>\n",
              "        </div>\n",
              "</body>\n",
              "</html>"
            ]
          },
          "metadata": {
            "tags": []
          }
        },
        {
          "output_type": "display_data",
          "data": {
            "text/html": [
              "<html>\n",
              "<head><meta charset=\"utf-8\" /></head>\n",
              "<body>\n",
              "    <div>\n",
              "            <script src=\"https://cdnjs.cloudflare.com/ajax/libs/mathjax/2.7.5/MathJax.js?config=TeX-AMS-MML_SVG\"></script><script type=\"text/javascript\">if (window.MathJax) {MathJax.Hub.Config({SVG: {font: \"STIX-Web\"}});}</script>\n",
              "                <script type=\"text/javascript\">window.PlotlyConfig = {MathJaxConfig: 'local'};</script>\n",
              "        <script src=\"https://cdn.plot.ly/plotly-latest.min.js\"></script>    \n",
              "            <div id=\"2321163a-db02-47b0-b8e4-8cf21245c775\" class=\"plotly-graph-div\" style=\"height:525px; width:100%;\"></div>\n",
              "            <script type=\"text/javascript\">\n",
              "                \n",
              "                    window.PLOTLYENV=window.PLOTLYENV || {};\n",
              "                    \n",
              "                if (document.getElementById(\"2321163a-db02-47b0-b8e4-8cf21245c775\")) {\n",
              "                    Plotly.newPlot(\n",
              "                        '2321163a-db02-47b0-b8e4-8cf21245c775',\n",
              "                        [{\"alignmentgroup\": \"True\", \"hoverlabel\": {\"namelength\": 0}, \"hovertemplate\": \"Education_category=%{y}\", \"legendgroup\": \"\", \"marker\": {\"color\": \"rgb(102, 197, 204)\"}, \"name\": \"\", \"notched\": false, \"offsetgroup\": \"\", \"orientation\": \"v\", \"showlegend\": false, \"type\": \"box\", \"x0\": \" \", \"xaxis\": \"x\", \"y\": [3.0, 2.0, 3.0, 1.0, 2.0, 3.0, 3.0, 1.0, 3.0, 3.0, 2.0, 1.0, 2.0, 3.0, 1.0, 3.0, 1.0, 3.0, 1.0, 3.0, 3.0, 1.0, 1.0, 3.0, 2.0, 3.0, 2.0, 1.0, 2.0, 1.0, 2.0, 2.0, 1.0, 2.0, 1.0, 1.0, 1.0, 2.0, 1.0, 1.0, 3.0, 1.0, 3.0, 1.0, 3.0, 2.0, 1.0, 1.0, 1.0, 1.0, 3.0, 1.0, 1.0, 1.0, 2.0, 2.0, 1.0, 3.0, 3.0, 1.0, 1.0, 2.0, 3.0, 2.0, 2.0, 2.0, 1.0, 2.0, 2.0, 3.0, 1.0, 1.0, 1.0, 2.0, 3.0, 1.0, 3.0, 2.0, 3.0, 1.0, 3.0, 2.0, 2.0, 3.0, 3.0, 2.0, 2.0, 2.0, 2.0, 1.0, 3.0, 3.0, 3.0, 3.0, 2.0, 2.0, 1.0, 3.0, 1.0, 3.0, 1.0, 3.0, 2.0, 2.0, 3.0, 3.0, 1.0, 3.0, 3.0, 2.0, 1.0, 3.0, 1.0, 2.0, 3.0, 2.0, 2.0, 2.0, 1.0, 3.0, 2.0, 3.0, 2.0, 1.0, 2.0, 1.0, 3.0, 3.0, 2.0, 1.0, 3.0, 3.0, 2.0, 2.0, 2.0, 2.0, 3.0, 3.0, 1.0, 2.0, 1.0, 1.0, 3.0, 1.0, 1.0, 2.0, 3.0, 1.0, 1.0, 2.0, 2.0, 1.0, 1.0, 3.0, 1.0, 3.0, 2.0, 2.0, 3.0, 1.0, 3.0, 2.0, 2.0, 2.0, 1.0, 3.0, 3.0, 3.0, 3.0, 3.0, 3.0, 1.0, 1.0, 3.0, 2.0, 1.0, 1.0, 3.0, 2.0, 2.0, 2.0, 1.0, 2.0, 3.0, 1.0, 2.0, 3.0, 3.0, 1.0, 2.0, 3.0, 2.0, 1.0, 2.0, 2.0, 2.0, 3.0, 2.0, 3.0, 1.0, 2.0, 3.0, 2.0, 3.0, 2.0, 3.0, 1.0, 2.0, 1.0, 2.0, 2.0, 3.0, 3.0, 2.0, 1.0, 3.0, 1.0, 2.0, 1.0, 1.0, 3.0, 2.0, 1.0, 3.0, 3.0, 2.0, 2.0, 2.0, 3.0, 2.0, 2.0, 1.0, 1.0, 3.0, 2.0, 3.0, 1.0, 2.0, 3.0, 3.0, 2.0, 1.0, 3.0, 1.0, 1.0, 2.0, 2.0, 1.0, 2.0, 3.0, 1.0, 2.0, 2.0, 3.0, 2.0, 2.0, 1.0, 2.0, 2.0, 2.0, 2.0, 1.0, 2.0, 3.0, 1.0, 3.0, 2.0, 1.0, 1.0, 2.0, 2.0, 3.0, 2.0, 1.0, 1.0, 2.0, 2.0, 2.0, 2.0, 2.0, 2.0, 3.0, 1.0, 3.0, 3.0, 3.0, 1.0, 2.0, 1.0, 3.0, 2.0, 2.0, 2.0, 3.0, 2.0, 3.0, 2.0, 1.0, 3.0, 2.0, 1.0, 1.0, 1.0, 1.0, 2.0, 2.0, 1.0, 2.0, 3.0, 1.0, 3.0, 2.0, 3.0, 2.0, 1.0, 2.0, 1.0, 1.0, 3.0, 3.0, 1.0, 2.0, 3.0, 3.0, 3.0, 2.0, 3.0, 2.0, 2.0, 1.0, 2.0, 2.0, 2.0, 1.0, 1.0, 3.0, 1.0, 2.0, 3.0, 1.0, 2.0, 3.0, 2.0, 2.0, 1.0, 3.0, 3.0, 3.0, 2.0, 3.0, 3.0, 3.0, 2.0, 1.0, 3.0, 2.0, 2.0, 2.0, 1.0, 3.0, 3.0, 1.0, 3.0, 3.0, 2.0, 1.0, 2.0, 1.0, 3.0, 3.0, 2.0, 2.0, 2.0, 3.0, 1.0, 2.0, 2.0, 3.0, 1.0, 1.0, 1.0, 2.0, 3.0, 3.0, 2.0, 1.0, 3.0, 3.0, 3.0, 3.0, 2.0, 2.0, 2.0, 2.0, 2.0, 1.0, 2.0, 1.0, 1.0, 1.0, 2.0, 1.0, 3.0, 3.0, 1.0, 3.0, 2.0, 2.0, 1.0, 1.0, 2.0, 3.0, 3.0, 3.0, 2.0, 2.0, 1.0, 3.0, 3.0, 2.0, 3.0, 3.0, 1.0, 2.0, 2.0, 2.0, 3.0, 2.0, 2.0, 1.0, 1.0, 2.0, 3.0, 2.0, 3.0, 3.0, 1.0, 2.0, 2.0, 1.0, 1.0, 3.0, 3.0, 3.0, 2.0, 1.0, 2.0, 3.0, 3.0, 2.0, 1.0, 2.0, 2.0, 1.0, 3.0, 1.0, 2.0, 1.0, 2.0, 3.0, 1.0, 3.0, 2.0, 3.0, 1.0, 1.0, 2.0, 2.0, 2.0, 2.0, 2.0, 1.0, 3.0, 3.0, 2.0, 3.0, 2.0, 1.0, 3.0, 2.0, 3.0, 2.0, 3.0, 2.0, 1.0, 2.0, 3.0, 2.0, 3.0, 3.0, 1.0, 2.0, 3.0, 1.0, 2.0, 2.0, 1.0, 1.0, 2.0, 1.0, 1.0, 1.0, 2.0, 1.0, 2.0, 3.0, 1.0, 2.0, 2.0, 1.0, 1.0, 2.0, 3.0, 1.0, 2.0, 1.0, 3.0, 3.0, 1.0, 2.0, 2.0, 3.0, 2.0, 2.0, 2.0, 1.0, 1.0, 3.0, 2.0, 2.0, 1.0, 1.0, 1.0, 1.0, 3.0, 2.0, 3.0, 2.0, 1.0, 2.0, 3.0, 1.0, 2.0, 3.0, 1.0, 1.0, 3.0, 1.0, 3.0, 3.0, 1.0, 3.0, 3.0, 1.0, 3.0, 1.0, 3.0, 3.0, 2.0, 1.0, 3.0, 2.0, 1.0, 1.0, 3.0, 1.0, 1.0, 1.0, 1.0, 3.0, 3.0, 2.0, 3.0, 2.0, 3.0, 3.0, 1.0, 2.0, 2.0, 1.0, 2.0, 2.0, 3.0, 2.0, 1.0, 3.0, 2.0, 1.0, 2.0, 3.0, 2.0, 2.0, 2.0, 3.0, 1.0, 3.0, 2.0, 2.0, 2.0, 3.0, 2.0, 1.0, 3.0, 1.0, 3.0, 3.0, 2.0, 2.0, 3.0, 2.0, 3.0, 1.0, 1.0, 3.0, 3.0, 1.0, 1.0, 1.0, 2.0, 2.0, 3.0, 1.0, 2.0, 2.0, 3.0, 1.0, 3.0, 2.0, 3.0, 2.0, 2.0, 1.0, 2.0, 2.0, 3.0, 1.0, 1.0, 2.0, 3.0, 3.0, 3.0, 3.0, 3.0, 2.0, 3.0, 2.0, 1.0, 1.0, 3.0, 3.0, 3.0, 3.0, 1.0, 1.0, 2.0, 3.0, 3.0, 3.0, 2.0, 1.0, 3.0, 3.0, 1.0, 3.0, 1.0, 1.0, 2.0, 2.0, 2.0, 3.0, 2.0, 1.0, 2.0, 1.0, 1.0, 1.0, 1.0, 1.0, 3.0, 2.0, 2.0, 2.0, 3.0, 1.0, 2.0, 3.0, 1.0, 3.0, 2.0, 2.0, 3.0, 2.0, 3.0, 3.0, 2.0, 3.0, 1.0, 1.0, 1.0, 1.0, 3.0, 1.0, 1.0, 2.0, 2.0, 3.0, 1.0, 3.0, 2.0, 1.0, 2.0, 3.0, 2.0, 2.0, 3.0, 3.0, 1.0, 2.0, 3.0, 1.0, 1.0, 1.0, 2.0, 3.0, 3.0, 1.0, 3.0, 3.0, 2.0, 2.0, 3.0, 3.0, 1.0, 1.0, 1.0, 1.0, 1.0, 3.0, 3.0, 1.0, 3.0, 3.0, 3.0, 1.0, 1.0, 3.0, 3.0, 1.0, 3.0, 2.0, 1.0, 2.0, 3.0, 3.0, 3.0, 2.0, 2.0, 2.0, 2.0, 2.0, 1.0, 1.0, 1.0, 1.0, 3.0, 3.0, 1.0, 1.0, 1.0, 1.0, 2.0, 1.0, 2.0, 3.0, 3.0, 2.0, 2.0, 2.0, 3.0, 3.0, 3.0, 2.0, 3.0, 2.0, 3.0, 1.0, 3.0, 1.0, 2.0, 1.0, 1.0, 3.0, 3.0, 3.0, 1.0, 1.0, 1.0, 1.0, 2.0, 1.0, 1.0, 3.0, 3.0, 2.0, 2.0, 1.0, 1.0, 1.0, 2.0, 3.0, 3.0, 2.0, 3.0, 2.0, 2.0, 2.0, 3.0, 3.0, 1.0, 3.0, 2.0, 2.0, 2.0, 3.0, 3.0, 2.0, 2.0, 1.0, 1.0, 1.0, 2.0, 2.0, 2.0, 2.0, 2.0, 2.0, 3.0, 2.0, 1.0, 1.0, 3.0, 2.0, 3.0, 3.0, 2.0, 3.0, 2.0, 1.0, 1.0, 2.0, 1.0, 3.0, 2.0, 3.0, 3.0, 3.0, 1.0, 2.0, 1.0, 3.0, 1.0, 1.0, 2.0, 2.0, 2.0, 1.0, 3.0, 1.0, 1.0, 3.0, 3.0, 2.0, 2.0, 2.0, 1.0, 2.0, 1.0, 1.0, 1.0, 2.0, 3.0, 3.0, 1.0, 1.0, 2.0, 3.0, 1.0, 1.0, 1.0, 1.0, 3.0, 3.0, 2.0, 1.0, 1.0, 2.0, 2.0, 3.0, 2.0, 2.0, 1.0, 2.0, 2.0, 1.0, 1.0, 3.0, 1.0, 3.0, 2.0, 1.0, 2.0, 3.0, 3.0, 2.0, 1.0, 1.0, 1.0, 2.0, 1.0, 1.0, 1.0, 1.0, 3.0, 3.0, 2.0, 2.0, 3.0, 2.0, 1.0, 3.0, 3.0, 2.0, 2.0, 2.0, 3.0, 2.0, 1.0, 3.0, 3.0, 2.0, 1.0, 3.0, 2.0, 2.0, 2.0, 1.0, 3.0, 3.0, 1.0, 3.0, 1.0, 3.0, 2.0, 1.0, 3.0, 3.0, 1.0, 1.0, 1.0, 3.0, 3.0, 2.0, 2.0, 3.0, 3.0, 3.0, 2.0, 3.0, 3.0, 1.0, 1.0, 3.0, 3.0, 2.0, 2.0, 1.0, 1.0, 2.0, 3.0, 3.0, 1.0, 1.0, 3.0, 1.0, 1.0, 1.0, 3.0, 1.0, 3.0, 3.0, 2.0, 3.0, 2.0, 1.0, 3.0, 1.0, 3.0, 2.0, 1.0, 1.0, 2.0, 3.0, 3.0, 1.0, 1.0, 3.0, 1.0, 1.0, 2.0, 2.0, 2.0, 1.0, 2.0, 2.0, 3.0, 3.0, 2.0, 1.0, 1.0, 2.0, 3.0, 3.0, 3.0, 1.0, 2.0, 2.0, 2.0, 2.0, 1.0, 2.0, 1.0, 2.0, 2.0, 3.0, 1.0, 3.0, 3.0, 2.0, 2.0, 3.0, 1.0, 2.0, 2.0, 1.0, 1.0, 3.0, 2.0, 2.0, 3.0, 1.0, 3.0, 2.0, 3.0, 2.0, 2.0, 3.0, 2.0, 3.0, 2.0, 1.0, 1.0, 3.0, 3.0, 1.0, 3.0, 1.0, 1.0, 3.0, 2.0, 3.0, 1.0, 1.0, 1.0, 1.0, 1.0, 2.0, 2.0, 2.0, 1.0, 1.0, 1.0, 2.0, 3.0, 3.0, 3.0, 2.0, 1.0, 2.0, 3.0, 3.0, 3.0, 2.0, 2.0, 1.0, 2.0, 1.0, 1.0, 3.0, 3.0, 2.0, 1.0, 2.0, 3.0, 3.0, 2.0, 2.0, 2.0, 1.0, 1.0, 1.0, 3.0, 1.0, 2.0, 3.0, 2.0, 3.0, 3.0, 2.0, 2.0, 3.0, 3.0, 1.0, 3.0, 1.0, 2.0, 2.0, 1.0, 1.0, 2.0, 3.0, 3.0, 1.0, 2.0, 3.0, 1.0, 3.0, 3.0, 1.0, 3.0, 1.0, 2.0, 3.0, 2.0, 3.0, 1.0, 2.0, 3.0, 1.0, 1.0, 2.0, 3.0, 2.0, 1.0, 2.0, 3.0, 3.0, 2.0, 2.0, 1.0, 2.0, 2.0, 3.0, 2.0, 1.0, 2.0, 2.0, 1.0, 2.0, 3.0, 2.0, 3.0, 3.0, 3.0, 3.0, 2.0, 2.0, 3.0, 3.0, 3.0, 3.0, 1.0, 2.0, 1.0, 3.0, 3.0, 2.0, 2.0, 2.0, 3.0, 3.0, 1.0, 3.0, 3.0, 3.0, 1.0, 1.0, 3.0, 1.0, 3.0, 3.0, 1.0, 3.0, 1.0, 2.0, 2.0, 2.0, 1.0, 2.0, 2.0, 2.0, 3.0, 2.0, 2.0, 1.0, 1.0, 1.0, 2.0, 3.0, 1.0, 3.0, 2.0, 1.0, 1.0, 1.0, 1.0, 3.0, 3.0, 1.0, 1.0, 1.0, 1.0, 1.0, 1.0, 1.0, 3.0, 2.0, 1.0, 1.0, 1.0, 3.0, 3.0, 2.0, 1.0, 2.0, 1.0, 2.0, 2.0, 2.0, 3.0, 1.0, 3.0, 1.0, 1.0, 3.0, 3.0, 3.0, 3.0, 2.0, 3.0, 3.0, 3.0, 1.0, 2.0, 3.0, 1.0, 1.0, 1.0, 3.0, 1.0, 3.0, 2.0, 3.0, 1.0, 2.0, 3.0, 3.0, 1.0, 1.0, 3.0, 1.0, 3.0, 2.0, 1.0, 3.0, 3.0, 2.0, 1.0, 3.0, 1.0, 2.0, 2.0, 2.0, 3.0, 3.0, 3.0, 3.0, 2.0, 3.0, 2.0, 3.0, 1.0, 1.0, 3.0, 3.0, 1.0, 1.0, 1.0, 1.0, 3.0, 2.0, 1.0, 2.0, 3.0, 1.0, 3.0, 3.0, 2.0, 1.0, 3.0, 3.0, 2.0, 3.0, 3.0, 1.0, 3.0, 3.0, 2.0, 3.0, 2.0, 3.0, 3.0, 3.0, 3.0, 1.0, 3.0, 2.0, 2.0, 1.0, 3.0, 1.0, 3.0, 3.0, 1.0, 3.0, 2.0, 2.0, 1.0, 2.0, 3.0, 2.0, 2.0, 3.0, 3.0, 2.0, 3.0, 3.0, 1.0, 1.0, 3.0, 1.0, 2.0, 3.0, 3.0, 3.0, 3.0, 1.0, 2.0, 2.0, 3.0, 3.0, 3.0, 2.0, 2.0, 2.0, 1.0, 2.0, 1.0, 3.0, 2.0, 1.0, 2.0, 3.0, 2.0, 3.0, 3.0, 2.0, 3.0, 1.0, 1.0, 1.0, 3.0, 2.0, 2.0, 1.0, 1.0, 3.0, 2.0, 1.0, 2.0, 3.0, 2.0, 1.0, 1.0, 3.0, 2.0, 3.0, 2.0, 3.0, 3.0, 1.0, 1.0, 3.0, 2.0, 1.0, 2.0, 3.0, 3.0, 1.0, 1.0, 2.0, 3.0, 2.0, 1.0, 3.0, 3.0, 1.0, 2.0, 1.0, 3.0, 2.0, 1.0, 2.0, 3.0, 3.0, 1.0, 2.0, 2.0, 1.0, 2.0, 3.0, 2.0, 1.0, 1.0, 1.0, 1.0, 1.0, 1.0, 3.0, 1.0, 2.0, 1.0, 2.0, 3.0, 2.0, 2.0, 1.0, 3.0, 2.0, 2.0, 3.0, 3.0, 3.0, 2.0, 2.0, 3.0, 2.0, 3.0, 2.0, 1.0, 1.0, 1.0, 1.0, 2.0, 1.0, 3.0, 2.0, 3.0, 3.0, 3.0, 1.0, 2.0, 2.0, 3.0, 1.0, 2.0, 3.0, 3.0, 2.0, 1.0, 2.0, 1.0, 2.0, 1.0, 3.0, 1.0, 1.0, 2.0, 1.0, 3.0, 3.0, 3.0, 3.0, 1.0, 3.0, 2.0, 1.0, 2.0, 3.0, 1.0, 1.0, 1.0, 3.0, 3.0, 3.0, 1.0, 2.0, 1.0, 1.0, 1.0, 3.0, 3.0, 1.0, 1.0, 2.0, 2.0, 3.0, 2.0, 2.0, 2.0, 3.0, 1.0, 1.0, 2.0, 2.0, 2.0, 3.0, 1.0, 3.0, 2.0, 3.0, 3.0, 2.0, 3.0, 1.0, 1.0, 2.0, 1.0, 2.0, 3.0, 1.0, 2.0, 2.0, 1.0, 2.0, 3.0, 2.0, 2.0, 3.0, 1.0, 2.0, 2.0, 2.0, 3.0, 3.0, 1.0, 2.0, 3.0, 1.0, 2.0, 1.0, 1.0, 2.0, 3.0, 1.0, 2.0, 2.0, 3.0, 1.0, 1.0, 2.0, 2.0, 3.0, 2.0, 3.0, 1.0, 2.0, 1.0, 3.0, 1.0, 1.0, 3.0, 3.0, 2.0, 3.0, 1.0, 2.0, 2.0, 1.0, 3.0, 3.0, 3.0, 3.0, 3.0, 1.0, 1.0, 3.0, 3.0, 3.0, 1.0, 1.0, 3.0, 3.0, 1.0, 1.0, 2.0, 2.0, 3.0, 2.0, 1.0, 2.0, 1.0, 3.0, 1.0, 3.0, 2.0, 3.0, 2.0, 1.0, 2.0, 3.0, 3.0, 3.0, 1.0, 1.0, 3.0, 3.0, 1.0, 3.0, 1.0, 2.0, 1.0, 2.0, 1.0, 3.0, 1.0, 2.0, 1.0, 2.0, 2.0, 3.0, 1.0, 1.0, 3.0, 3.0, 1.0, 2.0, 2.0, 1.0, 1.0, 2.0, 2.0, 3.0, 3.0, 2.0, 2.0, 1.0, 2.0, 3.0, 1.0, 3.0, 2.0, 2.0, 2.0, 2.0, 1.0, 3.0, 3.0, 1.0, 1.0, 2.0, 2.0, 2.0, 2.0, 2.0, 1.0, 1.0, 2.0, 3.0, 3.0, 3.0, 3.0, 2.0, 3.0, 3.0, 1.0, 2.0, 1.0, 3.0, 3.0, 3.0, 2.0, 3.0, 2.0, 3.0, 1.0, 1.0, 1.0, 1.0, 1.0, 2.0, 1.0, 1.0, 1.0, 3.0, 1.0, 1.0, 1.0, 1.0, 3.0, 2.0, 1.0, 3.0, 1.0, 1.0, 1.0, 2.0, 3.0, 2.0, 2.0, 2.0, 2.0, 2.0, 3.0, 1.0, 1.0, 3.0, 3.0, 3.0, 3.0, 2.0, 2.0, 2.0, 3.0, 2.0, 3.0, 1.0, 3.0, 1.0, 3.0, 3.0, 3.0, 1.0, 3.0, 3.0, 2.0, 2.0, 2.0, 2.0, 1.0, 2.0, 3.0, 2.0, 2.0, 3.0, 2.0, 2.0, 1.0, 3.0, 1.0, 1.0, 3.0, 2.0, 2.0, 1.0, 1.0, 1.0, 2.0, 2.0, 3.0, 1.0, 3.0, 3.0, 1.0, 1.0, 2.0, 3.0, 2.0, 2.0, 3.0, 3.0, 3.0, 1.0, 3.0, 1.0, 3.0, 2.0, 2.0, 1.0, 1.0, 2.0, 3.0, 2.0, 3.0, 1.0, 1.0, 2.0, 1.0, 1.0, 2.0, 2.0, 1.0, 2.0, 2.0, 1.0, 2.0, 2.0, 3.0, 1.0, 3.0, 1.0, 3.0, 1.0, 3.0, 1.0, 1.0, 3.0, 2.0, 1.0, 3.0, 3.0, 1.0, 1.0, 3.0, 3.0, 3.0, 2.0, 3.0, 1.0, 2.0, 2.0, 2.0, 1.0, 3.0, 1.0, 2.0, 3.0, 3.0, 3.0, 2.0, 2.0, 1.0, 2.0, 2.0, 1.0, 1.0, 3.0, 1.0, 3.0, 1.0, 1.0, 1.0, 2.0, 2.0, 2.0, 3.0, 1.0, 2.0, 3.0, 2.0, 3.0, 1.0, 1.0, 3.0, 3.0, 1.0, 2.0, 1.0, 2.0, 2.0, 1.0, 3.0, 2.0, 2.0, 2.0, 3.0, 1.0, 1.0, 2.0, 3.0, 3.0, 3.0, 2.0, 2.0, 2.0, 3.0, 1.0, 1.0, 3.0, 1.0, 3.0, 1.0, 3.0, 3.0, 1.0, 1.0, 1.0, 2.0, 2.0, 3.0, 1.0, 2.0, 3.0, 2.0, 3.0, 1.0, 1.0, 2.0, 2.0, 2.0, 3.0, 3.0, 3.0, 1.0, 3.0, 3.0, 2.0, 1.0, 2.0, 1.0, 2.0, 3.0, 3.0, 3.0, 1.0, 2.0, 2.0, 3.0, 2.0, 2.0, 3.0, 2.0, 3.0, 3.0, 1.0, 2.0, 1.0, 3.0, 2.0, 3.0, 1.0, 3.0, 3.0, 2.0, 3.0, 1.0, 1.0, 2.0, 2.0, 3.0, 3.0, 2.0, 3.0, 3.0, 2.0, 2.0, 2.0, 3.0, 3.0, 1.0, 3.0, 2.0, 2.0, 1.0, 3.0, 3.0, 3.0, 3.0, 1.0, 2.0, 2.0, 2.0, 2.0, 2.0, 1.0, 2.0, 2.0, 3.0, 1.0, 1.0, 2.0, 1.0, 3.0, 2.0, 1.0, 2.0, 1.0, 2.0, 3.0, 1.0, 2.0, 2.0, 1.0, 1.0, 2.0, 2.0, 2.0, 3.0, 2.0, 1.0, 2.0, 1.0, 2.0, 1.0, 2.0, 3.0, 1.0, 2.0, 2.0, 1.0, 2.0, 3.0, 2.0, 3.0, 1.0, 2.0, 1.0, 1.0, 3.0, 1.0, 1.0, 3.0, 3.0, 2.0, 3.0, 2.0, 2.0, 2.0, 2.0, 1.0, 1.0, 2.0, 2.0, 2.0, 3.0, 3.0, 1.0, 3.0, 3.0, 1.0, 3.0, 3.0, 1.0, 1.0, 2.0, 3.0, 1.0, 2.0, 1.0, 1.0, 1.0, 1.0, 1.0, 2.0, 2.0, 3.0, 2.0, 1.0, 3.0, 2.0, 3.0, 3.0, 3.0, 2.0, 1.0, 3.0, 1.0, 1.0, 1.0, 3.0, 1.0, 1.0, 2.0, 3.0, 3.0, 3.0, 3.0, 2.0, 1.0, 3.0, 3.0, 1.0, 1.0, 2.0, 1.0, 1.0, 1.0, 3.0, 3.0, 1.0, 1.0, 3.0, 1.0, 3.0, 2.0, 3.0, 2.0, 2.0, 3.0, 3.0, 2.0, 3.0, 3.0, 2.0, 1.0, 1.0, 3.0, 1.0, 3.0, 3.0, 3.0, 3.0, 1.0, 2.0, 3.0, 1.0, 1.0, 1.0, 1.0, 2.0, 3.0, 2.0, 2.0, 3.0, 3.0, 2.0, 2.0, 3.0, 1.0, 1.0, 1.0, 2.0, 3.0, 1.0, 3.0, 2.0, 3.0, 3.0, 1.0, 2.0, 3.0, 2.0, 2.0, 1.0, 2.0, 1.0, 2.0, 3.0, 3.0, 1.0, 1.0, 1.0, 2.0, 2.0, 1.0, 3.0, 2.0, 3.0, 2.0, 3.0, 3.0, 1.0, 2.0, 3.0, 3.0, 1.0, 2.0, 2.0, 3.0, 3.0, 3.0, 1.0, 2.0, 1.0, 1.0, 1.0, 3.0, 2.0, 3.0, 3.0, 2.0, 3.0, 1.0, 3.0, 3.0, 2.0, 1.0, 1.0, 1.0, 2.0, 1.0, 2.0, 3.0, 2.0, 3.0, 1.0, 1.0, 1.0, 1.0, 1.0, 2.0, 1.0, 1.0, 3.0, 2.0, 3.0, 3.0, 1.0, 1.0, 3.0, 1.0, 1.0, 1.0, 1.0, 2.0, 3.0, 2.0, 2.0, 1.0, 1.0, 2.0, 2.0, 3.0, 1.0, 3.0, 1.0, 1.0, 3.0, 3.0, 2.0, 1.0, 1.0, 1.0, 3.0, 3.0, 2.0, 1.0, 2.0, 1.0, 3.0, 2.0, 1.0, 3.0, 2.0, 3.0, 2.0, 2.0, 2.0, 2.0, 3.0, 1.0, 3.0, 3.0, 1.0, 1.0, 2.0, 1.0, 1.0, 1.0, 1.0, 2.0, 3.0, 1.0, 3.0, 1.0, 3.0, 2.0, 1.0, 2.0, 2.0, 3.0, 2.0, 2.0, 2.0, 2.0, 2.0, 3.0, 2.0, 2.0, 1.0, 2.0, 3.0, 1.0, 2.0, 1.0, 3.0, 1.0, 2.0, 1.0, 2.0, 1.0, 2.0, 1.0, 1.0, 2.0, 1.0, 1.0, 3.0, 2.0, 1.0, 1.0, 3.0, 2.0, 3.0, 2.0, 1.0, 1.0, 3.0, 3.0, 3.0, 3.0, 1.0, 3.0, 2.0, 2.0, 3.0, 2.0, 1.0, 2.0, 2.0, 1.0, 2.0, 1.0, 1.0, 2.0, 3.0, 2.0, 3.0, 2.0, 2.0, 1.0, 2.0, 2.0, 2.0, 3.0, 1.0, 1.0, 2.0, 2.0, 1.0, 2.0, 1.0, 1.0, 3.0], \"y0\": \" \", \"yaxis\": \"y\"}],\n",
              "                        {\"boxmode\": \"group\", \"legend\": {\"tracegroupgap\": 0}, \"margin\": {\"t\": 60}, \"template\": {\"data\": {\"bar\": [{\"error_x\": {\"color\": \"#2a3f5f\"}, \"error_y\": {\"color\": \"#2a3f5f\"}, \"marker\": {\"line\": {\"color\": \"#E5ECF6\", \"width\": 0.5}}, \"type\": \"bar\"}], \"barpolar\": [{\"marker\": {\"line\": {\"color\": \"#E5ECF6\", \"width\": 0.5}}, \"type\": \"barpolar\"}], \"carpet\": [{\"aaxis\": {\"endlinecolor\": \"#2a3f5f\", \"gridcolor\": \"white\", \"linecolor\": \"white\", \"minorgridcolor\": \"white\", \"startlinecolor\": \"#2a3f5f\"}, \"baxis\": {\"endlinecolor\": \"#2a3f5f\", \"gridcolor\": \"white\", \"linecolor\": \"white\", \"minorgridcolor\": \"white\", \"startlinecolor\": \"#2a3f5f\"}, \"type\": \"carpet\"}], \"choropleth\": [{\"colorbar\": {\"outlinewidth\": 0, \"ticks\": \"\"}, \"type\": \"choropleth\"}], \"contour\": [{\"colorbar\": {\"outlinewidth\": 0, \"ticks\": \"\"}, \"colorscale\": [[0.0, \"#0d0887\"], [0.1111111111111111, \"#46039f\"], [0.2222222222222222, \"#7201a8\"], [0.3333333333333333, \"#9c179e\"], [0.4444444444444444, \"#bd3786\"], [0.5555555555555556, \"#d8576b\"], [0.6666666666666666, \"#ed7953\"], [0.7777777777777778, \"#fb9f3a\"], [0.8888888888888888, \"#fdca26\"], [1.0, \"#f0f921\"]], \"type\": \"contour\"}], \"contourcarpet\": [{\"colorbar\": {\"outlinewidth\": 0, \"ticks\": \"\"}, \"type\": \"contourcarpet\"}], \"heatmap\": [{\"colorbar\": {\"outlinewidth\": 0, \"ticks\": \"\"}, \"colorscale\": [[0.0, \"#0d0887\"], [0.1111111111111111, \"#46039f\"], [0.2222222222222222, \"#7201a8\"], [0.3333333333333333, \"#9c179e\"], [0.4444444444444444, \"#bd3786\"], [0.5555555555555556, \"#d8576b\"], [0.6666666666666666, \"#ed7953\"], [0.7777777777777778, \"#fb9f3a\"], [0.8888888888888888, \"#fdca26\"], [1.0, \"#f0f921\"]], \"type\": \"heatmap\"}], \"heatmapgl\": [{\"colorbar\": {\"outlinewidth\": 0, \"ticks\": \"\"}, \"colorscale\": [[0.0, \"#0d0887\"], [0.1111111111111111, \"#46039f\"], [0.2222222222222222, \"#7201a8\"], [0.3333333333333333, \"#9c179e\"], [0.4444444444444444, \"#bd3786\"], [0.5555555555555556, \"#d8576b\"], [0.6666666666666666, \"#ed7953\"], [0.7777777777777778, \"#fb9f3a\"], [0.8888888888888888, \"#fdca26\"], [1.0, \"#f0f921\"]], \"type\": \"heatmapgl\"}], \"histogram\": [{\"marker\": {\"colorbar\": {\"outlinewidth\": 0, \"ticks\": \"\"}}, \"type\": \"histogram\"}], \"histogram2d\": [{\"colorbar\": {\"outlinewidth\": 0, \"ticks\": \"\"}, \"colorscale\": [[0.0, \"#0d0887\"], [0.1111111111111111, \"#46039f\"], [0.2222222222222222, \"#7201a8\"], [0.3333333333333333, \"#9c179e\"], [0.4444444444444444, \"#bd3786\"], [0.5555555555555556, \"#d8576b\"], [0.6666666666666666, \"#ed7953\"], [0.7777777777777778, \"#fb9f3a\"], [0.8888888888888888, \"#fdca26\"], [1.0, \"#f0f921\"]], \"type\": \"histogram2d\"}], \"histogram2dcontour\": [{\"colorbar\": {\"outlinewidth\": 0, \"ticks\": \"\"}, \"colorscale\": [[0.0, \"#0d0887\"], [0.1111111111111111, \"#46039f\"], [0.2222222222222222, \"#7201a8\"], [0.3333333333333333, \"#9c179e\"], [0.4444444444444444, \"#bd3786\"], [0.5555555555555556, \"#d8576b\"], [0.6666666666666666, \"#ed7953\"], [0.7777777777777778, \"#fb9f3a\"], [0.8888888888888888, \"#fdca26\"], [1.0, \"#f0f921\"]], \"type\": \"histogram2dcontour\"}], \"mesh3d\": [{\"colorbar\": {\"outlinewidth\": 0, \"ticks\": \"\"}, \"type\": \"mesh3d\"}], \"parcoords\": [{\"line\": {\"colorbar\": {\"outlinewidth\": 0, \"ticks\": \"\"}}, \"type\": \"parcoords\"}], \"pie\": [{\"automargin\": true, \"type\": \"pie\"}], \"scatter\": [{\"marker\": {\"colorbar\": {\"outlinewidth\": 0, \"ticks\": \"\"}}, \"type\": \"scatter\"}], \"scatter3d\": [{\"line\": {\"colorbar\": {\"outlinewidth\": 0, \"ticks\": \"\"}}, \"marker\": {\"colorbar\": {\"outlinewidth\": 0, \"ticks\": \"\"}}, \"type\": \"scatter3d\"}], \"scattercarpet\": [{\"marker\": {\"colorbar\": {\"outlinewidth\": 0, \"ticks\": \"\"}}, \"type\": \"scattercarpet\"}], \"scattergeo\": [{\"marker\": {\"colorbar\": {\"outlinewidth\": 0, \"ticks\": \"\"}}, \"type\": \"scattergeo\"}], \"scattergl\": [{\"marker\": {\"colorbar\": {\"outlinewidth\": 0, \"ticks\": \"\"}}, \"type\": \"scattergl\"}], \"scattermapbox\": [{\"marker\": {\"colorbar\": {\"outlinewidth\": 0, \"ticks\": \"\"}}, \"type\": \"scattermapbox\"}], \"scatterpolar\": [{\"marker\": {\"colorbar\": {\"outlinewidth\": 0, \"ticks\": \"\"}}, \"type\": \"scatterpolar\"}], \"scatterpolargl\": [{\"marker\": {\"colorbar\": {\"outlinewidth\": 0, \"ticks\": \"\"}}, \"type\": \"scatterpolargl\"}], \"scatterternary\": [{\"marker\": {\"colorbar\": {\"outlinewidth\": 0, \"ticks\": \"\"}}, \"type\": \"scatterternary\"}], \"surface\": [{\"colorbar\": {\"outlinewidth\": 0, \"ticks\": \"\"}, \"colorscale\": [[0.0, \"#0d0887\"], [0.1111111111111111, \"#46039f\"], [0.2222222222222222, \"#7201a8\"], [0.3333333333333333, \"#9c179e\"], [0.4444444444444444, \"#bd3786\"], [0.5555555555555556, \"#d8576b\"], [0.6666666666666666, \"#ed7953\"], [0.7777777777777778, \"#fb9f3a\"], [0.8888888888888888, \"#fdca26\"], [1.0, \"#f0f921\"]], \"type\": \"surface\"}], \"table\": [{\"cells\": {\"fill\": {\"color\": \"#EBF0F8\"}, \"line\": {\"color\": \"white\"}}, \"header\": {\"fill\": {\"color\": \"#C8D4E3\"}, \"line\": {\"color\": \"white\"}}, \"type\": \"table\"}]}, \"layout\": {\"annotationdefaults\": {\"arrowcolor\": \"#2a3f5f\", \"arrowhead\": 0, \"arrowwidth\": 1}, \"coloraxis\": {\"colorbar\": {\"outlinewidth\": 0, \"ticks\": \"\"}}, \"colorscale\": {\"diverging\": [[0, \"#8e0152\"], [0.1, \"#c51b7d\"], [0.2, \"#de77ae\"], [0.3, \"#f1b6da\"], [0.4, \"#fde0ef\"], [0.5, \"#f7f7f7\"], [0.6, \"#e6f5d0\"], [0.7, \"#b8e186\"], [0.8, \"#7fbc41\"], [0.9, \"#4d9221\"], [1, \"#276419\"]], \"sequential\": [[0.0, \"#0d0887\"], [0.1111111111111111, \"#46039f\"], [0.2222222222222222, \"#7201a8\"], [0.3333333333333333, \"#9c179e\"], [0.4444444444444444, \"#bd3786\"], [0.5555555555555556, \"#d8576b\"], [0.6666666666666666, \"#ed7953\"], [0.7777777777777778, \"#fb9f3a\"], [0.8888888888888888, \"#fdca26\"], [1.0, \"#f0f921\"]], \"sequentialminus\": [[0.0, \"#0d0887\"], [0.1111111111111111, \"#46039f\"], [0.2222222222222222, \"#7201a8\"], [0.3333333333333333, \"#9c179e\"], [0.4444444444444444, \"#bd3786\"], [0.5555555555555556, \"#d8576b\"], [0.6666666666666666, \"#ed7953\"], [0.7777777777777778, \"#fb9f3a\"], [0.8888888888888888, \"#fdca26\"], [1.0, \"#f0f921\"]]}, \"colorway\": [\"#636efa\", \"#EF553B\", \"#00cc96\", \"#ab63fa\", \"#FFA15A\", \"#19d3f3\", \"#FF6692\", \"#B6E880\", \"#FF97FF\", \"#FECB52\"], \"font\": {\"color\": \"#2a3f5f\"}, \"geo\": {\"bgcolor\": \"white\", \"lakecolor\": \"white\", \"landcolor\": \"#E5ECF6\", \"showlakes\": true, \"showland\": true, \"subunitcolor\": \"white\"}, \"hoverlabel\": {\"align\": \"left\"}, \"hovermode\": \"closest\", \"mapbox\": {\"style\": \"light\"}, \"paper_bgcolor\": \"white\", \"plot_bgcolor\": \"#E5ECF6\", \"polar\": {\"angularaxis\": {\"gridcolor\": \"white\", \"linecolor\": \"white\", \"ticks\": \"\"}, \"bgcolor\": \"#E5ECF6\", \"radialaxis\": {\"gridcolor\": \"white\", \"linecolor\": \"white\", \"ticks\": \"\"}}, \"scene\": {\"xaxis\": {\"backgroundcolor\": \"#E5ECF6\", \"gridcolor\": \"white\", \"gridwidth\": 2, \"linecolor\": \"white\", \"showbackground\": true, \"ticks\": \"\", \"zerolinecolor\": \"white\"}, \"yaxis\": {\"backgroundcolor\": \"#E5ECF6\", \"gridcolor\": \"white\", \"gridwidth\": 2, \"linecolor\": \"white\", \"showbackground\": true, \"ticks\": \"\", \"zerolinecolor\": \"white\"}, \"zaxis\": {\"backgroundcolor\": \"#E5ECF6\", \"gridcolor\": \"white\", \"gridwidth\": 2, \"linecolor\": \"white\", \"showbackground\": true, \"ticks\": \"\", \"zerolinecolor\": \"white\"}}, \"shapedefaults\": {\"line\": {\"color\": \"#2a3f5f\"}}, \"ternary\": {\"aaxis\": {\"gridcolor\": \"white\", \"linecolor\": \"white\", \"ticks\": \"\"}, \"baxis\": {\"gridcolor\": \"white\", \"linecolor\": \"white\", \"ticks\": \"\"}, \"bgcolor\": \"#E5ECF6\", \"caxis\": {\"gridcolor\": \"white\", \"linecolor\": \"white\", \"ticks\": \"\"}}, \"title\": {\"x\": 0.05}, \"xaxis\": {\"automargin\": true, \"gridcolor\": \"white\", \"linecolor\": \"white\", \"ticks\": \"\", \"title\": {\"standoff\": 15}, \"zerolinecolor\": \"white\", \"zerolinewidth\": 2}, \"yaxis\": {\"automargin\": true, \"gridcolor\": \"white\", \"linecolor\": \"white\", \"ticks\": \"\", \"title\": {\"standoff\": 15}, \"zerolinecolor\": \"white\", \"zerolinewidth\": 2}}}, \"xaxis\": {\"anchor\": \"y\", \"domain\": [0.0, 1.0]}, \"yaxis\": {\"anchor\": \"x\", \"domain\": [0.0, 1.0], \"title\": {\"text\": \"Education_category\"}}},\n",
              "                        {\"responsive\": true}\n",
              "                    ).then(function(){\n",
              "                            \n",
              "var gd = document.getElementById('2321163a-db02-47b0-b8e4-8cf21245c775');\n",
              "var x = new MutationObserver(function (mutations, observer) {{\n",
              "        var display = window.getComputedStyle(gd).display;\n",
              "        if (!display || display === 'none') {{\n",
              "            console.log([gd, 'removed!']);\n",
              "            Plotly.purge(gd);\n",
              "            observer.disconnect();\n",
              "        }}\n",
              "}});\n",
              "\n",
              "// Listen for the removal of the full notebook cells\n",
              "var notebookContainer = gd.closest('#notebook-container');\n",
              "if (notebookContainer) {{\n",
              "    x.observe(notebookContainer, {childList: true});\n",
              "}}\n",
              "\n",
              "// Listen for the clearing of the current output cell\n",
              "var outputEl = gd.closest('.output');\n",
              "if (outputEl) {{\n",
              "    x.observe(outputEl, {childList: true});\n",
              "}}\n",
              "\n",
              "                        })\n",
              "                };\n",
              "                \n",
              "            </script>\n",
              "        </div>\n",
              "</body>\n",
              "</html>"
            ]
          },
          "metadata": {
            "tags": []
          }
        }
      ]
    },
    {
      "cell_type": "markdown",
      "metadata": {
        "id": "Hhv2Jd8cA9WD"
      },
      "source": [
        "### City"
      ]
    },
    {
      "cell_type": "code",
      "metadata": {
        "id": "XTGcPDNiBGYk"
      },
      "source": [
        "# fig = px.histogram(train, x='City', color='left', title=' ', color_discrete_sequence=px.colors.qualitative.Pastel)\n",
        "# fig.show()"
      ],
      "execution_count": 990,
      "outputs": []
    },
    {
      "cell_type": "code",
      "metadata": {
        "id": "H6H6-tleBHci"
      },
      "source": [
        ""
      ],
      "execution_count": 990,
      "outputs": []
    },
    {
      "cell_type": "markdown",
      "metadata": {
        "id": "W7ogLLqnByDm"
      },
      "source": [
        "### Education level"
      ]
    },
    {
      "cell_type": "markdown",
      "metadata": {
        "id": "0mxJRJojSBxc"
      },
      "source": [
        "## Look at the mean feature values in two groups: for those who left and for those who stayed."
      ]
    },
    {
      "cell_type": "code",
      "metadata": {
        "colab": {
          "base_uri": "https://localhost:8080/",
          "height": 142
        },
        "id": "wBCV50VUB6Dm",
        "outputId": "32a794b6-fac3-4cc3-b469-f5225fd19106"
      },
      "source": [
        "features_mean = train.groupby('left').mean()\n",
        "features_mean"
      ],
      "execution_count": 991,
      "outputs": [
        {
          "output_type": "execute_result",
          "data": {
            "text/html": [
              "<div>\n",
              "<style scoped>\n",
              "    .dataframe tbody tr th:only-of-type {\n",
              "        vertical-align: middle;\n",
              "    }\n",
              "\n",
              "    .dataframe tbody tr th {\n",
              "        vertical-align: top;\n",
              "    }\n",
              "\n",
              "    .dataframe thead th {\n",
              "        text-align: right;\n",
              "    }\n",
              "</style>\n",
              "<table border=\"1\" class=\"dataframe\">\n",
              "  <thead>\n",
              "    <tr style=\"text-align: right;\">\n",
              "      <th></th>\n",
              "      <th>Age</th>\n",
              "      <th>Salary</th>\n",
              "      <th>Joining Designation</th>\n",
              "      <th>Designation</th>\n",
              "      <th>Total Business Value</th>\n",
              "      <th>Quarterly Rating</th>\n",
              "      <th>Education_category</th>\n",
              "      <th>Gender_category</th>\n",
              "      <th>expierience</th>\n",
              "    </tr>\n",
              "    <tr>\n",
              "      <th>left</th>\n",
              "      <th></th>\n",
              "      <th></th>\n",
              "      <th></th>\n",
              "      <th></th>\n",
              "      <th></th>\n",
              "      <th></th>\n",
              "      <th></th>\n",
              "      <th></th>\n",
              "      <th></th>\n",
              "    </tr>\n",
              "  </thead>\n",
              "  <tbody>\n",
              "    <tr>\n",
              "      <th>False</th>\n",
              "      <td>35.591989</td>\n",
              "      <td>73331.882860</td>\n",
              "      <td>1.676060</td>\n",
              "      <td>2.485678</td>\n",
              "      <td>850781.208663</td>\n",
              "      <td>2.454937</td>\n",
              "      <td>2.017000</td>\n",
              "      <td>0.422566</td>\n",
              "      <td>1063.969609</td>\n",
              "    </tr>\n",
              "    <tr>\n",
              "      <th>True</th>\n",
              "      <td>33.843071</td>\n",
              "      <td>59265.236214</td>\n",
              "      <td>1.697634</td>\n",
              "      <td>2.058522</td>\n",
              "      <td>343916.286818</td>\n",
              "      <td>1.643844</td>\n",
              "      <td>2.030034</td>\n",
              "      <td>0.418735</td>\n",
              "      <td>844.315403</td>\n",
              "    </tr>\n",
              "  </tbody>\n",
              "</table>\n",
              "</div>"
            ],
            "text/plain": [
              "             Age        Salary  ...  Gender_category  expierience\n",
              "left                            ...                              \n",
              "False  35.591989  73331.882860  ...         0.422566  1063.969609\n",
              "True   33.843071  59265.236214  ...         0.418735   844.315403\n",
              "\n",
              "[2 rows x 9 columns]"
            ]
          },
          "metadata": {
            "tags": []
          },
          "execution_count": 991
        }
      ]
    },
    {
      "cell_type": "markdown",
      "metadata": {
        "id": "1XeoAUThVkBB"
      },
      "source": [
        "Those, who left the company:\n",
        "- were yonger\n",
        "- had smaller salary\n",
        "- lower designation\n",
        "- brought less business value\n",
        "- had lower quarterly rating"
      ]
    },
    {
      "cell_type": "markdown",
      "metadata": {
        "id": "28pa1geGT_Kb"
      },
      "source": [
        "## Plot features graphs\n"
      ]
    },
    {
      "cell_type": "markdown",
      "metadata": {
        "id": "eKr4i33v0rFO"
      },
      "source": [
        "### Plot quantitative features"
      ]
    },
    {
      "cell_type": "code",
      "metadata": {
        "id": "PW6_tl36JnHe"
      },
      "source": [
        "#normalize values to 1 to improve graph readability\n",
        "for row in features_mean:\n",
        "    if features_mean[row][0] > 1 or features_mean[row][1] > 1:\n",
        "        if features_mean[row][0] > features_mean[row][1]:\n",
        "            features_mean[row][0], features_mean[row][1] = 1, features_mean[row][1] / features_mean[row][0]\n",
        "        else:\n",
        "            features_mean[row][1], features_mean[row][0] = 1, features_mean[row][0] / features_mean[row][1]"
      ],
      "execution_count": 992,
      "outputs": []
    },
    {
      "cell_type": "code",
      "metadata": {
        "id": "41nhZmavUF-Q"
      },
      "source": [
        "#transpose the table and name the columns\n",
        "features_mean_t=features_mean.T\n",
        "features_mean_t.columns=['Stayed', 'Left']\n",
        "features_mean_t=features_mean_t.sort_values('Left')"
      ],
      "execution_count": 993,
      "outputs": []
    },
    {
      "cell_type": "code",
      "metadata": {
        "colab": {
          "base_uri": "https://localhost:8080/",
          "height": 817
        },
        "id": "YBMaBqnoUVBK",
        "outputId": "f6964051-46e4-452d-ebcb-fde81fc7b2a2"
      },
      "source": [
        "fig = go.Figure()\n",
        "fig.add_trace(go.Bar(\n",
        "    y=features_mean_t.index,\n",
        "    x=features_mean_t['Stayed'],\n",
        "    name='Stayed',\n",
        "    orientation='h',    \n",
        "))\n",
        "fig.add_trace(go.Bar(\n",
        "    y=features_mean_t.index,\n",
        "    x=features_mean_t['Left'],\n",
        "    name='Left',\n",
        "    orientation='h',    \n",
        "))\n",
        "fig.update_layout(barmode='group', title=\"Feature distributions for those who left and those who stayed\",\n",
        "    xaxis_title=\"Feature value\", height = 800)\n",
        "\n",
        "fig.show()"
      ],
      "execution_count": 994,
      "outputs": [
        {
          "output_type": "display_data",
          "data": {
            "text/html": [
              "<html>\n",
              "<head><meta charset=\"utf-8\" /></head>\n",
              "<body>\n",
              "    <div>\n",
              "            <script src=\"https://cdnjs.cloudflare.com/ajax/libs/mathjax/2.7.5/MathJax.js?config=TeX-AMS-MML_SVG\"></script><script type=\"text/javascript\">if (window.MathJax) {MathJax.Hub.Config({SVG: {font: \"STIX-Web\"}});}</script>\n",
              "                <script type=\"text/javascript\">window.PlotlyConfig = {MathJaxConfig: 'local'};</script>\n",
              "        <script src=\"https://cdn.plot.ly/plotly-latest.min.js\"></script>    \n",
              "            <div id=\"4a0256be-9252-47d2-8e94-41ed2fbe25ad\" class=\"plotly-graph-div\" style=\"height:800px; width:100%;\"></div>\n",
              "            <script type=\"text/javascript\">\n",
              "                \n",
              "                    window.PLOTLYENV=window.PLOTLYENV || {};\n",
              "                    \n",
              "                if (document.getElementById(\"4a0256be-9252-47d2-8e94-41ed2fbe25ad\")) {\n",
              "                    Plotly.newPlot(\n",
              "                        '4a0256be-9252-47d2-8e94-41ed2fbe25ad',\n",
              "                        [{\"name\": \"Stayed\", \"orientation\": \"h\", \"type\": \"bar\", \"x\": [1.0, 0.4225663716814159, 1.0, 1.0, 1.0, 1.0, 1.0, 0.987291503790474, 0.9935797451600233], \"y\": [\"Total Business Value\", \"Gender_category\", \"Quarterly Rating\", \"expierience\", \"Salary\", \"Designation\", \"Age\", \"Joining Designation\", \"Education_category\"]}, {\"name\": \"Left\", \"orientation\": \"h\", \"type\": \"bar\", \"x\": [0.4042358755881835, 0.41873491067117335, 0.6696071925421891, 0.793552180662119, 0.808178297122034, 0.8281534091763749, 0.9508620366741968, 1.0, 1.0], \"y\": [\"Total Business Value\", \"Gender_category\", \"Quarterly Rating\", \"expierience\", \"Salary\", \"Designation\", \"Age\", \"Joining Designation\", \"Education_category\"]}],\n",
              "                        {\"barmode\": \"group\", \"height\": 800, \"template\": {\"data\": {\"bar\": [{\"error_x\": {\"color\": \"#2a3f5f\"}, \"error_y\": {\"color\": \"#2a3f5f\"}, \"marker\": {\"line\": {\"color\": \"#E5ECF6\", \"width\": 0.5}}, \"type\": \"bar\"}], \"barpolar\": [{\"marker\": {\"line\": {\"color\": \"#E5ECF6\", \"width\": 0.5}}, \"type\": \"barpolar\"}], \"carpet\": [{\"aaxis\": {\"endlinecolor\": \"#2a3f5f\", \"gridcolor\": \"white\", \"linecolor\": \"white\", \"minorgridcolor\": \"white\", \"startlinecolor\": \"#2a3f5f\"}, \"baxis\": {\"endlinecolor\": \"#2a3f5f\", \"gridcolor\": \"white\", \"linecolor\": \"white\", \"minorgridcolor\": \"white\", \"startlinecolor\": \"#2a3f5f\"}, \"type\": \"carpet\"}], \"choropleth\": [{\"colorbar\": {\"outlinewidth\": 0, \"ticks\": \"\"}, \"type\": \"choropleth\"}], \"contour\": [{\"colorbar\": {\"outlinewidth\": 0, \"ticks\": \"\"}, \"colorscale\": [[0.0, \"#0d0887\"], [0.1111111111111111, \"#46039f\"], [0.2222222222222222, \"#7201a8\"], [0.3333333333333333, \"#9c179e\"], [0.4444444444444444, \"#bd3786\"], [0.5555555555555556, \"#d8576b\"], [0.6666666666666666, \"#ed7953\"], [0.7777777777777778, \"#fb9f3a\"], [0.8888888888888888, \"#fdca26\"], [1.0, \"#f0f921\"]], \"type\": \"contour\"}], \"contourcarpet\": [{\"colorbar\": {\"outlinewidth\": 0, \"ticks\": \"\"}, \"type\": \"contourcarpet\"}], \"heatmap\": [{\"colorbar\": {\"outlinewidth\": 0, \"ticks\": \"\"}, \"colorscale\": [[0.0, \"#0d0887\"], [0.1111111111111111, \"#46039f\"], [0.2222222222222222, \"#7201a8\"], [0.3333333333333333, \"#9c179e\"], [0.4444444444444444, \"#bd3786\"], [0.5555555555555556, \"#d8576b\"], [0.6666666666666666, \"#ed7953\"], [0.7777777777777778, \"#fb9f3a\"], [0.8888888888888888, \"#fdca26\"], [1.0, \"#f0f921\"]], \"type\": \"heatmap\"}], \"heatmapgl\": [{\"colorbar\": {\"outlinewidth\": 0, \"ticks\": \"\"}, \"colorscale\": [[0.0, \"#0d0887\"], [0.1111111111111111, \"#46039f\"], [0.2222222222222222, \"#7201a8\"], [0.3333333333333333, \"#9c179e\"], [0.4444444444444444, \"#bd3786\"], [0.5555555555555556, \"#d8576b\"], [0.6666666666666666, \"#ed7953\"], [0.7777777777777778, \"#fb9f3a\"], [0.8888888888888888, \"#fdca26\"], [1.0, \"#f0f921\"]], \"type\": \"heatmapgl\"}], \"histogram\": [{\"marker\": {\"colorbar\": {\"outlinewidth\": 0, \"ticks\": \"\"}}, \"type\": \"histogram\"}], \"histogram2d\": [{\"colorbar\": {\"outlinewidth\": 0, \"ticks\": \"\"}, \"colorscale\": [[0.0, \"#0d0887\"], [0.1111111111111111, \"#46039f\"], [0.2222222222222222, \"#7201a8\"], [0.3333333333333333, \"#9c179e\"], [0.4444444444444444, \"#bd3786\"], [0.5555555555555556, \"#d8576b\"], [0.6666666666666666, \"#ed7953\"], [0.7777777777777778, \"#fb9f3a\"], [0.8888888888888888, \"#fdca26\"], [1.0, \"#f0f921\"]], \"type\": \"histogram2d\"}], \"histogram2dcontour\": [{\"colorbar\": {\"outlinewidth\": 0, \"ticks\": \"\"}, \"colorscale\": [[0.0, \"#0d0887\"], [0.1111111111111111, \"#46039f\"], [0.2222222222222222, \"#7201a8\"], [0.3333333333333333, \"#9c179e\"], [0.4444444444444444, \"#bd3786\"], [0.5555555555555556, \"#d8576b\"], [0.6666666666666666, \"#ed7953\"], [0.7777777777777778, \"#fb9f3a\"], [0.8888888888888888, \"#fdca26\"], [1.0, \"#f0f921\"]], \"type\": \"histogram2dcontour\"}], \"mesh3d\": [{\"colorbar\": {\"outlinewidth\": 0, \"ticks\": \"\"}, \"type\": \"mesh3d\"}], \"parcoords\": [{\"line\": {\"colorbar\": {\"outlinewidth\": 0, \"ticks\": \"\"}}, \"type\": \"parcoords\"}], \"pie\": [{\"automargin\": true, \"type\": \"pie\"}], \"scatter\": [{\"marker\": {\"colorbar\": {\"outlinewidth\": 0, \"ticks\": \"\"}}, \"type\": \"scatter\"}], \"scatter3d\": [{\"line\": {\"colorbar\": {\"outlinewidth\": 0, \"ticks\": \"\"}}, \"marker\": {\"colorbar\": {\"outlinewidth\": 0, \"ticks\": \"\"}}, \"type\": \"scatter3d\"}], \"scattercarpet\": [{\"marker\": {\"colorbar\": {\"outlinewidth\": 0, \"ticks\": \"\"}}, \"type\": \"scattercarpet\"}], \"scattergeo\": [{\"marker\": {\"colorbar\": {\"outlinewidth\": 0, \"ticks\": \"\"}}, \"type\": \"scattergeo\"}], \"scattergl\": [{\"marker\": {\"colorbar\": {\"outlinewidth\": 0, \"ticks\": \"\"}}, \"type\": \"scattergl\"}], \"scattermapbox\": [{\"marker\": {\"colorbar\": {\"outlinewidth\": 0, \"ticks\": \"\"}}, \"type\": \"scattermapbox\"}], \"scatterpolar\": [{\"marker\": {\"colorbar\": {\"outlinewidth\": 0, \"ticks\": \"\"}}, \"type\": \"scatterpolar\"}], \"scatterpolargl\": [{\"marker\": {\"colorbar\": {\"outlinewidth\": 0, \"ticks\": \"\"}}, \"type\": \"scatterpolargl\"}], \"scatterternary\": [{\"marker\": {\"colorbar\": {\"outlinewidth\": 0, \"ticks\": \"\"}}, \"type\": \"scatterternary\"}], \"surface\": [{\"colorbar\": {\"outlinewidth\": 0, \"ticks\": \"\"}, \"colorscale\": [[0.0, \"#0d0887\"], [0.1111111111111111, \"#46039f\"], [0.2222222222222222, \"#7201a8\"], [0.3333333333333333, \"#9c179e\"], [0.4444444444444444, \"#bd3786\"], [0.5555555555555556, \"#d8576b\"], [0.6666666666666666, \"#ed7953\"], [0.7777777777777778, \"#fb9f3a\"], [0.8888888888888888, \"#fdca26\"], [1.0, \"#f0f921\"]], \"type\": \"surface\"}], \"table\": [{\"cells\": {\"fill\": {\"color\": \"#EBF0F8\"}, \"line\": {\"color\": \"white\"}}, \"header\": {\"fill\": {\"color\": \"#C8D4E3\"}, \"line\": {\"color\": \"white\"}}, \"type\": \"table\"}]}, \"layout\": {\"annotationdefaults\": {\"arrowcolor\": \"#2a3f5f\", \"arrowhead\": 0, \"arrowwidth\": 1}, \"coloraxis\": {\"colorbar\": {\"outlinewidth\": 0, \"ticks\": \"\"}}, \"colorscale\": {\"diverging\": [[0, \"#8e0152\"], [0.1, \"#c51b7d\"], [0.2, \"#de77ae\"], [0.3, \"#f1b6da\"], [0.4, \"#fde0ef\"], [0.5, \"#f7f7f7\"], [0.6, \"#e6f5d0\"], [0.7, \"#b8e186\"], [0.8, \"#7fbc41\"], [0.9, \"#4d9221\"], [1, \"#276419\"]], \"sequential\": [[0.0, \"#0d0887\"], [0.1111111111111111, \"#46039f\"], [0.2222222222222222, \"#7201a8\"], [0.3333333333333333, \"#9c179e\"], [0.4444444444444444, \"#bd3786\"], [0.5555555555555556, \"#d8576b\"], [0.6666666666666666, \"#ed7953\"], [0.7777777777777778, \"#fb9f3a\"], [0.8888888888888888, \"#fdca26\"], [1.0, \"#f0f921\"]], \"sequentialminus\": [[0.0, \"#0d0887\"], [0.1111111111111111, \"#46039f\"], [0.2222222222222222, \"#7201a8\"], [0.3333333333333333, \"#9c179e\"], [0.4444444444444444, \"#bd3786\"], [0.5555555555555556, \"#d8576b\"], [0.6666666666666666, \"#ed7953\"], [0.7777777777777778, \"#fb9f3a\"], [0.8888888888888888, \"#fdca26\"], [1.0, \"#f0f921\"]]}, \"colorway\": [\"#636efa\", \"#EF553B\", \"#00cc96\", \"#ab63fa\", \"#FFA15A\", \"#19d3f3\", \"#FF6692\", \"#B6E880\", \"#FF97FF\", \"#FECB52\"], \"font\": {\"color\": \"#2a3f5f\"}, \"geo\": {\"bgcolor\": \"white\", \"lakecolor\": \"white\", \"landcolor\": \"#E5ECF6\", \"showlakes\": true, \"showland\": true, \"subunitcolor\": \"white\"}, \"hoverlabel\": {\"align\": \"left\"}, \"hovermode\": \"closest\", \"mapbox\": {\"style\": \"light\"}, \"paper_bgcolor\": \"white\", \"plot_bgcolor\": \"#E5ECF6\", \"polar\": {\"angularaxis\": {\"gridcolor\": \"white\", \"linecolor\": \"white\", \"ticks\": \"\"}, \"bgcolor\": \"#E5ECF6\", \"radialaxis\": {\"gridcolor\": \"white\", \"linecolor\": \"white\", \"ticks\": \"\"}}, \"scene\": {\"xaxis\": {\"backgroundcolor\": \"#E5ECF6\", \"gridcolor\": \"white\", \"gridwidth\": 2, \"linecolor\": \"white\", \"showbackground\": true, \"ticks\": \"\", \"zerolinecolor\": \"white\"}, \"yaxis\": {\"backgroundcolor\": \"#E5ECF6\", \"gridcolor\": \"white\", \"gridwidth\": 2, \"linecolor\": \"white\", \"showbackground\": true, \"ticks\": \"\", \"zerolinecolor\": \"white\"}, \"zaxis\": {\"backgroundcolor\": \"#E5ECF6\", \"gridcolor\": \"white\", \"gridwidth\": 2, \"linecolor\": \"white\", \"showbackground\": true, \"ticks\": \"\", \"zerolinecolor\": \"white\"}}, \"shapedefaults\": {\"line\": {\"color\": \"#2a3f5f\"}}, \"ternary\": {\"aaxis\": {\"gridcolor\": \"white\", \"linecolor\": \"white\", \"ticks\": \"\"}, \"baxis\": {\"gridcolor\": \"white\", \"linecolor\": \"white\", \"ticks\": \"\"}, \"bgcolor\": \"#E5ECF6\", \"caxis\": {\"gridcolor\": \"white\", \"linecolor\": \"white\", \"ticks\": \"\"}}, \"title\": {\"x\": 0.05}, \"xaxis\": {\"automargin\": true, \"gridcolor\": \"white\", \"linecolor\": \"white\", \"ticks\": \"\", \"title\": {\"standoff\": 15}, \"zerolinecolor\": \"white\", \"zerolinewidth\": 2}, \"yaxis\": {\"automargin\": true, \"gridcolor\": \"white\", \"linecolor\": \"white\", \"ticks\": \"\", \"title\": {\"standoff\": 15}, \"zerolinecolor\": \"white\", \"zerolinewidth\": 2}}}, \"title\": {\"text\": \"Feature distributions for those who left and those who stayed\"}, \"xaxis\": {\"title\": {\"text\": \"Feature value\"}}},\n",
              "                        {\"responsive\": true}\n",
              "                    ).then(function(){\n",
              "                            \n",
              "var gd = document.getElementById('4a0256be-9252-47d2-8e94-41ed2fbe25ad');\n",
              "var x = new MutationObserver(function (mutations, observer) {{\n",
              "        var display = window.getComputedStyle(gd).display;\n",
              "        if (!display || display === 'none') {{\n",
              "            console.log([gd, 'removed!']);\n",
              "            Plotly.purge(gd);\n",
              "            observer.disconnect();\n",
              "        }}\n",
              "}});\n",
              "\n",
              "// Listen for the removal of the full notebook cells\n",
              "var notebookContainer = gd.closest('#notebook-container');\n",
              "if (notebookContainer) {{\n",
              "    x.observe(notebookContainer, {childList: true});\n",
              "}}\n",
              "\n",
              "// Listen for the clearing of the current output cell\n",
              "var outputEl = gd.closest('.output');\n",
              "if (outputEl) {{\n",
              "    x.observe(outputEl, {childList: true});\n",
              "}}\n",
              "\n",
              "                        })\n",
              "                };\n",
              "                \n",
              "            </script>\n",
              "        </div>\n",
              "</body>\n",
              "</html>"
            ]
          },
          "metadata": {
            "tags": []
          }
        }
      ]
    },
    {
      "cell_type": "markdown",
      "metadata": {
        "id": "aRWkprz0V3ke"
      },
      "source": [
        "Graph shows that all features except for `joining designation` are lower for employees who left"
      ]
    },
    {
      "cell_type": "markdown",
      "metadata": {
        "id": "9tX6iXKn0vwj"
      },
      "source": [
        "### Plot qualitative features"
      ]
    },
    {
      "cell_type": "code",
      "metadata": {
        "id": "CdM4RFie1B5x"
      },
      "source": [
        "# plt.figure(figsize=(15, 9))\n",
        "# sns.violinplot(y='left', x='Gender', data=train)\n"
      ],
      "execution_count": 995,
      "outputs": []
    },
    {
      "cell_type": "code",
      "metadata": {
        "colab": {
          "base_uri": "https://localhost:8080/",
          "height": 0
        },
        "id": "Si-QpuOl560r",
        "outputId": "ea84e7a0-a5a4-4bff-dd06-70aff1596eb7"
      },
      "source": [
        "features_mean_gender = train.groupby(['left', 'Gender']).mean()\n",
        "features_mean_gender.head()"
      ],
      "execution_count": 996,
      "outputs": [
        {
          "output_type": "execute_result",
          "data": {
            "text/html": [
              "<div>\n",
              "<style scoped>\n",
              "    .dataframe tbody tr th:only-of-type {\n",
              "        vertical-align: middle;\n",
              "    }\n",
              "\n",
              "    .dataframe tbody tr th {\n",
              "        vertical-align: top;\n",
              "    }\n",
              "\n",
              "    .dataframe thead th {\n",
              "        text-align: right;\n",
              "    }\n",
              "</style>\n",
              "<table border=\"1\" class=\"dataframe\">\n",
              "  <thead>\n",
              "    <tr style=\"text-align: right;\">\n",
              "      <th></th>\n",
              "      <th></th>\n",
              "      <th>Age</th>\n",
              "      <th>Salary</th>\n",
              "      <th>Joining Designation</th>\n",
              "      <th>Designation</th>\n",
              "      <th>Total Business Value</th>\n",
              "      <th>Quarterly Rating</th>\n",
              "      <th>Education_category</th>\n",
              "      <th>Gender_category</th>\n",
              "      <th>expierience</th>\n",
              "    </tr>\n",
              "    <tr>\n",
              "      <th>left</th>\n",
              "      <th>Gender</th>\n",
              "      <th></th>\n",
              "      <th></th>\n",
              "      <th></th>\n",
              "      <th></th>\n",
              "      <th></th>\n",
              "      <th></th>\n",
              "      <th></th>\n",
              "      <th></th>\n",
              "      <th></th>\n",
              "    </tr>\n",
              "  </thead>\n",
              "  <tbody>\n",
              "    <tr>\n",
              "      <th rowspan=\"2\" valign=\"top\">False</th>\n",
              "      <th>Female</th>\n",
              "      <td>35.694131</td>\n",
              "      <td>73558.844585</td>\n",
              "      <td>1.615872</td>\n",
              "      <td>2.449435</td>\n",
              "      <td>841353.284651</td>\n",
              "      <td>2.461560</td>\n",
              "      <td>2.015431</td>\n",
              "      <td>1.0</td>\n",
              "      <td>1044.366217</td>\n",
              "    </tr>\n",
              "    <tr>\n",
              "      <th>Male</th>\n",
              "      <td>35.517241</td>\n",
              "      <td>73165.792095</td>\n",
              "      <td>1.720105</td>\n",
              "      <td>2.512200</td>\n",
              "      <td>857680.570680</td>\n",
              "      <td>2.450091</td>\n",
              "      <td>2.018149</td>\n",
              "      <td>0.0</td>\n",
              "      <td>1078.315386</td>\n",
              "    </tr>\n",
              "    <tr>\n",
              "      <th rowspan=\"2\" valign=\"top\">True</th>\n",
              "      <th>Female</th>\n",
              "      <td>34.307887</td>\n",
              "      <td>59960.266375</td>\n",
              "      <td>1.659363</td>\n",
              "      <td>2.096402</td>\n",
              "      <td>371021.176199</td>\n",
              "      <td>1.652675</td>\n",
              "      <td>2.010609</td>\n",
              "      <td>1.0</td>\n",
              "      <td>882.954566</td>\n",
              "    </tr>\n",
              "    <tr>\n",
              "      <th>Male</th>\n",
              "      <td>33.508224</td>\n",
              "      <td>58764.546602</td>\n",
              "      <td>1.725204</td>\n",
              "      <td>2.031234</td>\n",
              "      <td>324390.318990</td>\n",
              "      <td>1.637481</td>\n",
              "      <td>2.044027</td>\n",
              "      <td>0.0</td>\n",
              "      <td>816.480312</td>\n",
              "    </tr>\n",
              "  </tbody>\n",
              "</table>\n",
              "</div>"
            ],
            "text/plain": [
              "                    Age        Salary  ...  Gender_category  expierience\n",
              "left  Gender                           ...                              \n",
              "False Female  35.694131  73558.844585  ...              1.0  1044.366217\n",
              "      Male    35.517241  73165.792095  ...              0.0  1078.315386\n",
              "True  Female  34.307887  59960.266375  ...              1.0   882.954566\n",
              "      Male    33.508224  58764.546602  ...              0.0   816.480312\n",
              "\n",
              "[4 rows x 9 columns]"
            ]
          },
          "metadata": {
            "tags": []
          },
          "execution_count": 996
        }
      ]
    },
    {
      "cell_type": "code",
      "metadata": {
        "id": "_QaRLAYG218B"
      },
      "source": [
        "# plt.figure(figsize=(15, 9))\n",
        "\n",
        "# sns.violinplot(y='left', x='Education_Level', data=train)\n"
      ],
      "execution_count": 997,
      "outputs": []
    },
    {
      "cell_type": "code",
      "metadata": {
        "id": "b7QGAE2f3CbB"
      },
      "source": [
        "# plt.figure(figsize=(15, 9))\n",
        "# sns.violinplot(y='left', x='City', data=train)"
      ],
      "execution_count": 998,
      "outputs": []
    },
    {
      "cell_type": "markdown",
      "metadata": {
        "id": "WcNFb-XvWBZU"
      },
      "source": [
        "## Build a correlation matrix"
      ]
    },
    {
      "cell_type": "code",
      "metadata": {
        "colab": {
          "base_uri": "https://localhost:8080/",
          "height": 699
        },
        "id": "Ghha4nyBWDju",
        "outputId": "99aaaec4-a4c2-431f-c087-84372b5a3a46"
      },
      "source": [
        "#changing heatmap shape to remove repeating values\n",
        "matrix = np.triu(train_pivot.corr())\n",
        "\n",
        "size = (15, 10)\n",
        "fig, ax = plt.subplots(figsize=size)\n",
        "fig=sns.heatmap(train_pivot.corr(), annot=True, fmt='.1g', vmin=-1, vmax=1, cmap= 'summer', mask=matrix)\n",
        "plt.title('Features correlation matrix')\n",
        "plt.show()"
      ],
      "execution_count": 999,
      "outputs": [
        {
          "output_type": "display_data",
          "data": {
            "image/png": "[encoded data removed]",
            "text/plain": [
              "<Figure size 1080x720 with 2 Axes>"
            ]
          },
          "metadata": {
            "tags": [],
            "needs_background": "light"
          }
        }
      ]
    },
    {
      "cell_type": "markdown",
      "metadata": {
        "id": "BbNApC0RalOZ"
      },
      "source": [
        "There is a positive correlation between:\n",
        "- total business value and quarterly rating\n",
        "- salary and designation/joining designation\n",
        "- salary and total business value\n",
        "- total business value and designation\n",
        "\n",
        "There is a negative correlation between:\n",
        "- most of the features and the fact of employer leaving \n",
        "- quarterly rating and joining designation\n",
        "\n"
      ]
    },
    {
      "cell_type": "markdown",
      "metadata": {
        "id": "WkSSySKjd7FH"
      },
      "source": [
        "## How many entries are there per each month?"
      ]
    },
    {
      "cell_type": "code",
      "metadata": {
        "id": "wy2muE91eAi_"
      },
      "source": [
        "train['month'] = train['date'].astype('datetime64[M]')\n",
        "\n",
        "train_month=train.pivot_table(index='month', values='Emp_ID', aggfunc='count')\n",
        "\n",
        "train_month = train_month.reset_index()\n"
      ],
      "execution_count": 1000,
      "outputs": []
    },
    {
      "cell_type": "code",
      "metadata": {
        "colab": {
          "base_uri": "https://localhost:8080/",
          "height": 0
        },
        "id": "vmmcqi9MgB3Y",
        "outputId": "1e235e6b-aaab-4ad1-b8bc-08e59cf80a69"
      },
      "source": [
        "plt.figure(figsize=size)\n",
        "\n",
        "fig = sns.barplot(data=train_month, x=train_month['month'].dt.date, y='Emp_ID' )\n",
        "plt.title('Number of entries per month')\n",
        "plt.xlabel('Month')\n",
        "plt.ylabel('Number of entries')\n",
        "plt.xticks(rotation=45)\n",
        "\n",
        "for p in fig.patches:\n",
        "    height = p.get_height()\n",
        "    fig.text(x = p.get_x()+(p.get_width()/2), \n",
        " y = height+5, \n",
        " s = '{:.0f}'.format(height), \n",
        " ha ='center') \n",
        "    \n",
        "plt.show()"
      ],
      "execution_count": 1001,
      "outputs": [
        {
          "output_type": "display_data",
          "data": {
            "image/png": "[encoded data removed]",
            "text/plain": [
              "<Figure size 1080x720 with 1 Axes>"
            ]
          },
          "metadata": {
            "tags": [],
            "needs_background": "light"
          }
        }
      ]
    },
    {
      "cell_type": "markdown",
      "metadata": {
        "id": "Z3CheOModji3"
      },
      "source": [
        "## Check hypotheses"
      ]
    },
    {
      "cell_type": "markdown",
      "metadata": {
        "id": "v3-iMMwheRkK"
      },
      "source": [
        "### Is there statistically significant difference between employee's average `Quarterly rating` for both groups?"
      ]
    },
    {
      "cell_type": "markdown",
      "metadata": {
        "id": "kxzTlTUCiqWr"
      },
      "source": [
        "- H0: There is no statistically significant difference\n",
        "- H1: There is"
      ]
    },
    {
      "cell_type": "code",
      "metadata": {
        "colab": {
          "base_uri": "https://localhost:8080/",
          "height": 0
        },
        "id": "e4sJvYIeldt0",
        "outputId": "93606527-90c8-4a50-d86c-bdd2e4e1aedf"
      },
      "source": [
        "rating = (train.pivot_table(index=['Emp_ID', 'left'], values='Quarterly Rating', aggfunc='mean'))\n",
        "rating=rating.reset_index()\n",
        "rating.columns=['Emp_ID','left','Rating']\n",
        "rating.head()"
      ],
      "execution_count": 1002,
      "outputs": [
        {
          "output_type": "execute_result",
          "data": {
            "text/html": [
              "<div>\n",
              "<style scoped>\n",
              "    .dataframe tbody tr th:only-of-type {\n",
              "        vertical-align: middle;\n",
              "    }\n",
              "\n",
              "    .dataframe tbody tr th {\n",
              "        vertical-align: top;\n",
              "    }\n",
              "\n",
              "    .dataframe thead th {\n",
              "        text-align: right;\n",
              "    }\n",
              "</style>\n",
              "<table border=\"1\" class=\"dataframe\">\n",
              "  <thead>\n",
              "    <tr style=\"text-align: right;\">\n",
              "      <th></th>\n",
              "      <th>Emp_ID</th>\n",
              "      <th>left</th>\n",
              "      <th>Rating</th>\n",
              "    </tr>\n",
              "  </thead>\n",
              "  <tbody>\n",
              "    <tr>\n",
              "      <th>0</th>\n",
              "      <td>1</td>\n",
              "      <td>True</td>\n",
              "      <td>2.0</td>\n",
              "    </tr>\n",
              "    <tr>\n",
              "      <th>1</th>\n",
              "      <td>2</td>\n",
              "      <td>False</td>\n",
              "      <td>1.0</td>\n",
              "    </tr>\n",
              "    <tr>\n",
              "      <th>2</th>\n",
              "      <td>4</td>\n",
              "      <td>True</td>\n",
              "      <td>1.0</td>\n",
              "    </tr>\n",
              "    <tr>\n",
              "      <th>3</th>\n",
              "      <td>5</td>\n",
              "      <td>True</td>\n",
              "      <td>1.0</td>\n",
              "    </tr>\n",
              "    <tr>\n",
              "      <th>4</th>\n",
              "      <td>6</td>\n",
              "      <td>False</td>\n",
              "      <td>1.6</td>\n",
              "    </tr>\n",
              "  </tbody>\n",
              "</table>\n",
              "</div>"
            ],
            "text/plain": [
              "  Emp_ID   left  Rating\n",
              "0      1   True     2.0\n",
              "1      2  False     1.0\n",
              "2      4   True     1.0\n",
              "3      5   True     1.0\n",
              "4      6  False     1.6"
            ]
          },
          "metadata": {
            "tags": []
          },
          "execution_count": 1002
        }
      ]
    },
    {
      "cell_type": "markdown",
      "metadata": {
        "id": "-AfVmeOhjImz"
      },
      "source": [
        "#### Remove outliers (same result with and without outliers)"
      ]
    },
    {
      "cell_type": "code",
      "metadata": {
        "colab": {
          "base_uri": "https://localhost:8080/"
        },
        "id": "r9xPyqXMllFf",
        "outputId": "ffc320bb-09ec-49d5-dd1d-48f7fd6a7b7b"
      },
      "source": [
        "Q1 = rating['Rating'].quantile(0.25)\n",
        "Q3 = rating['Rating'].quantile(0.75)\n",
        "IQR = Q3 - Q1\n",
        "upper_whisker = Q3+1.5*IQR\n",
        "round(upper_whisker,2)"
      ],
      "execution_count": 1003,
      "outputs": [
        {
          "output_type": "execute_result",
          "data": {
            "text/plain": [
              "3.5"
            ]
          },
          "metadata": {
            "tags": []
          },
          "execution_count": 1003
        }
      ]
    },
    {
      "cell_type": "code",
      "metadata": {
        "id": "yrPQ4aAslsX4"
      },
      "source": [
        "rating=rating.query('Rating < @upper_whisker')\n"
      ],
      "execution_count": 1004,
      "outputs": []
    },
    {
      "cell_type": "code",
      "metadata": {
        "id": "9T1vNDBvirzP"
      },
      "source": [
        "\n",
        "rating_left = rating.query('left == True')\n",
        "rating_stayed = rating.query('left == False')"
      ],
      "execution_count": 1005,
      "outputs": []
    },
    {
      "cell_type": "code",
      "metadata": {
        "colab": {
          "base_uri": "https://localhost:8080/"
        },
        "id": "2THAXeGykl_J",
        "outputId": "aa2cd9e5-2fe2-414a-8e90-a52b9fabc2d1"
      },
      "source": [
        "round(np.var(rating_left['Rating']),2)"
      ],
      "execution_count": 1006,
      "outputs": [
        {
          "output_type": "execute_result",
          "data": {
            "text/plain": [
              "0.3"
            ]
          },
          "metadata": {
            "tags": []
          },
          "execution_count": 1006
        }
      ]
    },
    {
      "cell_type": "code",
      "metadata": {
        "colab": {
          "base_uri": "https://localhost:8080/"
        },
        "id": "4PpHZcDqkm2O",
        "outputId": "76a0c212-e772-4852-ff68-6d0556d8782f"
      },
      "source": [
        "round(np.var(rating_stayed['Rating']),2)"
      ],
      "execution_count": 1007,
      "outputs": [
        {
          "output_type": "execute_result",
          "data": {
            "text/plain": [
              "0.61"
            ]
          },
          "metadata": {
            "tags": []
          },
          "execution_count": 1007
        }
      ]
    },
    {
      "cell_type": "code",
      "metadata": {
        "colab": {
          "base_uri": "https://localhost:8080/"
        },
        "id": "K4yWiYKFkvsU",
        "outputId": "f3ee2ed4-3478-4491-8c30-42702249aedc"
      },
      "source": [
        "alpha=0.05\n",
        "results = st.ttest_ind(rating_left['Rating'],rating_stayed['Rating'], equal_var=False)\n",
        "if results.pvalue < alpha:\n",
        "    print(\"We reject the null hypothesis\")\n",
        "else:\n",
        "    print(\"We can't reject the null hypothesis\")"
      ],
      "execution_count": 1008,
      "outputs": [
        {
          "output_type": "stream",
          "text": [
            "We reject the null hypothesis\n"
          ],
          "name": "stdout"
        }
      ]
    },
    {
      "cell_type": "code",
      "metadata": {
        "id": "woIYzaZOlAMv"
      },
      "source": [
        ""
      ],
      "execution_count": 1008,
      "outputs": []
    },
    {
      "cell_type": "markdown",
      "metadata": {
        "id": "ulRFql6ppfVY"
      },
      "source": [
        "### Is there statistically significant difference between employee's average `Total business value` for both groups?"
      ]
    },
    {
      "cell_type": "markdown",
      "metadata": {
        "id": "cNsXAFKKpfVb"
      },
      "source": [
        "- H0: There is no statistically significant difference\n",
        "- H1: There is"
      ]
    },
    {
      "cell_type": "code",
      "metadata": {
        "colab": {
          "base_uri": "https://localhost:8080/",
          "height": 0
        },
        "id": "n9hbjmiRpfVc",
        "outputId": "43935c26-e88e-4828-ed1d-b071521a7244"
      },
      "source": [
        "value = (train.pivot_table(index=['Emp_ID', 'left'], values='Total Business Value', aggfunc='mean'))\n",
        "value=value.reset_index()\n",
        "value.columns=['Emp_ID','left','Business_value']\n",
        "value.head()"
      ],
      "execution_count": 1009,
      "outputs": [
        {
          "output_type": "execute_result",
          "data": {
            "text/html": [
              "<div>\n",
              "<style scoped>\n",
              "    .dataframe tbody tr th:only-of-type {\n",
              "        vertical-align: middle;\n",
              "    }\n",
              "\n",
              "    .dataframe tbody tr th {\n",
              "        vertical-align: top;\n",
              "    }\n",
              "\n",
              "    .dataframe thead th {\n",
              "        text-align: right;\n",
              "    }\n",
              "</style>\n",
              "<table border=\"1\" class=\"dataframe\">\n",
              "  <thead>\n",
              "    <tr style=\"text-align: right;\">\n",
              "      <th></th>\n",
              "      <th>Emp_ID</th>\n",
              "      <th>left</th>\n",
              "      <th>Business_value</th>\n",
              "    </tr>\n",
              "  </thead>\n",
              "  <tbody>\n",
              "    <tr>\n",
              "      <th>0</th>\n",
              "      <td>1</td>\n",
              "      <td>True</td>\n",
              "      <td>571860.0</td>\n",
              "    </tr>\n",
              "    <tr>\n",
              "      <th>1</th>\n",
              "      <td>2</td>\n",
              "      <td>False</td>\n",
              "      <td>0.0</td>\n",
              "    </tr>\n",
              "    <tr>\n",
              "      <th>2</th>\n",
              "      <td>4</td>\n",
              "      <td>True</td>\n",
              "      <td>70000.0</td>\n",
              "    </tr>\n",
              "    <tr>\n",
              "      <th>3</th>\n",
              "      <td>5</td>\n",
              "      <td>True</td>\n",
              "      <td>40120.0</td>\n",
              "    </tr>\n",
              "    <tr>\n",
              "      <th>4</th>\n",
              "      <td>6</td>\n",
              "      <td>False</td>\n",
              "      <td>253000.0</td>\n",
              "    </tr>\n",
              "  </tbody>\n",
              "</table>\n",
              "</div>"
            ],
            "text/plain": [
              "  Emp_ID   left  Business_value\n",
              "0      1   True        571860.0\n",
              "1      2  False             0.0\n",
              "2      4   True         70000.0\n",
              "3      5   True         40120.0\n",
              "4      6  False        253000.0"
            ]
          },
          "metadata": {
            "tags": []
          },
          "execution_count": 1009
        }
      ]
    },
    {
      "cell_type": "markdown",
      "metadata": {
        "id": "8yN2T4HspfVd"
      },
      "source": [
        "#### Remove outliers (same result with and without outliers)"
      ]
    },
    {
      "cell_type": "code",
      "metadata": {
        "colab": {
          "base_uri": "https://localhost:8080/"
        },
        "id": "njl2I4m-pfVd",
        "outputId": "af820fe7-315c-4f4c-9dd0-e24fbbe48441"
      },
      "source": [
        "Q1 = value['Business_value'].quantile(0.25)\n",
        "Q3 = value['Business_value'].quantile(0.75)\n",
        "IQR = Q3 - Q1\n",
        "upper_whisker = Q3+1.5*IQR\n",
        "round(upper_whisker,2)"
      ],
      "execution_count": 1010,
      "outputs": [
        {
          "output_type": "execute_result",
          "data": {
            "text/plain": [
              "1077890.0"
            ]
          },
          "metadata": {
            "tags": []
          },
          "execution_count": 1010
        }
      ]
    },
    {
      "cell_type": "code",
      "metadata": {
        "id": "_qMyojcdpfVd"
      },
      "source": [
        "value=value.query('Business_value < @upper_whisker')\n"
      ],
      "execution_count": 1011,
      "outputs": []
    },
    {
      "cell_type": "code",
      "metadata": {
        "id": "IL8EasD0pfVe"
      },
      "source": [
        "\n",
        "value_left = value.query('left == True')\n",
        "value_stayed = value.query('left == False')"
      ],
      "execution_count": 1012,
      "outputs": []
    },
    {
      "cell_type": "code",
      "metadata": {
        "colab": {
          "base_uri": "https://localhost:8080/"
        },
        "id": "q4BPyZdVpfVe",
        "outputId": "c638ada9-77b8-4825-b6d5-c87770bbc571"
      },
      "source": [
        "round(np.var(value_left['Business_value']),2)"
      ],
      "execution_count": 1013,
      "outputs": [
        {
          "output_type": "execute_result",
          "data": {
            "text/plain": [
              "50868869586.38"
            ]
          },
          "metadata": {
            "tags": []
          },
          "execution_count": 1013
        }
      ]
    },
    {
      "cell_type": "code",
      "metadata": {
        "colab": {
          "base_uri": "https://localhost:8080/"
        },
        "id": "rtUjTj9ppfVe",
        "outputId": "9e9e096d-2e34-4224-e70c-ed1fa4fdb5f9"
      },
      "source": [
        "round(np.var(value_stayed['Business_value']),2)"
      ],
      "execution_count": 1014,
      "outputs": [
        {
          "output_type": "execute_result",
          "data": {
            "text/plain": [
              "96785935097.18"
            ]
          },
          "metadata": {
            "tags": []
          },
          "execution_count": 1014
        }
      ]
    },
    {
      "cell_type": "code",
      "metadata": {
        "colab": {
          "base_uri": "https://localhost:8080/"
        },
        "id": "ODuUfgGnpfVe",
        "outputId": "0c4ead6e-755a-41ff-9a2d-be49b488fcad"
      },
      "source": [
        "alpha=0.05\n",
        "results = st.ttest_ind(value_left['Business_value'],value_stayed['Business_value'], equal_var=False)\n",
        "if results.pvalue < alpha:\n",
        "    print(\"We reject the null hypothesis\")\n",
        "else:\n",
        "    print(\"We can't reject the null hypothesis\")"
      ],
      "execution_count": 1015,
      "outputs": [
        {
          "output_type": "stream",
          "text": [
            "We reject the null hypothesis\n"
          ],
          "name": "stdout"
        }
      ]
    },
    {
      "cell_type": "code",
      "metadata": {
        "id": "THCKNHrHqGRW"
      },
      "source": [
        ""
      ],
      "execution_count": 1015,
      "outputs": []
    },
    {
      "cell_type": "markdown",
      "metadata": {
        "id": "Zob3Iwo3qlVh"
      },
      "source": [
        "### Is there statistically significant difference between employee's average `Salary` for both groups?"
      ]
    },
    {
      "cell_type": "markdown",
      "metadata": {
        "id": "rxxO7g7dqlVt"
      },
      "source": [
        "- H0: There is no statistically significant difference\n",
        "- H1: There is"
      ]
    },
    {
      "cell_type": "code",
      "metadata": {
        "colab": {
          "base_uri": "https://localhost:8080/",
          "height": 0
        },
        "id": "fIpJLV-PqlVu",
        "outputId": "2d648bac-4ff6-449a-8b96-1ffb5c6aa1b7"
      },
      "source": [
        "salary = (train.pivot_table(index=['Emp_ID', 'left'], values='Salary', aggfunc='mean'))\n",
        "salary=salary.reset_index()\n",
        "salary.head()"
      ],
      "execution_count": 1016,
      "outputs": [
        {
          "output_type": "execute_result",
          "data": {
            "text/html": [
              "<div>\n",
              "<style scoped>\n",
              "    .dataframe tbody tr th:only-of-type {\n",
              "        vertical-align: middle;\n",
              "    }\n",
              "\n",
              "    .dataframe tbody tr th {\n",
              "        vertical-align: top;\n",
              "    }\n",
              "\n",
              "    .dataframe thead th {\n",
              "        text-align: right;\n",
              "    }\n",
              "</style>\n",
              "<table border=\"1\" class=\"dataframe\">\n",
              "  <thead>\n",
              "    <tr style=\"text-align: right;\">\n",
              "      <th></th>\n",
              "      <th>Emp_ID</th>\n",
              "      <th>left</th>\n",
              "      <th>Salary</th>\n",
              "    </tr>\n",
              "  </thead>\n",
              "  <tbody>\n",
              "    <tr>\n",
              "      <th>0</th>\n",
              "      <td>1</td>\n",
              "      <td>True</td>\n",
              "      <td>57387.0</td>\n",
              "    </tr>\n",
              "    <tr>\n",
              "      <th>1</th>\n",
              "      <td>2</td>\n",
              "      <td>False</td>\n",
              "      <td>67016.0</td>\n",
              "    </tr>\n",
              "    <tr>\n",
              "      <th>2</th>\n",
              "      <td>4</td>\n",
              "      <td>True</td>\n",
              "      <td>65603.0</td>\n",
              "    </tr>\n",
              "    <tr>\n",
              "      <th>3</th>\n",
              "      <td>5</td>\n",
              "      <td>True</td>\n",
              "      <td>46368.0</td>\n",
              "    </tr>\n",
              "    <tr>\n",
              "      <th>4</th>\n",
              "      <td>6</td>\n",
              "      <td>False</td>\n",
              "      <td>78728.0</td>\n",
              "    </tr>\n",
              "  </tbody>\n",
              "</table>\n",
              "</div>"
            ],
            "text/plain": [
              "  Emp_ID   left   Salary\n",
              "0      1   True  57387.0\n",
              "1      2  False  67016.0\n",
              "2      4   True  65603.0\n",
              "3      5   True  46368.0\n",
              "4      6  False  78728.0"
            ]
          },
          "metadata": {
            "tags": []
          },
          "execution_count": 1016
        }
      ]
    },
    {
      "cell_type": "markdown",
      "metadata": {
        "id": "09oWk5l1qlVu"
      },
      "source": [
        "#### Remove outliers (same result with and without outliers)"
      ]
    },
    {
      "cell_type": "code",
      "metadata": {
        "id": "PmY-tBaoqlVv"
      },
      "source": [
        "# Q1 = value['Business_value'].quantile(0.25)\n",
        "# Q3 = value['Business_value'].quantile(0.75)\n",
        "# IQR = Q3 - Q1\n",
        "# upper_whisker = Q3+1.5*IQR\n",
        "# round(upper_whisker,2)"
      ],
      "execution_count": 1017,
      "outputs": []
    },
    {
      "cell_type": "code",
      "metadata": {
        "id": "3CCqOOgcqlVv"
      },
      "source": [
        "# value=value.query('Business_value < @upper_whisker')\n"
      ],
      "execution_count": 1018,
      "outputs": []
    },
    {
      "cell_type": "code",
      "metadata": {
        "id": "lEuoFLmyqlVv"
      },
      "source": [
        "salary_left = salary.query('left == True')\n",
        "salary_stayed = salary.query('left == False')"
      ],
      "execution_count": 1019,
      "outputs": []
    },
    {
      "cell_type": "code",
      "metadata": {
        "colab": {
          "base_uri": "https://localhost:8080/"
        },
        "id": "624axFDqqlVv",
        "outputId": "02836673-e85e-4eab-c86d-8057f31eace5"
      },
      "source": [
        "round(np.var(salary_left['Salary']),2)"
      ],
      "execution_count": 1020,
      "outputs": [
        {
          "output_type": "execute_result",
          "data": {
            "text/plain": [
              "724650379.77"
            ]
          },
          "metadata": {
            "tags": []
          },
          "execution_count": 1020
        }
      ]
    },
    {
      "cell_type": "code",
      "metadata": {
        "colab": {
          "base_uri": "https://localhost:8080/"
        },
        "id": "B9P7p60pqlVv",
        "outputId": "710df1b2-f4af-471d-d55f-95d0c17df819"
      },
      "source": [
        "round(np.var(salary_stayed['Salary']),2)"
      ],
      "execution_count": 1021,
      "outputs": [
        {
          "output_type": "execute_result",
          "data": {
            "text/plain": [
              "854904467.65"
            ]
          },
          "metadata": {
            "tags": []
          },
          "execution_count": 1021
        }
      ]
    },
    {
      "cell_type": "code",
      "metadata": {
        "colab": {
          "base_uri": "https://localhost:8080/"
        },
        "id": "6b1hzoQTqlVw",
        "outputId": "20b7cf61-f979-4e95-8014-e306031e868f"
      },
      "source": [
        "alpha=0.05\n",
        "results = st.ttest_ind(salary_left['Salary'], salary_stayed['Salary'], equal_var=False)\n",
        "if results.pvalue < alpha:\n",
        "    print(\"We reject the null hypothesis\")\n",
        "else:\n",
        "    print(\"We can't reject the null hypothesis\")"
      ],
      "execution_count": 1022,
      "outputs": [
        {
          "output_type": "stream",
          "text": [
            "We reject the null hypothesis\n"
          ],
          "name": "stdout"
        }
      ]
    },
    {
      "cell_type": "code",
      "metadata": {
        "id": "X4YRi-1YrM9b"
      },
      "source": [
        ""
      ],
      "execution_count": 1022,
      "outputs": []
    },
    {
      "cell_type": "markdown",
      "metadata": {
        "id": "vd9BXBGsrrJk"
      },
      "source": [
        "### Is there statistically significant difference between employee's average `Age` for both groups?"
      ]
    },
    {
      "cell_type": "markdown",
      "metadata": {
        "id": "2BezxlXkrrJp"
      },
      "source": [
        "- H0: There is no statistically significant difference\n",
        "- H1: There is"
      ]
    },
    {
      "cell_type": "code",
      "metadata": {
        "id": "NxdJaFeArrJ0"
      },
      "source": [
        "age = (train.pivot_table(index=['Emp_ID', 'left'], values='Age', aggfunc='mean'))\n",
        "age=age.reset_index()\n"
      ],
      "execution_count": 1023,
      "outputs": []
    },
    {
      "cell_type": "markdown",
      "metadata": {
        "id": "Oqa0IcyYrrJ3"
      },
      "source": [
        "#### Remove outliers (same result with and without outliers)"
      ]
    },
    {
      "cell_type": "code",
      "metadata": {
        "id": "ZuWuIFAYrrJ9"
      },
      "source": [
        "# Q1 = value['Business_value'].quantile(0.25)\n",
        "# Q3 = value['Business_value'].quantile(0.75)\n",
        "# IQR = Q3 - Q1\n",
        "# upper_whisker = Q3+1.5*IQR\n",
        "# round(upper_whisker,2)"
      ],
      "execution_count": 1024,
      "outputs": []
    },
    {
      "cell_type": "code",
      "metadata": {
        "id": "EIl9ZrrvrrJ_"
      },
      "source": [
        "# value=value.query('Business_value < @upper_whisker')\n"
      ],
      "execution_count": 1025,
      "outputs": []
    },
    {
      "cell_type": "code",
      "metadata": {
        "id": "LAyG9rlPrrKA"
      },
      "source": [
        "age_left = age.query('left == True')\n",
        "age_stayed = age.query('left == False')"
      ],
      "execution_count": 1026,
      "outputs": []
    },
    {
      "cell_type": "code",
      "metadata": {
        "colab": {
          "base_uri": "https://localhost:8080/"
        },
        "id": "rpOYJ5OSrrKA",
        "outputId": "84b009a0-cfec-4bd5-e236-166c733552c7"
      },
      "source": [
        "round(np.var(age_left['Age']),2)"
      ],
      "execution_count": 1027,
      "outputs": [
        {
          "output_type": "execute_result",
          "data": {
            "text/plain": [
              "35.5"
            ]
          },
          "metadata": {
            "tags": []
          },
          "execution_count": 1027
        }
      ]
    },
    {
      "cell_type": "code",
      "metadata": {
        "colab": {
          "base_uri": "https://localhost:8080/"
        },
        "id": "iyFYBAdWrrKA",
        "outputId": "c232aa02-0cb5-4e81-ab90-92fa37997ab2"
      },
      "source": [
        "round(np.var(age_stayed['Age']),2)"
      ],
      "execution_count": 1028,
      "outputs": [
        {
          "output_type": "execute_result",
          "data": {
            "text/plain": [
              "32.83"
            ]
          },
          "metadata": {
            "tags": []
          },
          "execution_count": 1028
        }
      ]
    },
    {
      "cell_type": "code",
      "metadata": {
        "colab": {
          "base_uri": "https://localhost:8080/"
        },
        "id": "dMbwqFSirrKC",
        "outputId": "9d201014-a96d-4311-dcd0-39152cc256a3"
      },
      "source": [
        "alpha=0.05\n",
        "results = st.ttest_ind(age_left['Age'], age_stayed['Age'], equal_var=False)\n",
        "if results.pvalue < alpha:\n",
        "    print(\"We reject the null hypothesis\")\n",
        "else:\n",
        "    print(\"We can't reject the null hypothesis\")"
      ],
      "execution_count": 1029,
      "outputs": [
        {
          "output_type": "stream",
          "text": [
            "We reject the null hypothesis\n"
          ],
          "name": "stdout"
        }
      ]
    },
    {
      "cell_type": "markdown",
      "metadata": {
        "id": "4VZe4i8ZrrTa"
      },
      "source": [
        "### Is there statistically significant difference between employee's average `Designation` for both groups?"
      ]
    },
    {
      "cell_type": "markdown",
      "metadata": {
        "id": "IatsfP5mrrTd"
      },
      "source": [
        "- H0: There is no statistically significant difference\n",
        "- H1: There is"
      ]
    },
    {
      "cell_type": "code",
      "metadata": {
        "id": "WWZ0MIKurrTd"
      },
      "source": [
        "designation = (train.pivot_table(index=['Emp_ID', 'left'], values='Designation', aggfunc='mean'))\n",
        "designation=designation.reset_index()\n"
      ],
      "execution_count": 1030,
      "outputs": []
    },
    {
      "cell_type": "markdown",
      "metadata": {
        "id": "yCMHy7S9rrTe"
      },
      "source": [
        "#### Remove outliers (same result with and without outliers)"
      ]
    },
    {
      "cell_type": "code",
      "metadata": {
        "id": "1SZmKRSorrTe"
      },
      "source": [
        "# Q1 = value['Business_value'].quantile(0.25)\n",
        "# Q3 = value['Business_value'].quantile(0.75)\n",
        "# IQR = Q3 - Q1\n",
        "# upper_whisker = Q3+1.5*IQR\n",
        "# round(upper_whisker,2)"
      ],
      "execution_count": 1031,
      "outputs": []
    },
    {
      "cell_type": "code",
      "metadata": {
        "id": "3WS7zzCTrrTe"
      },
      "source": [
        "# value=value.query('Business_value < @upper_whisker')\n"
      ],
      "execution_count": 1032,
      "outputs": []
    },
    {
      "cell_type": "code",
      "metadata": {
        "id": "SXuwDhbxrrTe"
      },
      "source": [
        "designation_left = designation.query('left == True')\n",
        "designation_stayed = designation.query('left == False')"
      ],
      "execution_count": 1033,
      "outputs": []
    },
    {
      "cell_type": "code",
      "metadata": {
        "colab": {
          "base_uri": "https://localhost:8080/"
        },
        "id": "DpGd3-bprrTe",
        "outputId": "2f3145a8-9877-449d-a4fb-ebd7aa250157"
      },
      "source": [
        "round(np.var(designation_left['Designation']),2)"
      ],
      "execution_count": 1034,
      "outputs": [
        {
          "output_type": "execute_result",
          "data": {
            "text/plain": [
              "0.82"
            ]
          },
          "metadata": {
            "tags": []
          },
          "execution_count": 1034
        }
      ]
    },
    {
      "cell_type": "code",
      "metadata": {
        "colab": {
          "base_uri": "https://localhost:8080/"
        },
        "id": "MB9quAsjrrTf",
        "outputId": "cb378576-ec0c-4ff0-d360-ac556a3dc00e"
      },
      "source": [
        "round(np.var(designation_stayed['Designation']),2)"
      ],
      "execution_count": 1035,
      "outputs": [
        {
          "output_type": "execute_result",
          "data": {
            "text/plain": [
              "0.86"
            ]
          },
          "metadata": {
            "tags": []
          },
          "execution_count": 1035
        }
      ]
    },
    {
      "cell_type": "code",
      "metadata": {
        "colab": {
          "base_uri": "https://localhost:8080/"
        },
        "id": "nn5EBbJ3rrTf",
        "outputId": "ada0c3a5-fdc6-41f9-ba2f-b17c09dba1a6"
      },
      "source": [
        "alpha=0.05\n",
        "results = st.ttest_ind(designation_left['Designation'], designation_stayed['Designation'])\n",
        "if results.pvalue < alpha:\n",
        "    print(\"We reject the null hypothesis\")\n",
        "else:\n",
        "    print(\"We can't reject the null hypothesis\")"
      ],
      "execution_count": 1036,
      "outputs": [
        {
          "output_type": "stream",
          "text": [
            "We reject the null hypothesis\n"
          ],
          "name": "stdout"
        }
      ]
    },
    {
      "cell_type": "markdown",
      "metadata": {
        "id": "An1w1dlis-Dl"
      },
      "source": [
        "### Is there statistically significant difference between employee's average `Joining Designation` for both groups?"
      ]
    },
    {
      "cell_type": "markdown",
      "metadata": {
        "id": "HHQyYC2Hs-Do"
      },
      "source": [
        "- H0: There is no statistically significant difference\n",
        "- H1: There is"
      ]
    },
    {
      "cell_type": "code",
      "metadata": {
        "id": "Fr9dpBFQs-Dq"
      },
      "source": [
        "designation = (train.pivot_table(index=['Emp_ID', 'left'], values='Joining Designation', aggfunc='mean'))\n",
        "designation=designation.reset_index()\n",
        "designation.columns= ['Emp_ID', 'left', 'joining_designation']\n"
      ],
      "execution_count": 1037,
      "outputs": []
    },
    {
      "cell_type": "markdown",
      "metadata": {
        "id": "EVaXgU4zs-Dr"
      },
      "source": [
        "#### Remove outliers"
      ]
    },
    {
      "cell_type": "code",
      "metadata": {
        "colab": {
          "base_uri": "https://localhost:8080/"
        },
        "id": "aki03Q_cs-Dt",
        "outputId": "417162f3-249f-47cf-a7c3-99cef8d6e9e7"
      },
      "source": [
        "Q1 = designation['joining_designation'].quantile(0.25)\n",
        "Q3 = designation['joining_designation'].quantile(0.75)\n",
        "IQR = Q3 - Q1\n",
        "upper_whisker = Q3+1.5*IQR\n",
        "round(upper_whisker,2)"
      ],
      "execution_count": 1038,
      "outputs": [
        {
          "output_type": "execute_result",
          "data": {
            "text/plain": [
              "3.5"
            ]
          },
          "metadata": {
            "tags": []
          },
          "execution_count": 1038
        }
      ]
    },
    {
      "cell_type": "code",
      "metadata": {
        "id": "MtF6vcbns-Dv"
      },
      "source": [
        "designation=designation.query('joining_designation < @upper_whisker')\n"
      ],
      "execution_count": 1039,
      "outputs": []
    },
    {
      "cell_type": "code",
      "metadata": {
        "id": "olTm788Ss-Dw"
      },
      "source": [
        "designation_left = designation.query('left == True')\n",
        "designation_stayed = designation.query('left == False')"
      ],
      "execution_count": 1040,
      "outputs": []
    },
    {
      "cell_type": "code",
      "metadata": {
        "colab": {
          "base_uri": "https://localhost:8080/"
        },
        "id": "CS5OPXhds-Dw",
        "outputId": "211be7bd-ff63-4176-b012-06733ce57b32"
      },
      "source": [
        "round(np.var(designation_left['joining_designation']),2)"
      ],
      "execution_count": 1041,
      "outputs": [
        {
          "output_type": "execute_result",
          "data": {
            "text/plain": [
              "0.56"
            ]
          },
          "metadata": {
            "tags": []
          },
          "execution_count": 1041
        }
      ]
    },
    {
      "cell_type": "code",
      "metadata": {
        "colab": {
          "base_uri": "https://localhost:8080/"
        },
        "id": "YEf4AAkZs-Dz",
        "outputId": "7a101260-e32f-45d3-da76-a6a7f1c16ab3"
      },
      "source": [
        "round(np.var(designation_stayed['joining_designation']),2)"
      ],
      "execution_count": 1042,
      "outputs": [
        {
          "output_type": "execute_result",
          "data": {
            "text/plain": [
              "0.65"
            ]
          },
          "metadata": {
            "tags": []
          },
          "execution_count": 1042
        }
      ]
    },
    {
      "cell_type": "code",
      "metadata": {
        "colab": {
          "base_uri": "https://localhost:8080/"
        },
        "id": "FEiDMNJzs-D0",
        "outputId": "24f3567e-b8b0-450f-cb14-0ee92f888c55"
      },
      "source": [
        "alpha=0.05\n",
        "results = st.ttest_ind(designation_left['joining_designation'], designation_stayed['joining_designation'], equal_var=False)\n",
        "if results.pvalue < alpha:\n",
        "    print(\"We reject the null hypothesis\")\n",
        "else:\n",
        "    print(\"We can't reject the null hypothesis\")"
      ],
      "execution_count": 1043,
      "outputs": [
        {
          "output_type": "stream",
          "text": [
            "We reject the null hypothesis\n"
          ],
          "name": "stdout"
        }
      ]
    },
    {
      "cell_type": "code",
      "metadata": {
        "id": "t96yRpfDtaI6"
      },
      "source": [
        ""
      ],
      "execution_count": 1043,
      "outputs": []
    },
    {
      "cell_type": "markdown",
      "metadata": {
        "id": "fZ9dhh4X1Gpn"
      },
      "source": [
        "### Is there statistically significant difference between employee's average `JEducation_Level` for both groups?"
      ]
    },
    {
      "cell_type": "markdown",
      "metadata": {
        "id": "NniN2cGw1Gpn"
      },
      "source": [
        "- H0: There is no statistically significant difference\n",
        "- H1: There is"
      ]
    },
    {
      "cell_type": "code",
      "metadata": {
        "id": "n-I_r_E01Gpv"
      },
      "source": [
        "test = (train.pivot_table(index=['Emp_ID', 'left'], values='Education_category', aggfunc='mean'))\n",
        "test=test.reset_index()\n"
      ],
      "execution_count": 1044,
      "outputs": []
    },
    {
      "cell_type": "code",
      "metadata": {
        "id": "llD4-6-o1Gpx"
      },
      "source": [
        "test_left = test.query('left == True')\n",
        "test_stayed = test.query('left == False')"
      ],
      "execution_count": 1045,
      "outputs": []
    },
    {
      "cell_type": "code",
      "metadata": {
        "colab": {
          "base_uri": "https://localhost:8080/"
        },
        "id": "VvtAiRfX1Gpx",
        "outputId": "9876e958-5bbb-4681-df15-959a9625c70d"
      },
      "source": [
        "round(np.var(test_left['Education_category']),2)"
      ],
      "execution_count": 1046,
      "outputs": [
        {
          "output_type": "execute_result",
          "data": {
            "text/plain": [
              "0.67"
            ]
          },
          "metadata": {
            "tags": []
          },
          "execution_count": 1046
        }
      ]
    },
    {
      "cell_type": "code",
      "metadata": {
        "colab": {
          "base_uri": "https://localhost:8080/"
        },
        "id": "bS78vC_u1Gpx",
        "outputId": "08e6e953-88ba-4a25-a421-960647ce8584"
      },
      "source": [
        "round(np.var(test_stayed['Education_category']),2)"
      ],
      "execution_count": 1047,
      "outputs": [
        {
          "output_type": "execute_result",
          "data": {
            "text/plain": [
              "0.64"
            ]
          },
          "metadata": {
            "tags": []
          },
          "execution_count": 1047
        }
      ]
    },
    {
      "cell_type": "code",
      "metadata": {
        "colab": {
          "base_uri": "https://localhost:8080/"
        },
        "id": "PrRiaQOL1Gpx",
        "outputId": "af2bc6ea-38e9-4b1b-a2f0-ab2d32873a14"
      },
      "source": [
        "alpha=0.05\n",
        "results = st.ttest_ind(test_left['Education_category'], test_stayed['Education_category'], equal_var=True)\n",
        "if results.pvalue < alpha:\n",
        "    print(\"We reject the null hypothesis\")\n",
        "else:\n",
        "    print(\"We can't reject the null hypothesis\")"
      ],
      "execution_count": 1048,
      "outputs": [
        {
          "output_type": "stream",
          "text": [
            "We can't reject the null hypothesis\n"
          ],
          "name": "stdout"
        }
      ]
    },
    {
      "cell_type": "markdown",
      "metadata": {
        "id": "yEiPc5677JPT"
      },
      "source": [
        "## Clusterization"
      ]
    },
    {
      "cell_type": "code",
      "metadata": {
        "colab": {
          "base_uri": "https://localhost:8080/",
          "height": 204
        },
        "id": "F-YYdFf27j4O",
        "outputId": "613ffece-c556-455b-e9da-9d6934b11db6"
      },
      "source": [
        "train_pivot=train_pivot.reset_index()\n",
        "train_pivot=train_pivot.drop(labels='index', axis=1)\n",
        "train_pivot.head()\n"
      ],
      "execution_count": 1049,
      "outputs": [
        {
          "output_type": "execute_result",
          "data": {
            "text/html": [
              "<div>\n",
              "<style scoped>\n",
              "    .dataframe tbody tr th:only-of-type {\n",
              "        vertical-align: middle;\n",
              "    }\n",
              "\n",
              "    .dataframe tbody tr th {\n",
              "        vertical-align: top;\n",
              "    }\n",
              "\n",
              "    .dataframe thead th {\n",
              "        text-align: right;\n",
              "    }\n",
              "</style>\n",
              "<table border=\"1\" class=\"dataframe\">\n",
              "  <thead>\n",
              "    <tr style=\"text-align: right;\">\n",
              "      <th></th>\n",
              "      <th>left</th>\n",
              "      <th>Emp_ID</th>\n",
              "      <th>Age</th>\n",
              "      <th>Designation</th>\n",
              "      <th>Education_category</th>\n",
              "      <th>Gender_category</th>\n",
              "      <th>Joining Designation</th>\n",
              "      <th>Quarterly Rating</th>\n",
              "      <th>Salary</th>\n",
              "      <th>Total Business Value</th>\n",
              "      <th>expierience</th>\n",
              "    </tr>\n",
              "  </thead>\n",
              "  <tbody>\n",
              "    <tr>\n",
              "      <th>0</th>\n",
              "      <td>False</td>\n",
              "      <td>2</td>\n",
              "      <td>31.000000</td>\n",
              "      <td>2.0</td>\n",
              "      <td>3.0</td>\n",
              "      <td>0.0</td>\n",
              "      <td>2.0</td>\n",
              "      <td>1.00</td>\n",
              "      <td>67016.0</td>\n",
              "      <td>0.000000e+00</td>\n",
              "      <td>25.0</td>\n",
              "    </tr>\n",
              "    <tr>\n",
              "      <th>1</th>\n",
              "      <td>False</td>\n",
              "      <td>6</td>\n",
              "      <td>31.000000</td>\n",
              "      <td>3.0</td>\n",
              "      <td>2.0</td>\n",
              "      <td>1.0</td>\n",
              "      <td>3.0</td>\n",
              "      <td>1.60</td>\n",
              "      <td>78728.0</td>\n",
              "      <td>2.530000e+05</td>\n",
              "      <td>123.0</td>\n",
              "    </tr>\n",
              "    <tr>\n",
              "      <th>2</th>\n",
              "      <td>False</td>\n",
              "      <td>11</td>\n",
              "      <td>28.000000</td>\n",
              "      <td>1.0</td>\n",
              "      <td>3.0</td>\n",
              "      <td>1.0</td>\n",
              "      <td>1.0</td>\n",
              "      <td>1.00</td>\n",
              "      <td>42172.0</td>\n",
              "      <td>0.000000e+00</td>\n",
              "      <td>-6.0</td>\n",
              "    </tr>\n",
              "    <tr>\n",
              "      <th>3</th>\n",
              "      <td>False</td>\n",
              "      <td>14</td>\n",
              "      <td>39.000000</td>\n",
              "      <td>3.0</td>\n",
              "      <td>1.0</td>\n",
              "      <td>1.0</td>\n",
              "      <td>3.0</td>\n",
              "      <td>1.00</td>\n",
              "      <td>19734.0</td>\n",
              "      <td>0.000000e+00</td>\n",
              "      <td>46.0</td>\n",
              "    </tr>\n",
              "    <tr>\n",
              "      <th>4</th>\n",
              "      <td>False</td>\n",
              "      <td>25</td>\n",
              "      <td>29.666667</td>\n",
              "      <td>3.0</td>\n",
              "      <td>2.0</td>\n",
              "      <td>0.0</td>\n",
              "      <td>1.0</td>\n",
              "      <td>3.75</td>\n",
              "      <td>102077.0</td>\n",
              "      <td>1.514630e+06</td>\n",
              "      <td>1128.0</td>\n",
              "    </tr>\n",
              "  </tbody>\n",
              "</table>\n",
              "</div>"
            ],
            "text/plain": [
              "    left Emp_ID        Age  ...    Salary  Total Business Value  expierience\n",
              "0  False      2  31.000000  ...   67016.0          0.000000e+00         25.0\n",
              "1  False      6  31.000000  ...   78728.0          2.530000e+05        123.0\n",
              "2  False     11  28.000000  ...   42172.0          0.000000e+00         -6.0\n",
              "3  False     14  39.000000  ...   19734.0          0.000000e+00         46.0\n",
              "4  False     25  29.666667  ...  102077.0          1.514630e+06       1128.0\n",
              "\n",
              "[5 rows x 11 columns]"
            ]
          },
          "metadata": {
            "tags": []
          },
          "execution_count": 1049
        }
      ]
    },
    {
      "cell_type": "code",
      "metadata": {
        "id": "XeZNUW7N7c6f"
      },
      "source": [
        "import itertools\n",
        "\n",
        "from sklearn.preprocessing import StandardScaler\n",
        "from sklearn.cluster import KMeans\n",
        "from sklearn.metrics import silhouette_score\n",
        "\n",
        "# standardize the data\n",
        "sc = StandardScaler()\n",
        "x_sc = sc.fit_transform((train_pivot.drop(columns = ['left'])))"
      ],
      "execution_count": 1050,
      "outputs": []
    },
    {
      "cell_type": "code",
      "metadata": {
        "id": "jeDKGjKM1bWi",
        "colab": {
          "base_uri": "https://localhost:8080/",
          "height": 610
        },
        "outputId": "ef929ed1-5ff6-426a-e913-c30969563201"
      },
      "source": [
        "from scipy.cluster.hierarchy import dendrogram, linkage\n",
        "\n",
        "linked = linkage(x_sc, method = 'ward')\n",
        "plt.figure(figsize=(15, 10))  \n",
        "dendrogram(linked, orientation='top')\n",
        "plt.title('Hierarchical clustering')\n",
        "plt.show()"
      ],
      "execution_count": 1051,
      "outputs": [
        {
          "output_type": "display_data",
          "data": {
            "image/png": "[encoded data removed]",
            "text/plain": [
              "<Figure size 1080x720 with 1 Axes>"
            ]
          },
          "metadata": {
            "tags": [],
            "needs_background": "light"
          }
        }
      ]
    },
    {
      "cell_type": "markdown",
      "metadata": {
        "id": "FQsW67mr8uTX"
      },
      "source": [
        "Let's use 3 clusters"
      ]
    },
    {
      "cell_type": "code",
      "metadata": {
        "id": "BAz4irDQ8wR1"
      },
      "source": [
        "# standardize the data\n",
        "sc = StandardScaler()\n",
        "x_sc = sc.fit_transform(train_pivot)\n",
        "\n",
        "# define the k_means model with 4 clusters\n",
        "km = KMeans(n_clusters = 3, random_state=10)\n",
        "\n",
        "# predict the clusters for observations\n",
        "labels = km.fit_predict(x_sc)"
      ],
      "execution_count": 1052,
      "outputs": []
    },
    {
      "cell_type": "code",
      "metadata": {
        "id": "xNPpOs3O89_m"
      },
      "source": [
        "train_pivot['cluster'] = labels\n",
        "cluster = train_pivot.groupby('cluster').mean()\n",
        "cluster.T\n",
        "\n",
        "#normalize data to show on the heatmap\n",
        "for row in cluster:\n",
        "    if cluster[row][0] > 1 or cluster[row][1] > 1:\n",
        "        if cluster[row][0] == max(cluster[row]):\n",
        "            cluster[row][0], cluster[row][1], cluster[row][2]=1, cluster[row][1] / cluster[row][0], cluster[row][2] / cluster[row][0]\n",
        "        elif cluster[row][1] == max(cluster[row]):\n",
        "            cluster[row][1], cluster[row][0], cluster[row][2]=1, cluster[row][0] / cluster[row][1], cluster[row][2] / cluster[row][1]\n",
        "        elif cluster[row][2] == max(cluster[row]):\n",
        "            cluster[row][2], cluster[row][0], cluster[row][1]=1, cluster[row][0] / cluster[row][2], cluster[row][1] / cluster[row][2]\n",
        "        \n"
      ],
      "execution_count": 1053,
      "outputs": []
    },
    {
      "cell_type": "code",
      "metadata": {
        "colab": {
          "base_uri": "https://localhost:8080/",
          "height": 621
        },
        "id": "UIQLk6gV_E7A",
        "outputId": "91ae9db9-9405-41cf-fa15-dd0be657acb1"
      },
      "source": [
        "fig, ax = plt.subplots(figsize=size)\n",
        "fig = sns.barplot(x=cluster.index, y=cluster['left'])\n",
        "plt.title('Cluster churn rates')\n",
        "plt.xlabel('Cluster')\n",
        "plt.ylabel('Churn rate')\n",
        "\n",
        "for p in fig.patches:\n",
        "    height = p.get_height()\n",
        "    fig.text(x = p.get_x()+(p.get_width()/2), \n",
        " y = height+0.01, \n",
        " s = '{:.1%}'.format(height), \n",
        " ha ='center') \n",
        "    \n",
        "plt.xticks(fontsize=8)\n",
        "\n",
        "plt.show()"
      ],
      "execution_count": 1054,
      "outputs": [
        {
          "output_type": "display_data",
          "data": {
            "image/png": "[encoded data removed]",
            "text/plain": [
              "<Figure size 1080x720 with 1 Axes>"
            ]
          },
          "metadata": {
            "tags": [],
            "needs_background": "light"
          }
        }
      ]
    },
    {
      "cell_type": "markdown",
      "metadata": {
        "id": "S72ebiyF_pcn"
      },
      "source": [
        "### Let's check clusters specific features."
      ]
    },
    {
      "cell_type": "code",
      "metadata": {
        "colab": {
          "base_uri": "https://localhost:8080/",
          "height": 621
        },
        "id": "MDjLp62192eb",
        "outputId": "4037fb15-be63-4246-bb95-de918eb6687a"
      },
      "source": [
        "fig, ax = plt.subplots(figsize=size)\n",
        "fig=sns.heatmap(cluster.T, annot=True, fmt='.3g',cmap='summer')\n",
        "plt.title('Cluster comparison')\n",
        "plt.show()"
      ],
      "execution_count": 1055,
      "outputs": [
        {
          "output_type": "display_data",
          "data": {
            "image/png": "[encoded data removed]",
            "text/plain": [
              "<Figure size 1080x720 with 2 Axes>"
            ]
          },
          "metadata": {
            "tags": [],
            "needs_background": "light"
          }
        }
      ]
    },
    {
      "cell_type": "markdown",
      "metadata": {
        "id": "QnZyHz2kAJdG"
      },
      "source": [
        "1. Cluster with high churn rates is characterized by:\n",
        "  - lower designation\n",
        "  - lower salary\n",
        "\n",
        "  **These features affect employees desire to leave the company significantly.**\n",
        "\n",
        "2. Cluster with lowest churn rates, its specific characteristics are:\n",
        "  - higher quarterly rating\n",
        "  - higher total business value\n",
        "  - ? higher salary\n",
        "  - ? bigger experience\n",
        "\n",
        "  **These features affect employees desire to stay in the company significantly.**\n"
      ]
    },
    {
      "cell_type": "code",
      "metadata": {
        "colab": {
          "base_uri": "https://localhost:8080/",
          "height": 1000
        },
        "id": "gJn_IIef9IIU",
        "outputId": "f4693bf1-6fd6-434f-fd1b-e79c8163c562"
      },
      "source": [
        "report = cluster.T\n",
        "\n",
        "fig = go.Figure()\n",
        "fig.add_trace(go.Bar(name = '0', y = report.index, x= report[0],orientation='h'))\n",
        "fig.add_trace(go.Bar(name = '1', y = report.index, x= report[1],orientation='h'))\n",
        "fig.add_trace(go.Bar(name = '2', y = report.index, x= report[2],orientation='h'))\n",
        "\n",
        "fig.update_layout(barmode='group', title=\"Feature distributions for the clusters\",\n",
        "    xaxis_title=\"Feature value\", height=1500)\n",
        "\n",
        "fig.show()"
      ],
      "execution_count": 1056,
      "outputs": [
        {
          "output_type": "display_data",
          "data": {
            "text/html": [
              "<html>\n",
              "<head><meta charset=\"utf-8\" /></head>\n",
              "<body>\n",
              "    <div>\n",
              "            <script src=\"https://cdnjs.cloudflare.com/ajax/libs/mathjax/2.7.5/MathJax.js?config=TeX-AMS-MML_SVG\"></script><script type=\"text/javascript\">if (window.MathJax) {MathJax.Hub.Config({SVG: {font: \"STIX-Web\"}});}</script>\n",
              "                <script type=\"text/javascript\">window.PlotlyConfig = {MathJaxConfig: 'local'};</script>\n",
              "        <script src=\"https://cdn.plot.ly/plotly-latest.min.js\"></script>    \n",
              "            <div id=\"f3bcb7c8-1138-427d-8875-4468f5619565\" class=\"plotly-graph-div\" style=\"height:1500px; width:100%;\"></div>\n",
              "            <script type=\"text/javascript\">\n",
              "                \n",
              "                    window.PLOTLYENV=window.PLOTLYENV || {};\n",
              "                    \n",
              "                if (document.getElementById(\"f3bcb7c8-1138-427d-8875-4468f5619565\")) {\n",
              "                    Plotly.newPlot(\n",
              "                        'f3bcb7c8-1138-427d-8875-4468f5619565',\n",
              "                        [{\"name\": \"0\", \"orientation\": \"h\", \"type\": \"bar\", \"x\": [0.8922829581993569, 0.8462263920261944, 0.5102059505881396, 0.9656712415811733, 0.4188102893890675, 0.4945967447873504, 0.5256485289552029, 0.5312781034326295, 0.1538165998733626, 0.37665851149181906], \"y\": [\"left\", \"Age\", \"Designation\", \"Education_category\", \"Gender_category\", \"Joining Designation\", \"Quarterly Rating\", \"Salary\", \"Total Business Value\", \"expierience\"]}, {\"name\": \"1\", \"orientation\": \"h\", \"type\": \"bar\", \"x\": [0.387409200968523, 1.0, 0.9535568523522923, 0.9896445411987084, 0.45278450363196127, 0.5385786675320136, 1.0, 1.0, 1.0, 1.0], \"y\": [\"left\", \"Age\", \"Designation\", \"Education_category\", \"Gender_category\", \"Joining Designation\", \"Quarterly Rating\", \"Salary\", \"Total Business Value\", \"expierience\"]}, {\"name\": \"2\", \"orientation\": \"h\", \"type\": \"bar\", \"x\": [0.49137931034482757, 0.9031251086479749, 1.0, 1.0, 0.3735632183908046, 1.0, 0.5167135476564693, 0.9355263851778889, 0.17751132109386286, 0.1850215884969724], \"y\": [\"left\", \"Age\", \"Designation\", \"Education_category\", \"Gender_category\", \"Joining Designation\", \"Quarterly Rating\", \"Salary\", \"Total Business Value\", \"expierience\"]}],\n",
              "                        {\"barmode\": \"group\", \"height\": 1500, \"template\": {\"data\": {\"bar\": [{\"error_x\": {\"color\": \"#2a3f5f\"}, \"error_y\": {\"color\": \"#2a3f5f\"}, \"marker\": {\"line\": {\"color\": \"#E5ECF6\", \"width\": 0.5}}, \"type\": \"bar\"}], \"barpolar\": [{\"marker\": {\"line\": {\"color\": \"#E5ECF6\", \"width\": 0.5}}, \"type\": \"barpolar\"}], \"carpet\": [{\"aaxis\": {\"endlinecolor\": \"#2a3f5f\", \"gridcolor\": \"white\", \"linecolor\": \"white\", \"minorgridcolor\": \"white\", \"startlinecolor\": \"#2a3f5f\"}, \"baxis\": {\"endlinecolor\": \"#2a3f5f\", \"gridcolor\": \"white\", \"linecolor\": \"white\", \"minorgridcolor\": \"white\", \"startlinecolor\": \"#2a3f5f\"}, \"type\": \"carpet\"}], \"choropleth\": [{\"colorbar\": {\"outlinewidth\": 0, \"ticks\": \"\"}, \"type\": \"choropleth\"}], \"contour\": [{\"colorbar\": {\"outlinewidth\": 0, \"ticks\": \"\"}, \"colorscale\": [[0.0, \"#0d0887\"], [0.1111111111111111, \"#46039f\"], [0.2222222222222222, \"#7201a8\"], [0.3333333333333333, \"#9c179e\"], [0.4444444444444444, \"#bd3786\"], [0.5555555555555556, \"#d8576b\"], [0.6666666666666666, \"#ed7953\"], [0.7777777777777778, \"#fb9f3a\"], [0.8888888888888888, \"#fdca26\"], [1.0, \"#f0f921\"]], \"type\": \"contour\"}], \"contourcarpet\": [{\"colorbar\": {\"outlinewidth\": 0, \"ticks\": \"\"}, \"type\": \"contourcarpet\"}], \"heatmap\": [{\"colorbar\": {\"outlinewidth\": 0, \"ticks\": \"\"}, \"colorscale\": [[0.0, \"#0d0887\"], [0.1111111111111111, \"#46039f\"], [0.2222222222222222, \"#7201a8\"], [0.3333333333333333, \"#9c179e\"], [0.4444444444444444, \"#bd3786\"], [0.5555555555555556, \"#d8576b\"], [0.6666666666666666, \"#ed7953\"], [0.7777777777777778, \"#fb9f3a\"], [0.8888888888888888, \"#fdca26\"], [1.0, \"#f0f921\"]], \"type\": \"heatmap\"}], \"heatmapgl\": [{\"colorbar\": {\"outlinewidth\": 0, \"ticks\": \"\"}, \"colorscale\": [[0.0, \"#0d0887\"], [0.1111111111111111, \"#46039f\"], [0.2222222222222222, \"#7201a8\"], [0.3333333333333333, \"#9c179e\"], [0.4444444444444444, \"#bd3786\"], [0.5555555555555556, \"#d8576b\"], [0.6666666666666666, \"#ed7953\"], [0.7777777777777778, \"#fb9f3a\"], [0.8888888888888888, \"#fdca26\"], [1.0, \"#f0f921\"]], \"type\": \"heatmapgl\"}], \"histogram\": [{\"marker\": {\"colorbar\": {\"outlinewidth\": 0, \"ticks\": \"\"}}, \"type\": \"histogram\"}], \"histogram2d\": [{\"colorbar\": {\"outlinewidth\": 0, \"ticks\": \"\"}, \"colorscale\": [[0.0, \"#0d0887\"], [0.1111111111111111, \"#46039f\"], [0.2222222222222222, \"#7201a8\"], [0.3333333333333333, \"#9c179e\"], [0.4444444444444444, \"#bd3786\"], [0.5555555555555556, \"#d8576b\"], [0.6666666666666666, \"#ed7953\"], [0.7777777777777778, \"#fb9f3a\"], [0.8888888888888888, \"#fdca26\"], [1.0, \"#f0f921\"]], \"type\": \"histogram2d\"}], \"histogram2dcontour\": [{\"colorbar\": {\"outlinewidth\": 0, \"ticks\": \"\"}, \"colorscale\": [[0.0, \"#0d0887\"], [0.1111111111111111, \"#46039f\"], [0.2222222222222222, \"#7201a8\"], [0.3333333333333333, \"#9c179e\"], [0.4444444444444444, \"#bd3786\"], [0.5555555555555556, \"#d8576b\"], [0.6666666666666666, \"#ed7953\"], [0.7777777777777778, \"#fb9f3a\"], [0.8888888888888888, \"#fdca26\"], [1.0, \"#f0f921\"]], \"type\": \"histogram2dcontour\"}], \"mesh3d\": [{\"colorbar\": {\"outlinewidth\": 0, \"ticks\": \"\"}, \"type\": \"mesh3d\"}], \"parcoords\": [{\"line\": {\"colorbar\": {\"outlinewidth\": 0, \"ticks\": \"\"}}, \"type\": \"parcoords\"}], \"pie\": [{\"automargin\": true, \"type\": \"pie\"}], \"scatter\": [{\"marker\": {\"colorbar\": {\"outlinewidth\": 0, \"ticks\": \"\"}}, \"type\": \"scatter\"}], \"scatter3d\": [{\"line\": {\"colorbar\": {\"outlinewidth\": 0, \"ticks\": \"\"}}, \"marker\": {\"colorbar\": {\"outlinewidth\": 0, \"ticks\": \"\"}}, \"type\": \"scatter3d\"}], \"scattercarpet\": [{\"marker\": {\"colorbar\": {\"outlinewidth\": 0, \"ticks\": \"\"}}, \"type\": \"scattercarpet\"}], \"scattergeo\": [{\"marker\": {\"colorbar\": {\"outlinewidth\": 0, \"ticks\": \"\"}}, \"type\": \"scattergeo\"}], \"scattergl\": [{\"marker\": {\"colorbar\": {\"outlinewidth\": 0, \"ticks\": \"\"}}, \"type\": \"scattergl\"}], \"scattermapbox\": [{\"marker\": {\"colorbar\": {\"outlinewidth\": 0, \"ticks\": \"\"}}, \"type\": \"scattermapbox\"}], \"scatterpolar\": [{\"marker\": {\"colorbar\": {\"outlinewidth\": 0, \"ticks\": \"\"}}, \"type\": \"scatterpolar\"}], \"scatterpolargl\": [{\"marker\": {\"colorbar\": {\"outlinewidth\": 0, \"ticks\": \"\"}}, \"type\": \"scatterpolargl\"}], \"scatterternary\": [{\"marker\": {\"colorbar\": {\"outlinewidth\": 0, \"ticks\": \"\"}}, \"type\": \"scatterternary\"}], \"surface\": [{\"colorbar\": {\"outlinewidth\": 0, \"ticks\": \"\"}, \"colorscale\": [[0.0, \"#0d0887\"], [0.1111111111111111, \"#46039f\"], [0.2222222222222222, \"#7201a8\"], [0.3333333333333333, \"#9c179e\"], [0.4444444444444444, \"#bd3786\"], [0.5555555555555556, \"#d8576b\"], [0.6666666666666666, \"#ed7953\"], [0.7777777777777778, \"#fb9f3a\"], [0.8888888888888888, \"#fdca26\"], [1.0, \"#f0f921\"]], \"type\": \"surface\"}], \"table\": [{\"cells\": {\"fill\": {\"color\": \"#EBF0F8\"}, \"line\": {\"color\": \"white\"}}, \"header\": {\"fill\": {\"color\": \"#C8D4E3\"}, \"line\": {\"color\": \"white\"}}, \"type\": \"table\"}]}, \"layout\": {\"annotationdefaults\": {\"arrowcolor\": \"#2a3f5f\", \"arrowhead\": 0, \"arrowwidth\": 1}, \"coloraxis\": {\"colorbar\": {\"outlinewidth\": 0, \"ticks\": \"\"}}, \"colorscale\": {\"diverging\": [[0, \"#8e0152\"], [0.1, \"#c51b7d\"], [0.2, \"#de77ae\"], [0.3, \"#f1b6da\"], [0.4, \"#fde0ef\"], [0.5, \"#f7f7f7\"], [0.6, \"#e6f5d0\"], [0.7, \"#b8e186\"], [0.8, \"#7fbc41\"], [0.9, \"#4d9221\"], [1, \"#276419\"]], \"sequential\": [[0.0, \"#0d0887\"], [0.1111111111111111, \"#46039f\"], [0.2222222222222222, \"#7201a8\"], [0.3333333333333333, \"#9c179e\"], [0.4444444444444444, \"#bd3786\"], [0.5555555555555556, \"#d8576b\"], [0.6666666666666666, \"#ed7953\"], [0.7777777777777778, \"#fb9f3a\"], [0.8888888888888888, \"#fdca26\"], [1.0, \"#f0f921\"]], \"sequentialminus\": [[0.0, \"#0d0887\"], [0.1111111111111111, \"#46039f\"], [0.2222222222222222, \"#7201a8\"], [0.3333333333333333, \"#9c179e\"], [0.4444444444444444, \"#bd3786\"], [0.5555555555555556, \"#d8576b\"], [0.6666666666666666, \"#ed7953\"], [0.7777777777777778, \"#fb9f3a\"], [0.8888888888888888, \"#fdca26\"], [1.0, \"#f0f921\"]]}, \"colorway\": [\"#636efa\", \"#EF553B\", \"#00cc96\", \"#ab63fa\", \"#FFA15A\", \"#19d3f3\", \"#FF6692\", \"#B6E880\", \"#FF97FF\", \"#FECB52\"], \"font\": {\"color\": \"#2a3f5f\"}, \"geo\": {\"bgcolor\": \"white\", \"lakecolor\": \"white\", \"landcolor\": \"#E5ECF6\", \"showlakes\": true, \"showland\": true, \"subunitcolor\": \"white\"}, \"hoverlabel\": {\"align\": \"left\"}, \"hovermode\": \"closest\", \"mapbox\": {\"style\": \"light\"}, \"paper_bgcolor\": \"white\", \"plot_bgcolor\": \"#E5ECF6\", \"polar\": {\"angularaxis\": {\"gridcolor\": \"white\", \"linecolor\": \"white\", \"ticks\": \"\"}, \"bgcolor\": \"#E5ECF6\", \"radialaxis\": {\"gridcolor\": \"white\", \"linecolor\": \"white\", \"ticks\": \"\"}}, \"scene\": {\"xaxis\": {\"backgroundcolor\": \"#E5ECF6\", \"gridcolor\": \"white\", \"gridwidth\": 2, \"linecolor\": \"white\", \"showbackground\": true, \"ticks\": \"\", \"zerolinecolor\": \"white\"}, \"yaxis\": {\"backgroundcolor\": \"#E5ECF6\", \"gridcolor\": \"white\", \"gridwidth\": 2, \"linecolor\": \"white\", \"showbackground\": true, \"ticks\": \"\", \"zerolinecolor\": \"white\"}, \"zaxis\": {\"backgroundcolor\": \"#E5ECF6\", \"gridcolor\": \"white\", \"gridwidth\": 2, \"linecolor\": \"white\", \"showbackground\": true, \"ticks\": \"\", \"zerolinecolor\": \"white\"}}, \"shapedefaults\": {\"line\": {\"color\": \"#2a3f5f\"}}, \"ternary\": {\"aaxis\": {\"gridcolor\": \"white\", \"linecolor\": \"white\", \"ticks\": \"\"}, \"baxis\": {\"gridcolor\": \"white\", \"linecolor\": \"white\", \"ticks\": \"\"}, \"bgcolor\": \"#E5ECF6\", \"caxis\": {\"gridcolor\": \"white\", \"linecolor\": \"white\", \"ticks\": \"\"}}, \"title\": {\"x\": 0.05}, \"xaxis\": {\"automargin\": true, \"gridcolor\": \"white\", \"linecolor\": \"white\", \"ticks\": \"\", \"title\": {\"standoff\": 15}, \"zerolinecolor\": \"white\", \"zerolinewidth\": 2}, \"yaxis\": {\"automargin\": true, \"gridcolor\": \"white\", \"linecolor\": \"white\", \"ticks\": \"\", \"title\": {\"standoff\": 15}, \"zerolinecolor\": \"white\", \"zerolinewidth\": 2}}}, \"title\": {\"text\": \"Feature distributions for the clusters\"}, \"xaxis\": {\"title\": {\"text\": \"Feature value\"}}},\n",
              "                        {\"responsive\": true}\n",
              "                    ).then(function(){\n",
              "                            \n",
              "var gd = document.getElementById('f3bcb7c8-1138-427d-8875-4468f5619565');\n",
              "var x = new MutationObserver(function (mutations, observer) {{\n",
              "        var display = window.getComputedStyle(gd).display;\n",
              "        if (!display || display === 'none') {{\n",
              "            console.log([gd, 'removed!']);\n",
              "            Plotly.purge(gd);\n",
              "            observer.disconnect();\n",
              "        }}\n",
              "}});\n",
              "\n",
              "// Listen for the removal of the full notebook cells\n",
              "var notebookContainer = gd.closest('#notebook-container');\n",
              "if (notebookContainer) {{\n",
              "    x.observe(notebookContainer, {childList: true});\n",
              "}}\n",
              "\n",
              "// Listen for the clearing of the current output cell\n",
              "var outputEl = gd.closest('.output');\n",
              "if (outputEl) {{\n",
              "    x.observe(outputEl, {childList: true});\n",
              "}}\n",
              "\n",
              "                        })\n",
              "                };\n",
              "                \n",
              "            </script>\n",
              "        </div>\n",
              "</body>\n",
              "</html>"
            ]
          },
          "metadata": {
            "tags": []
          }
        }
      ]
    }
  ]
}