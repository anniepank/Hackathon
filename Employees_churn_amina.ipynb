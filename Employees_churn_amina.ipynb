{
 "nbformat": 4,
 "nbformat_minor": 0,
 "metadata": {
  "colab": {
   "name": "Employees churn.ipynb",
   "provenance": []
  },
  "kernelspec": {
   "name": "python3",
   "display_name": "Python 3"
  },
  "language_info": {
   "name": "python"
  },
  "pycharm": {
   "stem_cell": {
    "cell_type": "raw",
    "source": [],
    "metadata": {
     "collapsed": false
    }
   }
  }
 },
 "cells": [
  {
   "cell_type": "code",
   "metadata": {
    "id": "zq-8-C8eed5R",
    "pycharm": {
     "is_executing": false
    }
   },
   "source": [
    "import pandas as pd\n",
    "# https://docs.google.com/spreadsheets/d/1OdjccfGlv3lsuiWgIAHbE8id91FpVaU2EsaZo5kknaA/edit?usp=sharing\n",
    "import numpy as np"
   ],
   "execution_count": 65,
   "outputs": []
  },
  {
   "cell_type": "code",
   "metadata": {
    "id": "amQW7dmnkS_d",
    "pycharm": {
     "is_executing": false
    }
   },
   "source": [
    "\n",
    "from io import BytesIO\n",
    "import requests\n",
    "spreadsheet_id = '1OdjccfGlv3lsuiWgIAHbE8id91FpVaU2EsaZo5kknaA'\n",
    "file_name = 'https://docs.google.com/spreadsheets/d/{}/export?format=csv'.format(spreadsheet_id)\n",
    "r = requests.get(file_name)\n",
    "train = pd.read_csv(BytesIO(r.content))\n"
   ],
   "execution_count": 66,
   "outputs": []
  },
  {
   "cell_type": "code",
   "metadata": {
    "colab": {
     "base_uri": "https://localhost:8080/"
    },
    "id": "eQ_ClVDDlgkf",
    "outputId": "28032429-acd4-4c12-f8a7-08820396d85e",
    "pycharm": {
     "is_executing": false
    }
   },
   "source": [
    "train.info()"
   ],
   "execution_count": 67,
   "outputs": [
    {
     "name": "stdout",
     "text": [
      "<class 'pandas.core.frame.DataFrame'>\nRangeIndex: 19104 entries, 0 to 19103\nData columns (total 13 columns):\n #   Column                Non-Null Count  Dtype \n---  ------                --------------  ----- \n 0   MMM-YY                19104 non-null  object\n 1   Emp_ID                19104 non-null  int64 \n 2   Age                   19104 non-null  int64 \n 3   Gender                19104 non-null  object\n 4   City                  19104 non-null  object\n 5   Education_Level       19104 non-null  object\n 6   Salary                19104 non-null  int64 \n 7   Dateofjoining         19104 non-null  object\n 8   LastWorkingDate       1616 non-null   object\n 9   Joining Designation   19104 non-null  int64 \n 10  Designation           19104 non-null  int64 \n 11  Total Business Value  19104 non-null  int64 \n 12  Quarterly Rating      19104 non-null  int64 \ndtypes: int64(7), object(6)\nmemory usage: 1.9+ MB\n"
     ],
     "output_type": "stream"
    }
   ]
  },
  {
   "cell_type": "code",
   "metadata": {
    "id": "QTNumWUBlxQy",
    "pycharm": {
     "is_executing": false
    }
   },
   "source": [
    "def get_info(df):\n",
    "\n",
    "    print(\"Head:\")\n",
    "    display(df.head())\n",
    "    print()\n",
    "    \n",
    "    print(\"Info:\")\n",
    "    display(df.info())\n",
    "    print()\n",
    "    \n",
    "    print(\"Description of quantitative parameters:\")\n",
    "    display(df.describe())\n",
    "    print()\n",
    "    \n",
    "    print(\"Description of categorical parameters:\")\n",
    "    display(df.describe(include='object'))\n",
    "    print()\n",
    "    \n",
    "    print(\"Columns with NaN values:\")\n",
    "    display(df.isna().sum())\n",
    "    print()\n",
    "    \n",
    "    print(\"Shape:\")\n",
    "    display(df.shape)\n",
    "    print()\n",
    "    \n",
    "    print(\"Number of duplicated rows:\")\n",
    "    display(df.duplicated().sum())  "
   ],
   "execution_count": 68,
   "outputs": []
  },
  {
   "cell_type": "code",
   "metadata": {
    "colab": {
     "base_uri": "https://localhost:8080/",
     "height": 1000
    },
    "id": "c7M2iRSHnBke",
    "outputId": "aa1776d2-6a6c-492f-a47e-382df41fbed3",
    "pycharm": {
     "is_executing": false
    }
   },
   "source": [
    "get_info(train)"
   ],
   "execution_count": 69,
   "outputs": [
    {
     "name": "stdout",
     "text": [
      "Head:\n",
      "\nInfo:\n<class 'pandas.core.frame.DataFrame'>\nRangeIndex: 19104 entries, 0 to 19103\nData columns (total 13 columns):\n #   Column                Non-Null Count  Dtype \n---  ------                --------------  ----- \n 0   MMM-YY                19104 non-null  object\n 1   Emp_ID                19104 non-null  int64 \n 2   Age                   19104 non-null  int64 \n 3   Gender                19104 non-null  object\n 4   City                  19104 non-null  object\n 5   Education_Level       19104 non-null  object\n 6   Salary                19104 non-null  int64 \n 7   Dateofjoining         19104 non-null  object\n 8   LastWorkingDate       1616 non-null   object\n 9   Joining Designation   19104 non-null  int64 \n 10  Designation           19104 non-null  int64 \n 11  Total Business Value  19104 non-null  int64 \n 12  Quarterly Rating      19104 non-null  int64 \ndtypes: int64(7), object(6)\nmemory usage: 1.9+ MB\n",
      "\nDescription of quantitative parameters:\n",
      "\nDescription of categorical parameters:\n",
      "\nColumns with NaN values:\n",
      "\nShape:\n",
      "\n",
      "Number of duplicated rows:\n"
     ],
     "output_type": "stream"
    },
    {
     "data": {
      "text/plain": "       MMM-YY  Emp_ID  Age Gender City Education_Level  Salary Dateofjoining  \\\n0  2016-01-01       1   28   Male  C23          Master   57387    2015-12-24   \n1  2016-02-01       1   28   Male  C23          Master   57387    2015-12-24   \n2  2016-03-01       1   28   Male  C23          Master   57387    2015-12-24   \n3  2017-11-01       2   31   Male   C7          Master   67016    2017-11-06   \n4  2017-12-01       2   31   Male   C7          Master   67016    2017-11-06   \n\n  LastWorkingDate  Joining Designation  Designation  Total Business Value  \\\n0             NaN                    1            1               2381060   \n1             NaN                    1            1               -665480   \n2      2016-03-11                    1            1                     0   \n3             NaN                    2            2                     0   \n4             NaN                    2            2                     0   \n\n   Quarterly Rating  \n0                 2  \n1                 2  \n2                 2  \n3                 1  \n4                 1  ",
      "text/html": "<div>\n<style scoped>\n    .dataframe tbody tr th:only-of-type {\n        vertical-align: middle;\n    }\n\n    .dataframe tbody tr th {\n        vertical-align: top;\n    }\n\n    .dataframe thead th {\n        text-align: right;\n    }\n</style>\n<table border=\"1\" class=\"dataframe\">\n  <thead>\n    <tr style=\"text-align: right;\">\n      <th></th>\n      <th>MMM-YY</th>\n      <th>Emp_ID</th>\n      <th>Age</th>\n      <th>Gender</th>\n      <th>City</th>\n      <th>Education_Level</th>\n      <th>Salary</th>\n      <th>Dateofjoining</th>\n      <th>LastWorkingDate</th>\n      <th>Joining Designation</th>\n      <th>Designation</th>\n      <th>Total Business Value</th>\n      <th>Quarterly Rating</th>\n    </tr>\n  </thead>\n  <tbody>\n    <tr>\n      <th>0</th>\n      <td>2016-01-01</td>\n      <td>1</td>\n      <td>28</td>\n      <td>Male</td>\n      <td>C23</td>\n      <td>Master</td>\n      <td>57387</td>\n      <td>2015-12-24</td>\n      <td>NaN</td>\n      <td>1</td>\n      <td>1</td>\n      <td>2381060</td>\n      <td>2</td>\n    </tr>\n    <tr>\n      <th>1</th>\n      <td>2016-02-01</td>\n      <td>1</td>\n      <td>28</td>\n      <td>Male</td>\n      <td>C23</td>\n      <td>Master</td>\n      <td>57387</td>\n      <td>2015-12-24</td>\n      <td>NaN</td>\n      <td>1</td>\n      <td>1</td>\n      <td>-665480</td>\n      <td>2</td>\n    </tr>\n    <tr>\n      <th>2</th>\n      <td>2016-03-01</td>\n      <td>1</td>\n      <td>28</td>\n      <td>Male</td>\n      <td>C23</td>\n      <td>Master</td>\n      <td>57387</td>\n      <td>2015-12-24</td>\n      <td>2016-03-11</td>\n      <td>1</td>\n      <td>1</td>\n      <td>0</td>\n      <td>2</td>\n    </tr>\n    <tr>\n      <th>3</th>\n      <td>2017-11-01</td>\n      <td>2</td>\n      <td>31</td>\n      <td>Male</td>\n      <td>C7</td>\n      <td>Master</td>\n      <td>67016</td>\n      <td>2017-11-06</td>\n      <td>NaN</td>\n      <td>2</td>\n      <td>2</td>\n      <td>0</td>\n      <td>1</td>\n    </tr>\n    <tr>\n      <th>4</th>\n      <td>2017-12-01</td>\n      <td>2</td>\n      <td>31</td>\n      <td>Male</td>\n      <td>C7</td>\n      <td>Master</td>\n      <td>67016</td>\n      <td>2017-11-06</td>\n      <td>NaN</td>\n      <td>2</td>\n      <td>2</td>\n      <td>0</td>\n      <td>1</td>\n    </tr>\n  </tbody>\n</table>\n</div>"
     },
     "metadata": {},
     "output_type": "display_data"
    },
    {
     "data": {
      "text/plain": "None"
     },
     "metadata": {},
     "output_type": "display_data"
    },
    {
     "data": {
      "text/plain": "             Emp_ID           Age         Salary  Joining Designation  \\\ncount  19104.000000  19104.000000   19104.000000         19104.000000   \nmean    1415.591133     34.650283   65652.025126             1.690536   \nstd      810.705321      6.264471   30914.515344             0.836984   \nmin        1.000000     21.000000   10747.000000             1.000000   \n25%      710.000000     30.000000   42383.000000             1.000000   \n50%     1417.000000     34.000000   60087.000000             1.000000   \n75%     2137.000000     39.000000   83969.000000             2.000000   \nmax     2788.000000     58.000000  188418.000000             5.000000   \n\n        Designation  Total Business Value  Quarterly Rating  \ncount  19104.000000          1.910400e+04      19104.000000  \nmean       2.252670          5.716621e+05          2.008899  \nstd        1.026512          1.128312e+06          1.009832  \nmin        1.000000         -6.000000e+06          1.000000  \n25%        1.000000          0.000000e+00          1.000000  \n50%        2.000000          2.500000e+05          2.000000  \n75%        3.000000          6.997000e+05          3.000000  \nmax        5.000000          3.374772e+07          4.000000  ",
      "text/html": "<div>\n<style scoped>\n    .dataframe tbody tr th:only-of-type {\n        vertical-align: middle;\n    }\n\n    .dataframe tbody tr th {\n        vertical-align: top;\n    }\n\n    .dataframe thead th {\n        text-align: right;\n    }\n</style>\n<table border=\"1\" class=\"dataframe\">\n  <thead>\n    <tr style=\"text-align: right;\">\n      <th></th>\n      <th>Emp_ID</th>\n      <th>Age</th>\n      <th>Salary</th>\n      <th>Joining Designation</th>\n      <th>Designation</th>\n      <th>Total Business Value</th>\n      <th>Quarterly Rating</th>\n    </tr>\n  </thead>\n  <tbody>\n    <tr>\n      <th>count</th>\n      <td>19104.000000</td>\n      <td>19104.000000</td>\n      <td>19104.000000</td>\n      <td>19104.000000</td>\n      <td>19104.000000</td>\n      <td>1.910400e+04</td>\n      <td>19104.000000</td>\n    </tr>\n    <tr>\n      <th>mean</th>\n      <td>1415.591133</td>\n      <td>34.650283</td>\n      <td>65652.025126</td>\n      <td>1.690536</td>\n      <td>2.252670</td>\n      <td>5.716621e+05</td>\n      <td>2.008899</td>\n    </tr>\n    <tr>\n      <th>std</th>\n      <td>810.705321</td>\n      <td>6.264471</td>\n      <td>30914.515344</td>\n      <td>0.836984</td>\n      <td>1.026512</td>\n      <td>1.128312e+06</td>\n      <td>1.009832</td>\n    </tr>\n    <tr>\n      <th>min</th>\n      <td>1.000000</td>\n      <td>21.000000</td>\n      <td>10747.000000</td>\n      <td>1.000000</td>\n      <td>1.000000</td>\n      <td>-6.000000e+06</td>\n      <td>1.000000</td>\n    </tr>\n    <tr>\n      <th>25%</th>\n      <td>710.000000</td>\n      <td>30.000000</td>\n      <td>42383.000000</td>\n      <td>1.000000</td>\n      <td>1.000000</td>\n      <td>0.000000e+00</td>\n      <td>1.000000</td>\n    </tr>\n    <tr>\n      <th>50%</th>\n      <td>1417.000000</td>\n      <td>34.000000</td>\n      <td>60087.000000</td>\n      <td>1.000000</td>\n      <td>2.000000</td>\n      <td>2.500000e+05</td>\n      <td>2.000000</td>\n    </tr>\n    <tr>\n      <th>75%</th>\n      <td>2137.000000</td>\n      <td>39.000000</td>\n      <td>83969.000000</td>\n      <td>2.000000</td>\n      <td>3.000000</td>\n      <td>6.997000e+05</td>\n      <td>3.000000</td>\n    </tr>\n    <tr>\n      <th>max</th>\n      <td>2788.000000</td>\n      <td>58.000000</td>\n      <td>188418.000000</td>\n      <td>5.000000</td>\n      <td>5.000000</td>\n      <td>3.374772e+07</td>\n      <td>4.000000</td>\n    </tr>\n  </tbody>\n</table>\n</div>"
     },
     "metadata": {},
     "output_type": "display_data"
    },
    {
     "data": {
      "text/plain": "            MMM-YY Gender   City Education_Level Dateofjoining LastWorkingDate\ncount        19104  19104  19104           19104         19104            1616\nunique          24      2     29               3           869             493\ntop     2016-01-01   Male    C20        Bachelor    2012-07-23      2017-07-29\nfreq          1022  11103   1008            6864           192              70",
      "text/html": "<div>\n<style scoped>\n    .dataframe tbody tr th:only-of-type {\n        vertical-align: middle;\n    }\n\n    .dataframe tbody tr th {\n        vertical-align: top;\n    }\n\n    .dataframe thead th {\n        text-align: right;\n    }\n</style>\n<table border=\"1\" class=\"dataframe\">\n  <thead>\n    <tr style=\"text-align: right;\">\n      <th></th>\n      <th>MMM-YY</th>\n      <th>Gender</th>\n      <th>City</th>\n      <th>Education_Level</th>\n      <th>Dateofjoining</th>\n      <th>LastWorkingDate</th>\n    </tr>\n  </thead>\n  <tbody>\n    <tr>\n      <th>count</th>\n      <td>19104</td>\n      <td>19104</td>\n      <td>19104</td>\n      <td>19104</td>\n      <td>19104</td>\n      <td>1616</td>\n    </tr>\n    <tr>\n      <th>unique</th>\n      <td>24</td>\n      <td>2</td>\n      <td>29</td>\n      <td>3</td>\n      <td>869</td>\n      <td>493</td>\n    </tr>\n    <tr>\n      <th>top</th>\n      <td>2016-01-01</td>\n      <td>Male</td>\n      <td>C20</td>\n      <td>Bachelor</td>\n      <td>2012-07-23</td>\n      <td>2017-07-29</td>\n    </tr>\n    <tr>\n      <th>freq</th>\n      <td>1022</td>\n      <td>11103</td>\n      <td>1008</td>\n      <td>6864</td>\n      <td>192</td>\n      <td>70</td>\n    </tr>\n  </tbody>\n</table>\n</div>"
     },
     "metadata": {},
     "output_type": "display_data"
    },
    {
     "data": {
      "text/plain": "MMM-YY                      0\nEmp_ID                      0\nAge                         0\nGender                      0\nCity                        0\nEducation_Level             0\nSalary                      0\nDateofjoining               0\nLastWorkingDate         17488\nJoining Designation         0\nDesignation                 0\nTotal Business Value        0\nQuarterly Rating            0\ndtype: int64"
     },
     "metadata": {},
     "output_type": "display_data"
    },
    {
     "data": {
      "text/plain": "(19104, 13)"
     },
     "metadata": {},
     "output_type": "display_data"
    },
    {
     "data": {
      "text/plain": "0"
     },
     "metadata": {},
     "output_type": "display_data"
    }
   ]
  },
  {
   "cell_type": "markdown",
   "source": [
    "# Processing Dates:\n",
    "We have added LastMonthOnWork (datetime feature) and MonthsTillLast (int feature)"
   ],
   "metadata": {
    "collapsed": false
   }
  },
  {
   "cell_type": "code",
   "metadata": {
    "id": "FRAUNyrInGPR",
    "pycharm": {
     "is_executing": false
    }
   },
   "source": [
    "train['date'] = pd.to_datetime(train['MMM-YY'], format='%Y-%m-%d')\n",
    "train['LastWorkingDate'] = pd.to_datetime(train['LastWorkingDate'], format='%Y-%m-%d')\n",
    "\n",
    "print(train.date.min(), train.date.max())\n",
    "# max_date = pd.datetime.today()  # to adapt easier for other datetime windows\n",
    "max_date = train.date.max()\n",
    "\n",
    "# we are adding 3 days before getting month so that dates in the end of the month were rounded to the next month.\n",
    "# this is done because for persons whose LastWorkingDate is in the last 1-3 days there exists a data entry on the next month\n",
    "train['LastMonthOnWork'] = (train['LastWorkingDate'].fillna(max_date) + pd.Timedelta(days=3)).dt.to_period('M').dt.to_timestamp()\n",
    "train['MonthsTillLast'] = ((train.LastMonthOnWork - train.date)/np.timedelta64(1, 'M')).astype(int)"
   ],
   "execution_count": 79,
   "outputs": [
    {
     "name": "stdout",
     "text": [
      "2016-01-01 00:00:00 2017-12-01 00:00:00\n"
     ],
     "output_type": "stream"
    }
   ]
  },
  {
   "cell_type": "code",
   "execution_count": 71,
   "outputs": [
    {
     "name": "stdout",
     "text": [
      "Head:\n",
      "\nInfo:\n<class 'pandas.core.frame.DataFrame'>\nRangeIndex: 19104 entries, 0 to 19103\nData columns (total 16 columns):\n #   Column                Non-Null Count  Dtype         \n---  ------                --------------  -----         \n 0   MMM-YY                19104 non-null  object        \n 1   Emp_ID                19104 non-null  int64         \n 2   Age                   19104 non-null  int64         \n 3   Gender                19104 non-null  object        \n 4   City                  19104 non-null  object        \n 5   Education_Level       19104 non-null  object        \n 6   Salary                19104 non-null  int64         \n 7   Dateofjoining         19104 non-null  object        \n 8   LastWorkingDate       1616 non-null   datetime64[ns]\n 9   Joining Designation   19104 non-null  int64         \n 10  Designation           19104 non-null  int64         \n 11  Total Business Value  19104 non-null  int64         \n 12  Quarterly Rating      19104 non-null  int64         \n 13  date                  19104 non-null  datetime64[ns]\n 14  LastMonthOnWork       19104 non-null  datetime64[ns]\n 15  MonthsTillLast        19104 non-null  int64         \ndtypes: datetime64[ns](3), int64(8), object(5)\nmemory usage: 2.3+ MB\n",
      "\nDescription of quantitative parameters:\n",
      "\nDescription of categorical parameters:\n",
      "\nColumns with NaN values:\n",
      "\nShape:\n",
      "\nNumber of duplicated rows:\n"
     ],
     "output_type": "stream"
    },
    {
     "data": {
      "text/plain": "       MMM-YY  Emp_ID  Age Gender City Education_Level  Salary Dateofjoining  \\\n0  2016-01-01       1   28   Male  C23          Master   57387    2015-12-24   \n1  2016-02-01       1   28   Male  C23          Master   57387    2015-12-24   \n2  2016-03-01       1   28   Male  C23          Master   57387    2015-12-24   \n3  2017-11-01       2   31   Male   C7          Master   67016    2017-11-06   \n4  2017-12-01       2   31   Male   C7          Master   67016    2017-11-06   \n\n  LastWorkingDate  Joining Designation  Designation  Total Business Value  \\\n0             NaT                    1            1               2381060   \n1             NaT                    1            1               -665480   \n2      2016-03-11                    1            1                     0   \n3             NaT                    2            2                     0   \n4             NaT                    2            2                     0   \n\n   Quarterly Rating       date LastMonthOnWork  MonthsTillLast  \n0                 2 2016-01-01      2017-12-01              22  \n1                 2 2016-02-01      2017-12-01              21  \n2                 2 2016-03-01      2016-03-01               0  \n3                 1 2017-11-01      2017-12-01               0  \n4                 1 2017-12-01      2017-12-01               0  ",
      "text/html": "<div>\n<style scoped>\n    .dataframe tbody tr th:only-of-type {\n        vertical-align: middle;\n    }\n\n    .dataframe tbody tr th {\n        vertical-align: top;\n    }\n\n    .dataframe thead th {\n        text-align: right;\n    }\n</style>\n<table border=\"1\" class=\"dataframe\">\n  <thead>\n    <tr style=\"text-align: right;\">\n      <th></th>\n      <th>MMM-YY</th>\n      <th>Emp_ID</th>\n      <th>Age</th>\n      <th>Gender</th>\n      <th>City</th>\n      <th>Education_Level</th>\n      <th>Salary</th>\n      <th>Dateofjoining</th>\n      <th>LastWorkingDate</th>\n      <th>Joining Designation</th>\n      <th>Designation</th>\n      <th>Total Business Value</th>\n      <th>Quarterly Rating</th>\n      <th>date</th>\n      <th>LastMonthOnWork</th>\n      <th>MonthsTillLast</th>\n    </tr>\n  </thead>\n  <tbody>\n    <tr>\n      <th>0</th>\n      <td>2016-01-01</td>\n      <td>1</td>\n      <td>28</td>\n      <td>Male</td>\n      <td>C23</td>\n      <td>Master</td>\n      <td>57387</td>\n      <td>2015-12-24</td>\n      <td>NaT</td>\n      <td>1</td>\n      <td>1</td>\n      <td>2381060</td>\n      <td>2</td>\n      <td>2016-01-01</td>\n      <td>2017-12-01</td>\n      <td>22</td>\n    </tr>\n    <tr>\n      <th>1</th>\n      <td>2016-02-01</td>\n      <td>1</td>\n      <td>28</td>\n      <td>Male</td>\n      <td>C23</td>\n      <td>Master</td>\n      <td>57387</td>\n      <td>2015-12-24</td>\n      <td>NaT</td>\n      <td>1</td>\n      <td>1</td>\n      <td>-665480</td>\n      <td>2</td>\n      <td>2016-02-01</td>\n      <td>2017-12-01</td>\n      <td>21</td>\n    </tr>\n    <tr>\n      <th>2</th>\n      <td>2016-03-01</td>\n      <td>1</td>\n      <td>28</td>\n      <td>Male</td>\n      <td>C23</td>\n      <td>Master</td>\n      <td>57387</td>\n      <td>2015-12-24</td>\n      <td>2016-03-11</td>\n      <td>1</td>\n      <td>1</td>\n      <td>0</td>\n      <td>2</td>\n      <td>2016-03-01</td>\n      <td>2016-03-01</td>\n      <td>0</td>\n    </tr>\n    <tr>\n      <th>3</th>\n      <td>2017-11-01</td>\n      <td>2</td>\n      <td>31</td>\n      <td>Male</td>\n      <td>C7</td>\n      <td>Master</td>\n      <td>67016</td>\n      <td>2017-11-06</td>\n      <td>NaT</td>\n      <td>2</td>\n      <td>2</td>\n      <td>0</td>\n      <td>1</td>\n      <td>2017-11-01</td>\n      <td>2017-12-01</td>\n      <td>0</td>\n    </tr>\n    <tr>\n      <th>4</th>\n      <td>2017-12-01</td>\n      <td>2</td>\n      <td>31</td>\n      <td>Male</td>\n      <td>C7</td>\n      <td>Master</td>\n      <td>67016</td>\n      <td>2017-11-06</td>\n      <td>NaT</td>\n      <td>2</td>\n      <td>2</td>\n      <td>0</td>\n      <td>1</td>\n      <td>2017-12-01</td>\n      <td>2017-12-01</td>\n      <td>0</td>\n    </tr>\n  </tbody>\n</table>\n</div>"
     },
     "metadata": {},
     "output_type": "display_data"
    },
    {
     "data": {
      "text/plain": "None"
     },
     "metadata": {},
     "output_type": "display_data"
    },
    {
     "data": {
      "text/plain": "             Emp_ID           Age         Salary  Joining Designation  \\\ncount  19104.000000  19104.000000   19104.000000         19104.000000   \nmean    1415.591133     34.650283   65652.025126             1.690536   \nstd      810.705321      6.264471   30914.515344             0.836984   \nmin        1.000000     21.000000   10747.000000             1.000000   \n25%      710.000000     30.000000   42383.000000             1.000000   \n50%     1417.000000     34.000000   60087.000000             1.000000   \n75%     2137.000000     39.000000   83969.000000             2.000000   \nmax     2788.000000     58.000000  188418.000000             5.000000   \n\n        Designation  Total Business Value  Quarterly Rating  MonthsTillLast  \ncount  19104.000000          1.910400e+04      19104.000000    19104.000000  \nmean       2.252670          5.716621e+05          2.008899       10.296273  \nstd        1.026512          1.128312e+06          1.009832        7.444162  \nmin        1.000000         -6.000000e+06          1.000000        0.000000  \n25%        1.000000          0.000000e+00          1.000000        4.000000  \n50%        2.000000          2.500000e+05          2.000000       10.000000  \n75%        3.000000          6.997000e+05          3.000000       17.000000  \nmax        5.000000          3.374772e+07          4.000000       22.000000  ",
      "text/html": "<div>\n<style scoped>\n    .dataframe tbody tr th:only-of-type {\n        vertical-align: middle;\n    }\n\n    .dataframe tbody tr th {\n        vertical-align: top;\n    }\n\n    .dataframe thead th {\n        text-align: right;\n    }\n</style>\n<table border=\"1\" class=\"dataframe\">\n  <thead>\n    <tr style=\"text-align: right;\">\n      <th></th>\n      <th>Emp_ID</th>\n      <th>Age</th>\n      <th>Salary</th>\n      <th>Joining Designation</th>\n      <th>Designation</th>\n      <th>Total Business Value</th>\n      <th>Quarterly Rating</th>\n      <th>MonthsTillLast</th>\n    </tr>\n  </thead>\n  <tbody>\n    <tr>\n      <th>count</th>\n      <td>19104.000000</td>\n      <td>19104.000000</td>\n      <td>19104.000000</td>\n      <td>19104.000000</td>\n      <td>19104.000000</td>\n      <td>1.910400e+04</td>\n      <td>19104.000000</td>\n      <td>19104.000000</td>\n    </tr>\n    <tr>\n      <th>mean</th>\n      <td>1415.591133</td>\n      <td>34.650283</td>\n      <td>65652.025126</td>\n      <td>1.690536</td>\n      <td>2.252670</td>\n      <td>5.716621e+05</td>\n      <td>2.008899</td>\n      <td>10.296273</td>\n    </tr>\n    <tr>\n      <th>std</th>\n      <td>810.705321</td>\n      <td>6.264471</td>\n      <td>30914.515344</td>\n      <td>0.836984</td>\n      <td>1.026512</td>\n      <td>1.128312e+06</td>\n      <td>1.009832</td>\n      <td>7.444162</td>\n    </tr>\n    <tr>\n      <th>min</th>\n      <td>1.000000</td>\n      <td>21.000000</td>\n      <td>10747.000000</td>\n      <td>1.000000</td>\n      <td>1.000000</td>\n      <td>-6.000000e+06</td>\n      <td>1.000000</td>\n      <td>0.000000</td>\n    </tr>\n    <tr>\n      <th>25%</th>\n      <td>710.000000</td>\n      <td>30.000000</td>\n      <td>42383.000000</td>\n      <td>1.000000</td>\n      <td>1.000000</td>\n      <td>0.000000e+00</td>\n      <td>1.000000</td>\n      <td>4.000000</td>\n    </tr>\n    <tr>\n      <th>50%</th>\n      <td>1417.000000</td>\n      <td>34.000000</td>\n      <td>60087.000000</td>\n      <td>1.000000</td>\n      <td>2.000000</td>\n      <td>2.500000e+05</td>\n      <td>2.000000</td>\n      <td>10.000000</td>\n    </tr>\n    <tr>\n      <th>75%</th>\n      <td>2137.000000</td>\n      <td>39.000000</td>\n      <td>83969.000000</td>\n      <td>2.000000</td>\n      <td>3.000000</td>\n      <td>6.997000e+05</td>\n      <td>3.000000</td>\n      <td>17.000000</td>\n    </tr>\n    <tr>\n      <th>max</th>\n      <td>2788.000000</td>\n      <td>58.000000</td>\n      <td>188418.000000</td>\n      <td>5.000000</td>\n      <td>5.000000</td>\n      <td>3.374772e+07</td>\n      <td>4.000000</td>\n      <td>22.000000</td>\n    </tr>\n  </tbody>\n</table>\n</div>"
     },
     "metadata": {},
     "output_type": "display_data"
    },
    {
     "data": {
      "text/plain": "            MMM-YY Gender   City Education_Level Dateofjoining\ncount        19104  19104  19104           19104         19104\nunique          24      2     29               3           869\ntop     2016-01-01   Male    C20        Bachelor    2012-07-23\nfreq          1022  11103   1008            6864           192",
      "text/html": "<div>\n<style scoped>\n    .dataframe tbody tr th:only-of-type {\n        vertical-align: middle;\n    }\n\n    .dataframe tbody tr th {\n        vertical-align: top;\n    }\n\n    .dataframe thead th {\n        text-align: right;\n    }\n</style>\n<table border=\"1\" class=\"dataframe\">\n  <thead>\n    <tr style=\"text-align: right;\">\n      <th></th>\n      <th>MMM-YY</th>\n      <th>Gender</th>\n      <th>City</th>\n      <th>Education_Level</th>\n      <th>Dateofjoining</th>\n    </tr>\n  </thead>\n  <tbody>\n    <tr>\n      <th>count</th>\n      <td>19104</td>\n      <td>19104</td>\n      <td>19104</td>\n      <td>19104</td>\n      <td>19104</td>\n    </tr>\n    <tr>\n      <th>unique</th>\n      <td>24</td>\n      <td>2</td>\n      <td>29</td>\n      <td>3</td>\n      <td>869</td>\n    </tr>\n    <tr>\n      <th>top</th>\n      <td>2016-01-01</td>\n      <td>Male</td>\n      <td>C20</td>\n      <td>Bachelor</td>\n      <td>2012-07-23</td>\n    </tr>\n    <tr>\n      <th>freq</th>\n      <td>1022</td>\n      <td>11103</td>\n      <td>1008</td>\n      <td>6864</td>\n      <td>192</td>\n    </tr>\n  </tbody>\n</table>\n</div>"
     },
     "metadata": {},
     "output_type": "display_data"
    },
    {
     "data": {
      "text/plain": "MMM-YY                      0\nEmp_ID                      0\nAge                         0\nGender                      0\nCity                        0\nEducation_Level             0\nSalary                      0\nDateofjoining               0\nLastWorkingDate         17488\nJoining Designation         0\nDesignation                 0\nTotal Business Value        0\nQuarterly Rating            0\ndate                        0\nLastMonthOnWork             0\nMonthsTillLast              0\ndtype: int64"
     },
     "metadata": {},
     "output_type": "display_data"
    },
    {
     "data": {
      "text/plain": "(19104, 16)"
     },
     "metadata": {},
     "output_type": "display_data"
    },
    {
     "data": {
      "text/plain": "0"
     },
     "metadata": {},
     "output_type": "display_data"
    }
   ],
   "source": [
    "get_info(train)"
   ],
   "metadata": {
    "collapsed": false,
    "pycharm": {
     "name": "#%%\n",
     "is_executing": false
    }
   }
  },
  {
   "cell_type": "markdown",
   "source": [
    "# Checking for strange behaviour in dates:"
   ],
   "metadata": {
    "collapsed": false
   }
  },
  {
   "cell_type": "code",
   "execution_count": 72,
   "outputs": [
    {
     "data": {
      "text/plain": "Empty DataFrame\nColumns: [MMM-YY, Emp_ID, Age, Gender, City, Education_Level, Salary, Dateofjoining, LastWorkingDate, Joining Designation, Designation, Total Business Value, Quarterly Rating, date, LastMonthOnWork, MonthsTillLast]\nIndex: []",
      "text/html": "<div>\n<style scoped>\n    .dataframe tbody tr th:only-of-type {\n        vertical-align: middle;\n    }\n\n    .dataframe tbody tr th {\n        vertical-align: top;\n    }\n\n    .dataframe thead th {\n        text-align: right;\n    }\n</style>\n<table border=\"1\" class=\"dataframe\">\n  <thead>\n    <tr style=\"text-align: right;\">\n      <th></th>\n      <th>MMM-YY</th>\n      <th>Emp_ID</th>\n      <th>Age</th>\n      <th>Gender</th>\n      <th>City</th>\n      <th>Education_Level</th>\n      <th>Salary</th>\n      <th>Dateofjoining</th>\n      <th>LastWorkingDate</th>\n      <th>Joining Designation</th>\n      <th>Designation</th>\n      <th>Total Business Value</th>\n      <th>Quarterly Rating</th>\n      <th>date</th>\n      <th>LastMonthOnWork</th>\n      <th>MonthsTillLast</th>\n    </tr>\n  </thead>\n  <tbody>\n  </tbody>\n</table>\n</div>"
     },
     "metadata": {},
     "output_type": "execute_result",
     "execution_count": 72
    }
   ],
   "source": [
    "train[train['MonthsTillLast'] == -1].head(20)"
   ],
   "metadata": {
    "collapsed": false,
    "pycharm": {
     "name": "#%%\n",
     "is_executing": false
    }
   }
  },
  {
   "cell_type": "code",
   "execution_count": 73,
   "outputs": [
    {
     "name": "stdout",
     "text": [
      "0\n"
     ],
     "output_type": "stream"
    }
   ],
   "source": [
    "print(len(train[train['MonthsTillLast'] == -1]))\n"
   ],
   "metadata": {
    "collapsed": false,
    "pycharm": {
     "name": "#%%\n",
     "is_executing": false
    }
   }
  },
  {
   "cell_type": "code",
   "execution_count": 74,
   "outputs": [
    {
     "data": {
      "text/plain": "          MMM-YY  Emp_ID  Age  Gender City Education_Level  Salary  \\\n67    2016-05-01      18   27  Female  C17        Bachelor   31631   \n169   2016-12-01      30   31    Male   C6        Bachelor   69457   \n196   2017-08-01      36   41  Female  C18        Bachelor   32865   \n253   2016-03-01      46   36  Female  C25          Master   42171   \n579   2017-08-01      82   37  Female  C24        Bachelor   89013   \n645   2017-08-01      89   28    Male   C2        Bachelor   58977   \n690   2017-08-01      99   30    Male  C23         College   38068   \n870   2017-04-01     120   27    Male  C14          Master  114258   \n911   2017-08-01     130   38    Male  C28        Bachelor   39990   \n977   2017-11-01     141   35    Male  C22        Bachelor   65901   \n982   2016-03-01     143   40    Male  C12          Master   24150   \n1055  2016-03-01     156   41  Female   C9        Bachelor   41046   \n1076  2016-04-01     161   38    Male  C25          Master   35793   \n1078  2017-01-01     162   36    Male   C2        Bachelor  100064   \n1134  2016-12-01     169   34    Male  C14          Master   38409   \n1153  2016-07-01     172   41  Female   C6          Master  101395   \n1191  2017-08-01     176   34    Male  C15         College   21276   \n1323  2017-12-01     195   27    Male  C18         College   19419   \n1397  2016-04-01     204   31  Female  C14         College   68151   \n1421  2017-08-01     211   34  Female   C6          Master   81730   \n\n     Dateofjoining LastWorkingDate  Joining Designation  Designation  \\\n67      2016-01-09      2016-04-30                    1            1   \n169     2016-10-03      2016-11-29                    3            3   \n196     2016-07-01      2017-07-29                    2            2   \n253     2015-10-28      2016-02-27                    1            1   \n579     2017-04-11      2017-07-29                    3            3   \n645     2016-05-30      2017-07-29                    2            2   \n690     2017-03-24      2017-07-29                    2            2   \n870     2016-09-28      2017-03-29                    3            3   \n911     2017-01-17      2017-07-29                    2            2   \n977     2017-07-10      2017-10-31                    2            2   \n982     2015-05-01      2016-02-27                    1            1   \n1055    2015-07-01      2016-02-29                    1            1   \n1076    2015-06-19      2016-03-29                    1            1   \n1078    2016-10-31      2016-12-30                    3            3   \n1134    2015-05-01      2016-11-29                    2            2   \n1153    2014-11-07      2016-06-29                    2            3   \n1191    2017-05-04      2017-07-29                    1            1   \n1323    2017-09-28      2017-11-28                    1            1   \n1397    2014-12-05      2016-03-29                    1            2   \n1421    2017-06-05      2017-07-29                    3            3   \n\n      Total Business Value  Quarterly Rating       date LastMonthOnWork  \\\n67                       0                 1 2016-05-01      2016-05-01   \n169                      0                 1 2016-12-01      2016-12-01   \n196                -325140                 2 2017-08-01      2017-08-01   \n253                      0                 1 2016-03-01      2016-03-01   \n579                      0                 1 2017-08-01      2017-08-01   \n645                      0                 1 2017-08-01      2017-08-01   \n690                      0                 1 2017-08-01      2017-08-01   \n870                      0                 1 2017-04-01      2017-04-01   \n911                      0                 1 2017-08-01      2017-08-01   \n977                      0                 1 2017-11-01      2017-11-01   \n982                  97020                 1 2016-03-01      2016-03-01   \n1055                     0                 1 2016-03-01      2016-03-01   \n1076                     0                 1 2016-04-01      2016-04-01   \n1078                     0                 1 2017-01-01      2017-01-01   \n1134               -582010                 1 2016-12-01      2016-12-01   \n1153                     0                 1 2016-07-01      2016-07-01   \n1191                     0                 1 2017-08-01      2017-08-01   \n1323                     0                 1 2017-12-01      2017-12-01   \n1397                     0                 1 2016-04-01      2016-04-01   \n1421                     0                 1 2017-08-01      2017-08-01   \n\n      MonthsTillLast  \n67                 0  \n169                0  \n196                0  \n253                0  \n579                0  \n645                0  \n690                0  \n870                0  \n911                0  \n977                0  \n982                0  \n1055               0  \n1076               0  \n1078               0  \n1134               0  \n1153               0  \n1191               0  \n1323               0  \n1397               0  \n1421               0  ",
      "text/html": "<div>\n<style scoped>\n    .dataframe tbody tr th:only-of-type {\n        vertical-align: middle;\n    }\n\n    .dataframe tbody tr th {\n        vertical-align: top;\n    }\n\n    .dataframe thead th {\n        text-align: right;\n    }\n</style>\n<table border=\"1\" class=\"dataframe\">\n  <thead>\n    <tr style=\"text-align: right;\">\n      <th></th>\n      <th>MMM-YY</th>\n      <th>Emp_ID</th>\n      <th>Age</th>\n      <th>Gender</th>\n      <th>City</th>\n      <th>Education_Level</th>\n      <th>Salary</th>\n      <th>Dateofjoining</th>\n      <th>LastWorkingDate</th>\n      <th>Joining Designation</th>\n      <th>Designation</th>\n      <th>Total Business Value</th>\n      <th>Quarterly Rating</th>\n      <th>date</th>\n      <th>LastMonthOnWork</th>\n      <th>MonthsTillLast</th>\n    </tr>\n  </thead>\n  <tbody>\n    <tr>\n      <th>67</th>\n      <td>2016-05-01</td>\n      <td>18</td>\n      <td>27</td>\n      <td>Female</td>\n      <td>C17</td>\n      <td>Bachelor</td>\n      <td>31631</td>\n      <td>2016-01-09</td>\n      <td>2016-04-30</td>\n      <td>1</td>\n      <td>1</td>\n      <td>0</td>\n      <td>1</td>\n      <td>2016-05-01</td>\n      <td>2016-05-01</td>\n      <td>0</td>\n    </tr>\n    <tr>\n      <th>169</th>\n      <td>2016-12-01</td>\n      <td>30</td>\n      <td>31</td>\n      <td>Male</td>\n      <td>C6</td>\n      <td>Bachelor</td>\n      <td>69457</td>\n      <td>2016-10-03</td>\n      <td>2016-11-29</td>\n      <td>3</td>\n      <td>3</td>\n      <td>0</td>\n      <td>1</td>\n      <td>2016-12-01</td>\n      <td>2016-12-01</td>\n      <td>0</td>\n    </tr>\n    <tr>\n      <th>196</th>\n      <td>2017-08-01</td>\n      <td>36</td>\n      <td>41</td>\n      <td>Female</td>\n      <td>C18</td>\n      <td>Bachelor</td>\n      <td>32865</td>\n      <td>2016-07-01</td>\n      <td>2017-07-29</td>\n      <td>2</td>\n      <td>2</td>\n      <td>-325140</td>\n      <td>2</td>\n      <td>2017-08-01</td>\n      <td>2017-08-01</td>\n      <td>0</td>\n    </tr>\n    <tr>\n      <th>253</th>\n      <td>2016-03-01</td>\n      <td>46</td>\n      <td>36</td>\n      <td>Female</td>\n      <td>C25</td>\n      <td>Master</td>\n      <td>42171</td>\n      <td>2015-10-28</td>\n      <td>2016-02-27</td>\n      <td>1</td>\n      <td>1</td>\n      <td>0</td>\n      <td>1</td>\n      <td>2016-03-01</td>\n      <td>2016-03-01</td>\n      <td>0</td>\n    </tr>\n    <tr>\n      <th>579</th>\n      <td>2017-08-01</td>\n      <td>82</td>\n      <td>37</td>\n      <td>Female</td>\n      <td>C24</td>\n      <td>Bachelor</td>\n      <td>89013</td>\n      <td>2017-04-11</td>\n      <td>2017-07-29</td>\n      <td>3</td>\n      <td>3</td>\n      <td>0</td>\n      <td>1</td>\n      <td>2017-08-01</td>\n      <td>2017-08-01</td>\n      <td>0</td>\n    </tr>\n    <tr>\n      <th>645</th>\n      <td>2017-08-01</td>\n      <td>89</td>\n      <td>28</td>\n      <td>Male</td>\n      <td>C2</td>\n      <td>Bachelor</td>\n      <td>58977</td>\n      <td>2016-05-30</td>\n      <td>2017-07-29</td>\n      <td>2</td>\n      <td>2</td>\n      <td>0</td>\n      <td>1</td>\n      <td>2017-08-01</td>\n      <td>2017-08-01</td>\n      <td>0</td>\n    </tr>\n    <tr>\n      <th>690</th>\n      <td>2017-08-01</td>\n      <td>99</td>\n      <td>30</td>\n      <td>Male</td>\n      <td>C23</td>\n      <td>College</td>\n      <td>38068</td>\n      <td>2017-03-24</td>\n      <td>2017-07-29</td>\n      <td>2</td>\n      <td>2</td>\n      <td>0</td>\n      <td>1</td>\n      <td>2017-08-01</td>\n      <td>2017-08-01</td>\n      <td>0</td>\n    </tr>\n    <tr>\n      <th>870</th>\n      <td>2017-04-01</td>\n      <td>120</td>\n      <td>27</td>\n      <td>Male</td>\n      <td>C14</td>\n      <td>Master</td>\n      <td>114258</td>\n      <td>2016-09-28</td>\n      <td>2017-03-29</td>\n      <td>3</td>\n      <td>3</td>\n      <td>0</td>\n      <td>1</td>\n      <td>2017-04-01</td>\n      <td>2017-04-01</td>\n      <td>0</td>\n    </tr>\n    <tr>\n      <th>911</th>\n      <td>2017-08-01</td>\n      <td>130</td>\n      <td>38</td>\n      <td>Male</td>\n      <td>C28</td>\n      <td>Bachelor</td>\n      <td>39990</td>\n      <td>2017-01-17</td>\n      <td>2017-07-29</td>\n      <td>2</td>\n      <td>2</td>\n      <td>0</td>\n      <td>1</td>\n      <td>2017-08-01</td>\n      <td>2017-08-01</td>\n      <td>0</td>\n    </tr>\n    <tr>\n      <th>977</th>\n      <td>2017-11-01</td>\n      <td>141</td>\n      <td>35</td>\n      <td>Male</td>\n      <td>C22</td>\n      <td>Bachelor</td>\n      <td>65901</td>\n      <td>2017-07-10</td>\n      <td>2017-10-31</td>\n      <td>2</td>\n      <td>2</td>\n      <td>0</td>\n      <td>1</td>\n      <td>2017-11-01</td>\n      <td>2017-11-01</td>\n      <td>0</td>\n    </tr>\n    <tr>\n      <th>982</th>\n      <td>2016-03-01</td>\n      <td>143</td>\n      <td>40</td>\n      <td>Male</td>\n      <td>C12</td>\n      <td>Master</td>\n      <td>24150</td>\n      <td>2015-05-01</td>\n      <td>2016-02-27</td>\n      <td>1</td>\n      <td>1</td>\n      <td>97020</td>\n      <td>1</td>\n      <td>2016-03-01</td>\n      <td>2016-03-01</td>\n      <td>0</td>\n    </tr>\n    <tr>\n      <th>1055</th>\n      <td>2016-03-01</td>\n      <td>156</td>\n      <td>41</td>\n      <td>Female</td>\n      <td>C9</td>\n      <td>Bachelor</td>\n      <td>41046</td>\n      <td>2015-07-01</td>\n      <td>2016-02-29</td>\n      <td>1</td>\n      <td>1</td>\n      <td>0</td>\n      <td>1</td>\n      <td>2016-03-01</td>\n      <td>2016-03-01</td>\n      <td>0</td>\n    </tr>\n    <tr>\n      <th>1076</th>\n      <td>2016-04-01</td>\n      <td>161</td>\n      <td>38</td>\n      <td>Male</td>\n      <td>C25</td>\n      <td>Master</td>\n      <td>35793</td>\n      <td>2015-06-19</td>\n      <td>2016-03-29</td>\n      <td>1</td>\n      <td>1</td>\n      <td>0</td>\n      <td>1</td>\n      <td>2016-04-01</td>\n      <td>2016-04-01</td>\n      <td>0</td>\n    </tr>\n    <tr>\n      <th>1078</th>\n      <td>2017-01-01</td>\n      <td>162</td>\n      <td>36</td>\n      <td>Male</td>\n      <td>C2</td>\n      <td>Bachelor</td>\n      <td>100064</td>\n      <td>2016-10-31</td>\n      <td>2016-12-30</td>\n      <td>3</td>\n      <td>3</td>\n      <td>0</td>\n      <td>1</td>\n      <td>2017-01-01</td>\n      <td>2017-01-01</td>\n      <td>0</td>\n    </tr>\n    <tr>\n      <th>1134</th>\n      <td>2016-12-01</td>\n      <td>169</td>\n      <td>34</td>\n      <td>Male</td>\n      <td>C14</td>\n      <td>Master</td>\n      <td>38409</td>\n      <td>2015-05-01</td>\n      <td>2016-11-29</td>\n      <td>2</td>\n      <td>2</td>\n      <td>-582010</td>\n      <td>1</td>\n      <td>2016-12-01</td>\n      <td>2016-12-01</td>\n      <td>0</td>\n    </tr>\n    <tr>\n      <th>1153</th>\n      <td>2016-07-01</td>\n      <td>172</td>\n      <td>41</td>\n      <td>Female</td>\n      <td>C6</td>\n      <td>Master</td>\n      <td>101395</td>\n      <td>2014-11-07</td>\n      <td>2016-06-29</td>\n      <td>2</td>\n      <td>3</td>\n      <td>0</td>\n      <td>1</td>\n      <td>2016-07-01</td>\n      <td>2016-07-01</td>\n      <td>0</td>\n    </tr>\n    <tr>\n      <th>1191</th>\n      <td>2017-08-01</td>\n      <td>176</td>\n      <td>34</td>\n      <td>Male</td>\n      <td>C15</td>\n      <td>College</td>\n      <td>21276</td>\n      <td>2017-05-04</td>\n      <td>2017-07-29</td>\n      <td>1</td>\n      <td>1</td>\n      <td>0</td>\n      <td>1</td>\n      <td>2017-08-01</td>\n      <td>2017-08-01</td>\n      <td>0</td>\n    </tr>\n    <tr>\n      <th>1323</th>\n      <td>2017-12-01</td>\n      <td>195</td>\n      <td>27</td>\n      <td>Male</td>\n      <td>C18</td>\n      <td>College</td>\n      <td>19419</td>\n      <td>2017-09-28</td>\n      <td>2017-11-28</td>\n      <td>1</td>\n      <td>1</td>\n      <td>0</td>\n      <td>1</td>\n      <td>2017-12-01</td>\n      <td>2017-12-01</td>\n      <td>0</td>\n    </tr>\n    <tr>\n      <th>1397</th>\n      <td>2016-04-01</td>\n      <td>204</td>\n      <td>31</td>\n      <td>Female</td>\n      <td>C14</td>\n      <td>College</td>\n      <td>68151</td>\n      <td>2014-12-05</td>\n      <td>2016-03-29</td>\n      <td>1</td>\n      <td>2</td>\n      <td>0</td>\n      <td>1</td>\n      <td>2016-04-01</td>\n      <td>2016-04-01</td>\n      <td>0</td>\n    </tr>\n    <tr>\n      <th>1421</th>\n      <td>2017-08-01</td>\n      <td>211</td>\n      <td>34</td>\n      <td>Female</td>\n      <td>C6</td>\n      <td>Master</td>\n      <td>81730</td>\n      <td>2017-06-05</td>\n      <td>2017-07-29</td>\n      <td>3</td>\n      <td>3</td>\n      <td>0</td>\n      <td>1</td>\n      <td>2017-08-01</td>\n      <td>2017-08-01</td>\n      <td>0</td>\n    </tr>\n  </tbody>\n</table>\n</div>"
     },
     "metadata": {},
     "output_type": "execute_result",
     "execution_count": 74
    }
   ],
   "source": [
    "# train[train['LastWorkingDate'] < train['date']].head(20)"
   ],
   "metadata": {
    "collapsed": false,
    "pycharm": {
     "name": "#%%\n",
     "is_executing": false
    }
   }
  },
  {
   "cell_type": "code",
   "execution_count": 75,
   "outputs": [
    {
     "name": "stdout",
     "text": [
      "277\n"
     ],
     "output_type": "stream"
    }
   ],
   "source": [
    "# print(len(train[train['LastWorkingDate'] < train['date'].dt.to_period('M').dt.to_timestamp()]))"
   ],
   "metadata": {
    "collapsed": false,
    "pycharm": {
     "name": "#%%\n",
     "is_executing": false
    }
   }
  },
  {
   "cell_type": "code",
   "execution_count": 80,
   "outputs": [],
   "source": [
    "date_overflow = train[(train['LastWorkingDate'] < train['date'].dt.to_period('M').dt.to_timestamp())]\n",
    "# print(date_overflow)"
   ],
   "metadata": {
    "collapsed": false,
    "pycharm": {
     "name": "#%%\n",
     "is_executing": false
    }
   }
  },
  {
   "cell_type": "code",
   "execution_count": 81,
   "outputs": [
    {
     "name": "stdout",
     "text": [
      "-3 days +00:00:00 -1 days +00:00:00\n"
     ],
     "output_type": "stream"
    }
   ],
   "source": [
    "date_diff = date_overflow['LastWorkingDate'] - date_overflow['date']\n",
    "print(date_diff.min(), date_diff.max())"
   ],
   "metadata": {
    "collapsed": false,
    "pycharm": {
     "name": "#%%\n",
     "is_executing": false
    }
   }
  },
  {
   "cell_type": "code",
   "execution_count": 81,
   "outputs": [],
   "source": [
    "\n",
    "\n",
    "\n"
   ],
   "metadata": {
    "collapsed": false,
    "pycharm": {
     "name": "#%%\n",
     "is_executing": false
    }
   }
  }
 ]
}