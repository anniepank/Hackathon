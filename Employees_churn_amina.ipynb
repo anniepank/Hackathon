{
 "nbformat": 4,
 "nbformat_minor": 0,
 "metadata": {
  "colab": {
   "name": "Employees churn.ipynb",
   "provenance": []
  },
  "kernelspec": {
   "name": "python3",
   "display_name": "Python 3"
  },
  "language_info": {
   "name": "python"
  },
  "pycharm": {
   "stem_cell": {
    "cell_type": "raw",
    "source": [],
    "metadata": {
     "collapsed": false
    }
   }
  }
 },
 "cells": [
  {
   "cell_type": "code",
   "execution_count": 98,
   "outputs": [],
   "source": [
    "import pandas as pd\n",
    "# https://docs.google.com/spreadsheets/d/1OdjccfGlv3lsuiWgIAHbE8id91FpVaU2EsaZo5kknaA/edit?usp=sharing\n",
    "import numpy as np"
   ],
   "metadata": {
    "collapsed": false,
    "pycharm": {
     "name": "#%%\n",
     "is_executing": false
    }
   }
  },
  {
   "cell_type": "code",
   "metadata": {
    "id": "amQW7dmnkS_d",
    "pycharm": {
     "is_executing": false
    }
   },
   "source": [
    "\n",
    "from io import BytesIO\n",
    "import requests\n",
    "spreadsheet_id = '1OdjccfGlv3lsuiWgIAHbE8id91FpVaU2EsaZo5kknaA'\n",
    "file_name = 'https://docs.google.com/spreadsheets/d/{}/export?format=csv'.format(spreadsheet_id)\n",
    "r = requests.get(file_name)\n",
    "train = pd.read_csv(BytesIO(r.content))\n"
   ],
   "execution_count": 99,
   "outputs": []
  },
  {
   "cell_type": "code",
   "metadata": {
    "colab": {
     "base_uri": "https://localhost:8080/"
    },
    "id": "eQ_ClVDDlgkf",
    "outputId": "28032429-acd4-4c12-f8a7-08820396d85e",
    "pycharm": {
     "is_executing": false
    }
   },
   "source": [
    "train.info()"
   ],
   "execution_count": 100,
   "outputs": [
    {
     "name": "stdout",
     "text": [
      "<class 'pandas.core.frame.DataFrame'>\nRangeIndex: 19104 entries, 0 to 19103\nData columns (total 13 columns):\n #   Column                Non-Null Count  Dtype \n---  ------                --------------  ----- \n 0   MMM-YY                19104 non-null  object\n 1   Emp_ID                19104 non-null  int64 \n 2   Age                   19104 non-null  int64 \n 3   Gender                19104 non-null  object\n 4   City                  19104 non-null  object\n 5   Education_Level       19104 non-null  object\n 6   Salary                19104 non-null  int64 \n 7   Dateofjoining         19104 non-null  object\n 8   LastWorkingDate       1616 non-null   object\n 9   Joining Designation   19104 non-null  int64 \n 10  Designation           19104 non-null  int64 \n 11  Total Business Value  19104 non-null  int64 \n 12  Quarterly Rating      19104 non-null  int64 \ndtypes: int64(7), object(6)\nmemory usage: 1.9+ MB\n"
     ],
     "output_type": "stream"
    }
   ]
  },
  {
   "cell_type": "code",
   "metadata": {
    "id": "QTNumWUBlxQy",
    "pycharm": {
     "is_executing": false
    }
   },
   "source": [
    "def get_info(df):\n",
    "\n",
    "    print(\"Head:\")\n",
    "    display(df.head())\n",
    "    print()\n",
    "    \n",
    "    print(\"Info:\")\n",
    "    display(df.info())\n",
    "    print()\n",
    "    \n",
    "    print(\"Description of quantitative parameters:\")\n",
    "    display(df.describe())\n",
    "    print()\n",
    "    \n",
    "    print(\"Description of categorical parameters:\")\n",
    "    display(df.describe(include='object'))\n",
    "    print()\n",
    "    \n",
    "    print(\"Columns with NaN values:\")\n",
    "    display(df.isna().sum())\n",
    "    print()\n",
    "    \n",
    "    print(\"Shape:\")\n",
    "    display(df.shape)\n",
    "    print()\n",
    "    \n",
    "    print(\"Number of duplicated rows:\")\n",
    "    display(df.duplicated().sum())  "
   ],
   "execution_count": 101,
   "outputs": []
  },
  {
   "cell_type": "code",
   "metadata": {
    "colab": {
     "base_uri": "https://localhost:8080/",
     "height": 1000
    },
    "id": "c7M2iRSHnBke",
    "outputId": "aa1776d2-6a6c-492f-a47e-382df41fbed3",
    "pycharm": {
     "is_executing": false
    }
   },
   "source": [
    "get_info(train)"
   ],
   "execution_count": 102,
   "outputs": [
    {
     "name": "stdout",
     "text": [
      "Head:\n",
      "\nInfo:\n<class 'pandas.core.frame.DataFrame'>\nRangeIndex: 19104 entries, 0 to 19103\nData columns (total 13 columns):\n #   Column                Non-Null Count  Dtype \n---  ------                --------------  ----- \n 0   MMM-YY                19104 non-null  object\n 1   Emp_ID                19104 non-null  int64 \n 2   Age                   19104 non-null  int64 \n 3   Gender                19104 non-null  object\n 4   City                  19104 non-null  object\n 5   Education_Level       19104 non-null  object\n 6   Salary                19104 non-null  int64 \n 7   Dateofjoining         19104 non-null  object\n 8   LastWorkingDate       1616 non-null   object\n 9   Joining Designation   19104 non-null  int64 \n 10  Designation           19104 non-null  int64 \n 11  Total Business Value  19104 non-null  int64 \n 12  Quarterly Rating      19104 non-null  int64 \ndtypes: int64(7), object(6)\nmemory usage: 1.9+ MB\n",
      "\nDescription of quantitative parameters:\n",
      "\nDescription of categorical parameters:\n",
      "\nColumns with NaN values:\n",
      "\nShape:\n",
      "\nNumber of duplicated rows:\n"
     ],
     "output_type": "stream"
    },
    {
     "data": {
      "text/plain": "       MMM-YY  Emp_ID  Age Gender City Education_Level  Salary Dateofjoining  \\\n0  2016-01-01       1   28   Male  C23          Master   57387    2015-12-24   \n1  2016-02-01       1   28   Male  C23          Master   57387    2015-12-24   \n2  2016-03-01       1   28   Male  C23          Master   57387    2015-12-24   \n3  2017-11-01       2   31   Male   C7          Master   67016    2017-11-06   \n4  2017-12-01       2   31   Male   C7          Master   67016    2017-11-06   \n\n  LastWorkingDate  Joining Designation  Designation  Total Business Value  \\\n0             NaN                    1            1               2381060   \n1             NaN                    1            1               -665480   \n2      2016-03-11                    1            1                     0   \n3             NaN                    2            2                     0   \n4             NaN                    2            2                     0   \n\n   Quarterly Rating  \n0                 2  \n1                 2  \n2                 2  \n3                 1  \n4                 1  ",
      "text/html": "<div>\n<style scoped>\n    .dataframe tbody tr th:only-of-type {\n        vertical-align: middle;\n    }\n\n    .dataframe tbody tr th {\n        vertical-align: top;\n    }\n\n    .dataframe thead th {\n        text-align: right;\n    }\n</style>\n<table border=\"1\" class=\"dataframe\">\n  <thead>\n    <tr style=\"text-align: right;\">\n      <th></th>\n      <th>MMM-YY</th>\n      <th>Emp_ID</th>\n      <th>Age</th>\n      <th>Gender</th>\n      <th>City</th>\n      <th>Education_Level</th>\n      <th>Salary</th>\n      <th>Dateofjoining</th>\n      <th>LastWorkingDate</th>\n      <th>Joining Designation</th>\n      <th>Designation</th>\n      <th>Total Business Value</th>\n      <th>Quarterly Rating</th>\n    </tr>\n  </thead>\n  <tbody>\n    <tr>\n      <th>0</th>\n      <td>2016-01-01</td>\n      <td>1</td>\n      <td>28</td>\n      <td>Male</td>\n      <td>C23</td>\n      <td>Master</td>\n      <td>57387</td>\n      <td>2015-12-24</td>\n      <td>NaN</td>\n      <td>1</td>\n      <td>1</td>\n      <td>2381060</td>\n      <td>2</td>\n    </tr>\n    <tr>\n      <th>1</th>\n      <td>2016-02-01</td>\n      <td>1</td>\n      <td>28</td>\n      <td>Male</td>\n      <td>C23</td>\n      <td>Master</td>\n      <td>57387</td>\n      <td>2015-12-24</td>\n      <td>NaN</td>\n      <td>1</td>\n      <td>1</td>\n      <td>-665480</td>\n      <td>2</td>\n    </tr>\n    <tr>\n      <th>2</th>\n      <td>2016-03-01</td>\n      <td>1</td>\n      <td>28</td>\n      <td>Male</td>\n      <td>C23</td>\n      <td>Master</td>\n      <td>57387</td>\n      <td>2015-12-24</td>\n      <td>2016-03-11</td>\n      <td>1</td>\n      <td>1</td>\n      <td>0</td>\n      <td>2</td>\n    </tr>\n    <tr>\n      <th>3</th>\n      <td>2017-11-01</td>\n      <td>2</td>\n      <td>31</td>\n      <td>Male</td>\n      <td>C7</td>\n      <td>Master</td>\n      <td>67016</td>\n      <td>2017-11-06</td>\n      <td>NaN</td>\n      <td>2</td>\n      <td>2</td>\n      <td>0</td>\n      <td>1</td>\n    </tr>\n    <tr>\n      <th>4</th>\n      <td>2017-12-01</td>\n      <td>2</td>\n      <td>31</td>\n      <td>Male</td>\n      <td>C7</td>\n      <td>Master</td>\n      <td>67016</td>\n      <td>2017-11-06</td>\n      <td>NaN</td>\n      <td>2</td>\n      <td>2</td>\n      <td>0</td>\n      <td>1</td>\n    </tr>\n  </tbody>\n</table>\n</div>"
     },
     "metadata": {},
     "output_type": "display_data"
    },
    {
     "data": {
      "text/plain": "None"
     },
     "metadata": {},
     "output_type": "display_data"
    },
    {
     "data": {
      "text/plain": "             Emp_ID           Age         Salary  Joining Designation  \\\ncount  19104.000000  19104.000000   19104.000000         19104.000000   \nmean    1415.591133     34.650283   65652.025126             1.690536   \nstd      810.705321      6.264471   30914.515344             0.836984   \nmin        1.000000     21.000000   10747.000000             1.000000   \n25%      710.000000     30.000000   42383.000000             1.000000   \n50%     1417.000000     34.000000   60087.000000             1.000000   \n75%     2137.000000     39.000000   83969.000000             2.000000   \nmax     2788.000000     58.000000  188418.000000             5.000000   \n\n        Designation  Total Business Value  Quarterly Rating  \ncount  19104.000000          1.910400e+04      19104.000000  \nmean       2.252670          5.716621e+05          2.008899  \nstd        1.026512          1.128312e+06          1.009832  \nmin        1.000000         -6.000000e+06          1.000000  \n25%        1.000000          0.000000e+00          1.000000  \n50%        2.000000          2.500000e+05          2.000000  \n75%        3.000000          6.997000e+05          3.000000  \nmax        5.000000          3.374772e+07          4.000000  ",
      "text/html": "<div>\n<style scoped>\n    .dataframe tbody tr th:only-of-type {\n        vertical-align: middle;\n    }\n\n    .dataframe tbody tr th {\n        vertical-align: top;\n    }\n\n    .dataframe thead th {\n        text-align: right;\n    }\n</style>\n<table border=\"1\" class=\"dataframe\">\n  <thead>\n    <tr style=\"text-align: right;\">\n      <th></th>\n      <th>Emp_ID</th>\n      <th>Age</th>\n      <th>Salary</th>\n      <th>Joining Designation</th>\n      <th>Designation</th>\n      <th>Total Business Value</th>\n      <th>Quarterly Rating</th>\n    </tr>\n  </thead>\n  <tbody>\n    <tr>\n      <th>count</th>\n      <td>19104.000000</td>\n      <td>19104.000000</td>\n      <td>19104.000000</td>\n      <td>19104.000000</td>\n      <td>19104.000000</td>\n      <td>1.910400e+04</td>\n      <td>19104.000000</td>\n    </tr>\n    <tr>\n      <th>mean</th>\n      <td>1415.591133</td>\n      <td>34.650283</td>\n      <td>65652.025126</td>\n      <td>1.690536</td>\n      <td>2.252670</td>\n      <td>5.716621e+05</td>\n      <td>2.008899</td>\n    </tr>\n    <tr>\n      <th>std</th>\n      <td>810.705321</td>\n      <td>6.264471</td>\n      <td>30914.515344</td>\n      <td>0.836984</td>\n      <td>1.026512</td>\n      <td>1.128312e+06</td>\n      <td>1.009832</td>\n    </tr>\n    <tr>\n      <th>min</th>\n      <td>1.000000</td>\n      <td>21.000000</td>\n      <td>10747.000000</td>\n      <td>1.000000</td>\n      <td>1.000000</td>\n      <td>-6.000000e+06</td>\n      <td>1.000000</td>\n    </tr>\n    <tr>\n      <th>25%</th>\n      <td>710.000000</td>\n      <td>30.000000</td>\n      <td>42383.000000</td>\n      <td>1.000000</td>\n      <td>1.000000</td>\n      <td>0.000000e+00</td>\n      <td>1.000000</td>\n    </tr>\n    <tr>\n      <th>50%</th>\n      <td>1417.000000</td>\n      <td>34.000000</td>\n      <td>60087.000000</td>\n      <td>1.000000</td>\n      <td>2.000000</td>\n      <td>2.500000e+05</td>\n      <td>2.000000</td>\n    </tr>\n    <tr>\n      <th>75%</th>\n      <td>2137.000000</td>\n      <td>39.000000</td>\n      <td>83969.000000</td>\n      <td>2.000000</td>\n      <td>3.000000</td>\n      <td>6.997000e+05</td>\n      <td>3.000000</td>\n    </tr>\n    <tr>\n      <th>max</th>\n      <td>2788.000000</td>\n      <td>58.000000</td>\n      <td>188418.000000</td>\n      <td>5.000000</td>\n      <td>5.000000</td>\n      <td>3.374772e+07</td>\n      <td>4.000000</td>\n    </tr>\n  </tbody>\n</table>\n</div>"
     },
     "metadata": {},
     "output_type": "display_data"
    },
    {
     "data": {
      "text/plain": "            MMM-YY Gender   City Education_Level Dateofjoining LastWorkingDate\ncount        19104  19104  19104           19104         19104            1616\nunique          24      2     29               3           869             493\ntop     2016-01-01   Male    C20        Bachelor    2012-07-23      2017-07-29\nfreq          1022  11103   1008            6864           192              70",
      "text/html": "<div>\n<style scoped>\n    .dataframe tbody tr th:only-of-type {\n        vertical-align: middle;\n    }\n\n    .dataframe tbody tr th {\n        vertical-align: top;\n    }\n\n    .dataframe thead th {\n        text-align: right;\n    }\n</style>\n<table border=\"1\" class=\"dataframe\">\n  <thead>\n    <tr style=\"text-align: right;\">\n      <th></th>\n      <th>MMM-YY</th>\n      <th>Gender</th>\n      <th>City</th>\n      <th>Education_Level</th>\n      <th>Dateofjoining</th>\n      <th>LastWorkingDate</th>\n    </tr>\n  </thead>\n  <tbody>\n    <tr>\n      <th>count</th>\n      <td>19104</td>\n      <td>19104</td>\n      <td>19104</td>\n      <td>19104</td>\n      <td>19104</td>\n      <td>1616</td>\n    </tr>\n    <tr>\n      <th>unique</th>\n      <td>24</td>\n      <td>2</td>\n      <td>29</td>\n      <td>3</td>\n      <td>869</td>\n      <td>493</td>\n    </tr>\n    <tr>\n      <th>top</th>\n      <td>2016-01-01</td>\n      <td>Male</td>\n      <td>C20</td>\n      <td>Bachelor</td>\n      <td>2012-07-23</td>\n      <td>2017-07-29</td>\n    </tr>\n    <tr>\n      <th>freq</th>\n      <td>1022</td>\n      <td>11103</td>\n      <td>1008</td>\n      <td>6864</td>\n      <td>192</td>\n      <td>70</td>\n    </tr>\n  </tbody>\n</table>\n</div>"
     },
     "metadata": {},
     "output_type": "display_data"
    },
    {
     "data": {
      "text/plain": "MMM-YY                      0\nEmp_ID                      0\nAge                         0\nGender                      0\nCity                        0\nEducation_Level             0\nSalary                      0\nDateofjoining               0\nLastWorkingDate         17488\nJoining Designation         0\nDesignation                 0\nTotal Business Value        0\nQuarterly Rating            0\ndtype: int64"
     },
     "metadata": {},
     "output_type": "display_data"
    },
    {
     "data": {
      "text/plain": "(19104, 13)"
     },
     "metadata": {},
     "output_type": "display_data"
    },
    {
     "data": {
      "text/plain": "0"
     },
     "metadata": {},
     "output_type": "display_data"
    }
   ]
  },
  {
   "cell_type": "markdown",
   "source": [
    "# Processing Dates:\n",
    "We have added LastMonthOnWork (datetime feature) and MonthsTillLast (int feature)"
   ],
   "metadata": {
    "collapsed": false
   }
  },
  {
   "cell_type": "code",
   "metadata": {
    "id": "FRAUNyrInGPR",
    "pycharm": {
     "is_executing": false
    }
   },
   "source": [
    "train['date'] = pd.to_datetime(train['MMM-YY'], format='%Y-%m-%d')\n",
    "train['LastWorkingDate'] = pd.to_datetime(train['LastWorkingDate'], format='%Y-%m-%d')\n",
    "\n",
    "print(train.date.min(), train.date.max())\n",
    "# max_date = pd.datetime.today()  # to adapt easier for other datetime windows\n",
    "max_date = train.date.max()\n",
    "min_date = train.date.min()\n",
    "\n",
    "# we are adding 3 days before getting month so that dates in the end of the month were rounded to the next month.\n",
    "# this is done because for persons whose LastWorkingDate is in the last 1-3 days there exists a data entry on the next month\n",
    "train['LastWorkingDate'] = train['LastWorkingDate'].fillna(max_date)\n",
    "train['LastWorkingDate'] = train.groupby('Emp_ID')['LastWorkingDate'].transform('min')\n",
    "train['LastMonthOnWork'] = (train['LastWorkingDate'] + pd.Timedelta(days=3)).dt.to_period('M').dt.to_timestamp()\n",
    "train['MonthsTillLast'] = ((train.LastMonthOnWork - train.date)/np.timedelta64(1, 'M')).round().astype(int)"
   ],
   "execution_count": 103,
   "outputs": [
    {
     "name": "stdout",
     "text": [
      "2016-01-01 00:00:00 2017-12-01 00:00:00\n"
     ],
     "output_type": "stream"
    }
   ]
  },
  {
   "cell_type": "code",
   "execution_count": 104,
   "outputs": [
    {
     "name": "stdout",
     "text": [
      "Head:\n",
      "\nInfo:\n",
      "<class 'pandas.core.frame.DataFrame'>\nRangeIndex: 19104 entries, 0 to 19103\nData columns (total 16 columns):\n #   Column                Non-Null Count  Dtype         \n---  ------                --------------  -----         \n 0   MMM-YY                19104 non-null  object        \n 1   Emp_ID                19104 non-null  int64         \n 2   Age                   19104 non-null  int64         \n 3   Gender                19104 non-null  object        \n 4   City                  19104 non-null  object        \n 5   Education_Level       19104 non-null  object        \n 6   Salary                19104 non-null  int64         \n 7   Dateofjoining         19104 non-null  object        \n 8   LastWorkingDate       19104 non-null  datetime64[ns]\n 9   Joining Designation   19104 non-null  int64         \n 10  Designation           19104 non-null  int64         \n 11  Total Business Value  19104 non-null  int64         \n 12  Quarterly Rating      19104 non-null  int64         \n 13  date                  19104 non-null  datetime64[ns]\n 14  LastMonthOnWork       19104 non-null  datetime64[ns]\n 15  MonthsTillLast        19104 non-null  int64         \ndtypes: datetime64[ns](3), int64(8), object(5)\nmemory usage: 2.3+ MB\n",
      "\nDescription of quantitative parameters:\n",
      "\nDescription of categorical parameters:\n",
      "\nColumns with NaN values:\n",
      "\nShape:\n",
      "\nNumber of duplicated rows:\n"
     ],
     "output_type": "stream"
    },
    {
     "data": {
      "text/plain": "       MMM-YY  Emp_ID  Age Gender City Education_Level  Salary Dateofjoining  \\\n0  2016-01-01       1   28   Male  C23          Master   57387    2015-12-24   \n1  2016-02-01       1   28   Male  C23          Master   57387    2015-12-24   \n2  2016-03-01       1   28   Male  C23          Master   57387    2015-12-24   \n3  2017-11-01       2   31   Male   C7          Master   67016    2017-11-06   \n4  2017-12-01       2   31   Male   C7          Master   67016    2017-11-06   \n\n  LastWorkingDate  Joining Designation  Designation  Total Business Value  \\\n0      2016-03-11                    1            1               2381060   \n1      2016-03-11                    1            1               -665480   \n2      2016-03-11                    1            1                     0   \n3      2017-12-01                    2            2                     0   \n4      2017-12-01                    2            2                     0   \n\n   Quarterly Rating       date LastMonthOnWork  MonthsTillLast  \n0                 2 2016-01-01      2016-03-01               2  \n1                 2 2016-02-01      2016-03-01               1  \n2                 2 2016-03-01      2016-03-01               0  \n3                 1 2017-11-01      2017-12-01               1  \n4                 1 2017-12-01      2017-12-01               0  ",
      "text/html": "<div>\n<style scoped>\n    .dataframe tbody tr th:only-of-type {\n        vertical-align: middle;\n    }\n\n    .dataframe tbody tr th {\n        vertical-align: top;\n    }\n\n    .dataframe thead th {\n        text-align: right;\n    }\n</style>\n<table border=\"1\" class=\"dataframe\">\n  <thead>\n    <tr style=\"text-align: right;\">\n      <th></th>\n      <th>MMM-YY</th>\n      <th>Emp_ID</th>\n      <th>Age</th>\n      <th>Gender</th>\n      <th>City</th>\n      <th>Education_Level</th>\n      <th>Salary</th>\n      <th>Dateofjoining</th>\n      <th>LastWorkingDate</th>\n      <th>Joining Designation</th>\n      <th>Designation</th>\n      <th>Total Business Value</th>\n      <th>Quarterly Rating</th>\n      <th>date</th>\n      <th>LastMonthOnWork</th>\n      <th>MonthsTillLast</th>\n    </tr>\n  </thead>\n  <tbody>\n    <tr>\n      <th>0</th>\n      <td>2016-01-01</td>\n      <td>1</td>\n      <td>28</td>\n      <td>Male</td>\n      <td>C23</td>\n      <td>Master</td>\n      <td>57387</td>\n      <td>2015-12-24</td>\n      <td>2016-03-11</td>\n      <td>1</td>\n      <td>1</td>\n      <td>2381060</td>\n      <td>2</td>\n      <td>2016-01-01</td>\n      <td>2016-03-01</td>\n      <td>2</td>\n    </tr>\n    <tr>\n      <th>1</th>\n      <td>2016-02-01</td>\n      <td>1</td>\n      <td>28</td>\n      <td>Male</td>\n      <td>C23</td>\n      <td>Master</td>\n      <td>57387</td>\n      <td>2015-12-24</td>\n      <td>2016-03-11</td>\n      <td>1</td>\n      <td>1</td>\n      <td>-665480</td>\n      <td>2</td>\n      <td>2016-02-01</td>\n      <td>2016-03-01</td>\n      <td>1</td>\n    </tr>\n    <tr>\n      <th>2</th>\n      <td>2016-03-01</td>\n      <td>1</td>\n      <td>28</td>\n      <td>Male</td>\n      <td>C23</td>\n      <td>Master</td>\n      <td>57387</td>\n      <td>2015-12-24</td>\n      <td>2016-03-11</td>\n      <td>1</td>\n      <td>1</td>\n      <td>0</td>\n      <td>2</td>\n      <td>2016-03-01</td>\n      <td>2016-03-01</td>\n      <td>0</td>\n    </tr>\n    <tr>\n      <th>3</th>\n      <td>2017-11-01</td>\n      <td>2</td>\n      <td>31</td>\n      <td>Male</td>\n      <td>C7</td>\n      <td>Master</td>\n      <td>67016</td>\n      <td>2017-11-06</td>\n      <td>2017-12-01</td>\n      <td>2</td>\n      <td>2</td>\n      <td>0</td>\n      <td>1</td>\n      <td>2017-11-01</td>\n      <td>2017-12-01</td>\n      <td>1</td>\n    </tr>\n    <tr>\n      <th>4</th>\n      <td>2017-12-01</td>\n      <td>2</td>\n      <td>31</td>\n      <td>Male</td>\n      <td>C7</td>\n      <td>Master</td>\n      <td>67016</td>\n      <td>2017-11-06</td>\n      <td>2017-12-01</td>\n      <td>2</td>\n      <td>2</td>\n      <td>0</td>\n      <td>1</td>\n      <td>2017-12-01</td>\n      <td>2017-12-01</td>\n      <td>0</td>\n    </tr>\n  </tbody>\n</table>\n</div>"
     },
     "metadata": {},
     "output_type": "display_data"
    },
    {
     "data": {
      "text/plain": "None"
     },
     "metadata": {},
     "output_type": "display_data"
    },
    {
     "data": {
      "text/plain": "             Emp_ID           Age         Salary  Joining Designation  \\\ncount  19104.000000  19104.000000   19104.000000         19104.000000   \nmean    1415.591133     34.650283   65652.025126             1.690536   \nstd      810.705321      6.264471   30914.515344             0.836984   \nmin        1.000000     21.000000   10747.000000             1.000000   \n25%      710.000000     30.000000   42383.000000             1.000000   \n50%     1417.000000     34.000000   60087.000000             1.000000   \n75%     2137.000000     39.000000   83969.000000             2.000000   \nmax     2788.000000     58.000000  188418.000000             5.000000   \n\n        Designation  Total Business Value  Quarterly Rating  MonthsTillLast  \ncount  19104.000000          1.910400e+04      19104.000000    19104.000000  \nmean       2.252670          5.716621e+05          2.008899        6.457077  \nstd        1.026512          1.128312e+06          1.009832        6.107351  \nmin        1.000000         -6.000000e+06          1.000000        0.000000  \n25%        1.000000          0.000000e+00          1.000000        2.000000  \n50%        2.000000          2.500000e+05          2.000000        4.000000  \n75%        3.000000          6.997000e+05          3.000000       10.000000  \nmax        5.000000          3.374772e+07          4.000000       23.000000  ",
      "text/html": "<div>\n<style scoped>\n    .dataframe tbody tr th:only-of-type {\n        vertical-align: middle;\n    }\n\n    .dataframe tbody tr th {\n        vertical-align: top;\n    }\n\n    .dataframe thead th {\n        text-align: right;\n    }\n</style>\n<table border=\"1\" class=\"dataframe\">\n  <thead>\n    <tr style=\"text-align: right;\">\n      <th></th>\n      <th>Emp_ID</th>\n      <th>Age</th>\n      <th>Salary</th>\n      <th>Joining Designation</th>\n      <th>Designation</th>\n      <th>Total Business Value</th>\n      <th>Quarterly Rating</th>\n      <th>MonthsTillLast</th>\n    </tr>\n  </thead>\n  <tbody>\n    <tr>\n      <th>count</th>\n      <td>19104.000000</td>\n      <td>19104.000000</td>\n      <td>19104.000000</td>\n      <td>19104.000000</td>\n      <td>19104.000000</td>\n      <td>1.910400e+04</td>\n      <td>19104.000000</td>\n      <td>19104.000000</td>\n    </tr>\n    <tr>\n      <th>mean</th>\n      <td>1415.591133</td>\n      <td>34.650283</td>\n      <td>65652.025126</td>\n      <td>1.690536</td>\n      <td>2.252670</td>\n      <td>5.716621e+05</td>\n      <td>2.008899</td>\n      <td>6.457077</td>\n    </tr>\n    <tr>\n      <th>std</th>\n      <td>810.705321</td>\n      <td>6.264471</td>\n      <td>30914.515344</td>\n      <td>0.836984</td>\n      <td>1.026512</td>\n      <td>1.128312e+06</td>\n      <td>1.009832</td>\n      <td>6.107351</td>\n    </tr>\n    <tr>\n      <th>min</th>\n      <td>1.000000</td>\n      <td>21.000000</td>\n      <td>10747.000000</td>\n      <td>1.000000</td>\n      <td>1.000000</td>\n      <td>-6.000000e+06</td>\n      <td>1.000000</td>\n      <td>0.000000</td>\n    </tr>\n    <tr>\n      <th>25%</th>\n      <td>710.000000</td>\n      <td>30.000000</td>\n      <td>42383.000000</td>\n      <td>1.000000</td>\n      <td>1.000000</td>\n      <td>0.000000e+00</td>\n      <td>1.000000</td>\n      <td>2.000000</td>\n    </tr>\n    <tr>\n      <th>50%</th>\n      <td>1417.000000</td>\n      <td>34.000000</td>\n      <td>60087.000000</td>\n      <td>1.000000</td>\n      <td>2.000000</td>\n      <td>2.500000e+05</td>\n      <td>2.000000</td>\n      <td>4.000000</td>\n    </tr>\n    <tr>\n      <th>75%</th>\n      <td>2137.000000</td>\n      <td>39.000000</td>\n      <td>83969.000000</td>\n      <td>2.000000</td>\n      <td>3.000000</td>\n      <td>6.997000e+05</td>\n      <td>3.000000</td>\n      <td>10.000000</td>\n    </tr>\n    <tr>\n      <th>max</th>\n      <td>2788.000000</td>\n      <td>58.000000</td>\n      <td>188418.000000</td>\n      <td>5.000000</td>\n      <td>5.000000</td>\n      <td>3.374772e+07</td>\n      <td>4.000000</td>\n      <td>23.000000</td>\n    </tr>\n  </tbody>\n</table>\n</div>"
     },
     "metadata": {},
     "output_type": "display_data"
    },
    {
     "data": {
      "text/plain": "            MMM-YY Gender   City Education_Level Dateofjoining\ncount        19104  19104  19104           19104         19104\nunique          24      2     29               3           869\ntop     2016-01-01   Male    C20        Bachelor    2012-07-23\nfreq          1022  11103   1008            6864           192",
      "text/html": "<div>\n<style scoped>\n    .dataframe tbody tr th:only-of-type {\n        vertical-align: middle;\n    }\n\n    .dataframe tbody tr th {\n        vertical-align: top;\n    }\n\n    .dataframe thead th {\n        text-align: right;\n    }\n</style>\n<table border=\"1\" class=\"dataframe\">\n  <thead>\n    <tr style=\"text-align: right;\">\n      <th></th>\n      <th>MMM-YY</th>\n      <th>Gender</th>\n      <th>City</th>\n      <th>Education_Level</th>\n      <th>Dateofjoining</th>\n    </tr>\n  </thead>\n  <tbody>\n    <tr>\n      <th>count</th>\n      <td>19104</td>\n      <td>19104</td>\n      <td>19104</td>\n      <td>19104</td>\n      <td>19104</td>\n    </tr>\n    <tr>\n      <th>unique</th>\n      <td>24</td>\n      <td>2</td>\n      <td>29</td>\n      <td>3</td>\n      <td>869</td>\n    </tr>\n    <tr>\n      <th>top</th>\n      <td>2016-01-01</td>\n      <td>Male</td>\n      <td>C20</td>\n      <td>Bachelor</td>\n      <td>2012-07-23</td>\n    </tr>\n    <tr>\n      <th>freq</th>\n      <td>1022</td>\n      <td>11103</td>\n      <td>1008</td>\n      <td>6864</td>\n      <td>192</td>\n    </tr>\n  </tbody>\n</table>\n</div>"
     },
     "metadata": {},
     "output_type": "display_data"
    },
    {
     "data": {
      "text/plain": "MMM-YY                  0\nEmp_ID                  0\nAge                     0\nGender                  0\nCity                    0\nEducation_Level         0\nSalary                  0\nDateofjoining           0\nLastWorkingDate         0\nJoining Designation     0\nDesignation             0\nTotal Business Value    0\nQuarterly Rating        0\ndate                    0\nLastMonthOnWork         0\nMonthsTillLast          0\ndtype: int64"
     },
     "metadata": {},
     "output_type": "display_data"
    },
    {
     "data": {
      "text/plain": "(19104, 16)"
     },
     "metadata": {},
     "output_type": "display_data"
    },
    {
     "data": {
      "text/plain": "0"
     },
     "metadata": {},
     "output_type": "display_data"
    }
   ],
   "source": [
    "get_info(train)"
   ],
   "metadata": {
    "collapsed": false,
    "pycharm": {
     "name": "#%%\n",
     "is_executing": false
    }
   }
  },
  {
   "cell_type": "markdown",
   "source": [
    "# Checking for strange behaviour in dates:"
   ],
   "metadata": {
    "collapsed": false
   }
  },
  {
   "cell_type": "code",
   "execution_count": 105,
   "outputs": [
    {
     "data": {
      "text/plain": "Empty DataFrame\nColumns: [MMM-YY, Emp_ID, Age, Gender, City, Education_Level, Salary, Dateofjoining, LastWorkingDate, Joining Designation, Designation, Total Business Value, Quarterly Rating, date, LastMonthOnWork, MonthsTillLast]\nIndex: []",
      "text/html": "<div>\n<style scoped>\n    .dataframe tbody tr th:only-of-type {\n        vertical-align: middle;\n    }\n\n    .dataframe tbody tr th {\n        vertical-align: top;\n    }\n\n    .dataframe thead th {\n        text-align: right;\n    }\n</style>\n<table border=\"1\" class=\"dataframe\">\n  <thead>\n    <tr style=\"text-align: right;\">\n      <th></th>\n      <th>MMM-YY</th>\n      <th>Emp_ID</th>\n      <th>Age</th>\n      <th>Gender</th>\n      <th>City</th>\n      <th>Education_Level</th>\n      <th>Salary</th>\n      <th>Dateofjoining</th>\n      <th>LastWorkingDate</th>\n      <th>Joining Designation</th>\n      <th>Designation</th>\n      <th>Total Business Value</th>\n      <th>Quarterly Rating</th>\n      <th>date</th>\n      <th>LastMonthOnWork</th>\n      <th>MonthsTillLast</th>\n    </tr>\n  </thead>\n  <tbody>\n  </tbody>\n</table>\n</div>"
     },
     "metadata": {},
     "output_type": "execute_result",
     "execution_count": 105
    }
   ],
   "source": [
    "train[train['MonthsTillLast'] == -1].head(20)"
   ],
   "metadata": {
    "collapsed": false,
    "pycharm": {
     "name": "#%%\n",
     "is_executing": false
    }
   }
  },
  {
   "cell_type": "code",
   "execution_count": 106,
   "outputs": [
    {
     "name": "stdout",
     "text": [
      "0\n"
     ],
     "output_type": "stream"
    }
   ],
   "source": [
    "print(len(train[train['MonthsTillLast'] == -1]))\n"
   ],
   "metadata": {
    "collapsed": false,
    "pycharm": {
     "name": "#%%\n",
     "is_executing": false
    }
   }
  },
  {
   "cell_type": "code",
   "execution_count": 107,
   "outputs": [],
   "source": [
    "# train[train['LastWorkingDate'] < train['date']].head(20)"
   ],
   "metadata": {
    "collapsed": false,
    "pycharm": {
     "name": "#%%\n",
     "is_executing": false
    }
   }
  },
  {
   "cell_type": "code",
   "execution_count": 108,
   "outputs": [],
   "source": [
    "# print(len(train[train['LastWorkingDate'] < train['date'].dt.to_period('M').dt.to_timestamp()]))"
   ],
   "metadata": {
    "collapsed": false,
    "pycharm": {
     "name": "#%%\n",
     "is_executing": false
    }
   }
  },
  {
   "cell_type": "code",
   "execution_count": 109,
   "outputs": [],
   "source": [
    "date_overflow = train[(train['LastWorkingDate'] < train['date'].dt.to_period('M').dt.to_timestamp())]\n",
    "# print(date_overflow)"
   ],
   "metadata": {
    "collapsed": false,
    "pycharm": {
     "name": "#%%\n",
     "is_executing": false
    }
   }
  },
  {
   "cell_type": "code",
   "execution_count": 110,
   "outputs": [
    {
     "name": "stdout",
     "text": [
      "-3 days +00:00:00 -1 days +00:00:00\n"
     ],
     "output_type": "stream"
    }
   ],
   "source": [
    "date_diff = date_overflow['LastWorkingDate'] - date_overflow['date']\n",
    "print(date_diff.min(), date_diff.max())"
   ],
   "metadata": {
    "collapsed": false,
    "pycharm": {
     "name": "#%%\n",
     "is_executing": false
    }
   }
  },
  {
   "cell_type": "markdown",
   "source": [
    "## Remove users that are working (not resigned) but have no data for the last month):\n",
    "(ids are calculated in Sveta's code):"
   ],
   "metadata": {
    "collapsed": false,
    "pycharm": {
     "name": "#%% md\n"
    }
   }
  },
  {
   "cell_type": "code",
   "execution_count": 111,
   "outputs": [],
   "source": [
    "no_records_ids = [66, 383, 612, 743, 755, 770, 920, 1173, 1224, 1339, 1437, 1449, 1454, 1561, 1629, 1663, 1706, 1758, 1893, 1894, 2132, 2268, 2547, 2685]\n",
    "\n",
    "no_records_users = train[train['Emp_ID'].isin(no_records_ids)]\n",
    "\n",
    "train_clean = train[~train['Emp_ID'].isin(no_records_ids)]\n",
    "\n",
    "# pd.set_option('display.max_rows', None)\n",
    "# no_records_users"
   ],
   "metadata": {
    "collapsed": false,
    "pycharm": {
     "name": "#%%\n",
     "is_executing": false
    }
   }
  },
  {
   "cell_type": "markdown",
   "source": [
    "# Generate new dataset with a single row for each user"
   ],
   "metadata": {
    "collapsed": false,
    "pycharm": {
     "name": "#%% md\n",
     "is_executing": false
    }
   }
  },
  {
   "cell_type": "code",
   "execution_count": 113,
   "outputs": [
    {
     "data": {
      "text/plain": "    Quarterly Rating_0  Quarterly Rating_1  Quarterly Rating_2  \\\n1                  2.0                 2.0                 2.0   \n2                  1.0                 1.0                 1.0   \n4                  1.0                 1.0                 1.0   \n5                  1.0                 1.0                 1.0   \n6                  2.0                 2.0                 2.0   \n8                  1.0                 1.0                 1.0   \n11                 1.0                 1.0                 1.0   \n12                 1.0                 1.0                 1.0   \n13                 1.0                 1.0                 1.0   \n14                 1.0                 1.0                 1.0   \n16                 1.0                 1.0                 1.0   \n17                 1.0                 1.0                 1.0   \n18                 1.0                 1.0                 1.0   \n20                 1.0                 1.0                 1.0   \n21                 1.0                 1.0                 2.0   \n22                 1.0                 2.0                 2.0   \n24                 2.0                 3.0                 3.0   \n25                 4.0                 4.0                 4.0   \n26                 2.0                 2.0                 2.0   \n29                 1.0                 1.0                 2.0   \n\n    Quarterly Rating_3  Quarterly Rating_4  Quarterly Rating_5  \\\n1                  2.0                 2.0                 2.0   \n2                  1.0                 1.0                 1.0   \n4                  1.0                 1.0                 1.0   \n5                  1.0                 1.0                 1.0   \n6                  1.0                 1.0                 1.0   \n8                  1.0                 1.0                 1.0   \n11                 1.0                 1.0                 1.0   \n12                 4.0                 4.0                 4.0   \n13                 1.0                 1.0                 1.0   \n14                 1.0                 1.0                 1.0   \n16                 1.0                 1.0                 1.0   \n17                 1.0                 2.0                 2.0   \n18                 1.0                 1.0                 1.0   \n20                 1.0                 1.0                 1.0   \n21                 2.0                 2.0                 2.0   \n22                 2.0                 3.0                 3.0   \n24                 3.0                 2.0                 2.0   \n25                 4.0                 4.0                 4.0   \n26                 2.0                 2.0                 2.0   \n29                 2.0                 2.0                 2.0   \n\n    Quarterly Rating_6  Quarterly Rating_7  Quarterly Rating_8  \\\n1                  2.0                 2.0                 2.0   \n2                  1.0                 1.0                 1.0   \n4                  1.0                 1.0                 1.0   \n5                  1.0                 1.0                 1.0   \n6                  1.0                 1.0                 1.0   \n8                  1.0                 1.0                 1.0   \n11                 1.0                 1.0                 1.0   \n12                 4.0                 4.0                 4.0   \n13                 1.0                 1.0                 1.0   \n14                 1.0                 1.0                 1.0   \n16                 1.0                 1.0                 1.0   \n17                 2.0                 2.0                 2.0   \n18                 1.0                 1.0                 1.0   \n20                 1.0                 1.0                 1.0   \n21                 2.0                 2.0                 2.0   \n22                 3.0                 4.0                 4.0   \n24                 2.0                 2.0                 2.0   \n25                 3.0                 3.0                 3.0   \n26                 2.0                 2.0                 2.0   \n29                 2.0                 2.0                 2.0   \n\n    Quarterly Rating_9  ...  Total Business Value_3  Total Business Value_4  \\\n1                  2.0  ...               2381060.0               2381060.0   \n2                  1.0  ...                     0.0                     0.0   \n4                  1.0  ...                     0.0                     0.0   \n5                  1.0  ...                     0.0                     0.0   \n6                  1.0  ...                     0.0                     0.0   \n8                  1.0  ...                     0.0                     0.0   \n11                 1.0  ...                     0.0                     0.0   \n12                 4.0  ...                400000.0               1707180.0   \n13                 1.0  ...                500000.0                150000.0   \n14                 1.0  ...                     0.0                     0.0   \n16                 1.0  ...                346800.0                346800.0   \n17                 2.0  ...                242650.0                674990.0   \n18                 1.0  ...                     0.0                     0.0   \n20                 1.0  ...                     0.0                     0.0   \n21                 2.0  ...                     0.0                150600.0   \n22                 4.0  ...                500510.0                499480.0   \n24                 2.0  ...                203240.0                 97220.0   \n25                 4.0  ...               1368060.0               1512060.0   \n26                 4.0  ...                440550.0               1710410.0   \n29                 2.0  ...                278930.0                231840.0   \n\n    Total Business Value_5  Total Business Value_6  Total Business Value_7  \\\n1                2381060.0               2381060.0               2381060.0   \n2                      0.0                     0.0                     0.0   \n4                      0.0                     0.0                     0.0   \n5                      0.0                     0.0                     0.0   \n6                      0.0                     0.0                     0.0   \n8                      0.0                     0.0                     0.0   \n11                     0.0                     0.0                     0.0   \n12                500000.0                500000.0                500000.0   \n13                258610.0                400000.0                     0.0   \n14                     0.0                     0.0                     0.0   \n16                346800.0                346800.0                346800.0   \n17                     0.0                100000.0                100000.0   \n18                     0.0                     0.0                     0.0   \n20                     0.0                     0.0                     0.0   \n21                520980.0                     0.0                150450.0   \n22                306410.0                200000.0                696920.0   \n24                128730.0                312720.0               1103240.0   \n25                650000.0               1219340.0                350000.0   \n26                153590.0                     0.0                970030.0   \n29                231840.0                231840.0                231840.0   \n\n    Total Business Value_8  Total Business Value_9  Total Business Value_10  \\\n1                2381060.0               2381060.0                2381060.0   \n2                      0.0                     0.0                      0.0   \n4                      0.0                     0.0                      0.0   \n5                      0.0                     0.0                      0.0   \n6                      0.0                     0.0                      0.0   \n8                      0.0                     0.0                      0.0   \n11                     0.0                     0.0                      0.0   \n12                500000.0                500000.0                 500000.0   \n13               1593590.0                200000.0                 151110.0   \n14                     0.0                     0.0                      0.0   \n16                346800.0                346800.0                 346800.0   \n17                100000.0                100000.0                 100000.0   \n18                     0.0                     0.0                      0.0   \n20                     0.0                     0.0                      0.0   \n21                533260.0                116350.0                      0.0   \n22               1120560.0                653680.0                 121590.0   \n24                401310.0                106460.0                 106460.0   \n25               -414250.0               3053510.0                2973000.0   \n26               1940050.0               9226690.0                1511840.0   \n29                231840.0                231840.0                 231840.0   \n\n    Total Business Value_11  Total Business Value_12  \n1                 2381060.0                2381060.0  \n2                       0.0                      0.0  \n4                       0.0                      0.0  \n5                       0.0                      0.0  \n6                       0.0                      0.0  \n8                       0.0                      0.0  \n11                      0.0                      0.0  \n12                 500000.0                 500000.0  \n13                 300000.0                 200000.0  \n14                      0.0                      0.0  \n16                 346800.0                 346800.0  \n17                 100000.0                 100000.0  \n18                      0.0                      0.0  \n20                      0.0                      0.0  \n21                3295370.0                 551740.0  \n22                 635700.0                 601680.0  \n24                 106460.0                 106460.0  \n25                2109420.0                 574040.0  \n26                 732410.0                1086370.0  \n29                 231840.0                 231840.0  \n\n[20 rows x 26 columns]",
      "text/html": "<div>\n<style scoped>\n    .dataframe tbody tr th:only-of-type {\n        vertical-align: middle;\n    }\n\n    .dataframe tbody tr th {\n        vertical-align: top;\n    }\n\n    .dataframe thead th {\n        text-align: right;\n    }\n</style>\n<table border=\"1\" class=\"dataframe\">\n  <thead>\n    <tr style=\"text-align: right;\">\n      <th></th>\n      <th>Quarterly Rating_0</th>\n      <th>Quarterly Rating_1</th>\n      <th>Quarterly Rating_2</th>\n      <th>Quarterly Rating_3</th>\n      <th>Quarterly Rating_4</th>\n      <th>Quarterly Rating_5</th>\n      <th>Quarterly Rating_6</th>\n      <th>Quarterly Rating_7</th>\n      <th>Quarterly Rating_8</th>\n      <th>Quarterly Rating_9</th>\n      <th>...</th>\n      <th>Total Business Value_3</th>\n      <th>Total Business Value_4</th>\n      <th>Total Business Value_5</th>\n      <th>Total Business Value_6</th>\n      <th>Total Business Value_7</th>\n      <th>Total Business Value_8</th>\n      <th>Total Business Value_9</th>\n      <th>Total Business Value_10</th>\n      <th>Total Business Value_11</th>\n      <th>Total Business Value_12</th>\n    </tr>\n  </thead>\n  <tbody>\n    <tr>\n      <th>1</th>\n      <td>2.0</td>\n      <td>2.0</td>\n      <td>2.0</td>\n      <td>2.0</td>\n      <td>2.0</td>\n      <td>2.0</td>\n      <td>2.0</td>\n      <td>2.0</td>\n      <td>2.0</td>\n      <td>2.0</td>\n      <td>...</td>\n      <td>2381060.0</td>\n      <td>2381060.0</td>\n      <td>2381060.0</td>\n      <td>2381060.0</td>\n      <td>2381060.0</td>\n      <td>2381060.0</td>\n      <td>2381060.0</td>\n      <td>2381060.0</td>\n      <td>2381060.0</td>\n      <td>2381060.0</td>\n    </tr>\n    <tr>\n      <th>2</th>\n      <td>1.0</td>\n      <td>1.0</td>\n      <td>1.0</td>\n      <td>1.0</td>\n      <td>1.0</td>\n      <td>1.0</td>\n      <td>1.0</td>\n      <td>1.0</td>\n      <td>1.0</td>\n      <td>1.0</td>\n      <td>...</td>\n      <td>0.0</td>\n      <td>0.0</td>\n      <td>0.0</td>\n      <td>0.0</td>\n      <td>0.0</td>\n      <td>0.0</td>\n      <td>0.0</td>\n      <td>0.0</td>\n      <td>0.0</td>\n      <td>0.0</td>\n    </tr>\n    <tr>\n      <th>4</th>\n      <td>1.0</td>\n      <td>1.0</td>\n      <td>1.0</td>\n      <td>1.0</td>\n      <td>1.0</td>\n      <td>1.0</td>\n      <td>1.0</td>\n      <td>1.0</td>\n      <td>1.0</td>\n      <td>1.0</td>\n      <td>...</td>\n      <td>0.0</td>\n      <td>0.0</td>\n      <td>0.0</td>\n      <td>0.0</td>\n      <td>0.0</td>\n      <td>0.0</td>\n      <td>0.0</td>\n      <td>0.0</td>\n      <td>0.0</td>\n      <td>0.0</td>\n    </tr>\n    <tr>\n      <th>5</th>\n      <td>1.0</td>\n      <td>1.0</td>\n      <td>1.0</td>\n      <td>1.0</td>\n      <td>1.0</td>\n      <td>1.0</td>\n      <td>1.0</td>\n      <td>1.0</td>\n      <td>1.0</td>\n      <td>1.0</td>\n      <td>...</td>\n      <td>0.0</td>\n      <td>0.0</td>\n      <td>0.0</td>\n      <td>0.0</td>\n      <td>0.0</td>\n      <td>0.0</td>\n      <td>0.0</td>\n      <td>0.0</td>\n      <td>0.0</td>\n      <td>0.0</td>\n    </tr>\n    <tr>\n      <th>6</th>\n      <td>2.0</td>\n      <td>2.0</td>\n      <td>2.0</td>\n      <td>1.0</td>\n      <td>1.0</td>\n      <td>1.0</td>\n      <td>1.0</td>\n      <td>1.0</td>\n      <td>1.0</td>\n      <td>1.0</td>\n      <td>...</td>\n      <td>0.0</td>\n      <td>0.0</td>\n      <td>0.0</td>\n      <td>0.0</td>\n      <td>0.0</td>\n      <td>0.0</td>\n      <td>0.0</td>\n      <td>0.0</td>\n      <td>0.0</td>\n      <td>0.0</td>\n    </tr>\n    <tr>\n      <th>8</th>\n      <td>1.0</td>\n      <td>1.0</td>\n      <td>1.0</td>\n      <td>1.0</td>\n      <td>1.0</td>\n      <td>1.0</td>\n      <td>1.0</td>\n      <td>1.0</td>\n      <td>1.0</td>\n      <td>1.0</td>\n      <td>...</td>\n      <td>0.0</td>\n      <td>0.0</td>\n      <td>0.0</td>\n      <td>0.0</td>\n      <td>0.0</td>\n      <td>0.0</td>\n      <td>0.0</td>\n      <td>0.0</td>\n      <td>0.0</td>\n      <td>0.0</td>\n    </tr>\n    <tr>\n      <th>11</th>\n      <td>1.0</td>\n      <td>1.0</td>\n      <td>1.0</td>\n      <td>1.0</td>\n      <td>1.0</td>\n      <td>1.0</td>\n      <td>1.0</td>\n      <td>1.0</td>\n      <td>1.0</td>\n      <td>1.0</td>\n      <td>...</td>\n      <td>0.0</td>\n      <td>0.0</td>\n      <td>0.0</td>\n      <td>0.0</td>\n      <td>0.0</td>\n      <td>0.0</td>\n      <td>0.0</td>\n      <td>0.0</td>\n      <td>0.0</td>\n      <td>0.0</td>\n    </tr>\n    <tr>\n      <th>12</th>\n      <td>1.0</td>\n      <td>1.0</td>\n      <td>1.0</td>\n      <td>4.0</td>\n      <td>4.0</td>\n      <td>4.0</td>\n      <td>4.0</td>\n      <td>4.0</td>\n      <td>4.0</td>\n      <td>4.0</td>\n      <td>...</td>\n      <td>400000.0</td>\n      <td>1707180.0</td>\n      <td>500000.0</td>\n      <td>500000.0</td>\n      <td>500000.0</td>\n      <td>500000.0</td>\n      <td>500000.0</td>\n      <td>500000.0</td>\n      <td>500000.0</td>\n      <td>500000.0</td>\n    </tr>\n    <tr>\n      <th>13</th>\n      <td>1.0</td>\n      <td>1.0</td>\n      <td>1.0</td>\n      <td>1.0</td>\n      <td>1.0</td>\n      <td>1.0</td>\n      <td>1.0</td>\n      <td>1.0</td>\n      <td>1.0</td>\n      <td>1.0</td>\n      <td>...</td>\n      <td>500000.0</td>\n      <td>150000.0</td>\n      <td>258610.0</td>\n      <td>400000.0</td>\n      <td>0.0</td>\n      <td>1593590.0</td>\n      <td>200000.0</td>\n      <td>151110.0</td>\n      <td>300000.0</td>\n      <td>200000.0</td>\n    </tr>\n    <tr>\n      <th>14</th>\n      <td>1.0</td>\n      <td>1.0</td>\n      <td>1.0</td>\n      <td>1.0</td>\n      <td>1.0</td>\n      <td>1.0</td>\n      <td>1.0</td>\n      <td>1.0</td>\n      <td>1.0</td>\n      <td>1.0</td>\n      <td>...</td>\n      <td>0.0</td>\n      <td>0.0</td>\n      <td>0.0</td>\n      <td>0.0</td>\n      <td>0.0</td>\n      <td>0.0</td>\n      <td>0.0</td>\n      <td>0.0</td>\n      <td>0.0</td>\n      <td>0.0</td>\n    </tr>\n    <tr>\n      <th>16</th>\n      <td>1.0</td>\n      <td>1.0</td>\n      <td>1.0</td>\n      <td>1.0</td>\n      <td>1.0</td>\n      <td>1.0</td>\n      <td>1.0</td>\n      <td>1.0</td>\n      <td>1.0</td>\n      <td>1.0</td>\n      <td>...</td>\n      <td>346800.0</td>\n      <td>346800.0</td>\n      <td>346800.0</td>\n      <td>346800.0</td>\n      <td>346800.0</td>\n      <td>346800.0</td>\n      <td>346800.0</td>\n      <td>346800.0</td>\n      <td>346800.0</td>\n      <td>346800.0</td>\n    </tr>\n    <tr>\n      <th>17</th>\n      <td>1.0</td>\n      <td>1.0</td>\n      <td>1.0</td>\n      <td>1.0</td>\n      <td>2.0</td>\n      <td>2.0</td>\n      <td>2.0</td>\n      <td>2.0</td>\n      <td>2.0</td>\n      <td>2.0</td>\n      <td>...</td>\n      <td>242650.0</td>\n      <td>674990.0</td>\n      <td>0.0</td>\n      <td>100000.0</td>\n      <td>100000.0</td>\n      <td>100000.0</td>\n      <td>100000.0</td>\n      <td>100000.0</td>\n      <td>100000.0</td>\n      <td>100000.0</td>\n    </tr>\n    <tr>\n      <th>18</th>\n      <td>1.0</td>\n      <td>1.0</td>\n      <td>1.0</td>\n      <td>1.0</td>\n      <td>1.0</td>\n      <td>1.0</td>\n      <td>1.0</td>\n      <td>1.0</td>\n      <td>1.0</td>\n      <td>1.0</td>\n      <td>...</td>\n      <td>0.0</td>\n      <td>0.0</td>\n      <td>0.0</td>\n      <td>0.0</td>\n      <td>0.0</td>\n      <td>0.0</td>\n      <td>0.0</td>\n      <td>0.0</td>\n      <td>0.0</td>\n      <td>0.0</td>\n    </tr>\n    <tr>\n      <th>20</th>\n      <td>1.0</td>\n      <td>1.0</td>\n      <td>1.0</td>\n      <td>1.0</td>\n      <td>1.0</td>\n      <td>1.0</td>\n      <td>1.0</td>\n      <td>1.0</td>\n      <td>1.0</td>\n      <td>1.0</td>\n      <td>...</td>\n      <td>0.0</td>\n      <td>0.0</td>\n      <td>0.0</td>\n      <td>0.0</td>\n      <td>0.0</td>\n      <td>0.0</td>\n      <td>0.0</td>\n      <td>0.0</td>\n      <td>0.0</td>\n      <td>0.0</td>\n    </tr>\n    <tr>\n      <th>21</th>\n      <td>1.0</td>\n      <td>1.0</td>\n      <td>2.0</td>\n      <td>2.0</td>\n      <td>2.0</td>\n      <td>2.0</td>\n      <td>2.0</td>\n      <td>2.0</td>\n      <td>2.0</td>\n      <td>2.0</td>\n      <td>...</td>\n      <td>0.0</td>\n      <td>150600.0</td>\n      <td>520980.0</td>\n      <td>0.0</td>\n      <td>150450.0</td>\n      <td>533260.0</td>\n      <td>116350.0</td>\n      <td>0.0</td>\n      <td>3295370.0</td>\n      <td>551740.0</td>\n    </tr>\n    <tr>\n      <th>22</th>\n      <td>1.0</td>\n      <td>2.0</td>\n      <td>2.0</td>\n      <td>2.0</td>\n      <td>3.0</td>\n      <td>3.0</td>\n      <td>3.0</td>\n      <td>4.0</td>\n      <td>4.0</td>\n      <td>4.0</td>\n      <td>...</td>\n      <td>500510.0</td>\n      <td>499480.0</td>\n      <td>306410.0</td>\n      <td>200000.0</td>\n      <td>696920.0</td>\n      <td>1120560.0</td>\n      <td>653680.0</td>\n      <td>121590.0</td>\n      <td>635700.0</td>\n      <td>601680.0</td>\n    </tr>\n    <tr>\n      <th>24</th>\n      <td>2.0</td>\n      <td>3.0</td>\n      <td>3.0</td>\n      <td>3.0</td>\n      <td>2.0</td>\n      <td>2.0</td>\n      <td>2.0</td>\n      <td>2.0</td>\n      <td>2.0</td>\n      <td>2.0</td>\n      <td>...</td>\n      <td>203240.0</td>\n      <td>97220.0</td>\n      <td>128730.0</td>\n      <td>312720.0</td>\n      <td>1103240.0</td>\n      <td>401310.0</td>\n      <td>106460.0</td>\n      <td>106460.0</td>\n      <td>106460.0</td>\n      <td>106460.0</td>\n    </tr>\n    <tr>\n      <th>25</th>\n      <td>4.0</td>\n      <td>4.0</td>\n      <td>4.0</td>\n      <td>4.0</td>\n      <td>4.0</td>\n      <td>4.0</td>\n      <td>3.0</td>\n      <td>3.0</td>\n      <td>3.0</td>\n      <td>4.0</td>\n      <td>...</td>\n      <td>1368060.0</td>\n      <td>1512060.0</td>\n      <td>650000.0</td>\n      <td>1219340.0</td>\n      <td>350000.0</td>\n      <td>-414250.0</td>\n      <td>3053510.0</td>\n      <td>2973000.0</td>\n      <td>2109420.0</td>\n      <td>574040.0</td>\n    </tr>\n    <tr>\n      <th>26</th>\n      <td>2.0</td>\n      <td>2.0</td>\n      <td>2.0</td>\n      <td>2.0</td>\n      <td>2.0</td>\n      <td>2.0</td>\n      <td>2.0</td>\n      <td>2.0</td>\n      <td>2.0</td>\n      <td>4.0</td>\n      <td>...</td>\n      <td>440550.0</td>\n      <td>1710410.0</td>\n      <td>153590.0</td>\n      <td>0.0</td>\n      <td>970030.0</td>\n      <td>1940050.0</td>\n      <td>9226690.0</td>\n      <td>1511840.0</td>\n      <td>732410.0</td>\n      <td>1086370.0</td>\n    </tr>\n    <tr>\n      <th>29</th>\n      <td>1.0</td>\n      <td>1.0</td>\n      <td>2.0</td>\n      <td>2.0</td>\n      <td>2.0</td>\n      <td>2.0</td>\n      <td>2.0</td>\n      <td>2.0</td>\n      <td>2.0</td>\n      <td>2.0</td>\n      <td>...</td>\n      <td>278930.0</td>\n      <td>231840.0</td>\n      <td>231840.0</td>\n      <td>231840.0</td>\n      <td>231840.0</td>\n      <td>231840.0</td>\n      <td>231840.0</td>\n      <td>231840.0</td>\n      <td>231840.0</td>\n      <td>231840.0</td>\n    </tr>\n  </tbody>\n</table>\n<p>20 rows × 26 columns</p>\n</div>"
     },
     "metadata": {},
     "output_type": "execute_result",
     "execution_count": 113
    }
   ],
   "source": [
    "# train_clean.set_index(['Emp_ID', 'MonthsTillLast']).T\n",
    "# train_clean.set_index(['MonthsTillLast']).T\n",
    "# df = df.pivot_table(index=['id','obs_week'], columns='weeks_id', aggfunc=sum, fill_value=0)\n",
    "# df.columns = ['{}_{}'.format(x[0], x[1]) for x in df.columns]\n",
    "# df = df.reset_index().rename_axis(None, axis=1)\n",
    "\n",
    "emp_train = train_clean[train_clean['MonthsTillLast'] <= 12].pivot_table(index=['Emp_ID'], \n",
    "                                    columns=['MonthsTillLast'], \n",
    "                                    values=['Total Business Value', 'Quarterly Rating'])\n",
    "emp_train.columns = [f'{x[0]}_{x[1]}' for x in emp_train.columns]\n",
    "emp_train = emp_train.reset_index().rename_axis(None, axis=1)\n",
    "emp_train = emp_train.set_index('Emp_ID').rename_axis(None)   \n",
    "for i in range(1, 13):\n",
    "    emp_train[f'Quarterly Rating_{i}'] = emp_train[f'Quarterly Rating_{i}'].fillna(emp_train[f'Quarterly Rating_{i-1}'])       \n",
    "    emp_train[f'Total Business Value_{i}'] = emp_train[f'Total Business Value_{i}'].fillna(emp_train[f'Total Business Value_{i-1}'])       \n",
    "emp_train.head(20)"
   ],
   "metadata": {
    "collapsed": false,
    "pycharm": {
     "name": "#%%\n",
     "is_executing": false
    }
   }
  }
 ]
}