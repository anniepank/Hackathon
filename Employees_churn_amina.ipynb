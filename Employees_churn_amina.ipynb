{
 "nbformat": 4,
 "nbformat_minor": 0,
 "metadata": {
  "colab": {
   "name": "Employees churn.ipynb",
   "provenance": []
  },
  "kernelspec": {
   "name": "python3",
   "display_name": "Python 3"
  },
  "language_info": {
   "name": "python"
  },
  "pycharm": {
   "stem_cell": {
    "cell_type": "raw",
    "source": [],
    "metadata": {
     "collapsed": false
    }
   }
  }
 },
 "cells": [
  {
   "cell_type": "code",
   "metadata": {
    "id": "zq-8-C8eed5R",
    "pycharm": {
     "is_executing": false
    }
   },
   "source": [
    "import pandas as pd\n",
    "# https://docs.google.com/spreadsheets/d/1OdjccfGlv3lsuiWgIAHbE8id91FpVaU2EsaZo5kknaA/edit?usp=sharing\n",
    "import numpy as np"
   ],
   "execution_count": 23,
   "outputs": []
  },
  {
   "cell_type": "code",
   "metadata": {
    "id": "amQW7dmnkS_d",
    "pycharm": {
     "is_executing": false
    }
   },
   "source": [
    "\n",
    "from io import BytesIO\n",
    "import requests\n",
    "spreadsheet_id = '1OdjccfGlv3lsuiWgIAHbE8id91FpVaU2EsaZo5kknaA'\n",
    "file_name = 'https://docs.google.com/spreadsheets/d/{}/export?format=csv'.format(spreadsheet_id)\n",
    "r = requests.get(file_name)\n",
    "train = pd.read_csv(BytesIO(r.content))\n"
   ],
   "execution_count": 2,
   "outputs": []
  },
  {
   "cell_type": "code",
   "metadata": {
    "colab": {
     "base_uri": "https://localhost:8080/"
    },
    "id": "eQ_ClVDDlgkf",
    "outputId": "28032429-acd4-4c12-f8a7-08820396d85e",
    "pycharm": {
     "is_executing": false
    }
   },
   "source": [
    "train.info()"
   ],
   "execution_count": 3,
   "outputs": [
    {
     "name": "stdout",
     "text": [
      "<class 'pandas.core.frame.DataFrame'>\nRangeIndex: 19104 entries, 0 to 19103\nData columns (total 13 columns):\n #   Column                Non-Null Count  Dtype \n---  ------                --------------  ----- \n 0   MMM-YY                19104 non-null  object\n 1   Emp_ID                19104 non-null  int64 \n 2   Age                   19104 non-null  int64 \n 3   Gender                19104 non-null  object\n 4   City                  19104 non-null  object\n 5   Education_Level       19104 non-null  object\n 6   Salary                19104 non-null  int64 \n 7   Dateofjoining         19104 non-null  object\n 8   LastWorkingDate       1616 non-null   object\n 9   Joining Designation   19104 non-null  int64 \n 10  Designation           19104 non-null  int64 \n 11  Total Business Value  19104 non-null  int64 \n 12  Quarterly Rating      19104 non-null  int64 \ndtypes: int64(7), object(6)\nmemory usage: 1.9+ MB\n"
     ],
     "output_type": "stream"
    }
   ]
  },
  {
   "cell_type": "code",
   "metadata": {
    "id": "QTNumWUBlxQy",
    "pycharm": {
     "is_executing": false
    }
   },
   "source": [
    "def get_info(df):\n",
    "\n",
    "    print(\"Head:\")\n",
    "    display(df.head())\n",
    "    print()\n",
    "    \n",
    "    print(\"Info:\")\n",
    "    display(df.info())\n",
    "    print()\n",
    "    \n",
    "    print(\"Description of quantitative parameters:\")\n",
    "    display(df.describe())\n",
    "    print()\n",
    "    \n",
    "    print(\"Description of categorical parameters:\")\n",
    "    display(df.describe(include='object'))\n",
    "    print()\n",
    "    \n",
    "    print(\"Columns with NaN values:\")\n",
    "    display(df.isna().sum())\n",
    "    print()\n",
    "    \n",
    "    print(\"Shape:\")\n",
    "    display(df.shape)\n",
    "    print()\n",
    "    \n",
    "    print(\"Number of duplicated rows:\")\n",
    "    display(df.duplicated().sum())  "
   ],
   "execution_count": 4,
   "outputs": []
  },
  {
   "cell_type": "code",
   "metadata": {
    "colab": {
     "base_uri": "https://localhost:8080/",
     "height": 1000
    },
    "id": "c7M2iRSHnBke",
    "outputId": "aa1776d2-6a6c-492f-a47e-382df41fbed3",
    "pycharm": {
     "is_executing": false
    }
   },
   "source": [
    "get_info(train)"
   ],
   "execution_count": 5,
   "outputs": [
    {
     "name": "stdout",
     "text": [
      "Head:\n",
      "\nInfo:\n<class 'pandas.core.frame.DataFrame'>\nRangeIndex: 19104 entries, 0 to 19103\nData columns (total 13 columns):\n #   Column                Non-Null Count  Dtype \n---  ------                --------------  ----- \n 0   MMM-YY                19104 non-null  object\n 1   Emp_ID                19104 non-null  int64 \n 2   Age                   19104 non-null  int64 \n 3   Gender                19104 non-null  object\n 4   City                  19104 non-null  object\n 5   Education_Level       19104 non-null  object\n 6   Salary                19104 non-null  int64 \n 7   Dateofjoining         19104 non-null  object\n 8   LastWorkingDate       1616 non-null   object\n 9   Joining Designation   19104 non-null  int64 \n 10  Designation           19104 non-null  int64 \n 11  Total Business Value  19104 non-null  int64 \n 12  Quarterly Rating      19104 non-null  int64 \ndtypes: int64(7), object(6)\nmemory usage: 1.9+ MB\n",
      "\nDescription of quantitative parameters:\n",
      "\nDescription of categorical parameters:\n",
      "\nColumns with NaN values:\n",
      "\nShape:\n",
      "\nNumber of duplicated rows:\n"
     ],
     "output_type": "stream"
    },
    {
     "data": {
      "text/plain": "       MMM-YY  Emp_ID  Age Gender City Education_Level  Salary Dateofjoining  \\\n0  2016-01-01       1   28   Male  C23          Master   57387    2015-12-24   \n1  2016-02-01       1   28   Male  C23          Master   57387    2015-12-24   \n2  2016-03-01       1   28   Male  C23          Master   57387    2015-12-24   \n3  2017-11-01       2   31   Male   C7          Master   67016    2017-11-06   \n4  2017-12-01       2   31   Male   C7          Master   67016    2017-11-06   \n\n  LastWorkingDate  Joining Designation  Designation  Total Business Value  \\\n0             NaN                    1            1               2381060   \n1             NaN                    1            1               -665480   \n2      2016-03-11                    1            1                     0   \n3             NaN                    2            2                     0   \n4             NaN                    2            2                     0   \n\n   Quarterly Rating  \n0                 2  \n1                 2  \n2                 2  \n3                 1  \n4                 1  ",
      "text/html": "<div>\n<style scoped>\n    .dataframe tbody tr th:only-of-type {\n        vertical-align: middle;\n    }\n\n    .dataframe tbody tr th {\n        vertical-align: top;\n    }\n\n    .dataframe thead th {\n        text-align: right;\n    }\n</style>\n<table border=\"1\" class=\"dataframe\">\n  <thead>\n    <tr style=\"text-align: right;\">\n      <th></th>\n      <th>MMM-YY</th>\n      <th>Emp_ID</th>\n      <th>Age</th>\n      <th>Gender</th>\n      <th>City</th>\n      <th>Education_Level</th>\n      <th>Salary</th>\n      <th>Dateofjoining</th>\n      <th>LastWorkingDate</th>\n      <th>Joining Designation</th>\n      <th>Designation</th>\n      <th>Total Business Value</th>\n      <th>Quarterly Rating</th>\n    </tr>\n  </thead>\n  <tbody>\n    <tr>\n      <th>0</th>\n      <td>2016-01-01</td>\n      <td>1</td>\n      <td>28</td>\n      <td>Male</td>\n      <td>C23</td>\n      <td>Master</td>\n      <td>57387</td>\n      <td>2015-12-24</td>\n      <td>NaN</td>\n      <td>1</td>\n      <td>1</td>\n      <td>2381060</td>\n      <td>2</td>\n    </tr>\n    <tr>\n      <th>1</th>\n      <td>2016-02-01</td>\n      <td>1</td>\n      <td>28</td>\n      <td>Male</td>\n      <td>C23</td>\n      <td>Master</td>\n      <td>57387</td>\n      <td>2015-12-24</td>\n      <td>NaN</td>\n      <td>1</td>\n      <td>1</td>\n      <td>-665480</td>\n      <td>2</td>\n    </tr>\n    <tr>\n      <th>2</th>\n      <td>2016-03-01</td>\n      <td>1</td>\n      <td>28</td>\n      <td>Male</td>\n      <td>C23</td>\n      <td>Master</td>\n      <td>57387</td>\n      <td>2015-12-24</td>\n      <td>2016-03-11</td>\n      <td>1</td>\n      <td>1</td>\n      <td>0</td>\n      <td>2</td>\n    </tr>\n    <tr>\n      <th>3</th>\n      <td>2017-11-01</td>\n      <td>2</td>\n      <td>31</td>\n      <td>Male</td>\n      <td>C7</td>\n      <td>Master</td>\n      <td>67016</td>\n      <td>2017-11-06</td>\n      <td>NaN</td>\n      <td>2</td>\n      <td>2</td>\n      <td>0</td>\n      <td>1</td>\n    </tr>\n    <tr>\n      <th>4</th>\n      <td>2017-12-01</td>\n      <td>2</td>\n      <td>31</td>\n      <td>Male</td>\n      <td>C7</td>\n      <td>Master</td>\n      <td>67016</td>\n      <td>2017-11-06</td>\n      <td>NaN</td>\n      <td>2</td>\n      <td>2</td>\n      <td>0</td>\n      <td>1</td>\n    </tr>\n  </tbody>\n</table>\n</div>"
     },
     "metadata": {},
     "output_type": "display_data"
    },
    {
     "data": {
      "text/plain": "None"
     },
     "metadata": {},
     "output_type": "display_data"
    },
    {
     "data": {
      "text/plain": "             Emp_ID           Age         Salary  Joining Designation  \\\ncount  19104.000000  19104.000000   19104.000000         19104.000000   \nmean    1415.591133     34.650283   65652.025126             1.690536   \nstd      810.705321      6.264471   30914.515344             0.836984   \nmin        1.000000     21.000000   10747.000000             1.000000   \n25%      710.000000     30.000000   42383.000000             1.000000   \n50%     1417.000000     34.000000   60087.000000             1.000000   \n75%     2137.000000     39.000000   83969.000000             2.000000   \nmax     2788.000000     58.000000  188418.000000             5.000000   \n\n        Designation  Total Business Value  Quarterly Rating  \ncount  19104.000000          1.910400e+04      19104.000000  \nmean       2.252670          5.716621e+05          2.008899  \nstd        1.026512          1.128312e+06          1.009832  \nmin        1.000000         -6.000000e+06          1.000000  \n25%        1.000000          0.000000e+00          1.000000  \n50%        2.000000          2.500000e+05          2.000000  \n75%        3.000000          6.997000e+05          3.000000  \nmax        5.000000          3.374772e+07          4.000000  ",
      "text/html": "<div>\n<style scoped>\n    .dataframe tbody tr th:only-of-type {\n        vertical-align: middle;\n    }\n\n    .dataframe tbody tr th {\n        vertical-align: top;\n    }\n\n    .dataframe thead th {\n        text-align: right;\n    }\n</style>\n<table border=\"1\" class=\"dataframe\">\n  <thead>\n    <tr style=\"text-align: right;\">\n      <th></th>\n      <th>Emp_ID</th>\n      <th>Age</th>\n      <th>Salary</th>\n      <th>Joining Designation</th>\n      <th>Designation</th>\n      <th>Total Business Value</th>\n      <th>Quarterly Rating</th>\n    </tr>\n  </thead>\n  <tbody>\n    <tr>\n      <th>count</th>\n      <td>19104.000000</td>\n      <td>19104.000000</td>\n      <td>19104.000000</td>\n      <td>19104.000000</td>\n      <td>19104.000000</td>\n      <td>1.910400e+04</td>\n      <td>19104.000000</td>\n    </tr>\n    <tr>\n      <th>mean</th>\n      <td>1415.591133</td>\n      <td>34.650283</td>\n      <td>65652.025126</td>\n      <td>1.690536</td>\n      <td>2.252670</td>\n      <td>5.716621e+05</td>\n      <td>2.008899</td>\n    </tr>\n    <tr>\n      <th>std</th>\n      <td>810.705321</td>\n      <td>6.264471</td>\n      <td>30914.515344</td>\n      <td>0.836984</td>\n      <td>1.026512</td>\n      <td>1.128312e+06</td>\n      <td>1.009832</td>\n    </tr>\n    <tr>\n      <th>min</th>\n      <td>1.000000</td>\n      <td>21.000000</td>\n      <td>10747.000000</td>\n      <td>1.000000</td>\n      <td>1.000000</td>\n      <td>-6.000000e+06</td>\n      <td>1.000000</td>\n    </tr>\n    <tr>\n      <th>25%</th>\n      <td>710.000000</td>\n      <td>30.000000</td>\n      <td>42383.000000</td>\n      <td>1.000000</td>\n      <td>1.000000</td>\n      <td>0.000000e+00</td>\n      <td>1.000000</td>\n    </tr>\n    <tr>\n      <th>50%</th>\n      <td>1417.000000</td>\n      <td>34.000000</td>\n      <td>60087.000000</td>\n      <td>1.000000</td>\n      <td>2.000000</td>\n      <td>2.500000e+05</td>\n      <td>2.000000</td>\n    </tr>\n    <tr>\n      <th>75%</th>\n      <td>2137.000000</td>\n      <td>39.000000</td>\n      <td>83969.000000</td>\n      <td>2.000000</td>\n      <td>3.000000</td>\n      <td>6.997000e+05</td>\n      <td>3.000000</td>\n    </tr>\n    <tr>\n      <th>max</th>\n      <td>2788.000000</td>\n      <td>58.000000</td>\n      <td>188418.000000</td>\n      <td>5.000000</td>\n      <td>5.000000</td>\n      <td>3.374772e+07</td>\n      <td>4.000000</td>\n    </tr>\n  </tbody>\n</table>\n</div>"
     },
     "metadata": {},
     "output_type": "display_data"
    },
    {
     "data": {
      "text/plain": "            MMM-YY Gender   City Education_Level Dateofjoining LastWorkingDate\ncount        19104  19104  19104           19104         19104            1616\nunique          24      2     29               3           869             493\ntop     2016-01-01   Male    C20        Bachelor    2012-07-23      2017-07-29\nfreq          1022  11103   1008            6864           192              70",
      "text/html": "<div>\n<style scoped>\n    .dataframe tbody tr th:only-of-type {\n        vertical-align: middle;\n    }\n\n    .dataframe tbody tr th {\n        vertical-align: top;\n    }\n\n    .dataframe thead th {\n        text-align: right;\n    }\n</style>\n<table border=\"1\" class=\"dataframe\">\n  <thead>\n    <tr style=\"text-align: right;\">\n      <th></th>\n      <th>MMM-YY</th>\n      <th>Gender</th>\n      <th>City</th>\n      <th>Education_Level</th>\n      <th>Dateofjoining</th>\n      <th>LastWorkingDate</th>\n    </tr>\n  </thead>\n  <tbody>\n    <tr>\n      <th>count</th>\n      <td>19104</td>\n      <td>19104</td>\n      <td>19104</td>\n      <td>19104</td>\n      <td>19104</td>\n      <td>1616</td>\n    </tr>\n    <tr>\n      <th>unique</th>\n      <td>24</td>\n      <td>2</td>\n      <td>29</td>\n      <td>3</td>\n      <td>869</td>\n      <td>493</td>\n    </tr>\n    <tr>\n      <th>top</th>\n      <td>2016-01-01</td>\n      <td>Male</td>\n      <td>C20</td>\n      <td>Bachelor</td>\n      <td>2012-07-23</td>\n      <td>2017-07-29</td>\n    </tr>\n    <tr>\n      <th>freq</th>\n      <td>1022</td>\n      <td>11103</td>\n      <td>1008</td>\n      <td>6864</td>\n      <td>192</td>\n      <td>70</td>\n    </tr>\n  </tbody>\n</table>\n</div>"
     },
     "metadata": {},
     "output_type": "display_data"
    },
    {
     "data": {
      "text/plain": "MMM-YY                      0\nEmp_ID                      0\nAge                         0\nGender                      0\nCity                        0\nEducation_Level             0\nSalary                      0\nDateofjoining               0\nLastWorkingDate         17488\nJoining Designation         0\nDesignation                 0\nTotal Business Value        0\nQuarterly Rating            0\ndtype: int64"
     },
     "metadata": {},
     "output_type": "display_data"
    },
    {
     "data": {
      "text/plain": "(19104, 13)"
     },
     "metadata": {},
     "output_type": "display_data"
    },
    {
     "data": {
      "text/plain": "0"
     },
     "metadata": {},
     "output_type": "display_data"
    }
   ]
  },
  {
   "cell_type": "code",
   "execution_count": 11,
   "outputs": [
    {
     "name": "stdout",
     "text": [
      "<class 'pandas._libs.tslibs.timestamps.Timestamp'>\n"
     ],
     "output_type": "stream"
    }
   ],
   "source": [
    "print(type(train['date'][0]))"
   ],
   "metadata": {
    "collapsed": false,
    "pycharm": {
     "name": "#%%\n",
     "is_executing": false
    }
   }
  },
  {
   "cell_type": "code",
   "metadata": {
    "id": "FRAUNyrInGPR",
    "pycharm": {
     "is_executing": false
    }
   },
   "source": [
    "train['date'] = pd.to_datetime(train['MMM-YY'], format='%Y-%m-%d')\n",
    "train['LastWorkingDate'] = pd.to_datetime(train['LastWorkingDate'], format='%Y-%m-%d')\n",
    "\n",
    "print(train.date.min(), train.date.max())\n",
    "max_date = pd.datetime.today()  # to adapt easier for other datetime windows\n",
    "train['LastMonthOnWork'] = train['LastWorkingDate'].fillna(max_date).dt.to_period('M').dt.to_timestamp()\n",
    "train['MonthsTillLast'] = ((train.LastMonthOnWork - train.date)/np.timedelta64(1, 'M')).astype(int)"
   ],
   "execution_count": 24,
   "outputs": [
    {
     "name": "stdout",
     "text": [
      "2016-01-01 00:00:00 2017-12-01 00:00:00\n"
     ],
     "output_type": "stream"
    },
    {
     "name": "stderr",
     "text": [
      "<ipython-input-24-816818db1f82>:5: FutureWarning: The pandas.datetime class is deprecated and will be removed from pandas in a future version. Import from datetime module instead.\n  max_date = pd.datetime.today()  # to adapt easier for other datetime windows\n"
     ],
     "output_type": "stream"
    }
   ]
  },
  {
   "cell_type": "code",
   "execution_count": 25,
   "outputs": [
    {
     "name": "stdout",
     "text": [
      "Head:\n",
      "\nInfo:\n<class 'pandas.core.frame.DataFrame'>\nRangeIndex: 19104 entries, 0 to 19103\nData columns (total 17 columns):\n #   Column                Non-Null Count  Dtype         \n---  ------                --------------  -----         \n 0   MMM-YY                19104 non-null  object        \n 1   Emp_ID                19104 non-null  int64         \n 2   Age                   19104 non-null  int64         \n 3   Gender                19104 non-null  object        \n 4   City                  19104 non-null  object        \n 5   Education_Level       19104 non-null  object        \n 6   Salary                19104 non-null  int64         \n 7   Dateofjoining         19104 non-null  object        \n 8   LastWorkingDate       1616 non-null   datetime64[ns]\n 9   Joining Designation   19104 non-null  int64         \n 10  Designation           19104 non-null  int64         \n 11  Total Business Value  19104 non-null  int64         \n 12  Quarterly Rating      19104 non-null  int64         \n 13  date                  19104 non-null  datetime64[ns]\n 14  LastDateOnWork        19104 non-null  datetime64[ns]\n 15  LastMonthOnWork       19104 non-null  datetime64[ns]\n 16  MonthsTillLast        19104 non-null  int64         \ndtypes: datetime64[ns](4), int64(8), object(5)\nmemory usage: 2.5+ MB\n",
      "\nDescription of quantitative parameters:\n",
      "\nDescription of categorical parameters:\n",
      "\nColumns with NaN values:\n",
      "\nShape:\n",
      "\nNumber of duplicated rows:\n"
     ],
     "output_type": "stream"
    },
    {
     "data": {
      "text/plain": "       MMM-YY  Emp_ID  Age Gender City Education_Level  Salary Dateofjoining  \\\n0  2016-01-01       1   28   Male  C23          Master   57387    2015-12-24   \n1  2016-02-01       1   28   Male  C23          Master   57387    2015-12-24   \n2  2016-03-01       1   28   Male  C23          Master   57387    2015-12-24   \n3  2017-11-01       2   31   Male   C7          Master   67016    2017-11-06   \n4  2017-12-01       2   31   Male   C7          Master   67016    2017-11-06   \n\n  LastWorkingDate  Joining Designation  Designation  Total Business Value  \\\n0             NaT                    1            1               2381060   \n1             NaT                    1            1               -665480   \n2      2016-03-11                    1            1                     0   \n3             NaT                    2            2                     0   \n4             NaT                    2            2                     0   \n\n   Quarterly Rating       date             LastDateOnWork LastMonthOnWork  \\\n0                 2 2016-01-01 2021-04-16 19:47:22.708024      2021-04-01   \n1                 2 2016-02-01 2021-04-16 19:47:22.708024      2021-04-01   \n2                 2 2016-03-01 2016-03-11 00:00:00.000000      2016-03-01   \n3                 1 2017-11-01 2021-04-16 19:47:22.708024      2021-04-01   \n4                 1 2017-12-01 2021-04-16 19:47:22.708024      2021-04-01   \n\n   MonthsTillLast  \n0              62  \n1              61  \n2               0  \n3              40  \n4              39  ",
      "text/html": "<div>\n<style scoped>\n    .dataframe tbody tr th:only-of-type {\n        vertical-align: middle;\n    }\n\n    .dataframe tbody tr th {\n        vertical-align: top;\n    }\n\n    .dataframe thead th {\n        text-align: right;\n    }\n</style>\n<table border=\"1\" class=\"dataframe\">\n  <thead>\n    <tr style=\"text-align: right;\">\n      <th></th>\n      <th>MMM-YY</th>\n      <th>Emp_ID</th>\n      <th>Age</th>\n      <th>Gender</th>\n      <th>City</th>\n      <th>Education_Level</th>\n      <th>Salary</th>\n      <th>Dateofjoining</th>\n      <th>LastWorkingDate</th>\n      <th>Joining Designation</th>\n      <th>Designation</th>\n      <th>Total Business Value</th>\n      <th>Quarterly Rating</th>\n      <th>date</th>\n      <th>LastDateOnWork</th>\n      <th>LastMonthOnWork</th>\n      <th>MonthsTillLast</th>\n    </tr>\n  </thead>\n  <tbody>\n    <tr>\n      <th>0</th>\n      <td>2016-01-01</td>\n      <td>1</td>\n      <td>28</td>\n      <td>Male</td>\n      <td>C23</td>\n      <td>Master</td>\n      <td>57387</td>\n      <td>2015-12-24</td>\n      <td>NaT</td>\n      <td>1</td>\n      <td>1</td>\n      <td>2381060</td>\n      <td>2</td>\n      <td>2016-01-01</td>\n      <td>2021-04-16 19:47:22.708024</td>\n      <td>2021-04-01</td>\n      <td>62</td>\n    </tr>\n    <tr>\n      <th>1</th>\n      <td>2016-02-01</td>\n      <td>1</td>\n      <td>28</td>\n      <td>Male</td>\n      <td>C23</td>\n      <td>Master</td>\n      <td>57387</td>\n      <td>2015-12-24</td>\n      <td>NaT</td>\n      <td>1</td>\n      <td>1</td>\n      <td>-665480</td>\n      <td>2</td>\n      <td>2016-02-01</td>\n      <td>2021-04-16 19:47:22.708024</td>\n      <td>2021-04-01</td>\n      <td>61</td>\n    </tr>\n    <tr>\n      <th>2</th>\n      <td>2016-03-01</td>\n      <td>1</td>\n      <td>28</td>\n      <td>Male</td>\n      <td>C23</td>\n      <td>Master</td>\n      <td>57387</td>\n      <td>2015-12-24</td>\n      <td>2016-03-11</td>\n      <td>1</td>\n      <td>1</td>\n      <td>0</td>\n      <td>2</td>\n      <td>2016-03-01</td>\n      <td>2016-03-11 00:00:00.000000</td>\n      <td>2016-03-01</td>\n      <td>0</td>\n    </tr>\n    <tr>\n      <th>3</th>\n      <td>2017-11-01</td>\n      <td>2</td>\n      <td>31</td>\n      <td>Male</td>\n      <td>C7</td>\n      <td>Master</td>\n      <td>67016</td>\n      <td>2017-11-06</td>\n      <td>NaT</td>\n      <td>2</td>\n      <td>2</td>\n      <td>0</td>\n      <td>1</td>\n      <td>2017-11-01</td>\n      <td>2021-04-16 19:47:22.708024</td>\n      <td>2021-04-01</td>\n      <td>40</td>\n    </tr>\n    <tr>\n      <th>4</th>\n      <td>2017-12-01</td>\n      <td>2</td>\n      <td>31</td>\n      <td>Male</td>\n      <td>C7</td>\n      <td>Master</td>\n      <td>67016</td>\n      <td>2017-11-06</td>\n      <td>NaT</td>\n      <td>2</td>\n      <td>2</td>\n      <td>0</td>\n      <td>1</td>\n      <td>2017-12-01</td>\n      <td>2021-04-16 19:47:22.708024</td>\n      <td>2021-04-01</td>\n      <td>39</td>\n    </tr>\n  </tbody>\n</table>\n</div>"
     },
     "metadata": {},
     "output_type": "display_data"
    },
    {
     "data": {
      "text/plain": "None"
     },
     "metadata": {},
     "output_type": "display_data"
    },
    {
     "data": {
      "text/plain": "             Emp_ID           Age         Salary  Joining Designation  \\\ncount  19104.000000  19104.000000   19104.000000         19104.000000   \nmean    1415.591133     34.650283   65652.025126             1.690536   \nstd      810.705321      6.264471   30914.515344             0.836984   \nmin        1.000000     21.000000   10747.000000             1.000000   \n25%      710.000000     30.000000   42383.000000             1.000000   \n50%     1417.000000     34.000000   60087.000000             1.000000   \n75%     2137.000000     39.000000   83969.000000             2.000000   \nmax     2788.000000     58.000000  188418.000000             5.000000   \n\n        Designation  Total Business Value  Quarterly Rating  MonthsTillLast  \ncount  19104.000000          1.910400e+04      19104.000000    19104.000000  \nmean       2.252670          5.716621e+05          2.008899       46.638557  \nstd        1.026512          1.128312e+06          1.009832       15.771887  \nmin        1.000000         -6.000000e+06          1.000000       -1.000000  \n25%        1.000000          0.000000e+00          1.000000       43.000000  \n50%        2.000000          2.500000e+05          2.000000       50.000000  \n75%        3.000000          6.997000e+05          3.000000       57.000000  \nmax        5.000000          3.374772e+07          4.000000       62.000000  ",
      "text/html": "<div>\n<style scoped>\n    .dataframe tbody tr th:only-of-type {\n        vertical-align: middle;\n    }\n\n    .dataframe tbody tr th {\n        vertical-align: top;\n    }\n\n    .dataframe thead th {\n        text-align: right;\n    }\n</style>\n<table border=\"1\" class=\"dataframe\">\n  <thead>\n    <tr style=\"text-align: right;\">\n      <th></th>\n      <th>Emp_ID</th>\n      <th>Age</th>\n      <th>Salary</th>\n      <th>Joining Designation</th>\n      <th>Designation</th>\n      <th>Total Business Value</th>\n      <th>Quarterly Rating</th>\n      <th>MonthsTillLast</th>\n    </tr>\n  </thead>\n  <tbody>\n    <tr>\n      <th>count</th>\n      <td>19104.000000</td>\n      <td>19104.000000</td>\n      <td>19104.000000</td>\n      <td>19104.000000</td>\n      <td>19104.000000</td>\n      <td>1.910400e+04</td>\n      <td>19104.000000</td>\n      <td>19104.000000</td>\n    </tr>\n    <tr>\n      <th>mean</th>\n      <td>1415.591133</td>\n      <td>34.650283</td>\n      <td>65652.025126</td>\n      <td>1.690536</td>\n      <td>2.252670</td>\n      <td>5.716621e+05</td>\n      <td>2.008899</td>\n      <td>46.638557</td>\n    </tr>\n    <tr>\n      <th>std</th>\n      <td>810.705321</td>\n      <td>6.264471</td>\n      <td>30914.515344</td>\n      <td>0.836984</td>\n      <td>1.026512</td>\n      <td>1.128312e+06</td>\n      <td>1.009832</td>\n      <td>15.771887</td>\n    </tr>\n    <tr>\n      <th>min</th>\n      <td>1.000000</td>\n      <td>21.000000</td>\n      <td>10747.000000</td>\n      <td>1.000000</td>\n      <td>1.000000</td>\n      <td>-6.000000e+06</td>\n      <td>1.000000</td>\n      <td>-1.000000</td>\n    </tr>\n    <tr>\n      <th>25%</th>\n      <td>710.000000</td>\n      <td>30.000000</td>\n      <td>42383.000000</td>\n      <td>1.000000</td>\n      <td>1.000000</td>\n      <td>0.000000e+00</td>\n      <td>1.000000</td>\n      <td>43.000000</td>\n    </tr>\n    <tr>\n      <th>50%</th>\n      <td>1417.000000</td>\n      <td>34.000000</td>\n      <td>60087.000000</td>\n      <td>1.000000</td>\n      <td>2.000000</td>\n      <td>2.500000e+05</td>\n      <td>2.000000</td>\n      <td>50.000000</td>\n    </tr>\n    <tr>\n      <th>75%</th>\n      <td>2137.000000</td>\n      <td>39.000000</td>\n      <td>83969.000000</td>\n      <td>2.000000</td>\n      <td>3.000000</td>\n      <td>6.997000e+05</td>\n      <td>3.000000</td>\n      <td>57.000000</td>\n    </tr>\n    <tr>\n      <th>max</th>\n      <td>2788.000000</td>\n      <td>58.000000</td>\n      <td>188418.000000</td>\n      <td>5.000000</td>\n      <td>5.000000</td>\n      <td>3.374772e+07</td>\n      <td>4.000000</td>\n      <td>62.000000</td>\n    </tr>\n  </tbody>\n</table>\n</div>"
     },
     "metadata": {},
     "output_type": "display_data"
    },
    {
     "data": {
      "text/plain": "            MMM-YY Gender   City Education_Level Dateofjoining\ncount        19104  19104  19104           19104         19104\nunique          24      2     29               3           869\ntop     2016-01-01   Male    C20        Bachelor    2012-07-23\nfreq          1022  11103   1008            6864           192",
      "text/html": "<div>\n<style scoped>\n    .dataframe tbody tr th:only-of-type {\n        vertical-align: middle;\n    }\n\n    .dataframe tbody tr th {\n        vertical-align: top;\n    }\n\n    .dataframe thead th {\n        text-align: right;\n    }\n</style>\n<table border=\"1\" class=\"dataframe\">\n  <thead>\n    <tr style=\"text-align: right;\">\n      <th></th>\n      <th>MMM-YY</th>\n      <th>Gender</th>\n      <th>City</th>\n      <th>Education_Level</th>\n      <th>Dateofjoining</th>\n    </tr>\n  </thead>\n  <tbody>\n    <tr>\n      <th>count</th>\n      <td>19104</td>\n      <td>19104</td>\n      <td>19104</td>\n      <td>19104</td>\n      <td>19104</td>\n    </tr>\n    <tr>\n      <th>unique</th>\n      <td>24</td>\n      <td>2</td>\n      <td>29</td>\n      <td>3</td>\n      <td>869</td>\n    </tr>\n    <tr>\n      <th>top</th>\n      <td>2016-01-01</td>\n      <td>Male</td>\n      <td>C20</td>\n      <td>Bachelor</td>\n      <td>2012-07-23</td>\n    </tr>\n    <tr>\n      <th>freq</th>\n      <td>1022</td>\n      <td>11103</td>\n      <td>1008</td>\n      <td>6864</td>\n      <td>192</td>\n    </tr>\n  </tbody>\n</table>\n</div>"
     },
     "metadata": {},
     "output_type": "display_data"
    },
    {
     "data": {
      "text/plain": "MMM-YY                      0\nEmp_ID                      0\nAge                         0\nGender                      0\nCity                        0\nEducation_Level             0\nSalary                      0\nDateofjoining               0\nLastWorkingDate         17488\nJoining Designation         0\nDesignation                 0\nTotal Business Value        0\nQuarterly Rating            0\ndate                        0\nLastDateOnWork              0\nLastMonthOnWork             0\nMonthsTillLast              0\ndtype: int64"
     },
     "metadata": {},
     "output_type": "display_data"
    },
    {
     "data": {
      "text/plain": "(19104, 17)"
     },
     "metadata": {},
     "output_type": "display_data"
    },
    {
     "data": {
      "text/plain": "0"
     },
     "metadata": {},
     "output_type": "display_data"
    }
   ],
   "source": [
    "get_info(train)\n"
   ],
   "metadata": {
    "collapsed": false,
    "pycharm": {
     "name": "#%%\n",
     "is_executing": false
    }
   }
  }
 ]
}