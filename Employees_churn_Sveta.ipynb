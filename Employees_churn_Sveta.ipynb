{
 "cells": [
  {
   "cell_type": "code",
   "execution_count": 264,
   "metadata": {
    "id": "zq-8-C8eed5R"
   },
   "outputs": [],
   "source": [
    "import pandas as pd\n",
    "import numpy as np\n",
    "import math\n",
    "import seaborn as sb\n",
    "\n",
    "import matplotlib.pyplot as plt\n",
    "\n",
    "from sklearn.model_selection import train_test_split\n",
    "from sklearn.linear_model import LogisticRegression\n",
    "from sklearn.ensemble import RandomForestClassifier, GradientBoostingClassifier\n",
    "from sklearn.pipeline import make_pipeline\n",
    "from sklearn.preprocessing import StandardScaler\n",
    "from sklearn.model_selection import GridSearchCV\n",
    "from sklearn.metrics import confusion_matrix, accuracy_score, f1_score, roc_curve, roc_auc_score\n",
    "import pickle\n",
    "#https://docs.google.com/spreadsheets/d/1OdjccfGlv3lsuiWgIAHbE8id91FpVaU2EsaZo5kknaA/edit?usp=sharing"
   ]
  },
  {
   "cell_type": "code",
   "execution_count": 177,
   "metadata": {
    "id": "amQW7dmnkS_d"
   },
   "outputs": [],
   "source": [
    "\n",
    "from io import BytesIO\n",
    "import requests\n",
    "spreadsheet_id = '1OdjccfGlv3lsuiWgIAHbE8id91FpVaU2EsaZo5kknaA'\n",
    "file_name = 'https://docs.google.com/spreadsheets/d/{}/export?format=csv'.format(spreadsheet_id)\n",
    "r = requests.get(file_name)\n",
    "df = pd.read_csv(BytesIO(r.content))\n"
   ]
  },
  {
   "cell_type": "code",
   "execution_count": 178,
   "metadata": {
    "colab": {
     "base_uri": "https://localhost:8080/"
    },
    "id": "eQ_ClVDDlgkf",
    "outputId": "28032429-acd4-4c12-f8a7-08820396d85e"
   },
   "outputs": [
    {
     "name": "stdout",
     "output_type": "stream",
     "text": [
      "<class 'pandas.core.frame.DataFrame'>\n",
      "RangeIndex: 19104 entries, 0 to 19103\n",
      "Data columns (total 13 columns):\n",
      "MMM-YY                  19104 non-null object\n",
      "Emp_ID                  19104 non-null int64\n",
      "Age                     19104 non-null int64\n",
      "Gender                  19104 non-null object\n",
      "City                    19104 non-null object\n",
      "Education_Level         19104 non-null object\n",
      "Salary                  19104 non-null int64\n",
      "Dateofjoining           19104 non-null object\n",
      "LastWorkingDate         1616 non-null object\n",
      "Joining Designation     19104 non-null int64\n",
      "Designation             19104 non-null int64\n",
      "Total Business Value    19104 non-null int64\n",
      "Quarterly Rating        19104 non-null int64\n",
      "dtypes: int64(7), object(6)\n",
      "memory usage: 1.9+ MB\n"
     ]
    }
   ],
   "source": [
    "df.info()\n",
    "\n",
    "# Convert string to datetime\n",
    "\n",
    "df['MMM-YY'] = pd.to_datetime(df['MMM-YY'], format='%Y-%m-%d')\n",
    "df['Dateofjoining'] = pd.to_datetime(df['Dateofjoining'], format='%Y-%m-%d')\n",
    "df['LastWorkingDate'] = pd.to_datetime(df['LastWorkingDate'], format='%Y-%m-%d')"
   ]
  },
  {
   "cell_type": "code",
   "execution_count": 179,
   "metadata": {
    "id": "QTNumWUBlxQy"
   },
   "outputs": [],
   "source": [
    "def get_info(df):\n",
    "\n",
    "    print(\"Head:\")\n",
    "    display(df.head())\n",
    "    print()\n",
    "    \n",
    "    print(\"Info:\")\n",
    "    display(df.info())\n",
    "    print()\n",
    "    \n",
    "    print(\"Description of quantitative parameters:\")\n",
    "    display(df.describe())\n",
    "    print()\n",
    "    \n",
    "    print(\"Description of categorical parameters:\")\n",
    "    display(df.describe(include='object'))\n",
    "    print()\n",
    "    \n",
    "    print(\"Columns with NaN values:\")\n",
    "    display(df.isna().sum())\n",
    "    print()\n",
    "    \n",
    "    print(\"Shape:\")\n",
    "    display(df.shape)\n",
    "    print()\n",
    "    \n",
    "    print(\"Number of duplicated rows:\")\n",
    "    display(df.duplicated().sum())  "
   ]
  },
  {
   "cell_type": "code",
   "execution_count": 180,
   "metadata": {
    "colab": {
     "base_uri": "https://localhost:8080/",
     "height": 1000
    },
    "id": "c7M2iRSHnBke",
    "outputId": "aa1776d2-6a6c-492f-a47e-382df41fbed3"
   },
   "outputs": [
    {
     "name": "stdout",
     "output_type": "stream",
     "text": [
      "Head:\n"
     ]
    },
    {
     "data": {
      "text/html": [
       "<div>\n",
       "<style scoped>\n",
       "    .dataframe tbody tr th:only-of-type {\n",
       "        vertical-align: middle;\n",
       "    }\n",
       "\n",
       "    .dataframe tbody tr th {\n",
       "        vertical-align: top;\n",
       "    }\n",
       "\n",
       "    .dataframe thead th {\n",
       "        text-align: right;\n",
       "    }\n",
       "</style>\n",
       "<table border=\"1\" class=\"dataframe\">\n",
       "  <thead>\n",
       "    <tr style=\"text-align: right;\">\n",
       "      <th></th>\n",
       "      <th>MMM-YY</th>\n",
       "      <th>Emp_ID</th>\n",
       "      <th>Age</th>\n",
       "      <th>Gender</th>\n",
       "      <th>City</th>\n",
       "      <th>Education_Level</th>\n",
       "      <th>Salary</th>\n",
       "      <th>Dateofjoining</th>\n",
       "      <th>LastWorkingDate</th>\n",
       "      <th>Joining Designation</th>\n",
       "      <th>Designation</th>\n",
       "      <th>Total Business Value</th>\n",
       "      <th>Quarterly Rating</th>\n",
       "    </tr>\n",
       "  </thead>\n",
       "  <tbody>\n",
       "    <tr>\n",
       "      <th>0</th>\n",
       "      <td>2016-01-01</td>\n",
       "      <td>1</td>\n",
       "      <td>28</td>\n",
       "      <td>Male</td>\n",
       "      <td>C23</td>\n",
       "      <td>Master</td>\n",
       "      <td>57387</td>\n",
       "      <td>2015-12-24</td>\n",
       "      <td>NaT</td>\n",
       "      <td>1</td>\n",
       "      <td>1</td>\n",
       "      <td>2381060</td>\n",
       "      <td>2</td>\n",
       "    </tr>\n",
       "    <tr>\n",
       "      <th>1</th>\n",
       "      <td>2016-02-01</td>\n",
       "      <td>1</td>\n",
       "      <td>28</td>\n",
       "      <td>Male</td>\n",
       "      <td>C23</td>\n",
       "      <td>Master</td>\n",
       "      <td>57387</td>\n",
       "      <td>2015-12-24</td>\n",
       "      <td>NaT</td>\n",
       "      <td>1</td>\n",
       "      <td>1</td>\n",
       "      <td>-665480</td>\n",
       "      <td>2</td>\n",
       "    </tr>\n",
       "    <tr>\n",
       "      <th>2</th>\n",
       "      <td>2016-03-01</td>\n",
       "      <td>1</td>\n",
       "      <td>28</td>\n",
       "      <td>Male</td>\n",
       "      <td>C23</td>\n",
       "      <td>Master</td>\n",
       "      <td>57387</td>\n",
       "      <td>2015-12-24</td>\n",
       "      <td>2016-03-11</td>\n",
       "      <td>1</td>\n",
       "      <td>1</td>\n",
       "      <td>0</td>\n",
       "      <td>2</td>\n",
       "    </tr>\n",
       "    <tr>\n",
       "      <th>3</th>\n",
       "      <td>2017-11-01</td>\n",
       "      <td>2</td>\n",
       "      <td>31</td>\n",
       "      <td>Male</td>\n",
       "      <td>C7</td>\n",
       "      <td>Master</td>\n",
       "      <td>67016</td>\n",
       "      <td>2017-11-06</td>\n",
       "      <td>NaT</td>\n",
       "      <td>2</td>\n",
       "      <td>2</td>\n",
       "      <td>0</td>\n",
       "      <td>1</td>\n",
       "    </tr>\n",
       "    <tr>\n",
       "      <th>4</th>\n",
       "      <td>2017-12-01</td>\n",
       "      <td>2</td>\n",
       "      <td>31</td>\n",
       "      <td>Male</td>\n",
       "      <td>C7</td>\n",
       "      <td>Master</td>\n",
       "      <td>67016</td>\n",
       "      <td>2017-11-06</td>\n",
       "      <td>NaT</td>\n",
       "      <td>2</td>\n",
       "      <td>2</td>\n",
       "      <td>0</td>\n",
       "      <td>1</td>\n",
       "    </tr>\n",
       "  </tbody>\n",
       "</table>\n",
       "</div>"
      ],
      "text/plain": [
       "      MMM-YY  Emp_ID  Age Gender City Education_Level  Salary Dateofjoining  \\\n",
       "0 2016-01-01       1   28   Male  C23          Master   57387    2015-12-24   \n",
       "1 2016-02-01       1   28   Male  C23          Master   57387    2015-12-24   \n",
       "2 2016-03-01       1   28   Male  C23          Master   57387    2015-12-24   \n",
       "3 2017-11-01       2   31   Male   C7          Master   67016    2017-11-06   \n",
       "4 2017-12-01       2   31   Male   C7          Master   67016    2017-11-06   \n",
       "\n",
       "  LastWorkingDate  Joining Designation  Designation  Total Business Value  \\\n",
       "0             NaT                    1            1               2381060   \n",
       "1             NaT                    1            1               -665480   \n",
       "2      2016-03-11                    1            1                     0   \n",
       "3             NaT                    2            2                     0   \n",
       "4             NaT                    2            2                     0   \n",
       "\n",
       "   Quarterly Rating  \n",
       "0                 2  \n",
       "1                 2  \n",
       "2                 2  \n",
       "3                 1  \n",
       "4                 1  "
      ]
     },
     "metadata": {},
     "output_type": "display_data"
    },
    {
     "name": "stdout",
     "output_type": "stream",
     "text": [
      "\n",
      "Info:\n",
      "<class 'pandas.core.frame.DataFrame'>\n",
      "RangeIndex: 19104 entries, 0 to 19103\n",
      "Data columns (total 13 columns):\n",
      "MMM-YY                  19104 non-null datetime64[ns]\n",
      "Emp_ID                  19104 non-null int64\n",
      "Age                     19104 non-null int64\n",
      "Gender                  19104 non-null object\n",
      "City                    19104 non-null object\n",
      "Education_Level         19104 non-null object\n",
      "Salary                  19104 non-null int64\n",
      "Dateofjoining           19104 non-null datetime64[ns]\n",
      "LastWorkingDate         1616 non-null datetime64[ns]\n",
      "Joining Designation     19104 non-null int64\n",
      "Designation             19104 non-null int64\n",
      "Total Business Value    19104 non-null int64\n",
      "Quarterly Rating        19104 non-null int64\n",
      "dtypes: datetime64[ns](3), int64(7), object(3)\n",
      "memory usage: 1.9+ MB\n"
     ]
    },
    {
     "data": {
      "text/plain": [
       "None"
      ]
     },
     "metadata": {},
     "output_type": "display_data"
    },
    {
     "name": "stdout",
     "output_type": "stream",
     "text": [
      "\n",
      "Description of quantitative parameters:\n"
     ]
    },
    {
     "data": {
      "text/html": [
       "<div>\n",
       "<style scoped>\n",
       "    .dataframe tbody tr th:only-of-type {\n",
       "        vertical-align: middle;\n",
       "    }\n",
       "\n",
       "    .dataframe tbody tr th {\n",
       "        vertical-align: top;\n",
       "    }\n",
       "\n",
       "    .dataframe thead th {\n",
       "        text-align: right;\n",
       "    }\n",
       "</style>\n",
       "<table border=\"1\" class=\"dataframe\">\n",
       "  <thead>\n",
       "    <tr style=\"text-align: right;\">\n",
       "      <th></th>\n",
       "      <th>Emp_ID</th>\n",
       "      <th>Age</th>\n",
       "      <th>Salary</th>\n",
       "      <th>Joining Designation</th>\n",
       "      <th>Designation</th>\n",
       "      <th>Total Business Value</th>\n",
       "      <th>Quarterly Rating</th>\n",
       "    </tr>\n",
       "  </thead>\n",
       "  <tbody>\n",
       "    <tr>\n",
       "      <th>count</th>\n",
       "      <td>19104.000000</td>\n",
       "      <td>19104.000000</td>\n",
       "      <td>19104.000000</td>\n",
       "      <td>19104.000000</td>\n",
       "      <td>19104.000000</td>\n",
       "      <td>1.910400e+04</td>\n",
       "      <td>19104.000000</td>\n",
       "    </tr>\n",
       "    <tr>\n",
       "      <th>mean</th>\n",
       "      <td>1415.591133</td>\n",
       "      <td>34.650283</td>\n",
       "      <td>65652.025126</td>\n",
       "      <td>1.690536</td>\n",
       "      <td>2.252670</td>\n",
       "      <td>5.716621e+05</td>\n",
       "      <td>2.008899</td>\n",
       "    </tr>\n",
       "    <tr>\n",
       "      <th>std</th>\n",
       "      <td>810.705321</td>\n",
       "      <td>6.264471</td>\n",
       "      <td>30914.515344</td>\n",
       "      <td>0.836984</td>\n",
       "      <td>1.026512</td>\n",
       "      <td>1.128312e+06</td>\n",
       "      <td>1.009832</td>\n",
       "    </tr>\n",
       "    <tr>\n",
       "      <th>min</th>\n",
       "      <td>1.000000</td>\n",
       "      <td>21.000000</td>\n",
       "      <td>10747.000000</td>\n",
       "      <td>1.000000</td>\n",
       "      <td>1.000000</td>\n",
       "      <td>-6.000000e+06</td>\n",
       "      <td>1.000000</td>\n",
       "    </tr>\n",
       "    <tr>\n",
       "      <th>25%</th>\n",
       "      <td>710.000000</td>\n",
       "      <td>30.000000</td>\n",
       "      <td>42383.000000</td>\n",
       "      <td>1.000000</td>\n",
       "      <td>1.000000</td>\n",
       "      <td>0.000000e+00</td>\n",
       "      <td>1.000000</td>\n",
       "    </tr>\n",
       "    <tr>\n",
       "      <th>50%</th>\n",
       "      <td>1417.000000</td>\n",
       "      <td>34.000000</td>\n",
       "      <td>60087.000000</td>\n",
       "      <td>1.000000</td>\n",
       "      <td>2.000000</td>\n",
       "      <td>2.500000e+05</td>\n",
       "      <td>2.000000</td>\n",
       "    </tr>\n",
       "    <tr>\n",
       "      <th>75%</th>\n",
       "      <td>2137.000000</td>\n",
       "      <td>39.000000</td>\n",
       "      <td>83969.000000</td>\n",
       "      <td>2.000000</td>\n",
       "      <td>3.000000</td>\n",
       "      <td>6.997000e+05</td>\n",
       "      <td>3.000000</td>\n",
       "    </tr>\n",
       "    <tr>\n",
       "      <th>max</th>\n",
       "      <td>2788.000000</td>\n",
       "      <td>58.000000</td>\n",
       "      <td>188418.000000</td>\n",
       "      <td>5.000000</td>\n",
       "      <td>5.000000</td>\n",
       "      <td>3.374772e+07</td>\n",
       "      <td>4.000000</td>\n",
       "    </tr>\n",
       "  </tbody>\n",
       "</table>\n",
       "</div>"
      ],
      "text/plain": [
       "             Emp_ID           Age         Salary  Joining Designation  \\\n",
       "count  19104.000000  19104.000000   19104.000000         19104.000000   \n",
       "mean    1415.591133     34.650283   65652.025126             1.690536   \n",
       "std      810.705321      6.264471   30914.515344             0.836984   \n",
       "min        1.000000     21.000000   10747.000000             1.000000   \n",
       "25%      710.000000     30.000000   42383.000000             1.000000   \n",
       "50%     1417.000000     34.000000   60087.000000             1.000000   \n",
       "75%     2137.000000     39.000000   83969.000000             2.000000   \n",
       "max     2788.000000     58.000000  188418.000000             5.000000   \n",
       "\n",
       "        Designation  Total Business Value  Quarterly Rating  \n",
       "count  19104.000000          1.910400e+04      19104.000000  \n",
       "mean       2.252670          5.716621e+05          2.008899  \n",
       "std        1.026512          1.128312e+06          1.009832  \n",
       "min        1.000000         -6.000000e+06          1.000000  \n",
       "25%        1.000000          0.000000e+00          1.000000  \n",
       "50%        2.000000          2.500000e+05          2.000000  \n",
       "75%        3.000000          6.997000e+05          3.000000  \n",
       "max        5.000000          3.374772e+07          4.000000  "
      ]
     },
     "metadata": {},
     "output_type": "display_data"
    },
    {
     "name": "stdout",
     "output_type": "stream",
     "text": [
      "\n",
      "Description of categorical parameters:\n"
     ]
    },
    {
     "data": {
      "text/html": [
       "<div>\n",
       "<style scoped>\n",
       "    .dataframe tbody tr th:only-of-type {\n",
       "        vertical-align: middle;\n",
       "    }\n",
       "\n",
       "    .dataframe tbody tr th {\n",
       "        vertical-align: top;\n",
       "    }\n",
       "\n",
       "    .dataframe thead th {\n",
       "        text-align: right;\n",
       "    }\n",
       "</style>\n",
       "<table border=\"1\" class=\"dataframe\">\n",
       "  <thead>\n",
       "    <tr style=\"text-align: right;\">\n",
       "      <th></th>\n",
       "      <th>Gender</th>\n",
       "      <th>City</th>\n",
       "      <th>Education_Level</th>\n",
       "    </tr>\n",
       "  </thead>\n",
       "  <tbody>\n",
       "    <tr>\n",
       "      <th>count</th>\n",
       "      <td>19104</td>\n",
       "      <td>19104</td>\n",
       "      <td>19104</td>\n",
       "    </tr>\n",
       "    <tr>\n",
       "      <th>unique</th>\n",
       "      <td>2</td>\n",
       "      <td>29</td>\n",
       "      <td>3</td>\n",
       "    </tr>\n",
       "    <tr>\n",
       "      <th>top</th>\n",
       "      <td>Male</td>\n",
       "      <td>C20</td>\n",
       "      <td>Bachelor</td>\n",
       "    </tr>\n",
       "    <tr>\n",
       "      <th>freq</th>\n",
       "      <td>11103</td>\n",
       "      <td>1008</td>\n",
       "      <td>6864</td>\n",
       "    </tr>\n",
       "  </tbody>\n",
       "</table>\n",
       "</div>"
      ],
      "text/plain": [
       "       Gender   City Education_Level\n",
       "count   19104  19104           19104\n",
       "unique      2     29               3\n",
       "top      Male    C20        Bachelor\n",
       "freq    11103   1008            6864"
      ]
     },
     "metadata": {},
     "output_type": "display_data"
    },
    {
     "name": "stdout",
     "output_type": "stream",
     "text": [
      "\n",
      "Columns with NaN values:\n"
     ]
    },
    {
     "data": {
      "text/plain": [
       "MMM-YY                      0\n",
       "Emp_ID                      0\n",
       "Age                         0\n",
       "Gender                      0\n",
       "City                        0\n",
       "Education_Level             0\n",
       "Salary                      0\n",
       "Dateofjoining               0\n",
       "LastWorkingDate         17488\n",
       "Joining Designation         0\n",
       "Designation                 0\n",
       "Total Business Value        0\n",
       "Quarterly Rating            0\n",
       "dtype: int64"
      ]
     },
     "metadata": {},
     "output_type": "display_data"
    },
    {
     "name": "stdout",
     "output_type": "stream",
     "text": [
      "\n",
      "Shape:\n"
     ]
    },
    {
     "data": {
      "text/plain": [
       "(19104, 13)"
      ]
     },
     "metadata": {},
     "output_type": "display_data"
    },
    {
     "name": "stdout",
     "output_type": "stream",
     "text": [
      "\n",
      "Number of duplicated rows:\n"
     ]
    },
    {
     "data": {
      "text/plain": [
       "0"
      ]
     },
     "metadata": {},
     "output_type": "display_data"
    }
   ],
   "source": [
    "get_info(df)"
   ]
  },
  {
   "cell_type": "code",
   "execution_count": 181,
   "metadata": {
    "id": "FRAUNyrInGPR"
   },
   "outputs": [
    {
     "data": {
      "text/plain": [
       "2381"
      ]
     },
     "execution_count": 181,
     "metadata": {},
     "output_type": "execute_result"
    }
   ],
   "source": [
    "df['Emp_ID'].nunique()"
   ]
  },
  {
   "cell_type": "code",
   "execution_count": 182,
   "metadata": {},
   "outputs": [],
   "source": [
    "ids = df['Emp_ID'].unique()"
   ]
  },
  {
   "cell_type": "code",
   "execution_count": 183,
   "metadata": {},
   "outputs": [
    {
     "data": {
      "text/plain": [
       "array(['Master', 'College', 'Bachelor'], dtype=object)"
      ]
     },
     "execution_count": 183,
     "metadata": {},
     "output_type": "execute_result"
    }
   ],
   "source": [
    "df['Education_Level'].unique()"
   ]
  },
  {
   "cell_type": "markdown",
   "metadata": {},
   "source": [
    "## Check whether education level changed"
   ]
  },
  {
   "cell_type": "code",
   "execution_count": 184,
   "metadata": {},
   "outputs": [],
   "source": [
    "def education(df, id):\n",
    "    temp = df.loc[df['Emp_ID'] == id]\n",
    "    if temp['Education_Level'].nunique() > 1:\n",
    "        return True\n",
    "    else:\n",
    "        return False"
   ]
  },
  {
   "cell_type": "code",
   "execution_count": 185,
   "metadata": {},
   "outputs": [
    {
     "name": "stdout",
     "output_type": "stream",
     "text": [
      "0\n"
     ]
    }
   ],
   "source": [
    "counter = 0\n",
    "for i in ids:\n",
    "    if (education(df, i)):\n",
    "        counter = counter + 1\n",
    "        \n",
    "print(counter)"
   ]
  },
  {
   "cell_type": "markdown",
   "metadata": {},
   "source": [
    "## Compare Designation and Salary"
   ]
  },
  {
   "cell_type": "code",
   "execution_count": 186,
   "metadata": {},
   "outputs": [],
   "source": [
    "salary_ids = []\n",
    "def salary(df, id):\n",
    "    temp = df.loc[df['Emp_ID'] == id]\n",
    "    if temp['Salary'].nunique() > 1:\n",
    "        salary_ids.append(id)\n",
    "        return True\n",
    "    else:\n",
    "        return False\n",
    "    \n",
    "designation_ids = []\n",
    "def designation(df, id):\n",
    "    temp = df.loc[df['Emp_ID'] == id]\n",
    "    if temp['Designation'].nunique() > 1:\n",
    "        designation_ids.append(id)\n",
    "        return True\n",
    "    else:\n",
    "        return False"
   ]
  },
  {
   "cell_type": "code",
   "execution_count": 187,
   "metadata": {},
   "outputs": [],
   "source": [
    "counter = 0\n",
    "for i in ids:\n",
    "    salary(df,i)\n",
    "    designation(df,i)"
   ]
  },
  {
   "cell_type": "code",
   "execution_count": 188,
   "metadata": {},
   "outputs": [
    {
     "name": "stdout",
     "output_type": "stream",
     "text": [
      "44\n",
      "Salary changed only for the people who had designation changed\n"
     ]
    }
   ],
   "source": [
    "print(len(salary_ids))\n",
    "#print(designation_ids)\n",
    "\n",
    "if (salary_ids == designation_ids):\n",
    "    print('Salary changed only for the people who had designation changed')"
   ]
  },
  {
   "cell_type": "code",
   "execution_count": null,
   "metadata": {},
   "outputs": [],
   "source": []
  },
  {
   "cell_type": "markdown",
   "metadata": {},
   "source": [
    "## Add columns"
   ]
  },
  {
   "cell_type": "code",
   "execution_count": 189,
   "metadata": {},
   "outputs": [],
   "source": [
    "employee_dfs = [df[df['Emp_ID'] == i] for i in ids]\n",
    "employee_features = {}\n",
    "for employee_df in employee_dfs:\n",
    "    id = employee_df.iloc[0]['Emp_ID']\n",
    "    employee_features[id] = {}\n",
    "    \n",
    "    employee_features[id]['Emp_ID'] = id\n",
    "    employee_features[id]['Salary Change'] = (employee_df['Salary'].max() - employee_df['Salary'].min()) / employee_df['Salary'].min()\n",
    "    #employee_features[id]['Salary changed'] = employee_features[id]['Salary Change'] != 0\n",
    "    employee_features[id]['Total Business Value All'] = employee_df['Total Business Value'].sum()\n",
    "    employee_features[id]['Overvalue'] = (employee_df['Total Business Value'] / employee_df['Salary']).mean()\n",
    "    \n",
    "    last_day = employee_df.tail(1)['LastWorkingDate'].iloc[-1]\n",
    "    if pd.isnull(last_day):\n",
    "        last_day = float('NaN')\n",
    "        last_working_day = pd.Timestamp(2017, 12, 1)\n",
    "    else:\n",
    "        last_working_day = last_day\n",
    "        \n",
    "    #employee_features[id]['LastWorkingDate'] = last_day\n",
    "    \n",
    "    join_date = employee_df[employee_df['Emp_ID'] == id]['Dateofjoining'].iloc[0]\n",
    "    #employee_features[id]['Dateofjoining'] = join_date\n",
    "        \n",
    "    # Work experience: for not-fired calculated at 01.12.2017 \n",
    "    employee_features[id]['Work Experience'] = math.ceil((last_working_day - join_date)/np.timedelta64(1, 'M'))\n",
    "    \n",
    "    employee_features[id]['Fired'] = not employee_df['LastWorkingDate'].isnull().values.all()\n",
    "        \n",
    "employee_features = pd.DataFrame.from_dict(employee_features, orient='index')"
   ]
  },
  {
   "cell_type": "code",
   "execution_count": 190,
   "metadata": {},
   "outputs": [
    {
     "data": {
      "text/html": [
       "<div>\n",
       "<style scoped>\n",
       "    .dataframe tbody tr th:only-of-type {\n",
       "        vertical-align: middle;\n",
       "    }\n",
       "\n",
       "    .dataframe tbody tr th {\n",
       "        vertical-align: top;\n",
       "    }\n",
       "\n",
       "    .dataframe thead th {\n",
       "        text-align: right;\n",
       "    }\n",
       "</style>\n",
       "<table border=\"1\" class=\"dataframe\">\n",
       "  <thead>\n",
       "    <tr style=\"text-align: right;\">\n",
       "      <th></th>\n",
       "      <th>Emp_ID</th>\n",
       "      <th>Salary Change</th>\n",
       "      <th>Total Business Value All</th>\n",
       "      <th>Overvalue</th>\n",
       "      <th>Work Experience</th>\n",
       "      <th>Fired</th>\n",
       "    </tr>\n",
       "  </thead>\n",
       "  <tbody>\n",
       "    <tr>\n",
       "      <th>1</th>\n",
       "      <td>1</td>\n",
       "      <td>0.0</td>\n",
       "      <td>1715580</td>\n",
       "      <td>9.964975</td>\n",
       "      <td>3</td>\n",
       "      <td>True</td>\n",
       "    </tr>\n",
       "    <tr>\n",
       "      <th>2</th>\n",
       "      <td>2</td>\n",
       "      <td>0.0</td>\n",
       "      <td>0</td>\n",
       "      <td>0.000000</td>\n",
       "      <td>1</td>\n",
       "      <td>False</td>\n",
       "    </tr>\n",
       "    <tr>\n",
       "      <th>4</th>\n",
       "      <td>4</td>\n",
       "      <td>0.0</td>\n",
       "      <td>350000</td>\n",
       "      <td>1.067024</td>\n",
       "      <td>5</td>\n",
       "      <td>True</td>\n",
       "    </tr>\n",
       "    <tr>\n",
       "      <th>5</th>\n",
       "      <td>5</td>\n",
       "      <td>0.0</td>\n",
       "      <td>120360</td>\n",
       "      <td>0.865252</td>\n",
       "      <td>2</td>\n",
       "      <td>True</td>\n",
       "    </tr>\n",
       "    <tr>\n",
       "      <th>6</th>\n",
       "      <td>6</td>\n",
       "      <td>0.0</td>\n",
       "      <td>1265000</td>\n",
       "      <td>3.213596</td>\n",
       "      <td>5</td>\n",
       "      <td>False</td>\n",
       "    </tr>\n",
       "    <tr>\n",
       "      <th>...</th>\n",
       "      <td>...</td>\n",
       "      <td>...</td>\n",
       "      <td>...</td>\n",
       "      <td>...</td>\n",
       "      <td>...</td>\n",
       "      <td>...</td>\n",
       "    </tr>\n",
       "    <tr>\n",
       "      <th>2784</th>\n",
       "      <td>2784</td>\n",
       "      <td>0.0</td>\n",
       "      <td>21748820</td>\n",
       "      <td>10.942472</td>\n",
       "      <td>62</td>\n",
       "      <td>False</td>\n",
       "    </tr>\n",
       "    <tr>\n",
       "      <th>2785</th>\n",
       "      <td>2785</td>\n",
       "      <td>0.0</td>\n",
       "      <td>0</td>\n",
       "      <td>0.000000</td>\n",
       "      <td>3</td>\n",
       "      <td>True</td>\n",
       "    </tr>\n",
       "    <tr>\n",
       "      <th>2786</th>\n",
       "      <td>2786</td>\n",
       "      <td>0.0</td>\n",
       "      <td>2815090</td>\n",
       "      <td>8.843307</td>\n",
       "      <td>14</td>\n",
       "      <td>True</td>\n",
       "    </tr>\n",
       "    <tr>\n",
       "      <th>2787</th>\n",
       "      <td>2787</td>\n",
       "      <td>0.0</td>\n",
       "      <td>977830</td>\n",
       "      <td>2.344984</td>\n",
       "      <td>12</td>\n",
       "      <td>True</td>\n",
       "    </tr>\n",
       "    <tr>\n",
       "      <th>2788</th>\n",
       "      <td>2788</td>\n",
       "      <td>0.0</td>\n",
       "      <td>2298240</td>\n",
       "      <td>4.673328</td>\n",
       "      <td>6</td>\n",
       "      <td>False</td>\n",
       "    </tr>\n",
       "  </tbody>\n",
       "</table>\n",
       "<p>2381 rows × 6 columns</p>\n",
       "</div>"
      ],
      "text/plain": [
       "      Emp_ID  Salary Change  Total Business Value All  Overvalue  \\\n",
       "1          1            0.0                   1715580   9.964975   \n",
       "2          2            0.0                         0   0.000000   \n",
       "4          4            0.0                    350000   1.067024   \n",
       "5          5            0.0                    120360   0.865252   \n",
       "6          6            0.0                   1265000   3.213596   \n",
       "...      ...            ...                       ...        ...   \n",
       "2784    2784            0.0                  21748820  10.942472   \n",
       "2785    2785            0.0                         0   0.000000   \n",
       "2786    2786            0.0                   2815090   8.843307   \n",
       "2787    2787            0.0                    977830   2.344984   \n",
       "2788    2788            0.0                   2298240   4.673328   \n",
       "\n",
       "      Work Experience  Fired  \n",
       "1                   3   True  \n",
       "2                   1  False  \n",
       "4                   5   True  \n",
       "5                   2   True  \n",
       "6                   5  False  \n",
       "...               ...    ...  \n",
       "2784               62  False  \n",
       "2785                3   True  \n",
       "2786               14   True  \n",
       "2787               12   True  \n",
       "2788                6  False  \n",
       "\n",
       "[2381 rows x 6 columns]"
      ]
     },
     "execution_count": 190,
     "metadata": {},
     "output_type": "execute_result"
    }
   ],
   "source": [
    "employee_features"
   ]
  },
  {
   "cell_type": "code",
   "execution_count": 191,
   "metadata": {},
   "outputs": [],
   "source": [
    "employee_fired = employee_features[employee_features['Fired'] == True]\n",
    "employee_stayed = employee_features[employee_features['Fired'] == False]"
   ]
  },
  {
   "cell_type": "code",
   "execution_count": 192,
   "metadata": {},
   "outputs": [
    {
     "name": "stdout",
     "output_type": "stream",
     "text": [
      "Number of fired employees 1616\n"
     ]
    }
   ],
   "source": [
    "print('Number of fired employees', len(employee_fired))"
   ]
  },
  {
   "cell_type": "markdown",
   "metadata": {},
   "source": [
    "## Work experience of fired employees"
   ]
  },
  {
   "cell_type": "code",
   "execution_count": 193,
   "metadata": {},
   "outputs": [
    {
     "name": "stderr",
     "output_type": "stream",
     "text": [
      "/Library/Frameworks/Python.framework/Versions/3.7/lib/python3.7/site-packages/ipykernel_launcher.py:8: SettingWithCopyWarning: \n",
      "A value is trying to be set on a copy of a slice from a DataFrame.\n",
      "Try using .loc[row_indexer,col_indexer] = value instead\n",
      "\n",
      "See the caveats in the documentation: http://pandas.pydata.org/pandas-docs/stable/user_guide/indexing.html#returning-a-view-versus-a-copy\n",
      "  \n"
     ]
    }
   ],
   "source": [
    "experience_in_months = []\n",
    "for employee_id in list(employee_fired.index.values):\n",
    "    employee_df = df[df['Emp_ID'] == employee_id]\n",
    "    date_of_joining = employee_df['Dateofjoining'].unique()[0]\n",
    "    last_working_day = employee_df.tail(1)['LastWorkingDate']\n",
    "    experience_in_months.append(math.ceil((last_working_day - date_of_joining)/np.timedelta64(1, 'M')))\n",
    "    \n",
    "employee_fired['Experience'] = experience_in_months"
   ]
  },
  {
   "cell_type": "code",
   "execution_count": 194,
   "metadata": {},
   "outputs": [
    {
     "data": {
      "text/html": [
       "<div>\n",
       "<style scoped>\n",
       "    .dataframe tbody tr th:only-of-type {\n",
       "        vertical-align: middle;\n",
       "    }\n",
       "\n",
       "    .dataframe tbody tr th {\n",
       "        vertical-align: top;\n",
       "    }\n",
       "\n",
       "    .dataframe thead th {\n",
       "        text-align: right;\n",
       "    }\n",
       "</style>\n",
       "<table border=\"1\" class=\"dataframe\">\n",
       "  <thead>\n",
       "    <tr style=\"text-align: right;\">\n",
       "      <th></th>\n",
       "      <th>Emp_ID</th>\n",
       "      <th>Salary Change</th>\n",
       "      <th>Total Business Value All</th>\n",
       "      <th>Overvalue</th>\n",
       "      <th>Work Experience</th>\n",
       "      <th>Experience</th>\n",
       "    </tr>\n",
       "  </thead>\n",
       "  <tbody>\n",
       "    <tr>\n",
       "      <th>count</th>\n",
       "      <td>1616.000000</td>\n",
       "      <td>1616.000000</td>\n",
       "      <td>1.616000e+03</td>\n",
       "      <td>1616.000000</td>\n",
       "      <td>1616.000000</td>\n",
       "      <td>1616.000000</td>\n",
       "    </tr>\n",
       "    <tr>\n",
       "      <th>mean</th>\n",
       "      <td>1413.790223</td>\n",
       "      <td>0.000170</td>\n",
       "      <td>2.203746e+06</td>\n",
       "      <td>4.099887</td>\n",
       "      <td>12.241337</td>\n",
       "      <td>12.241337</td>\n",
       "    </tr>\n",
       "    <tr>\n",
       "      <th>std</th>\n",
       "      <td>806.795528</td>\n",
       "      <td>0.003947</td>\n",
       "      <td>4.717754e+06</td>\n",
       "      <td>5.733152</td>\n",
       "      <td>14.983332</td>\n",
       "      <td>14.983332</td>\n",
       "    </tr>\n",
       "    <tr>\n",
       "      <th>min</th>\n",
       "      <td>1.000000</td>\n",
       "      <td>0.000000</td>\n",
       "      <td>-1.385530e+06</td>\n",
       "      <td>-7.388906</td>\n",
       "      <td>0.000000</td>\n",
       "      <td>0.000000</td>\n",
       "    </tr>\n",
       "    <tr>\n",
       "      <th>25%</th>\n",
       "      <td>724.750000</td>\n",
       "      <td>0.000000</td>\n",
       "      <td>0.000000e+00</td>\n",
       "      <td>0.000000</td>\n",
       "      <td>4.000000</td>\n",
       "      <td>4.000000</td>\n",
       "    </tr>\n",
       "    <tr>\n",
       "      <th>50%</th>\n",
       "      <td>1430.500000</td>\n",
       "      <td>0.000000</td>\n",
       "      <td>4.650250e+05</td>\n",
       "      <td>2.036254</td>\n",
       "      <td>6.000000</td>\n",
       "      <td>6.000000</td>\n",
       "    </tr>\n",
       "    <tr>\n",
       "      <th>75%</th>\n",
       "      <td>2116.250000</td>\n",
       "      <td>0.000000</td>\n",
       "      <td>2.345702e+06</td>\n",
       "      <td>6.205209</td>\n",
       "      <td>13.000000</td>\n",
       "      <td>13.000000</td>\n",
       "    </tr>\n",
       "    <tr>\n",
       "      <th>max</th>\n",
       "      <td>2787.000000</td>\n",
       "      <td>0.099988</td>\n",
       "      <td>6.015383e+07</td>\n",
       "      <td>67.904861</td>\n",
       "      <td>85.000000</td>\n",
       "      <td>85.000000</td>\n",
       "    </tr>\n",
       "  </tbody>\n",
       "</table>\n",
       "</div>"
      ],
      "text/plain": [
       "            Emp_ID  Salary Change  Total Business Value All    Overvalue  \\\n",
       "count  1616.000000    1616.000000              1.616000e+03  1616.000000   \n",
       "mean   1413.790223       0.000170              2.203746e+06     4.099887   \n",
       "std     806.795528       0.003947              4.717754e+06     5.733152   \n",
       "min       1.000000       0.000000             -1.385530e+06    -7.388906   \n",
       "25%     724.750000       0.000000              0.000000e+00     0.000000   \n",
       "50%    1430.500000       0.000000              4.650250e+05     2.036254   \n",
       "75%    2116.250000       0.000000              2.345702e+06     6.205209   \n",
       "max    2787.000000       0.099988              6.015383e+07    67.904861   \n",
       "\n",
       "       Work Experience   Experience  \n",
       "count      1616.000000  1616.000000  \n",
       "mean         12.241337    12.241337  \n",
       "std          14.983332    14.983332  \n",
       "min           0.000000     0.000000  \n",
       "25%           4.000000     4.000000  \n",
       "50%           6.000000     6.000000  \n",
       "75%          13.000000    13.000000  \n",
       "max          85.000000    85.000000  "
      ]
     },
     "execution_count": 194,
     "metadata": {},
     "output_type": "execute_result"
    }
   ],
   "source": [
    "employee_fired.describe()"
   ]
  },
  {
   "cell_type": "code",
   "execution_count": 195,
   "metadata": {},
   "outputs": [
    {
     "data": {
      "image/png": "[encoded data removed]",
      "text/plain": [
       "<Figure size 432x288 with 1 Axes>"
      ]
     },
     "metadata": {
      "needs_background": "light"
     },
     "output_type": "display_data"
    }
   ],
   "source": [
    "hist = employee_fired['Experience'].hist()"
   ]
  },
  {
   "cell_type": "markdown",
   "metadata": {},
   "source": [
    "## Work experience for still working employees (on 01.12.2017)"
   ]
  },
  {
   "cell_type": "code",
   "execution_count": 196,
   "metadata": {},
   "outputs": [
    {
     "name": "stderr",
     "output_type": "stream",
     "text": [
      "/Library/Frameworks/Python.framework/Versions/3.7/lib/python3.7/site-packages/ipykernel_launcher.py:8: SettingWithCopyWarning: \n",
      "A value is trying to be set on a copy of a slice from a DataFrame.\n",
      "Try using .loc[row_indexer,col_indexer] = value instead\n",
      "\n",
      "See the caveats in the documentation: http://pandas.pydata.org/pandas-docs/stable/user_guide/indexing.html#returning-a-view-versus-a-copy\n",
      "  \n"
     ]
    }
   ],
   "source": [
    "experience_in_months = []\n",
    "for employee_id in list(employee_stayed.index.values):\n",
    "    employee_df = df[df['Emp_ID'] == employee_id]\n",
    "    date_of_joining = employee_df['Dateofjoining'].unique()[0]\n",
    "    last_working_day = pd.Timestamp(2017, 12, 1)\n",
    "    experience_in_months.append(math.ceil((last_working_day - date_of_joining)/np.timedelta64(1, 'M')))\n",
    "    \n",
    "employee_stayed['Experience'] = experience_in_months"
   ]
  },
  {
   "cell_type": "code",
   "execution_count": 197,
   "metadata": {},
   "outputs": [
    {
     "data": {
      "text/html": [
       "<div>\n",
       "<style scoped>\n",
       "    .dataframe tbody tr th:only-of-type {\n",
       "        vertical-align: middle;\n",
       "    }\n",
       "\n",
       "    .dataframe tbody tr th {\n",
       "        vertical-align: top;\n",
       "    }\n",
       "\n",
       "    .dataframe thead th {\n",
       "        text-align: right;\n",
       "    }\n",
       "</style>\n",
       "<table border=\"1\" class=\"dataframe\">\n",
       "  <thead>\n",
       "    <tr style=\"text-align: right;\">\n",
       "      <th></th>\n",
       "      <th>Emp_ID</th>\n",
       "      <th>Salary Change</th>\n",
       "      <th>Total Business Value All</th>\n",
       "      <th>Overvalue</th>\n",
       "      <th>Work Experience</th>\n",
       "      <th>Experience</th>\n",
       "    </tr>\n",
       "  </thead>\n",
       "  <tbody>\n",
       "    <tr>\n",
       "      <th>count</th>\n",
       "      <td>765.000000</td>\n",
       "      <td>765.000000</td>\n",
       "      <td>7.650000e+02</td>\n",
       "      <td>765.000000</td>\n",
       "      <td>765.000000</td>\n",
       "      <td>765.000000</td>\n",
       "    </tr>\n",
       "    <tr>\n",
       "      <th>mean</th>\n",
       "      <td>1363.271895</td>\n",
       "      <td>0.005366</td>\n",
       "      <td>9.620626e+06</td>\n",
       "      <td>7.998073</td>\n",
       "      <td>19.401307</td>\n",
       "      <td>19.401307</td>\n",
       "    </tr>\n",
       "    <tr>\n",
       "      <th>std</th>\n",
       "      <td>804.270781</td>\n",
       "      <td>0.022635</td>\n",
       "      <td>1.323157e+07</td>\n",
       "      <td>8.485381</td>\n",
       "      <td>23.753914</td>\n",
       "      <td>23.753914</td>\n",
       "    </tr>\n",
       "    <tr>\n",
       "      <th>min</th>\n",
       "      <td>2.000000</td>\n",
       "      <td>0.000000</td>\n",
       "      <td>0.000000e+00</td>\n",
       "      <td>0.000000</td>\n",
       "      <td>0.000000</td>\n",
       "      <td>0.000000</td>\n",
       "    </tr>\n",
       "    <tr>\n",
       "      <th>25%</th>\n",
       "      <td>642.000000</td>\n",
       "      <td>0.000000</td>\n",
       "      <td>2.409200e+05</td>\n",
       "      <td>1.046599</td>\n",
       "      <td>3.000000</td>\n",
       "      <td>3.000000</td>\n",
       "    </tr>\n",
       "    <tr>\n",
       "      <th>50%</th>\n",
       "      <td>1325.000000</td>\n",
       "      <td>0.000000</td>\n",
       "      <td>2.636210e+06</td>\n",
       "      <td>6.121459</td>\n",
       "      <td>7.000000</td>\n",
       "      <td>7.000000</td>\n",
       "    </tr>\n",
       "    <tr>\n",
       "      <th>75%</th>\n",
       "      <td>2070.000000</td>\n",
       "      <td>0.000000</td>\n",
       "      <td>1.629080e+07</td>\n",
       "      <td>12.016462</td>\n",
       "      <td>29.000000</td>\n",
       "      <td>29.000000</td>\n",
       "    </tr>\n",
       "    <tr>\n",
       "      <th>max</th>\n",
       "      <td>2788.000000</td>\n",
       "      <td>0.111139</td>\n",
       "      <td>9.533106e+07</td>\n",
       "      <td>68.087414</td>\n",
       "      <td>93.000000</td>\n",
       "      <td>93.000000</td>\n",
       "    </tr>\n",
       "  </tbody>\n",
       "</table>\n",
       "</div>"
      ],
      "text/plain": [
       "            Emp_ID  Salary Change  Total Business Value All   Overvalue  \\\n",
       "count   765.000000     765.000000              7.650000e+02  765.000000   \n",
       "mean   1363.271895       0.005366              9.620626e+06    7.998073   \n",
       "std     804.270781       0.022635              1.323157e+07    8.485381   \n",
       "min       2.000000       0.000000              0.000000e+00    0.000000   \n",
       "25%     642.000000       0.000000              2.409200e+05    1.046599   \n",
       "50%    1325.000000       0.000000              2.636210e+06    6.121459   \n",
       "75%    2070.000000       0.000000              1.629080e+07   12.016462   \n",
       "max    2788.000000       0.111139              9.533106e+07   68.087414   \n",
       "\n",
       "       Work Experience  Experience  \n",
       "count       765.000000  765.000000  \n",
       "mean         19.401307   19.401307  \n",
       "std          23.753914   23.753914  \n",
       "min           0.000000    0.000000  \n",
       "25%           3.000000    3.000000  \n",
       "50%           7.000000    7.000000  \n",
       "75%          29.000000   29.000000  \n",
       "max          93.000000   93.000000  "
      ]
     },
     "execution_count": 197,
     "metadata": {},
     "output_type": "execute_result"
    }
   ],
   "source": [
    "employee_stayed.describe()"
   ]
  },
  {
   "cell_type": "code",
   "execution_count": 198,
   "metadata": {},
   "outputs": [
    {
     "data": {
      "image/png": "[encoded data removed]",
      "text/plain": [
       "<Figure size 432x288 with 1 Axes>"
      ]
     },
     "metadata": {
      "needs_background": "light"
     },
     "output_type": "display_data"
    }
   ],
   "source": [
    "hist = employee_stayed['Experience'].hist()"
   ]
  },
  {
   "cell_type": "markdown",
   "metadata": {},
   "source": [
    "## Fired employees who worked only one day"
   ]
  },
  {
   "cell_type": "code",
   "execution_count": 199,
   "metadata": {},
   "outputs": [
    {
     "name": "stdout",
     "output_type": "stream",
     "text": [
      "[ 264 1207 1581 2397]\n"
     ]
    }
   ],
   "source": [
    "ids = employee_fired[employee_fired['Experience'] == 0]\n",
    "print(ids.index.values)"
   ]
  },
  {
   "cell_type": "code",
   "execution_count": 200,
   "metadata": {},
   "outputs": [
    {
     "data": {
      "text/html": [
       "<div>\n",
       "<style scoped>\n",
       "    .dataframe tbody tr th:only-of-type {\n",
       "        vertical-align: middle;\n",
       "    }\n",
       "\n",
       "    .dataframe tbody tr th {\n",
       "        vertical-align: top;\n",
       "    }\n",
       "\n",
       "    .dataframe thead th {\n",
       "        text-align: right;\n",
       "    }\n",
       "</style>\n",
       "<table border=\"1\" class=\"dataframe\">\n",
       "  <thead>\n",
       "    <tr style=\"text-align: right;\">\n",
       "      <th></th>\n",
       "      <th>MMM-YY</th>\n",
       "      <th>Emp_ID</th>\n",
       "      <th>Age</th>\n",
       "      <th>Gender</th>\n",
       "      <th>City</th>\n",
       "      <th>Education_Level</th>\n",
       "      <th>Salary</th>\n",
       "      <th>Dateofjoining</th>\n",
       "      <th>LastWorkingDate</th>\n",
       "      <th>Joining Designation</th>\n",
       "      <th>Designation</th>\n",
       "      <th>Total Business Value</th>\n",
       "      <th>Quarterly Rating</th>\n",
       "    </tr>\n",
       "  </thead>\n",
       "  <tbody>\n",
       "    <tr>\n",
       "      <th>16137</th>\n",
       "      <td>2017-05-01</td>\n",
       "      <td>2397</td>\n",
       "      <td>38</td>\n",
       "      <td>Female</td>\n",
       "      <td>C8</td>\n",
       "      <td>College</td>\n",
       "      <td>47818</td>\n",
       "      <td>2017-05-15</td>\n",
       "      <td>2017-05-15</td>\n",
       "      <td>2</td>\n",
       "      <td>2</td>\n",
       "      <td>0</td>\n",
       "      <td>1</td>\n",
       "    </tr>\n",
       "  </tbody>\n",
       "</table>\n",
       "</div>"
      ],
      "text/plain": [
       "          MMM-YY  Emp_ID  Age  Gender City Education_Level  Salary  \\\n",
       "16137 2017-05-01    2397   38  Female   C8         College   47818   \n",
       "\n",
       "      Dateofjoining LastWorkingDate  Joining Designation  Designation  \\\n",
       "16137    2017-05-15      2017-05-15                    2            2   \n",
       "\n",
       "       Total Business Value  Quarterly Rating  \n",
       "16137                     0                 1  "
      ]
     },
     "execution_count": 200,
     "metadata": {},
     "output_type": "execute_result"
    }
   ],
   "source": [
    "df[df['Emp_ID'] == 2397]"
   ]
  },
  {
   "cell_type": "markdown",
   "metadata": {},
   "source": [
    "## Find people who are supposed to still work but there are no records in the last month(s)"
   ]
  },
  {
   "cell_type": "code",
   "execution_count": 201,
   "metadata": {},
   "outputs": [
    {
     "name": "stdout",
     "output_type": "stream",
     "text": [
      "[66, 383, 612, 743, 755, 770, 920, 1173, 1224, 1339, 1437, 1449, 1454, 1561, 1629, 1663, 1706, 1758, 1893, 1894, 2132, 2268, 2547, 2685]\n"
     ]
    }
   ],
   "source": [
    "last_known_date = np.datetime64('2017-12-01T00:00:00.000000000')\n",
    "\n",
    "missing_ids = []\n",
    "for employee in list(employee_stayed.index.values):\n",
    "    employee_df = df[df['Emp_ID'] == employee]\n",
    "    records_dates = employee_df['MMM-YY'].unique()\n",
    "    if last_known_date in records_dates:\n",
    "        continue\n",
    "    else:\n",
    "        #print(False)\n",
    "        missing_ids.append(employee)\n",
    "        \n",
    "print(missing_ids)"
   ]
  },
  {
   "cell_type": "code",
   "execution_count": 202,
   "metadata": {},
   "outputs": [],
   "source": [
    "x = df[df['Emp_ID'] == 25]['LastWorkingDate']"
   ]
  },
  {
   "cell_type": "markdown",
   "metadata": {},
   "source": [
    "## Some attempts"
   ]
  },
  {
   "cell_type": "code",
   "execution_count": 248,
   "metadata": {},
   "outputs": [],
   "source": [
    "df_test = pd.read_csv('../data/test_ocLJSTx.csv')\n",
    "df_test = df_test['Emp_ID'].tolist()\n",
    "\n",
    "# Remove employees with this ids\n",
    "df_train = employee_features[~employee_features['Emp_ID'].isin(df_test)]"
   ]
  },
  {
   "cell_type": "code",
   "execution_count": 256,
   "metadata": {},
   "outputs": [],
   "source": [
    "y = df_train['Fired']\n",
    "X = df_train.drop('Fired', axis=1)\n",
    "\n",
    "X_train, X_test, y_train, y_test = train_test_split(X, y, test_size=0.2, random_state=1234, stratify=df_train['Fired'])"
   ]
  },
  {
   "cell_type": "code",
   "execution_count": 259,
   "metadata": {},
   "outputs": [],
   "source": [
    "pipelines = {\n",
    "       'l1': make_pipeline(StandardScaler(), \n",
    "             LogisticRegression(penalty='l1', random_state=123)),\n",
    "       'l2': make_pipeline(StandardScaler(), \n",
    "             LogisticRegression(penalty='l2', random_state=123)),\n",
    "       'rf': make_pipeline(\n",
    "             RandomForestClassifier(random_state=123)),\n",
    "       'gb': make_pipeline(\n",
    "             GradientBoostingClassifier(random_state=123))\n",
    "            }"
   ]
  },
  {
   "cell_type": "code",
   "execution_count": 260,
   "metadata": {},
   "outputs": [],
   "source": [
    "l1_hyperparameters = {'logisticregression__C' : [0.001, 0.005, 0.01, \n",
    "                       0.05, 0.1, 0.5, 1, 5, 10, 50, 100, 500, 1000]\n",
    "                     }\n",
    "l2_hyperparameters = {'logisticregression__C' : \n",
    "                       [0.001, 0.005, 0.01, 0.05, 0.1, 0.5, \n",
    "                        1, 5, 10, 50, 100, 500, 1000]\n",
    "                     }"
   ]
  },
  {
   "cell_type": "code",
   "execution_count": 261,
   "metadata": {},
   "outputs": [],
   "source": [
    "rf_hyperparameters = {\n",
    "    'randomforestclassifier__n_estimators' : [100, 200],\n",
    "    'randomforestclassifier__max_features' : ['auto', 'sqrt', 0.33],\n",
    "    'randomforestclassifier__min_samples_leaf' : [1, 3, 5, 10]\n",
    "    }"
   ]
  },
  {
   "cell_type": "code",
   "execution_count": 262,
   "metadata": {},
   "outputs": [],
   "source": [
    "gb_hyperparameters = {\n",
    "    'gradientboostingclassifier__n_estimators' : [100, 200],\n",
    "    'gradientboostingclassifier__learning_rate' : [0.05, 0.1, 0.2],\n",
    "    'gradientboostingclassifier__max_depth' : [1, 3, 5]\n",
    "    }"
   ]
  },
  {
   "cell_type": "code",
   "execution_count": 263,
   "metadata": {},
   "outputs": [],
   "source": [
    "hyperparameters = {\n",
    "    'l1' : l1_hyperparameters,\n",
    "    'l2' : l2_hyperparameters,\n",
    "    'rf' : rf_hyperparameters,\n",
    "    'gb' : gb_hyperparameters\n",
    "    }"
   ]
  },
  {
   "cell_type": "code",
   "execution_count": 265,
   "metadata": {},
   "outputs": [
    {
     "name": "stderr",
     "output_type": "stream",
     "text": [
      "/Library/Frameworks/Python.framework/Versions/3.7/lib/python3.7/site-packages/sklearn/linear_model/logistic.py:432: FutureWarning: Default solver will be changed to 'lbfgs' in 0.22. Specify a solver to silence this warning.\n",
      "  FutureWarning)\n",
      "/Library/Frameworks/Python.framework/Versions/3.7/lib/python3.7/site-packages/sklearn/linear_model/logistic.py:432: FutureWarning: Default solver will be changed to 'lbfgs' in 0.22. Specify a solver to silence this warning.\n",
      "  FutureWarning)\n"
     ]
    }
   ],
   "source": [
    "fitted_models = {}\n",
    "for name, pipeline in pipelines.items():\n",
    "    model = GridSearchCV(pipeline, \n",
    "                         hyperparameters[name], \n",
    "                         cv=10, \n",
    "                         n_jobs=-1)\n",
    "    model.fit(X_train, y_train)\n",
    "    fitted_models[name] = model"
   ]
  },
  {
   "cell_type": "code",
   "execution_count": 266,
   "metadata": {},
   "outputs": [
    {
     "name": "stdout",
     "output_type": "stream",
     "text": [
      "l1 0.9855182926829268\n",
      "l2 0.9855182926829268\n",
      "rf 0.9855182926829268\n",
      "gb 0.9855182926829268\n"
     ]
    }
   ],
   "source": [
    "for name, model in fitted_models.items():\n",
    "    print(name, model.best_score_)"
   ]
  },
  {
   "cell_type": "code",
   "execution_count": 277,
   "metadata": {},
   "outputs": [
    {
     "name": "stdout",
     "output_type": "stream",
     "text": [
      "Results for: l1\n",
      "[[  0   5]\n",
      " [  0 323]]\n",
      "Accuracy: 0.9847560975609756\n",
      "Precision: 0.9847560975609756\n",
      "Recall: 1.0\n",
      "F1: 0.9923195084485407\n"
     ]
    },
    {
     "data": {
      "image/png": "[encoded data removed]",
      "text/plain": [
       "<Figure size 432x288 with 1 Axes>"
      ]
     },
     "metadata": {
      "needs_background": "light"
     },
     "output_type": "display_data"
    },
    {
     "name": "stdout",
     "output_type": "stream",
     "text": [
      "AUROC: 0.5\n",
      "Results for: l2\n",
      "[[  0   5]\n",
      " [  0 323]]\n",
      "Accuracy: 0.9847560975609756\n",
      "Precision: 0.9847560975609756\n",
      "Recall: 1.0\n",
      "F1: 0.9923195084485407\n"
     ]
    },
    {
     "data": {
      "image/png": "[encoded data removed]",
      "text/plain": [
       "<Figure size 432x288 with 1 Axes>"
      ]
     },
     "metadata": {
      "needs_background": "light"
     },
     "output_type": "display_data"
    },
    {
     "name": "stdout",
     "output_type": "stream",
     "text": [
      "AUROC: 0.6885448916408669\n",
      "Results for: rf\n",
      "[[  2   3]\n",
      " [  1 322]]\n",
      "Accuracy: 0.9878048780487805\n",
      "Precision: 0.9907692307692307\n",
      "Recall: 0.9969040247678018\n",
      "F1: 0.9923195084485407\n"
     ]
    },
    {
     "data": {
      "image/png": "[encoded data removed]",
      "text/plain": [
       "<Figure size 432x288 with 1 Axes>"
      ]
     },
     "metadata": {
      "needs_background": "light"
     },
     "output_type": "display_data"
    },
    {
     "name": "stdout",
     "output_type": "stream",
     "text": [
      "AUROC: 0.8204334365325077\n",
      "Results for: gb\n",
      "[[  0   5]\n",
      " [  0 323]]\n",
      "Accuracy: 0.9847560975609756\n",
      "Precision: 0.9847560975609756\n",
      "Recall: 1.0\n",
      "F1: 0.9923195084485407\n"
     ]
    },
    {
     "data": {
      "image/png": "[encoded data removed]",
      "text/plain": [
       "<Figure size 432x288 with 1 Axes>"
      ]
     },
     "metadata": {
      "needs_background": "light"
     },
     "output_type": "display_data"
    },
    {
     "name": "stdout",
     "output_type": "stream",
     "text": [
      "AUROC: 0.8408668730650154\n"
     ]
    }
   ],
   "source": [
    "for name, model in fitted_models.items():\n",
    "    print('Results for:', name)\n",
    "    \n",
    "    # obtain predictions\n",
    "    pred = fitted_models[name].predict(X_test)\n",
    "    # confusion matrix\n",
    "    cm = confusion_matrix(y_test, pred)\n",
    "    print(cm)\n",
    "    # accuracy score\n",
    "    print('Accuracy:', accuracy_score(y_test, pred))\n",
    "    \n",
    "    # precision\n",
    "    precision = cm[1][1]/(cm[0][1]+cm[1][1])\n",
    "    print('Precision:', precision)\n",
    "    \n",
    "    # recall\n",
    "    recall = cm[1][1]/(cm[1][0]+cm[1][1])\n",
    "    print('Recall:', recall)\n",
    "    \n",
    "    # F1_score\n",
    "    print('F1:', f1_score(y_test, [True,]*len(y_test)))\n",
    "    \n",
    "    # obtain prediction probabilities\n",
    "    pred = fitted_models[name].predict_proba(X_test)\n",
    "    pred = [p[1] for p in pred]\n",
    "    # plot ROC\n",
    "    fpr, tpr, thresholds = roc_curve(y_test, pred) \n",
    "    plt.title('Receiver Operating Characteristic (ROC)')\n",
    "    plt.plot(fpr, tpr, label=name)\n",
    "    plt.legend(loc='lower right')\n",
    "    plt.plot([0,1],[0,1],'k--')\n",
    "    plt.xlim([-0.1,1.1])\n",
    "    plt.ylim([-0.1,1.1])\n",
    "    plt.ylabel('True Positive Rate (TPR) i.e. Recall')\n",
    "    plt.xlabel('False Positive Rate (FPR)')\n",
    "    plt.show()\n",
    "    \n",
    "    # AUROC score\n",
    "    print('AUROC:', roc_auc_score(y_test, pred))"
   ]
  },
  {
   "cell_type": "markdown",
   "metadata": {},
   "source": [
    "## Predict values"
   ]
  },
  {
   "cell_type": "code",
   "execution_count": 293,
   "metadata": {},
   "outputs": [],
   "source": [
    "df_test = pd.read_csv('../data/test_ocLJSTx.csv')\n",
    "df_test = df_test['Emp_ID'].tolist()\n",
    "result = employee_features[employee_features['Emp_ID'].isin(df_test)]\n",
    "y_final = result['Fired']\n",
    "X_final = result.drop('Fired', axis=1)"
   ]
  },
  {
   "cell_type": "code",
   "execution_count": 294,
   "metadata": {},
   "outputs": [],
   "source": [
    "final = fitted_models[name].predict(X_final)"
   ]
  },
  {
   "cell_type": "code",
   "execution_count": 298,
   "metadata": {},
   "outputs": [],
   "source": [
    "df_test = pd.read_csv('../data/test_ocLJSTx.csv')\n",
    "df_test['Target'] = final.astype(int)"
   ]
  },
  {
   "cell_type": "code",
   "execution_count": 301,
   "metadata": {},
   "outputs": [],
   "source": [
    "df_test.to_csv('output.csv', index=False)"
   ]
  },
  {
   "cell_type": "code",
   "execution_count": null,
   "metadata": {},
   "outputs": [],
   "source": []
  }
 ],
 "metadata": {
  "colab": {
   "name": "Employees churn.ipynb",
   "provenance": []
  },
  "kernelspec": {
   "display_name": "Python 3",
   "language": "python",
   "name": "python3"
  },
  "language_info": {
   "codemirror_mode": {
    "name": "ipython",
    "version": 3
   },
   "file_extension": ".py",
   "mimetype": "text/x-python",
   "name": "python",
   "nbconvert_exporter": "python",
   "pygments_lexer": "ipython3",
   "version": "3.7.4"
  }
 },
 "nbformat": 4,
 "nbformat_minor": 1
}
